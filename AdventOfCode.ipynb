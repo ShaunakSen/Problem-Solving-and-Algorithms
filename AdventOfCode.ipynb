{
  "nbformat": 4,
  "nbformat_minor": 0,
  "metadata": {
    "colab": {
      "name": "AdventOfCode.ipynb",
      "provenance": [],
      "collapsed_sections": [],
      "authorship_tag": "ABX9TyNRkqHr/JA3WPWFhSoopwFD",
      "include_colab_link": true
    },
    "kernelspec": {
      "name": "python3",
      "display_name": "Python 3"
    },
    "language_info": {
      "name": "python"
    }
  },
  "cells": [
    {
      "cell_type": "markdown",
      "metadata": {
        "id": "view-in-github",
        "colab_type": "text"
      },
      "source": [
        "<a href=\"https://colab.research.google.com/github/ShaunakSen/problem-solving-with-code/blob/master/AdventOfCode.ipynb\" target=\"_parent\"><img src=\"https://colab.research.google.com/assets/colab-badge.svg\" alt=\"Open In Colab\"/></a>"
      ]
    },
    {
      "cell_type": "markdown",
      "source": [
        "# Advent of Code 2021\n",
        "\n",
        "> https://adventofcode.com/2021\n",
        "\n",
        "---\n"
      ],
      "metadata": {
        "id": "rqnuGcaVap9y"
      }
    },
    {
      "cell_type": "markdown",
      "source": [
        "## Day 1 Part 1"
      ],
      "metadata": {
        "id": "Mlic9OWiav35"
      }
    },
    {
      "cell_type": "code",
      "execution_count": 14,
      "metadata": {
        "id": "GQWXTc_JisFh"
      },
      "outputs": [],
      "source": [
        "import numpy as np\n",
        "import pandas as pd\n",
        "from copy import deepcopy"
      ]
    },
    {
      "cell_type": "code",
      "source": [
        "data = pd.read_csv(filepath_or_buffer='./input.txt', delimiter='\\n', names=['depth'])"
      ],
      "metadata": {
        "id": "RNd-OO1HjGDQ"
      },
      "execution_count": 25,
      "outputs": []
    },
    {
      "cell_type": "code",
      "source": [
        "prev_depth = [None] + list(data['depth'])[0: len(data)-1]"
      ],
      "metadata": {
        "id": "Oao00vD_jSkg"
      },
      "execution_count": null,
      "outputs": []
    },
    {
      "cell_type": "code",
      "source": [
        "def count_increasing_rows(data, col='depth'):\n",
        "  data = deepcopy(data)\n",
        "  ### create a prev_depth col\n",
        "  prev_depth = [None] + list(data[col])[0: len(data)-1]\n",
        "  data['prev_col'] = prev_depth\n",
        "\n",
        "\n",
        "  return len(data.query(f'{col} > prev_col'))\n",
        "\n",
        "\n",
        "count_increasing_rows(data)"
      ],
      "metadata": {
        "colab": {
          "base_uri": "https://localhost:8080/"
        },
        "id": "mapDaikMUKUX",
        "outputId": "5a76672a-0e34-4ad1-edd1-a4ef2a6a9ff7"
      },
      "execution_count": 28,
      "outputs": [
        {
          "output_type": "execute_result",
          "data": {
            "text/plain": [
              "1228"
            ]
          },
          "metadata": {},
          "execution_count": 28
        }
      ]
    },
    {
      "cell_type": "markdown",
      "source": [
        "## Day 1 Part 2"
      ],
      "metadata": {
        "id": "fV1SFp0Ums1D"
      }
    },
    {
      "cell_type": "code",
      "source": [
        "data.head()"
      ],
      "metadata": {
        "colab": {
          "base_uri": "https://localhost:8080/",
          "height": 206
        },
        "id": "7LfdlUYdmuE7",
        "outputId": "0ae75e72-3e5e-4b4c-af59-c390f27b1546"
      },
      "execution_count": 17,
      "outputs": [
        {
          "output_type": "execute_result",
          "data": {
            "text/html": [
              "<div>\n",
              "<style scoped>\n",
              "    .dataframe tbody tr th:only-of-type {\n",
              "        vertical-align: middle;\n",
              "    }\n",
              "\n",
              "    .dataframe tbody tr th {\n",
              "        vertical-align: top;\n",
              "    }\n",
              "\n",
              "    .dataframe thead th {\n",
              "        text-align: right;\n",
              "    }\n",
              "</style>\n",
              "<table border=\"1\" class=\"dataframe\">\n",
              "  <thead>\n",
              "    <tr style=\"text-align: right;\">\n",
              "      <th></th>\n",
              "      <th>depth</th>\n",
              "    </tr>\n",
              "  </thead>\n",
              "  <tbody>\n",
              "    <tr>\n",
              "      <th>0</th>\n",
              "      <td>196</td>\n",
              "    </tr>\n",
              "    <tr>\n",
              "      <th>1</th>\n",
              "      <td>197</td>\n",
              "    </tr>\n",
              "    <tr>\n",
              "      <th>2</th>\n",
              "      <td>176</td>\n",
              "    </tr>\n",
              "    <tr>\n",
              "      <th>3</th>\n",
              "      <td>182</td>\n",
              "    </tr>\n",
              "    <tr>\n",
              "      <th>4</th>\n",
              "      <td>179</td>\n",
              "    </tr>\n",
              "  </tbody>\n",
              "</table>\n",
              "</div>"
            ],
            "text/plain": [
              "   depth\n",
              "0    196\n",
              "1    197\n",
              "2    176\n",
              "3    182\n",
              "4    179"
            ]
          },
          "metadata": {},
          "execution_count": 17
        }
      ]
    },
    {
      "cell_type": "code",
      "source": [
        "data.rolling(window=3).sum()"
      ],
      "metadata": {
        "colab": {
          "base_uri": "https://localhost:8080/",
          "height": 424
        },
        "id": "XdNTEafSmu7g",
        "outputId": "8ba7ec62-acfc-4492-f9e1-584ae3a6faee"
      },
      "execution_count": 10,
      "outputs": [
        {
          "output_type": "execute_result",
          "data": {
            "text/html": [
              "<div>\n",
              "<style scoped>\n",
              "    .dataframe tbody tr th:only-of-type {\n",
              "        vertical-align: middle;\n",
              "    }\n",
              "\n",
              "    .dataframe tbody tr th {\n",
              "        vertical-align: top;\n",
              "    }\n",
              "\n",
              "    .dataframe thead th {\n",
              "        text-align: right;\n",
              "    }\n",
              "</style>\n",
              "<table border=\"1\" class=\"dataframe\">\n",
              "  <thead>\n",
              "    <tr style=\"text-align: right;\">\n",
              "      <th></th>\n",
              "      <th>depth</th>\n",
              "      <th>prev_depth</th>\n",
              "      <th>prev_col</th>\n",
              "    </tr>\n",
              "  </thead>\n",
              "  <tbody>\n",
              "    <tr>\n",
              "      <th>0</th>\n",
              "      <td>NaN</td>\n",
              "      <td>NaN</td>\n",
              "      <td>NaN</td>\n",
              "    </tr>\n",
              "    <tr>\n",
              "      <th>1</th>\n",
              "      <td>NaN</td>\n",
              "      <td>NaN</td>\n",
              "      <td>NaN</td>\n",
              "    </tr>\n",
              "    <tr>\n",
              "      <th>2</th>\n",
              "      <td>569.0</td>\n",
              "      <td>NaN</td>\n",
              "      <td>NaN</td>\n",
              "    </tr>\n",
              "    <tr>\n",
              "      <th>3</th>\n",
              "      <td>555.0</td>\n",
              "      <td>569.0</td>\n",
              "      <td>569.0</td>\n",
              "    </tr>\n",
              "    <tr>\n",
              "      <th>4</th>\n",
              "      <td>537.0</td>\n",
              "      <td>555.0</td>\n",
              "      <td>555.0</td>\n",
              "    </tr>\n",
              "    <tr>\n",
              "      <th>...</th>\n",
              "      <td>...</td>\n",
              "      <td>...</td>\n",
              "      <td>...</td>\n",
              "    </tr>\n",
              "    <tr>\n",
              "      <th>1995</th>\n",
              "      <td>11124.0</td>\n",
              "      <td>11115.0</td>\n",
              "      <td>11115.0</td>\n",
              "    </tr>\n",
              "    <tr>\n",
              "      <th>1996</th>\n",
              "      <td>11136.0</td>\n",
              "      <td>11124.0</td>\n",
              "      <td>11124.0</td>\n",
              "    </tr>\n",
              "    <tr>\n",
              "      <th>1997</th>\n",
              "      <td>11155.0</td>\n",
              "      <td>11136.0</td>\n",
              "      <td>11136.0</td>\n",
              "    </tr>\n",
              "    <tr>\n",
              "      <th>1998</th>\n",
              "      <td>11172.0</td>\n",
              "      <td>11155.0</td>\n",
              "      <td>11155.0</td>\n",
              "    </tr>\n",
              "    <tr>\n",
              "      <th>1999</th>\n",
              "      <td>11175.0</td>\n",
              "      <td>11172.0</td>\n",
              "      <td>11172.0</td>\n",
              "    </tr>\n",
              "  </tbody>\n",
              "</table>\n",
              "<p>2000 rows × 3 columns</p>\n",
              "</div>"
            ],
            "text/plain": [
              "        depth  prev_depth  prev_col\n",
              "0         NaN         NaN       NaN\n",
              "1         NaN         NaN       NaN\n",
              "2       569.0         NaN       NaN\n",
              "3       555.0       569.0     569.0\n",
              "4       537.0       555.0     555.0\n",
              "...       ...         ...       ...\n",
              "1995  11124.0     11115.0   11115.0\n",
              "1996  11136.0     11124.0   11124.0\n",
              "1997  11155.0     11136.0   11136.0\n",
              "1998  11172.0     11155.0   11155.0\n",
              "1999  11175.0     11172.0   11172.0\n",
              "\n",
              "[2000 rows x 3 columns]"
            ]
          },
          "metadata": {},
          "execution_count": 10
        }
      ]
    },
    {
      "cell_type": "code",
      "source": [
        "def count_increasing_rows_window(data, window=3):\n",
        "  data = deepcopy(data)\n",
        "  data['rolling_depth'] = data.rolling(window=3).sum()\n",
        "  \n",
        "  return count_increasing_rows(data, col='rolling_depth')\n",
        "\n",
        "count_increasing_rows_window(data)"
      ],
      "metadata": {
        "id": "ymMKWaQrnD-Q",
        "colab": {
          "base_uri": "https://localhost:8080/"
        },
        "outputId": "8f0326c3-9cd9-4b88-eb48-99a4e7236a23"
      },
      "execution_count": 29,
      "outputs": [
        {
          "output_type": "execute_result",
          "data": {
            "text/plain": [
              "1257"
            ]
          },
          "metadata": {},
          "execution_count": 29
        }
      ]
    },
    {
      "cell_type": "markdown",
      "source": [
        "## Day 2 Part 1"
      ],
      "metadata": {
        "id": "w8d5ZHCXf2Qy"
      }
    },
    {
      "cell_type": "code",
      "source": [
        "data = pd.read_csv(filepath_or_buffer='./input.txt', delimiter='\\n', names=['instruction'])"
      ],
      "metadata": {
        "id": "cNXFBKP9erLx"
      },
      "execution_count": 53,
      "outputs": []
    },
    {
      "cell_type": "code",
      "source": [
        "data.head()"
      ],
      "metadata": {
        "colab": {
          "base_uri": "https://localhost:8080/",
          "height": 206
        },
        "id": "6R-l4h8Ff-GM",
        "outputId": "88976ce9-c728-4df8-be7c-489a31ae3bbb"
      },
      "execution_count": 54,
      "outputs": [
        {
          "output_type": "execute_result",
          "data": {
            "text/html": [
              "<div>\n",
              "<style scoped>\n",
              "    .dataframe tbody tr th:only-of-type {\n",
              "        vertical-align: middle;\n",
              "    }\n",
              "\n",
              "    .dataframe tbody tr th {\n",
              "        vertical-align: top;\n",
              "    }\n",
              "\n",
              "    .dataframe thead th {\n",
              "        text-align: right;\n",
              "    }\n",
              "</style>\n",
              "<table border=\"1\" class=\"dataframe\">\n",
              "  <thead>\n",
              "    <tr style=\"text-align: right;\">\n",
              "      <th></th>\n",
              "      <th>instruction</th>\n",
              "    </tr>\n",
              "  </thead>\n",
              "  <tbody>\n",
              "    <tr>\n",
              "      <th>0</th>\n",
              "      <td>forward 2</td>\n",
              "    </tr>\n",
              "    <tr>\n",
              "      <th>1</th>\n",
              "      <td>down 4</td>\n",
              "    </tr>\n",
              "    <tr>\n",
              "      <th>2</th>\n",
              "      <td>down 1</td>\n",
              "    </tr>\n",
              "    <tr>\n",
              "      <th>3</th>\n",
              "      <td>down 4</td>\n",
              "    </tr>\n",
              "    <tr>\n",
              "      <th>4</th>\n",
              "      <td>forward 3</td>\n",
              "    </tr>\n",
              "  </tbody>\n",
              "</table>\n",
              "</div>"
            ],
            "text/plain": [
              "  instruction\n",
              "0   forward 2\n",
              "1      down 4\n",
              "2      down 1\n",
              "3      down 4\n",
              "4   forward 3"
            ]
          },
          "metadata": {},
          "execution_count": 54
        }
      ]
    },
    {
      "cell_type": "code",
      "source": [
        "instructions_pair = [instruction_.split(' ') for instruction_ in data['instruction']]\n",
        "\n",
        "direction = [pair_[0] for pair_ in instructions_pair]\n",
        "value = [int(pair_[1]) for pair_ in instructions_pair]\n",
        "\n",
        "data['direction'] = direction\n",
        "data['value'] = value"
      ],
      "metadata": {
        "id": "CBKjG8e7gNTX"
      },
      "execution_count": 55,
      "outputs": []
    },
    {
      "cell_type": "code",
      "source": [
        "data['is_horizontal'] = [1 if dir_ == 'forward' else 0 for dir_ in data['direction']]"
      ],
      "metadata": {
        "id": "bR7QRbN4gXIn"
      },
      "execution_count": 56,
      "outputs": []
    },
    {
      "cell_type": "code",
      "source": [
        "data.head()"
      ],
      "metadata": {
        "colab": {
          "base_uri": "https://localhost:8080/",
          "height": 206
        },
        "id": "MZbvv_f9hRzf",
        "outputId": "63dcd674-aace-4c11-a11c-4400115fb01f"
      },
      "execution_count": 57,
      "outputs": [
        {
          "output_type": "execute_result",
          "data": {
            "text/html": [
              "<div>\n",
              "<style scoped>\n",
              "    .dataframe tbody tr th:only-of-type {\n",
              "        vertical-align: middle;\n",
              "    }\n",
              "\n",
              "    .dataframe tbody tr th {\n",
              "        vertical-align: top;\n",
              "    }\n",
              "\n",
              "    .dataframe thead th {\n",
              "        text-align: right;\n",
              "    }\n",
              "</style>\n",
              "<table border=\"1\" class=\"dataframe\">\n",
              "  <thead>\n",
              "    <tr style=\"text-align: right;\">\n",
              "      <th></th>\n",
              "      <th>instruction</th>\n",
              "      <th>direction</th>\n",
              "      <th>value</th>\n",
              "      <th>is_horizontal</th>\n",
              "    </tr>\n",
              "  </thead>\n",
              "  <tbody>\n",
              "    <tr>\n",
              "      <th>0</th>\n",
              "      <td>forward 2</td>\n",
              "      <td>forward</td>\n",
              "      <td>2</td>\n",
              "      <td>1</td>\n",
              "    </tr>\n",
              "    <tr>\n",
              "      <th>1</th>\n",
              "      <td>down 4</td>\n",
              "      <td>down</td>\n",
              "      <td>4</td>\n",
              "      <td>0</td>\n",
              "    </tr>\n",
              "    <tr>\n",
              "      <th>2</th>\n",
              "      <td>down 1</td>\n",
              "      <td>down</td>\n",
              "      <td>1</td>\n",
              "      <td>0</td>\n",
              "    </tr>\n",
              "    <tr>\n",
              "      <th>3</th>\n",
              "      <td>down 4</td>\n",
              "      <td>down</td>\n",
              "      <td>4</td>\n",
              "      <td>0</td>\n",
              "    </tr>\n",
              "    <tr>\n",
              "      <th>4</th>\n",
              "      <td>forward 3</td>\n",
              "      <td>forward</td>\n",
              "      <td>3</td>\n",
              "      <td>1</td>\n",
              "    </tr>\n",
              "  </tbody>\n",
              "</table>\n",
              "</div>"
            ],
            "text/plain": [
              "  instruction direction  value  is_horizontal\n",
              "0   forward 2   forward      2              1\n",
              "1      down 4      down      4              0\n",
              "2      down 1      down      1              0\n",
              "3      down 4      down      4              0\n",
              "4   forward 3   forward      3              1"
            ]
          },
          "metadata": {},
          "execution_count": 57
        }
      ]
    },
    {
      "cell_type": "code",
      "source": [
        "list(data['value']* data['is_horizontal'])"
      ],
      "metadata": {
        "id": "ntWyrkzQhl2F"
      },
      "execution_count": null,
      "outputs": []
    },
    {
      "cell_type": "code",
      "source": [
        "total_forward = np.sum(data['value']* data['is_horizontal'])"
      ],
      "metadata": {
        "id": "7YDiA0LXh5pz"
      },
      "execution_count": 59,
      "outputs": []
    },
    {
      "cell_type": "code",
      "source": [
        "total_forward"
      ],
      "metadata": {
        "colab": {
          "base_uri": "https://localhost:8080/"
        },
        "id": "sPWNuezerlD0",
        "outputId": "e3c03dba-6c5c-4d50-a76e-ef1869450efc"
      },
      "execution_count": 60,
      "outputs": [
        {
          "output_type": "execute_result",
          "data": {
            "text/plain": [
              "1970"
            ]
          },
          "metadata": {},
          "execution_count": 60
        }
      ]
    },
    {
      "cell_type": "code",
      "source": [
        "data['downward'] = [1 if dir_ == 'down' else -1 if dir_ == 'up' else 0 for dir_ in data['direction']]\n",
        "data.head()"
      ],
      "metadata": {
        "colab": {
          "base_uri": "https://localhost:8080/",
          "height": 206
        },
        "id": "pnWcH8G7rmYS",
        "outputId": "5fd56b84-b530-4a67-d99a-af27e6fc6680"
      },
      "execution_count": 61,
      "outputs": [
        {
          "output_type": "execute_result",
          "data": {
            "text/html": [
              "<div>\n",
              "<style scoped>\n",
              "    .dataframe tbody tr th:only-of-type {\n",
              "        vertical-align: middle;\n",
              "    }\n",
              "\n",
              "    .dataframe tbody tr th {\n",
              "        vertical-align: top;\n",
              "    }\n",
              "\n",
              "    .dataframe thead th {\n",
              "        text-align: right;\n",
              "    }\n",
              "</style>\n",
              "<table border=\"1\" class=\"dataframe\">\n",
              "  <thead>\n",
              "    <tr style=\"text-align: right;\">\n",
              "      <th></th>\n",
              "      <th>instruction</th>\n",
              "      <th>direction</th>\n",
              "      <th>value</th>\n",
              "      <th>is_horizontal</th>\n",
              "      <th>downward</th>\n",
              "    </tr>\n",
              "  </thead>\n",
              "  <tbody>\n",
              "    <tr>\n",
              "      <th>0</th>\n",
              "      <td>forward 2</td>\n",
              "      <td>forward</td>\n",
              "      <td>2</td>\n",
              "      <td>1</td>\n",
              "      <td>0</td>\n",
              "    </tr>\n",
              "    <tr>\n",
              "      <th>1</th>\n",
              "      <td>down 4</td>\n",
              "      <td>down</td>\n",
              "      <td>4</td>\n",
              "      <td>0</td>\n",
              "      <td>1</td>\n",
              "    </tr>\n",
              "    <tr>\n",
              "      <th>2</th>\n",
              "      <td>down 1</td>\n",
              "      <td>down</td>\n",
              "      <td>1</td>\n",
              "      <td>0</td>\n",
              "      <td>1</td>\n",
              "    </tr>\n",
              "    <tr>\n",
              "      <th>3</th>\n",
              "      <td>down 4</td>\n",
              "      <td>down</td>\n",
              "      <td>4</td>\n",
              "      <td>0</td>\n",
              "      <td>1</td>\n",
              "    </tr>\n",
              "    <tr>\n",
              "      <th>4</th>\n",
              "      <td>forward 3</td>\n",
              "      <td>forward</td>\n",
              "      <td>3</td>\n",
              "      <td>1</td>\n",
              "      <td>0</td>\n",
              "    </tr>\n",
              "  </tbody>\n",
              "</table>\n",
              "</div>"
            ],
            "text/plain": [
              "  instruction direction  value  is_horizontal  downward\n",
              "0   forward 2   forward      2              1         0\n",
              "1      down 4      down      4              0         1\n",
              "2      down 1      down      1              0         1\n",
              "3      down 4      down      4              0         1\n",
              "4   forward 3   forward      3              1         0"
            ]
          },
          "metadata": {},
          "execution_count": 61
        }
      ]
    },
    {
      "cell_type": "code",
      "source": [
        "data.sample(10)"
      ],
      "metadata": {
        "colab": {
          "base_uri": "https://localhost:8080/",
          "height": 363
        },
        "id": "oDWkgkXur9F1",
        "outputId": "0dd201cc-e1e1-4575-812f-e6945dcd9403"
      },
      "execution_count": 62,
      "outputs": [
        {
          "output_type": "execute_result",
          "data": {
            "text/html": [
              "<div>\n",
              "<style scoped>\n",
              "    .dataframe tbody tr th:only-of-type {\n",
              "        vertical-align: middle;\n",
              "    }\n",
              "\n",
              "    .dataframe tbody tr th {\n",
              "        vertical-align: top;\n",
              "    }\n",
              "\n",
              "    .dataframe thead th {\n",
              "        text-align: right;\n",
              "    }\n",
              "</style>\n",
              "<table border=\"1\" class=\"dataframe\">\n",
              "  <thead>\n",
              "    <tr style=\"text-align: right;\">\n",
              "      <th></th>\n",
              "      <th>instruction</th>\n",
              "      <th>direction</th>\n",
              "      <th>value</th>\n",
              "      <th>is_horizontal</th>\n",
              "      <th>downward</th>\n",
              "    </tr>\n",
              "  </thead>\n",
              "  <tbody>\n",
              "    <tr>\n",
              "      <th>910</th>\n",
              "      <td>down 6</td>\n",
              "      <td>down</td>\n",
              "      <td>6</td>\n",
              "      <td>0</td>\n",
              "      <td>1</td>\n",
              "    </tr>\n",
              "    <tr>\n",
              "      <th>85</th>\n",
              "      <td>down 3</td>\n",
              "      <td>down</td>\n",
              "      <td>3</td>\n",
              "      <td>0</td>\n",
              "      <td>1</td>\n",
              "    </tr>\n",
              "    <tr>\n",
              "      <th>165</th>\n",
              "      <td>down 4</td>\n",
              "      <td>down</td>\n",
              "      <td>4</td>\n",
              "      <td>0</td>\n",
              "      <td>1</td>\n",
              "    </tr>\n",
              "    <tr>\n",
              "      <th>25</th>\n",
              "      <td>down 1</td>\n",
              "      <td>down</td>\n",
              "      <td>1</td>\n",
              "      <td>0</td>\n",
              "      <td>1</td>\n",
              "    </tr>\n",
              "    <tr>\n",
              "      <th>328</th>\n",
              "      <td>up 2</td>\n",
              "      <td>up</td>\n",
              "      <td>2</td>\n",
              "      <td>0</td>\n",
              "      <td>-1</td>\n",
              "    </tr>\n",
              "    <tr>\n",
              "      <th>447</th>\n",
              "      <td>forward 7</td>\n",
              "      <td>forward</td>\n",
              "      <td>7</td>\n",
              "      <td>1</td>\n",
              "      <td>0</td>\n",
              "    </tr>\n",
              "    <tr>\n",
              "      <th>282</th>\n",
              "      <td>down 3</td>\n",
              "      <td>down</td>\n",
              "      <td>3</td>\n",
              "      <td>0</td>\n",
              "      <td>1</td>\n",
              "    </tr>\n",
              "    <tr>\n",
              "      <th>768</th>\n",
              "      <td>up 8</td>\n",
              "      <td>up</td>\n",
              "      <td>8</td>\n",
              "      <td>0</td>\n",
              "      <td>-1</td>\n",
              "    </tr>\n",
              "    <tr>\n",
              "      <th>549</th>\n",
              "      <td>forward 3</td>\n",
              "      <td>forward</td>\n",
              "      <td>3</td>\n",
              "      <td>1</td>\n",
              "      <td>0</td>\n",
              "    </tr>\n",
              "    <tr>\n",
              "      <th>383</th>\n",
              "      <td>forward 8</td>\n",
              "      <td>forward</td>\n",
              "      <td>8</td>\n",
              "      <td>1</td>\n",
              "      <td>0</td>\n",
              "    </tr>\n",
              "  </tbody>\n",
              "</table>\n",
              "</div>"
            ],
            "text/plain": [
              "    instruction direction  value  is_horizontal  downward\n",
              "910      down 6      down      6              0         1\n",
              "85       down 3      down      3              0         1\n",
              "165      down 4      down      4              0         1\n",
              "25       down 1      down      1              0         1\n",
              "328        up 2        up      2              0        -1\n",
              "447   forward 7   forward      7              1         0\n",
              "282      down 3      down      3              0         1\n",
              "768        up 8        up      8              0        -1\n",
              "549   forward 3   forward      3              1         0\n",
              "383   forward 8   forward      8              1         0"
            ]
          },
          "metadata": {},
          "execution_count": 62
        }
      ]
    },
    {
      "cell_type": "code",
      "source": [
        "total_depth = np.sum(data['value']* data['downward'])\n",
        "\n",
        "total_depth"
      ],
      "metadata": {
        "colab": {
          "base_uri": "https://localhost:8080/"
        },
        "id": "wtfaDitPsCTB",
        "outputId": "3ddca85c-e7fe-48d6-96cc-3e894533344f"
      },
      "execution_count": 63,
      "outputs": [
        {
          "output_type": "execute_result",
          "data": {
            "text/plain": [
              "916"
            ]
          },
          "metadata": {},
          "execution_count": 63
        }
      ]
    },
    {
      "cell_type": "code",
      "source": [
        "total_forward * total_depth"
      ],
      "metadata": {
        "colab": {
          "base_uri": "https://localhost:8080/"
        },
        "id": "Mqm2YxUZsK8B",
        "outputId": "87c681b2-7a7d-4f03-97ad-f3cde1792450"
      },
      "execution_count": 64,
      "outputs": [
        {
          "output_type": "execute_result",
          "data": {
            "text/plain": [
              "1804520"
            ]
          },
          "metadata": {},
          "execution_count": 64
        }
      ]
    },
    {
      "cell_type": "code",
      "source": [
        "def calculate_final_position(data):\n",
        "  data = deepcopy(data)\n",
        "  instructions_pair = [instruction_.split(' ') for instruction_ in data['instruction']]\n",
        "\n",
        "  direction = [pair_[0] for pair_ in instructions_pair]\n",
        "  value = [int(pair_[1]) for pair_ in instructions_pair]\n",
        "\n",
        "  data['direction'] = direction\n",
        "  data['value'] = value\n",
        "\n",
        "  data['is_horizontal'] = [1 if dir_ == 'forward' else 0 for dir_ in data['direction']]\n",
        "  data['downward'] = [1 if dir_ == 'down' else -1 if dir_ == 'up' else 0 for dir_ in data['direction']]\n",
        "\n",
        "  total_forward = np.sum(data['value']* data['is_horizontal'])\n",
        "  total_depth = np.sum(data['value']* data['downward'])\n",
        "\n",
        "\n",
        "  return total_forward * total_depth\n",
        "  \n",
        "data = pd.read_csv(filepath_or_buffer='./input.txt', delimiter='\\n', names=['instruction'])\n",
        "calculate_final_position(data)"
      ],
      "metadata": {
        "colab": {
          "base_uri": "https://localhost:8080/"
        },
        "id": "Uj_aHkh7sXle",
        "outputId": "0b4faa74-a09a-4b80-b05c-e9628cf3e183"
      },
      "execution_count": 65,
      "outputs": [
        {
          "output_type": "execute_result",
          "data": {
            "text/plain": [
              "1804520"
            ]
          },
          "metadata": {},
          "execution_count": 65
        }
      ]
    },
    {
      "cell_type": "markdown",
      "source": [
        "## Day 2 Part 2"
      ],
      "metadata": {
        "id": "MAgmeYCM1Pe-"
      }
    },
    {
      "cell_type": "code",
      "source": [
        ""
      ],
      "metadata": {
        "id": "jr7uaONV0x75"
      },
      "execution_count": null,
      "outputs": []
    }
  ]
}