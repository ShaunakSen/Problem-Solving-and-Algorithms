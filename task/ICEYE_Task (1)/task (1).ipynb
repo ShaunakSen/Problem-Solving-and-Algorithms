{
 "cells": [
  {
   "cell_type": "code",
   "execution_count": 7,
   "metadata": {
    "scrolled": false
   },
   "outputs": [],
   "source": [
    "def bytes_from_file(filename, chunksize=2068):\n",
    "    with open(filename, \"rb\") as f:\n",
    "        while True:\n",
    "            chunk = f.read(chunksize)\n",
    "            if chunk:\n",
    "                for b in chunk:\n",
    "                    yield b\n",
    "            else:\n",
    "                break\n",
    "\n",
    "# example:\n",
    "\n",
    "bin_output = []\n",
    "\n",
    "for b in bytes_from_file('./telemetry.bin'):\n",
    "    bin_output.append(b)"
   ]
  },
  {
   "cell_type": "code",
   "execution_count": null,
   "metadata": {},
   "outputs": [],
   "source": []
  },
  {
   "cell_type": "code",
   "execution_count": 10,
   "metadata": {
    "scrolled": false
   },
   "outputs": [
    {
     "name": "stdout",
     "output_type": "stream",
     "text": [
      "[0, 0, 195, 80, 0, 0, 0, 0, 0, 0, 0, 0, 0, 0, 195, 80, 0, 0, 0, 0, 0, 0, 0, 0]\n"
     ]
    }
   ],
   "source": [
    "print (bin_output[112:136])"
   ]
  },
  {
   "cell_type": "code",
   "execution_count": 11,
   "metadata": {},
   "outputs": [
    {
     "name": "stdout",
     "output_type": "stream",
     "text": [
      "[11, 235, 194, 0, 0, 0, 0, 0, 0, 0, 0, 0, 11, 235, 194, 0, 0, 0, 0, 0, 0, 0, 0, 0]\n"
     ]
    }
   ],
   "source": [
    "print (bin_output[136:160])"
   ]
  },
  {
   "cell_type": "code",
   "execution_count": 12,
   "metadata": {},
   "outputs": [
    {
     "name": "stdout",
     "output_type": "stream",
     "text": [
      "[143, 101, 184, 62, 0, 0, 0, 5, 0, 37, 126, 26, 0, 0, 0, 150, 0, 0, 0, 145, 0, 1, 2, 0, 0]\n"
     ]
    }
   ],
   "source": [
    "print (bin_output[65:90])"
   ]
  },
  {
   "cell_type": "code",
   "execution_count": 6,
   "metadata": {},
   "outputs": [],
   "source": [
    "import pandas as pd"
   ]
  },
  {
   "cell_type": "markdown",
   "metadata": {},
   "source": [
    "Time is in Package - 65-87\n",
    "\n",
    "Velocity is in Mnemonic - 136 - 156\n",
    "\n",
    "Position is in Mnemonic - 112 - 132"
   ]
  },
  {
   "cell_type": "code",
   "execution_count": 2,
   "metadata": {
    "scrolled": true
   },
   "outputs": [
    {
     "data": {
      "text/html": [
       "<div>\n",
       "<style scoped>\n",
       "    .dataframe tbody tr th:only-of-type {\n",
       "        vertical-align: middle;\n",
       "    }\n",
       "\n",
       "    .dataframe tbody tr th {\n",
       "        vertical-align: top;\n",
       "    }\n",
       "\n",
       "    .dataframe thead th {\n",
       "        text-align: right;\n",
       "    }\n",
       "</style>\n",
       "<table border=\"1\" class=\"dataframe\">\n",
       "  <thead>\n",
       "    <tr style=\"text-align: right;\">\n",
       "      <th></th>\n",
       "      <th>Hex Addr</th>\n",
       "      <th>Byte</th>\n",
       "      <th>Package</th>\n",
       "      <th>Mnemonic</th>\n",
       "      <th>Short Description</th>\n",
       "      <th>Tlm Type</th>\n",
       "      <th>Tlm Conversion (EU/lsb)</th>\n",
       "      <th>Eng. Units (EU)</th>\n",
       "    </tr>\n",
       "  </thead>\n",
       "  <tbody>\n",
       "    <tr>\n",
       "      <th>0</th>\n",
       "      <td>0x420</td>\n",
       "      <td>32.0</td>\n",
       "      <td>COMMAND_TLM</td>\n",
       "      <td>CMD_STATUS</td>\n",
       "      <td>Command Status</td>\n",
       "      <td>uint8</td>\n",
       "      <td>1.0</td>\n",
       "      <td>0/OK 1/BAD_APID 2/BAD_OPCODE 3/BAD_DATA 7/NO_C...</td>\n",
       "    </tr>\n",
       "    <tr>\n",
       "      <th>1</th>\n",
       "      <td>0x421</td>\n",
       "      <td>33.0</td>\n",
       "      <td>COMMAND_TLM</td>\n",
       "      <td>CMD_REJECT_STATUS</td>\n",
       "      <td>Command Reject Status</td>\n",
       "      <td>uint8</td>\n",
       "      <td>1.0</td>\n",
       "      <td>0/OK 1/BAD_APID 2/BAD_OPCODE 3/BAD_DATA 7/NO_C...</td>\n",
       "    </tr>\n",
       "    <tr>\n",
       "      <th>2</th>\n",
       "      <td>0x422</td>\n",
       "      <td>34.0</td>\n",
       "      <td>COMMAND_TLM</td>\n",
       "      <td>CMD_ACCEPT_COUNT</td>\n",
       "      <td>Command Accept Count</td>\n",
       "      <td>uint8</td>\n",
       "      <td>1.0</td>\n",
       "      <td>none</td>\n",
       "    </tr>\n",
       "    <tr>\n",
       "      <th>3</th>\n",
       "      <td>0x423</td>\n",
       "      <td>35.0</td>\n",
       "      <td>COMMAND_TLM</td>\n",
       "      <td>CMD_REJECT_COUNT</td>\n",
       "      <td>Command Reject Count</td>\n",
       "      <td>uint8</td>\n",
       "      <td>1.0</td>\n",
       "      <td>none</td>\n",
       "    </tr>\n",
       "    <tr>\n",
       "      <th>4</th>\n",
       "      <td>0x424</td>\n",
       "      <td>36.0</td>\n",
       "      <td>COMMAND_TLM</td>\n",
       "      <td>LAST_ACC_CMD_BYTES1</td>\n",
       "      <td>Last Accept Cmd Bytes</td>\n",
       "      <td>uint8</td>\n",
       "      <td>1.0</td>\n",
       "      <td>none</td>\n",
       "    </tr>\n",
       "  </tbody>\n",
       "</table>\n",
       "</div>"
      ],
      "text/plain": [
       "  Hex Addr  Byte      Package             Mnemonic      Short Description  \\\n",
       "0    0x420  32.0  COMMAND_TLM           CMD_STATUS         Command Status   \n",
       "1    0x421  33.0  COMMAND_TLM    CMD_REJECT_STATUS  Command Reject Status   \n",
       "2    0x422  34.0  COMMAND_TLM     CMD_ACCEPT_COUNT   Command Accept Count   \n",
       "3    0x423  35.0  COMMAND_TLM     CMD_REJECT_COUNT   Command Reject Count   \n",
       "4    0x424  36.0  COMMAND_TLM  LAST_ACC_CMD_BYTES1  Last Accept Cmd Bytes   \n",
       "\n",
       "  Tlm Type  Tlm Conversion (EU/lsb)  \\\n",
       "0    uint8                      1.0   \n",
       "1    uint8                      1.0   \n",
       "2    uint8                      1.0   \n",
       "3    uint8                      1.0   \n",
       "4    uint8                      1.0   \n",
       "\n",
       "                                     Eng. Units (EU)  \n",
       "0  0/OK 1/BAD_APID 2/BAD_OPCODE 3/BAD_DATA 7/NO_C...  \n",
       "1  0/OK 1/BAD_APID 2/BAD_OPCODE 3/BAD_DATA 7/NO_C...  \n",
       "2                                               none  \n",
       "3                                               none  \n",
       "4                                               none  "
      ]
     },
     "execution_count": 2,
     "metadata": {},
     "output_type": "execute_result"
    }
   ],
   "source": [
    "df = pd.read_csv('./TLM_LIST.csv')\n",
    "\n",
    "df.head()"
   ]
  },
  {
   "cell_type": "code",
   "execution_count": 21,
   "metadata": {},
   "outputs": [
    {
     "data": {
      "text/plain": [
       "[65.0, 69.0, 73.0, 77.0, 81.0, 85.0, 86.0, 87.0]"
      ]
     },
     "execution_count": 21,
     "metadata": {},
     "output_type": "execute_result"
    }
   ],
   "source": [
    "# extract byte column from Package where value is TIME\n",
    "\n",
    "time_pos = list(df[df['Package']=='TIME']['Byte'])\n",
    "\n",
    "time_pos"
   ]
  },
  {
   "cell_type": "code",
   "execution_count": 22,
   "metadata": {},
   "outputs": [
    {
     "name": "stdout",
     "output_type": "stream",
     "text": [
      "[143, 0, 0, 0, 0, 0, 1, 2]\n"
     ]
    }
   ],
   "source": [
    "# getting data for the time \n",
    "\n",
    "time_data = []\n",
    "\n",
    "\n",
    "for x in time_pos:\n",
    "    time_data.append(bin_output[int(x)])\n",
    "\n",
    "\n",
    "print (time_data)"
   ]
  },
  {
   "cell_type": "code",
   "execution_count": 24,
   "metadata": {},
   "outputs": [
    {
     "data": {
      "text/plain": [
       "[136, 140, 144, 148, 152, 156]"
      ]
     },
     "execution_count": 24,
     "metadata": {},
     "output_type": "execute_result"
    }
   ],
   "source": [
    "vel_pos = [136,140,144,148,152,156]\n",
    "\n",
    "vel_pos"
   ]
  },
  {
   "cell_type": "code",
   "execution_count": 25,
   "metadata": {},
   "outputs": [
    {
     "name": "stdout",
     "output_type": "stream",
     "text": [
      "[11, 0, 0, 11, 0, 0]\n"
     ]
    }
   ],
   "source": [
    "vel_data = []\n",
    "\n",
    "for x in vel_pos:\n",
    "    vel_data.append(bin_output[int(x)])\n",
    "\n",
    "\n",
    "print (vel_data)"
   ]
  },
  {
   "cell_type": "code",
   "execution_count": 26,
   "metadata": {},
   "outputs": [
    {
     "name": "stdout",
     "output_type": "stream",
     "text": [
      "[0, 0, 0, 0, 0, 0]\n"
     ]
    }
   ],
   "source": [
    "position = [112, 116, 120, 124, 128, 132]\n",
    "\n",
    "\n",
    "pos_data = []\n",
    "\n",
    "for x in position:\n",
    "    pos_data.append(bin_output[int(x)])\n",
    "\n",
    "\n",
    "print (pos_data)"
   ]
  }
 ],
 "metadata": {
  "kernelspec": {
   "display_name": "Python 3",
   "language": "python",
   "name": "python3"
  },
  "language_info": {
   "codemirror_mode": {
    "name": "ipython",
    "version": 3
   },
   "file_extension": ".py",
   "mimetype": "text/x-python",
   "name": "python",
   "nbconvert_exporter": "python",
   "pygments_lexer": "ipython3",
   "version": "3.6.8"
  }
 },
 "nbformat": 4,
 "nbformat_minor": 2
}
