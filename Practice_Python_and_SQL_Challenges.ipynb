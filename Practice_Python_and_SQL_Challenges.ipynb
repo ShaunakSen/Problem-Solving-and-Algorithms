{
  "nbformat": 4,
  "nbformat_minor": 0,
  "metadata": {
    "colab": {
      "name": "Practice Python and SQL Challenges.ipynb",
      "provenance": [],
      "collapsed_sections": [],
      "authorship_tag": "ABX9TyMfI8V8NhVHiNxYMQeDoSii",
      "include_colab_link": true
    },
    "kernelspec": {
      "name": "python3",
      "display_name": "Python 3"
    }
  },
  "cells": [
    {
      "cell_type": "markdown",
      "metadata": {
        "id": "view-in-github",
        "colab_type": "text"
      },
      "source": [
        "<a href=\"https://colab.research.google.com/github/ShaunakSen/problem-solving-with-code/blob/master/Practice_Python_and_SQL_Challenges.ipynb\" target=\"_parent\"><img src=\"https://colab.research.google.com/assets/colab-badge.svg\" alt=\"Open In Colab\"/></a>"
      ]
    },
    {
      "cell_type": "markdown",
      "metadata": {
        "id": "Mrap9vDT-LsO",
        "colab_type": "text"
      },
      "source": [
        "## Codewars Problems\n",
        "\n",
        "---\n",
        "\n",
        "## Python\n",
        "\n",
        "---\n",
        "\n",
        "### Isograms\n",
        "\n",
        "\n",
        "[link](https://www.codewars.com/kata/54ba84be607a92aa900000f1/train/python)\n",
        "\n",
        "An isogram is a word that has no repeating letters, consecutive or non-consecutive. Implement a function that determines whether a string that contains only letters is an isogram. Assume the empty string is an isogram. Ignore letter case.\n",
        "\n",
        "Test Cases:\n",
        "\n",
        "``` python\n",
        "Test.assert_equals(is_isogram(\"Dermatoglyphics\"), True )\n",
        "Test.assert_equals(is_isogram(\"isogram\"), True )\n",
        "Test.assert_equals(is_isogram(\"aba\"), False, \"same chars may not be adjacent\" )\n",
        "Test.assert_equals(is_isogram(\"moOse\"), False, \"same chars may not be same case\" )\n",
        "Test.assert_equals(is_isogram(\"isIsogram\"), False )\n",
        "Test.assert_equals(is_isogram(\"\"), True, \"an empty string is a valid isogram\" )\n",
        "```\n"
      ]
    },
    {
      "cell_type": "code",
      "metadata": {
        "id": "TOsm_Mv896sV",
        "colab_type": "code",
        "outputId": "5bf29e84-b4f2-43e0-f677-c84b48a2bcd5",
        "colab": {
          "base_uri": "https://localhost:8080/",
          "height": 34
        }
      },
      "source": [
        "def is_isogram(string):\n",
        "\n",
        "    string_as_list = [letter.lower() for letter in string]\n",
        "    return len(set(string_as_list)) == len(string_as_list)\n",
        "\n",
        "test_str = 'Dermadtoglyphics'\n",
        "\n",
        "is_isogram(test_str)"
      ],
      "execution_count": 0,
      "outputs": [
        {
          "output_type": "execute_result",
          "data": {
            "text/plain": [
              "True"
            ]
          },
          "metadata": {
            "tags": []
          },
          "execution_count": 19
        }
      ]
    },
    {
      "cell_type": "markdown",
      "metadata": {
        "id": "z5OOHzVIIJlz",
        "colab_type": "text"
      },
      "source": [
        "### Mumbling\n",
        "\n",
        "[link](https://www.codewars.com/kata/5667e8f4e3f572a8f2000039/train/python)\n",
        "\n",
        "```\n",
        "accum(\"abcd\") -> \"A-Bb-Ccc-Dddd\"\n",
        "accum(\"RqaEzty\") -> \"R-Qq-Aaa-Eeee-Zzzzz-Tttttt-Yyyyyyy\"\n",
        "accum(\"cwAt\") -> \"C-Ww-Aaa-Tttt\"\n",
        "```"
      ]
    },
    {
      "cell_type": "code",
      "metadata": {
        "id": "HNw0MG4GB_uW",
        "colab_type": "code",
        "outputId": "9b73c7d9-7e34-4a1f-8f1b-1ccd2d4ac37a",
        "colab": {
          "base_uri": "https://localhost:8080/",
          "height": 34
        }
      },
      "source": [
        "test_str = 'abcd'\n",
        "\n",
        "'-'.join([test_str[idx].upper() + test_str[idx].lower()*idx for idx in range(len(test_str))])"
      ],
      "execution_count": 0,
      "outputs": [
        {
          "output_type": "execute_result",
          "data": {
            "text/plain": [
              "'A-Bb-Ccc-Dddd'"
            ]
          },
          "metadata": {
            "tags": []
          },
          "execution_count": 27
        }
      ]
    },
    {
      "cell_type": "markdown",
      "metadata": {
        "id": "iHwD0z_4tOV_",
        "colab_type": "text"
      },
      "source": [
        "### Jaden Casing Strings\n",
        "\n",
        "Jaden Smith, the son of Will Smith, is the star of films such as The Karate Kid (2010) and After Earth (2013). Jaden is also known for some of his philosophy that he delivers via Twitter. When writing on Twitter, he is known for almost always capitalizing every word. For simplicity, you'll have to capitalize each word, check out how contractions are expected to be in the example below.\n",
        "\n",
        "Your task is to convert strings to how they would be written by Jaden Smith. The strings are actual quotes from Jaden Smith, but they are not capitalized in the same way he originally typed them.\n",
        "\n",
        "```\n",
        "Not Jaden-Cased: \"How can mirrors be real if our eyes aren't real\"\n",
        "Jaden-Cased:     \"How Can Mirrors Be Real If Our Eyes Aren't Real\"\n",
        "```"
      ]
    },
    {
      "cell_type": "code",
      "metadata": {
        "id": "uTDi8iT9tcrm",
        "colab_type": "code",
        "outputId": "5b537cf8-4bc4-4042-e6ca-58029bbe630c",
        "colab": {
          "base_uri": "https://localhost:8080/",
          "height": 34
        }
      },
      "source": [
        "'hey there'.capitalize()"
      ],
      "execution_count": 0,
      "outputs": [
        {
          "output_type": "execute_result",
          "data": {
            "text/plain": [
              "'Hey there'"
            ]
          },
          "metadata": {
            "tags": []
          },
          "execution_count": 1
        }
      ]
    },
    {
      "cell_type": "code",
      "metadata": {
        "id": "i7MscT75tgNe",
        "colab_type": "code",
        "outputId": "0b947bb2-0bd3-41a8-add8-acf432b6e0e1",
        "colab": {
          "base_uri": "https://localhost:8080/",
          "height": 34
        }
      },
      "source": [
        "test_str = \"How can mirrors be real if our eyes aren't real\"\n",
        "\n",
        "' '.join([word.capitalize() for word in test_str.split()])"
      ],
      "execution_count": 0,
      "outputs": [
        {
          "output_type": "execute_result",
          "data": {
            "text/plain": [
              "\"How Can Mirrors Be Real If Our Eyes Aren't Real\""
            ]
          },
          "metadata": {
            "tags": []
          },
          "execution_count": 3
        }
      ]
    },
    {
      "cell_type": "markdown",
      "metadata": {
        "id": "VGWPucdcuDtA",
        "colab_type": "text"
      },
      "source": [
        "### Binary Addition\n",
        "\n",
        "\n",
        "Implement a function that adds two numbers together and returns their sum in binary. The conversion can be done before, or after the addition.\n",
        "\n",
        "The binary number returned should be a string.\n",
        "\n",
        "```\n",
        "Test.assert_equals(add_binary(1,1),\"10\")\n",
        "Test.assert_equals(add_binary(0,1),\"1\")\n",
        "Test.assert_equals(add_binary(1,0),\"1\")\n",
        "Test.assert_equals(add_binary(2,2),\"100\")\n",
        "Test.assert_equals(add_binary(51,12),\"111111\")\n",
        "```"
      ]
    },
    {
      "cell_type": "code",
      "metadata": {
        "id": "szZfwapCt0du",
        "colab_type": "code",
        "outputId": "d0072563-f1a0-4d4d-fbc9-784947c5e5e7",
        "colab": {
          "base_uri": "https://localhost:8080/",
          "height": 34
        }
      },
      "source": [
        "def convert_to_binary(num):\n",
        "    binary = []\n",
        "    while num != 0:\n",
        "        rem = num%2\n",
        "        num = int(num/2)\n",
        "        binary.append(rem)\n",
        "\n",
        "    return binary\n",
        "\n",
        "list(reversed(convert_to_binary(339)))\n",
        "\n"
      ],
      "execution_count": 0,
      "outputs": [
        {
          "output_type": "execute_result",
          "data": {
            "text/plain": [
              "[1, 0, 1, 0, 1, 0, 0, 1, 1]"
            ]
          },
          "metadata": {
            "tags": []
          },
          "execution_count": 10
        }
      ]
    },
    {
      "cell_type": "code",
      "metadata": {
        "id": "eRBD0uKy9DVQ",
        "colab_type": "code",
        "outputId": "e02d9f2b-7869-4f3c-dae8-d99404495cf0",
        "colab": {
          "base_uri": "https://localhost:8080/",
          "height": 34
        }
      },
      "source": [
        "bin(339)[2:]"
      ],
      "execution_count": 0,
      "outputs": [
        {
          "output_type": "execute_result",
          "data": {
            "text/plain": [
              "'101010011'"
            ]
          },
          "metadata": {
            "tags": []
          },
          "execution_count": 12
        }
      ]
    },
    {
      "cell_type": "markdown",
      "metadata": {
        "id": "7V1v6Xj3fVzu",
        "colab_type": "text"
      },
      "source": [
        "### Dubset \n",
        "\n",
        "[link](https://www.codewars.com/kata/551dc350bf4e526099000ae5/train/python)\n",
        "\n",
        "Polycarpus works as a DJ in the best Berland nightclub, and he often uses dubstep music in his performance. Recently, he has decided to take a couple of old songs and make dubstep remixes from them.\n",
        "\n",
        "Let's assume that a song consists of some number of words (that don't contain WUB). To make the dubstep remix of this song, Polycarpus inserts a certain number of words \"WUB\" before the first word of the song (the number may be zero), after the last word (the number may be zero), and between words (at least one between any pair of neighbouring words), and then the boy glues together all the words, including \"WUB\", in one string and plays the song at the club.\n",
        "\n",
        "For example, a song with words \"I AM X\" can transform into a dubstep remix as \"WUBWUBIWUBAMWUBWUBX\" and cannot transform into \"WUBWUBIAMWUBX\".\n",
        "\n",
        "Recently, Jonny has heard Polycarpus's new dubstep track, but since he isn't into modern music, he decided to find out what was the initial song that Polycarpus remixed. Help Jonny restore the original song.\n",
        "\n",
        "```\n",
        "\n",
        "song_decoder(\"WUBWEWUBAREWUBWUBTHEWUBCHAMPIONSWUBMYWUBFRIENDWUB\")\n",
        "  # =>  WE ARE THE CHAMPIONS MY FRIEND\n",
        "\n",
        "Test.assert_equals(song_decoder(\"AWUBBWUBC\"), \"A B C\",\"WUB should be replaced by 1 space\")\n",
        "Test.assert_equals(song_decoder(\"AWUBWUBWUBBWUBWUBWUBC\"), \"A B C\",\"multiples WUB should be replaced by only 1 space\")\n",
        "Test.assert_equals(song_decoder(\"WUBAWUBBWUBCWUB\"), \"A B C\",\"heading or trailing spaces should be removed\")\n",
        "\n",
        "```"
      ]
    },
    {
      "cell_type": "code",
      "metadata": {
        "id": "GlNeNsFo9LLS",
        "colab_type": "code",
        "outputId": "edcfcccf-7b96-40eb-883e-549f08ce6f3b",
        "colab": {
          "base_uri": "https://localhost:8080/",
          "height": 34
        }
      },
      "source": [
        "test_str = \"WUBWEWUBAREWUBWUBTHEWUBCHAMPIONSWUBMYWUBFRIENDWUB\"\n",
        "\n",
        "words = [word for word in test_str.split('WUB') if word.strip()!='']\n",
        "\n",
        "' '.join(words)"
      ],
      "execution_count": 0,
      "outputs": [
        {
          "output_type": "execute_result",
          "data": {
            "text/plain": [
              "'WE ARE THE CHAMPIONS MY FRIEND'"
            ]
          },
          "metadata": {
            "tags": []
          },
          "execution_count": 4
        }
      ]
    },
    {
      "cell_type": "markdown",
      "metadata": {
        "id": "LFW33kVdbdFS",
        "colab_type": "text"
      },
      "source": [
        "### Duplicate Encoder\n",
        "\n",
        "[link](https://www.codewars.com/kata/54b42f9314d9229fd6000d9c/train/python)\n",
        "\n",
        "The goal of this exercise is to convert a string to a new string where each character in the new string is \"(\" if that character appears only once in the original string, or \")\" if that character appears more than once in the original string. Ignore capitalization when determining if a character is a duplicate.\n",
        "\n",
        "\n",
        "```\n",
        "\"din\"      =>  \"(((\"\n",
        "\"recede\"   =>  \"()()()\"\n",
        "\"Success\"  =>  \")())())\"\n",
        "\"(( @\"     =>  \"))((\" \n",
        "\n",
        "```"
      ]
    },
    {
      "cell_type": "code",
      "metadata": {
        "id": "T_6u7047ceuU",
        "colab_type": "code",
        "outputId": "e332b2d9-1e32-49b8-be1a-70edf5c187be",
        "colab": {
          "base_uri": "https://localhost:8080/",
          "height": 33
        }
      },
      "source": [
        "'Success'.count('S')"
      ],
      "execution_count": 0,
      "outputs": [
        {
          "output_type": "execute_result",
          "data": {
            "text/plain": [
              "1"
            ]
          },
          "metadata": {
            "tags": []
          },
          "execution_count": 9
        }
      ]
    },
    {
      "cell_type": "code",
      "metadata": {
        "id": "cfdquf9rf56X",
        "colab_type": "code",
        "outputId": "e7ea2085-39d3-4fe6-84d8-913dd140586f",
        "colab": {
          "base_uri": "https://localhost:8080/",
          "height": 50
        }
      },
      "source": [
        "test_str = 'Success'\n",
        "test_str = test_str.lower()\n",
        "hash_ = []\n",
        "\n",
        "for letter in test_str:\n",
        "    hash_.append(test_str.count(letter)>1)\n",
        "\n",
        "print (hash_)\n",
        "\n",
        "new_str = ''.join([')' if elem else '(' for elem in hash_])\n",
        "\n",
        "new_str"
      ],
      "execution_count": 0,
      "outputs": [
        {
          "output_type": "stream",
          "text": [
            "[True, False, True, True, False, True, True]\n"
          ],
          "name": "stdout"
        },
        {
          "output_type": "execute_result",
          "data": {
            "text/plain": [
              "')())())'"
            ]
          },
          "metadata": {
            "tags": []
          },
          "execution_count": 11
        }
      ]
    },
    {
      "cell_type": "markdown",
      "metadata": {
        "id": "q1b1Jtw5gTLB",
        "colab_type": "text"
      },
      "source": [
        "### Counting Duplicates\n",
        "\n",
        "[link](https://www.codewars.com/kata/54bf1c2cd5b56cc47f0007a1/train/python)\n",
        "\n",
        "Write a function that will return the count of distinct case-insensitive alphabetic characters and numeric digits that occur more than once in the input string. The input string can be assumed to contain only alphabets (both uppercase and lowercase) and numeric digits.\n",
        "\n",
        "\n",
        "```\n",
        "Example\n",
        "\"abcde\" -> 0 # no characters repeats more than once\n",
        "\"aabbcde\" -> 2 # 'a' and 'b'\n",
        "\"aabBcde\" -> 2 # 'a' occurs twice and 'b' twice (`b` and `B`)\n",
        "\"indivisibility\" -> 1 # 'i' occurs six times\n",
        "\"Indivisibilities\" -> 2 # 'i' occurs seven times and 's' occurs twice\n",
        "\"aA11\" -> 2 # 'a' and '1'\n",
        "\"ABBA\" -> 2 # 'A' and 'B' each occur twice\n",
        "```\n"
      ]
    },
    {
      "cell_type": "code",
      "metadata": {
        "id": "mR80NPSGdT1m",
        "colab_type": "code",
        "outputId": "8c7d316f-fc12-4b5a-ece3-7ea0f7eb6765",
        "colab": {
          "base_uri": "https://localhost:8080/",
          "height": 33
        }
      },
      "source": [
        "test_str = 'Indivisibilitie'\n",
        "test_str = test_str.lower()\n",
        "\n",
        "count=0\n",
        "duplicates_seen = []\n",
        "for letter in test_str:\n",
        "    if test_str.count(letter) > 1 and letter not in duplicates_seen:\n",
        "        count+=1\n",
        "        duplicates_seen.append(letter)\n",
        "\n",
        "print (count)"
      ],
      "execution_count": 0,
      "outputs": [
        {
          "output_type": "stream",
          "text": [
            "1\n"
          ],
          "name": "stdout"
        }
      ]
    },
    {
      "cell_type": "markdown",
      "metadata": {
        "id": "_7h2P_VOpdPc",
        "colab_type": "text"
      },
      "source": [
        "#### Better soln : use sets\n",
        "\n"
      ]
    },
    {
      "cell_type": "code",
      "metadata": {
        "colab_type": "code",
        "outputId": "4b5fd09f-8bd6-4a94-d1cd-29bc92a69e5c",
        "id": "umYHlrDEFa6I",
        "colab": {
          "base_uri": "https://localhost:8080/",
          "height": 33
        }
      },
      "source": [
        "count = 0\n",
        "for letter in set(test_str):\n",
        "    if test_str.count(letter) > 1:\n",
        "        count +=1\n",
        "print (count)"
      ],
      "execution_count": 0,
      "outputs": [
        {
          "output_type": "stream",
          "text": [
            "1\n"
          ],
          "name": "stdout"
        }
      ]
    },
    {
      "cell_type": "markdown",
      "metadata": {
        "id": "Y8Ft_fuuFca1",
        "colab_type": "text"
      },
      "source": [
        "Converting the above code to list comprehension"
      ]
    },
    {
      "cell_type": "code",
      "metadata": {
        "id": "uokmtU-ypnwM",
        "colab_type": "code",
        "outputId": "b6bf7ff6-f326-4123-f7b5-c6f40daec46d",
        "colab": {
          "base_uri": "https://localhost:8080/",
          "height": 33
        }
      },
      "source": [
        "test_str = test_str.lower()\n",
        "\n",
        "print (sum([1 if test_str.count(letter) > 1 else 0 for letter in set(test_str)]))"
      ],
      "execution_count": 0,
      "outputs": [
        {
          "output_type": "stream",
          "text": [
            "1\n"
          ],
          "name": "stdout"
        }
      ]
    },
    {
      "cell_type": "markdown",
      "metadata": {
        "id": "mAgb_7gL1ENg",
        "colab_type": "text"
      },
      "source": [
        "### Multiples of 3 or 5\n",
        "\n",
        "[link](https://www.codewars.com/kata/514b92a657cdc65150000006/train/python)\n",
        "\n",
        "If we list all the natural numbers below 10 that are multiples of 3 or 5, we get 3, 5, 6 and 9. The sum of these multiples is 23.\n",
        "\n",
        "Finish the solution so that it returns the sum of all the multiples of 3 or 5 below the number passed in.\n",
        "\n",
        "Note: If the number is a multiple of both 3 and 5, only count it once.\n",
        "\n",
        "\n",
        "```\n",
        "test.describe(\"Multiples of 3 and 5\")\n",
        "test.it(\"should handle basic cases\")\n",
        "test.assert_equals(solution(10), 23)\n",
        "```"
      ]
    },
    {
      "cell_type": "code",
      "metadata": {
        "id": "eAWpiv-KB4wd",
        "colab_type": "code",
        "colab": {
          "base_uri": "https://localhost:8080/",
          "height": 33
        },
        "outputId": "cf70169b-a4f9-433c-b1c9-7906f0a4e2b8"
      },
      "source": [
        "sum({1,23,})"
      ],
      "execution_count": 6,
      "outputs": [
        {
          "output_type": "execute_result",
          "data": {
            "text/plain": [
              "24"
            ]
          },
          "metadata": {
            "tags": []
          },
          "execution_count": 6
        }
      ]
    },
    {
      "cell_type": "code",
      "metadata": {
        "id": "6g5WRtub8P-Z",
        "colab_type": "code",
        "colab": {
          "base_uri": "https://localhost:8080/",
          "height": 33
        },
        "outputId": "a169b106-5cb1-4859-b4d0-55511d378173"
      },
      "source": [
        "n = 10\n",
        "\n",
        "sum(set(list(range(3, n, 3)) + list(range(5, n, 5))))"
      ],
      "execution_count": 8,
      "outputs": [
        {
          "output_type": "execute_result",
          "data": {
            "text/plain": [
              "23"
            ]
          },
          "metadata": {
            "tags": []
          },
          "execution_count": 8
        }
      ]
    },
    {
      "cell_type": "markdown",
      "metadata": {
        "id": "UUE33r1IO-MY",
        "colab_type": "text"
      },
      "source": [
        "## SQL Problems\n",
        "\n",
        "---"
      ]
    },
    {
      "cell_type": "markdown",
      "metadata": {
        "id": "y5fSbLzQQYgi",
        "colab_type": "text"
      },
      "source": [
        "### SQL Basics - Position\n",
        "\n",
        "[link](https://www.codewars.com/kata/59401e0e54a655a298000040/train/sql)\n",
        "\n",
        "You have access to a table of monsters as follows:\n",
        "\n",
        "monsters schema\n",
        "\n",
        "- id\n",
        "- name\n",
        "- legs\n",
        "- arms\n",
        "- characteristics\n",
        "\n",
        "In each row, the characteristic column has a single comma. Your job is to find it using position(). You must return a table with the format as follows:\n",
        "\n",
        "output schema\n",
        "\n",
        "- id\n",
        "- name\n",
        "- comma\n",
        "\n",
        "The comma column will contain the position of the comma within the characteristics string. Order the results by comma.\n",
        "\n",
        "### Solution:\n",
        "\n",
        "``` sql\n",
        "SELECT id, name, POSITION(',' in characteristics) AS comma\n",
        "FROM monsters\n",
        "ORDER BY comma\n",
        "```\n",
        "\n"
      ]
    },
    {
      "cell_type": "code",
      "metadata": {
        "id": "TAjzKDIXDC4w",
        "colab_type": "code",
        "colab": {}
      },
      "source": [
        ""
      ],
      "execution_count": 0,
      "outputs": []
    }
  ]
}