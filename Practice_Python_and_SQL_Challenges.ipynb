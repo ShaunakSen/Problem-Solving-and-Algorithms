{
  "nbformat": 4,
  "nbformat_minor": 0,
  "metadata": {
    "colab": {
      "name": "Practice Python and SQL Challenges.ipynb",
      "provenance": [],
      "collapsed_sections": [],
      "authorship_tag": "ABX9TyPSNVbZUDh6dk/KrMmxL1wX",
      "include_colab_link": true
    },
    "kernelspec": {
      "name": "python3",
      "display_name": "Python 3"
    }
  },
  "cells": [
    {
      "cell_type": "markdown",
      "metadata": {
        "id": "view-in-github",
        "colab_type": "text"
      },
      "source": [
        "<a href=\"https://colab.research.google.com/github/ShaunakSen/problem-solving-with-code/blob/master/Practice_Python_and_SQL_Challenges.ipynb\" target=\"_parent\"><img src=\"https://colab.research.google.com/assets/colab-badge.svg\" alt=\"Open In Colab\"/></a>"
      ]
    },
    {
      "cell_type": "markdown",
      "metadata": {
        "id": "Mrap9vDT-LsO",
        "colab_type": "text"
      },
      "source": [
        "## Codewars Problems\n",
        "\n",
        "---\n",
        "\n",
        "## Python\n",
        "\n",
        "---\n",
        "\n",
        "### Isograms\n",
        "\n",
        "\n",
        "[link](https://www.codewars.com/kata/54ba84be607a92aa900000f1/train/python)\n",
        "\n",
        "An isogram is a word that has no repeating letters, consecutive or non-consecutive. Implement a function that determines whether a string that contains only letters is an isogram. Assume the empty string is an isogram. Ignore letter case.\n",
        "\n",
        "Test Cases:\n",
        "\n",
        "``` python\n",
        "Test.assert_equals(is_isogram(\"Dermatoglyphics\"), True )\n",
        "Test.assert_equals(is_isogram(\"isogram\"), True )\n",
        "Test.assert_equals(is_isogram(\"aba\"), False, \"same chars may not be adjacent\" )\n",
        "Test.assert_equals(is_isogram(\"moOse\"), False, \"same chars may not be same case\" )\n",
        "Test.assert_equals(is_isogram(\"isIsogram\"), False )\n",
        "Test.assert_equals(is_isogram(\"\"), True, \"an empty string is a valid isogram\" )\n",
        "```\n"
      ]
    },
    {
      "cell_type": "code",
      "metadata": {
        "id": "TOsm_Mv896sV",
        "colab_type": "code",
        "outputId": "5bf29e84-b4f2-43e0-f677-c84b48a2bcd5",
        "colab": {
          "base_uri": "https://localhost:8080/",
          "height": 34
        }
      },
      "source": [
        "def is_isogram(string):\n",
        "\n",
        "    string_as_list = [letter.lower() for letter in string]\n",
        "    return len(set(string_as_list)) == len(string_as_list)\n",
        "\n",
        "test_str = 'Dermadtoglyphics'\n",
        "\n",
        "is_isogram(test_str)"
      ],
      "execution_count": 0,
      "outputs": [
        {
          "output_type": "execute_result",
          "data": {
            "text/plain": [
              "True"
            ]
          },
          "metadata": {
            "tags": []
          },
          "execution_count": 19
        }
      ]
    },
    {
      "cell_type": "markdown",
      "metadata": {
        "id": "z5OOHzVIIJlz",
        "colab_type": "text"
      },
      "source": [
        "### Mumbling\n",
        "\n",
        "[link](https://www.codewars.com/kata/5667e8f4e3f572a8f2000039/train/python)\n",
        "\n",
        "```\n",
        "accum(\"abcd\") -> \"A-Bb-Ccc-Dddd\"\n",
        "accum(\"RqaEzty\") -> \"R-Qq-Aaa-Eeee-Zzzzz-Tttttt-Yyyyyyy\"\n",
        "accum(\"cwAt\") -> \"C-Ww-Aaa-Tttt\"\n",
        "```"
      ]
    },
    {
      "cell_type": "code",
      "metadata": {
        "id": "HNw0MG4GB_uW",
        "colab_type": "code",
        "outputId": "9b73c7d9-7e34-4a1f-8f1b-1ccd2d4ac37a",
        "colab": {
          "base_uri": "https://localhost:8080/",
          "height": 34
        }
      },
      "source": [
        "test_str = 'abcd'\n",
        "\n",
        "'-'.join([test_str[idx].upper() + test_str[idx].lower()*idx for idx in range(len(test_str))])"
      ],
      "execution_count": 0,
      "outputs": [
        {
          "output_type": "execute_result",
          "data": {
            "text/plain": [
              "'A-Bb-Ccc-Dddd'"
            ]
          },
          "metadata": {
            "tags": []
          },
          "execution_count": 27
        }
      ]
    },
    {
      "cell_type": "markdown",
      "metadata": {
        "id": "iHwD0z_4tOV_",
        "colab_type": "text"
      },
      "source": [
        "### Jaden Casing Strings\n",
        "\n",
        "Jaden Smith, the son of Will Smith, is the star of films such as The Karate Kid (2010) and After Earth (2013). Jaden is also known for some of his philosophy that he delivers via Twitter. When writing on Twitter, he is known for almost always capitalizing every word. For simplicity, you'll have to capitalize each word, check out how contractions are expected to be in the example below.\n",
        "\n",
        "Your task is to convert strings to how they would be written by Jaden Smith. The strings are actual quotes from Jaden Smith, but they are not capitalized in the same way he originally typed them.\n",
        "\n",
        "```\n",
        "Not Jaden-Cased: \"How can mirrors be real if our eyes aren't real\"\n",
        "Jaden-Cased:     \"How Can Mirrors Be Real If Our Eyes Aren't Real\"\n",
        "```"
      ]
    },
    {
      "cell_type": "code",
      "metadata": {
        "id": "uTDi8iT9tcrm",
        "colab_type": "code",
        "outputId": "5b537cf8-4bc4-4042-e6ca-58029bbe630c",
        "colab": {
          "base_uri": "https://localhost:8080/",
          "height": 34
        }
      },
      "source": [
        "'hey there'.capitalize()"
      ],
      "execution_count": 0,
      "outputs": [
        {
          "output_type": "execute_result",
          "data": {
            "text/plain": [
              "'Hey there'"
            ]
          },
          "metadata": {
            "tags": []
          },
          "execution_count": 1
        }
      ]
    },
    {
      "cell_type": "code",
      "metadata": {
        "id": "i7MscT75tgNe",
        "colab_type": "code",
        "outputId": "0b947bb2-0bd3-41a8-add8-acf432b6e0e1",
        "colab": {
          "base_uri": "https://localhost:8080/",
          "height": 34
        }
      },
      "source": [
        "test_str = \"How can mirrors be real if our eyes aren't real\"\n",
        "\n",
        "' '.join([word.capitalize() for word in test_str.split()])"
      ],
      "execution_count": 0,
      "outputs": [
        {
          "output_type": "execute_result",
          "data": {
            "text/plain": [
              "\"How Can Mirrors Be Real If Our Eyes Aren't Real\""
            ]
          },
          "metadata": {
            "tags": []
          },
          "execution_count": 3
        }
      ]
    },
    {
      "cell_type": "markdown",
      "metadata": {
        "id": "VGWPucdcuDtA",
        "colab_type": "text"
      },
      "source": [
        "### Binary Addition\n",
        "\n",
        "\n",
        "Implement a function that adds two numbers together and returns their sum in binary. The conversion can be done before, or after the addition.\n",
        "\n",
        "The binary number returned should be a string.\n",
        "\n",
        "```\n",
        "Test.assert_equals(add_binary(1,1),\"10\")\n",
        "Test.assert_equals(add_binary(0,1),\"1\")\n",
        "Test.assert_equals(add_binary(1,0),\"1\")\n",
        "Test.assert_equals(add_binary(2,2),\"100\")\n",
        "Test.assert_equals(add_binary(51,12),\"111111\")\n",
        "```"
      ]
    },
    {
      "cell_type": "code",
      "metadata": {
        "id": "szZfwapCt0du",
        "colab_type": "code",
        "outputId": "d0072563-f1a0-4d4d-fbc9-784947c5e5e7",
        "colab": {
          "base_uri": "https://localhost:8080/",
          "height": 34
        }
      },
      "source": [
        "def convert_to_binary(num):\n",
        "    binary = []\n",
        "    while num != 0:\n",
        "        rem = num%2\n",
        "        num = int(num/2)\n",
        "        binary.append(rem)\n",
        "\n",
        "    return binary\n",
        "\n",
        "list(reversed(convert_to_binary(339)))\n",
        "\n"
      ],
      "execution_count": 0,
      "outputs": [
        {
          "output_type": "execute_result",
          "data": {
            "text/plain": [
              "[1, 0, 1, 0, 1, 0, 0, 1, 1]"
            ]
          },
          "metadata": {
            "tags": []
          },
          "execution_count": 10
        }
      ]
    },
    {
      "cell_type": "code",
      "metadata": {
        "id": "eRBD0uKy9DVQ",
        "colab_type": "code",
        "outputId": "e02d9f2b-7869-4f3c-dae8-d99404495cf0",
        "colab": {
          "base_uri": "https://localhost:8080/",
          "height": 34
        }
      },
      "source": [
        "bin(339)[2:]"
      ],
      "execution_count": 0,
      "outputs": [
        {
          "output_type": "execute_result",
          "data": {
            "text/plain": [
              "'101010011'"
            ]
          },
          "metadata": {
            "tags": []
          },
          "execution_count": 12
        }
      ]
    },
    {
      "cell_type": "markdown",
      "metadata": {
        "id": "7V1v6Xj3fVzu",
        "colab_type": "text"
      },
      "source": [
        "### Dubset \n",
        "\n",
        "[link](https://www.codewars.com/kata/551dc350bf4e526099000ae5/train/python)\n",
        "\n",
        "Polycarpus works as a DJ in the best Berland nightclub, and he often uses dubstep music in his performance. Recently, he has decided to take a couple of old songs and make dubstep remixes from them.\n",
        "\n",
        "Let's assume that a song consists of some number of words (that don't contain WUB). To make the dubstep remix of this song, Polycarpus inserts a certain number of words \"WUB\" before the first word of the song (the number may be zero), after the last word (the number may be zero), and between words (at least one between any pair of neighbouring words), and then the boy glues together all the words, including \"WUB\", in one string and plays the song at the club.\n",
        "\n",
        "For example, a song with words \"I AM X\" can transform into a dubstep remix as \"WUBWUBIWUBAMWUBWUBX\" and cannot transform into \"WUBWUBIAMWUBX\".\n",
        "\n",
        "Recently, Jonny has heard Polycarpus's new dubstep track, but since he isn't into modern music, he decided to find out what was the initial song that Polycarpus remixed. Help Jonny restore the original song.\n",
        "\n",
        "```\n",
        "\n",
        "song_decoder(\"WUBWEWUBAREWUBWUBTHEWUBCHAMPIONSWUBMYWUBFRIENDWUB\")\n",
        "  # =>  WE ARE THE CHAMPIONS MY FRIEND\n",
        "\n",
        "Test.assert_equals(song_decoder(\"AWUBBWUBC\"), \"A B C\",\"WUB should be replaced by 1 space\")\n",
        "Test.assert_equals(song_decoder(\"AWUBWUBWUBBWUBWUBWUBC\"), \"A B C\",\"multiples WUB should be replaced by only 1 space\")\n",
        "Test.assert_equals(song_decoder(\"WUBAWUBBWUBCWUB\"), \"A B C\",\"heading or trailing spaces should be removed\")\n",
        "\n",
        "```"
      ]
    },
    {
      "cell_type": "code",
      "metadata": {
        "id": "GlNeNsFo9LLS",
        "colab_type": "code",
        "outputId": "edcfcccf-7b96-40eb-883e-549f08ce6f3b",
        "colab": {
          "base_uri": "https://localhost:8080/",
          "height": 34
        }
      },
      "source": [
        "test_str = \"WUBWEWUBAREWUBWUBTHEWUBCHAMPIONSWUBMYWUBFRIENDWUB\"\n",
        "\n",
        "words = [word for word in test_str.split('WUB') if word.strip()!='']\n",
        "\n",
        "' '.join(words)"
      ],
      "execution_count": 0,
      "outputs": [
        {
          "output_type": "execute_result",
          "data": {
            "text/plain": [
              "'WE ARE THE CHAMPIONS MY FRIEND'"
            ]
          },
          "metadata": {
            "tags": []
          },
          "execution_count": 4
        }
      ]
    },
    {
      "cell_type": "markdown",
      "metadata": {
        "id": "LFW33kVdbdFS",
        "colab_type": "text"
      },
      "source": [
        "### Duplicate Encoder\n",
        "\n",
        "[link](https://www.codewars.com/kata/54b42f9314d9229fd6000d9c/train/python)\n",
        "\n",
        "The goal of this exercise is to convert a string to a new string where each character in the new string is \"(\" if that character appears only once in the original string, or \")\" if that character appears more than once in the original string. Ignore capitalization when determining if a character is a duplicate.\n",
        "\n",
        "\n",
        "```\n",
        "\"din\"      =>  \"(((\"\n",
        "\"recede\"   =>  \"()()()\"\n",
        "\"Success\"  =>  \")())())\"\n",
        "\"(( @\"     =>  \"))((\" \n",
        "\n",
        "```"
      ]
    },
    {
      "cell_type": "code",
      "metadata": {
        "id": "T_6u7047ceuU",
        "colab_type": "code",
        "outputId": "e332b2d9-1e32-49b8-be1a-70edf5c187be",
        "colab": {
          "base_uri": "https://localhost:8080/",
          "height": 33
        }
      },
      "source": [
        "'Success'.count('S')"
      ],
      "execution_count": 0,
      "outputs": [
        {
          "output_type": "execute_result",
          "data": {
            "text/plain": [
              "1"
            ]
          },
          "metadata": {
            "tags": []
          },
          "execution_count": 9
        }
      ]
    },
    {
      "cell_type": "code",
      "metadata": {
        "id": "cfdquf9rf56X",
        "colab_type": "code",
        "outputId": "e7ea2085-39d3-4fe6-84d8-913dd140586f",
        "colab": {
          "base_uri": "https://localhost:8080/",
          "height": 50
        }
      },
      "source": [
        "test_str = 'Success'\n",
        "test_str = test_str.lower()\n",
        "hash_ = []\n",
        "\n",
        "for letter in test_str:\n",
        "    hash_.append(test_str.count(letter)>1)\n",
        "\n",
        "print (hash_)\n",
        "\n",
        "new_str = ''.join([')' if elem else '(' for elem in hash_])\n",
        "\n",
        "new_str"
      ],
      "execution_count": 0,
      "outputs": [
        {
          "output_type": "stream",
          "text": [
            "[True, False, True, True, False, True, True]\n"
          ],
          "name": "stdout"
        },
        {
          "output_type": "execute_result",
          "data": {
            "text/plain": [
              "')())())'"
            ]
          },
          "metadata": {
            "tags": []
          },
          "execution_count": 11
        }
      ]
    },
    {
      "cell_type": "markdown",
      "metadata": {
        "id": "q1b1Jtw5gTLB",
        "colab_type": "text"
      },
      "source": [
        "### Counting Duplicates\n",
        "\n",
        "[link](https://www.codewars.com/kata/54bf1c2cd5b56cc47f0007a1/train/python)\n",
        "\n",
        "Write a function that will return the count of distinct case-insensitive alphabetic characters and numeric digits that occur more than once in the input string. The input string can be assumed to contain only alphabets (both uppercase and lowercase) and numeric digits.\n",
        "\n",
        "\n",
        "```\n",
        "Example\n",
        "\"abcde\" -> 0 # no characters repeats more than once\n",
        "\"aabbcde\" -> 2 # 'a' and 'b'\n",
        "\"aabBcde\" -> 2 # 'a' occurs twice and 'b' twice (`b` and `B`)\n",
        "\"indivisibility\" -> 1 # 'i' occurs six times\n",
        "\"Indivisibilities\" -> 2 # 'i' occurs seven times and 's' occurs twice\n",
        "\"aA11\" -> 2 # 'a' and '1'\n",
        "\"ABBA\" -> 2 # 'A' and 'B' each occur twice\n",
        "```\n"
      ]
    },
    {
      "cell_type": "code",
      "metadata": {
        "id": "mR80NPSGdT1m",
        "colab_type": "code",
        "outputId": "8c7d316f-fc12-4b5a-ece3-7ea0f7eb6765",
        "colab": {
          "base_uri": "https://localhost:8080/",
          "height": 33
        }
      },
      "source": [
        "test_str = 'Indivisibilitie'\n",
        "test_str = test_str.lower()\n",
        "\n",
        "count=0\n",
        "duplicates_seen = []\n",
        "for letter in test_str:\n",
        "    if test_str.count(letter) > 1 and letter not in duplicates_seen:\n",
        "        count+=1\n",
        "        duplicates_seen.append(letter)\n",
        "\n",
        "print (count)"
      ],
      "execution_count": 0,
      "outputs": [
        {
          "output_type": "stream",
          "text": [
            "1\n"
          ],
          "name": "stdout"
        }
      ]
    },
    {
      "cell_type": "markdown",
      "metadata": {
        "id": "_7h2P_VOpdPc",
        "colab_type": "text"
      },
      "source": [
        "#### Better soln : use sets\n",
        "\n"
      ]
    },
    {
      "cell_type": "code",
      "metadata": {
        "colab_type": "code",
        "outputId": "4b5fd09f-8bd6-4a94-d1cd-29bc92a69e5c",
        "id": "umYHlrDEFa6I",
        "colab": {
          "base_uri": "https://localhost:8080/",
          "height": 33
        }
      },
      "source": [
        "count = 0\n",
        "for letter in set(test_str):\n",
        "    if test_str.count(letter) > 1:\n",
        "        count +=1\n",
        "print (count)"
      ],
      "execution_count": 0,
      "outputs": [
        {
          "output_type": "stream",
          "text": [
            "1\n"
          ],
          "name": "stdout"
        }
      ]
    },
    {
      "cell_type": "markdown",
      "metadata": {
        "id": "Y8Ft_fuuFca1",
        "colab_type": "text"
      },
      "source": [
        "Converting the above code to list comprehension"
      ]
    },
    {
      "cell_type": "code",
      "metadata": {
        "id": "uokmtU-ypnwM",
        "colab_type": "code",
        "outputId": "b6bf7ff6-f326-4123-f7b5-c6f40daec46d",
        "colab": {
          "base_uri": "https://localhost:8080/",
          "height": 33
        }
      },
      "source": [
        "test_str = test_str.lower()\n",
        "\n",
        "print (sum([1 if test_str.count(letter) > 1 else 0 for letter in set(test_str)]))"
      ],
      "execution_count": 0,
      "outputs": [
        {
          "output_type": "stream",
          "text": [
            "1\n"
          ],
          "name": "stdout"
        }
      ]
    },
    {
      "cell_type": "markdown",
      "metadata": {
        "id": "mAgb_7gL1ENg",
        "colab_type": "text"
      },
      "source": [
        "### Multiples of 3 or 5\n",
        "\n",
        "[link](https://www.codewars.com/kata/514b92a657cdc65150000006/train/python)\n",
        "\n",
        "If we list all the natural numbers below 10 that are multiples of 3 or 5, we get 3, 5, 6 and 9. The sum of these multiples is 23.\n",
        "\n",
        "Finish the solution so that it returns the sum of all the multiples of 3 or 5 below the number passed in.\n",
        "\n",
        "Note: If the number is a multiple of both 3 and 5, only count it once.\n",
        "\n",
        "\n",
        "```\n",
        "test.describe(\"Multiples of 3 and 5\")\n",
        "test.it(\"should handle basic cases\")\n",
        "test.assert_equals(solution(10), 23)\n",
        "```"
      ]
    },
    {
      "cell_type": "code",
      "metadata": {
        "id": "eAWpiv-KB4wd",
        "colab_type": "code",
        "outputId": "cf70169b-a4f9-433c-b1c9-7906f0a4e2b8",
        "colab": {
          "base_uri": "https://localhost:8080/",
          "height": 33
        }
      },
      "source": [
        "sum({1,23,})"
      ],
      "execution_count": 0,
      "outputs": [
        {
          "output_type": "execute_result",
          "data": {
            "text/plain": [
              "24"
            ]
          },
          "metadata": {
            "tags": []
          },
          "execution_count": 6
        }
      ]
    },
    {
      "cell_type": "code",
      "metadata": {
        "id": "6g5WRtub8P-Z",
        "colab_type": "code",
        "outputId": "a169b106-5cb1-4859-b4d0-55511d378173",
        "colab": {
          "base_uri": "https://localhost:8080/",
          "height": 33
        }
      },
      "source": [
        "n = 10\n",
        "\n",
        "sum(set(list(range(3, n, 3)) + list(range(5, n, 5))))"
      ],
      "execution_count": 0,
      "outputs": [
        {
          "output_type": "execute_result",
          "data": {
            "text/plain": [
              "23"
            ]
          },
          "metadata": {
            "tags": []
          },
          "execution_count": 8
        }
      ]
    },
    {
      "cell_type": "markdown",
      "metadata": {
        "id": "UwJpMFQfMHyu",
        "colab_type": "text"
      },
      "source": [
        "### Expressions Matter\n",
        "\n",
        "[link](https://www.codewars.com/kata/5ae62fcf252e66d44d00008e/train/python)\n",
        "\n",
        "\n",
        "- Given three integers a ,b ,c, return the largest number obtained after inserting the following operators and brackets: +, *, ()\n",
        "\n",
        "In other words , try every combination of a,b,c with [*+()] , and return the Maximum Obtained\n",
        "\n",
        "With the numbers are 1, 2 and 3 , here are some ways of placing signs and brackets:\n",
        "\n",
        "```\n",
        "1 * (2 + 3) = 5\n",
        "1 * 2 * 3 = 6\n",
        "1 + 2 * 3 = 7\n",
        "(1 + 2) * 3 = 9\n",
        "```\n",
        "\n",
        "So the maximum value that you can obtain is 9.\n",
        "\n",
        "#### Dry runs\n",
        "\n",
        "2,1,2 -> largest no at the end so `2*(1+2) or (2+1)*2` OR `2*1*2` like 3,5,7 -> `3*5*7`\n",
        "\n",
        "General rule, if largest no at edge xyz and z is largest, `*z` is fixed, now it can be `(x+y)*z or (x*y)*z`\n",
        "Similarly if x is largest `x*(y*z) OR x*(y+z)`\n",
        "\n",
        "If y is largest y has to be mul, check `x*y*z` or `(x+y)*z` or `x*(y+z)` or `x+y+z` if x and z are both 1\n",
        "\n",
        "if all eq, xxx return `x*x*x`, except 111 \n",
        "if 1x1, return `1+x+1`\n",
        "\n",
        "2,1,1 -> `2*(1+1)`\n",
        "1,1,1 -> all eq so just mul all\n",
        "1,2,3 -> (1+2)*3\n",
        "\n",
        "1,3,1 -> largest no at mid so `1+3+1 or 1*3*1`\n",
        "\n",
        "\n"
      ]
    },
    {
      "cell_type": "code",
      "metadata": {
        "id": "dreQV1zwP075",
        "colab_type": "code",
        "outputId": "e6104afe-5eee-4f31-d30e-6e84696cf8ef",
        "colab": {
          "base_uri": "https://localhost:8080/",
          "height": 33
        }
      },
      "source": [
        "def expression_matter(a, b, c):\n",
        "    ### case: 1x1\n",
        "    if a==c==1:\n",
        "        return a+b+c\n",
        "    ### case xxx where x!=1\n",
        "    elif a==b==c:\n",
        "        return a*b*c\n",
        "    ### case: largest no at edge a is largest\n",
        "    elif a > b and a >= c:\n",
        "        return max (a*b*c, a*(b+c))\n",
        "    elif c > b and c >= a:\n",
        "        return max(a*b*c, (a+b)*c)\n",
        "    ### case: max no is in mid\n",
        "    elif b>=a and b>=c:\n",
        "        return max(a*b*c, (a+b)*c, a*(b+c))\n",
        "\n",
        "    \n",
        "    \n",
        "\n",
        "expression_matter(7,7,6)"
      ],
      "execution_count": 0,
      "outputs": [
        {
          "output_type": "execute_result",
          "data": {
            "text/plain": [
              "294"
            ]
          },
          "metadata": {
            "tags": []
          },
          "execution_count": 15
        }
      ]
    },
    {
      "cell_type": "markdown",
      "metadata": {
        "id": "AOxNZbKa12qV",
        "colab_type": "text"
      },
      "source": [
        "### Decode the Morse code (part 1)\n",
        "\n",
        "[link](https://www.codewars.com/kata/54b724efac3d5402db00065e/train/python)\n",
        "\n",
        "In this kata you have to write a simple Morse code decoder. While the Morse code is now mostly superseded by voice and digital data communication channels, it still has its use in some applications around the world.\n",
        "The Morse code encodes every character as a sequence of \"dots\" and \"dashes\". For example, the letter A is coded as ·−, letter Q is coded as −−·−, and digit 1 is coded as ·−−−−. The Morse code is case-insensitive, traditionally capital letters are used. When the message is written in Morse code, a single space is used to separate the character codes and 3 spaces are used to separate words. For example, the message HEY JUDE in Morse code is ···· · −·−−   ·−−− ··− −·· ·.\n",
        "\n",
        "NOTE: Extra spaces before or after the code have no meaning and should be ignored.\n",
        "\n",
        "In addition to letters, digits and some punctuation, there are some special service codes, the most notorious of those is the international distress signal SOS (that was first issued by Titanic), that is coded as ···−−−···. These special codes are treated as single special characters, and usually are transmitted as separate words.\n",
        "\n",
        "Your task is to implement a function that would take the morse code as input and return a decoded human-readable string.\n",
        "\n",
        "For example:\n",
        "\n",
        "```\n",
        "decodeMorse('.... . -.--   .--- ..- -.. .')\n",
        "#should return \"HEY JUDE\"\n",
        "```\n",
        "\n",
        "\n",
        "\n"
      ]
    },
    {
      "cell_type": "code",
      "metadata": {
        "id": "L2xpdWlE2Yrw",
        "colab_type": "code",
        "colab": {
          "base_uri": "https://localhost:8080/",
          "height": 33
        },
        "outputId": "807b2acb-d702-467e-a480-c89fc0d97f1b"
      },
      "source": [
        "MORSE_CODE = {'.-': 'A', '-...': 'B', '-.-.': 'C', '-..': 'D', '.': 'E', '..-.': 'F', '--.': 'G', '....': 'H', '..': 'I', '.---': 'J', '-.-': 'K', '.-..': 'L', '--': 'M', '-.': 'N', '---': 'O', '.--.': 'P', '--.-': 'Q', '.-.': 'R', '...': 'S', '-': 'T', '..-': 'U', '...-': 'V', '.--': 'W', '-..-': 'X', '-.--': 'Y', '--..': 'Z', '-----': '0', '.----': '1', '..---': '2', '...--': '3', '....-': '4', '.....': '5', '-....': '6', '--...': '7', '---..': '8', '----.': '9', '.-.-.-': '.', '--..--': ',', '..--..': '?', '.----.': \"'\", '-.-.--': '!', '-..-.': '/', '-.--.': '(', '-.--.-': ')', '.-...': '&', '---...': ':', '-.-.-.': ';', '-...-': '=', '.-.-.': '+', '-....-': '-', '..--.-': '_', '.-..-.': '\"', '...-..-': '$', '.--.-.': '@', '...---...': 'SOS'}\n",
        "\n",
        "def decodeMorse(morse_code):\n",
        "    morse_code = morse_code.strip()\n",
        "    words = morse_code.split('   ')\n",
        "    output = []\n",
        "\n",
        "    for word_ in words:\n",
        "        letters = word_.split()\n",
        "        for letter_ in letters:\n",
        "            decoded = MORSE_CODE[letter_]\n",
        "            output.append(decoded)\n",
        "        output.append(' ')\n",
        "    return ''.join(output).strip()\n",
        "\n",
        "decodeMorse('.... . -.--   .--- ..- -.. .')\n"
      ],
      "execution_count": 6,
      "outputs": [
        {
          "output_type": "execute_result",
          "data": {
            "text/plain": [
              "'HEY JUDE'"
            ]
          },
          "metadata": {
            "tags": []
          },
          "execution_count": 6
        }
      ]
    },
    {
      "cell_type": "markdown",
      "metadata": {
        "id": "_tJSBb7A4iL0",
        "colab_type": "text"
      },
      "source": [
        "### IQ Test\n",
        "\n",
        "[link](https://www.codewars.com/kata/552c028c030765286c00007d/train/python)\n",
        "\n",
        "\n",
        "Bob is preparing to pass IQ test. The most frequent task in this test is to find out which one of the given numbers differs from the others. Bob observed that one number usually differs from the others in evenness. Help Bob — to check his answers, he needs a program that among the given numbers finds one that is different in evenness, and return a position of this number.\n",
        "\n",
        "! Keep in mind that your task is to help Bob solve a real IQ test, which means indexes of the elements start from 1 (not 0)\n",
        "\n",
        "```\n",
        "iq_test(\"2 4 7 8 10\") => 3 // Third number is odd, while the rest of the numbers are even\n",
        "\n",
        "iq_test(\"1 2 1 1\") => 2 // Second number is even, while the rest of the numbers are odd\n",
        "```\n"
      ]
    },
    {
      "cell_type": "code",
      "metadata": {
        "id": "RQGHOEpi5IdC",
        "colab_type": "code",
        "colab": {
          "base_uri": "https://localhost:8080/",
          "height": 33
        },
        "outputId": "4c20ea8b-d238-4a70-d973-10339b20d239"
      },
      "source": [
        "numbers = \"2 4 7 8 10\"\n",
        "\n",
        "numbers = [int(num) for num in numbers.strip().split()]\n",
        "\n",
        "\n",
        "odd_numbers = [no%2 for no in numbers]\n",
        "num_odd = sum(odd_numbers)\n",
        "if num_odd > 1:\n",
        "    print (odd_numbers.index(0))\n",
        "else:\n",
        "    print (odd_numbers.index(1))\n",
        "\n",
        "\n"
      ],
      "execution_count": 15,
      "outputs": [
        {
          "output_type": "stream",
          "text": [
            "2\n"
          ],
          "name": "stdout"
        }
      ]
    },
    {
      "cell_type": "markdown",
      "metadata": {
        "id": "j266XzyXthu5",
        "colab_type": "text"
      },
      "source": [
        "### Bouncing Balls\n",
        "\n",
        "[link](https://www.codewars.com/kata/5544c7a5cb454edb3c000047/train/python)\n",
        "\n",
        "A child is playing with a ball on the nth floor of a tall building. The height of this floor, h, is known.\n",
        "\n",
        "He drops the ball out of the window. The ball bounces (for example), to two-thirds of its height (a bounce of 0.66).\n",
        "\n",
        "His mother looks out of a window 1.5 meters from the ground.\n",
        "\n",
        "How many times will the mother see the ball pass in front of her window (including when it's falling and bouncing?\n",
        "\n",
        "Three conditions must be met for a valid experiment:\n",
        "\n",
        "- Float parameter \"h\" in meters must be greater than 0\n",
        "- Float parameter \"bounce\" must be greater than 0 and less than 1\n",
        "- Float parameter \"window\" must be less than h.\n",
        "\n",
        "If all three conditions above are fulfilled, return a positive integer, otherwise return -1.\n",
        "\n",
        "Note:\n",
        "The ball can only be seen if the height of the rebounding ball is strictly greater than the window parameter.\n",
        "\n",
        "Example:\n",
        "\n",
        "```\n",
        "- h = 3, bounce = 0.66, window = 1.5, result is 3\n",
        "\n",
        "- h = 3, bounce = 1, window = 1.5, result is -1 \n",
        "\n",
        "(Condition 2) not fulfilled).\n",
        "```\n",
        "\n",
        "```\n",
        "test.assert_equals(bouncingBall(3, 0.66, 1.5), 3)\n",
        "test.assert_equals(bouncingBall(30, 0.66, 1.5), 15)\n",
        "```"
      ]
    },
    {
      "cell_type": "code",
      "metadata": {
        "id": "X2iLQKH-us0S",
        "colab_type": "code",
        "colab": {}
      },
      "source": [
        "import math"
      ],
      "execution_count": 0,
      "outputs": []
    },
    {
      "cell_type": "code",
      "metadata": {
        "id": "AREzorELu118",
        "colab_type": "code",
        "colab": {
          "base_uri": "https://localhost:8080/",
          "height": 33
        },
        "outputId": "4d4bddbb-f5d1-4020-aa82-9443184b2a6d"
      },
      "source": [
        "math.ceil(7.2)"
      ],
      "execution_count": 7,
      "outputs": [
        {
          "output_type": "execute_result",
          "data": {
            "text/plain": [
              "8"
            ]
          },
          "metadata": {
            "tags": []
          },
          "execution_count": 7
        }
      ]
    },
    {
      "cell_type": "code",
      "metadata": {
        "id": "BLFOymv_uB7K",
        "colab_type": "code",
        "colab": {
          "base_uri": "https://localhost:8080/",
          "height": 33
        },
        "outputId": "f4bedb69-0d37-4f65-815d-2baf941457bb"
      },
      "source": [
        "def bouncingBall(h, bounce, window):\n",
        "    if h <=0 or bounce <=0 or bounce >=1 or window >= h:\n",
        "        return -1\n",
        "    num_bounces = math.ceil(math.log(window/h)/math.log(bounce))*2 - 1\n",
        "    return num_bounces\n",
        "\n",
        "bouncingBall(30,0.66,1.5)"
      ],
      "execution_count": 13,
      "outputs": [
        {
          "output_type": "execute_result",
          "data": {
            "text/plain": [
              "-1"
            ]
          },
          "metadata": {
            "tags": []
          },
          "execution_count": 13
        }
      ]
    },
    {
      "cell_type": "markdown",
      "metadata": {
        "id": "UUE33r1IO-MY",
        "colab_type": "text"
      },
      "source": [
        "## SQL Problems\n",
        "\n",
        "---"
      ]
    },
    {
      "cell_type": "markdown",
      "metadata": {
        "id": "y5fSbLzQQYgi",
        "colab_type": "text"
      },
      "source": [
        "### SQL Basics - Position\n",
        "\n",
        "[link](https://www.codewars.com/kata/59401e0e54a655a298000040/train/sql)\n",
        "\n",
        "You have access to a table of monsters as follows:\n",
        "\n",
        "monsters schema\n",
        "\n",
        "- id\n",
        "- name\n",
        "- legs\n",
        "- arms\n",
        "- characteristics\n",
        "\n",
        "In each row, the characteristic column has a single comma. Your job is to find it using position(). You must return a table with the format as follows:\n",
        "\n",
        "output schema\n",
        "\n",
        "- id\n",
        "- name\n",
        "- comma\n",
        "\n",
        "The comma column will contain the position of the comma within the characteristics string. Order the results by comma.\n",
        "\n",
        "### Solution:\n",
        "\n",
        "``` sql\n",
        "SELECT id, name, POSITION(',' in characteristics) AS comma\n",
        "FROM monsters\n",
        "ORDER BY comma\n",
        "```\n",
        "\n"
      ]
    },
    {
      "cell_type": "markdown",
      "metadata": {
        "id": "fI3cVxDGFh5q",
        "colab_type": "text"
      },
      "source": [
        "### Easy SQL: ASCII Converter\n",
        "\n",
        "Given a demographics table in the following format:\n",
        "\n",
        "** demographics table schema **\n",
        "\n",
        "- id\n",
        "- name\n",
        "- birthday\n",
        "- race\n",
        "\n",
        "you need to return the same table where all text fields (name & race) are changed to the ascii code of their first byte.\n",
        "\n",
        "e.g. Verlie = 86 Warren = 87 Horace = 72 Tracy = 84\n",
        "\n",
        "#### Solution:\n",
        "\n",
        "``` sql\n",
        "SELECT id, ASCII(LEFT(name, 1)) AS name, birthday, ASCII(LEFT(race, 1)) AS race\n",
        "FROM demographics\n",
        "```\n",
        "\n",
        "### Easy SQL: Counting and Grouping\n",
        "\n",
        "Given a demographics table in the following format:\n",
        "\n",
        "** demographics table schema **\n",
        "\n",
        "id\n",
        "\n",
        "name\n",
        "\n",
        "birthday\n",
        "\n",
        "race\n",
        "\n",
        "you need to return a table that shows a count of each race represented, ordered by the count in descending order as:\n",
        "\n",
        "** output table schema **\n",
        "\n",
        "race\n",
        "\n",
        "count\n",
        "\n",
        "#### Solution\n",
        "\n",
        "```sql\n",
        "SELECT race, COUNT(race) AS count\n",
        "FROM demographics\n",
        "GROUP BY race\n",
        "ORDER BY count DESC\n",
        "```\n"
      ]
    },
    {
      "cell_type": "markdown",
      "metadata": {
        "id": "A1fc-lRz9KQ4",
        "colab_type": "text"
      },
      "source": [
        "### SQL Basics: Simple EXISTS\n",
        "\n",
        "For this challenge you need to create a SELECT statement, this SELECT statement will use an EXISTS to check whether a department has had a sale with a price over 98.00 dollars.\n",
        "\n",
        "departments table schema\n",
        "\n",
        "- id\n",
        "- name\n",
        "\n",
        "\n",
        "sales table schema\n",
        "\n",
        "- id\n",
        "- department_id (department foreign key)\n",
        "- name\n",
        "- price\n",
        "- card_name\n",
        "- card_number\n",
        "- transaction_date\n",
        "\n",
        "#### Solution\n",
        "\n",
        "``` sql\n",
        "SELECT id, name\n",
        "FROM departments\n",
        "WHERE EXISTS\n",
        "(\n",
        "  SELECT 1\n",
        "  FROM sales\n",
        "  WHERE departments.id = sales.department_id AND price > 98\n",
        ")\n",
        "```\n",
        "\n",
        "### SQL Basics: Up and Down\n",
        "\n",
        "\n",
        "Given a table of random numbers as follows:\n",
        "\n",
        "** numbers table schema **\n",
        "\n",
        "- id\n",
        "- number1\n",
        "- number2\n",
        "\n",
        "Your job is to return table with similar structure and headings, where if the sum of a column is odd, the column shows the minimum value for that column, and when the sum is even, it shows the max value. You must use a case statement.\n",
        "\n",
        "** output table schema **\n",
        "\n",
        "- number1\n",
        "- number2\n",
        "\n",
        "```sql\n",
        "SELECT \n",
        "  CASE \n",
        "    WHEN SUM(number1)%2=0 THEN MAX(number1)\n",
        "    ELSE MIN(number1) \n",
        "  END AS number1,\n",
        "  CASE \n",
        "    WHEN SUM(number2)%2=0 THEN MAX(number2)\n",
        "    ELSE MIN(number2) \n",
        "  END AS number2\n",
        "\n",
        "FROM numbers\n",
        "```\n",
        "\n"
      ]
    },
    {
      "cell_type": "markdown",
      "metadata": {
        "id": "8ZrjcJhUUcZo",
        "colab_type": "text"
      },
      "source": [
        "### SQL Basics: Create a FUNCTION\n",
        "\n",
        "[ref 1](https://www.javatpoint.com/postgresql-functions)\n",
        "\n",
        "[ref 2](https://www.postgresqltutorial.com/postgresql-create-function/)\n",
        "\n",
        "For this challenge you need to create a basic Increment function which Increments on the age field of the peoples table.\n",
        "\n",
        "The function should be called increment, it needs to take 1 integer and increment that number by 1.\n",
        "\n",
        "You may query the people table while testing but the query must only contain the function on your final submit.\n",
        "\n",
        "important: you must remove all comments when submitting the kata.\n",
        "people table schema\n",
        "\n",
        "- id\n",
        "- name\n",
        "- age\n",
        "\n",
        "#### Solution\n",
        "\n",
        "```sql\n",
        "CREATE FUNCTION increment(int_ integer) RETURNS integer AS $inc_int$\n",
        "BEGIN\n",
        "RETURN int_+1;\n",
        "END; $inc_int$\n",
        "LANGUAGE PLPGSQL;\n",
        "```\n",
        "\n",
        "### SQL: Regex AlphaNumeric Split\n",
        "\n",
        "[link](https://www.codewars.com/kata/594257d4db68b6e99200002c/train/sql)"
      ]
    },
    {
      "cell_type": "code",
      "metadata": {
        "id": "TAjzKDIXDC4w",
        "colab_type": "code",
        "colab": {}
      },
      "source": [
        ""
      ],
      "execution_count": 0,
      "outputs": []
    }
  ]
}