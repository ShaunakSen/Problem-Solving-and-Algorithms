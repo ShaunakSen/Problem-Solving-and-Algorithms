{
 "cells": [
  {
   "cell_type": "markdown",
   "source": "<a href=\"https://colab.research.google.com/github/ShaunakSen/problem-solving-with-code/blob/master/Practice_Python_and_SQL_Challenges.ipynb\" target=\"_parent\"><img src=\"https://colab.research.google.com/assets/colab-badge.svg\" alt=\"Open In Colab\"/></a>",
   "metadata": {
    "id": "view-in-github",
    "colab_type": "text",
    "cell_id": "00000-b75c2274-1c06-486b-896e-0d97c6353f56",
    "deepnote_cell_type": "markdown"
   }
  },
  {
   "cell_type": "markdown",
   "source": "## Codewars Problems\n\n---\n\n## Python\n\n---\n\n### Isograms\n\n\n[link](https://www.codewars.com/kata/54ba84be607a92aa900000f1/train/python)\n\nAn isogram is a word that has no repeating letters, consecutive or non-consecutive. Implement a function that determines whether a string that contains only letters is an isogram. Assume the empty string is an isogram. Ignore letter case.\n\nTest Cases:\n\n``` python\nTest.assert_equals(is_isogram(\"Dermatoglyphics\"), True )\nTest.assert_equals(is_isogram(\"isogram\"), True )\nTest.assert_equals(is_isogram(\"aba\"), False, \"same chars may not be adjacent\" )\nTest.assert_equals(is_isogram(\"moOse\"), False, \"same chars may not be same case\" )\nTest.assert_equals(is_isogram(\"isIsogram\"), False )\nTest.assert_equals(is_isogram(\"\"), True, \"an empty string is a valid isogram\" )\n```\n",
   "metadata": {
    "id": "Mrap9vDT-LsO",
    "colab_type": "text",
    "cell_id": "00001-e034249e-1a71-4fe3-b6e3-aceda3369c74",
    "deepnote_cell_type": "markdown"
   }
  },
  {
   "cell_type": "code",
   "metadata": {
    "id": "TOsm_Mv896sV",
    "colab_type": "code",
    "outputId": "5bf29e84-b4f2-43e0-f677-c84b48a2bcd5",
    "colab": {
     "base_uri": "https://localhost:8080/",
     "height": 34
    },
    "cell_id": "00002-f1d3dc31-fc98-4b0e-92b3-bd9db1ac4671",
    "deepnote_output_heights": [
     21.1875
    ],
    "deepnote_cell_type": "code"
   },
   "source": "def is_isogram(string):\n\n    string_as_list = [letter.lower() for letter in string]\n    return len(set(string_as_list)) == len(string_as_list)\n\ntest_str = 'Dermadtoglyphics'\n\nis_isogram(test_str)",
   "execution_count": 0,
   "outputs": [
    {
     "output_type": "execute_result",
     "data": {
      "text/plain": "True"
     },
     "metadata": {
      "tags": []
     },
     "execution_count": 19
    }
   ]
  },
  {
   "cell_type": "markdown",
   "source": "### Mumbling\n\n[link](https://www.codewars.com/kata/5667e8f4e3f572a8f2000039/train/python)\n\n```\naccum(\"abcd\") -> \"A-Bb-Ccc-Dddd\"\naccum(\"RqaEzty\") -> \"R-Qq-Aaa-Eeee-Zzzzz-Tttttt-Yyyyyyy\"\naccum(\"cwAt\") -> \"C-Ww-Aaa-Tttt\"\n```",
   "metadata": {
    "id": "z5OOHzVIIJlz",
    "colab_type": "text",
    "cell_id": "00003-1535c562-a221-4aa0-b5d3-40f3e741053c",
    "deepnote_cell_type": "markdown"
   }
  },
  {
   "cell_type": "code",
   "metadata": {
    "id": "HNw0MG4GB_uW",
    "colab_type": "code",
    "outputId": "9b73c7d9-7e34-4a1f-8f1b-1ccd2d4ac37a",
    "colab": {
     "base_uri": "https://localhost:8080/",
     "height": 34
    },
    "cell_id": "00004-b6cb32b5-058e-44cf-ae4b-b9a9349c0c8e",
    "deepnote_output_heights": [
     21.1875
    ],
    "deepnote_cell_type": "code"
   },
   "source": "test_str = 'abcd'\n\n'-'.join([test_str[idx].upper() + test_str[idx].lower()*idx for idx in range(len(test_str))])",
   "execution_count": 0,
   "outputs": [
    {
     "output_type": "execute_result",
     "data": {
      "text/plain": "'A-Bb-Ccc-Dddd'"
     },
     "metadata": {
      "tags": []
     },
     "execution_count": 27
    }
   ]
  },
  {
   "cell_type": "markdown",
   "source": "### Jaden Casing Strings\n\nJaden Smith, the son of Will Smith, is the star of films such as The Karate Kid (2010) and After Earth (2013). Jaden is also known for some of his philosophy that he delivers via Twitter. When writing on Twitter, he is known for almost always capitalizing every word. For simplicity, you'll have to capitalize each word, check out how contractions are expected to be in the example below.\n\nYour task is to convert strings to how they would be written by Jaden Smith. The strings are actual quotes from Jaden Smith, but they are not capitalized in the same way he originally typed them.\n\n```\nNot Jaden-Cased: \"How can mirrors be real if our eyes aren't real\"\nJaden-Cased:     \"How Can Mirrors Be Real If Our Eyes Aren't Real\"\n```",
   "metadata": {
    "id": "iHwD0z_4tOV_",
    "colab_type": "text",
    "cell_id": "00005-0b28c9ee-ee9a-43bc-8f06-2933da677848",
    "deepnote_cell_type": "markdown"
   }
  },
  {
   "cell_type": "code",
   "metadata": {
    "id": "uTDi8iT9tcrm",
    "colab_type": "code",
    "outputId": "5b537cf8-4bc4-4042-e6ca-58029bbe630c",
    "colab": {
     "base_uri": "https://localhost:8080/",
     "height": 34
    },
    "cell_id": "00006-05644adc-ca82-45cb-88ed-15998e7c7f36",
    "deepnote_output_heights": [
     21.1875
    ],
    "deepnote_cell_type": "code"
   },
   "source": "'hey there'.capitalize()",
   "execution_count": 0,
   "outputs": [
    {
     "output_type": "execute_result",
     "data": {
      "text/plain": "'Hey there'"
     },
     "metadata": {
      "tags": []
     },
     "execution_count": 1
    }
   ]
  },
  {
   "cell_type": "code",
   "metadata": {
    "id": "i7MscT75tgNe",
    "colab_type": "code",
    "outputId": "0b947bb2-0bd3-41a8-add8-acf432b6e0e1",
    "colab": {
     "base_uri": "https://localhost:8080/",
     "height": 34
    },
    "cell_id": "00007-49c3fe10-7583-4e95-889a-845c0a3d25c8",
    "deepnote_output_heights": [
     21.1875
    ],
    "deepnote_cell_type": "code"
   },
   "source": "test_str = \"How can mirrors be real if our eyes aren't real\"\n\n' '.join([word.capitalize() for word in test_str.split()])",
   "execution_count": 0,
   "outputs": [
    {
     "output_type": "execute_result",
     "data": {
      "text/plain": "\"How Can Mirrors Be Real If Our Eyes Aren't Real\""
     },
     "metadata": {
      "tags": []
     },
     "execution_count": 3
    }
   ]
  },
  {
   "cell_type": "markdown",
   "source": "### Binary Addition\n\n\nImplement a function that adds two numbers together and returns their sum in binary. The conversion can be done before, or after the addition.\n\nThe binary number returned should be a string.\n\n```\nTest.assert_equals(add_binary(1,1),\"10\")\nTest.assert_equals(add_binary(0,1),\"1\")\nTest.assert_equals(add_binary(1,0),\"1\")\nTest.assert_equals(add_binary(2,2),\"100\")\nTest.assert_equals(add_binary(51,12),\"111111\")\n```",
   "metadata": {
    "id": "VGWPucdcuDtA",
    "colab_type": "text",
    "cell_id": "00008-1fb55006-c81c-4780-91d3-7aa3bff62b97",
    "deepnote_cell_type": "markdown"
   }
  },
  {
   "cell_type": "code",
   "metadata": {
    "id": "szZfwapCt0du",
    "colab_type": "code",
    "outputId": "d0072563-f1a0-4d4d-fbc9-784947c5e5e7",
    "colab": {
     "base_uri": "https://localhost:8080/",
     "height": 34
    },
    "cell_id": "00009-13dc4f26-2e97-4f1a-ba85-a8ec65ff3019",
    "deepnote_output_heights": [
     21.1875
    ],
    "deepnote_cell_type": "code"
   },
   "source": "def convert_to_binary(num):\n    binary = []\n    while num != 0:\n        rem = num%2\n        num = int(num/2)\n        binary.append(rem)\n\n    return binary\n\nlist(reversed(convert_to_binary(339)))\n\n",
   "execution_count": 0,
   "outputs": [
    {
     "output_type": "execute_result",
     "data": {
      "text/plain": "[1, 0, 1, 0, 1, 0, 0, 1, 1]"
     },
     "metadata": {
      "tags": []
     },
     "execution_count": 10
    }
   ]
  },
  {
   "cell_type": "code",
   "metadata": {
    "id": "eRBD0uKy9DVQ",
    "colab_type": "code",
    "outputId": "e02d9f2b-7869-4f3c-dae8-d99404495cf0",
    "colab": {
     "base_uri": "https://localhost:8080/",
     "height": 34
    },
    "cell_id": "00010-8ee26384-b76c-4642-a4ef-33a01e2af5ff",
    "deepnote_output_heights": [
     21.1875
    ],
    "deepnote_cell_type": "code"
   },
   "source": "bin(339)[2:]",
   "execution_count": 0,
   "outputs": [
    {
     "output_type": "execute_result",
     "data": {
      "text/plain": "'101010011'"
     },
     "metadata": {
      "tags": []
     },
     "execution_count": 12
    }
   ]
  },
  {
   "cell_type": "markdown",
   "source": "### Dubset \n\n[link](https://www.codewars.com/kata/551dc350bf4e526099000ae5/train/python)\n\nPolycarpus works as a DJ in the best Berland nightclub, and he often uses dubstep music in his performance. Recently, he has decided to take a couple of old songs and make dubstep remixes from them.\n\nLet's assume that a song consists of some number of words (that don't contain WUB). To make the dubstep remix of this song, Polycarpus inserts a certain number of words \"WUB\" before the first word of the song (the number may be zero), after the last word (the number may be zero), and between words (at least one between any pair of neighbouring words), and then the boy glues together all the words, including \"WUB\", in one string and plays the song at the club.\n\nFor example, a song with words \"I AM X\" can transform into a dubstep remix as \"WUBWUBIWUBAMWUBWUBX\" and cannot transform into \"WUBWUBIAMWUBX\".\n\nRecently, Jonny has heard Polycarpus's new dubstep track, but since he isn't into modern music, he decided to find out what was the initial song that Polycarpus remixed. Help Jonny restore the original song.\n\n```\n\nsong_decoder(\"WUBWEWUBAREWUBWUBTHEWUBCHAMPIONSWUBMYWUBFRIENDWUB\")\n  # =>  WE ARE THE CHAMPIONS MY FRIEND\n\nTest.assert_equals(song_decoder(\"AWUBBWUBC\"), \"A B C\",\"WUB should be replaced by 1 space\")\nTest.assert_equals(song_decoder(\"AWUBWUBWUBBWUBWUBWUBC\"), \"A B C\",\"multiples WUB should be replaced by only 1 space\")\nTest.assert_equals(song_decoder(\"WUBAWUBBWUBCWUB\"), \"A B C\",\"heading or trailing spaces should be removed\")\n\n```",
   "metadata": {
    "id": "7V1v6Xj3fVzu",
    "colab_type": "text",
    "cell_id": "00011-12a0bd84-2bc9-4d84-bc54-8ad934d54fb6",
    "deepnote_cell_type": "markdown"
   }
  },
  {
   "cell_type": "code",
   "metadata": {
    "id": "GlNeNsFo9LLS",
    "colab_type": "code",
    "outputId": "edcfcccf-7b96-40eb-883e-549f08ce6f3b",
    "colab": {
     "base_uri": "https://localhost:8080/",
     "height": 34
    },
    "cell_id": "00012-2ed7fa07-80df-4da1-ad75-abebc05239ca",
    "deepnote_output_heights": [
     21.1875
    ],
    "deepnote_cell_type": "code"
   },
   "source": "test_str = \"WUBWEWUBAREWUBWUBTHEWUBCHAMPIONSWUBMYWUBFRIENDWUB\"\n\nwords = [word for word in test_str.split('WUB') if word.strip()!='']\n\n' '.join(words)",
   "execution_count": 0,
   "outputs": [
    {
     "output_type": "execute_result",
     "data": {
      "text/plain": "'WE ARE THE CHAMPIONS MY FRIEND'"
     },
     "metadata": {
      "tags": []
     },
     "execution_count": 4
    }
   ]
  },
  {
   "cell_type": "markdown",
   "source": "### Duplicate Encoder\n\n[link](https://www.codewars.com/kata/54b42f9314d9229fd6000d9c/train/python)\n\nThe goal of this exercise is to convert a string to a new string where each character in the new string is \"(\" if that character appears only once in the original string, or \")\" if that character appears more than once in the original string. Ignore capitalization when determining if a character is a duplicate.\n\n\n```\n\"din\"      =>  \"(((\"\n\"recede\"   =>  \"()()()\"\n\"Success\"  =>  \")())())\"\n\"(( @\"     =>  \"))((\" \n\n```",
   "metadata": {
    "id": "LFW33kVdbdFS",
    "colab_type": "text",
    "cell_id": "00013-34247177-0fc6-4508-8cae-2c25d804d501",
    "deepnote_cell_type": "markdown"
   }
  },
  {
   "cell_type": "code",
   "metadata": {
    "id": "T_6u7047ceuU",
    "colab_type": "code",
    "outputId": "e332b2d9-1e32-49b8-be1a-70edf5c187be",
    "colab": {
     "base_uri": "https://localhost:8080/",
     "height": 33
    },
    "cell_id": "00014-6bcf495f-80c5-45d0-a201-bb9636e7e363",
    "deepnote_output_heights": [
     21.1875
    ],
    "deepnote_cell_type": "code"
   },
   "source": "'Success'.count('S')",
   "execution_count": 0,
   "outputs": [
    {
     "output_type": "execute_result",
     "data": {
      "text/plain": "1"
     },
     "metadata": {
      "tags": []
     },
     "execution_count": 9
    }
   ]
  },
  {
   "cell_type": "code",
   "metadata": {
    "id": "cfdquf9rf56X",
    "colab_type": "code",
    "outputId": "e7ea2085-39d3-4fe6-84d8-913dd140586f",
    "colab": {
     "base_uri": "https://localhost:8080/",
     "height": 50
    },
    "cell_id": "00015-7d8679f0-e3a2-4de4-874f-459c8e61a64e",
    "deepnote_output_heights": [
     null,
     21.1875
    ],
    "deepnote_cell_type": "code"
   },
   "source": "test_str = 'Success'\ntest_str = test_str.lower()\nhash_ = []\n\nfor letter in test_str:\n    hash_.append(test_str.count(letter)>1)\n\nprint (hash_)\n\nnew_str = ''.join([')' if elem else '(' for elem in hash_])\n\nnew_str",
   "execution_count": 0,
   "outputs": [
    {
     "output_type": "stream",
     "text": "[True, False, True, True, False, True, True]\n",
     "name": "stdout"
    },
    {
     "output_type": "execute_result",
     "data": {
      "text/plain": "')())())'"
     },
     "metadata": {
      "tags": []
     },
     "execution_count": 11
    }
   ]
  },
  {
   "cell_type": "markdown",
   "source": "### Counting Duplicates\n\n[link](https://www.codewars.com/kata/54bf1c2cd5b56cc47f0007a1/train/python)\n\nWrite a function that will return the count of distinct case-insensitive alphabetic characters and numeric digits that occur more than once in the input string. The input string can be assumed to contain only alphabets (both uppercase and lowercase) and numeric digits.\n\n\n```\nExample\n\"abcde\" -> 0 # no characters repeats more than once\n\"aabbcde\" -> 2 # 'a' and 'b'\n\"aabBcde\" -> 2 # 'a' occurs twice and 'b' twice (`b` and `B`)\n\"indivisibility\" -> 1 # 'i' occurs six times\n\"Indivisibilities\" -> 2 # 'i' occurs seven times and 's' occurs twice\n\"aA11\" -> 2 # 'a' and '1'\n\"ABBA\" -> 2 # 'A' and 'B' each occur twice\n```\n",
   "metadata": {
    "id": "q1b1Jtw5gTLB",
    "colab_type": "text",
    "cell_id": "00016-88bbb346-7ac2-4d20-be3c-98dbe818b200",
    "deepnote_cell_type": "markdown"
   }
  },
  {
   "cell_type": "code",
   "metadata": {
    "id": "mR80NPSGdT1m",
    "colab_type": "code",
    "outputId": "8c7d316f-fc12-4b5a-ece3-7ea0f7eb6765",
    "colab": {
     "base_uri": "https://localhost:8080/",
     "height": 33
    },
    "cell_id": "00017-585e56f6-1ec7-449b-9814-b1fc3b2cb437",
    "deepnote_cell_type": "code"
   },
   "source": "test_str = 'Indivisibilitie'\ntest_str = test_str.lower()\n\ncount=0\nduplicates_seen = []\nfor letter in test_str:\n    if test_str.count(letter) > 1 and letter not in duplicates_seen:\n        count+=1\n        duplicates_seen.append(letter)\n\nprint (count)",
   "execution_count": 0,
   "outputs": [
    {
     "output_type": "stream",
     "text": "1\n",
     "name": "stdout"
    }
   ]
  },
  {
   "cell_type": "markdown",
   "source": "#### Better soln : use sets\n\n",
   "metadata": {
    "id": "_7h2P_VOpdPc",
    "colab_type": "text",
    "cell_id": "00018-fa35107c-9d60-4da3-9601-b2bc20cd70a4",
    "deepnote_cell_type": "markdown"
   }
  },
  {
   "cell_type": "code",
   "metadata": {
    "colab_type": "code",
    "outputId": "4b5fd09f-8bd6-4a94-d1cd-29bc92a69e5c",
    "id": "umYHlrDEFa6I",
    "colab": {
     "base_uri": "https://localhost:8080/",
     "height": 33
    },
    "cell_id": "00019-e7ffcef4-8fc1-47c5-8d07-0cb6c068d0ec",
    "deepnote_cell_type": "code"
   },
   "source": "count = 0\nfor letter in set(test_str):\n    if test_str.count(letter) > 1:\n        count +=1\nprint (count)",
   "execution_count": 0,
   "outputs": [
    {
     "output_type": "stream",
     "text": "1\n",
     "name": "stdout"
    }
   ]
  },
  {
   "cell_type": "markdown",
   "source": "Converting the above code to list comprehension",
   "metadata": {
    "id": "Y8Ft_fuuFca1",
    "colab_type": "text",
    "cell_id": "00020-b38e2bba-40fc-4e27-8842-b6528cfeb476",
    "deepnote_cell_type": "markdown"
   }
  },
  {
   "cell_type": "code",
   "metadata": {
    "id": "uokmtU-ypnwM",
    "colab_type": "code",
    "outputId": "b6bf7ff6-f326-4123-f7b5-c6f40daec46d",
    "colab": {
     "base_uri": "https://localhost:8080/",
     "height": 33
    },
    "cell_id": "00021-3d7b5431-6ffe-4095-bf04-3cafea3da94b",
    "deepnote_cell_type": "code"
   },
   "source": "test_str = test_str.lower()\n\nprint (sum([1 if test_str.count(letter) > 1 else 0 for letter in set(test_str)]))",
   "execution_count": 0,
   "outputs": [
    {
     "output_type": "stream",
     "text": "1\n",
     "name": "stdout"
    }
   ]
  },
  {
   "cell_type": "markdown",
   "source": "### Multiples of 3 or 5\n\n[link](https://www.codewars.com/kata/514b92a657cdc65150000006/train/python)\n\nIf we list all the natural numbers below 10 that are multiples of 3 or 5, we get 3, 5, 6 and 9. The sum of these multiples is 23.\n\nFinish the solution so that it returns the sum of all the multiples of 3 or 5 below the number passed in.\n\nNote: If the number is a multiple of both 3 and 5, only count it once.\n\n\n```\ntest.describe(\"Multiples of 3 and 5\")\ntest.it(\"should handle basic cases\")\ntest.assert_equals(solution(10), 23)\n```",
   "metadata": {
    "id": "mAgb_7gL1ENg",
    "colab_type": "text",
    "cell_id": "00022-16ac5471-284d-4716-9be8-cee3807915ae",
    "deepnote_cell_type": "markdown"
   }
  },
  {
   "cell_type": "code",
   "metadata": {
    "id": "eAWpiv-KB4wd",
    "colab_type": "code",
    "outputId": "cf70169b-a4f9-433c-b1c9-7906f0a4e2b8",
    "colab": {
     "base_uri": "https://localhost:8080/",
     "height": 33
    },
    "cell_id": "00023-8eecebe0-4ccf-4768-ac88-d5a7e57861b7",
    "deepnote_output_heights": [
     21.1875
    ],
    "deepnote_cell_type": "code"
   },
   "source": "sum({1,23,})",
   "execution_count": 0,
   "outputs": [
    {
     "output_type": "execute_result",
     "data": {
      "text/plain": "24"
     },
     "metadata": {
      "tags": []
     },
     "execution_count": 6
    }
   ]
  },
  {
   "cell_type": "code",
   "metadata": {
    "id": "6g5WRtub8P-Z",
    "colab_type": "code",
    "outputId": "a169b106-5cb1-4859-b4d0-55511d378173",
    "colab": {
     "base_uri": "https://localhost:8080/",
     "height": 33
    },
    "cell_id": "00024-98eb55b1-0d51-496b-b34a-2eb1edc1b2be",
    "deepnote_output_heights": [
     21.1875
    ],
    "deepnote_cell_type": "code"
   },
   "source": "n = 10\n\nsum(set(list(range(3, n, 3)) + list(range(5, n, 5))))",
   "execution_count": 0,
   "outputs": [
    {
     "output_type": "execute_result",
     "data": {
      "text/plain": "23"
     },
     "metadata": {
      "tags": []
     },
     "execution_count": 8
    }
   ]
  },
  {
   "cell_type": "markdown",
   "source": "### Expressions Matter\n\n[link](https://www.codewars.com/kata/5ae62fcf252e66d44d00008e/train/python)\n\n\n- Given three integers a ,b ,c, return the largest number obtained after inserting the following operators and brackets: +, *, ()\n\nIn other words , try every combination of a,b,c with [*+()] , and return the Maximum Obtained\n\nWith the numbers are 1, 2 and 3 , here are some ways of placing signs and brackets:\n\n```\n1 * (2 + 3) = 5\n1 * 2 * 3 = 6\n1 + 2 * 3 = 7\n(1 + 2) * 3 = 9\n```\n\nSo the maximum value that you can obtain is 9.\n\n#### Dry runs\n\n2,1,2 -> largest no at the end so `2*(1+2) or (2+1)*2` OR `2*1*2` like 3,5,7 -> `3*5*7`\n\nGeneral rule, if largest no at edge xyz and z is largest, `*z` is fixed, now it can be `(x+y)*z or (x*y)*z`\nSimilarly if x is largest `x*(y*z) OR x*(y+z)`\n\nIf y is largest y has to be mul, check `x*y*z` or `(x+y)*z` or `x*(y+z)` or `x+y+z` if x and z are both 1\n\nif all eq, xxx return `x*x*x`, except 111 \nif 1x1, return `1+x+1`\n\n2,1,1 -> `2*(1+1)`\n1,1,1 -> all eq so just mul all\n1,2,3 -> (1+2)*3\n\n1,3,1 -> largest no at mid so `1+3+1 or 1*3*1`\n\n\n",
   "metadata": {
    "id": "UwJpMFQfMHyu",
    "colab_type": "text",
    "cell_id": "00025-f0ae2f36-a5c4-4b24-9c1c-e211cb86f8ac",
    "deepnote_cell_type": "markdown"
   }
  },
  {
   "cell_type": "code",
   "metadata": {
    "id": "dreQV1zwP075",
    "colab_type": "code",
    "outputId": "e6104afe-5eee-4f31-d30e-6e84696cf8ef",
    "colab": {
     "base_uri": "https://localhost:8080/",
     "height": 33
    },
    "cell_id": "00026-acaa2b76-e1ca-4ad3-bec7-a5fe37089008",
    "deepnote_output_heights": [
     21.1875
    ],
    "deepnote_cell_type": "code"
   },
   "source": "def expression_matter(a, b, c):\n    ### case: 1x1\n    if a==c==1:\n        return a+b+c\n    ### case xxx where x!=1\n    elif a==b==c:\n        return a*b*c\n    ### case: largest no at edge a is largest\n    elif a > b and a >= c:\n        return max (a*b*c, a*(b+c))\n    elif c > b and c >= a:\n        return max(a*b*c, (a+b)*c)\n    ### case: max no is in mid\n    elif b>=a and b>=c:\n        return max(a*b*c, (a+b)*c, a*(b+c))\n\n    \n    \n\nexpression_matter(7,7,6)",
   "execution_count": 0,
   "outputs": [
    {
     "output_type": "execute_result",
     "data": {
      "text/plain": "294"
     },
     "metadata": {
      "tags": []
     },
     "execution_count": 15
    }
   ]
  },
  {
   "cell_type": "markdown",
   "source": "### Decode the Morse code (part 1)\n\n[link](https://www.codewars.com/kata/54b724efac3d5402db00065e/train/python)\n\nIn this kata you have to write a simple Morse code decoder. While the Morse code is now mostly superseded by voice and digital data communication channels, it still has its use in some applications around the world.\nThe Morse code encodes every character as a sequence of \"dots\" and \"dashes\". For example, the letter A is coded as ·−, letter Q is coded as −−·−, and digit 1 is coded as ·−−−−. The Morse code is case-insensitive, traditionally capital letters are used. When the message is written in Morse code, a single space is used to separate the character codes and 3 spaces are used to separate words. For example, the message HEY JUDE in Morse code is ···· · −·−−   ·−−− ··− −·· ·.\n\nNOTE: Extra spaces before or after the code have no meaning and should be ignored.\n\nIn addition to letters, digits and some punctuation, there are some special service codes, the most notorious of those is the international distress signal SOS (that was first issued by Titanic), that is coded as ···−−−···. These special codes are treated as single special characters, and usually are transmitted as separate words.\n\nYour task is to implement a function that would take the morse code as input and return a decoded human-readable string.\n\nFor example:\n\n```\ndecodeMorse('.... . -.--   .--- ..- -.. .')\n#should return \"HEY JUDE\"\n```\n\n\n\n",
   "metadata": {
    "id": "AOxNZbKa12qV",
    "colab_type": "text",
    "cell_id": "00027-b691bd6c-78fa-4be2-9c9d-b165b5e5e4f0",
    "deepnote_cell_type": "markdown"
   }
  },
  {
   "cell_type": "code",
   "metadata": {
    "id": "L2xpdWlE2Yrw",
    "colab_type": "code",
    "outputId": "807b2acb-d702-467e-a480-c89fc0d97f1b",
    "colab": {
     "base_uri": "https://localhost:8080/",
     "height": 33
    },
    "cell_id": "00028-9e03a243-70fc-4eb3-996d-a11914382209",
    "deepnote_output_heights": [
     21.1875
    ],
    "deepnote_cell_type": "code"
   },
   "source": "MORSE_CODE = {'.-': 'A', '-...': 'B', '-.-.': 'C', '-..': 'D', '.': 'E', '..-.': 'F', '--.': 'G', '....': 'H', '..': 'I', '.---': 'J', '-.-': 'K', '.-..': 'L', '--': 'M', '-.': 'N', '---': 'O', '.--.': 'P', '--.-': 'Q', '.-.': 'R', '...': 'S', '-': 'T', '..-': 'U', '...-': 'V', '.--': 'W', '-..-': 'X', '-.--': 'Y', '--..': 'Z', '-----': '0', '.----': '1', '..---': '2', '...--': '3', '....-': '4', '.....': '5', '-....': '6', '--...': '7', '---..': '8', '----.': '9', '.-.-.-': '.', '--..--': ',', '..--..': '?', '.----.': \"'\", '-.-.--': '!', '-..-.': '/', '-.--.': '(', '-.--.-': ')', '.-...': '&', '---...': ':', '-.-.-.': ';', '-...-': '=', '.-.-.': '+', '-....-': '-', '..--.-': '_', '.-..-.': '\"', '...-..-': '$', '.--.-.': '@', '...---...': 'SOS'}\n\ndef decodeMorse(morse_code):\n    morse_code = morse_code.strip()\n    words = morse_code.split('   ')\n    output = []\n\n    for word_ in words:\n        letters = word_.split()\n        for letter_ in letters:\n            decoded = MORSE_CODE[letter_]\n            output.append(decoded)\n        output.append(' ')\n    return ''.join(output).strip()\n\ndecodeMorse('.... . -.--   .--- ..- -.. .')\n",
   "execution_count": 0,
   "outputs": [
    {
     "output_type": "execute_result",
     "data": {
      "text/plain": "'HEY JUDE'"
     },
     "metadata": {
      "tags": []
     },
     "execution_count": 6
    }
   ]
  },
  {
   "cell_type": "markdown",
   "source": "### IQ Test\n\n[link](https://www.codewars.com/kata/552c028c030765286c00007d/train/python)\n\n\nBob is preparing to pass IQ test. The most frequent task in this test is to find out which one of the given numbers differs from the others. Bob observed that one number usually differs from the others in evenness. Help Bob — to check his answers, he needs a program that among the given numbers finds one that is different in evenness, and return a position of this number.\n\n! Keep in mind that your task is to help Bob solve a real IQ test, which means indexes of the elements start from 1 (not 0)\n\n```\niq_test(\"2 4 7 8 10\") => 3 // Third number is odd, while the rest of the numbers are even\n\niq_test(\"1 2 1 1\") => 2 // Second number is even, while the rest of the numbers are odd\n```\n",
   "metadata": {
    "id": "_tJSBb7A4iL0",
    "colab_type": "text",
    "cell_id": "00029-0c8f47c2-3244-4a9c-a43d-9116048a7dd8",
    "deepnote_cell_type": "markdown"
   }
  },
  {
   "cell_type": "code",
   "metadata": {
    "id": "RQGHOEpi5IdC",
    "colab_type": "code",
    "outputId": "4c20ea8b-d238-4a70-d973-10339b20d239",
    "colab": {
     "base_uri": "https://localhost:8080/",
     "height": 33
    },
    "cell_id": "00030-b1ddeb3d-3197-4810-bb1a-d07986d48429",
    "deepnote_cell_type": "code"
   },
   "source": "numbers = \"2 4 7 8 10\"\n\nnumbers = [int(num) for num in numbers.strip().split()]\n\n\nodd_numbers = [no%2 for no in numbers]\nnum_odd = sum(odd_numbers)\nif num_odd > 1:\n    print (odd_numbers.index(0))\nelse:\n    print (odd_numbers.index(1))\n\n\n",
   "execution_count": 0,
   "outputs": [
    {
     "output_type": "stream",
     "text": "2\n",
     "name": "stdout"
    }
   ]
  },
  {
   "cell_type": "markdown",
   "source": "### Bouncing Balls\n\n[link](https://www.codewars.com/kata/5544c7a5cb454edb3c000047/train/python)\n\nA child is playing with a ball on the nth floor of a tall building. The height of this floor, h, is known.\n\nHe drops the ball out of the window. The ball bounces (for example), to two-thirds of its height (a bounce of 0.66).\n\nHis mother looks out of a window 1.5 meters from the ground.\n\nHow many times will the mother see the ball pass in front of her window (including when it's falling and bouncing?\n\nThree conditions must be met for a valid experiment:\n\n- Float parameter \"h\" in meters must be greater than 0\n- Float parameter \"bounce\" must be greater than 0 and less than 1\n- Float parameter \"window\" must be less than h.\n\nIf all three conditions above are fulfilled, return a positive integer, otherwise return -1.\n\nNote:\nThe ball can only be seen if the height of the rebounding ball is strictly greater than the window parameter.\n\nExample:\n\n```\n- h = 3, bounce = 0.66, window = 1.5, result is 3\n\n- h = 3, bounce = 1, window = 1.5, result is -1 \n\n(Condition 2) not fulfilled).\n```\n\n```\ntest.assert_equals(bouncingBall(3, 0.66, 1.5), 3)\ntest.assert_equals(bouncingBall(30, 0.66, 1.5), 15)\n```",
   "metadata": {
    "id": "j266XzyXthu5",
    "colab_type": "text",
    "cell_id": "00031-2f45f998-598d-4ca7-9c8d-a73deb00ac49",
    "deepnote_cell_type": "markdown"
   }
  },
  {
   "cell_type": "code",
   "metadata": {
    "id": "X2iLQKH-us0S",
    "colab_type": "code",
    "colab": {},
    "cell_id": "00032-7f984521-dcf5-46a7-8b98-e2a205d3fef1",
    "deepnote_cell_type": "code"
   },
   "source": "import math",
   "execution_count": 0,
   "outputs": []
  },
  {
   "cell_type": "code",
   "metadata": {
    "id": "AREzorELu118",
    "colab_type": "code",
    "outputId": "4d4bddbb-f5d1-4020-aa82-9443184b2a6d",
    "colab": {
     "base_uri": "https://localhost:8080/",
     "height": 33
    },
    "cell_id": "00033-57a42ac2-71c9-4d5e-8690-ba0d1378cbf9",
    "deepnote_output_heights": [
     21.1875
    ],
    "deepnote_cell_type": "code"
   },
   "source": "math.ceil(7.2)",
   "execution_count": 0,
   "outputs": [
    {
     "output_type": "execute_result",
     "data": {
      "text/plain": "8"
     },
     "metadata": {
      "tags": []
     },
     "execution_count": 7
    }
   ]
  },
  {
   "cell_type": "code",
   "metadata": {
    "id": "BLFOymv_uB7K",
    "colab_type": "code",
    "outputId": "f4bedb69-0d37-4f65-815d-2baf941457bb",
    "colab": {
     "base_uri": "https://localhost:8080/",
     "height": 33
    },
    "cell_id": "00034-4cc81686-1649-49f9-b697-1bc67bad16d9",
    "deepnote_output_heights": [
     21.1875
    ],
    "deepnote_cell_type": "code"
   },
   "source": "def bouncingBall(h, bounce, window):\n    if h <=0 or bounce <=0 or bounce >=1 or window >= h:\n        return -1\n    num_bounces = math.ceil(math.log(window/h)/math.log(bounce))*2 - 1\n    return num_bounces\n\nbouncingBall(30,0.66,1.5)",
   "execution_count": 0,
   "outputs": [
    {
     "output_type": "execute_result",
     "data": {
      "text/plain": "-1"
     },
     "metadata": {
      "tags": []
     },
     "execution_count": 13
    }
   ]
  },
  {
   "cell_type": "markdown",
   "source": "### Calculating with Functions\n\n[link](https://www.codewars.com/kata/525f3eda17c7cd9f9e000b39/train/python)\n\nThis time we want to write calculations using functions and get the results. Let's have a look at some examples:\n\n```\nseven(times(five())) # must return 35\nfour(plus(nine())) # must return 13\neight(minus(three())) # must return 5\nsix(divided_by(two())) # must return 3\n```\n\nRequirements:\n\n- There must be a function for each number from 0 (\"zero\") to 9 (\"nine\")\n- There must be a function for each of the following mathematical operations: plus, minus, times, dividedBy (divided_by in Ruby and Python)\n- Each calculation consist of exactly one operation and two numbers\n- The most outer function represents the left operand, the most inner function represents the right operand\n- Divison should be integer division. For example, this should return 2, not 2.666666...:\n\n",
   "metadata": {
    "id": "8649PXtnywQw",
    "colab_type": "text",
    "cell_id": "00035-284ad48d-846e-4d43-b6fc-ae9ae55458a5",
    "deepnote_cell_type": "markdown"
   }
  },
  {
   "cell_type": "code",
   "metadata": {
    "id": "a9Lho8hFzLYu",
    "colab_type": "code",
    "outputId": "dda79e02-7581-4d35-e405-c7540f3f7076",
    "colab": {
     "base_uri": "https://localhost:8080/",
     "height": 33
    },
    "cell_id": "00036-47f2e4ab-6e40-4667-8419-37973da14b87",
    "deepnote_cell_type": "code"
   },
   "source": "def zero(*args):\n    if len(args) == 0:\n        return 0\n    else:\n        l_operand = 0\n        operator, r_operand = args[0][0], int(args[0][1])\n        if operator == '+':\n            return l_operand + r_operand  \n        elif operator == '-':\n            return l_operand - r_operand\n        elif operator == '*':\n            return l_operand * r_operand\n        elif operator == '/':\n            if r_operand == 0:\n                return 0\n            return int(l_operand / r_operand)\n\n    \n    \ndef one(*args): \n    if len(args) == 0:\n        return 1\n    else:\n        l_operand = 1\n        operator, r_operand = args[0][0], int(args[0][1])\n        if operator == '+':\n            return l_operand + r_operand  \n        elif operator == '-':\n            return l_operand - r_operand\n        elif operator == '*':\n            return l_operand * r_operand\n        elif operator == '/':\n            if r_operand == 0:\n                return 0\n            return int(l_operand / r_operand)\n    \ndef two(*args): \n    if len(args) == 0:\n        return 2\n    else:\n        l_operand = 2\n        operator, r_operand = args[0][0], int(args[0][1])\n        if operator == '+':\n            return l_operand + r_operand  \n        elif operator == '-':\n            return l_operand - r_operand\n        elif operator == '*':\n            return l_operand * r_operand\n        elif operator == '/':\n            if r_operand == 0:\n                return 0\n            return int(l_operand / r_operand)\n    \ndef three(*args): \n    if len(args) == 0:\n        return 3\n    else:\n        l_operand = 3\n        operator, r_operand = args[0][0], int(args[0][1])\n        if operator == '+':\n            return l_operand + r_operand  \n        elif operator == '-':\n            return l_operand - r_operand\n        elif operator == '*':\n            return l_operand * r_operand\n        elif operator == '/':\n            if r_operand == 0:\n                return 0\n            return int(l_operand / r_operand)\n    \ndef four(*args): \n    if len(args) == 0:\n        return 4\n    else:\n        l_operand = 4\n        operator, r_operand = args[0][0], int(args[0][1])\n        if operator == '+':\n            return l_operand + r_operand  \n        elif operator == '-':\n            return l_operand - r_operand\n        elif operator == '*':\n            return l_operand * r_operand\n        elif operator == '/':\n            if r_operand == 0:\n                return 0\n            return int(l_operand / r_operand)\n    \ndef five(*args): \n    if len(args) == 0:\n        return 5\n    else:\n        l_operand = 5\n        operator, r_operand = args[0][0], int(args[0][1])\n        if operator == '+':\n            return l_operand + r_operand  \n        elif operator == '-':\n            return l_operand - r_operand\n        elif operator == '*':\n            return l_operand * r_operand\n        elif operator == '/':\n            if r_operand == 0:\n                return 0\n            return int(l_operand / r_operand)\n    \ndef six(*args): \n    if len(args) == 0:\n        return 6\n    else:\n        l_operand = 6\n        operator, r_operand = args[0][0], int(args[0][1])\n        if operator == '+':\n            return l_operand + r_operand  \n        elif operator == '-':\n            return l_operand - r_operand\n        elif operator == '*':\n            return l_operand * r_operand\n        elif operator == '/':\n            return int(l_operand / r_operand)\n    \ndef seven(*args): \n    if len(args) == 0:\n        return 7\n    else:\n        l_operand = 7\n        operator, r_operand = args[0][0], int(args[0][1])\n        if operator == '+':\n            return l_operand + r_operand  \n        elif operator == '-':\n            return l_operand - r_operand\n        elif operator == '*':\n            return l_operand * r_operand\n        elif operator == '/':\n            if r_operand == 0:\n                return 0\n            return int(l_operand / r_operand)\n    \ndef eight(*args): \n    if len(args) == 0:\n        return 8\n    else:\n        l_operand = 8\n        operator, r_operand = args[0][0], int(args[0][1])\n        if operator == '+':\n            return l_operand + r_operand  \n        elif operator == '-':\n            return l_operand - r_operand\n        elif operator == '*':\n            return l_operand * r_operand\n        elif operator == '/':\n            if r_operand == 0:\n                return 0\n            return int(l_operand / r_operand)\n    \ndef nine(*args): \n    if len(args) == 0:\n        return 9\n    else:\n        l_operand = 9\n        operator, r_operand = args[0][0], int(args[0][1])\n        if operator == '+':\n            return l_operand + r_operand  \n        elif operator == '-':\n            return l_operand - r_operand\n        elif operator == '*':\n            return l_operand * r_operand\n        elif operator == '/':\n            if r_operand == 0:\n                return 0\n            return int(l_operand / r_operand)\n    \n\ndef plus(r_operand): \n    return '+', r_operand\ndef minus(r_operand): \n    return '-', r_operand\ndef times(r_operand): \n    return '*', r_operand\ndef divided_by(r_operand): \n    return '/', r_operand\n\n\nprint (seven(divided_by(zero())))",
   "execution_count": 0,
   "outputs": [
    {
     "output_type": "stream",
     "text": "0\n",
     "name": "stdout"
    }
   ]
  },
  {
   "cell_type": "markdown",
   "source": "### Rot13\n\nROT13 is a simple letter substitution cipher that replaces a letter with the letter 13 letters after it in the alphabet. ROT13 is an example of the Caesar cipher.\n\nCreate a function that takes a string and returns the string ciphered with Rot13. If there are numbers or special characters included in the string, they should be returned as they are. Only letters from the latin/english alphabet should be shifted, like in the original Rot13 \"implementation\".\n\n```\ntest.assert_equals(rot13(\"test\"),\"grfg\")\ntest.assert_equals(rot13(\"Test\"),\"Grfg\")\n```",
   "metadata": {
    "id": "2AmjBc7PPyqg",
    "colab_type": "text",
    "cell_id": "00037-1f9ee329-96dc-4f07-8a95-43e6313940fe",
    "deepnote_cell_type": "markdown"
   }
  },
  {
   "cell_type": "code",
   "metadata": {
    "id": "4bPsntg1P6CK",
    "colab_type": "code",
    "outputId": "514eb903-854f-41dd-efc4-70d2cfee4fe0",
    "colab": {
     "base_uri": "https://localhost:8080/",
     "height": 33
    },
    "cell_id": "00038-b482686c-6966-42e3-9c85-4595eddc87c2",
    "deepnote_output_heights": [
     21.1875
    ],
    "deepnote_cell_type": "code"
   },
   "source": "ord('a'), ord('A'), ord('Z'), ord('z')",
   "execution_count": 0,
   "outputs": [
    {
     "output_type": "execute_result",
     "data": {
      "text/plain": "(97, 65, 90, 122)"
     },
     "metadata": {
      "tags": []
     },
     "execution_count": 5
    }
   ]
  },
  {
   "cell_type": "code",
   "metadata": {
    "id": "VFMBvi_lRxtj",
    "colab_type": "code",
    "outputId": "0eb51da9-4855-4626-d856-95a8ad5be6e1",
    "colab": {
     "base_uri": "https://localhost:8080/",
     "height": 33
    },
    "cell_id": "00039-85a91eb9-3a73-459a-b752-e72a7dbdb2f8",
    "deepnote_output_heights": [
     21.1875
    ],
    "deepnote_cell_type": "code"
   },
   "source": "ord('t')+13-ord('a')    ",
   "execution_count": 0,
   "outputs": [
    {
     "output_type": "execute_result",
     "data": {
      "text/plain": "32"
     },
     "metadata": {
      "tags": []
     },
     "execution_count": 1
    }
   ]
  },
  {
   "cell_type": "code",
   "metadata": {
    "id": "mxwN2kn5RCdz",
    "colab_type": "code",
    "colab": {},
    "cell_id": "00040-6a1f201c-c8f0-4d45-aae8-e4f0c861280d",
    "deepnote_cell_type": "code"
   },
   "source": "lower_left, lower_right, upper_left, upper_right = 97, 122, 65, 90\n\nmessage = 'Test'\n\nfor char_ in message:\n    if (ord(char_) >= lower_left and ord(char_) <= lower_right):\n        new_char = ord(char)\n\n",
   "execution_count": 0,
   "outputs": []
  },
  {
   "cell_type": "markdown",
   "source": "### ",
   "metadata": {
    "tags": [],
    "cell_id": "00041-29c66132-9e37-4d71-9542-331c7966abf5",
    "deepnote_cell_type": "markdown"
   }
  },
  {
   "cell_type": "markdown",
   "source": "",
   "metadata": {
    "tags": [],
    "cell_id": "00041-4fe32128-68fb-457b-916e-af861eae1921",
    "deepnote_cell_type": "markdown"
   }
  },
  {
   "cell_type": "markdown",
   "source": "",
   "metadata": {
    "tags": [],
    "cell_id": "00041-87f7acce-6d99-4c66-8c55-408012bb8014",
    "deepnote_cell_type": "markdown"
   }
  },
  {
   "cell_type": "markdown",
   "source": "## SQL Problems\n\n---",
   "metadata": {
    "id": "UUE33r1IO-MY",
    "colab_type": "text",
    "cell_id": "00041-bf2c741b-f963-45d0-a067-9297b2627d37",
    "deepnote_cell_type": "markdown"
   }
  },
  {
   "cell_type": "markdown",
   "source": "### SQL Basics - Position\n\n[link](https://www.codewars.com/kata/59401e0e54a655a298000040/train/sql)\n\nYou have access to a table of monsters as follows:\n\nmonsters schema\n\n- id\n- name\n- legs\n- arms\n- characteristics\n\nIn each row, the characteristic column has a single comma. Your job is to find it using position(). You must return a table with the format as follows:\n\noutput schema\n\n- id\n- name\n- comma\n\nThe comma column will contain the position of the comma within the characteristics string. Order the results by comma.\n\n### Solution:\n\n``` sql\nSELECT id, name, POSITION(',' in characteristics) AS comma\nFROM monsters\nORDER BY comma\n```\n\n",
   "metadata": {
    "id": "y5fSbLzQQYgi",
    "colab_type": "text",
    "cell_id": "00042-f9227af4-adfc-40ab-a1b5-6ab4a24445f8",
    "deepnote_cell_type": "markdown"
   }
  },
  {
   "cell_type": "markdown",
   "source": "### Easy SQL: ASCII Converter\n\nGiven a demographics table in the following format:\n\n** demographics table schema **\n\n- id\n- name\n- birthday\n- race\n\nyou need to return the same table where all text fields (name & race) are changed to the ascii code of their first byte.\n\ne.g. Verlie = 86 Warren = 87 Horace = 72 Tracy = 84\n\n#### Solution:\n\n``` sql\nSELECT id, ASCII(LEFT(name, 1)) AS name, birthday, ASCII(LEFT(race, 1)) AS race\nFROM demographics\n```\n\n### Easy SQL: Counting and Grouping\n\nGiven a demographics table in the following format:\n\n** demographics table schema **\n\nid\n\nname\n\nbirthday\n\nrace\n\nyou need to return a table that shows a count of each race represented, ordered by the count in descending order as:\n\n** output table schema **\n\nrace\n\ncount\n\n#### Solution\n\n```sql\nSELECT race, COUNT(race) AS count\nFROM demographics\nGROUP BY race\nORDER BY count DESC\n```\n",
   "metadata": {
    "id": "fI3cVxDGFh5q",
    "colab_type": "text",
    "cell_id": "00043-d4cb3478-5ea1-47b7-b89f-17efc36a8fd6",
    "deepnote_cell_type": "markdown"
   }
  },
  {
   "cell_type": "markdown",
   "source": "### SQL Basics: Simple EXISTS\n\nFor this challenge you need to create a SELECT statement, this SELECT statement will use an EXISTS to check whether a department has had a sale with a price over 98.00 dollars.\n\ndepartments table schema\n\n- id\n- name\n\n\nsales table schema\n\n- id\n- department_id (department foreign key)\n- name\n- price\n- card_name\n- card_number\n- transaction_date\n\n#### Solution\n\n``` sql\nSELECT id, name\nFROM departments\nWHERE EXISTS\n(\n  SELECT 1\n  FROM sales\n  WHERE departments.id = sales.department_id AND price > 98\n)\n```\n\n### SQL Basics: Up and Down\n\n\nGiven a table of random numbers as follows:\n\n** numbers table schema **\n\n- id\n- number1\n- number2\n\nYour job is to return table with similar structure and headings, where if the sum of a column is odd, the column shows the minimum value for that column, and when the sum is even, it shows the max value. You must use a case statement.\n\n** output table schema **\n\n- number1\n- number2\n\n```sql\nSELECT \n  CASE \n    WHEN SUM(number1)%2=0 THEN MAX(number1)\n    ELSE MIN(number1) \n  END AS number1,\n  CASE \n    WHEN SUM(number2)%2=0 THEN MAX(number2)\n    ELSE MIN(number2) \n  END AS number2\n\nFROM numbers\n```\n\n",
   "metadata": {
    "id": "A1fc-lRz9KQ4",
    "colab_type": "text",
    "cell_id": "00044-9044db97-596c-429d-a4d4-26ee8800495e",
    "deepnote_cell_type": "markdown"
   }
  },
  {
   "cell_type": "markdown",
   "source": "### SQL Basics: Create a FUNCTION\n\n[ref 1](https://www.javatpoint.com/postgresql-functions)\n\n[ref 2](https://www.postgresqltutorial.com/postgresql-create-function/)\n\nFor this challenge you need to create a basic Increment function which Increments on the age field of the peoples table.\n\nThe function should be called increment, it needs to take 1 integer and increment that number by 1.\n\nYou may query the people table while testing but the query must only contain the function on your final submit.\n\nimportant: you must remove all comments when submitting the kata.\npeople table schema\n\n- id\n- name\n- age\n\n#### Solution\n\n```sql\nCREATE FUNCTION increment(int_ integer) RETURNS integer AS $inc_int$\nBEGIN\nRETURN int_+1;\nEND; $inc_int$\nLANGUAGE PLPGSQL;\n```\n\n### Conditional Count\n\n[link](https://www.codewars.com/kata/5816a3ecf54413a113000074/train/sql)\n\nGiven a payment table, which is a part of DVD Rental Sample Database, with the following schema\n\n```\n\nColumn       | Type                        | Modifiers\n-------------+-----------------------------+----------\npayment_id   | integer                     | not null \ncustomer_id  | smallint                    | not null\nstaff_id     | smallint                    | not null\nrental_id    | integer                     | not null\namount       | numeric(5,2)                | not null\npayment_date | timestamp without time zone | not null\n\n```\n\nproduce a result set for the report that shows a side-by-side comparison of the number and total amounts of payments made in Mike's and Jon's stores broken down by months.\n\nThe resulting data set should be ordered by month using natural order (Jan, Feb, Mar, etc.).\n\nNote: You don't need to worry about the year component. Months are never repeated because the sample data set contains payment information only for one year.\n\nThe desired output for the report\n\n```\nmonth | total_count | total_amount | mike_count | mike_amount | jon_count | jon_amount\n------+-------------+--------------+------------+-------------+-----------+-----------\n2     |             |              |            |             |           |           \n5     |             |              |            |             |           |           \n...\n```\n- month - number of the month (1 - January, 2 - February, etc.)\n- total_count - total number of payments\n- total_amount - total payment amount\n- mike_count - total number of payments accepted by Mike (staff_id = 1)\n- mike_amount - total amount of payments accepted by Mike (staff_id = 1)\n- jon_count - total number of payments accepted by Jon (staff_id = 2)\n- jon_amount - total amount of payments accepted by Jon (staff_id = 2)\n\n#### Solution\n\n```sql\nWITH total_data AS (\n\nSELECT COUNT(payment_id) AS total_count, SUM(amount) AS total_amount, DATE_PART('month', payment_date) AS month\nFROM payment\nGROUP BY DATE_PART('month', payment_date)\n),\nmike_data AS (\nSELECT COUNT(payment_id) AS mike_count, SUM(amount) AS mike_amount, DATE_PART('month', payment_date) AS month\nFROM payment\nWHERE staff_id=1\nGROUP BY DATE_PART('month', payment_date)\n),\njon_data AS (\nSELECT COUNT(payment_id) AS jon_count, SUM(amount) AS jon_amount, DATE_PART('month', payment_date) AS month\nFROM payment\nWHERE staff_id=2\nGROUP BY DATE_PART('month', payment_date)\n),\njoined_data AS (\nSELECT total_data.month, total_count, total_amount, mike_count, mike_amount, jon_count, jon_amount\nFROM total_data\nINNER JOIN mike_data\nON\ntotal_data.month = mike_data.month\nINNER JOIN jon_data\nON total_data.month = jon_data.month\n)\n\nSELECT * FROM joined_data\nORDER BY month\n\n```",
   "metadata": {
    "id": "8ZrjcJhUUcZo",
    "colab_type": "text",
    "cell_id": "00045-3b2a57a3-bc5e-47ea-b627-fd53e34500d0",
    "deepnote_cell_type": "markdown"
   }
  },
  {
   "cell_type": "markdown",
   "source": "### SQL Bug Fixing: Fix the QUERY - Totaling\n\n[link](https://www.codewars.com/kata/582cba7d3be8ce3a8300007c/train/sql)\n\n\nOh no! Timmys been moved into the database divison of his software company but as we know Timmy loves making mistakes. Help Timmy keep his job by fixing his query...\n\nTimmy works for a statistical analysis company and has been given a task of totaling the number of sales on a given day grouped by each department name and then each day.\n\nResultant table:\n- day (type: date) {group by} [order by asc]\n- department (type: text) {group by} [In a real world situation it is bad practice to name a column after a table]\n- sale_count (type: int)\n\nTables and relationship below:\n\n![](https://i.imgur.com/kBkwsbi.png)\n\n#### Solution\n\n``` sql\nSELECT DATE(transaction_date) AS day, department.name AS department, COUNT (DISTINCT sale.id) AS sale_count\nFROM sale\nJOIN department\nON sale.department_id = department.id\nGROUP BY department, DATE(transaction_date)\nORDER BY day ASC\n```\n\n",
   "metadata": {
    "id": "XupAjzsAeQBF",
    "colab_type": "text",
    "cell_id": "00046-fdc8d644-50ee-49a4-89b8-d658be551a76",
    "deepnote_cell_type": "markdown"
   }
  },
  {
   "cell_type": "markdown",
   "source": "### Concept: SQL Window Functions\n\n> [tutoral link](https://mode.com/sql-tutorial/sql-window-functions/)\n\n> [tutoral link 2](https://learnsql.com/blog/sql-window-functions-examples/)\n\n\n\nA window function performs a calculation across a set of table rows that are somehow related to the current row. This is comparable to the type of calculation that can be done with an aggregate function. **But unlike regular aggregate functions, use of a window function does not cause rows to become grouped into a single output row — the rows retain their separate identities**. Behind the scenes, the window function is able to access more than just the current row of the query result.\n\n\nThe most practical example of this is a running total:\n\n```sql\nSELECT duration_seconds,\n       SUM(duration_seconds) OVER (ORDER BY start_time) AS running_total\n  FROM tutorial.dc_bikeshare_q1_2012\n```\n\nYou can see that the above query creates an aggregation (running_total) without using GROUP BY. Let's break down the syntax and see how it works.\n\nWindow functions are similar to AGGREGATE FUNCTIONS, but there is one important difference. When we use aggregate functions with the GROUP BY clause, we “lose” the individual rows. We can’t mix attributes from an individual row with the results of an aggregate function; the function is performed on the rows as an entire group. This is not the case when we use SQL window functions: we can generate a result set with some attributes of an individual row together with the results of the window function. This is good for new SQL developers to keep in mind. So let’s examine a simple SQL window function example in action.\n\n\nWindow functions can be called in the SELECT statement or in the ORDER BY clause. However, they can never be called in the WHERE clause. You’ll notice that all the examples in this article call the window function in the SELECT column list.\n\nLet’s go to the first SQL window function example. We will use the “Employee” table:\n\n<img src='./img/diag1.png'>\n\nWe will begin with RANK, which is one of the simplest SQL window functions example. It returns the position of any row inside the partition. Let’s use it to rank salaries within departments:\n\n```sql\nSELECT\t\n\t\tRANK() OVER (PARTITION BY department ORDER BY salary DESC) \n\t\t\tAS dept_ranking,\n\t\tdepartment,\n\t\temployee_id, \n\t\tfull_name, \n\t\tsalary\nFROM employee;\n```\n\nWe can see the results below:\n\n<img src='./img/diag2.png'>\n\n\nProceeding with our SQL window function example, let’s find out where each employee’s salary ranks in relation to the top salary of their department. This calls for a math expression, like:\n\n`employee_salary / max_salary_in_depth`\n\nThe next query will show all employees ordered by the above metric; the employees with the lowest salary (relative to their highest departmental salary) will be listed first:\n```sql\nSELECT  employee_id, \n\t     full_name, \n\t     department,\n\t     salary,\n\t     salary / MAX(salary) OVER (PARTITION BY department ORDER BY salary DESC) \n\t\t\tAS salary_metric\nFROM employee\nORDER BY 5;\n```\n\n\nNOTE: the above is an example of using a WINDOW with a custom metric and not just the built-in functions\n\n<img src='./img/diag3.png'>\n\n\n#### Another SQL Window Function Example\n\n\nLet’s switch from an employee-salary database to the following train schedule database:\n\n<img src='./img/diag4.png'>\n\n\nSuppose we want to add a new column called “time to next station”. To obtain this value, we subtract the station times for pairs of contiguous stations. We can calculate this value without using a SQL window function, but that can be very complicated. It’s simpler to do it using the LEAD window function. This function compares values from one row with the next row to come up with a result.  In this case, it compares the values in the “time” column for a station with the station immediately after it.\n\nSo, here we have another SQL window function example, this time for the train schedule:\n\n```sql\nSELECT \n\ttrain_id, \n\tstation,\n\ttime as \"station_time\",\n\tlead(time) OVER (PARTITION BY train_id ORDER BY time) - time \n\t\tAS time_to_next_station\nFROM train_schedule;\n```\n\nNote that we calculate the LEAD window function by using an expression involving an individual column and a window function; this is not possible with aggregate functions.\n\nHere are the results of that query:\n\n<img src='./img/diag5.png'>\n\nSQL Server LEAD() is a window function that provides access to a row at a specified physical offset which follows the current row.\n\nFor example, by using the LEAD() function, from the current row, you can access data of the next row, or the row after the next row, and so on.\n\nThe LEAD() function can be very useful for comparing the value of the current row with the value of the following row.\n\nIn the next example, we will add a new column that shows how much time has elapsed from the train’s first stop to the current station. We will call it “elapsed travel time”. The MIN window function will obtain the trip’s start time and we will subtract the current station time. Here’s the next SQL window function example\n\n```sql\nSELECT \t\n\ttrain_id, \n\tstation,\n\ttime as \"station_time\",\n\ttime - min(time) OVER (PARTITION BY train_id ORDER BY time) \t\n\t\t\t\t\t\t\t\tAS elapsed_travel_time,\n\tlead(time) OVER (PARTITION BY train_id ORDER BY time) - time \n\t\t\t\t\t\t\t\tAS time_to_next_station\nFROM train_schedule;\n```\n\n<img src='./img/diag6.png'>\n\n\n",
   "metadata": {
    "id": "CYsiDSQph7WN",
    "colab_type": "text",
    "cell_id": "00047-7032fa79-c989-4527-adb9-070a821d3731",
    "deepnote_cell_type": "markdown"
   }
  },
  {
   "cell_type": "markdown",
   "source": "## SQL Leetcode\n\n> https://leetcode.com/problems/department-top-three-salaries/\n\n### Department Top Three Salaries\n\nSolution:\n\n```\n# Write your MySQL query statement below\nWITH cte AS (\nSELECT d.name as \"Department\", e.name as \"Employee\", salary FROM Employee e\nINNER JOIN Department d\nON e.departmentId = d.id\n), cte2 AS (\nSELECT Department, Employee, salary,\nDENSE_RANK() OVER(PARTITION BY Department ORDER BY salary DESC) as \"rank\"\nFROM cte\n)\nSELECT Department, Employee, salary FROM cte2\nWHERE `rank` < 4\n\n```\n\n",
   "metadata": {
    "tags": [],
    "cell_id": "00051-0b92b0c9-f2f8-48bc-8cac-b6c77a30cd05",
    "deepnote_cell_type": "markdown"
   }
  },
  {
   "cell_type": "markdown",
   "source": "## FB SQL question\n\nFor each day print out user with highest received/sent ratio\n\n> https://www.youtube.com/watch?v=XOJk0AKIqv8\n\n--- \n\n![](https://i.imgur.com/B28Qzrn.png)\n\n1. Compute day and reqd received/sent ratio:\n\n![](https://i.imgur.com/DhieS6A.png )\n\n3. Compute rank over each day as a partition and order by the ratio DESC\n\n![](https://i.imgur.com/g6dX1b7.png)\n\n4. Select reqd cols for o/p\n\n![](https://i.imgur.com/Go231DU.png)",
   "metadata": {
    "tags": [],
    "cell_id": "00052-2e7c8ff0-b160-41d9-be94-2c7b50ec9353",
    "deepnote_cell_type": "markdown"
   }
  },
  {
   "cell_type": "code",
   "metadata": {
    "id": "TAjzKDIXDC4w",
    "colab_type": "code",
    "colab": {},
    "cell_id": "00048-85944cc9-31d0-4856-99a2-46de56815ed1",
    "deepnote_cell_type": "code"
   },
   "source": "",
   "execution_count": 0,
   "outputs": []
  },
  {
   "cell_type": "markdown",
   "source": "",
   "metadata": {
    "tags": [],
    "cell_id": "00052-3e09bb65-ff9d-4666-ba34-7adeecf61241",
    "deepnote_cell_type": "markdown"
   }
  },
  {
   "cell_type": "markdown",
   "source": "<a style='text-decoration:none;line-height:16px;display:flex;color:#5B5B62;padding:10px;justify-content:end;' href='https://deepnote.com?utm_source=created-in-deepnote-cell&projectId=c9f7b205-46e2-4f7d-8027-1722d788f5d8' target=\"_blank\">\n<img alt='Created in deepnote.com' style='display:inline;max-height:16px;margin:0px;margin-right:7.5px;' src='data:image/svg+xml;base64,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' > </img>\nCreated in <span style='font-weight:600;margin-left:4px;'>Deepnote</span></a>",
   "metadata": {
    "tags": [],
    "created_in_deepnote_cell": true,
    "deepnote_cell_type": "markdown"
   }
  }
 ],
 "nbformat": 4,
 "nbformat_minor": 0,
 "metadata": {
  "colab": {
   "name": "Practice Python and SQL Challenges.ipynb",
   "provenance": [],
   "collapsed_sections": [],
   "authorship_tag": "ABX9TyPTNvmaIeztQuZeD9reYtU+",
   "include_colab_link": true
  },
  "kernelspec": {
   "name": "python3",
   "display_name": "Python 3"
  },
  "deepnote_notebook_id": "77c99f0d-ab38-4b85-9478-1eb1e3b1504f",
  "deepnote": {},
  "deepnote_execution_queue": []
 }
}