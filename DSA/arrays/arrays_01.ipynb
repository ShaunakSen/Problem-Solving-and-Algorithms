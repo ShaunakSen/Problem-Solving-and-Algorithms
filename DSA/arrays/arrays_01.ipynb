{
 "cells": [
  {
   "cell_type": "markdown",
   "metadata": {},
   "source": [
    "### 3Ssum\n",
    "\n",
    "- https://leetcode.com/problems/3sum/\n",
    "- https://www.youtube.com/watch?v=jzZsG8n2R9A\n",
    "\n",
    "NOTE: solve 2sum an sorted 2sum before this\n",
    "\n",
    "---"
   ]
  },
  {
   "cell_type": "code",
   "execution_count": 44,
   "metadata": {},
   "outputs": [],
   "source": [
    "from typing import List\n",
    "from loguru import logger\n",
    "import numpy as np"
   ]
  },
  {
   "cell_type": "code",
   "execution_count": 41,
   "metadata": {},
   "outputs": [
    {
     "data": {
      "text/plain": [
       "{(1, 2)}"
      ]
     },
     "execution_count": 41,
     "metadata": {},
     "output_type": "execute_result"
    }
   ],
   "source": [
    "set(((1,2), (1,2)))"
   ]
  },
  {
   "cell_type": "code",
   "execution_count": 45,
   "metadata": {},
   "outputs": [
    {
     "data": {
      "text/plain": [
       "array([[1, 2],\n",
       "       [1, 2]])"
      ]
     },
     "execution_count": 45,
     "metadata": {},
     "output_type": "execute_result"
    }
   ],
   "source": [
    "soln = [[1,2], [1,2]]\n",
    "\n",
    "np.array(soln)"
   ]
  },
  {
   "cell_type": "code",
   "execution_count": 51,
   "metadata": {},
   "outputs": [
    {
     "data": {
      "text/plain": [
       "[[1, 2]]"
      ]
     },
     "execution_count": 51,
     "metadata": {},
     "output_type": "execute_result"
    }
   ],
   "source": [
    "np.unique(soln, axis=0).tolist()"
   ]
  },
  {
   "cell_type": "code",
   "execution_count": 52,
   "metadata": {},
   "outputs": [],
   "source": [
    "def twoSum(nums: List[int], target: int, left: int, right: int) -> list:\n",
    "    solutions = []\n",
    "    \n",
    "    while left < right:\n",
    "        # logger.debug(f\"{left, right}\")\n",
    "        \n",
    "        # check current sum\n",
    "        current_sum = nums[left] + nums[right]\n",
    "\n",
    "        if current_sum == target:\n",
    "            solutions.append([nums[left], nums[right]])\n",
    "            left += 1\n",
    "            right -= 1\n",
    "\n",
    "        # if too low, we need to increment left pointer\n",
    "        elif current_sum < target:\n",
    "            left += 1\n",
    "        # if too high, we need to decrement right pointer\n",
    "        else:\n",
    "            right -= 1\n",
    "        # logger.debug(f\"{left, right}\")\n",
    "\n",
    "    return solutions\n",
    "\n",
    "def threeSum(nums: List[int]) -> List[List[int]]:\n",
    "\n",
    "    all_results = []\n",
    "\n",
    "    nums = sorted(nums)\n",
    "    logger.debug(nums)\n",
    "\n",
    "    for idx, first_num in enumerate(nums):\n",
    "\n",
    "\n",
    "        if idx > 0 and nums[idx-1] == first_num:\n",
    "            continue\n",
    "\n",
    "        required_two_sum = -first_num\n",
    "\n",
    "        two_sum_result = twoSum(nums, required_two_sum, idx+1, len(nums)-1)\n",
    "\n",
    "        logger.debug(f\"two_sum_result after selectiong {first_num}: {two_sum_result}\")\n",
    "\n",
    "        if two_sum_result:\n",
    "            for sol_ in two_sum_result:\n",
    "                sol_.insert(0, first_num)\n",
    "                all_results.append(sol_)\n",
    "\n",
    "        all_results = np.unique(all_results, axis=0).tolist()\n",
    "\n",
    "    return all_results"
   ]
  },
  {
   "cell_type": "code",
   "execution_count": 39,
   "metadata": {},
   "outputs": [
    {
     "data": {
      "text/plain": [
       "[[2, -1]]"
      ]
     },
     "execution_count": 39,
     "metadata": {},
     "output_type": "execute_result"
    }
   ],
   "source": [
    "twoSum(\n",
    "    [-1, 0, 1, 2], 1, 0\n",
    ")"
   ]
  },
  {
   "cell_type": "code",
   "execution_count": 34,
   "metadata": {},
   "outputs": [
    {
     "name": "stderr",
     "output_type": "stream",
     "text": [
      "\u001b[32m2024-05-25 13:01:32.434\u001b[0m | \u001b[34m\u001b[1mDEBUG   \u001b[0m | \u001b[36m__main__\u001b[0m:\u001b[36mthreeSum\u001b[0m:\u001b[36m30\u001b[0m - \u001b[34m\u001b[1m[-4, -1, -1, 0, 1, 2]\u001b[0m\n",
      "\u001b[32m2024-05-25 13:01:32.435\u001b[0m | \u001b[34m\u001b[1mDEBUG   \u001b[0m | \u001b[36m__main__\u001b[0m:\u001b[36mthreeSum\u001b[0m:\u001b[36m42\u001b[0m - \u001b[34m\u001b[1mtwo_sum_result after selectiong -4: []\u001b[0m\n",
      "\u001b[32m2024-05-25 13:01:32.436\u001b[0m | \u001b[34m\u001b[1mDEBUG   \u001b[0m | \u001b[36m__main__\u001b[0m:\u001b[36mthreeSum\u001b[0m:\u001b[36m42\u001b[0m - \u001b[34m\u001b[1mtwo_sum_result after selectiong -1: [[-1, 2], [0, 1]]\u001b[0m\n",
      "\u001b[32m2024-05-25 13:01:32.437\u001b[0m | \u001b[34m\u001b[1mDEBUG   \u001b[0m | \u001b[36m__main__\u001b[0m:\u001b[36mthreeSum\u001b[0m:\u001b[36m42\u001b[0m - \u001b[34m\u001b[1mtwo_sum_result after selectiong 0: []\u001b[0m\n",
      "\u001b[32m2024-05-25 13:01:32.437\u001b[0m | \u001b[34m\u001b[1mDEBUG   \u001b[0m | \u001b[36m__main__\u001b[0m:\u001b[36mthreeSum\u001b[0m:\u001b[36m42\u001b[0m - \u001b[34m\u001b[1mtwo_sum_result after selectiong 1: []\u001b[0m\n",
      "\u001b[32m2024-05-25 13:01:32.438\u001b[0m | \u001b[34m\u001b[1mDEBUG   \u001b[0m | \u001b[36m__main__\u001b[0m:\u001b[36mthreeSum\u001b[0m:\u001b[36m42\u001b[0m - \u001b[34m\u001b[1mtwo_sum_result after selectiong 2: []\u001b[0m\n"
     ]
    },
    {
     "data": {
      "text/plain": [
       "[[-1, -1, 2], [-1, 0, 1]]"
      ]
     },
     "execution_count": 34,
     "metadata": {},
     "output_type": "execute_result"
    }
   ],
   "source": [
    "nums = [-1,0,1,2,-1,-4]\n",
    "threeSum(nums)"
   ]
  },
  {
   "cell_type": "code",
   "execution_count": 53,
   "metadata": {},
   "outputs": [
    {
     "name": "stderr",
     "output_type": "stream",
     "text": [
      "\u001b[32m2024-05-25 13:14:23.422\u001b[0m | \u001b[34m\u001b[1mDEBUG   \u001b[0m | \u001b[36m__main__\u001b[0m:\u001b[36mthreeSum\u001b[0m:\u001b[36m30\u001b[0m - \u001b[34m\u001b[1m[-2, 0, 0, 2, 2]\u001b[0m\n",
      "\u001b[32m2024-05-25 13:14:23.423\u001b[0m | \u001b[34m\u001b[1mDEBUG   \u001b[0m | \u001b[36m__main__\u001b[0m:\u001b[36mthreeSum\u001b[0m:\u001b[36m42\u001b[0m - \u001b[34m\u001b[1mtwo_sum_result after selectiong -2: [[0, 2], [0, 2]]\u001b[0m\n",
      "\u001b[32m2024-05-25 13:14:23.425\u001b[0m | \u001b[34m\u001b[1mDEBUG   \u001b[0m | \u001b[36m__main__\u001b[0m:\u001b[36mthreeSum\u001b[0m:\u001b[36m42\u001b[0m - \u001b[34m\u001b[1mtwo_sum_result after selectiong 0: []\u001b[0m\n",
      "\u001b[32m2024-05-25 13:14:23.426\u001b[0m | \u001b[34m\u001b[1mDEBUG   \u001b[0m | \u001b[36m__main__\u001b[0m:\u001b[36mthreeSum\u001b[0m:\u001b[36m42\u001b[0m - \u001b[34m\u001b[1mtwo_sum_result after selectiong 2: []\u001b[0m\n"
     ]
    },
    {
     "data": {
      "text/plain": [
       "[[-2, 0, 2]]"
      ]
     },
     "execution_count": 53,
     "metadata": {},
     "output_type": "execute_result"
    }
   ],
   "source": [
    "nums = [-2,0,0,2,2]\n",
    "\n",
    "\n",
    "\n",
    "threeSum(nums)"
   ]
  },
  {
   "cell_type": "code",
   "execution_count": 7,
   "metadata": {},
   "outputs": [
    {
     "data": {
      "text/plain": [
       "[[-1, 2], [0, 1]]"
      ]
     },
     "execution_count": 7,
     "metadata": {},
     "output_type": "execute_result"
    }
   ],
   "source": [
    "twoSum(\n",
    "    [-1, 0, 1, 2, 4], 1, 0, 4\n",
    ")"
   ]
  },
  {
   "cell_type": "markdown",
   "metadata": {},
   "source": [
    "### Remove nth Node from End of List\n"
   ]
  },
  {
   "cell_type": "code",
   "execution_count": 93,
   "metadata": {},
   "outputs": [],
   "source": [
    "class LinkedListNode:\n",
    "\n",
    "    def __init__(self, data, next=None) -> None:\n",
    "        self.data = data\n",
    "        self.next = next\n",
    "\n",
    "    def __str__(self) -> str:\n",
    "        return f\"{self.data}\""
   ]
  },
  {
   "cell_type": "code",
   "execution_count": 113,
   "metadata": {},
   "outputs": [],
   "source": [
    "class LinkedList:\n",
    "\n",
    "    def __init__(self) -> None:\n",
    "        self.head = None\n",
    "\n",
    "    def insert_node_at_head(self, node: LinkedListNode) -> None:\n",
    "        if self.head:\n",
    "            node.next = self.head\n",
    "            self.head = node\n",
    "        else:\n",
    "            self.head = node\n",
    "\n",
    "    def init_linked_llist_from_array(self, arr: list) -> None:\n",
    "        \"\"\"\n",
    "        Initialize a new LL from an array\n",
    "        \"\"\"\n",
    "\n",
    "        logger.debug(f\"Initializing list from arr: {arr}\")\n",
    "        arr = reversed(arr)\n",
    "\n",
    "        for elem_ in arr:\n",
    "            elem_as_node = LinkedListNode(data=elem_, next=None)\n",
    "            self.insert_node_at_head(elem_as_node)\n",
    "\n",
    "        logger.success(f\"List created: {self}\")\n",
    "\n",
    "\n",
    "    def __str__(self) -> str:\n",
    "        result = []\n",
    "        curr_node = self.head\n",
    "\n",
    "        while curr_node:\n",
    "\n",
    "            result.append(str(curr_node.data))\n",
    "\n",
    "            curr_node = curr_node.next\n",
    "\n",
    "        return \" -> \".join(result)\n",
    "    \n",
    "    def __len__(self) -> int:\n",
    "        \n",
    "        if not self.head:\n",
    "            return 0\n",
    "        \n",
    "        LL_length = 0\n",
    "        curr_node = self.head\n",
    "        while curr_node:\n",
    "            LL_length += 1\n",
    "            curr_node = curr_node.next\n",
    "\n",
    "        return LL_length\n",
    "    \n",
    "    def remove_nth_last_node(self, n: int):\n",
    "\n",
    "        LL_length = len(self)\n",
    "\n",
    "        node_idx_from_start = LL_length - n \n",
    "\n",
    "        logger.info(f\"Trying to remove {n}th node from end | idx: {node_idx_from_start} node from start\")\n",
    "\n",
    "        if node_idx_from_start == 0:\n",
    "            temp = self.head\n",
    "            self.head = temp.next\n",
    "            del temp\n",
    "\n",
    "            return\n",
    "\n",
    "        curr_node = self.head\n",
    "        for _ in range(0, node_idx_from_start - 1):\n",
    "            curr_node = curr_node.next\n",
    "\n",
    "        logger.debug(f\"curr node: {curr_node}\")\n",
    "\n",
    "        prev_node = curr_node\n",
    "        curr_node = curr_node.next\n",
    "        prev_node.next = curr_node.next \n",
    "        del curr_node\n",
    "        return\n",
    "\n",
    "        "
   ]
  },
  {
   "cell_type": "code",
   "execution_count": 114,
   "metadata": {},
   "outputs": [],
   "source": [
    "arr = [5,9,0,3,2,1,7]\n",
    "linked_list = LinkedList()"
   ]
  },
  {
   "cell_type": "code",
   "execution_count": 115,
   "metadata": {},
   "outputs": [
    {
     "name": "stderr",
     "output_type": "stream",
     "text": [
      "\u001b[32m2024-05-25 22:10:34.371\u001b[0m | \u001b[34m\u001b[1mDEBUG   \u001b[0m | \u001b[36m__main__\u001b[0m:\u001b[36minit_linked_llist_from_array\u001b[0m:\u001b[36m18\u001b[0m - \u001b[34m\u001b[1mInitializing list from arr: [5, 9, 0, 3, 2, 1, 7]\u001b[0m\n",
      "\u001b[32m2024-05-25 22:10:34.372\u001b[0m | \u001b[32m\u001b[1mSUCCESS \u001b[0m | \u001b[36m__main__\u001b[0m:\u001b[36minit_linked_llist_from_array\u001b[0m:\u001b[36m25\u001b[0m - \u001b[32m\u001b[1mList created: 5 -> 9 -> 0 -> 3 -> 2 -> 1 -> 7\u001b[0m\n"
     ]
    }
   ],
   "source": [
    "linked_list.init_linked_llist_from_array(arr)"
   ]
  },
  {
   "cell_type": "code",
   "execution_count": 116,
   "metadata": {},
   "outputs": [
    {
     "name": "stdout",
     "output_type": "stream",
     "text": [
      "5 -> 9 -> 0 -> 3 -> 2 -> 1 -> 7\n"
     ]
    }
   ],
   "source": [
    "print(linked_list)"
   ]
  },
  {
   "cell_type": "code",
   "execution_count": 117,
   "metadata": {},
   "outputs": [
    {
     "name": "stderr",
     "output_type": "stream",
     "text": [
      "\u001b[32m2024-05-25 22:10:35.136\u001b[0m | \u001b[1mINFO    \u001b[0m | \u001b[36m__main__\u001b[0m:\u001b[36mremove_nth_last_node\u001b[0m:\u001b[36m59\u001b[0m - \u001b[1mTrying to remove 2th node from end | idx: 5 node from start\u001b[0m\n",
      "\u001b[32m2024-05-25 22:10:35.137\u001b[0m | \u001b[34m\u001b[1mDEBUG   \u001b[0m | \u001b[36m__main__\u001b[0m:\u001b[36mremove_nth_last_node\u001b[0m:\u001b[36m70\u001b[0m - \u001b[34m\u001b[1mcurr node: 2\u001b[0m\n"
     ]
    }
   ],
   "source": [
    "linked_list.remove_nth_last_node(2)"
   ]
  },
  {
   "cell_type": "code",
   "execution_count": 118,
   "metadata": {},
   "outputs": [
    {
     "name": "stdout",
     "output_type": "stream",
     "text": [
      "5 -> 9 -> 0 -> 3 -> 2 -> 7\n"
     ]
    }
   ],
   "source": [
    "print(linked_list)"
   ]
  },
  {
   "cell_type": "code",
   "execution_count": 119,
   "metadata": {},
   "outputs": [
    {
     "name": "stderr",
     "output_type": "stream",
     "text": [
      "\u001b[32m2024-05-25 22:10:36.350\u001b[0m | \u001b[34m\u001b[1mDEBUG   \u001b[0m | \u001b[36m__main__\u001b[0m:\u001b[36minit_linked_llist_from_array\u001b[0m:\u001b[36m18\u001b[0m - \u001b[34m\u001b[1mInitializing list from arr: [5, 9, 0, 3, 2, 1, 7]\u001b[0m\n",
      "\u001b[32m2024-05-25 22:10:36.352\u001b[0m | \u001b[32m\u001b[1mSUCCESS \u001b[0m | \u001b[36m__main__\u001b[0m:\u001b[36minit_linked_llist_from_array\u001b[0m:\u001b[36m25\u001b[0m - \u001b[32m\u001b[1mList created: 5 -> 9 -> 0 -> 3 -> 2 -> 1 -> 7\u001b[0m\n",
      "\u001b[32m2024-05-25 22:10:36.352\u001b[0m | \u001b[1mINFO    \u001b[0m | \u001b[36m__main__\u001b[0m:\u001b[36mremove_nth_last_node\u001b[0m:\u001b[36m59\u001b[0m - \u001b[1mTrying to remove 7th node from end | idx: 0 node from start\u001b[0m\n",
      "\u001b[32m2024-05-25 22:10:36.353\u001b[0m | \u001b[34m\u001b[1mDEBUG   \u001b[0m | \u001b[36m__main__\u001b[0m:\u001b[36mremove_nth_last_node\u001b[0m:\u001b[36m70\u001b[0m - \u001b[34m\u001b[1mcurr node: 9\u001b[0m\n"
     ]
    },
    {
     "name": "stdout",
     "output_type": "stream",
     "text": [
      "9 -> 3 -> 2 -> 1 -> 7\n"
     ]
    }
   ],
   "source": [
    "linked_list = LinkedList()\n",
    "linked_list.init_linked_llist_from_array(arr)\n",
    "linked_list.remove_nth_last_node(7)\n",
    "print(linked_list)"
   ]
  },
  {
   "cell_type": "code",
   "execution_count": null,
   "metadata": {},
   "outputs": [],
   "source": []
  }
 ],
 "metadata": {
  "kernelspec": {
   "display_name": "shaunak_llm",
   "language": "python",
   "name": "python3"
  },
  "language_info": {
   "codemirror_mode": {
    "name": "ipython",
    "version": 3
   },
   "file_extension": ".py",
   "mimetype": "text/x-python",
   "name": "python",
   "nbconvert_exporter": "python",
   "pygments_lexer": "ipython3",
   "version": "3.10.10"
  }
 },
 "nbformat": 4,
 "nbformat_minor": 2
}
