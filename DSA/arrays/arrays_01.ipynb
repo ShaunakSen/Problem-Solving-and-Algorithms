{
 "cells": [
  {
   "cell_type": "markdown",
   "metadata": {},
   "source": [
    "### 3Ssum\n",
    "\n",
    "- https://leetcode.com/problems/3sum/\n",
    "- https://www.youtube.com/watch?v=jzZsG8n2R9A\n",
    "\n",
    "NOTE: solve 2sum an sorted 2sum before this\n",
    "\n",
    "---"
   ]
  },
  {
   "cell_type": "code",
   "execution_count": 44,
   "metadata": {},
   "outputs": [],
   "source": [
    "from typing import List\n",
    "from loguru import logger\n",
    "import numpy as np"
   ]
  },
  {
   "cell_type": "code",
   "execution_count": 41,
   "metadata": {},
   "outputs": [
    {
     "data": {
      "text/plain": [
       "{(1, 2)}"
      ]
     },
     "execution_count": 41,
     "metadata": {},
     "output_type": "execute_result"
    }
   ],
   "source": [
    "set(((1,2), (1,2)))"
   ]
  },
  {
   "cell_type": "code",
   "execution_count": 45,
   "metadata": {},
   "outputs": [
    {
     "data": {
      "text/plain": [
       "array([[1, 2],\n",
       "       [1, 2]])"
      ]
     },
     "execution_count": 45,
     "metadata": {},
     "output_type": "execute_result"
    }
   ],
   "source": [
    "soln = [[1,2], [1,2]]\n",
    "\n",
    "np.array(soln)"
   ]
  },
  {
   "cell_type": "code",
   "execution_count": 51,
   "metadata": {},
   "outputs": [
    {
     "data": {
      "text/plain": [
       "[[1, 2]]"
      ]
     },
     "execution_count": 51,
     "metadata": {},
     "output_type": "execute_result"
    }
   ],
   "source": [
    "np.unique(soln, axis=0).tolist()"
   ]
  },
  {
   "cell_type": "code",
   "execution_count": 52,
   "metadata": {},
   "outputs": [],
   "source": [
    "def twoSum(nums: List[int], target: int, left: int, right: int) -> list:\n",
    "    solutions = []\n",
    "    \n",
    "    while left < right:\n",
    "        # logger.debug(f\"{left, right}\")\n",
    "        \n",
    "        # check current sum\n",
    "        current_sum = nums[left] + nums[right]\n",
    "\n",
    "        if current_sum == target:\n",
    "            solutions.append([nums[left], nums[right]])\n",
    "            left += 1\n",
    "            right -= 1\n",
    "\n",
    "        # if too low, we need to increment left pointer\n",
    "        elif current_sum < target:\n",
    "            left += 1\n",
    "        # if too high, we need to decrement right pointer\n",
    "        else:\n",
    "            right -= 1\n",
    "        # logger.debug(f\"{left, right}\")\n",
    "\n",
    "    return solutions\n",
    "\n",
    "def threeSum(nums: List[int]) -> List[List[int]]:\n",
    "\n",
    "    all_results = []\n",
    "\n",
    "    nums = sorted(nums)\n",
    "    logger.debug(nums)\n",
    "\n",
    "    for idx, first_num in enumerate(nums):\n",
    "\n",
    "\n",
    "        if idx > 0 and nums[idx-1] == first_num:\n",
    "            continue\n",
    "\n",
    "        required_two_sum = -first_num\n",
    "\n",
    "        two_sum_result = twoSum(nums, required_two_sum, idx+1, len(nums)-1)\n",
    "\n",
    "        logger.debug(f\"two_sum_result after selectiong {first_num}: {two_sum_result}\")\n",
    "\n",
    "        if two_sum_result:\n",
    "            for sol_ in two_sum_result:\n",
    "                sol_.insert(0, first_num)\n",
    "                all_results.append(sol_)\n",
    "\n",
    "        all_results = np.unique(all_results, axis=0).tolist()\n",
    "\n",
    "    return all_results"
   ]
  },
  {
   "cell_type": "code",
   "execution_count": 39,
   "metadata": {},
   "outputs": [
    {
     "data": {
      "text/plain": [
       "[[2, -1]]"
      ]
     },
     "execution_count": 39,
     "metadata": {},
     "output_type": "execute_result"
    }
   ],
   "source": [
    "twoSum(\n",
    "    [-1, 0, 1, 2], 1, 0\n",
    ")"
   ]
  },
  {
   "cell_type": "code",
   "execution_count": 34,
   "metadata": {},
   "outputs": [
    {
     "name": "stderr",
     "output_type": "stream",
     "text": [
      "\u001b[32m2024-05-25 13:01:32.434\u001b[0m | \u001b[34m\u001b[1mDEBUG   \u001b[0m | \u001b[36m__main__\u001b[0m:\u001b[36mthreeSum\u001b[0m:\u001b[36m30\u001b[0m - \u001b[34m\u001b[1m[-4, -1, -1, 0, 1, 2]\u001b[0m\n",
      "\u001b[32m2024-05-25 13:01:32.435\u001b[0m | \u001b[34m\u001b[1mDEBUG   \u001b[0m | \u001b[36m__main__\u001b[0m:\u001b[36mthreeSum\u001b[0m:\u001b[36m42\u001b[0m - \u001b[34m\u001b[1mtwo_sum_result after selectiong -4: []\u001b[0m\n",
      "\u001b[32m2024-05-25 13:01:32.436\u001b[0m | \u001b[34m\u001b[1mDEBUG   \u001b[0m | \u001b[36m__main__\u001b[0m:\u001b[36mthreeSum\u001b[0m:\u001b[36m42\u001b[0m - \u001b[34m\u001b[1mtwo_sum_result after selectiong -1: [[-1, 2], [0, 1]]\u001b[0m\n",
      "\u001b[32m2024-05-25 13:01:32.437\u001b[0m | \u001b[34m\u001b[1mDEBUG   \u001b[0m | \u001b[36m__main__\u001b[0m:\u001b[36mthreeSum\u001b[0m:\u001b[36m42\u001b[0m - \u001b[34m\u001b[1mtwo_sum_result after selectiong 0: []\u001b[0m\n",
      "\u001b[32m2024-05-25 13:01:32.437\u001b[0m | \u001b[34m\u001b[1mDEBUG   \u001b[0m | \u001b[36m__main__\u001b[0m:\u001b[36mthreeSum\u001b[0m:\u001b[36m42\u001b[0m - \u001b[34m\u001b[1mtwo_sum_result after selectiong 1: []\u001b[0m\n",
      "\u001b[32m2024-05-25 13:01:32.438\u001b[0m | \u001b[34m\u001b[1mDEBUG   \u001b[0m | \u001b[36m__main__\u001b[0m:\u001b[36mthreeSum\u001b[0m:\u001b[36m42\u001b[0m - \u001b[34m\u001b[1mtwo_sum_result after selectiong 2: []\u001b[0m\n"
     ]
    },
    {
     "data": {
      "text/plain": [
       "[[-1, -1, 2], [-1, 0, 1]]"
      ]
     },
     "execution_count": 34,
     "metadata": {},
     "output_type": "execute_result"
    }
   ],
   "source": [
    "nums = [-1,0,1,2,-1,-4]\n",
    "threeSum(nums)"
   ]
  },
  {
   "cell_type": "code",
   "execution_count": 53,
   "metadata": {},
   "outputs": [
    {
     "name": "stderr",
     "output_type": "stream",
     "text": [
      "\u001b[32m2024-05-25 13:14:23.422\u001b[0m | \u001b[34m\u001b[1mDEBUG   \u001b[0m | \u001b[36m__main__\u001b[0m:\u001b[36mthreeSum\u001b[0m:\u001b[36m30\u001b[0m - \u001b[34m\u001b[1m[-2, 0, 0, 2, 2]\u001b[0m\n",
      "\u001b[32m2024-05-25 13:14:23.423\u001b[0m | \u001b[34m\u001b[1mDEBUG   \u001b[0m | \u001b[36m__main__\u001b[0m:\u001b[36mthreeSum\u001b[0m:\u001b[36m42\u001b[0m - \u001b[34m\u001b[1mtwo_sum_result after selectiong -2: [[0, 2], [0, 2]]\u001b[0m\n",
      "\u001b[32m2024-05-25 13:14:23.425\u001b[0m | \u001b[34m\u001b[1mDEBUG   \u001b[0m | \u001b[36m__main__\u001b[0m:\u001b[36mthreeSum\u001b[0m:\u001b[36m42\u001b[0m - \u001b[34m\u001b[1mtwo_sum_result after selectiong 0: []\u001b[0m\n",
      "\u001b[32m2024-05-25 13:14:23.426\u001b[0m | \u001b[34m\u001b[1mDEBUG   \u001b[0m | \u001b[36m__main__\u001b[0m:\u001b[36mthreeSum\u001b[0m:\u001b[36m42\u001b[0m - \u001b[34m\u001b[1mtwo_sum_result after selectiong 2: []\u001b[0m\n"
     ]
    },
    {
     "data": {
      "text/plain": [
       "[[-2, 0, 2]]"
      ]
     },
     "execution_count": 53,
     "metadata": {},
     "output_type": "execute_result"
    }
   ],
   "source": [
    "nums = [-2,0,0,2,2]\n",
    "\n",
    "\n",
    "\n",
    "threeSum(nums)"
   ]
  },
  {
   "cell_type": "code",
   "execution_count": 7,
   "metadata": {},
   "outputs": [
    {
     "data": {
      "text/plain": [
       "[[-1, 2], [0, 1]]"
      ]
     },
     "execution_count": 7,
     "metadata": {},
     "output_type": "execute_result"
    }
   ],
   "source": [
    "twoSum(\n",
    "    [-1, 0, 1, 2, 4], 1, 0, 4\n",
    ")"
   ]
  },
  {
   "cell_type": "markdown",
   "metadata": {},
   "source": [
    "### Remove nth Node from End of List\n"
   ]
  },
  {
   "cell_type": "code",
   "execution_count": 57,
   "metadata": {},
   "outputs": [],
   "source": [
    "class LinkedListNode:\n",
    "\n",
    "    def __init__(self, data, next=None) -> None:\n",
    "        self.data = data\n",
    "        self.next = next"
   ]
  },
  {
   "cell_type": "code",
   "execution_count": 76,
   "metadata": {},
   "outputs": [],
   "source": [
    "class LinkedList:\n",
    "\n",
    "    def __init__(self) -> None:\n",
    "        self.head = None\n",
    "\n",
    "    def insert_node_at_head(self, node: LinkedListNode) -> None:\n",
    "        if self.head:\n",
    "            node.next = self.head\n",
    "            self.head = node\n",
    "        else:\n",
    "            self.head = node\n",
    "\n",
    "    def init_linked_llist_from_array(self, arr: list) -> None:\n",
    "        \"\"\"\n",
    "        Initialize a new LL from an array\n",
    "        \"\"\"\n",
    "\n",
    "        logger.debug(f\"Initializing list from arr: {arr}\")\n",
    "        arr = reversed(arr)\n",
    "\n",
    "        for elem_ in arr:\n",
    "            elem_as_node = LinkedListNode(data=elem_, next=None)\n",
    "            self.insert_node_at_head(elem_as_node)\n",
    "\n",
    "        logger.success(f\"List created: {self}\")\n",
    "\n",
    "\n",
    "    def __str__(self) -> str:\n",
    "        result = []\n",
    "        curr_node = self.head\n",
    "\n",
    "        while curr_node:\n",
    "\n",
    "            result.append(str(curr_node.data))\n",
    "\n",
    "            curr_node = curr_node.next\n",
    "\n",
    "        return \" -> \".join(result)\n",
    "        "
   ]
  },
  {
   "cell_type": "code",
   "execution_count": 77,
   "metadata": {},
   "outputs": [],
   "source": [
    "arr = [5,9,0,3,2]\n",
    "linked_list = LinkedList()"
   ]
  },
  {
   "cell_type": "code",
   "execution_count": 79,
   "metadata": {},
   "outputs": [
    {
     "name": "stderr",
     "output_type": "stream",
     "text": [
      "\u001b[32m2024-05-25 21:28:13.266\u001b[0m | \u001b[34m\u001b[1mDEBUG   \u001b[0m | \u001b[36m__main__\u001b[0m:\u001b[36minit_linked_llist_from_array\u001b[0m:\u001b[36m18\u001b[0m - \u001b[34m\u001b[1mInitializing list from arr: [5, 9, 0, 3, 2]\u001b[0m\n",
      "\u001b[32m2024-05-25 21:28:13.267\u001b[0m | \u001b[32m\u001b[1mSUCCESS \u001b[0m | \u001b[36m__main__\u001b[0m:\u001b[36minit_linked_llist_from_array\u001b[0m:\u001b[36m25\u001b[0m - \u001b[32m\u001b[1mList created: 5 -> 9 -> 0 -> 3 -> 2\u001b[0m\n"
     ]
    }
   ],
   "source": [
    "linked_list.init_linked_llist_from_array(arr)"
   ]
  },
  {
   "cell_type": "code",
   "execution_count": 81,
   "metadata": {},
   "outputs": [
    {
     "name": "stdout",
     "output_type": "stream",
     "text": [
      "5 -> 9 -> 0 -> 3 -> 2\n"
     ]
    }
   ],
   "source": [
    "print(linked_list)"
   ]
  },
  {
   "cell_type": "code",
   "execution_count": null,
   "metadata": {},
   "outputs": [],
   "source": []
  }
 ],
 "metadata": {
  "kernelspec": {
   "display_name": "shaunak_llm",
   "language": "python",
   "name": "python3"
  },
  "language_info": {
   "codemirror_mode": {
    "name": "ipython",
    "version": 3
   },
   "file_extension": ".py",
   "mimetype": "text/x-python",
   "name": "python",
   "nbconvert_exporter": "python",
   "pygments_lexer": "ipython3",
   "version": "3.10.10"
  }
 },
 "nbformat": 4,
 "nbformat_minor": 2
}
