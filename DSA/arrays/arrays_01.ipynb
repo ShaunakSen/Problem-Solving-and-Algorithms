{
 "cells": [
  {
   "cell_type": "markdown",
   "metadata": {},
   "source": [
    "### 3Ssum\n",
    "\n",
    "- https://leetcode.com/problems/3sum/\n",
    "- https://www.youtube.com/watch?v=jzZsG8n2R9A\n",
    "\n",
    "NOTE: solve 2sum an sorted 2sum before this\n",
    "\n",
    "---"
   ]
  },
  {
   "cell_type": "code",
   "execution_count": 44,
   "metadata": {},
   "outputs": [],
   "source": [
    "from typing import List\n",
    "from loguru import logger\n",
    "import numpy as np"
   ]
  },
  {
   "cell_type": "code",
   "execution_count": 41,
   "metadata": {},
   "outputs": [
    {
     "data": {
      "text/plain": [
       "{(1, 2)}"
      ]
     },
     "execution_count": 41,
     "metadata": {},
     "output_type": "execute_result"
    }
   ],
   "source": [
    "set(((1,2), (1,2)))"
   ]
  },
  {
   "cell_type": "code",
   "execution_count": 45,
   "metadata": {},
   "outputs": [
    {
     "data": {
      "text/plain": [
       "array([[1, 2],\n",
       "       [1, 2]])"
      ]
     },
     "execution_count": 45,
     "metadata": {},
     "output_type": "execute_result"
    }
   ],
   "source": [
    "soln = [[1,2], [1,2]]\n",
    "\n",
    "np.array(soln)"
   ]
  },
  {
   "cell_type": "code",
   "execution_count": 51,
   "metadata": {},
   "outputs": [
    {
     "data": {
      "text/plain": [
       "[[1, 2]]"
      ]
     },
     "execution_count": 51,
     "metadata": {},
     "output_type": "execute_result"
    }
   ],
   "source": [
    "np.unique(soln, axis=0).tolist()"
   ]
  },
  {
   "cell_type": "code",
   "execution_count": 52,
   "metadata": {},
   "outputs": [],
   "source": [
    "def twoSum(nums: List[int], target: int, left: int, right: int) -> list:\n",
    "    solutions = []\n",
    "    \n",
    "    while left < right:\n",
    "        # logger.debug(f\"{left, right}\")\n",
    "        \n",
    "        # check current sum\n",
    "        current_sum = nums[left] + nums[right]\n",
    "\n",
    "        if current_sum == target:\n",
    "            solutions.append([nums[left], nums[right]])\n",
    "            left += 1\n",
    "            right -= 1\n",
    "\n",
    "        # if too low, we need to increment left pointer\n",
    "        elif current_sum < target:\n",
    "            left += 1\n",
    "        # if too high, we need to decrement right pointer\n",
    "        else:\n",
    "            right -= 1\n",
    "        # logger.debug(f\"{left, right}\")\n",
    "\n",
    "    return solutions\n",
    "\n",
    "def threeSum(nums: List[int]) -> List[List[int]]:\n",
    "\n",
    "    all_results = []\n",
    "\n",
    "    nums = sorted(nums)\n",
    "    logger.debug(nums)\n",
    "\n",
    "    for idx, first_num in enumerate(nums):\n",
    "\n",
    "\n",
    "        if idx > 0 and nums[idx-1] == first_num:\n",
    "            continue\n",
    "\n",
    "        required_two_sum = -first_num\n",
    "\n",
    "        two_sum_result = twoSum(nums, required_two_sum, idx+1, len(nums)-1)\n",
    "\n",
    "        logger.debug(f\"two_sum_result after selectiong {first_num}: {two_sum_result}\")\n",
    "\n",
    "        if two_sum_result:\n",
    "            for sol_ in two_sum_result:\n",
    "                sol_.insert(0, first_num)\n",
    "                all_results.append(sol_)\n",
    "\n",
    "        all_results = np.unique(all_results, axis=0).tolist()\n",
    "\n",
    "    return all_results"
   ]
  },
  {
   "cell_type": "code",
   "execution_count": 39,
   "metadata": {},
   "outputs": [
    {
     "data": {
      "text/plain": [
       "[[2, -1]]"
      ]
     },
     "execution_count": 39,
     "metadata": {},
     "output_type": "execute_result"
    }
   ],
   "source": [
    "twoSum(\n",
    "    [-1, 0, 1, 2], 1, 0\n",
    ")"
   ]
  },
  {
   "cell_type": "code",
   "execution_count": 34,
   "metadata": {},
   "outputs": [
    {
     "name": "stderr",
     "output_type": "stream",
     "text": [
      "\u001b[32m2024-05-25 13:01:32.434\u001b[0m | \u001b[34m\u001b[1mDEBUG   \u001b[0m | \u001b[36m__main__\u001b[0m:\u001b[36mthreeSum\u001b[0m:\u001b[36m30\u001b[0m - \u001b[34m\u001b[1m[-4, -1, -1, 0, 1, 2]\u001b[0m\n",
      "\u001b[32m2024-05-25 13:01:32.435\u001b[0m | \u001b[34m\u001b[1mDEBUG   \u001b[0m | \u001b[36m__main__\u001b[0m:\u001b[36mthreeSum\u001b[0m:\u001b[36m42\u001b[0m - \u001b[34m\u001b[1mtwo_sum_result after selectiong -4: []\u001b[0m\n",
      "\u001b[32m2024-05-25 13:01:32.436\u001b[0m | \u001b[34m\u001b[1mDEBUG   \u001b[0m | \u001b[36m__main__\u001b[0m:\u001b[36mthreeSum\u001b[0m:\u001b[36m42\u001b[0m - \u001b[34m\u001b[1mtwo_sum_result after selectiong -1: [[-1, 2], [0, 1]]\u001b[0m\n",
      "\u001b[32m2024-05-25 13:01:32.437\u001b[0m | \u001b[34m\u001b[1mDEBUG   \u001b[0m | \u001b[36m__main__\u001b[0m:\u001b[36mthreeSum\u001b[0m:\u001b[36m42\u001b[0m - \u001b[34m\u001b[1mtwo_sum_result after selectiong 0: []\u001b[0m\n",
      "\u001b[32m2024-05-25 13:01:32.437\u001b[0m | \u001b[34m\u001b[1mDEBUG   \u001b[0m | \u001b[36m__main__\u001b[0m:\u001b[36mthreeSum\u001b[0m:\u001b[36m42\u001b[0m - \u001b[34m\u001b[1mtwo_sum_result after selectiong 1: []\u001b[0m\n",
      "\u001b[32m2024-05-25 13:01:32.438\u001b[0m | \u001b[34m\u001b[1mDEBUG   \u001b[0m | \u001b[36m__main__\u001b[0m:\u001b[36mthreeSum\u001b[0m:\u001b[36m42\u001b[0m - \u001b[34m\u001b[1mtwo_sum_result after selectiong 2: []\u001b[0m\n"
     ]
    },
    {
     "data": {
      "text/plain": [
       "[[-1, -1, 2], [-1, 0, 1]]"
      ]
     },
     "execution_count": 34,
     "metadata": {},
     "output_type": "execute_result"
    }
   ],
   "source": [
    "nums = [-1,0,1,2,-1,-4]\n",
    "threeSum(nums)"
   ]
  },
  {
   "cell_type": "code",
   "execution_count": 53,
   "metadata": {},
   "outputs": [
    {
     "name": "stderr",
     "output_type": "stream",
     "text": [
      "\u001b[32m2024-05-25 13:14:23.422\u001b[0m | \u001b[34m\u001b[1mDEBUG   \u001b[0m | \u001b[36m__main__\u001b[0m:\u001b[36mthreeSum\u001b[0m:\u001b[36m30\u001b[0m - \u001b[34m\u001b[1m[-2, 0, 0, 2, 2]\u001b[0m\n",
      "\u001b[32m2024-05-25 13:14:23.423\u001b[0m | \u001b[34m\u001b[1mDEBUG   \u001b[0m | \u001b[36m__main__\u001b[0m:\u001b[36mthreeSum\u001b[0m:\u001b[36m42\u001b[0m - \u001b[34m\u001b[1mtwo_sum_result after selectiong -2: [[0, 2], [0, 2]]\u001b[0m\n",
      "\u001b[32m2024-05-25 13:14:23.425\u001b[0m | \u001b[34m\u001b[1mDEBUG   \u001b[0m | \u001b[36m__main__\u001b[0m:\u001b[36mthreeSum\u001b[0m:\u001b[36m42\u001b[0m - \u001b[34m\u001b[1mtwo_sum_result after selectiong 0: []\u001b[0m\n",
      "\u001b[32m2024-05-25 13:14:23.426\u001b[0m | \u001b[34m\u001b[1mDEBUG   \u001b[0m | \u001b[36m__main__\u001b[0m:\u001b[36mthreeSum\u001b[0m:\u001b[36m42\u001b[0m - \u001b[34m\u001b[1mtwo_sum_result after selectiong 2: []\u001b[0m\n"
     ]
    },
    {
     "data": {
      "text/plain": [
       "[[-2, 0, 2]]"
      ]
     },
     "execution_count": 53,
     "metadata": {},
     "output_type": "execute_result"
    }
   ],
   "source": [
    "nums = [-2,0,0,2,2]\n",
    "\n",
    "\n",
    "\n",
    "threeSum(nums)"
   ]
  },
  {
   "cell_type": "code",
   "execution_count": 7,
   "metadata": {},
   "outputs": [
    {
     "data": {
      "text/plain": [
       "[[-1, 2], [0, 1]]"
      ]
     },
     "execution_count": 7,
     "metadata": {},
     "output_type": "execute_result"
    }
   ],
   "source": [
    "twoSum(\n",
    "    [-1, 0, 1, 2, 4], 1, 0, 4\n",
    ")"
   ]
  },
  {
   "cell_type": "markdown",
   "metadata": {},
   "source": [
    "### Remove nth Node from End of List\n"
   ]
  },
  {
   "cell_type": "code",
   "execution_count": 93,
   "metadata": {},
   "outputs": [],
   "source": [
    "class LinkedListNode:\n",
    "\n",
    "    def __init__(self, data, next=None) -> None:\n",
    "        self.data = data\n",
    "        self.next = next\n",
    "\n",
    "    def __str__(self) -> str:\n",
    "        return f\"{self.data}\""
   ]
  },
  {
   "cell_type": "code",
   "execution_count": 113,
   "metadata": {},
   "outputs": [],
   "source": [
    "class LinkedList:\n",
    "\n",
    "    def __init__(self) -> None:\n",
    "        self.head = None\n",
    "\n",
    "    def insert_node_at_head(self, node: LinkedListNode) -> None:\n",
    "        if self.head:\n",
    "            node.next = self.head\n",
    "            self.head = node\n",
    "        else:\n",
    "            self.head = node\n",
    "\n",
    "    def init_linked_llist_from_array(self, arr: list) -> None:\n",
    "        \"\"\"\n",
    "        Initialize a new LL from an array\n",
    "        \"\"\"\n",
    "\n",
    "        logger.debug(f\"Initializing list from arr: {arr}\")\n",
    "        arr = reversed(arr)\n",
    "\n",
    "        for elem_ in arr:\n",
    "            elem_as_node = LinkedListNode(data=elem_, next=None)\n",
    "            self.insert_node_at_head(elem_as_node)\n",
    "\n",
    "        logger.success(f\"List created: {self}\")\n",
    "\n",
    "\n",
    "    def __str__(self) -> str:\n",
    "        result = []\n",
    "        curr_node = self.head\n",
    "\n",
    "        while curr_node:\n",
    "\n",
    "            result.append(str(curr_node.data))\n",
    "\n",
    "            curr_node = curr_node.next\n",
    "\n",
    "        return \" -> \".join(result)\n",
    "    \n",
    "    def __len__(self) -> int:\n",
    "        \n",
    "        if not self.head:\n",
    "            return 0\n",
    "        \n",
    "        LL_length = 0\n",
    "        curr_node = self.head\n",
    "        while curr_node:\n",
    "            LL_length += 1\n",
    "            curr_node = curr_node.next\n",
    "\n",
    "        return LL_length\n",
    "    \n",
    "    def remove_nth_last_node(self, n: int):\n",
    "\n",
    "        LL_length = len(self)\n",
    "\n",
    "        node_idx_from_start = LL_length - n \n",
    "\n",
    "        logger.info(f\"Trying to remove {n}th node from end | idx: {node_idx_from_start} node from start\")\n",
    "\n",
    "        if node_idx_from_start == 0:\n",
    "            temp = self.head\n",
    "            self.head = temp.next\n",
    "            del temp\n",
    "\n",
    "            return\n",
    "\n",
    "        curr_node = self.head\n",
    "        for _ in range(0, node_idx_from_start - 1):\n",
    "            curr_node = curr_node.next\n",
    "\n",
    "        logger.debug(f\"curr node: {curr_node}\")\n",
    "\n",
    "        prev_node = curr_node\n",
    "        curr_node = curr_node.next\n",
    "        prev_node.next = curr_node.next \n",
    "        del curr_node\n",
    "        return\n",
    "\n",
    "        "
   ]
  },
  {
   "cell_type": "code",
   "execution_count": 114,
   "metadata": {},
   "outputs": [],
   "source": [
    "arr = [5,9,0,3,2,1,7]\n",
    "linked_list = LinkedList()"
   ]
  },
  {
   "cell_type": "code",
   "execution_count": 115,
   "metadata": {},
   "outputs": [
    {
     "name": "stderr",
     "output_type": "stream",
     "text": [
      "\u001b[32m2024-05-25 22:10:34.371\u001b[0m | \u001b[34m\u001b[1mDEBUG   \u001b[0m | \u001b[36m__main__\u001b[0m:\u001b[36minit_linked_llist_from_array\u001b[0m:\u001b[36m18\u001b[0m - \u001b[34m\u001b[1mInitializing list from arr: [5, 9, 0, 3, 2, 1, 7]\u001b[0m\n",
      "\u001b[32m2024-05-25 22:10:34.372\u001b[0m | \u001b[32m\u001b[1mSUCCESS \u001b[0m | \u001b[36m__main__\u001b[0m:\u001b[36minit_linked_llist_from_array\u001b[0m:\u001b[36m25\u001b[0m - \u001b[32m\u001b[1mList created: 5 -> 9 -> 0 -> 3 -> 2 -> 1 -> 7\u001b[0m\n"
     ]
    }
   ],
   "source": [
    "linked_list.init_linked_llist_from_array(arr)"
   ]
  },
  {
   "cell_type": "code",
   "execution_count": 116,
   "metadata": {},
   "outputs": [
    {
     "name": "stdout",
     "output_type": "stream",
     "text": [
      "5 -> 9 -> 0 -> 3 -> 2 -> 1 -> 7\n"
     ]
    }
   ],
   "source": [
    "print(linked_list)"
   ]
  },
  {
   "cell_type": "code",
   "execution_count": 117,
   "metadata": {},
   "outputs": [
    {
     "name": "stderr",
     "output_type": "stream",
     "text": [
      "\u001b[32m2024-05-25 22:10:35.136\u001b[0m | \u001b[1mINFO    \u001b[0m | \u001b[36m__main__\u001b[0m:\u001b[36mremove_nth_last_node\u001b[0m:\u001b[36m59\u001b[0m - \u001b[1mTrying to remove 2th node from end | idx: 5 node from start\u001b[0m\n",
      "\u001b[32m2024-05-25 22:10:35.137\u001b[0m | \u001b[34m\u001b[1mDEBUG   \u001b[0m | \u001b[36m__main__\u001b[0m:\u001b[36mremove_nth_last_node\u001b[0m:\u001b[36m70\u001b[0m - \u001b[34m\u001b[1mcurr node: 2\u001b[0m\n"
     ]
    }
   ],
   "source": [
    "linked_list.remove_nth_last_node(2)"
   ]
  },
  {
   "cell_type": "code",
   "execution_count": 118,
   "metadata": {},
   "outputs": [
    {
     "name": "stdout",
     "output_type": "stream",
     "text": [
      "5 -> 9 -> 0 -> 3 -> 2 -> 7\n"
     ]
    }
   ],
   "source": [
    "print(linked_list)"
   ]
  },
  {
   "cell_type": "code",
   "execution_count": 119,
   "metadata": {},
   "outputs": [
    {
     "name": "stderr",
     "output_type": "stream",
     "text": [
      "\u001b[32m2024-05-25 22:10:36.350\u001b[0m | \u001b[34m\u001b[1mDEBUG   \u001b[0m | \u001b[36m__main__\u001b[0m:\u001b[36minit_linked_llist_from_array\u001b[0m:\u001b[36m18\u001b[0m - \u001b[34m\u001b[1mInitializing list from arr: [5, 9, 0, 3, 2, 1, 7]\u001b[0m\n",
      "\u001b[32m2024-05-25 22:10:36.352\u001b[0m | \u001b[32m\u001b[1mSUCCESS \u001b[0m | \u001b[36m__main__\u001b[0m:\u001b[36minit_linked_llist_from_array\u001b[0m:\u001b[36m25\u001b[0m - \u001b[32m\u001b[1mList created: 5 -> 9 -> 0 -> 3 -> 2 -> 1 -> 7\u001b[0m\n",
      "\u001b[32m2024-05-25 22:10:36.352\u001b[0m | \u001b[1mINFO    \u001b[0m | \u001b[36m__main__\u001b[0m:\u001b[36mremove_nth_last_node\u001b[0m:\u001b[36m59\u001b[0m - \u001b[1mTrying to remove 7th node from end | idx: 0 node from start\u001b[0m\n",
      "\u001b[32m2024-05-25 22:10:36.353\u001b[0m | \u001b[34m\u001b[1mDEBUG   \u001b[0m | \u001b[36m__main__\u001b[0m:\u001b[36mremove_nth_last_node\u001b[0m:\u001b[36m70\u001b[0m - \u001b[34m\u001b[1mcurr node: 9\u001b[0m\n"
     ]
    },
    {
     "name": "stdout",
     "output_type": "stream",
     "text": [
      "9 -> 3 -> 2 -> 1 -> 7\n"
     ]
    }
   ],
   "source": [
    "linked_list = LinkedList()\n",
    "linked_list.init_linked_llist_from_array(arr)\n",
    "linked_list.remove_nth_last_node(7)\n",
    "print(linked_list)"
   ]
  },
  {
   "cell_type": "markdown",
   "metadata": {},
   "source": [
    "### Sort colors\n",
    "\n",
    "> https://leetcode.com/problems/sort-colors/\n",
    "\n",
    "---"
   ]
  },
  {
   "cell_type": "code",
   "execution_count": 137,
   "metadata": {},
   "outputs": [],
   "source": [
    "def sortColors(nums: List[int]) -> None:\n",
    "    count_0, count_1, count_2 = 0,0,0\n",
    "\n",
    "    for num_ in nums:\n",
    "        if num_ == 0:\n",
    "            count_0 += 1\n",
    "        elif num_ == 1:\n",
    "            count_1 += 1\n",
    "        else:\n",
    "            count_2 += 1\n",
    "\n",
    "    logger.debug((count_0, count_1, count_2))\n",
    "    for i in range(count_0):\n",
    "        nums[i] = 0\n",
    "\n",
    "    if count_0 == 0:\n",
    "        start_1 = 0\n",
    "    else:\n",
    "        start_1 = count_0\n",
    "\n",
    "    logger.debug(f\"start_1: {start_1}\")\n",
    "    for j in range(start_1, start_1+count_1):\n",
    "        nums[j]=1\n",
    "\n",
    "    if count_1 == 0:\n",
    "        start_2 = start_1\n",
    "    else:\n",
    "        start_2 = start_1+count_1\n",
    "\n",
    "    logger.debug(f\"start_2: {start_2}\")\n",
    "\n",
    "    for k in range(start_2, start_2+count_2):\n",
    "        nums[k]=2\n",
    "\n",
    "    return nums\n",
    "        "
   ]
  },
  {
   "cell_type": "code",
   "execution_count": 138,
   "metadata": {},
   "outputs": [
    {
     "name": "stderr",
     "output_type": "stream",
     "text": [
      "\u001b[32m2024-05-26 16:48:28.063\u001b[0m | \u001b[34m\u001b[1mDEBUG   \u001b[0m | \u001b[36m__main__\u001b[0m:\u001b[36msortColors\u001b[0m:\u001b[36m12\u001b[0m - \u001b[34m\u001b[1m(3, 2, 2)\u001b[0m\n",
      "\u001b[32m2024-05-26 16:48:28.067\u001b[0m | \u001b[34m\u001b[1mDEBUG   \u001b[0m | \u001b[36m__main__\u001b[0m:\u001b[36msortColors\u001b[0m:\u001b[36m21\u001b[0m - \u001b[34m\u001b[1mstart_1: 3\u001b[0m\n",
      "\u001b[32m2024-05-26 16:48:28.069\u001b[0m | \u001b[34m\u001b[1mDEBUG   \u001b[0m | \u001b[36m__main__\u001b[0m:\u001b[36msortColors\u001b[0m:\u001b[36m30\u001b[0m - \u001b[34m\u001b[1mstart_2: 5\u001b[0m\n"
     ]
    },
    {
     "data": {
      "text/plain": [
       "[0, 0, 0, 1, 1, 2, 2]"
      ]
     },
     "execution_count": 138,
     "metadata": {},
     "output_type": "execute_result"
    }
   ],
   "source": [
    "sortColors([0,2,1,0,2,1,0])"
   ]
  },
  {
   "cell_type": "code",
   "execution_count": 139,
   "metadata": {},
   "outputs": [
    {
     "name": "stderr",
     "output_type": "stream",
     "text": [
      "\u001b[32m2024-05-26 16:48:28.777\u001b[0m | \u001b[34m\u001b[1mDEBUG   \u001b[0m | \u001b[36m__main__\u001b[0m:\u001b[36msortColors\u001b[0m:\u001b[36m12\u001b[0m - \u001b[34m\u001b[1m(0, 2, 1)\u001b[0m\n",
      "\u001b[32m2024-05-26 16:48:28.779\u001b[0m | \u001b[34m\u001b[1mDEBUG   \u001b[0m | \u001b[36m__main__\u001b[0m:\u001b[36msortColors\u001b[0m:\u001b[36m21\u001b[0m - \u001b[34m\u001b[1mstart_1: 0\u001b[0m\n",
      "\u001b[32m2024-05-26 16:48:28.780\u001b[0m | \u001b[34m\u001b[1mDEBUG   \u001b[0m | \u001b[36m__main__\u001b[0m:\u001b[36msortColors\u001b[0m:\u001b[36m30\u001b[0m - \u001b[34m\u001b[1mstart_2: 2\u001b[0m\n"
     ]
    },
    {
     "data": {
      "text/plain": [
       "[1, 1, 2]"
      ]
     },
     "execution_count": 139,
     "metadata": {},
     "output_type": "execute_result"
    }
   ],
   "source": [
    "sortColors([1,1,2])"
   ]
  },
  {
   "cell_type": "code",
   "execution_count": 131,
   "metadata": {},
   "outputs": [
    {
     "name": "stderr",
     "output_type": "stream",
     "text": [
      "\u001b[32m2024-05-26 16:45:13.509\u001b[0m | \u001b[34m\u001b[1mDEBUG   \u001b[0m | \u001b[36m__main__\u001b[0m:\u001b[36msortColors\u001b[0m:\u001b[36m21\u001b[0m - \u001b[34m\u001b[1mstart_1: 0\u001b[0m\n",
      "\u001b[32m2024-05-26 16:45:13.510\u001b[0m | \u001b[34m\u001b[1mDEBUG   \u001b[0m | \u001b[36m__main__\u001b[0m:\u001b[36msortColors\u001b[0m:\u001b[36m30\u001b[0m - \u001b[34m\u001b[1mstart_2: 0\u001b[0m\n"
     ]
    },
    {
     "data": {
      "text/plain": [
       "[]"
      ]
     },
     "execution_count": 131,
     "metadata": {},
     "output_type": "execute_result"
    }
   ],
   "source": [
    "sortColors([])"
   ]
  },
  {
   "cell_type": "markdown",
   "metadata": {},
   "source": [
    "### Merge 2 sorted lists"
   ]
  },
  {
   "cell_type": "code",
   "execution_count": 140,
   "metadata": {},
   "outputs": [],
   "source": [
    "def merge_sorted_lists(nums1: list, nums2: list) -> list:\n",
    "\n",
    "    i, j = 0, 0\n",
    "    nums = []\n",
    "\n",
    "    while i < len(nums1) and j < len(nums2):\n",
    "        if nums1[i] < nums2[j]:\n",
    "            nums.append(nums1[i])\n",
    "            i+=1\n",
    "        else:\n",
    "            nums.append(nums2[j])\n",
    "            j+=1\n",
    "\n",
    "    while i < len(nums1):\n",
    "        nums.append(nums1[i])\n",
    "        i+=1\n",
    "    while j < len(nums2):\n",
    "        nums.append(nums2[j])\n",
    "        j+=1\n",
    "\n",
    "    return nums\n",
    "        "
   ]
  },
  {
   "cell_type": "code",
   "execution_count": 142,
   "metadata": {},
   "outputs": [
    {
     "data": {
      "text/plain": [
       "[1, 5, 7, 8, 24, 32]"
      ]
     },
     "execution_count": 142,
     "metadata": {},
     "output_type": "execute_result"
    }
   ],
   "source": [
    "merge_sorted_lists([1,8,24], [5,7,32])"
   ]
  },
  {
   "cell_type": "code",
   "execution_count": 146,
   "metadata": {},
   "outputs": [
    {
     "data": {
      "text/plain": [
       "[1, 24, 100, 500]"
      ]
     },
     "execution_count": 146,
     "metadata": {},
     "output_type": "execute_result"
    }
   ],
   "source": [
    "merge_sorted_lists([1,24, 500], [100])"
   ]
  },
  {
   "cell_type": "markdown",
   "metadata": {},
   "source": [
    "### Product of Array Except Self\n",
    "\n",
    "You’re given an integer array, nums. Return a resultant array product so that product[i] is equal to the product of all the elements of nums except nums[i].\n",
    "\n",
    "> https://www.youtube.com/watch?v=gREVHiZjXeQ\n",
    "---"
   ]
  },
  {
   "cell_type": "code",
   "execution_count": 175,
   "metadata": {},
   "outputs": [],
   "source": [
    "def find_product(nums: list):\n",
    "    \n",
    "    left_products, right_products = [0]*len(nums), [0]*len(nums)\n",
    "\n",
    "    product = 1\n",
    "    for i in range(len(nums)):\n",
    "        product = product * nums[i]\n",
    "        left_products[i] = product \n",
    "\n",
    "    product = 1\n",
    "\n",
    "    for i in range(len(nums)-1, -1, -1):\n",
    "        \n",
    "        product = product*nums[i]\n",
    "        right_products[i] = product \n",
    "\n",
    "    logger.debug(f\"left prefix products: {left_products}\")\n",
    "    logger.debug(f\"right prefix products: {right_products}\")\n",
    "    \n",
    "    for i in range(len(nums)):\n",
    "        \n",
    "        # left_products[i - 1] will give me left prefix product\n",
    "        # right_products[i + 1] will give me right prefix product\n",
    "\n",
    "        if i <= 0:\n",
    "            left_prefix_product = 1\n",
    "        else:\n",
    "            left_prefix_product = left_products[i-1]\n",
    "        \n",
    "        if i >= len(nums)-1:\n",
    "            right_prefix_product = 1\n",
    "        else:\n",
    "            right_prefix_product = right_products[i+1]\n",
    "\n",
    "        nums[i] = left_prefix_product * right_prefix_product\n",
    "\n",
    "    return nums\n"
   ]
  },
  {
   "cell_type": "code",
   "execution_count": 177,
   "metadata": {},
   "outputs": [
    {
     "name": "stderr",
     "output_type": "stream",
     "text": [
      "\u001b[32m2024-05-26 18:47:04.678\u001b[0m | \u001b[34m\u001b[1mDEBUG   \u001b[0m | \u001b[36m__main__\u001b[0m:\u001b[36mfind_product\u001b[0m:\u001b[36m17\u001b[0m - \u001b[34m\u001b[1mleft prefix products: [1, 2, 0, 0]\u001b[0m\n",
      "\u001b[32m2024-05-26 18:47:04.681\u001b[0m | \u001b[34m\u001b[1mDEBUG   \u001b[0m | \u001b[36m__main__\u001b[0m:\u001b[36mfind_product\u001b[0m:\u001b[36m18\u001b[0m - \u001b[34m\u001b[1mright prefix products: [0, 0, 0, 4]\u001b[0m\n"
     ]
    },
    {
     "data": {
      "text/plain": [
       "[0, 0, 8, 0]"
      ]
     },
     "execution_count": 177,
     "metadata": {},
     "output_type": "execute_result"
    }
   ],
   "source": [
    "find_product([1,2,0,4])"
   ]
  },
  {
   "cell_type": "markdown",
   "metadata": {},
   "source": [
    "### First Unique Character in a String\n",
    "\n",
    "> https://leetcode.com/problems/first-unique-character-in-a-string/description/\n",
    "\n",
    "---"
   ]
  },
  {
   "cell_type": "code",
   "execution_count": 196,
   "metadata": {},
   "outputs": [],
   "source": [
    "def firstUniqChar(s: str) -> int:\n",
    "        \n",
    "    character_count_mapping = {}\n",
    "\n",
    "    for idx, char_ in enumerate(s):\n",
    "        if char_ in character_count_mapping:\n",
    "            character_count_mapping[char_] = -1\n",
    "        else:\n",
    "            character_count_mapping[char_] = idx\n",
    "\n",
    "    logger.debug(character_count_mapping)\n",
    "\n",
    "    for char_, index_ in character_count_mapping.items():\n",
    "        if index_ != -1:\n",
    "            return index_\n",
    "\n",
    "    return -1"
   ]
  },
  {
   "cell_type": "code",
   "execution_count": 195,
   "metadata": {},
   "outputs": [
    {
     "name": "stderr",
     "output_type": "stream",
     "text": [
      "\u001b[32m2024-05-26 20:25:16.548\u001b[0m | \u001b[34m\u001b[1mDEBUG   \u001b[0m | \u001b[36m__main__\u001b[0m:\u001b[36mfirstUniqChar\u001b[0m:\u001b[36m11\u001b[0m - \u001b[34m\u001b[1m{'s': -1, 'a': -1, 'b': 3, 'm': 4, 'n': 5}\u001b[0m\n"
     ]
    },
    {
     "data": {
      "text/plain": [
       "3"
      ]
     },
     "execution_count": 195,
     "metadata": {},
     "output_type": "execute_result"
    }
   ],
   "source": [
    "firstUniqChar(\"ssabmna\")"
   ]
  },
  {
   "cell_type": "code",
   "execution_count": null,
   "metadata": {},
   "outputs": [],
   "source": []
  }
 ],
 "metadata": {
  "kernelspec": {
   "display_name": "shaunak_llm",
   "language": "python",
   "name": "python3"
  },
  "language_info": {
   "codemirror_mode": {
    "name": "ipython",
    "version": 3
   },
   "file_extension": ".py",
   "mimetype": "text/x-python",
   "name": "python",
   "nbconvert_exporter": "python",
   "pygments_lexer": "ipython3",
   "version": "3.10.10"
  }
 },
 "nbformat": 4,
 "nbformat_minor": 2
}
