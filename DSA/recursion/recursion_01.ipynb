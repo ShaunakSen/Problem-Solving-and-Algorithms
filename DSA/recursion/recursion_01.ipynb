{
 "cells": [
  {
   "cell_type": "markdown",
   "metadata": {},
   "source": [
    "## Recursion Basics\n",
    "\n",
    "> Notes on playlist by Aditya Verma https://www.youtube.com/playlist?list=PL_z_8CaSLPWeT1ffjiImo0sYTcnLzo-wY\n",
    "\n",
    "---\n",
    "\n",
    "- We take decision at each step, because of which the problem grows smaller and smaller\n",
    "- decision making is the primary goal here\n",
    "\n",
    "When to use recursion\n",
    "\n",
    "- A decision space is involved, i.e we have choices and decisions\n",
    "\n",
    "\n",
    "Recursive Tree\n",
    "\n",
    "Problem statement ---> Recursive Tree design (this should be the goal)"
   ]
  },
  {
   "cell_type": "markdown",
   "metadata": {},
   "source": [
    "### Prob: building subsets\n",
    "\n",
    "\"abc\" -> \"\", a, b, c, ab, ac, bc, abc\n",
    "\n",
    "__Thinking__:\n",
    "\n",
    "choices + decisions\n",
    "\n",
    "choices: I have to build subset - i can either include a or not\n",
    "\n",
    "similarly, i can either include b or not\n",
    "\n",
    "Whatever decision i make at each choice influences the subset we build\n",
    "\n",
    "Build empty string: not include a AND not include b AND not include c --> this is the decision\n",
    "\n",
    "> In recursion we will have choices and we will have to make a decision out of those choices\n",
    "\n",
    "![](https://gcdnb.pbrd.co/images/eRdiiKLIUNnw.png)\n",
    "\n",
    "__Recursive Tree__:\n",
    "\n",
    "Lets say the input string is \"ab\",we have to build subsets\n",
    "\n",
    "- we basically need a good representation of the decisions we make\n",
    "\n",
    "![](https://gcdnb.pbrd.co/images/FL3VAABL9Rzw.png)\n",
    "\n",
    "> Once you design the recursive tree, writing the code becomes v easy\n"
   ]
  },
  {
   "cell_type": "markdown",
   "metadata": {},
   "source": [
    "## Approaches for solving recursion\n",
    "\n",
    "1. Recursive Tree - I/p - O/p method as we saw earlier\n",
    "    - we can use this when we can understand which decisions to make\n",
    "2. Base Condition - Hypothesis - Induction\n",
    "    - sometimes decision is not obvious - in those cases it helps to think in terms of __making the input smaller__\n",
    "3. Choice diagram (DP)\n",
    "4. We will see later\n",
    "\n",
    "\n",
    "\n",
    "\n",
    "### Base Condition - Hypothesis - Induction\n",
    "\n",
    "\n",
    "__Design hypothesis__:\n",
    "The hypothesis here is that we have a (magical) function that does the following\n",
    "```\n",
    "solve(n) = print 1 -> n\n",
    "```\n",
    "\n",
    "__Induction__:\n",
    "\n",
    "\n",
    "__Base condition__:\n",
    "\n",
    "\n",
    "__Example: print 1 -> n using recursion__\n",
    "\n",
    "\n",
    "Hypothesis:\n",
    "\n",
    "```\n",
    "recur_print(7) -> 1,2,3,4,5,6,7\n",
    "\n",
    "recur_print(6) -> 1,2,3,4,5,6\n",
    "```\n",
    "\n",
    "Induction:\n",
    "\n",
    "```\n",
    "recur_print(n) = conact(recur_print(n-1), n)\n",
    "```\n",
    "\n",
    "Base condn (smallest valid input):\n",
    "\n",
    "`if n==1, return 1`"
   ]
  },
  {
   "cell_type": "code",
   "execution_count": 1,
   "metadata": {},
   "outputs": [
    {
     "data": {
      "text/plain": [
       "'1234567'"
      ]
     },
     "execution_count": 1,
     "metadata": {},
     "output_type": "execute_result"
    }
   ],
   "source": [
    "def recur_print(n: int) -> str:\n",
    "    \"\"\"\n",
    "    Print 1-n using recursion\n",
    "    \"\"\"\n",
    "    if n == 1:\n",
    "        return str(1)\n",
    "    \n",
    "    return recur_print(n-1) + str(n)\n",
    "\n",
    "recur_print(7)"
   ]
  },
  {
   "cell_type": "markdown",
   "metadata": {},
   "source": [
    "Why did we not solve using recursive tree?\n",
    " \n",
    "- there is not much decision making in this prob\n",
    "- this is a simpler prob, can be solved using IBH method"
   ]
  },
  {
   "cell_type": "markdown",
   "metadata": {},
   "source": [
    "#### Prob: print n -> 1\n",
    "\n",
    "\n",
    "\n",
    "Hypothesis:\n",
    "\n",
    "```\n",
    "recur_print(7) -> 7,6,5,4,3,2,1\n",
    "\n",
    "recur_print(6) -> 6,5,4,3,2,1\n",
    "```\n",
    "\n",
    "Induction:\n",
    "\n",
    "```\n",
    "recur_print(n) = concat(n, recur_print(n-1))\n",
    "```\n",
    "\n",
    "Base condn (smallest valid input):\n",
    "\n",
    "`if n==1, return 1`"
   ]
  },
  {
   "cell_type": "code",
   "execution_count": 3,
   "metadata": {},
   "outputs": [
    {
     "data": {
      "text/plain": [
       "'7654321'"
      ]
     },
     "execution_count": 3,
     "metadata": {},
     "output_type": "execute_result"
    }
   ],
   "source": [
    "def recur_print_reverse(n: int) -> str:\n",
    "    \"\"\"\n",
    "    Print n-1 using recursion\n",
    "    \"\"\"\n",
    "    if n == 1:\n",
    "        return str(1)\n",
    "    \n",
    "    return str(n) + recur_print_reverse(n-1)\n",
    "\n",
    "recur_print_reverse(7)"
   ]
  },
  {
   "cell_type": "markdown",
   "metadata": {},
   "source": [
    "#### factorial (n)\n",
    "\n",
    "\n",
    "\n",
    "Hypothesis:\n",
    "\n",
    "```\n",
    "factorial(5) -> 5.4.3.2.1\n",
    "\n",
    "factorial(4) -> 4.3.2.1\n",
    "```\n",
    "\n",
    "Induction:\n",
    "\n",
    "```\n",
    "factorial(n) = n. factorial(n-1)\n",
    "```\n",
    "\n",
    "Base condn (smallest valid input):\n",
    "\n",
    "`if n==1, return 1`"
   ]
  },
  {
   "cell_type": "code",
   "execution_count": 4,
   "metadata": {},
   "outputs": [],
   "source": [
    "def factorial(n):\n",
    "\n",
    "    if n <= 2:\n",
    "        return n\n",
    "    \n",
    "    return n * factorial(n-1)"
   ]
  },
  {
   "cell_type": "code",
   "execution_count": 5,
   "metadata": {},
   "outputs": [
    {
     "data": {
      "text/plain": [
       "120"
      ]
     },
     "execution_count": 5,
     "metadata": {},
     "output_type": "execute_result"
    }
   ],
   "source": [
    "factorial(5)"
   ]
  },
  {
   "cell_type": "markdown",
   "metadata": {},
   "source": [
    "#### Prob: Find height of a binary tree using recursion\n",
    "\n",
    "\n",
    "__Hypothesis:__\n",
    "\n",
    "Assume we have a function\n",
    "\n",
    "`height(node) -> returns the height of that node in the tree`\n",
    "\n",
    "Now lets imagine for smaller input: here smaller inputs are left subtree of root (root -> L) and right subtree of root (root -> R)\n",
    "\n",
    "\n",
    "`height(root -> L) -> returns the height of the left subtree`\n",
    "\n",
    "`height(root -> R) -> returns the height of the right subtree`\n",
    "\n",
    "__Induction__:\n",
    "\n",
    "`height(root) -> 1 + max(height(root -> L), height(root -> R))`\n",
    "\n",
    "\n",
    "__Base condn: smallest valid input__\n",
    "\n",
    "so `height(NULL) = 0`\n"
   ]
  },
  {
   "cell_type": "code",
   "execution_count": 1,
   "metadata": {},
   "outputs": [],
   "source": [
    "class Node:\n",
    "\n",
    "    def __init__(self, key) -> None:\n",
    "        self.key = key\n",
    "        self.left = None\n",
    "        self.right = None"
   ]
  },
  {
   "cell_type": "code",
   "execution_count": 2,
   "metadata": {},
   "outputs": [],
   "source": [
    "root_node = Node(5)  \n",
    "root_node.left = Node(4)\n",
    "root_node.right = Node(3)\n",
    "root_node.left.left = Node(2)\n",
    "root_node.right.left = Node(1)\n",
    "root_node.left.left.right = Node(0)"
   ]
  },
  {
   "cell_type": "markdown",
   "metadata": {},
   "source": [
    "```\n",
    "    5\n",
    "   / \\\n",
    "  4   3\n",
    " /     \\\n",
    "2       1\n",
    " \\\n",
    "  0\n",
    "```"
   ]
  },
  {
   "cell_type": "code",
   "execution_count": 3,
   "metadata": {},
   "outputs": [],
   "source": [
    "def find_height(node: Node) -> int:\n",
    "\n",
    "    if node is None:\n",
    "        return 0\n",
    "    \n",
    "    height_left_subtree = find_height(node.left)\n",
    "    height_right_subtree = find_height(node.right)\n",
    "\n",
    "    return 1 + max(height_left_subtree, height_right_subtree)"
   ]
  },
  {
   "cell_type": "code",
   "execution_count": 4,
   "metadata": {},
   "outputs": [
    {
     "data": {
      "text/plain": [
       "4"
      ]
     },
     "execution_count": 4,
     "metadata": {},
     "output_type": "execute_result"
    }
   ],
   "source": [
    "find_height(root_node)"
   ]
  },
  {
   "cell_type": "code",
   "execution_count": 5,
   "metadata": {},
   "outputs": [
    {
     "data": {
      "text/plain": [
       "1"
      ]
     },
     "execution_count": 5,
     "metadata": {},
     "output_type": "execute_result"
    }
   ],
   "source": [
    "find_height(root_node.left.left.right)"
   ]
  },
  {
   "cell_type": "code",
   "execution_count": 6,
   "metadata": {},
   "outputs": [
    {
     "data": {
      "text/plain": [
       "2"
      ]
     },
     "execution_count": 6,
     "metadata": {},
     "output_type": "execute_result"
    }
   ],
   "source": [
    "find_height(root_node.left.left)"
   ]
  },
  {
   "cell_type": "markdown",
   "metadata": {},
   "source": [
    "### Sort An Array using recursion\n",
    "\n",
    "\n",
    "__Hypothesis__\n",
    "\n",
    "\n",
    "Lets say arr = [4,1,3,5,6,7]\n",
    "\n",
    "sorted(arr) = [1,3,4,5,6,7]\n",
    "\n",
    "Smaller input (except first elem)\n",
    "\n",
    "\n",
    "sorted(arr[1:]) = [1,3,5,6,7]\n",
    "\n",
    "__Induction__\n",
    "\n",
    "Place the first elem in a sorted array\n",
    "\n",
    "`Place arr[0] in sorted(arr[1:])`\n",
    "\n",
    "__Base condition__\n",
    "\n",
    "`if len(arr) == 1: return arr`\n",
    "\n"
   ]
  },
  {
   "cell_type": "code",
   "execution_count": 1,
   "metadata": {},
   "outputs": [],
   "source": [
    "from loguru import logger"
   ]
  },
  {
   "cell_type": "code",
   "execution_count": 45,
   "metadata": {},
   "outputs": [],
   "source": [
    "def insert_elem_in_array(arr: list, elem: int):\n",
    "    # logger.debug(f\"arr: {arr} | elem: {elem}\")\n",
    "    if not arr:\n",
    "        return [elem]\n",
    "    if elem <= arr[0]:\n",
    "        arr.insert(0, elem)\n",
    "        return arr\n",
    "    \n",
    "    if elem >= arr[-1]:\n",
    "        arr.insert(len(arr), elem)\n",
    "        return arr\n",
    "\n",
    "    for i in range(len(arr)-1):\n",
    "        if arr[i] <= elem <= arr[i+1]:\n",
    "            arr.insert(i+1, elem)\n",
    "            break\n",
    "\n",
    "    return arr"
   ]
  },
  {
   "cell_type": "code",
   "execution_count": 49,
   "metadata": {},
   "outputs": [],
   "source": [
    "def sort_array_using_recursion(arr: list):\n",
    "\n",
    "    if len(arr) == 1:\n",
    "        return arr\n",
    "    \n",
    "    first_elem = arr[0]\n",
    "    sorted_arr_without_first_element = sort_array_using_recursion(arr[1:])\n",
    "\n",
    "    # logger.debug(f\"sorted_arr_without_first_element: {sorted_arr_without_first_element}\")\n",
    "    \n",
    "\n",
    "    # place first elem in correct position\n",
    "    \n",
    "    final_arr = insert_elem_in_array(sorted_arr_without_first_element, first_elem)\n",
    "    # logger.debug(f\"final_arr: {final_arr}\")\n",
    "\n",
    "    return final_arr\n"
   ]
  },
  {
   "cell_type": "code",
   "execution_count": 50,
   "metadata": {},
   "outputs": [
    {
     "data": {
      "text/plain": [
       "[0, 2, 4, 7, 9, 13, 20]"
      ]
     },
     "execution_count": 50,
     "metadata": {},
     "output_type": "execute_result"
    }
   ],
   "source": [
    "x = [7, 20, 9, 4, 13, 2, 0]\n",
    "\n",
    "sort_array_using_recursion(x)"
   ]
  },
  {
   "cell_type": "markdown",
   "metadata": {},
   "source": [
    "In the above use case, we sorted an array using recursion\n",
    "\n",
    "However the part where we insert into a sorted array is written using loop\n",
    "\n",
    "Can we do that using recursion?\n",
    "\n",
    "### Insert in a sorted array using recursion\n",
    "\n",
    "__Base condition__:\n",
    "\n",
    "If arr is empty, `return [elem]`\n",
    "\n",
    "__Hypothesis__\n",
    "\n",
    "Assume we have a function `insert_elem_in_sorted_array_using_recursion(arr, elem) -> list`\n",
    "\n",
    "Say `arr = [0,1,10,13,15]` and `elem=4`\n",
    "\n",
    "`insert_elem_in_sorted_array_using_recursion([0,1,10,13,15], 4) = [0,1,4,10,13,15]`\n",
    "\n",
    "Smaller input\n",
    "\n",
    "`insert_elem_in_sorted_array_using_recursion([0,1,10,13], 4) = [0,1,4,10,13]`\n",
    "\n",
    "Now we have to place 15 in `[0,1,4,10,13]` \n",
    "\n",
    "15>last elem -> place at end\n",
    "\n",
    "Now say elem = 17\n",
    "\n",
    "`insert_elem_in_sorted_array_using_recursion([0,1,10,13,15], 17) = [0,1,10,13,15, 17]`\n",
    "\n",
    "Smaller input\n",
    "\n",
    "`insert_elem_in_sorted_array_using_recursion([0,1,10,13], 17) = [0,1,10,13, 17]`\n",
    "\n",
    "Now we have to place 15 in `[0,1,10,13,17]` \n",
    "\n",
    "15<last elem -> place at 1 position before end"
   ]
  },
  {
   "cell_type": "code",
   "execution_count": null,
   "metadata": {},
   "outputs": [],
   "source": [
    "def insert_elem_in_sorted_array_using_recursion(arr: list, elem: int):\n",
    "\n",
    "    # base condition\n",
    "    if arr == []:\n",
    "        return [elem]\n",
    "\n",
    "    smaller_arr = arr[:-1]\n",
    "    last_elem = arr[-1]\n",
    "\n",
    "    smaller_arr_with_elem = insert_elem_in_array(smaller_arr, elem)\n",
    "\n",
    "    if last_elem > smaller_arr_with_elem[-1]:\n",
    "        smaller_arr_with_elem.append(last_elem)\n",
    "    else:\n",
    "        smaller_arr_with_elem.insert(len(smaller_arr_with_elem)-1, last_elem)\n",
    "\n",
    "    return smaller_arr_with_elem\n"
   ]
  },
  {
   "cell_type": "code",
   "execution_count": 61,
   "metadata": {},
   "outputs": [
    {
     "data": {
      "text/plain": [
       "[0, 1, 3, 10, 13, 15]"
      ]
     },
     "execution_count": 61,
     "metadata": {},
     "output_type": "execute_result"
    }
   ],
   "source": [
    "test_arr = [0,1,10,13,15]\n",
    "insert_elem_in_sorted_array_using_recursion(test_arr, 3)"
   ]
  },
  {
   "cell_type": "code",
   "execution_count": 62,
   "metadata": {},
   "outputs": [],
   "source": [
    "def sort_array_using_recursion(arr: list):\n",
    "\n",
    "    if len(arr) == 1:\n",
    "        return arr\n",
    "    \n",
    "    first_elem = arr[0]\n",
    "    sorted_arr_without_first_element = sort_array_using_recursion(arr[1:])\n",
    "\n",
    "    # logger.debug(f\"sorted_arr_without_first_element: {sorted_arr_without_first_element}\")\n",
    "    \n",
    "\n",
    "    # place first elem in correct position\n",
    "    \n",
    "    final_arr = insert_elem_in_sorted_array_using_recursion(sorted_arr_without_first_element, first_elem)\n",
    "    # logger.debug(f\"final_arr: {final_arr}\")\n",
    "\n",
    "    return final_arr\n"
   ]
  },
  {
   "cell_type": "code",
   "execution_count": 63,
   "metadata": {},
   "outputs": [
    {
     "data": {
      "text/plain": [
       "[0, 2, 4, 7, 9, 13, 20]"
      ]
     },
     "execution_count": 63,
     "metadata": {},
     "output_type": "execute_result"
    }
   ],
   "source": [
    "x = [7, 20, 9, 4, 13, 2, 0]\n",
    "\n",
    "sort_array_using_recursion(x)"
   ]
  },
  {
   "cell_type": "code",
   "execution_count": 64,
   "metadata": {},
   "outputs": [
    {
     "name": "stdout",
     "output_type": "stream",
     "text": [
      "0\n",
      "[7, 20, 9, 4, 13, 2]\n"
     ]
    }
   ],
   "source": [
    "x = [7, 20, 9, 4, 13, 2, 0]\n",
    "\n",
    "print(x.pop())\n",
    "\n",
    "print (x)"
   ]
  },
  {
   "cell_type": "markdown",
   "metadata": {},
   "source": [
    "### Sort a Stack using Recursion\n",
    "\n",
    "Implementation will be same as array one\n",
    "\n",
    "---\n",
    "\n",
    "First lets implement a stack:"
   ]
  },
  {
   "cell_type": "code",
   "execution_count": 6,
   "metadata": {},
   "outputs": [],
   "source": [
    "from loguru import logger"
   ]
  },
  {
   "cell_type": "code",
   "execution_count": 1,
   "metadata": {},
   "outputs": [],
   "source": [
    "class Stack:\n",
    "\n",
    "    def __init__(self):\n",
    "        self.stack = []\n",
    "\n",
    "    def init_from_list(self, arr: list):\n",
    "        for elem in arr:\n",
    "            self.push(elem)\n",
    "\n",
    "    def __len__(self):\n",
    "        return len(self.stack)\n",
    "\n",
    "    def push(self, elem: int):\n",
    "        self.stack.append(elem)\n",
    "\n",
    "    def pop(self):\n",
    "        if self.stack:\n",
    "            return self.stack.pop()\n",
    "        return None\n",
    "    \n",
    "    def peek(self):\n",
    "        if self.stack:\n",
    "            return self.stack[-1]\n",
    "        return None\n",
    "    \n",
    "    def is_empty(self):\n",
    "        return self.stack\n",
    "    \n",
    "    def __repr__(self):\n",
    "        logger.info(\"emptying stack to print out all elems\")\n",
    "        while self.stack:\n",
    "            elem = self.stack.pop()\n",
    "            print (elem)\n",
    "        return \"\"\n"
   ]
  },
  {
   "cell_type": "code",
   "execution_count": 7,
   "metadata": {},
   "outputs": [],
   "source": [
    "stack = Stack()\n",
    "\n",
    "stack.push(1)\n",
    "stack.push(5)\n",
    "stack.push(7)\n",
    "stack.push(10)\n",
    "stack.push(13)"
   ]
  },
  {
   "cell_type": "code",
   "execution_count": 8,
   "metadata": {},
   "outputs": [
    {
     "data": {
      "text/plain": [
       "5"
      ]
     },
     "execution_count": 8,
     "metadata": {},
     "output_type": "execute_result"
    }
   ],
   "source": [
    "len(stack)"
   ]
  },
  {
   "cell_type": "code",
   "execution_count": 9,
   "metadata": {},
   "outputs": [
    {
     "name": "stderr",
     "output_type": "stream",
     "text": [
      "\u001b[32m2025-03-01 13:42:33.788\u001b[0m | \u001b[1mINFO    \u001b[0m | \u001b[36m__main__\u001b[0m:\u001b[36m__repr__\u001b[0m:\u001b[36m30\u001b[0m - \u001b[1memptying stack to print out all elems\u001b[0m\n"
     ]
    },
    {
     "name": "stdout",
     "output_type": "stream",
     "text": [
      "13\n",
      "10\n",
      "7\n",
      "5\n",
      "1\n",
      "\n"
     ]
    }
   ],
   "source": [
    "print (stack)"
   ]
  },
  {
   "cell_type": "code",
   "execution_count": 152,
   "metadata": {},
   "outputs": [],
   "source": [
    "stack = Stack()\n",
    "\n",
    "stack.push(1)\n",
    "stack.push(5)\n",
    "stack.push(7)\n",
    "stack.push(10)\n",
    "stack.push(13)"
   ]
  },
  {
   "cell_type": "markdown",
   "metadata": {},
   "source": [
    "### Insert an elem into a sorted stack using Recursion"
   ]
  },
  {
   "cell_type": "code",
   "execution_count": 153,
   "metadata": {},
   "outputs": [],
   "source": [
    "def insert_elem_in_sorted_stack_using_recursion(stack: Stack, elem: int) -> Stack:\n",
    "\n",
    "    if not stack:\n",
    "        stack.push(elem)\n",
    "        return stack\n",
    "    \n",
    "    last_elem = stack.pop()\n",
    "\n",
    "    smaller_stack_with_elem = insert_elem_in_sorted_stack_using_recursion(stack, elem)\n",
    "\n",
    "    if last_elem >= smaller_stack_with_elem.peek():\n",
    "        smaller_stack_with_elem.push(last_elem)\n",
    "\n",
    "    else:\n",
    "        curr_last_elem = smaller_stack_with_elem.pop()\n",
    "        smaller_stack_with_elem.push(last_elem)\n",
    "        smaller_stack_with_elem.push(curr_last_elem)\n",
    "\n",
    "    return smaller_stack_with_elem"
   ]
  },
  {
   "cell_type": "code",
   "execution_count": 154,
   "metadata": {},
   "outputs": [],
   "source": [
    "# stack = insert_elem_in_sorted_stack_using_recursion(stack, 3)\n",
    "\n",
    "stack = insert_elem_in_sorted_stack_using_recursion(stack, 30)"
   ]
  },
  {
   "cell_type": "code",
   "execution_count": 155,
   "metadata": {},
   "outputs": [
    {
     "name": "stderr",
     "output_type": "stream",
     "text": [
      "\u001b[32m2025-02-09 17:14:18.863\u001b[0m | \u001b[1mINFO    \u001b[0m | \u001b[36m__main__\u001b[0m:\u001b[36m__repr__\u001b[0m:\u001b[36m30\u001b[0m - \u001b[1memptying stack to print out all elems\u001b[0m\n"
     ]
    },
    {
     "name": "stdout",
     "output_type": "stream",
     "text": [
      "30\n",
      "13\n",
      "10\n",
      "7\n",
      "5\n",
      "1\n",
      "\n"
     ]
    }
   ],
   "source": [
    "print (stack)"
   ]
  },
  {
   "cell_type": "markdown",
   "metadata": {},
   "source": [
    "Now we can write the code to sort a stack using recursion"
   ]
  },
  {
   "cell_type": "code",
   "execution_count": 158,
   "metadata": {},
   "outputs": [],
   "source": [
    "def sort_stack_using_recursion(stack: Stack) -> Stack:\n",
    "\n",
    "    if len(stack) <= 1:\n",
    "        return stack\n",
    "    \n",
    "    last_elem = stack.pop()\n",
    "\n",
    "    sorted_sub_stack = sort_stack_using_recursion(stack)\n",
    "\n",
    "    final_stack = insert_elem_in_sorted_stack_using_recursion(sorted_sub_stack, last_elem)\n",
    "\n",
    "    return final_stack"
   ]
  },
  {
   "cell_type": "code",
   "execution_count": 159,
   "metadata": {},
   "outputs": [
    {
     "name": "stderr",
     "output_type": "stream",
     "text": [
      "\u001b[32m2025-02-09 17:14:52.972\u001b[0m | \u001b[1mINFO    \u001b[0m | \u001b[36m__main__\u001b[0m:\u001b[36m__repr__\u001b[0m:\u001b[36m30\u001b[0m - \u001b[1memptying stack to print out all elems\u001b[0m\n"
     ]
    },
    {
     "name": "stdout",
     "output_type": "stream",
     "text": [
      "3\n",
      "1\n",
      "7\n",
      "10\n",
      "5\n",
      "13\n",
      "\n"
     ]
    }
   ],
   "source": [
    "stack = Stack()\n",
    "\n",
    "stack.push(13)\n",
    "stack.push(5)\n",
    "stack.push(10)\n",
    "stack.push(7)\n",
    "stack.push(1)\n",
    "stack.push(3)\n",
    "\n",
    "print(stack)"
   ]
  },
  {
   "cell_type": "code",
   "execution_count": 160,
   "metadata": {},
   "outputs": [],
   "source": [
    "stack = Stack()\n",
    "\n",
    "stack.push(13)\n",
    "stack.push(5)\n",
    "stack.push(10)\n",
    "stack.push(7)\n",
    "stack.push(1)\n",
    "stack.push(3)"
   ]
  },
  {
   "cell_type": "code",
   "execution_count": 161,
   "metadata": {},
   "outputs": [],
   "source": [
    "sorted_stack = sort_stack_using_recursion(stack)"
   ]
  },
  {
   "cell_type": "code",
   "execution_count": 162,
   "metadata": {},
   "outputs": [
    {
     "name": "stderr",
     "output_type": "stream",
     "text": [
      "\u001b[32m2025-02-09 17:15:02.657\u001b[0m | \u001b[1mINFO    \u001b[0m | \u001b[36m__main__\u001b[0m:\u001b[36m__repr__\u001b[0m:\u001b[36m30\u001b[0m - \u001b[1memptying stack to print out all elems\u001b[0m\n"
     ]
    },
    {
     "name": "stdout",
     "output_type": "stream",
     "text": [
      "13\n",
      "10\n",
      "7\n",
      "5\n",
      "3\n",
      "1\n",
      "\n"
     ]
    }
   ],
   "source": [
    "print (sorted_stack)"
   ]
  },
  {
   "cell_type": "markdown",
   "metadata": {},
   "source": [
    "### Reverse a Stack"
   ]
  },
  {
   "cell_type": "markdown",
   "metadata": {},
   "source": [
    "__Hypothesis__\n",
    "\n",
    "We have a stack say `[1,2,3,4,5]` where 1 is the top elem\n",
    "\n",
    "Now lets assume we have a function `reverse_stack(stack) -> Stack`\n",
    "\n",
    "`reverse_stack([1,2,3,4,5]) = [5, 4, 3, 2, 1]`\n",
    "\n",
    "Samller input:\n",
    "\n",
    "remove top elem = 1\n",
    "\n",
    "`reverse_stack([2,3,4,5]) = [5,4,3,2]`\n",
    "\n",
    "Now we need to place 1 at the bottom of stack\n",
    "\n",
    "__Induction__\n",
    "\n",
    "Call reverse_stack on samller stack (except top elem) -> smaller stack\n",
    "\n",
    "Place top elem at the bottom of the smaller stack\n",
    "\n",
    "\n",
    "__Base Condition__\n",
    "\n",
    "`if len(stack) <= 1: return stack`\n",
    "\n",
    "\n",
    "### Place  elem at the bottom of stack\n",
    "\n",
    "We can also do this using recursion\n",
    "\n",
    "Say stack = `2,3,4,5` where 5 is top elem, we need to place elem=1 at bottom of this stack\n",
    "\n",
    "\n",
    "Now lets assume we have a function `place_elem_at_bottom(stack, elem) -> Stack`\n",
    "\n",
    "Samller input:\n",
    "\n",
    "Remove top_elem = 5\n",
    "\n",
    "`place_elem_at_bottom([2,3,4], 1) -> [1,2,3,4]`\n",
    "\n",
    "Now we simply push the top_elem on this stack\n",
    "\n",
    "\n",
    "__Induction__\n",
    "\n",
    "Call `place_elem_at_bottom` on samller stack (except top elem) -> smaller stack\n",
    "\n",
    "Push top elem on top of stack\n",
    "\n",
    "\n",
    "__Base Condition__\n",
    "\n",
    "If stack is empty push elem directly\n",
    "\n"
   ]
  },
  {
   "cell_type": "code",
   "execution_count": 2,
   "metadata": {},
   "outputs": [],
   "source": [
    "stack = Stack()\n",
    "\n",
    "stack.push(2)\n",
    "stack.push(3)\n",
    "stack.push(4)\n",
    "stack.push(5)"
   ]
  },
  {
   "cell_type": "code",
   "execution_count": 3,
   "metadata": {},
   "outputs": [],
   "source": [
    "def place_elem_at_bottom_of_stack_recursion(stack: Stack, elem: int) -> Stack:\n",
    "    if len(stack) == 0:\n",
    "        stack.push(elem)\n",
    "        return stack\n",
    "    \n",
    "    top_elem = stack.pop()\n",
    "\n",
    "    smaller_input_stack = place_elem_at_bottom_of_stack_recursion(stack, elem)\n",
    "\n",
    "    smaller_input_stack.push(top_elem)\n",
    "\n",
    "    return smaller_input_stack"
   ]
  },
  {
   "cell_type": "code",
   "execution_count": 4,
   "metadata": {},
   "outputs": [],
   "source": [
    "stack = place_elem_at_bottom_of_stack_recursion(stack, 1)"
   ]
  },
  {
   "cell_type": "code",
   "execution_count": 7,
   "metadata": {},
   "outputs": [
    {
     "name": "stderr",
     "output_type": "stream",
     "text": [
      "\u001b[32m2025-03-02 11:07:53.722\u001b[0m | \u001b[1mINFO    \u001b[0m | \u001b[36m__main__\u001b[0m:\u001b[36m__repr__\u001b[0m:\u001b[36m30\u001b[0m - \u001b[1memptying stack to print out all elems\u001b[0m\n"
     ]
    },
    {
     "name": "stdout",
     "output_type": "stream",
     "text": [
      "5\n",
      "4\n",
      "3\n",
      "2\n",
      "1\n",
      "\n"
     ]
    }
   ],
   "source": [
    "print(stack)"
   ]
  },
  {
   "cell_type": "code",
   "execution_count": 13,
   "metadata": {},
   "outputs": [],
   "source": [
    "stack = Stack()\n",
    "\n",
    "stack.push(1)\n",
    "stack.push(2)\n",
    "stack.push(3)\n",
    "stack.push(4)\n",
    "stack.push(5)"
   ]
  },
  {
   "cell_type": "code",
   "execution_count": 14,
   "metadata": {},
   "outputs": [],
   "source": [
    "def reverse_stack_using_recursion(stack: Stack) -> Stack:\n",
    "\n",
    "    if len(stack) <= 1:\n",
    "        return stack\n",
    "    \n",
    "    top_elem = stack.pop()\n",
    "    reversed_smaller_stack = reverse_stack_using_recursion(stack)\n",
    "    stack = place_elem_at_bottom_of_stack_recursion(reversed_smaller_stack, top_elem)\n",
    "\n",
    "    return stack"
   ]
  },
  {
   "cell_type": "code",
   "execution_count": 15,
   "metadata": {},
   "outputs": [
    {
     "name": "stderr",
     "output_type": "stream",
     "text": [
      "\u001b[32m2025-03-02 11:10:45.518\u001b[0m | \u001b[1mINFO    \u001b[0m | \u001b[36m__main__\u001b[0m:\u001b[36m__repr__\u001b[0m:\u001b[36m30\u001b[0m - \u001b[1memptying stack to print out all elems\u001b[0m\n"
     ]
    },
    {
     "name": "stdout",
     "output_type": "stream",
     "text": [
      "1\n",
      "2\n",
      "3\n",
      "4\n",
      "5\n",
      "\n"
     ]
    }
   ],
   "source": [
    "stack = reverse_stack_using_recursion(stack)\n",
    "\n",
    "print (stack)"
   ]
  },
  {
   "cell_type": "markdown",
   "metadata": {},
   "source": [
    "###  K-th Symbol in Grammar\n",
    "\n",
    "> https://leetcode.com/problems/k-th-symbol-in-grammar/description/\n",
    "\n",
    "---\n",
    "\n",
    "One approach to thinking about this problem is trying to generate the symbols at Nth row and then simply extracting the kth symbol\n",
    "\n",
    "__Hypothesis__:\n",
    "\n",
    "`gen_row_values(n) -> str` - returns the string of values for nth row\n",
    "\n",
    "Smaller input:\n",
    "\n",
    "`gen_row_values(n-1) -> str`- returns the string of values for (n-1)th row\n",
    "\n",
    "__Induction:__ From (n-1)th row generate the nth row using a loop\n",
    "\n",
    "__Base condn__: `if n == 1: return \"0\"`"
   ]
  },
  {
   "cell_type": "code",
   "execution_count": 182,
   "metadata": {},
   "outputs": [],
   "source": [
    "def gen_row_values(n: int) -> str:\n",
    "\n",
    "    if n == 1:\n",
    "        return \"0\"\n",
    "    \n",
    "    logger.debug(f\"calling smaller input with n:={n-1}\")\n",
    "    smaller_input_gen_values = gen_row_values(n-1)\n",
    "\n",
    "    final_input = \"\"\n",
    "    for i in smaller_input_gen_values:\n",
    "        if i == \"0\":\n",
    "            final_input += \"01\"\n",
    "        elif i == \"1\":\n",
    "            final_input += \"10\"\n",
    "\n",
    "    return final_input"
   ]
  },
  {
   "cell_type": "code",
   "execution_count": 205,
   "metadata": {},
   "outputs": [
    {
     "name": "stderr",
     "output_type": "stream",
     "text": [
      "\u001b[32m2025-02-09 20:01:40.586\u001b[0m | \u001b[34m\u001b[1mDEBUG   \u001b[0m | \u001b[36m__main__\u001b[0m:\u001b[36mgen_row_values\u001b[0m:\u001b[36m6\u001b[0m - \u001b[34m\u001b[1mcalling smaller input with n:=3\u001b[0m\n",
      "\u001b[32m2025-02-09 20:01:40.590\u001b[0m | \u001b[34m\u001b[1mDEBUG   \u001b[0m | \u001b[36m__main__\u001b[0m:\u001b[36mgen_row_values\u001b[0m:\u001b[36m6\u001b[0m - \u001b[34m\u001b[1mcalling smaller input with n:=2\u001b[0m\n",
      "\u001b[32m2025-02-09 20:01:40.590\u001b[0m | \u001b[34m\u001b[1mDEBUG   \u001b[0m | \u001b[36m__main__\u001b[0m:\u001b[36mgen_row_values\u001b[0m:\u001b[36m6\u001b[0m - \u001b[34m\u001b[1mcalling smaller input with n:=1\u001b[0m\n"
     ]
    },
    {
     "data": {
      "text/plain": [
       "'01101001'"
      ]
     },
     "execution_count": 205,
     "metadata": {},
     "output_type": "execute_result"
    }
   ],
   "source": [
    "gen_row_values(4)"
   ]
  },
  {
   "cell_type": "code",
   "execution_count": 206,
   "metadata": {},
   "outputs": [
    {
     "name": "stderr",
     "output_type": "stream",
     "text": [
      "\u001b[32m2025-02-09 20:01:50.554\u001b[0m | \u001b[34m\u001b[1mDEBUG   \u001b[0m | \u001b[36m__main__\u001b[0m:\u001b[36mgen_row_values\u001b[0m:\u001b[36m6\u001b[0m - \u001b[34m\u001b[1mcalling smaller input with n:=9\u001b[0m\n",
      "\u001b[32m2025-02-09 20:01:50.557\u001b[0m | \u001b[34m\u001b[1mDEBUG   \u001b[0m | \u001b[36m__main__\u001b[0m:\u001b[36mgen_row_values\u001b[0m:\u001b[36m6\u001b[0m - \u001b[34m\u001b[1mcalling smaller input with n:=8\u001b[0m\n",
      "\u001b[32m2025-02-09 20:01:50.558\u001b[0m | \u001b[34m\u001b[1mDEBUG   \u001b[0m | \u001b[36m__main__\u001b[0m:\u001b[36mgen_row_values\u001b[0m:\u001b[36m6\u001b[0m - \u001b[34m\u001b[1mcalling smaller input with n:=7\u001b[0m\n",
      "\u001b[32m2025-02-09 20:01:50.559\u001b[0m | \u001b[34m\u001b[1mDEBUG   \u001b[0m | \u001b[36m__main__\u001b[0m:\u001b[36mgen_row_values\u001b[0m:\u001b[36m6\u001b[0m - \u001b[34m\u001b[1mcalling smaller input with n:=6\u001b[0m\n",
      "\u001b[32m2025-02-09 20:01:50.560\u001b[0m | \u001b[34m\u001b[1mDEBUG   \u001b[0m | \u001b[36m__main__\u001b[0m:\u001b[36mgen_row_values\u001b[0m:\u001b[36m6\u001b[0m - \u001b[34m\u001b[1mcalling smaller input with n:=5\u001b[0m\n",
      "\u001b[32m2025-02-09 20:01:50.561\u001b[0m | \u001b[34m\u001b[1mDEBUG   \u001b[0m | \u001b[36m__main__\u001b[0m:\u001b[36mgen_row_values\u001b[0m:\u001b[36m6\u001b[0m - \u001b[34m\u001b[1mcalling smaller input with n:=4\u001b[0m\n",
      "\u001b[32m2025-02-09 20:01:50.561\u001b[0m | \u001b[34m\u001b[1mDEBUG   \u001b[0m | \u001b[36m__main__\u001b[0m:\u001b[36mgen_row_values\u001b[0m:\u001b[36m6\u001b[0m - \u001b[34m\u001b[1mcalling smaller input with n:=3\u001b[0m\n",
      "\u001b[32m2025-02-09 20:01:50.562\u001b[0m | \u001b[34m\u001b[1mDEBUG   \u001b[0m | \u001b[36m__main__\u001b[0m:\u001b[36mgen_row_values\u001b[0m:\u001b[36m6\u001b[0m - \u001b[34m\u001b[1mcalling smaller input with n:=2\u001b[0m\n",
      "\u001b[32m2025-02-09 20:01:50.563\u001b[0m | \u001b[34m\u001b[1mDEBUG   \u001b[0m | \u001b[36m__main__\u001b[0m:\u001b[36mgen_row_values\u001b[0m:\u001b[36m6\u001b[0m - \u001b[34m\u001b[1mcalling smaller input with n:=1\u001b[0m\n"
     ]
    },
    {
     "data": {
      "text/plain": [
       "'01101001100101101001011001101001100101100110100101101001100101101001011001101001011010011001011001101001100101101001011001101001100101100110100101101001100101100110100110010110100101100110100101101001100101101001011001101001100101100110100101101001100101101001011001101001011010011001011001101001100101101001011001101001011010011001011010010110011010011001011001101001011010011001011001101001100101101001011001101001100101100110100101101001100101101001011001101001011010011001011001101001100101101001011001101001'"
      ]
     },
     "execution_count": 206,
     "metadata": {},
     "output_type": "execute_result"
    }
   ],
   "source": [
    "gen_row_values(10)"
   ]
  },
  {
   "cell_type": "markdown",
   "metadata": {},
   "source": [
    "This approach works, however, as we can see for n=10, the input string is very large, we will have to iterate over these to generate the string for n=11\n",
    "\n",
    "So time limit exceed error occurs\n",
    "\n",
    "\n",
    "Time Complexity\n",
    "- O(2^n), since the length of the row doubles at each step.\n",
    "- Not feasible for large n (e.g., n=30) due to exponential growth.\n",
    "\n",
    "### Better soln for K-th Symbol in Grammar\n",
    "\n",
    "NOTE: n is 1-indexed and k is 0 indexed in the explanation\n",
    "\n",
    "There are 2 inputs n and k : what if we can get answer without generating the string\n",
    "\n",
    "__Hypothesis__:\n",
    "\n",
    "Assume `solve(n, k) -> int` returns the kth index for nth row\n",
    "\n",
    "Smaller input: for n of course it can be n-1\n",
    "\n",
    "For k: what will be the smaller input?\n",
    "\n",
    "```\n",
    "Row 1:        0\n",
    "Row 2:        0 1\n",
    "Row 3:        0 1 1 0\n",
    "Row 4:        0 1 1 0 1 0 0 1\n",
    "```\n",
    "\n",
    "If u notice carefully for last row\n",
    "```\n",
    "k = 6, 7 is determined by k=3 of prev row\n",
    "k = 4, 5 is determined by k=2 of prev row\n",
    "k = 2, 3 is determined by k=1 of prev row\n",
    "k = 0, 1 is determined by k=0 of prev row\n",
    "```\n",
    "\n",
    "So to get k of current row, we need `k//2` of prev row\n",
    "\n",
    "So smaller input for k should be `k//2`\n",
    "\n",
    "`solve(n-1, k//2) -> int`: gives kth elem of (n-1)th row\n",
    "\n",
    "For example solve(3, 3) -> 0\n",
    "\n",
    "If we know this we can tell solve(4,6) will be 0 and solve(4,7) will be 1 \n",
    "\n",
    "__Base Condn__:\n",
    "\n",
    "`if n==1: return 0`\n",
    "\n"
   ]
  },
  {
   "cell_type": "markdown",
   "metadata": {},
   "source": [
    "> __Key takeaway__: __Chose smaller input wisely__: Till now we have made only 1 input smaller i.e n but we have control over all inputs, its up to us to decide how best to make each input smaller to solve the problem!"
   ]
  },
  {
   "cell_type": "code",
   "execution_count": 26,
   "metadata": {},
   "outputs": [],
   "source": [
    "def get_n_k_value(n: int, k: int):\n",
    "\n",
    "    if n==1:\n",
    "        return 0\n",
    "    \n",
    "    result_smaller_input = get_n_k_value(n-1, int(k/2))\n",
    "\n",
    "    if result_smaller_input == 0 and k%2 ==0:\n",
    "        return 0\n",
    "    elif result_smaller_input == 0 and k%2 ==1:\n",
    "        return 1\n",
    "    elif result_smaller_input == 1 and k%2 ==0:\n",
    "        return 1\n",
    "    else:\n",
    "        return 0\n",
    "    \n"
   ]
  },
  {
   "cell_type": "code",
   "execution_count": 208,
   "metadata": {},
   "outputs": [
    {
     "data": {
      "text/plain": [
       "1"
      ]
     },
     "execution_count": 208,
     "metadata": {},
     "output_type": "execute_result"
    }
   ],
   "source": [
    "get_n_k_value(4, 7)"
   ]
  },
  {
   "cell_type": "code",
   "execution_count": 27,
   "metadata": {},
   "outputs": [
    {
     "name": "stdout",
     "output_type": "stream",
     "text": [
      "0\n",
      "1\n",
      "1\n",
      "0\n",
      "1\n",
      "0\n",
      "0\n",
      "1\n"
     ]
    }
   ],
   "source": [
    "for k in range(8):\n",
    "    print(get_n_k_value(4, k))"
   ]
  },
  {
   "cell_type": "markdown",
   "metadata": {},
   "source": [
    "Another approach:\n",
    "\n",
    "```\n",
    "n=3: 0110\n",
    "n=4: 0110 1001\n",
    "\n",
    "First half of nth row: same as n-1: 2nd half: flipped as n-1\n",
    "\n",
    "So in nth row if k is in first half -> copy from n-1\n",
    "\n",
    "if 2nd half -> copy and then flip\n",
    "```"
   ]
  },
  {
   "cell_type": "code",
   "execution_count": 32,
   "metadata": {},
   "outputs": [],
   "source": [
    "def solve_TOH(s: str, d: str, h: str, n: int) -> None:\n",
    "\n",
    "    if n == 1:\n",
    "        print (f\"Move plate: {n} from {s} -> {d}\")\n",
    "        return\n",
    "    \n",
    "    solve_TOH(s, h, d, n-1)\n",
    "    print (f\"Move plate: {n} from {s} -> {d}\")\n",
    "    solve_TOH(h, d, s, n-1)\n"
   ]
  },
  {
   "cell_type": "code",
   "execution_count": 33,
   "metadata": {},
   "outputs": [],
   "source": [
    "def main_TOH(n: int):\n",
    "\n",
    "    solve_TOH(\"source\", \"destination\", \"helper\", n)"
   ]
  },
  {
   "cell_type": "code",
   "execution_count": 36,
   "metadata": {},
   "outputs": [
    {
     "name": "stdout",
     "output_type": "stream",
     "text": [
      "Move plate: 1 from source -> destination\n",
      "Move plate: 2 from source -> helper\n",
      "Move plate: 1 from destination -> helper\n",
      "Move plate: 3 from source -> destination\n",
      "Move plate: 1 from helper -> source\n",
      "Move plate: 2 from helper -> destination\n",
      "Move plate: 1 from source -> destination\n"
     ]
    }
   ],
   "source": [
    "main_TOH(3)"
   ]
  },
  {
   "cell_type": "markdown",
   "metadata": {},
   "source": [
    "## Input Output Method"
   ]
  },
  {
   "cell_type": "markdown",
   "metadata": {},
   "source": [
    "### Print Subsets of a string using Recursion"
   ]
  },
  {
   "cell_type": "markdown",
   "metadata": {},
   "source": [
    "![](https://imgur.com/QjSvTwp.png)"
   ]
  },
  {
   "cell_type": "code",
   "execution_count": null,
   "metadata": {},
   "outputs": [],
   "source": [
    "def print_subsets_using_recursion(ip: str, op: str) -> None:\n",
    "    # base condition: leaf node\n",
    "    if len(ip) == 0:\n",
    "        if op == \"\":\n",
    "            print (\"blank\")\n",
    "            return\n",
    "        print (op)\n",
    "        return\n",
    "    \n",
    "    # define level 1\n",
    "    op1, op2 = op, op\n",
    "    op2 = op2 + ip[0]\n",
    "    ip = ip[1:] # input getting smaller\n",
    "\n",
    "    # solve on smaller ip and intermediate ops of level 1\n",
    "    print_subsets_using_recursion(ip, op1)\n",
    "    print_subsets_using_recursion(ip, op2)"
   ]
  },
  {
   "cell_type": "code",
   "execution_count": 41,
   "metadata": {},
   "outputs": [
    {
     "name": "stdout",
     "output_type": "stream",
     "text": [
      "blank\n",
      "d\n",
      "c\n",
      "cd\n",
      "b\n",
      "bd\n",
      "bc\n",
      "bcd\n",
      "a\n",
      "ad\n",
      "ac\n",
      "acd\n",
      "ab\n",
      "abd\n",
      "abc\n",
      "abcd\n"
     ]
    }
   ],
   "source": [
    "print_subsets_using_recursion(\"abcd\", \"\")"
   ]
  },
  {
   "cell_type": "code",
   "execution_count": null,
   "metadata": {},
   "outputs": [],
   "source": []
  }
 ],
 "metadata": {
  "kernelspec": {
   "display_name": "shaunak-dev",
   "language": "python",
   "name": "python3"
  },
  "language_info": {
   "codemirror_mode": {
    "name": "ipython",
    "version": 3
   },
   "file_extension": ".py",
   "mimetype": "text/x-python",
   "name": "python",
   "nbconvert_exporter": "python",
   "pygments_lexer": "ipython3",
   "version": "3.12.4"
  }
 },
 "nbformat": 4,
 "nbformat_minor": 2
}
