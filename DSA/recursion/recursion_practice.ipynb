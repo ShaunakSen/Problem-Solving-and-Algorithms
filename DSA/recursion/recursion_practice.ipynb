{
 "cells": [
  {
   "cell_type": "markdown",
   "id": "a45dfcc4",
   "metadata": {},
   "source": [
    "### Sort a Stack using Recursion\n"
   ]
  },
  {
   "cell_type": "code",
   "execution_count": 2,
   "id": "324ff310",
   "metadata": {},
   "outputs": [],
   "source": [
    "from loguru import logger"
   ]
  },
  {
   "cell_type": "code",
   "execution_count": 30,
   "id": "221cae52",
   "metadata": {},
   "outputs": [],
   "source": [
    "class Stack:\n",
    "\n",
    "    def __init__(self):\n",
    "        self.stack = []\n",
    "\n",
    "    def init_from_list(self, arr: list):\n",
    "        for elem in arr:\n",
    "            self.push(elem)\n",
    "\n",
    "    def __len__(self):\n",
    "        return len(self.stack)\n",
    "\n",
    "    def push(self, elem: int):\n",
    "        self.stack.append(elem)\n",
    "\n",
    "    def pop(self):\n",
    "        if self.stack:\n",
    "            return self.stack.pop()\n",
    "        return None\n",
    "    \n",
    "    def peek(self):\n",
    "        if self.stack:\n",
    "            return self.stack[-1]\n",
    "        return None\n",
    "    \n",
    "    def is_empty(self):\n",
    "        return self.stack\n",
    "    \n",
    "    def __repr__(self):\n",
    "        # logger.info(\"emptying stack to print out all elems\")\n",
    "        # while self.stack:\n",
    "        #     elem = self.stack.pop()\n",
    "        #     print (elem)\n",
    "        # return \"\"\n",
    "\n",
    "        return str(self.stack)\n"
   ]
  },
  {
   "cell_type": "code",
   "execution_count": 4,
   "id": "fd4f345b",
   "metadata": {},
   "outputs": [
    {
     "data": {
      "text/plain": [
       "5"
      ]
     },
     "execution_count": 4,
     "metadata": {},
     "output_type": "execute_result"
    }
   ],
   "source": [
    "stack = Stack()\n",
    "\n",
    "stack.push(1)\n",
    "stack.push(5)\n",
    "stack.push(7)\n",
    "stack.push(10)\n",
    "stack.push(13)\n",
    "\n",
    "len(stack)"
   ]
  },
  {
   "cell_type": "code",
   "execution_count": 5,
   "id": "6b6a3836",
   "metadata": {},
   "outputs": [
    {
     "name": "stderr",
     "output_type": "stream",
     "text": [
      "\u001b[32m2025-04-24 11:27:21.184\u001b[0m | \u001b[1mINFO    \u001b[0m | \u001b[36m__main__\u001b[0m:\u001b[36m__repr__\u001b[0m:\u001b[36m30\u001b[0m - \u001b[1memptying stack to print out all elems\u001b[0m\n"
     ]
    },
    {
     "name": "stdout",
     "output_type": "stream",
     "text": [
      "13\n",
      "10\n",
      "7\n",
      "5\n",
      "1\n",
      "\n"
     ]
    }
   ],
   "source": [
    "print (stack)"
   ]
  },
  {
   "cell_type": "code",
   "execution_count": 33,
   "id": "eea54d4c",
   "metadata": {},
   "outputs": [],
   "source": [
    "def insert_elem_in_sorted_stack_iterative(s: Stack, elem: int) -> Stack:\n",
    "    \n",
    "    last_elem = s.pop()\n",
    "\n",
    "    if elem >= last_elem:\n",
    "        s.push(last_elem)\n",
    "        s.push(elem)\n",
    "    else:\n",
    "        s.push(elem)\n",
    "        s.push(last_elem)\n",
    "\n",
    "    print (f\"after inserting {elem} in stack: {s}\")\n",
    "    return s"
   ]
  },
  {
   "cell_type": "code",
   "execution_count": 36,
   "id": "a1729659",
   "metadata": {},
   "outputs": [],
   "source": [
    "stack = Stack()\n",
    "\n",
    "stack.push(1)\n",
    "stack.push(3)\n",
    "stack.push(5)\n",
    "stack.push(10)"
   ]
  },
  {
   "cell_type": "code",
   "execution_count": 37,
   "id": "03db7d87",
   "metadata": {},
   "outputs": [
    {
     "name": "stdout",
     "output_type": "stream",
     "text": [
      "after inserting 7 in stack: [1, 3, 5, 7, 10]\n"
     ]
    },
    {
     "data": {
      "text/plain": [
       "[1, 3, 5, 7, 10]"
      ]
     },
     "execution_count": 37,
     "metadata": {},
     "output_type": "execute_result"
    }
   ],
   "source": [
    "insert_elem_in_sorted_stack_iterative(stack, 7)"
   ]
  },
  {
   "cell_type": "code",
   "execution_count": 38,
   "id": "bf66d155",
   "metadata": {},
   "outputs": [],
   "source": [
    "def sort_stack_recursive_partial(s: Stack) -> Stack:\n",
    "\n",
    "    print (f\"Call for sort_stack_recursive_partial using stack: {s}\")\n",
    "    if len(s) <= 1:\n",
    "        return s\n",
    "    \n",
    "    last_elem = s.pop()\n",
    "    print (f\"last_elem: {last_elem}\")\n",
    "\n",
    "    sorted_substack = sort_stack_recursive_partial(s)\n",
    "\n",
    "    print (f\"Call for insert_elem_in_sorted_stack_iterative using stack: {sorted_substack}, elem: {last_elem}\")\n",
    "    sorted_substack = insert_elem_in_sorted_stack_iterative(sorted_substack, last_elem)\n",
    "    print (f\"Output of insert_elem_in_sorted_stack_iterative: {sorted_substack}\")\n",
    "\n",
    "    return sorted_substack"
   ]
  },
  {
   "cell_type": "code",
   "execution_count": 45,
   "id": "efeb7656",
   "metadata": {},
   "outputs": [],
   "source": [
    "stack = Stack()\n",
    "\n",
    "stack.push(3)\n",
    "stack.push(1)\n",
    "stack.push(7)\n",
    "stack.push(10)\n",
    "stack.push(5)\n",
    "stack.push(13)"
   ]
  },
  {
   "cell_type": "code",
   "execution_count": 46,
   "id": "ac2c52ac",
   "metadata": {},
   "outputs": [
    {
     "name": "stdout",
     "output_type": "stream",
     "text": [
      "Call for sort_stack_recursive_partial using stack: [3, 1, 7, 10, 5, 13]\n",
      "last_elem: 13\n",
      "Call for sort_stack_recursive_partial using stack: [3, 1, 7, 10, 5]\n",
      "last_elem: 5\n",
      "Call for sort_stack_recursive_partial using stack: [3, 1, 7, 10]\n",
      "last_elem: 10\n",
      "Call for sort_stack_recursive_partial using stack: [3, 1, 7]\n",
      "last_elem: 7\n",
      "Call for sort_stack_recursive_partial using stack: [3, 1]\n",
      "last_elem: 1\n",
      "Call for sort_stack_recursive_partial using stack: [3]\n",
      "Call for insert_elem_in_sorted_stack_iterative using stack: [3], elem: 1\n",
      "after inserting 1 in stack: [1, 3]\n",
      "Output of insert_elem_in_sorted_stack_iterative: [1, 3]\n",
      "Call for insert_elem_in_sorted_stack_iterative using stack: [1, 3], elem: 7\n",
      "after inserting 7 in stack: [1, 3, 7]\n",
      "Output of insert_elem_in_sorted_stack_iterative: [1, 3, 7]\n",
      "Call for insert_elem_in_sorted_stack_iterative using stack: [1, 3, 7], elem: 10\n",
      "after inserting 10 in stack: [1, 3, 7, 10]\n",
      "Output of insert_elem_in_sorted_stack_iterative: [1, 3, 7, 10]\n",
      "Call for insert_elem_in_sorted_stack_iterative using stack: [1, 3, 7, 10], elem: 5\n",
      "after inserting 5 in stack: [1, 3, 7, 5, 10]\n",
      "Output of insert_elem_in_sorted_stack_iterative: [1, 3, 7, 5, 10]\n",
      "Call for insert_elem_in_sorted_stack_iterative using stack: [1, 3, 7, 5, 10], elem: 13\n",
      "after inserting 13 in stack: [1, 3, 7, 5, 10, 13]\n",
      "Output of insert_elem_in_sorted_stack_iterative: [1, 3, 7, 5, 10, 13]\n",
      "[1, 3, 7, 5, 10, 13]\n"
     ]
    }
   ],
   "source": [
    "stack = sort_stack_recursive_partial(stack)\n",
    "\n",
    "print (stack)"
   ]
  },
  {
   "cell_type": "code",
   "execution_count": 51,
   "id": "21e71b62",
   "metadata": {},
   "outputs": [],
   "source": [
    "def insert_elem_in_sorted_stack_recursive(s: Stack, elem: int) -> Stack:\n",
    "    \n",
    "    if len(s) == 0:\n",
    "        s.push(elem)\n",
    "        return s\n",
    "\n",
    "    last_elem = s.pop()\n",
    "\n",
    "    s = insert_elem_in_sorted_stack_recursive(s, elem)\n",
    "\n",
    "    if last_elem >= elem:\n",
    "        s.push(last_elem)\n",
    "\n",
    "    else:\n",
    "        curr_last_elem = s.pop()\n",
    "        s.push(last_elem)\n",
    "        s.push(curr_last_elem)\n",
    "\n",
    "    return s\n",
    "    "
   ]
  },
  {
   "cell_type": "code",
   "execution_count": 53,
   "id": "c3a75976",
   "metadata": {},
   "outputs": [
    {
     "data": {
      "text/plain": [
       "[1, 3, 5, 10, 11]"
      ]
     },
     "execution_count": 53,
     "metadata": {},
     "output_type": "execute_result"
    }
   ],
   "source": [
    "stack = Stack()\n",
    "\n",
    "stack.push(1)\n",
    "stack.push(3)\n",
    "stack.push(5)\n",
    "stack.push(10)\n",
    "\n",
    "# insert_elem_in_sorted_stack_recursive(stack, 8)\n",
    "insert_elem_in_sorted_stack_recursive(stack, 11)"
   ]
  },
  {
   "cell_type": "code",
   "execution_count": 54,
   "id": "5d3dc1de",
   "metadata": {},
   "outputs": [],
   "source": [
    "def sort_stack_recursive(s: Stack) -> Stack:\n",
    "\n",
    "    if len(s) <= 1:\n",
    "        return s\n",
    "    \n",
    "    last_elem = s.pop()\n",
    "    sorted_substack = sort_stack_recursive(s)\n",
    "\n",
    "    sorted_substack = insert_elem_in_sorted_stack_recursive(sorted_substack, last_elem)\n",
    "    return sorted_substack"
   ]
  },
  {
   "cell_type": "code",
   "execution_count": 55,
   "id": "bb8f0fc1",
   "metadata": {},
   "outputs": [
    {
     "name": "stdout",
     "output_type": "stream",
     "text": [
      "[1, 3, 5, 7, 10, 13]\n"
     ]
    }
   ],
   "source": [
    "stack = Stack()\n",
    "\n",
    "stack.push(3)\n",
    "stack.push(1)\n",
    "stack.push(7)\n",
    "stack.push(10)\n",
    "stack.push(5)\n",
    "stack.push(13)\n",
    "\n",
    "stack = sort_stack_recursive(stack)\n",
    "\n",
    "print (stack)"
   ]
  },
  {
   "cell_type": "markdown",
   "id": "148d0483",
   "metadata": {},
   "source": [
    "### Reverse a stack"
   ]
  },
  {
   "cell_type": "code",
   "execution_count": 56,
   "id": "c064afe9",
   "metadata": {},
   "outputs": [],
   "source": [
    "def insert_elem_in_beginning(s: Stack, elem: int) -> Stack:\n",
    "\n",
    "    if len(s) == 0:\n",
    "        s.push(elem)\n",
    "        return s\n",
    "    \n",
    "    top_elem = s.pop()\n",
    "    \n",
    "    substack = insert_elem_in_beginning(s, elem)\n",
    "    substack.push(top_elem)\n",
    "\n",
    "    return substack"
   ]
  },
  {
   "cell_type": "code",
   "execution_count": 57,
   "id": "1078696b",
   "metadata": {},
   "outputs": [
    {
     "data": {
      "text/plain": [
       "[0, 3, 1, 7, 10, 5, 13]"
      ]
     },
     "execution_count": 57,
     "metadata": {},
     "output_type": "execute_result"
    }
   ],
   "source": [
    "stack = Stack()\n",
    "\n",
    "stack.push(3)\n",
    "stack.push(1)\n",
    "stack.push(7)\n",
    "stack.push(10)\n",
    "stack.push(5)\n",
    "stack.push(13)\n",
    "\n",
    "stack = insert_elem_in_beginning(stack, 0)\n",
    "\n",
    "stack"
   ]
  },
  {
   "cell_type": "code",
   "execution_count": 58,
   "id": "899e9b8d",
   "metadata": {},
   "outputs": [],
   "source": [
    "def reverse_stack(s: Stack) -> Stack:\n",
    "\n",
    "    if len(s) <= 1:\n",
    "        return s\n",
    "\n",
    "    top_elem = s.pop()\n",
    "\n",
    "    reversed_substack = reverse_stack(s)\n",
    "\n",
    "    reversed_substack = insert_elem_in_beginning(s, top_elem)\n",
    "\n",
    "    return reversed_substack"
   ]
  },
  {
   "cell_type": "code",
   "execution_count": 59,
   "id": "16d0e32f",
   "metadata": {},
   "outputs": [
    {
     "name": "stdout",
     "output_type": "stream",
     "text": [
      "[13, 5, 10, 7, 1, 3]\n"
     ]
    }
   ],
   "source": [
    "stack = Stack()\n",
    "\n",
    "stack.push(3)\n",
    "stack.push(1)\n",
    "stack.push(7)\n",
    "stack.push(10)\n",
    "stack.push(5)\n",
    "stack.push(13)\n",
    "\n",
    "stack = reverse_stack(stack)\n",
    "\n",
    "print (stack)"
   ]
  },
  {
   "cell_type": "code",
   "execution_count": null,
   "id": "b65e45f7",
   "metadata": {},
   "outputs": [],
   "source": []
  }
 ],
 "metadata": {
  "kernelspec": {
   "display_name": "shaunak-dev",
   "language": "python",
   "name": "python3"
  },
  "language_info": {
   "codemirror_mode": {
    "name": "ipython",
    "version": 3
   },
   "file_extension": ".py",
   "mimetype": "text/x-python",
   "name": "python",
   "nbconvert_exporter": "python",
   "pygments_lexer": "ipython3",
   "version": "3.12.4"
  }
 },
 "nbformat": 4,
 "nbformat_minor": 5
}
