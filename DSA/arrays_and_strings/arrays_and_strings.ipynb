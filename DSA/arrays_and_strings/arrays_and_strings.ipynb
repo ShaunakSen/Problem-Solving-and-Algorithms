{
 "cells": [
  {
   "cell_type": "markdown",
   "metadata": {},
   "source": [
    "## Two Pointer Approach\n",
    "\n",
    "When to use this?\n",
    "\n",
    "Yes, if all of these conditions are fulfilled:\n",
    "\n",
    "- Linear data structure: The input data can be traversed in a linear fashion, such as an array, linked list, or string.\n",
    "\n",
    "- Process pairs: Process data elements at two different positions simultaneously.\n",
    "\n",
    "- Dynamic pointer movement: Both pointers move independently of each other according to certain conditions or criteria. In addition, both pointers might move along the same or two different data structures."
   ]
  },
  {
   "cell_type": "markdown",
   "metadata": {},
   "source": [
    "### Reversing an array: Given an array of integers, reverse it in place.\n"
   ]
  },
  {
   "cell_type": "code",
   "execution_count": 2,
   "metadata": {},
   "outputs": [
    {
     "name": "stdout",
     "output_type": "stream",
     "text": [
      "[1, 2, 3, 4, 5]\n"
     ]
    }
   ],
   "source": [
    "def reverse_in_place(arr: list) -> None:\n",
    "\n",
    "    i,j = 0, len(arr) - 1\n",
    "\n",
    "    while i <= j:\n",
    "        arr[i], arr[j] = arr[j], arr[i]\n",
    "        i += 1\n",
    "        j -= 1\n",
    "\n",
    "    return\n",
    "\n",
    "test_arr = [5,4,3,2,1]\n",
    "\n",
    "reverse_in_place(test_arr)\n",
    "\n",
    "print (test_arr)"
   ]
  },
  {
   "cell_type": "code",
   "execution_count": null,
   "metadata": {},
   "outputs": [],
   "source": []
  },
  {
   "cell_type": "markdown",
   "metadata": {},
   "source": [
    "### 3Ssum\n",
    "\n",
    "- https://leetcode.com/problems/3sum/\n",
    "- https://www.youtube.com/watch?v=jzZsG8n2R9A\n",
    "\n",
    "NOTE: solve 2sum an sorted 2sum before this\n",
    "\n",
    "---"
   ]
  },
  {
   "cell_type": "code",
   "execution_count": 4,
   "metadata": {},
   "outputs": [],
   "source": [
    "from typing import List\n",
    "from loguru import logger\n",
    "import numpy as np"
   ]
  },
  {
   "cell_type": "code",
   "execution_count": 41,
   "metadata": {},
   "outputs": [
    {
     "data": {
      "text/plain": [
       "{(1, 2)}"
      ]
     },
     "execution_count": 41,
     "metadata": {},
     "output_type": "execute_result"
    }
   ],
   "source": [
    "set(((1,2), (1,2)))"
   ]
  },
  {
   "cell_type": "code",
   "execution_count": 45,
   "metadata": {},
   "outputs": [
    {
     "data": {
      "text/plain": [
       "array([[1, 2],\n",
       "       [1, 2]])"
      ]
     },
     "execution_count": 45,
     "metadata": {},
     "output_type": "execute_result"
    }
   ],
   "source": [
    "soln = [[1,2], [1,2]]\n",
    "\n",
    "np.array(soln)"
   ]
  },
  {
   "cell_type": "code",
   "execution_count": 51,
   "metadata": {},
   "outputs": [
    {
     "data": {
      "text/plain": [
       "[[1, 2]]"
      ]
     },
     "execution_count": 51,
     "metadata": {},
     "output_type": "execute_result"
    }
   ],
   "source": [
    "np.unique(soln, axis=0).tolist()"
   ]
  },
  {
   "cell_type": "code",
   "execution_count": 52,
   "metadata": {},
   "outputs": [],
   "source": [
    "def twoSum(nums: List[int], target: int, left: int, right: int) -> list:\n",
    "    solutions = []\n",
    "    \n",
    "    while left < right:\n",
    "        # logger.debug(f\"{left, right}\")\n",
    "        \n",
    "        # check current sum\n",
    "        current_sum = nums[left] + nums[right]\n",
    "\n",
    "        if current_sum == target:\n",
    "            solutions.append([nums[left], nums[right]])\n",
    "            left += 1\n",
    "            right -= 1\n",
    "\n",
    "        # if too low, we need to increment left pointer\n",
    "        elif current_sum < target:\n",
    "            left += 1\n",
    "        # if too high, we need to decrement right pointer\n",
    "        else:\n",
    "            right -= 1\n",
    "        # logger.debug(f\"{left, right}\")\n",
    "\n",
    "    return solutions\n",
    "\n",
    "def threeSum(nums: List[int]) -> List[List[int]]:\n",
    "\n",
    "    all_results = []\n",
    "\n",
    "    nums = sorted(nums)\n",
    "    logger.debug(nums)\n",
    "\n",
    "    for idx, first_num in enumerate(nums):\n",
    "\n",
    "\n",
    "        if idx > 0 and nums[idx-1] == first_num:\n",
    "            continue\n",
    "\n",
    "        required_two_sum = -first_num\n",
    "\n",
    "        two_sum_result = twoSum(nums, required_two_sum, idx+1, len(nums)-1)\n",
    "\n",
    "        logger.debug(f\"two_sum_result after selectiong {first_num}: {two_sum_result}\")\n",
    "\n",
    "        if two_sum_result:\n",
    "            for sol_ in two_sum_result:\n",
    "                sol_.insert(0, first_num)\n",
    "                all_results.append(sol_)\n",
    "\n",
    "        all_results = np.unique(all_results, axis=0).tolist()\n",
    "\n",
    "    return all_results"
   ]
  },
  {
   "cell_type": "code",
   "execution_count": 39,
   "metadata": {},
   "outputs": [
    {
     "data": {
      "text/plain": [
       "[[2, -1]]"
      ]
     },
     "execution_count": 39,
     "metadata": {},
     "output_type": "execute_result"
    }
   ],
   "source": [
    "twoSum(\n",
    "    [-1, 0, 1, 2], 1, 0\n",
    ")"
   ]
  },
  {
   "cell_type": "code",
   "execution_count": 34,
   "metadata": {},
   "outputs": [
    {
     "name": "stderr",
     "output_type": "stream",
     "text": [
      "\u001b[32m2024-05-25 13:01:32.434\u001b[0m | \u001b[34m\u001b[1mDEBUG   \u001b[0m | \u001b[36m__main__\u001b[0m:\u001b[36mthreeSum\u001b[0m:\u001b[36m30\u001b[0m - \u001b[34m\u001b[1m[-4, -1, -1, 0, 1, 2]\u001b[0m\n",
      "\u001b[32m2024-05-25 13:01:32.435\u001b[0m | \u001b[34m\u001b[1mDEBUG   \u001b[0m | \u001b[36m__main__\u001b[0m:\u001b[36mthreeSum\u001b[0m:\u001b[36m42\u001b[0m - \u001b[34m\u001b[1mtwo_sum_result after selectiong -4: []\u001b[0m\n",
      "\u001b[32m2024-05-25 13:01:32.436\u001b[0m | \u001b[34m\u001b[1mDEBUG   \u001b[0m | \u001b[36m__main__\u001b[0m:\u001b[36mthreeSum\u001b[0m:\u001b[36m42\u001b[0m - \u001b[34m\u001b[1mtwo_sum_result after selectiong -1: [[-1, 2], [0, 1]]\u001b[0m\n",
      "\u001b[32m2024-05-25 13:01:32.437\u001b[0m | \u001b[34m\u001b[1mDEBUG   \u001b[0m | \u001b[36m__main__\u001b[0m:\u001b[36mthreeSum\u001b[0m:\u001b[36m42\u001b[0m - \u001b[34m\u001b[1mtwo_sum_result after selectiong 0: []\u001b[0m\n",
      "\u001b[32m2024-05-25 13:01:32.437\u001b[0m | \u001b[34m\u001b[1mDEBUG   \u001b[0m | \u001b[36m__main__\u001b[0m:\u001b[36mthreeSum\u001b[0m:\u001b[36m42\u001b[0m - \u001b[34m\u001b[1mtwo_sum_result after selectiong 1: []\u001b[0m\n",
      "\u001b[32m2024-05-25 13:01:32.438\u001b[0m | \u001b[34m\u001b[1mDEBUG   \u001b[0m | \u001b[36m__main__\u001b[0m:\u001b[36mthreeSum\u001b[0m:\u001b[36m42\u001b[0m - \u001b[34m\u001b[1mtwo_sum_result after selectiong 2: []\u001b[0m\n"
     ]
    },
    {
     "data": {
      "text/plain": [
       "[[-1, -1, 2], [-1, 0, 1]]"
      ]
     },
     "execution_count": 34,
     "metadata": {},
     "output_type": "execute_result"
    }
   ],
   "source": [
    "nums = [-1,0,1,2,-1,-4]\n",
    "threeSum(nums)"
   ]
  },
  {
   "cell_type": "code",
   "execution_count": 53,
   "metadata": {},
   "outputs": [
    {
     "name": "stderr",
     "output_type": "stream",
     "text": [
      "\u001b[32m2024-05-25 13:14:23.422\u001b[0m | \u001b[34m\u001b[1mDEBUG   \u001b[0m | \u001b[36m__main__\u001b[0m:\u001b[36mthreeSum\u001b[0m:\u001b[36m30\u001b[0m - \u001b[34m\u001b[1m[-2, 0, 0, 2, 2]\u001b[0m\n",
      "\u001b[32m2024-05-25 13:14:23.423\u001b[0m | \u001b[34m\u001b[1mDEBUG   \u001b[0m | \u001b[36m__main__\u001b[0m:\u001b[36mthreeSum\u001b[0m:\u001b[36m42\u001b[0m - \u001b[34m\u001b[1mtwo_sum_result after selectiong -2: [[0, 2], [0, 2]]\u001b[0m\n",
      "\u001b[32m2024-05-25 13:14:23.425\u001b[0m | \u001b[34m\u001b[1mDEBUG   \u001b[0m | \u001b[36m__main__\u001b[0m:\u001b[36mthreeSum\u001b[0m:\u001b[36m42\u001b[0m - \u001b[34m\u001b[1mtwo_sum_result after selectiong 0: []\u001b[0m\n",
      "\u001b[32m2024-05-25 13:14:23.426\u001b[0m | \u001b[34m\u001b[1mDEBUG   \u001b[0m | \u001b[36m__main__\u001b[0m:\u001b[36mthreeSum\u001b[0m:\u001b[36m42\u001b[0m - \u001b[34m\u001b[1mtwo_sum_result after selectiong 2: []\u001b[0m\n"
     ]
    },
    {
     "data": {
      "text/plain": [
       "[[-2, 0, 2]]"
      ]
     },
     "execution_count": 53,
     "metadata": {},
     "output_type": "execute_result"
    }
   ],
   "source": [
    "nums = [-2,0,0,2,2]\n",
    "\n",
    "\n",
    "\n",
    "threeSum(nums)"
   ]
  },
  {
   "cell_type": "code",
   "execution_count": 7,
   "metadata": {},
   "outputs": [
    {
     "data": {
      "text/plain": [
       "[[-1, 2], [0, 1]]"
      ]
     },
     "execution_count": 7,
     "metadata": {},
     "output_type": "execute_result"
    }
   ],
   "source": [
    "twoSum(\n",
    "    [-1, 0, 1, 2, 4], 1, 0, 4\n",
    ")"
   ]
  },
  {
   "cell_type": "markdown",
   "metadata": {},
   "source": [
    "### Remove nth Node from End of List\n"
   ]
  },
  {
   "cell_type": "code",
   "execution_count": 93,
   "metadata": {},
   "outputs": [],
   "source": [
    "class LinkedListNode:\n",
    "\n",
    "    def __init__(self, data, next=None) -> None:\n",
    "        self.data = data\n",
    "        self.next = next\n",
    "\n",
    "    def __str__(self) -> str:\n",
    "        return f\"{self.data}\""
   ]
  },
  {
   "cell_type": "code",
   "execution_count": 113,
   "metadata": {},
   "outputs": [],
   "source": [
    "class LinkedList:\n",
    "\n",
    "    def __init__(self) -> None:\n",
    "        self.head = None\n",
    "\n",
    "    def insert_node_at_head(self, node: LinkedListNode) -> None:\n",
    "        if self.head:\n",
    "            node.next = self.head\n",
    "            self.head = node\n",
    "        else:\n",
    "            self.head = node\n",
    "\n",
    "    def init_linked_llist_from_array(self, arr: list) -> None:\n",
    "        \"\"\"\n",
    "        Initialize a new LL from an array\n",
    "        \"\"\"\n",
    "\n",
    "        logger.debug(f\"Initializing list from arr: {arr}\")\n",
    "        arr = reversed(arr)\n",
    "\n",
    "        for elem_ in arr:\n",
    "            elem_as_node = LinkedListNode(data=elem_, next=None)\n",
    "            self.insert_node_at_head(elem_as_node)\n",
    "\n",
    "        logger.success(f\"List created: {self}\")\n",
    "\n",
    "\n",
    "    def __str__(self) -> str:\n",
    "        result = []\n",
    "        curr_node = self.head\n",
    "\n",
    "        while curr_node:\n",
    "\n",
    "            result.append(str(curr_node.data))\n",
    "\n",
    "            curr_node = curr_node.next\n",
    "\n",
    "        return \" -> \".join(result)\n",
    "    \n",
    "    def __len__(self) -> int:\n",
    "        \n",
    "        if not self.head:\n",
    "            return 0\n",
    "        \n",
    "        LL_length = 0\n",
    "        curr_node = self.head\n",
    "        while curr_node:\n",
    "            LL_length += 1\n",
    "            curr_node = curr_node.next\n",
    "\n",
    "        return LL_length\n",
    "    \n",
    "    def remove_nth_last_node(self, n: int):\n",
    "\n",
    "        LL_length = len(self)\n",
    "\n",
    "        node_idx_from_start = LL_length - n \n",
    "\n",
    "        logger.info(f\"Trying to remove {n}th node from end | idx: {node_idx_from_start} node from start\")\n",
    "\n",
    "        if node_idx_from_start == 0:\n",
    "            temp = self.head\n",
    "            self.head = temp.next\n",
    "            del temp\n",
    "\n",
    "            return\n",
    "\n",
    "        curr_node = self.head\n",
    "        for _ in range(0, node_idx_from_start - 1):\n",
    "            curr_node = curr_node.next\n",
    "\n",
    "        logger.debug(f\"curr node: {curr_node}\")\n",
    "\n",
    "        prev_node = curr_node\n",
    "        curr_node = curr_node.next\n",
    "        prev_node.next = curr_node.next \n",
    "        del curr_node\n",
    "        return\n",
    "\n",
    "        "
   ]
  },
  {
   "cell_type": "code",
   "execution_count": 114,
   "metadata": {},
   "outputs": [],
   "source": [
    "arr = [5,9,0,3,2,1,7]\n",
    "linked_list = LinkedList()"
   ]
  },
  {
   "cell_type": "code",
   "execution_count": 115,
   "metadata": {},
   "outputs": [
    {
     "name": "stderr",
     "output_type": "stream",
     "text": [
      "\u001b[32m2024-05-25 22:10:34.371\u001b[0m | \u001b[34m\u001b[1mDEBUG   \u001b[0m | \u001b[36m__main__\u001b[0m:\u001b[36minit_linked_llist_from_array\u001b[0m:\u001b[36m18\u001b[0m - \u001b[34m\u001b[1mInitializing list from arr: [5, 9, 0, 3, 2, 1, 7]\u001b[0m\n",
      "\u001b[32m2024-05-25 22:10:34.372\u001b[0m | \u001b[32m\u001b[1mSUCCESS \u001b[0m | \u001b[36m__main__\u001b[0m:\u001b[36minit_linked_llist_from_array\u001b[0m:\u001b[36m25\u001b[0m - \u001b[32m\u001b[1mList created: 5 -> 9 -> 0 -> 3 -> 2 -> 1 -> 7\u001b[0m\n"
     ]
    }
   ],
   "source": [
    "linked_list.init_linked_llist_from_array(arr)"
   ]
  },
  {
   "cell_type": "code",
   "execution_count": 116,
   "metadata": {},
   "outputs": [
    {
     "name": "stdout",
     "output_type": "stream",
     "text": [
      "5 -> 9 -> 0 -> 3 -> 2 -> 1 -> 7\n"
     ]
    }
   ],
   "source": [
    "print(linked_list)"
   ]
  },
  {
   "cell_type": "code",
   "execution_count": 117,
   "metadata": {},
   "outputs": [
    {
     "name": "stderr",
     "output_type": "stream",
     "text": [
      "\u001b[32m2024-05-25 22:10:35.136\u001b[0m | \u001b[1mINFO    \u001b[0m | \u001b[36m__main__\u001b[0m:\u001b[36mremove_nth_last_node\u001b[0m:\u001b[36m59\u001b[0m - \u001b[1mTrying to remove 2th node from end | idx: 5 node from start\u001b[0m\n",
      "\u001b[32m2024-05-25 22:10:35.137\u001b[0m | \u001b[34m\u001b[1mDEBUG   \u001b[0m | \u001b[36m__main__\u001b[0m:\u001b[36mremove_nth_last_node\u001b[0m:\u001b[36m70\u001b[0m - \u001b[34m\u001b[1mcurr node: 2\u001b[0m\n"
     ]
    }
   ],
   "source": [
    "linked_list.remove_nth_last_node(2)"
   ]
  },
  {
   "cell_type": "code",
   "execution_count": 118,
   "metadata": {},
   "outputs": [
    {
     "name": "stdout",
     "output_type": "stream",
     "text": [
      "5 -> 9 -> 0 -> 3 -> 2 -> 7\n"
     ]
    }
   ],
   "source": [
    "print(linked_list)"
   ]
  },
  {
   "cell_type": "code",
   "execution_count": 119,
   "metadata": {},
   "outputs": [
    {
     "name": "stderr",
     "output_type": "stream",
     "text": [
      "\u001b[32m2024-05-25 22:10:36.350\u001b[0m | \u001b[34m\u001b[1mDEBUG   \u001b[0m | \u001b[36m__main__\u001b[0m:\u001b[36minit_linked_llist_from_array\u001b[0m:\u001b[36m18\u001b[0m - \u001b[34m\u001b[1mInitializing list from arr: [5, 9, 0, 3, 2, 1, 7]\u001b[0m\n",
      "\u001b[32m2024-05-25 22:10:36.352\u001b[0m | \u001b[32m\u001b[1mSUCCESS \u001b[0m | \u001b[36m__main__\u001b[0m:\u001b[36minit_linked_llist_from_array\u001b[0m:\u001b[36m25\u001b[0m - \u001b[32m\u001b[1mList created: 5 -> 9 -> 0 -> 3 -> 2 -> 1 -> 7\u001b[0m\n",
      "\u001b[32m2024-05-25 22:10:36.352\u001b[0m | \u001b[1mINFO    \u001b[0m | \u001b[36m__main__\u001b[0m:\u001b[36mremove_nth_last_node\u001b[0m:\u001b[36m59\u001b[0m - \u001b[1mTrying to remove 7th node from end | idx: 0 node from start\u001b[0m\n",
      "\u001b[32m2024-05-25 22:10:36.353\u001b[0m | \u001b[34m\u001b[1mDEBUG   \u001b[0m | \u001b[36m__main__\u001b[0m:\u001b[36mremove_nth_last_node\u001b[0m:\u001b[36m70\u001b[0m - \u001b[34m\u001b[1mcurr node: 9\u001b[0m\n"
     ]
    },
    {
     "name": "stdout",
     "output_type": "stream",
     "text": [
      "9 -> 3 -> 2 -> 1 -> 7\n"
     ]
    }
   ],
   "source": [
    "linked_list = LinkedList()\n",
    "linked_list.init_linked_llist_from_array(arr)\n",
    "linked_list.remove_nth_last_node(7)\n",
    "print(linked_list)"
   ]
  },
  {
   "cell_type": "markdown",
   "metadata": {},
   "source": [
    "### Sort colors\n",
    "\n",
    "> https://leetcode.com/problems/sort-colors/\n",
    "\n",
    "---"
   ]
  },
  {
   "cell_type": "code",
   "execution_count": 137,
   "metadata": {},
   "outputs": [],
   "source": [
    "def sortColors(nums: List[int]) -> None:\n",
    "    count_0, count_1, count_2 = 0,0,0\n",
    "\n",
    "    for num_ in nums:\n",
    "        if num_ == 0:\n",
    "            count_0 += 1\n",
    "        elif num_ == 1:\n",
    "            count_1 += 1\n",
    "        else:\n",
    "            count_2 += 1\n",
    "\n",
    "    logger.debug((count_0, count_1, count_2))\n",
    "    for i in range(count_0):\n",
    "        nums[i] = 0\n",
    "\n",
    "    if count_0 == 0:\n",
    "        start_1 = 0\n",
    "    else:\n",
    "        start_1 = count_0\n",
    "\n",
    "    logger.debug(f\"start_1: {start_1}\")\n",
    "    for j in range(start_1, start_1+count_1):\n",
    "        nums[j]=1\n",
    "\n",
    "    if count_1 == 0:\n",
    "        start_2 = start_1\n",
    "    else:\n",
    "        start_2 = start_1+count_1\n",
    "\n",
    "    logger.debug(f\"start_2: {start_2}\")\n",
    "\n",
    "    for k in range(start_2, start_2+count_2):\n",
    "        nums[k]=2\n",
    "\n",
    "    return nums\n",
    "        "
   ]
  },
  {
   "cell_type": "code",
   "execution_count": 138,
   "metadata": {},
   "outputs": [
    {
     "name": "stderr",
     "output_type": "stream",
     "text": [
      "\u001b[32m2024-05-26 16:48:28.063\u001b[0m | \u001b[34m\u001b[1mDEBUG   \u001b[0m | \u001b[36m__main__\u001b[0m:\u001b[36msortColors\u001b[0m:\u001b[36m12\u001b[0m - \u001b[34m\u001b[1m(3, 2, 2)\u001b[0m\n",
      "\u001b[32m2024-05-26 16:48:28.067\u001b[0m | \u001b[34m\u001b[1mDEBUG   \u001b[0m | \u001b[36m__main__\u001b[0m:\u001b[36msortColors\u001b[0m:\u001b[36m21\u001b[0m - \u001b[34m\u001b[1mstart_1: 3\u001b[0m\n",
      "\u001b[32m2024-05-26 16:48:28.069\u001b[0m | \u001b[34m\u001b[1mDEBUG   \u001b[0m | \u001b[36m__main__\u001b[0m:\u001b[36msortColors\u001b[0m:\u001b[36m30\u001b[0m - \u001b[34m\u001b[1mstart_2: 5\u001b[0m\n"
     ]
    },
    {
     "data": {
      "text/plain": [
       "[0, 0, 0, 1, 1, 2, 2]"
      ]
     },
     "execution_count": 138,
     "metadata": {},
     "output_type": "execute_result"
    }
   ],
   "source": [
    "sortColors([0,2,1,0,2,1,0])"
   ]
  },
  {
   "cell_type": "code",
   "execution_count": 139,
   "metadata": {},
   "outputs": [
    {
     "name": "stderr",
     "output_type": "stream",
     "text": [
      "\u001b[32m2024-05-26 16:48:28.777\u001b[0m | \u001b[34m\u001b[1mDEBUG   \u001b[0m | \u001b[36m__main__\u001b[0m:\u001b[36msortColors\u001b[0m:\u001b[36m12\u001b[0m - \u001b[34m\u001b[1m(0, 2, 1)\u001b[0m\n",
      "\u001b[32m2024-05-26 16:48:28.779\u001b[0m | \u001b[34m\u001b[1mDEBUG   \u001b[0m | \u001b[36m__main__\u001b[0m:\u001b[36msortColors\u001b[0m:\u001b[36m21\u001b[0m - \u001b[34m\u001b[1mstart_1: 0\u001b[0m\n",
      "\u001b[32m2024-05-26 16:48:28.780\u001b[0m | \u001b[34m\u001b[1mDEBUG   \u001b[0m | \u001b[36m__main__\u001b[0m:\u001b[36msortColors\u001b[0m:\u001b[36m30\u001b[0m - \u001b[34m\u001b[1mstart_2: 2\u001b[0m\n"
     ]
    },
    {
     "data": {
      "text/plain": [
       "[1, 1, 2]"
      ]
     },
     "execution_count": 139,
     "metadata": {},
     "output_type": "execute_result"
    }
   ],
   "source": [
    "sortColors([1,1,2])"
   ]
  },
  {
   "cell_type": "code",
   "execution_count": 131,
   "metadata": {},
   "outputs": [
    {
     "name": "stderr",
     "output_type": "stream",
     "text": [
      "\u001b[32m2024-05-26 16:45:13.509\u001b[0m | \u001b[34m\u001b[1mDEBUG   \u001b[0m | \u001b[36m__main__\u001b[0m:\u001b[36msortColors\u001b[0m:\u001b[36m21\u001b[0m - \u001b[34m\u001b[1mstart_1: 0\u001b[0m\n",
      "\u001b[32m2024-05-26 16:45:13.510\u001b[0m | \u001b[34m\u001b[1mDEBUG   \u001b[0m | \u001b[36m__main__\u001b[0m:\u001b[36msortColors\u001b[0m:\u001b[36m30\u001b[0m - \u001b[34m\u001b[1mstart_2: 0\u001b[0m\n"
     ]
    },
    {
     "data": {
      "text/plain": [
       "[]"
      ]
     },
     "execution_count": 131,
     "metadata": {},
     "output_type": "execute_result"
    }
   ],
   "source": [
    "sortColors([])"
   ]
  },
  {
   "cell_type": "markdown",
   "metadata": {},
   "source": [
    "### Merge 2 sorted lists"
   ]
  },
  {
   "cell_type": "code",
   "execution_count": 140,
   "metadata": {},
   "outputs": [],
   "source": [
    "def merge_sorted_lists(nums1: list, nums2: list) -> list:\n",
    "\n",
    "    i, j = 0, 0\n",
    "    nums = []\n",
    "\n",
    "    while i < len(nums1) and j < len(nums2):\n",
    "        if nums1[i] < nums2[j]:\n",
    "            nums.append(nums1[i])\n",
    "            i+=1\n",
    "        else:\n",
    "            nums.append(nums2[j])\n",
    "            j+=1\n",
    "\n",
    "    while i < len(nums1):\n",
    "        nums.append(nums1[i])\n",
    "        i+=1\n",
    "    while j < len(nums2):\n",
    "        nums.append(nums2[j])\n",
    "        j+=1\n",
    "\n",
    "    return nums\n",
    "        "
   ]
  },
  {
   "cell_type": "code",
   "execution_count": 142,
   "metadata": {},
   "outputs": [
    {
     "data": {
      "text/plain": [
       "[1, 5, 7, 8, 24, 32]"
      ]
     },
     "execution_count": 142,
     "metadata": {},
     "output_type": "execute_result"
    }
   ],
   "source": [
    "merge_sorted_lists([1,8,24], [5,7,32])"
   ]
  },
  {
   "cell_type": "code",
   "execution_count": 146,
   "metadata": {},
   "outputs": [
    {
     "data": {
      "text/plain": [
       "[1, 24, 100, 500]"
      ]
     },
     "execution_count": 146,
     "metadata": {},
     "output_type": "execute_result"
    }
   ],
   "source": [
    "merge_sorted_lists([1,24, 500], [100])"
   ]
  },
  {
   "cell_type": "markdown",
   "metadata": {},
   "source": [
    "### Product of Array Except Self\n",
    "\n",
    "You’re given an integer array, nums. Return a resultant array product so that product[i] is equal to the product of all the elements of nums except nums[i].\n",
    "\n",
    "> https://www.youtube.com/watch?v=gREVHiZjXeQ\n",
    "---"
   ]
  },
  {
   "cell_type": "code",
   "execution_count": 175,
   "metadata": {},
   "outputs": [],
   "source": [
    "def find_product(nums: list):\n",
    "    \n",
    "    left_products, right_products = [0]*len(nums), [0]*len(nums)\n",
    "\n",
    "    product = 1\n",
    "    for i in range(len(nums)):\n",
    "        product = product * nums[i]\n",
    "        left_products[i] = product \n",
    "\n",
    "    product = 1\n",
    "\n",
    "    for i in range(len(nums)-1, -1, -1):\n",
    "        \n",
    "        product = product*nums[i]\n",
    "        right_products[i] = product \n",
    "\n",
    "    logger.debug(f\"left prefix products: {left_products}\")\n",
    "    logger.debug(f\"right prefix products: {right_products}\")\n",
    "    \n",
    "    for i in range(len(nums)):\n",
    "        \n",
    "        # left_products[i - 1] will give me left prefix product\n",
    "        # right_products[i + 1] will give me right prefix product\n",
    "\n",
    "        if i <= 0:\n",
    "            left_prefix_product = 1\n",
    "        else:\n",
    "            left_prefix_product = left_products[i-1]\n",
    "        \n",
    "        if i >= len(nums)-1:\n",
    "            right_prefix_product = 1\n",
    "        else:\n",
    "            right_prefix_product = right_products[i+1]\n",
    "\n",
    "        nums[i] = left_prefix_product * right_prefix_product\n",
    "\n",
    "    return nums\n"
   ]
  },
  {
   "cell_type": "code",
   "execution_count": 177,
   "metadata": {},
   "outputs": [
    {
     "name": "stderr",
     "output_type": "stream",
     "text": [
      "\u001b[32m2024-05-26 18:47:04.678\u001b[0m | \u001b[34m\u001b[1mDEBUG   \u001b[0m | \u001b[36m__main__\u001b[0m:\u001b[36mfind_product\u001b[0m:\u001b[36m17\u001b[0m - \u001b[34m\u001b[1mleft prefix products: [1, 2, 0, 0]\u001b[0m\n",
      "\u001b[32m2024-05-26 18:47:04.681\u001b[0m | \u001b[34m\u001b[1mDEBUG   \u001b[0m | \u001b[36m__main__\u001b[0m:\u001b[36mfind_product\u001b[0m:\u001b[36m18\u001b[0m - \u001b[34m\u001b[1mright prefix products: [0, 0, 0, 4]\u001b[0m\n"
     ]
    },
    {
     "data": {
      "text/plain": [
       "[0, 0, 8, 0]"
      ]
     },
     "execution_count": 177,
     "metadata": {},
     "output_type": "execute_result"
    }
   ],
   "source": [
    "find_product([1,2,0,4])"
   ]
  },
  {
   "cell_type": "markdown",
   "metadata": {},
   "source": [
    "### First Unique Character in a String\n",
    "\n",
    "> https://leetcode.com/problems/first-unique-character-in-a-string/description/\n",
    "\n",
    "---"
   ]
  },
  {
   "cell_type": "code",
   "execution_count": 196,
   "metadata": {},
   "outputs": [],
   "source": [
    "def firstUniqChar(s: str) -> int:\n",
    "        \n",
    "    character_count_mapping = {}\n",
    "\n",
    "    for idx, char_ in enumerate(s):\n",
    "        if char_ in character_count_mapping:\n",
    "            character_count_mapping[char_] = -1\n",
    "        else:\n",
    "            character_count_mapping[char_] = idx\n",
    "\n",
    "    logger.debug(character_count_mapping)\n",
    "\n",
    "    for char_, index_ in character_count_mapping.items():\n",
    "        if index_ != -1:\n",
    "            return index_\n",
    "\n",
    "    return -1"
   ]
  },
  {
   "cell_type": "code",
   "execution_count": 195,
   "metadata": {},
   "outputs": [
    {
     "name": "stderr",
     "output_type": "stream",
     "text": [
      "\u001b[32m2024-05-26 20:25:16.548\u001b[0m | \u001b[34m\u001b[1mDEBUG   \u001b[0m | \u001b[36m__main__\u001b[0m:\u001b[36mfirstUniqChar\u001b[0m:\u001b[36m11\u001b[0m - \u001b[34m\u001b[1m{'s': -1, 'a': -1, 'b': 3, 'm': 4, 'n': 5}\u001b[0m\n"
     ]
    },
    {
     "data": {
      "text/plain": [
       "3"
      ]
     },
     "execution_count": 195,
     "metadata": {},
     "output_type": "execute_result"
    }
   ],
   "source": [
    "firstUniqChar(\"ssabmna\")"
   ]
  },
  {
   "cell_type": "markdown",
   "metadata": {},
   "source": [
    "### Find Second Maximum Value in a List"
   ]
  },
  {
   "cell_type": "code",
   "execution_count": 7,
   "metadata": {},
   "outputs": [],
   "source": [
    "def find_second_largest_elem(arr: list) -> int:\n",
    "\n",
    "    largest_elem, second_largest_elem = -np.inf, -np.inf\n",
    "\n",
    "    for num_ in arr:\n",
    "\n",
    "        if num_ > largest_elem:\n",
    "            second_largest_elem = largest_elem\n",
    "            largest_elem = num_\n",
    "\n",
    "        else:\n",
    "            if num_ > second_largest_elem and num_ != largest_elem:\n",
    "                second_largest_elem = num_\n",
    "\n",
    "    return second_largest_elem"
   ]
  },
  {
   "cell_type": "code",
   "execution_count": 8,
   "metadata": {},
   "outputs": [
    {
     "data": {
      "text/plain": [
       "4"
      ]
     },
     "execution_count": 8,
     "metadata": {},
     "output_type": "execute_result"
    }
   ],
   "source": [
    "find_second_largest_elem([4,2,1,5,0])"
   ]
  },
  {
   "cell_type": "code",
   "execution_count": 9,
   "metadata": {},
   "outputs": [
    {
     "data": {
      "text/plain": [
       "9"
      ]
     },
     "execution_count": 9,
     "metadata": {},
     "output_type": "execute_result"
    }
   ],
   "source": [
    "find_second_largest_elem([4,10,10,8,9]\n",
    ")"
   ]
  },
  {
   "cell_type": "markdown",
   "metadata": {},
   "source": [
    "### Rotate Array\n",
    "\n",
    "> https://leetcode.com/problems/rotate-array/\n",
    "\n",
    "---"
   ]
  },
  {
   "cell_type": "code",
   "execution_count": 10,
   "metadata": {},
   "outputs": [],
   "source": [
    "def rotate(nums: List[int], k: int) -> None:\n",
    "        \"\"\"\n",
    "        Do not return anything, modify nums in-place instead.\n",
    "        \"\"\"\n",
    "        # hshmap to store the idx to elem mapping for array after rotation\n",
    "        new_idx_to_elem_mapping = {}\n",
    "\n",
    "        # for each index, compute what should be new_idx after k rotations\n",
    "        # store this in new_idx_to_elem_mapping\n",
    "        for i in range(len(nums)):\n",
    "\n",
    "            num_to_check = nums[i]\n",
    "\n",
    "            if i+k >= len(nums):\n",
    "                new_idx = (i+k)%len(nums)\n",
    "            else:\n",
    "                new_idx = i+k\n",
    "\n",
    "            new_idx_to_elem_mapping[new_idx] = num_to_check\n",
    "\n",
    "        # use new_idx_to_elem_mapping to modify the array in-place\n",
    "        for i in range(len(nums)):\n",
    "            nums[i] = new_idx_to_elem_mapping[i]\n",
    "\n",
    "        logger.debug(nums)\n",
    "\n",
    "        "
   ]
  },
  {
   "cell_type": "code",
   "execution_count": 11,
   "metadata": {},
   "outputs": [
    {
     "name": "stderr",
     "output_type": "stream",
     "text": [
      "\u001b[32m2024-05-27 16:55:51.474\u001b[0m | \u001b[34m\u001b[1mDEBUG   \u001b[0m | \u001b[36m__main__\u001b[0m:\u001b[36mrotate\u001b[0m:\u001b[36m25\u001b[0m - \u001b[34m\u001b[1m[5, 6, 1, 2, 3, 4]\u001b[0m\n"
     ]
    }
   ],
   "source": [
    "rotate([1,2,3,4,5,6], 2)"
   ]
  },
  {
   "cell_type": "markdown",
   "metadata": {},
   "source": [
    "### Rearrange Positive & Negative Values\n",
    "\n",
    "Implement a function that rearranges elements in a list so that all negative elements appear to the left and all positive elements (including zero) appear to the right. It’s important to note that maintaining the original sorted order of the input list is not required for this task.\n"
   ]
  },
  {
   "cell_type": "code",
   "execution_count": 22,
   "metadata": {},
   "outputs": [],
   "source": [
    "def rearrange(arr: list) -> list:\n",
    "\n",
    "    # start with 2 pointers at either end\n",
    "    left, right = 0, len(arr) - 1\n",
    "\n",
    "    while left < right:\n",
    "\n",
    "        # both negative\n",
    "        if arr[left] < 0 and arr[right] < 0:\n",
    "            # move left to the right till we find a 0 or +ve number\n",
    "            while left < right:\n",
    "                if arr[left] >= 0:\n",
    "                    break\n",
    "                left += 1\n",
    "\n",
    "            # swap left and right\n",
    "            arr[left], arr[right] = arr[right], arr[left]\n",
    "            left += 1\n",
    "            right -= 1\n",
    "\n",
    "        # both +ve\n",
    "        elif arr[left] >= 0 and arr[right] >= 0:\n",
    "            # move right to the left till we find a -ve number\n",
    "            while left < right:\n",
    "                if arr[right] < 0:\n",
    "                    break\n",
    "                right -= 1\n",
    "\n",
    "            # swap left and right\n",
    "            arr[left], arr[right] = arr[right], arr[left]\n",
    "            left += 1\n",
    "            right -= 1\n",
    "\n",
    "\n",
    "        # left one is +ve, right is -ve\n",
    "        elif arr[left] >= 0 and arr[right] < 0:\n",
    "            # swap left and right\n",
    "            arr[left], arr[right] = arr[right], arr[left]\n",
    "            left += 1\n",
    "            right -= 1\n",
    "\n",
    "        # left one is -ve, right is +ve\n",
    "        else:\n",
    "            # all ok\n",
    "            left += 1\n",
    "            right -= 1\n",
    "\n",
    "    return arr"
   ]
  },
  {
   "cell_type": "code",
   "execution_count": 23,
   "metadata": {},
   "outputs": [
    {
     "data": {
      "text/plain": [
       "[-10, -5, -8, -7, 8, 7, 5, 10]"
      ]
     },
     "execution_count": 23,
     "metadata": {},
     "output_type": "execute_result"
    }
   ],
   "source": [
    "rearrange([-10, 10, 7, -7, 8, -8, 5, -5])"
   ]
  },
  {
   "cell_type": "code",
   "execution_count": 24,
   "metadata": {},
   "outputs": [
    {
     "data": {
      "text/plain": [
       "[-4, -2, 3, 1, 5]"
      ]
     },
     "execution_count": 24,
     "metadata": {},
     "output_type": "execute_result"
    }
   ],
   "source": [
    "rearrange([1,-2,3,-4,5])"
   ]
  },
  {
   "cell_type": "code",
   "execution_count": 25,
   "metadata": {},
   "outputs": [
    {
     "data": {
      "text/plain": [
       "[-7, -2, -9, -5, -3]"
      ]
     },
     "execution_count": 25,
     "metadata": {},
     "output_type": "execute_result"
    }
   ],
   "source": [
    "rearrange([-7,-2,-9,-5,-3])"
   ]
  },
  {
   "cell_type": "code",
   "execution_count": 26,
   "metadata": {},
   "outputs": [
    {
     "data": {
      "text/plain": [
       "[4, 9, 2, 6, 8]"
      ]
     },
     "execution_count": 26,
     "metadata": {},
     "output_type": "execute_result"
    }
   ],
   "source": [
    "rearrange([4,9,2,6,8])"
   ]
  },
  {
   "cell_type": "code",
   "execution_count": 27,
   "metadata": {},
   "outputs": [
    {
     "data": {
      "text/plain": [
       "[-3, -1, 7, 0, 4]"
      ]
     },
     "execution_count": 27,
     "metadata": {},
     "output_type": "execute_result"
    }
   ],
   "source": [
    "rearrange([-3,0,7,-1,4])"
   ]
  },
  {
   "cell_type": "code",
   "execution_count": 28,
   "metadata": {},
   "outputs": [
    {
     "data": {
      "text/plain": [
       "[-4, -2, -2, 8, 6, 5]"
      ]
     },
     "execution_count": 28,
     "metadata": {},
     "output_type": "execute_result"
    }
   ],
   "source": [
    "rearrange([5,8,-2,-2,6,-4])"
   ]
  },
  {
   "cell_type": "markdown",
   "metadata": {},
   "source": [
    "### Group Anagrams\n",
    "\n",
    "> https://leetcode.com/problems/group-anagrams/description/\n",
    "\n",
    "---\n"
   ]
  },
  {
   "cell_type": "code",
   "execution_count": 25,
   "metadata": {},
   "outputs": [],
   "source": [
    "def group_anagrams(strs: list) -> list:\n",
    "\n",
    "    # N : length of list; m: max length of a string in that list\n",
    "\n",
    "    sorted_str_to_original_str_mapping = {}\n",
    "    for idx, elem_ in enumerate(strs):\n",
    "        sorted_str = \"\".join(sorted(elem_)) # mlogm\n",
    "        if sorted_str not in sorted_str_to_original_str_mapping:\n",
    "            sorted_str_to_original_str_mapping[sorted_str] = [elem_]\n",
    "        else:\n",
    "            sorted_str_to_original_str_mapping[sorted_str].append(elem_)\n",
    "\n",
    "    return list(sorted_str_to_original_str_mapping.values())"
   ]
  },
  {
   "cell_type": "markdown",
   "metadata": {},
   "source": []
  },
  {
   "cell_type": "code",
   "execution_count": 26,
   "metadata": {},
   "outputs": [
    {
     "data": {
      "text/plain": [
       "'olleh'"
      ]
     },
     "execution_count": 26,
     "metadata": {},
     "output_type": "execute_result"
    }
   ],
   "source": [
    "\"hello\"[::-1]"
   ]
  },
  {
   "cell_type": "code",
   "execution_count": 27,
   "metadata": {},
   "outputs": [
    {
     "data": {
      "text/plain": [
       "[['eat', 'tea', 'ate'], ['tan', 'nat'], ['bat']]"
      ]
     },
     "execution_count": 27,
     "metadata": {},
     "output_type": "execute_result"
    }
   ],
   "source": [
    "group_anagrams([\"eat\",\"tea\",\"tan\",\"ate\",\"nat\",\"bat\"])"
   ]
  },
  {
   "cell_type": "markdown",
   "metadata": {},
   "source": [
    "- complexity: `N x m log m`\n",
    "\n",
    "\n",
    "For each element in the list if we can build a hashmap of the character-freq\n",
    "\n",
    "eat -> {e:1, a:1, t:1} | ate -> {e:1, a:1, t:1}\n",
    "\n",
    "if we can do {e:1, a:1, t:1}: [eat, ate] -- we have our solution -- N x m\n",
    "\n",
    "But dictionaries cannot be hashed\n",
    "\n",
    "\n",
    "Trick is:\n",
    "\n",
    "\n",
    "use an array of 26 - [0,0,0, ...0]\n",
    "\n",
    "for each word - set the corresponding indices to 1 and hash that - lists cannot be hashed - __so use a tuple__\n",
    "\n",
    "```\n",
    "0, 0, ..., 1, 1, 0, ,,, 1 --> [ate, eat],\n",
    "\n",
    "1, 1, ..., 1, 1, 0, ,,, 0 --> [bat]\n",
    "\n",
    "...\n"
   ]
  },
  {
   "cell_type": "code",
   "execution_count": 31,
   "metadata": {},
   "outputs": [
    {
     "data": {
      "text/plain": [
       "97"
      ]
     },
     "execution_count": 31,
     "metadata": {},
     "output_type": "execute_result"
    }
   ],
   "source": [
    "ord(\"a\")"
   ]
  },
  {
   "cell_type": "code",
   "execution_count": 41,
   "metadata": {},
   "outputs": [],
   "source": [
    "def group_anagrams(strs: list) -> list:\n",
    "\n",
    "    # N : length of list; m: max length of a string in that list\n",
    "\n",
    "    \n",
    "\n",
    "    alphabets_array_to_elem_mapping = {}\n",
    "    for str_ in strs:\n",
    "        # create an alphabets array with all 0s\n",
    "        alphabets_array = [0]*26\n",
    "        for char_ in str_:\n",
    "            # get index of character\n",
    "            char_idx = ord(char_) - 97\n",
    "            alphabets_array[char_idx] += 1\n",
    "        # convert the array to tuple so that we can hash it\n",
    "        alphabets_tuple = tuple(alphabets_array)\n",
    "        if alphabets_tuple in alphabets_array_to_elem_mapping:\n",
    "            alphabets_array_to_elem_mapping[alphabets_tuple].append(str_)\n",
    "        else:\n",
    "            alphabets_array_to_elem_mapping[alphabets_tuple] = [str_]\n",
    "\n",
    "    \n",
    "    return list(alphabets_array_to_elem_mapping.values())"
   ]
  },
  {
   "cell_type": "code",
   "execution_count": 42,
   "metadata": {},
   "outputs": [
    {
     "data": {
      "text/plain": [
       "[['eat', 'tea', 'ate'], ['tan', 'nat'], ['bat']]"
      ]
     },
     "execution_count": 42,
     "metadata": {},
     "output_type": "execute_result"
    }
   ],
   "source": [
    "group_anagrams([\"eat\",\"tea\",\"tan\",\"ate\",\"nat\",\"bat\"])"
   ]
  },
  {
   "cell_type": "code",
   "execution_count": 43,
   "metadata": {},
   "outputs": [
    {
     "data": {
      "text/plain": [
       "[['ddddddddddg'], ['dgggggggggg']]"
      ]
     },
     "execution_count": 43,
     "metadata": {},
     "output_type": "execute_result"
    }
   ],
   "source": [
    "group_anagrams([\"ddddddddddg\",\"dgggggggggg\"])"
   ]
  },
  {
   "cell_type": "markdown",
   "metadata": {},
   "source": [
    "### Number of Changing Keys\n",
    "\n",
    "> https://leetcode.com/problems/number-of-changing-keys/description/\n",
    "\n",
    "---"
   ]
  },
  {
   "cell_type": "code",
   "execution_count": 1,
   "metadata": {},
   "outputs": [],
   "source": [
    "def countKeyChanges(s: str) -> int:\n",
    "\n",
    "    s = s.lower()\n",
    "    if len(s) <= 1:\n",
    "        return 0\n",
    "\n",
    "    idx = 0\n",
    "    changes = 0\n",
    "\n",
    "    while idx < len(s) - 1:\n",
    "        if s[idx] != s[idx+1]:\n",
    "            changes += 1\n",
    "        idx += 1\n",
    "\n",
    "    return changes"
   ]
  },
  {
   "cell_type": "code",
   "execution_count": 2,
   "metadata": {},
   "outputs": [
    {
     "data": {
      "text/plain": [
       "2"
      ]
     },
     "execution_count": 2,
     "metadata": {},
     "output_type": "execute_result"
    }
   ],
   "source": [
    "countKeyChanges(\"aAbBcC\")"
   ]
  },
  {
   "cell_type": "markdown",
   "metadata": {},
   "source": [
    "### Valid Sudoku\n",
    "\n",
    "> https://leetcode.com/problems/valid-sudoku/description/\n",
    "\n",
    "> https://www.youtube.com/watch?v=HyiAKwasi3M&list=PLKYEe2WisBTFEr6laH5bR2J19j7sl5O8R&index=11\n",
    "\n",
    "---"
   ]
  },
  {
   "cell_type": "code",
   "execution_count": 5,
   "metadata": {},
   "outputs": [],
   "source": [
    "board = [[\"5\",\"3\",\".\",\".\",\"7\",\".\",\".\",\".\",\".\"],\n",
    "         [\"6\",\".\",\".\",\"1\",\"9\",\"5\",\".\",\".\",\".\"],\n",
    "         [\".\",\"9\",\"8\",\".\",\".\",\".\",\".\",\"6\",\".\"],\n",
    "         [\"8\",\".\",\".\",\".\",\"6\",\".\",\".\",\".\",\"3\"],\n",
    "         [\"4\",\".\",\".\",\"8\",\".\",\"3\",\".\",\".\",\"1\"],\n",
    "         [\"7\",\".\",\".\",\".\",\"2\",\".\",\".\",\".\",\"6\"],\n",
    "         [\".\",\"6\",\".\",\".\",\".\",\".\",\"2\",\"8\",\".\"],\n",
    "         [\".\",\".\",\".\",\"4\",\"1\",\"9\",\".\",\".\",\"5\"],\n",
    "         [\".\",\".\",\".\",\".\",\"8\",\".\",\".\",\"7\",\"9\"]]"
   ]
  },
  {
   "cell_type": "code",
   "execution_count": 7,
   "metadata": {},
   "outputs": [],
   "source": [
    "board = np.array(board)"
   ]
  },
  {
   "cell_type": "code",
   "execution_count": 14,
   "metadata": {},
   "outputs": [],
   "source": [
    "def array_contains_duplicates(arr: list) -> bool:\n",
    "\n",
    "    elem_count_mapping = {}\n",
    "\n",
    "    for elem in arr:\n",
    "        if elem == \".\":\n",
    "            continue\n",
    "        if elem not in elem_count_mapping:\n",
    "            elem_count_mapping[elem] = 1\n",
    "        else:\n",
    "            return True\n",
    "    return False"
   ]
  },
  {
   "cell_type": "code",
   "execution_count": 16,
   "metadata": {},
   "outputs": [],
   "source": [
    "num_rows, num_cols = board.shape[0], board.shape[1]"
   ]
  },
  {
   "cell_type": "code",
   "execution_count": 18,
   "metadata": {},
   "outputs": [
    {
     "name": "stdout",
     "output_type": "stream",
     "text": [
      "False\n",
      "False\n",
      "False\n",
      "False\n",
      "False\n",
      "False\n",
      "False\n",
      "False\n",
      "False\n"
     ]
    }
   ],
   "source": [
    "for i in range(num_rows):\n",
    "    subarray = board[i, :]\n",
    "    row_contains_duplicates = array_contains_duplicates(subarray)\n",
    "    print (row_contains_duplicates)"
   ]
  },
  {
   "cell_type": "code",
   "execution_count": 19,
   "metadata": {},
   "outputs": [
    {
     "name": "stdout",
     "output_type": "stream",
     "text": [
      "False\n",
      "False\n",
      "False\n",
      "False\n",
      "False\n",
      "False\n",
      "False\n",
      "False\n",
      "False\n"
     ]
    }
   ],
   "source": [
    "for i in range(num_cols):\n",
    "    subarray = board[:, i]\n",
    "    row_contains_duplicates = array_contains_duplicates(subarray)\n",
    "    print (row_contains_duplicates)"
   ]
  },
  {
   "cell_type": "code",
   "execution_count": 28,
   "metadata": {},
   "outputs": [
    {
     "name": "stdout",
     "output_type": "stream",
     "text": [
      "0:3, 0:3\n",
      "['5' '3' '.' '6' '.' '.' '.' '9' '8']\n",
      "0:3, 3:6\n",
      "['8' '.' '.' '4' '.' '.' '7' '.' '.']\n",
      "0:3, 6:9\n",
      "['.' '6' '.' '.' '.' '.' '.' '.' '.']\n",
      "3:6, 0:3\n",
      "['.' '7' '.' '1' '9' '5' '.' '.' '.']\n",
      "3:6, 3:6\n",
      "['.' '6' '.' '8' '.' '3' '.' '2' '.']\n",
      "3:6, 6:9\n",
      "['.' '.' '.' '4' '1' '9' '.' '8' '.']\n",
      "6:9, 0:3\n",
      "['.' '.' '.' '.' '.' '.' '.' '6' '.']\n",
      "6:9, 3:6\n",
      "['.' '.' '3' '.' '.' '1' '.' '.' '6']\n",
      "6:9, 6:9\n",
      "['2' '8' '.' '.' '.' '5' '.' '7' '9']\n"
     ]
    }
   ],
   "source": [
    "for col_idx in range(0, 9, 3):\n",
    "    for row_idx in range(0, 9, 3):\n",
    "        print (f\"{col_idx}:{col_idx+3}, {row_idx}:{row_idx+3}\")\n",
    "        submatrix = board[row_idx: row_idx+3, col_idx: col_idx+3]\n",
    "        submatrix = submatrix.flatten()\n",
    "        print (submatrix)"
   ]
  },
  {
   "cell_type": "code",
   "execution_count": 32,
   "metadata": {},
   "outputs": [
    {
     "data": {
      "text/plain": [
       "True"
      ]
     },
     "execution_count": 32,
     "metadata": {},
     "output_type": "execute_result"
    }
   ],
   "source": [
    "def is_valid_sudoku(board: list) -> bool:\n",
    "    board = np.array(board)\n",
    "    num_rows, num_cols = board.shape[0], board.shape[1]\n",
    "    for i in range(num_cols):\n",
    "        subarray = board[:, i]\n",
    "        row_contains_duplicates = array_contains_duplicates(subarray)\n",
    "        if row_contains_duplicates:\n",
    "            return False\n",
    "        \n",
    "    for i in range(num_rows):\n",
    "        subarray = board[i, :]\n",
    "        row_contains_duplicates = array_contains_duplicates(subarray)\n",
    "        if row_contains_duplicates:\n",
    "            return False\n",
    "        \n",
    "    for col_idx in range(0, num_cols, 3):\n",
    "        for row_idx in range(0, num_rows, 3):\n",
    "            # print (f\"{col_idx}:{col_idx+3}, {row_idx}:{row_idx+3}\")\n",
    "            submatrix = board[row_idx: row_idx+3, col_idx: col_idx+3]\n",
    "            submatrix = submatrix.flatten()\n",
    "            if array_contains_duplicates(submatrix):\n",
    "                return False\n",
    "            \n",
    "    return True\n",
    "\n",
    "\n",
    "is_valid_sudoku(board)"
   ]
  },
  {
   "cell_type": "code",
   "execution_count": 33,
   "metadata": {},
   "outputs": [
    {
     "data": {
      "text/plain": [
       "False"
      ]
     },
     "execution_count": 33,
     "metadata": {},
     "output_type": "execute_result"
    }
   ],
   "source": [
    "is_valid_sudoku([[\"8\",\"3\",\".\",\".\",\"7\",\".\",\".\",\".\",\".\"]\n",
    ",[\"6\",\".\",\".\",\"1\",\"9\",\"5\",\".\",\".\",\".\"]\n",
    ",[\".\",\"9\",\"8\",\".\",\".\",\".\",\".\",\"6\",\".\"]\n",
    ",[\"8\",\".\",\".\",\".\",\"6\",\".\",\".\",\".\",\"3\"]\n",
    ",[\"4\",\".\",\".\",\"8\",\".\",\"3\",\".\",\".\",\"1\"]\n",
    ",[\"7\",\".\",\".\",\".\",\"2\",\".\",\".\",\".\",\"6\"]\n",
    ",[\".\",\"6\",\".\",\".\",\".\",\".\",\"2\",\"8\",\".\"]\n",
    ",[\".\",\".\",\".\",\"4\",\"1\",\"9\",\".\",\".\",\"5\"]\n",
    ",[\".\",\".\",\".\",\".\",\"8\",\".\",\".\",\"7\",\"9\"]])"
   ]
  },
  {
   "cell_type": "markdown",
   "metadata": {},
   "source": [
    "### Detect if 2 strings are anagrams\n",
    "\n",
    "> https://leetcode.com/problems/valid-anagram/description/?source=submission-ac"
   ]
  },
  {
   "cell_type": "code",
   "execution_count": 3,
   "metadata": {},
   "outputs": [],
   "source": [
    "def are_anagrams(str_a: str, str_b: str) -> bool:\n",
    "    if len(str_a) != len(str_b):\n",
    "        return False\n",
    "    \n",
    "    char_count = {}\n",
    "    \n",
    "    for char in str_a:\n",
    "        char_count[char] = char_count.get(char, 0) + 1\n",
    "\n",
    "    for char_ in str_b:\n",
    "        if char_ not in char_count:\n",
    "            return False\n",
    "        else:\n",
    "            char_count[char_] -= 1\n",
    "\n",
    "    for char_ in char_count:\n",
    "        if char_count[char_] != 0:\n",
    "            return False\n",
    "        \n",
    "    return True"
   ]
  },
  {
   "cell_type": "code",
   "execution_count": 4,
   "metadata": {},
   "outputs": [
    {
     "data": {
      "text/plain": [
       "True"
      ]
     },
     "execution_count": 4,
     "metadata": {},
     "output_type": "execute_result"
    }
   ],
   "source": [
    "are_anagrams(\"rssvp\", \"ssvpr\")"
   ]
  },
  {
   "cell_type": "markdown",
   "metadata": {},
   "source": [
    "### Most Frequent Char\n",
    "\n",
    "> https://www.jointaro.com/course/crash-course-data-structures-and-algorithms-concepts/most-frequent-char-approach/"
   ]
  },
  {
   "cell_type": "code",
   "execution_count": 5,
   "metadata": {},
   "outputs": [],
   "source": [
    "def find_most_freq_char(s: str):\n",
    "    char_count = {}\n",
    "    \n",
    "    for char in s:\n",
    "        char_count[char] = char_count.get(char, 0) + 1\n",
    "\n",
    "    most_freq_char = s[0]\n",
    "\n",
    "    for char in s:\n",
    "        if char_count[char] > char_count[most_freq_char]:\n",
    "            most_freq_char = char\n",
    "\n",
    "    return most_freq_char\n",
    "\n"
   ]
  },
  {
   "cell_type": "code",
   "execution_count": 8,
   "metadata": {},
   "outputs": [
    {
     "data": {
      "text/plain": [
       "'o'"
      ]
     },
     "execution_count": 8,
     "metadata": {},
     "output_type": "execute_result"
    }
   ],
   "source": [
    "find_most_freq_char(\"potato\")"
   ]
  },
  {
   "cell_type": "markdown",
   "metadata": {},
   "source": [
    "### Pair Product\n",
    "\n",
    "> https://www.jointaro.com/course/crash-course-data-structures-and-algorithms-concepts/pair-product-approach/"
   ]
  },
  {
   "cell_type": "code",
   "execution_count": 1,
   "metadata": {},
   "outputs": [],
   "source": [
    "def pair_product(numbers, target_product):\n",
    "    hashmap = {}\n",
    "    for curr_idx, num in enumerate(numbers):\n",
    "        reqd = target_product/num\n",
    "        if reqd in hashmap:\n",
    "            return (hashmap[reqd], curr_idx)\n",
    "\n",
    "        hashmap[num] = curr_idx"
   ]
  },
  {
   "cell_type": "code",
   "execution_count": 2,
   "metadata": {},
   "outputs": [
    {
     "data": {
      "text/plain": [
       "(1, 3)"
      ]
     },
     "execution_count": 2,
     "metadata": {},
     "output_type": "execute_result"
    }
   ],
   "source": [
    "pair_product([3, 2, 5, 4, 1], 8) # -> (1, 3)"
   ]
  },
  {
   "cell_type": "markdown",
   "metadata": {},
   "source": [
    "### Rabbits in Forests\n",
    "\n",
    "> https://leetcode.com/problems/rabbits-in-forest/submissions/1612258075/"
   ]
  },
  {
   "cell_type": "markdown",
   "metadata": {},
   "source": [
    "Concept:\n",
    "Each rabbit that says x means “There are x other rabbits like me” → implies a group of x + 1 rabbits of that color.\n",
    "Multiple rabbits answering x may belong to the same group — but only up to x + 1 times.\n",
    "\n",
    "Strategy:\n",
    "\t•\tGroup rabbits who answered the same number.\n",
    "\t•\tOnce a group reaches its capacity (x + 1), start a new one.\n",
    "\t•\tSum all the groups formed — both complete and partially filled.\n",
    "\n",
    "⸻\n",
    "\n",
    "```\n",
    "Example 1:\n",
    "\n",
    "Input: [1, 1, 2]\n",
    "\t•\tTwo rabbits said 1 → could belong to the same group of size 2 → need 2 rabbits total\n",
    "\t•\tOne rabbit said 2 → must be part of a group of size 3 → need 3 rabbits total\n",
    "Answer: 2 + 3 = 5\n",
    "\n",
    "Example 2:\n",
    "\n",
    "Input: [10, 10, 10]\n",
    "\t•\tEach rabbit wants 10 others → group size = 11\n",
    "\t•\tCan only have 1 group of 11 if all responses are within limit\n",
    "Answer: 11\n",
    "\n",
    "```\n",
    "⸻"
   ]
  },
  {
   "cell_type": "code",
   "execution_count": 11,
   "metadata": {},
   "outputs": [],
   "source": [
    "\n",
    "# answers = [1,1,2]\n",
    "\n",
    "answers = [1,1,2, 2, 2, 2]\n",
    "\n",
    "\n",
    "def numRabbits(answers: list[int]) -> int:\n",
    "    \"\"\"\n",
    "    Given a list of rabbit answers where each element indicates the number of *other* rabbits \n",
    "    that share the same color, compute the minimum total number of rabbits in the forest.\n",
    "\n",
    "    Approach:\n",
    "    - Each answer x implies a group of x + 1 rabbits of the same color.\n",
    "    - Multiple rabbits answering the same x can belong to the same group,\n",
    "    but only up to x + 1 times. After that, a new group is required.\n",
    "    - Maintain a mapping from each group size to how many \"slots\" are still free in it.\n",
    "    - Whenever a group fills up, start a new one and account for it in the final sum.\n",
    "\n",
    "    This solution builds groupings dynamically and tracks when a new group must start.\n",
    "\n",
    "    Example:\n",
    "        Input: answers = [1, 1, 2]\n",
    "        Output: 5\n",
    "    \"\"\"\n",
    "\n",
    "    rabbits_mapping = {}      # Tracks how many \"slots\" are left in active groups of each size\n",
    "    counted_keys = []         # Stores completed groups, to be added to final count later\n",
    "\n",
    "    for answer_ in answers:\n",
    "        count_rabbits = answer_ + 1           # Total rabbits in a group for this answer\n",
    "        count_rabbits_key = str(count_rabbits)\n",
    "\n",
    "        if count_rabbits_key not in rabbits_mapping:\n",
    "            # New group is created, with count_rabbits - 1 slots remaining\n",
    "            rabbits_mapping[count_rabbits_key] = count_rabbits - 1\n",
    "        else:\n",
    "            if rabbits_mapping[count_rabbits_key] != 0:\n",
    "                # Add rabbit to an existing group\n",
    "                rabbits_mapping[count_rabbits_key] -= 1\n",
    "            else:\n",
    "                # Group is full, count it and start a new one\n",
    "                counted_keys.append(int(count_rabbits_key))\n",
    "                rabbits_mapping[count_rabbits_key] = count_rabbits - 1\n",
    "\n",
    "    # Collect all current active groups\n",
    "    min_rabbits = [int(key) for key in rabbits_mapping]\n",
    "    # Add completed groups\n",
    "    min_rabbits.extend(counted_keys)\n",
    "\n",
    "    # Sum of all group sizes gives minimum total rabbits\n",
    "    num_min_rabbits = sum(min_rabbits)\n",
    "\n",
    "    return num_min_rabbits"
   ]
  },
  {
   "cell_type": "code",
   "execution_count": 12,
   "metadata": {},
   "outputs": [
    {
     "data": {
      "text/plain": [
       "8"
      ]
     },
     "execution_count": 12,
     "metadata": {},
     "output_type": "execute_result"
    }
   ],
   "source": [
    "numRabbits(answers)"
   ]
  },
  {
   "cell_type": "markdown",
   "metadata": {},
   "source": [
    "### Find Second Smallest and Second Largest Element in an array"
   ]
  },
  {
   "cell_type": "code",
   "execution_count": null,
   "metadata": {},
   "outputs": [],
   "source": [
    "[5, 3, 1, 7, 2]\n",
    "\n",
    "smallest = 5 | 3 | 1 \n",
    "second_smallest = 5 | 5 | 3"
   ]
  },
  {
   "cell_type": "code",
   "execution_count": 27,
   "metadata": {},
   "outputs": [],
   "source": [
    "def find_second_smallest(arr: list):\n",
    "    smallest = 1000\n",
    "    second_smallest = 1000\n",
    "\n",
    "    for elem in arr:\n",
    "        # print (elem, smallest, second_smallest)\n",
    "        if elem < smallest:\n",
    "            second_smallest = smallest\n",
    "            smallest = elem\n",
    "        else:\n",
    "            if elem < second_smallest:\n",
    "                second_smallest = elem\n",
    "\n",
    "    return second_smallest"
   ]
  },
  {
   "cell_type": "code",
   "execution_count": null,
   "metadata": {},
   "outputs": [
    {
     "data": {
      "text/plain": [
       "0"
      ]
     },
     "execution_count": 32,
     "metadata": {},
     "output_type": "execute_result"
    }
   ],
   "source": [
    "find_second_smallest([3,1,2,0, 100, 200, 0])"
   ]
  },
  {
   "cell_type": "code",
   "execution_count": 33,
   "metadata": {},
   "outputs": [],
   "source": [
    "def find_second_largest(arr: list):\n",
    "    largest = -1000\n",
    "    second_largest = -1000\n",
    "\n",
    "    for elem in arr:\n",
    "        # print (elem, smallest, second_smallest)\n",
    "        if elem > largest:\n",
    "            second_largest = largest\n",
    "            largest = elem\n",
    "        else:\n",
    "            if elem > second_largest:\n",
    "                second_largest = elem\n",
    "\n",
    "    return second_largest"
   ]
  },
  {
   "cell_type": "code",
   "execution_count": 35,
   "metadata": {},
   "outputs": [
    {
     "data": {
      "text/plain": [
       "100"
      ]
     },
     "execution_count": 35,
     "metadata": {},
     "output_type": "execute_result"
    }
   ],
   "source": [
    "find_second_largest([3,1,2,0, 100, 200, 0])"
   ]
  },
  {
   "cell_type": "code",
   "execution_count": null,
   "metadata": {},
   "outputs": [],
   "source": []
  }
 ],
 "metadata": {
  "kernelspec": {
   "display_name": "shaunak-dev",
   "language": "python",
   "name": "python3"
  },
  "language_info": {
   "codemirror_mode": {
    "name": "ipython",
    "version": 3
   },
   "file_extension": ".py",
   "mimetype": "text/x-python",
   "name": "python",
   "nbconvert_exporter": "python",
   "pygments_lexer": "ipython3",
   "version": "3.12.4"
  }
 },
 "nbformat": 4,
 "nbformat_minor": 2
}
