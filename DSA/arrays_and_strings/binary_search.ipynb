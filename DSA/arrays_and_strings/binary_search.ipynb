{
 "cells": [
  {
   "cell_type": "code",
   "execution_count": 1,
   "metadata": {},
   "outputs": [],
   "source": [
    "from loguru import logger"
   ]
  },
  {
   "cell_type": "code",
   "execution_count": 7,
   "metadata": {},
   "outputs": [],
   "source": [
    "def binary_search_iterative(arr: list, target: int) -> int:\n",
    "\n",
    "    # define initial search space\n",
    "    low = 0\n",
    "    high = len(arr) - 1\n",
    "\n",
    "    while low <= high:\n",
    "\n",
    "        mid = (low+high)//2\n",
    "\n",
    "        if arr[mid] == target:\n",
    "            return mid\n",
    "        elif arr[mid] > target:\n",
    "            # target will be to left if exists, make search space smaller\n",
    "            high = mid-1\n",
    "            mid = (low+high)//2\n",
    "        else:\n",
    "            # target will be to right if exists, make search space smaller\n",
    "            low = mid + 1\n",
    "            mid = (low+high)//2\n",
    "\n",
    "    return -1"
   ]
  },
  {
   "cell_type": "code",
   "execution_count": 9,
   "metadata": {},
   "outputs": [
    {
     "data": {
      "text/plain": [
       "7"
      ]
     },
     "execution_count": 9,
     "metadata": {},
     "output_type": "execute_result"
    }
   ],
   "source": [
    "binary_search_iterative([3,4,6,7,9,12,16,17], 17)"
   ]
  },
  {
   "cell_type": "code",
   "execution_count": 24,
   "metadata": {},
   "outputs": [],
   "source": [
    "def binary_search(arr: list, target: int) -> int:\n",
    "\n",
    "    left, right = 0, len(arr)-1\n",
    "\n",
    "    mid = (left+right)//2\n",
    "\n",
    "    # left < right will not work as if elem is present at the end of the array\n",
    "    # to find it, we need to go till left==right\n",
    "\n",
    "    while left <= right and mid >= 0 and mid <= len(arr)-1:\n",
    "        mid = (left+right)//2\n",
    "        \n",
    "        if arr[mid] == target:\n",
    "            return mid\n",
    "        \n",
    "        elif arr[mid] > target:\n",
    "            right = mid - 1\n",
    "\n",
    "        else:\n",
    "            left = mid + 1\n",
    "\n",
    "    # not found\n",
    "    return -1"
   ]
  },
  {
   "cell_type": "code",
   "execution_count": 25,
   "metadata": {},
   "outputs": [
    {
     "data": {
      "text/plain": [
       "-1"
      ]
     },
     "execution_count": 25,
     "metadata": {},
     "output_type": "execute_result"
    }
   ],
   "source": [
    "binary_search(list(range(1, 21)), 170)"
   ]
  },
  {
   "cell_type": "code",
   "execution_count": 61,
   "metadata": {},
   "outputs": [],
   "source": [
    "def binary_search(arr: list, target: int) -> int:\n",
    "\n",
    "    logger.debug(arr)\n",
    "    left, right = 0, len(arr)-1\n",
    "\n",
    "    mid = (left+right)//2\n",
    "\n",
    "    # left < right will not work as if elem is present at the end of the array\n",
    "    # to find it, we need to go till left==right\n",
    "\n",
    "    while left <= right and mid >= 0 and mid <= len(arr)-1:\n",
    "        logger.debug((left, right, mid))\n",
    "        mid = (left+right)//2\n",
    "        \n",
    "        if arr[mid] == target:\n",
    "            return mid\n",
    "        \n",
    "        elif arr[mid] > target:\n",
    "            right = mid - 1\n",
    "\n",
    "        else:\n",
    "            left = mid + 1\n",
    "    logger.debug((left, right, mid))\n",
    "\n",
    "    return"
   ]
  },
  {
   "cell_type": "code",
   "execution_count": 62,
   "metadata": {},
   "outputs": [
    {
     "name": "stderr",
     "output_type": "stream",
     "text": [
      "\u001b[32m2024-06-14 20:01:34.703\u001b[0m | \u001b[34m\u001b[1mDEBUG   \u001b[0m | \u001b[36m__main__\u001b[0m:\u001b[36mbinary_search\u001b[0m:\u001b[36m3\u001b[0m - \u001b[34m\u001b[1m[1, 3, 5, 7, 9, 11, 13, 15, 17]\u001b[0m\n",
      "\u001b[32m2024-06-14 20:01:34.704\u001b[0m | \u001b[34m\u001b[1mDEBUG   \u001b[0m | \u001b[36m__main__\u001b[0m:\u001b[36mbinary_search\u001b[0m:\u001b[36m12\u001b[0m - \u001b[34m\u001b[1m(0, 8, 4)\u001b[0m\n",
      "\u001b[32m2024-06-14 20:01:34.705\u001b[0m | \u001b[34m\u001b[1mDEBUG   \u001b[0m | \u001b[36m__main__\u001b[0m:\u001b[36mbinary_search\u001b[0m:\u001b[36m12\u001b[0m - \u001b[34m\u001b[1m(5, 8, 4)\u001b[0m\n",
      "\u001b[32m2024-06-14 20:01:34.705\u001b[0m | \u001b[34m\u001b[1mDEBUG   \u001b[0m | \u001b[36m__main__\u001b[0m:\u001b[36mbinary_search\u001b[0m:\u001b[36m12\u001b[0m - \u001b[34m\u001b[1m(5, 5, 6)\u001b[0m\n",
      "\u001b[32m2024-06-14 20:01:34.705\u001b[0m | \u001b[34m\u001b[1mDEBUG   \u001b[0m | \u001b[36m__main__\u001b[0m:\u001b[36mbinary_search\u001b[0m:\u001b[36m23\u001b[0m - \u001b[34m\u001b[1m(6, 5, 5)\u001b[0m\n"
     ]
    },
    {
     "data": {
      "text/plain": [
       "6"
      ]
     },
     "execution_count": 62,
     "metadata": {},
     "output_type": "execute_result"
    }
   ],
   "source": [
    "binary_search( list(range(1, 19, 2)), 12)"
   ]
  },
  {
   "cell_type": "code",
   "execution_count": 63,
   "metadata": {},
   "outputs": [
    {
     "name": "stderr",
     "output_type": "stream",
     "text": [
      "\u001b[32m2024-06-14 20:01:34.890\u001b[0m | \u001b[34m\u001b[1mDEBUG   \u001b[0m | \u001b[36m__main__\u001b[0m:\u001b[36mbinary_search\u001b[0m:\u001b[36m3\u001b[0m - \u001b[34m\u001b[1m[1, 3, 5, 6]\u001b[0m\n",
      "\u001b[32m2024-06-14 20:01:34.890\u001b[0m | \u001b[34m\u001b[1mDEBUG   \u001b[0m | \u001b[36m__main__\u001b[0m:\u001b[36mbinary_search\u001b[0m:\u001b[36m12\u001b[0m - \u001b[34m\u001b[1m(0, 3, 1)\u001b[0m\n",
      "\u001b[32m2024-06-14 20:01:34.891\u001b[0m | \u001b[34m\u001b[1mDEBUG   \u001b[0m | \u001b[36m__main__\u001b[0m:\u001b[36mbinary_search\u001b[0m:\u001b[36m12\u001b[0m - \u001b[34m\u001b[1m(2, 3, 1)\u001b[0m\n",
      "\u001b[32m2024-06-14 20:01:34.892\u001b[0m | \u001b[34m\u001b[1mDEBUG   \u001b[0m | \u001b[36m__main__\u001b[0m:\u001b[36mbinary_search\u001b[0m:\u001b[36m12\u001b[0m - \u001b[34m\u001b[1m(3, 3, 2)\u001b[0m\n",
      "\u001b[32m2024-06-14 20:01:34.892\u001b[0m | \u001b[34m\u001b[1mDEBUG   \u001b[0m | \u001b[36m__main__\u001b[0m:\u001b[36mbinary_search\u001b[0m:\u001b[36m23\u001b[0m - \u001b[34m\u001b[1m(4, 3, 3)\u001b[0m\n"
     ]
    },
    {
     "data": {
      "text/plain": [
       "4"
      ]
     },
     "execution_count": 63,
     "metadata": {},
     "output_type": "execute_result"
    }
   ],
   "source": [
    "binary_search([1,3,5,6], 7)"
   ]
  },
  {
   "cell_type": "code",
   "execution_count": 65,
   "metadata": {},
   "outputs": [
    {
     "name": "stderr",
     "output_type": "stream",
     "text": [
      "\u001b[32m2024-06-14 20:01:37.947\u001b[0m | \u001b[34m\u001b[1mDEBUG   \u001b[0m | \u001b[36m__main__\u001b[0m:\u001b[36mbinary_search\u001b[0m:\u001b[36m3\u001b[0m - \u001b[34m\u001b[1m[1, 3, 5, 6]\u001b[0m\n",
      "\u001b[32m2024-06-14 20:01:37.947\u001b[0m | \u001b[34m\u001b[1mDEBUG   \u001b[0m | \u001b[36m__main__\u001b[0m:\u001b[36mbinary_search\u001b[0m:\u001b[36m12\u001b[0m - \u001b[34m\u001b[1m(0, 3, 1)\u001b[0m\n",
      "\u001b[32m2024-06-14 20:01:37.948\u001b[0m | \u001b[34m\u001b[1mDEBUG   \u001b[0m | \u001b[36m__main__\u001b[0m:\u001b[36mbinary_search\u001b[0m:\u001b[36m12\u001b[0m - \u001b[34m\u001b[1m(0, 0, 1)\u001b[0m\n",
      "\u001b[32m2024-06-14 20:01:37.949\u001b[0m | \u001b[34m\u001b[1mDEBUG   \u001b[0m | \u001b[36m__main__\u001b[0m:\u001b[36mbinary_search\u001b[0m:\u001b[36m23\u001b[0m - \u001b[34m\u001b[1m(0, -1, 0)\u001b[0m\n"
     ]
    },
    {
     "data": {
      "text/plain": [
       "-1"
      ]
     },
     "execution_count": 65,
     "metadata": {},
     "output_type": "execute_result"
    }
   ],
   "source": [
    "binary_search([1,3,5,6], 0)"
   ]
  },
  {
   "cell_type": "code",
   "execution_count": null,
   "metadata": {},
   "outputs": [],
   "source": []
  },
  {
   "cell_type": "code",
   "execution_count": null,
   "metadata": {},
   "outputs": [],
   "source": []
  }
 ],
 "metadata": {
  "kernelspec": {
   "display_name": "shaunak-dev",
   "language": "python",
   "name": "python3"
  },
  "language_info": {
   "codemirror_mode": {
    "name": "ipython",
    "version": 3
   },
   "file_extension": ".py",
   "mimetype": "text/x-python",
   "name": "python",
   "nbconvert_exporter": "python",
   "pygments_lexer": "ipython3",
   "version": "3.12.4"
  }
 },
 "nbformat": 4,
 "nbformat_minor": 2
}
