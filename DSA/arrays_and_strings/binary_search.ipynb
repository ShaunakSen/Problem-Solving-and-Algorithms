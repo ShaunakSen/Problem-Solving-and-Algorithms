{
 "cells": [
  {
   "cell_type": "markdown",
   "metadata": {},
   "source": [
    "## Binary Search\n",
    "\n",
    "### Basics\n",
    "\n",
    "> https://takeuforward.org/data-structure/binary-search-explained/\n",
    "---"
   ]
  },
  {
   "cell_type": "code",
   "execution_count": 1,
   "metadata": {},
   "outputs": [],
   "source": [
    "from loguru import logger"
   ]
  },
  {
   "cell_type": "code",
   "execution_count": 7,
   "metadata": {},
   "outputs": [],
   "source": [
    "def binary_search_iterative(arr: list, target: int) -> int:\n",
    "\n",
    "    # define initial search space\n",
    "    low = 0\n",
    "    high = len(arr) - 1\n",
    "\n",
    "    while low <= high:\n",
    "\n",
    "        mid = (low+high)//2\n",
    "\n",
    "        if arr[mid] == target:\n",
    "            return mid\n",
    "        elif arr[mid] > target:\n",
    "            # target will be to left if exists, make search space smaller\n",
    "            high = mid-1\n",
    "            mid = (low+high)//2\n",
    "        else:\n",
    "            # target will be to right if exists, make search space smaller\n",
    "            low = mid + 1\n",
    "            mid = (low+high)//2\n",
    "\n",
    "    return -1"
   ]
  },
  {
   "cell_type": "code",
   "execution_count": 9,
   "metadata": {},
   "outputs": [
    {
     "data": {
      "text/plain": [
       "7"
      ]
     },
     "execution_count": 9,
     "metadata": {},
     "output_type": "execute_result"
    }
   ],
   "source": [
    "binary_search_iterative([3,4,6,7,9,12,16,17], 17)"
   ]
  },
  {
   "cell_type": "code",
   "execution_count": null,
   "metadata": {},
   "outputs": [],
   "source": [
    "def binary_search_recursive(arr: list, low: int, high: int, target: int) -> int:\n",
    "\n",
    "    # base case\n",
    "    if low > high:\n",
    "        return -1\n",
    "\n",
    "    mid = (low+high)//2\n",
    "\n",
    "    if arr[mid] == target:\n",
    "        return mid\n",
    "    # search space becomes smaller - target will be to left if exists\n",
    "    elif arr[mid] > target:\n",
    "        return binary_search_recursive(arr, low, mid-1, target)\n",
    "    # search space becomes smaller - target will be to right if exists\n",
    "    else:\n",
    "        return binary_search_recursive(arr, mid+1, high, target)"
   ]
  },
  {
   "cell_type": "code",
   "execution_count": 12,
   "metadata": {},
   "outputs": [
    {
     "data": {
      "text/plain": [
       "2"
      ]
     },
     "execution_count": 12,
     "metadata": {},
     "output_type": "execute_result"
    }
   ],
   "source": [
    "arr = [3,4,6,7,9,12,16,17]\n",
    "binary_search_recursive(arr, 0, len(arr) -1 , 6)"
   ]
  },
  {
   "cell_type": "code",
   "execution_count": 13,
   "metadata": {},
   "outputs": [
    {
     "data": {
      "text/plain": [
       "7"
      ]
     },
     "execution_count": 13,
     "metadata": {},
     "output_type": "execute_result"
    }
   ],
   "source": [
    "binary_search_recursive(arr, 0, len(arr) -1 , 17)"
   ]
  },
  {
   "cell_type": "code",
   "execution_count": 14,
   "metadata": {},
   "outputs": [
    {
     "data": {
      "text/plain": [
       "0"
      ]
     },
     "execution_count": 14,
     "metadata": {},
     "output_type": "execute_result"
    }
   ],
   "source": [
    "binary_search_recursive(arr, 0, len(arr) -1 , 3)"
   ]
  },
  {
   "cell_type": "code",
   "execution_count": 15,
   "metadata": {},
   "outputs": [
    {
     "data": {
      "text/plain": [
       "-1"
      ]
     },
     "execution_count": 15,
     "metadata": {},
     "output_type": "execute_result"
    }
   ],
   "source": [
    "binary_search_recursive(arr, 0, len(arr) -1 , 22)"
   ]
  },
  {
   "cell_type": "markdown",
   "metadata": {},
   "source": [
    "### Implement Lower Bound\n",
    "\n",
    "> https://takeuforward.org/arrays/implement-lower-bound-bs-2/\n",
    "\n",
    "---\n",
    "\n",
    "The lower bound algorithm finds the first or the smallest index in a sorted array where the value at that index is greater than or equal to a given key i.e. x.\n",
    "\n",
    "The lower bound is the smallest index, ind, where arr[ind] >= x. But if any such index is not found, the lower bound algorithm returns n i.e. size of the given array."
   ]
  },
  {
   "cell_type": "code",
   "execution_count": null,
   "metadata": {},
   "outputs": [],
   "source": [
    "def find_lowerbound(arr: list, n: int) -> int:\n",
    "\n",
    "    low = 0\n",
    "    high = len(arr) - 1\n",
    "    answer = len(arr)\n",
    "\n",
    "    while low <= high:\n",
    "\n",
    "        mid = (low+high)//2\n",
    "\n",
    "        if arr[mid] >= n:\n",
    "            # found candidate answer, but better answer might be to left\n",
    "            answer = mid\n",
    "            high = mid - 1\n",
    "\n",
    "        else:\n",
    "            # candidate answer not found; need to go right\n",
    "            low = mid + 1\n",
    "\n",
    "    return answer"
   ]
  },
  {
   "cell_type": "code",
   "execution_count": 31,
   "metadata": {},
   "outputs": [
    {
     "data": {
      "text/plain": [
       "10"
      ]
     },
     "execution_count": 31,
     "metadata": {},
     "output_type": "execute_result"
    }
   ],
   "source": [
    "arr = [1,2,3,3,5,8,8,10,10,11]\n",
    "find_lowerbound(arr, 20)"
   ]
  },
  {
   "cell_type": "code",
   "execution_count": 32,
   "metadata": {},
   "outputs": [
    {
     "data": {
      "text/plain": [
       "7"
      ]
     },
     "execution_count": 32,
     "metadata": {},
     "output_type": "execute_result"
    }
   ],
   "source": [
    "find_lowerbound(arr, 9)"
   ]
  },
  {
   "cell_type": "code",
   "execution_count": 33,
   "metadata": {},
   "outputs": [
    {
     "data": {
      "text/plain": [
       "2"
      ]
     },
     "execution_count": 33,
     "metadata": {},
     "output_type": "execute_result"
    }
   ],
   "source": [
    "find_lowerbound(arr, 3)"
   ]
  },
  {
   "cell_type": "code",
   "execution_count": 34,
   "metadata": {},
   "outputs": [
    {
     "data": {
      "text/plain": [
       "0"
      ]
     },
     "execution_count": 34,
     "metadata": {},
     "output_type": "execute_result"
    }
   ],
   "source": [
    "find_lowerbound(arr, 0)"
   ]
  },
  {
   "cell_type": "code",
   "execution_count": 35,
   "metadata": {},
   "outputs": [],
   "source": [
    "def find_upperbound(arr: list, n: int) -> int:\n",
    "\n",
    "    low = 0\n",
    "    high = len(arr) - 1\n",
    "    answer = len(arr)\n",
    "\n",
    "    while low <= high:\n",
    "\n",
    "        mid = (low+high)//2\n",
    "\n",
    "        if arr[mid] > n:\n",
    "            # found candidate answer, but better answer might be to left\n",
    "            answer = mid\n",
    "            high = mid - 1\n",
    "\n",
    "        else:\n",
    "            # candidate answer not found; need to go right\n",
    "            low = mid + 1\n",
    "\n",
    "    return answer"
   ]
  },
  {
   "cell_type": "code",
   "execution_count": 36,
   "metadata": {},
   "outputs": [
    {
     "data": {
      "text/plain": [
       "9"
      ]
     },
     "execution_count": 36,
     "metadata": {},
     "output_type": "execute_result"
    }
   ],
   "source": [
    "arr = [1,2,3,3,5,8,8,10,10,11]\n",
    "find_upperbound(arr, 10)"
   ]
  },
  {
   "cell_type": "code",
   "execution_count": 37,
   "metadata": {},
   "outputs": [
    {
     "data": {
      "text/plain": [
       "7"
      ]
     },
     "execution_count": 37,
     "metadata": {},
     "output_type": "execute_result"
    }
   ],
   "source": [
    "find_upperbound(arr, 9)"
   ]
  },
  {
   "cell_type": "code",
   "execution_count": 38,
   "metadata": {},
   "outputs": [
    {
     "data": {
      "text/plain": [
       "1"
      ]
     },
     "execution_count": 38,
     "metadata": {},
     "output_type": "execute_result"
    }
   ],
   "source": [
    "find_upperbound(arr, 1)"
   ]
  },
  {
   "cell_type": "code",
   "execution_count": null,
   "metadata": {},
   "outputs": [
    {
     "data": {
      "text/plain": [
       "0"
      ]
     },
     "execution_count": 39,
     "metadata": {},
     "output_type": "execute_result"
    }
   ],
   "source": [
    "find_upperbound(arr, 0)"
   ]
  },
  {
   "cell_type": "code",
   "execution_count": 40,
   "metadata": {},
   "outputs": [
    {
     "data": {
      "text/plain": [
       "10"
      ]
     },
     "execution_count": 40,
     "metadata": {},
     "output_type": "execute_result"
    }
   ],
   "source": [
    "find_upperbound(arr, 100)"
   ]
  },
  {
   "cell_type": "markdown",
   "metadata": {},
   "source": [
    "### Find Floor and Ceiling\n",
    "\n",
    "> https://takeuforward.org/arrays/floor-and-ceil-in-sorted-array/\n",
    "\n",
    "---"
   ]
  },
  {
   "cell_type": "code",
   "execution_count": null,
   "metadata": {},
   "outputs": [],
   "source": [
    "def find_floor(arr: list, x: int) -> int:\n",
    "\n",
    "    answer = arr[0]\n",
    "    low = 0\n",
    "    high = len(arr)-1\n",
    "\n",
    "    while low <= high:\n",
    "        mid = (low+high)//2\n",
    "\n",
    "        if arr[mid] <= x:\n",
    "            # candidate answer found, better one might be to right as we want largest elem <= x\n",
    "            answer = arr[mid]\n",
    "            low = mid+1\n",
    "        else:\n",
    "            high = mid-1\n",
    "\n",
    "    return answer"
   ]
  },
  {
   "cell_type": "code",
   "execution_count": 48,
   "metadata": {},
   "outputs": [
    {
     "data": {
      "text/plain": [
       "1"
      ]
     },
     "execution_count": 48,
     "metadata": {},
     "output_type": "execute_result"
    }
   ],
   "source": [
    "arr = [1,2,2,4,6,8,9,9,10,11,12]\n",
    "\n",
    "find_floor(arr, 1)"
   ]
  },
  {
   "cell_type": "code",
   "execution_count": 49,
   "metadata": {},
   "outputs": [],
   "source": [
    "def find_ceil(arr: list, x: int) -> int:\n",
    "\n",
    "    answer = arr[-1]\n",
    "    low = 0\n",
    "    high = len(arr)-1\n",
    "\n",
    "    while low <= high:\n",
    "        mid = (low+high)//2\n",
    "\n",
    "        if arr[mid] >= x:\n",
    "            # candidate answer found, better one might be to left as we want smallest elem >= x\n",
    "            answer = arr[mid]\n",
    "            high = mid-1\n",
    "        else:\n",
    "            low = mid+1\n",
    "\n",
    "    return answer"
   ]
  },
  {
   "cell_type": "code",
   "execution_count": 51,
   "metadata": {},
   "outputs": [
    {
     "data": {
      "text/plain": [
       "6"
      ]
     },
     "execution_count": 51,
     "metadata": {},
     "output_type": "execute_result"
    }
   ],
   "source": [
    "arr = [1,2,2,4,6,8,9,9,10,11,12]\n",
    "\n",
    "find_ceil(arr, 5)"
   ]
  },
  {
   "cell_type": "code",
   "execution_count": null,
   "metadata": {},
   "outputs": [],
   "source": []
  }
 ],
 "metadata": {
  "kernelspec": {
   "display_name": "shaunak-dev",
   "language": "python",
   "name": "python3"
  },
  "language_info": {
   "codemirror_mode": {
    "name": "ipython",
    "version": 3
   },
   "file_extension": ".py",
   "mimetype": "text/x-python",
   "name": "python",
   "nbconvert_exporter": "python",
   "pygments_lexer": "ipython3",
   "version": "3.12.4"
  }
 },
 "nbformat": 4,
 "nbformat_minor": 2
}
