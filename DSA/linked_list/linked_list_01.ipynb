{
 "cells": [
  {
   "cell_type": "markdown",
   "metadata": {},
   "source": [
    "## Singly Linked Lists (SLL)\n",
    "\n",
    "\n",
    "To implement linked list we need 2 classes\n",
    "\n",
    "1. Node Class\n",
    "\n",
    "2. LinkedList Class\n"
   ]
  },
  {
   "cell_type": "code",
   "execution_count": 18,
   "metadata": {},
   "outputs": [],
   "source": [
    "from loguru import logger\n",
    "from typing import Union"
   ]
  },
  {
   "cell_type": "code",
   "execution_count": 27,
   "metadata": {},
   "outputs": [],
   "source": [
    "class Node:\n",
    "    def __init__(self, data, next=None) -> None:\n",
    "        self.data = data\n",
    "        self.next = None  # Pointer to next node, None by default\n",
    "\n",
    "    def __str__(self) -> str:\n",
    "        return f\"{self.data}\""
   ]
  },
  {
   "cell_type": "markdown",
   "metadata": {},
   "source": [
    "As we discussed, the Node class has two variables. data contains your specified value and nextElement is the pointer to the next element of the list.\n"
   ]
  },
  {
   "cell_type": "markdown",
   "metadata": {},
   "source": [
    "The linked list itself is a collection of Node objects which we defined above. To keep track of the list, we need a pointer to the first node in the list.\n",
    "\n",
    "This is where the principle of the head node comes in. The head does not contain any data and only points to the beginning of the list. This means that, for any operations on the list, we need to traverse it from the head (the start of the list) to reach our desired node in the list.\n",
    "\n",
    "The implementation of the LinkedList class is shown below:\n",
    "\n",
    "\n"
   ]
  },
  {
   "cell_type": "code",
   "execution_count": 49,
   "metadata": {},
   "outputs": [],
   "source": [
    "class LinkedList:\n",
    "    def __init__(self) -> None:\n",
    "        self.head = None # Pointer to first node\n",
    "\n",
    "    def get_head(self) -> Node:\n",
    "        return self.head\n",
    "    \n",
    "    def is_empty(self) -> bool:\n",
    "        return self.head is None\n",
    "    \n",
    "    def __str__(self) -> str:\n",
    "        result = []\n",
    "        curr_node = self.head\n",
    "\n",
    "        while curr_node:\n",
    "\n",
    "            result.append(str(curr_node.data))\n",
    "\n",
    "            curr_node = curr_node.next\n",
    "\n",
    "        return \" -> \".join(result)\n",
    "    \n",
    "    def __len__(self) -> int:\n",
    "        \n",
    "        if not self.head:\n",
    "            return 0\n",
    "        \n",
    "        LL_length = 0\n",
    "        curr_node = self.head\n",
    "        while curr_node:\n",
    "            LL_length += 1\n",
    "            curr_node = curr_node.next\n",
    "\n",
    "        return LL_length\n",
    "    \n",
    "    def insert_node_at_head(self, node: Union[int, Node]) -> None:\n",
    "        \"\"\"\n",
    "        Insert a node at the head of the LL\n",
    "        \"\"\"\n",
    "\n",
    "        if not isinstance(node, Node):\n",
    "            node = Node(data=node)\n",
    "\n",
    "        if not self.head:\n",
    "            self.head = node\n",
    "\n",
    "        else:\n",
    "            node.next = self.head\n",
    "            self.head = node\n",
    "            \n",
    "    def init_linked_list_from_array(self, arr: list) -> None:\n",
    "        \"\"\"\n",
    "        Initialize a new LL from an array\n",
    "        \"\"\"\n",
    "\n",
    "        logger.debug(f\"Initializing list from arr: {arr}\")\n",
    "        arr = reversed(arr)\n",
    "\n",
    "        for elem_ in arr:\n",
    "            elem_as_node = Node(data=elem_, next=None)\n",
    "            self.insert_node_at_head(elem_as_node)\n",
    "\n",
    "        logger.success(f\"List created: {self}\")\n",
    "\n",
    "\n",
    "    def insert_at_kth_position(self, node: Union[int, Node], k: int) -> None:\n",
    "        \"\"\"\n",
    "        Generic insert function\n",
    "        \"\"\"\n",
    "        if k==0:\n",
    "            self.insert_node_at_head(node)\n",
    "            return\n",
    "\n",
    "        if k >= len(self):\n",
    "            raise Exception(f\"k:{k} cannot be >= length of LL: {len(self)}\")\n",
    "\n",
    "        if not isinstance(node, Node):\n",
    "            node = Node(data=node)\n",
    "\n",
    "        i = self.head\n",
    "        j = self.head.next\n",
    "        \n",
    "\n",
    "        idx = 0\n",
    "        while idx < k:\n",
    "            i = i.next\n",
    "            j = j.next\n",
    "            idx += 1\n",
    "\n",
    "        logger.debug(i)\n",
    "\n",
    "        i.next = node\n",
    "        node.next = j\n",
    "\n",
    "        logger.debug(f\"After inserting node: {node} at idx: {k}: {self}\")\n",
    "        \n",
    "        return\n",
    "        \n",
    "    def delete_at_head(self) -> None:\n",
    "        \"\"\"\n",
    "        Delete head of list\n",
    "        \"\"\"\n",
    "\n",
    "        if not self.head:\n",
    "            logger.debug(\"empty list\")\n",
    "            return\n",
    "        \n",
    "        if not self.head.next:\n",
    "            self.head = None\n",
    "            return\n",
    "        \n",
    "        temp = self.head\n",
    "        self.head = temp.next\n",
    "        del temp\n",
    "\n",
    "    \n",
    "\n",
    "\n",
    "        \n",
    "        \n",
    "\n",
    "\n",
    "\n"
   ]
  },
  {
   "cell_type": "code",
   "execution_count": 51,
   "metadata": {},
   "outputs": [
    {
     "name": "stderr",
     "output_type": "stream",
     "text": [
      "\u001b[32m2024-05-27 00:15:00.561\u001b[0m | \u001b[34m\u001b[1mDEBUG   \u001b[0m | \u001b[36m__main__\u001b[0m:\u001b[36minit_linked_list_from_array\u001b[0m:\u001b[36m56\u001b[0m - \u001b[34m\u001b[1mInitializing list from arr: [1, 5, 3, 2]\u001b[0m\n",
      "\u001b[32m2024-05-27 00:15:00.562\u001b[0m | \u001b[32m\u001b[1mSUCCESS \u001b[0m | \u001b[36m__main__\u001b[0m:\u001b[36minit_linked_list_from_array\u001b[0m:\u001b[36m63\u001b[0m - \u001b[32m\u001b[1mList created: 1 -> 5 -> 3 -> 2\u001b[0m\n"
     ]
    }
   ],
   "source": [
    "linked_list = LinkedList()\n",
    "\n",
    "linked_list.init_linked_list_from_array([1,5,3,2])"
   ]
  },
  {
   "cell_type": "code",
   "execution_count": 52,
   "metadata": {},
   "outputs": [
    {
     "name": "stdout",
     "output_type": "stream",
     "text": [
      "10 -> 1 -> 5 -> 3 -> 2\n"
     ]
    }
   ],
   "source": [
    "linked_list.insert_node_at_head(10)\n",
    "\n",
    "print (linked_list)"
   ]
  },
  {
   "cell_type": "code",
   "execution_count": 54,
   "metadata": {},
   "outputs": [
    {
     "name": "stderr",
     "output_type": "stream",
     "text": [
      "\u001b[32m2024-05-27 00:15:06.445\u001b[0m | \u001b[34m\u001b[1mDEBUG   \u001b[0m | \u001b[36m__main__\u001b[0m:\u001b[36minsert_at_kth_position\u001b[0m:\u001b[36m88\u001b[0m - \u001b[34m\u001b[1m2\u001b[0m\n",
      "\u001b[32m2024-05-27 00:15:06.446\u001b[0m | \u001b[34m\u001b[1mDEBUG   \u001b[0m | \u001b[36m__main__\u001b[0m:\u001b[36minsert_at_kth_position\u001b[0m:\u001b[36m93\u001b[0m - \u001b[34m\u001b[1mAfter inserting node: 101 at idx: 4: 10 -> 1 -> 5 -> 3 -> 2 -> 101\u001b[0m\n"
     ]
    }
   ],
   "source": [
    "linked_list.insert_at_kth_position(101, 4)"
   ]
  },
  {
   "cell_type": "code",
   "execution_count": 40,
   "metadata": {},
   "outputs": [
    {
     "name": "stdout",
     "output_type": "stream",
     "text": [
      "101 -> 10 -> 1 -> 5 -> 3 -> 2\n"
     ]
    }
   ],
   "source": [
    "print (linked_list)"
   ]
  },
  {
   "cell_type": "markdown",
   "metadata": {},
   "source": []
  },
  {
   "cell_type": "markdown",
   "metadata": {},
   "source": []
  }
 ],
 "metadata": {
  "kernelspec": {
   "display_name": "shaunak_llm",
   "language": "python",
   "name": "python3"
  },
  "language_info": {
   "codemirror_mode": {
    "name": "ipython",
    "version": 3
   },
   "file_extension": ".py",
   "mimetype": "text/x-python",
   "name": "python",
   "nbconvert_exporter": "python",
   "pygments_lexer": "ipython3",
   "version": "3.10.10"
  }
 },
 "nbformat": 4,
 "nbformat_minor": 2
}
