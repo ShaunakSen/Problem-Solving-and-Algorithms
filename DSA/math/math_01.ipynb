{
 "cells": [
  {
   "cell_type": "markdown",
   "metadata": {},
   "source": [
    "### Palindrome number\n",
    "\n",
    "> https://leetcode.com/problems/palindrome-number/\n",
    "\n",
    "---"
   ]
  },
  {
   "cell_type": "code",
   "execution_count": 1,
   "metadata": {},
   "outputs": [],
   "source": [
    "def isPalindrome(x: int) -> bool:\n",
    "    \"\"\"\n",
    "    The idea is to keep 2 pointers\n",
    "    left and right\n",
    "    at any stage if numbers_list[left] != numbers_list[right]\n",
    "    - that means not palindrome\n",
    "    \"\"\"\n",
    "    numbers_list = list(str(x))\n",
    "    left, right = 0, len(numbers_list)-1\n",
    "\n",
    "    while left < right:\n",
    "        if numbers_list[left]!=numbers_list[right]:\n",
    "            return False\n",
    "        left += 1\n",
    "        right -= 1\n",
    "    \n",
    "    return True "
   ]
  },
  {
   "cell_type": "code",
   "execution_count": 5,
   "metadata": {},
   "outputs": [
    {
     "data": {
      "text/plain": [
       "(True, True, True, False)"
      ]
     },
     "execution_count": 5,
     "metadata": {},
     "output_type": "execute_result"
    }
   ],
   "source": [
    "isPalindrome(121), isPalindrome(222), isPalindrome(1), isPalindrome(6251)"
   ]
  },
  {
   "cell_type": "code",
   "execution_count": 18,
   "metadata": {},
   "outputs": [],
   "source": [
    "def reverse_number(x: int) -> int:\n",
    "\n",
    "    num_digits = 0\n",
    "    x_copy = x\n",
    "    rev_num = 0\n",
    "\n",
    "    while x_copy > 0:\n",
    "        num_digits += 1\n",
    "        x_copy = int(x_copy/10)\n",
    "\n",
    "    power_to_assign = num_digits-1\n",
    "\n",
    "    while x > 0:\n",
    "        last_significant_digit = x%10\n",
    "        x = int(x/10)\n",
    "        rev_num = rev_num + last_significant_digit*10**power_to_assign\n",
    "        power_to_assign = power_to_assign-1\n",
    "\n",
    "    print (rev_num)\n"
   ]
  },
  {
   "cell_type": "code",
   "execution_count": 20,
   "metadata": {},
   "outputs": [
    {
     "name": "stdout",
     "output_type": "stream",
     "text": [
      "0\n"
     ]
    }
   ],
   "source": [
    "reverse_number(123)"
   ]
  },
  {
   "cell_type": "code",
   "execution_count": 35,
   "metadata": {},
   "outputs": [],
   "source": [
    "def reverse_number(x: int) -> int:\n",
    "\n",
    "    \"\"\"\n",
    "    123: expected = 321\n",
    "\n",
    "    extract last no - 3 -> (0+3)*10 = 30\n",
    "    extract last no - 2 -> (30+2)*10 = 320\n",
    "     extract last no - 1 -> (320+1): dont multiply by 10 here\n",
    "    \"\"\"\n",
    "\n",
    "    if x == 0:\n",
    "        return x\n",
    "    \n",
    "    abs_x = abs(x)\n",
    "    rev_num = 0\n",
    "\n",
    "    while abs_x > 0:\n",
    "        last_significant_digit = abs_x%10\n",
    "        rev_num = rev_num + last_significant_digit\n",
    "        abs_x = int(abs_x/10)\n",
    "        if abs_x > 0:\n",
    "            rev_num = rev_num * 10\n",
    "\n",
    "    if x < 0:\n",
    "        return -rev_num\n",
    "    return rev_num"
   ]
  },
  {
   "cell_type": "code",
   "execution_count": 36,
   "metadata": {},
   "outputs": [
    {
     "data": {
      "text/plain": [
       "-3452"
      ]
     },
     "execution_count": 36,
     "metadata": {},
     "output_type": "execute_result"
    }
   ],
   "source": [
    "reverse_number(-2543)"
   ]
  }
 ],
 "metadata": {
  "kernelspec": {
   "display_name": "shaunak_llm",
   "language": "python",
   "name": "python3"
  },
  "language_info": {
   "codemirror_mode": {
    "name": "ipython",
    "version": 3
   },
   "file_extension": ".py",
   "mimetype": "text/x-python",
   "name": "python",
   "nbconvert_exporter": "python",
   "pygments_lexer": "ipython3",
   "version": "3.10.10"
  }
 },
 "nbformat": 4,
 "nbformat_minor": 2
}
