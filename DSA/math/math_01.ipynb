{
 "cells": [
  {
   "cell_type": "markdown",
   "metadata": {},
   "source": [
    "### Palindrome number\n",
    "\n",
    "> https://leetcode.com/problems/palindrome-number/\n",
    "\n",
    "---"
   ]
  },
  {
   "cell_type": "code",
   "execution_count": 1,
   "metadata": {},
   "outputs": [],
   "source": [
    "def isPalindrome(x: int) -> bool:\n",
    "    \"\"\"\n",
    "    The idea is to keep 2 pointers\n",
    "    left and right\n",
    "    at any stage if numbers_list[left] != numbers_list[right]\n",
    "    - that means not palindrome\n",
    "    \"\"\"\n",
    "    numbers_list = list(str(x))\n",
    "    left, right = 0, len(numbers_list)-1\n",
    "\n",
    "    while left < right:\n",
    "        if numbers_list[left]!=numbers_list[right]:\n",
    "            return False\n",
    "        left += 1\n",
    "        right -= 1\n",
    "    \n",
    "    return True "
   ]
  },
  {
   "cell_type": "code",
   "execution_count": 5,
   "metadata": {},
   "outputs": [
    {
     "data": {
      "text/plain": [
       "(True, True, True, False)"
      ]
     },
     "execution_count": 5,
     "metadata": {},
     "output_type": "execute_result"
    }
   ],
   "source": [
    "isPalindrome(121), isPalindrome(222), isPalindrome(1), isPalindrome(6251)"
   ]
  },
  {
   "cell_type": "code",
   "execution_count": 18,
   "metadata": {},
   "outputs": [],
   "source": [
    "def reverse_number(x: int) -> int:\n",
    "\n",
    "    num_digits = 0\n",
    "    x_copy = x\n",
    "    rev_num = 0\n",
    "\n",
    "    while x_copy > 0:\n",
    "        num_digits += 1\n",
    "        x_copy = int(x_copy/10)\n",
    "\n",
    "    power_to_assign = num_digits-1\n",
    "\n",
    "    while x > 0:\n",
    "        last_significant_digit = x%10\n",
    "        x = int(x/10)\n",
    "        rev_num = rev_num + last_significant_digit*10**power_to_assign\n",
    "        power_to_assign = power_to_assign-1\n",
    "\n",
    "    print (rev_num)\n"
   ]
  },
  {
   "cell_type": "code",
   "execution_count": 20,
   "metadata": {},
   "outputs": [
    {
     "name": "stdout",
     "output_type": "stream",
     "text": [
      "0\n"
     ]
    }
   ],
   "source": [
    "reverse_number(123)"
   ]
  },
  {
   "cell_type": "code",
   "execution_count": 35,
   "metadata": {},
   "outputs": [],
   "source": [
    "def reverse_number(x: int) -> int:\n",
    "\n",
    "    \"\"\"\n",
    "    123: expected = 321\n",
    "\n",
    "    extract last no - 3 -> (0+3)*10 = 30\n",
    "    extract last no - 2 -> (30+2)*10 = 320\n",
    "     extract last no - 1 -> (320+1): dont multiply by 10 here\n",
    "    \"\"\"\n",
    "\n",
    "    if x == 0:\n",
    "        return x\n",
    "    \n",
    "    abs_x = abs(x)\n",
    "    rev_num = 0\n",
    "\n",
    "    while abs_x > 0:\n",
    "        last_significant_digit = abs_x%10\n",
    "        rev_num = rev_num + last_significant_digit\n",
    "        abs_x = int(abs_x/10)\n",
    "        if abs_x > 0:\n",
    "            rev_num = rev_num * 10\n",
    "\n",
    "    if x < 0:\n",
    "        return -rev_num\n",
    "    return rev_num"
   ]
  },
  {
   "cell_type": "code",
   "execution_count": 36,
   "metadata": {},
   "outputs": [
    {
     "data": {
      "text/plain": [
       "-3452"
      ]
     },
     "execution_count": 36,
     "metadata": {},
     "output_type": "execute_result"
    }
   ],
   "source": [
    "reverse_number(-2543)"
   ]
  },
  {
   "cell_type": "markdown",
   "metadata": {},
   "source": []
  },
  {
   "cell_type": "code",
   "execution_count": 1,
   "metadata": {},
   "outputs": [],
   "source": [
    "def factorial(n):\n",
    "    if n <= 1:\n",
    "        return 1\n",
    "    return n * factorial(n-1)"
   ]
  },
  {
   "cell_type": "code",
   "execution_count": 13,
   "metadata": {},
   "outputs": [
    {
     "data": {
      "text/plain": [
       "3628800"
      ]
     },
     "execution_count": 13,
     "metadata": {},
     "output_type": "execute_result"
    }
   ],
   "source": [
    "factorial(10)"
   ]
  },
  {
   "cell_type": "code",
   "execution_count": 6,
   "metadata": {},
   "outputs": [
    {
     "data": {
      "text/plain": [
       "3"
      ]
     },
     "execution_count": 6,
     "metadata": {},
     "output_type": "execute_result"
    }
   ],
   "source": [
    "19//5"
   ]
  },
  {
   "cell_type": "code",
   "execution_count": 15,
   "metadata": {},
   "outputs": [],
   "source": [
    "import numpy as np"
   ]
  },
  {
   "cell_type": "code",
   "execution_count": 19,
   "metadata": {},
   "outputs": [
    {
     "data": {
      "text/plain": [
       "3.0"
      ]
     },
     "execution_count": 19,
     "metadata": {},
     "output_type": "execute_result"
    }
   ],
   "source": [
    "np.log(300)//np.log(5)"
   ]
  },
  {
   "cell_type": "code",
   "execution_count": 14,
   "metadata": {},
   "outputs": [
    {
     "data": {
      "text/plain": [
       "2"
      ]
     },
     "execution_count": 14,
     "metadata": {},
     "output_type": "execute_result"
    }
   ],
   "source": [
    "10//5"
   ]
  },
  {
   "cell_type": "code",
   "execution_count": 48,
   "metadata": {},
   "outputs": [
    {
     "name": "stdout",
     "output_type": "stream",
     "text": [
      "25\n",
      "5\n",
      "1\n",
      "0\n"
     ]
    },
    {
     "data": {
      "text/plain": [
       "3"
      ]
     },
     "execution_count": 48,
     "metadata": {},
     "output_type": "execute_result"
    }
   ],
   "source": [
    "num_fives_extracted = 0\n",
    "num = 125\n",
    "while num > 0:\n",
    "    num = num//5\n",
    "    num_fives_extracted+=1\n",
    "    print (num)\n",
    "\n",
    "num_fives_extracted-1"
   ]
  },
  {
   "cell_type": "code",
   "execution_count": 75,
   "metadata": {},
   "outputs": [],
   "source": [
    "def trailing_zeros_in_factorial(n: int) -> int:\n",
    "    if n < 5:\n",
    "        return 0\n",
    "    num_trailing_zeros = 0\n",
    "    for i in range(5, n+1):\n",
    "        num_fives_extracted = 0\n",
    "        if i%5 != 0:\n",
    "            continue\n",
    "        num = i\n",
    "        while num > 0:\n",
    "            if num %5 == 0:\n",
    "                num_fives_extracted+=1\n",
    "            num = num//5\n",
    "            \n",
    "\n",
    "        print (f\"No of 5s extracted from {i} is {num_fives_extracted}\")\n",
    "        num_trailing_zeros = num_trailing_zeros + num_fives_extracted\n",
    "\n",
    "    return num_trailing_zeros\n",
    "        "
   ]
  },
  {
   "cell_type": "code",
   "execution_count": 57,
   "metadata": {},
   "outputs": [
    {
     "name": "stdout",
     "output_type": "stream",
     "text": [
      "No of 5s extracted from 5 is 1\n",
      "No of 5s extracted from 10 is 1\n",
      "No of 5s extracted from 15 is 1\n",
      "No of 5s extracted from 5 is 1\n",
      "No of 5s extracted from 10 is 1\n",
      "No of 5s extracted from 15 is 1\n",
      "No of 5s extracted from 20 is 1\n",
      "No of 5s extracted from 25 is 2\n",
      "No of 5s extracted from 5 is 1\n",
      "No of 5s extracted from 10 is 1\n",
      "No of 5s extracted from 15 is 1\n",
      "No of 5s extracted from 20 is 1\n",
      "No of 5s extracted from 25 is 2\n",
      "No of 5s extracted from 30 is 2\n",
      "No of 5s extracted from 35 is 2\n",
      "No of 5s extracted from 40 is 2\n",
      "No of 5s extracted from 45 is 2\n"
     ]
    },
    {
     "data": {
      "text/plain": [
       "(0, 0, 3, 0, 6, 14)"
      ]
     },
     "execution_count": 57,
     "metadata": {},
     "output_type": "execute_result"
    }
   ],
   "source": [
    "# trailing_zeros_in_factorial(3), trailing_zeros_in_factorial(5), trailing_zeros_in_factorial(19), trailing_zeros_in_factorial(0), trailing_zeros_in_factorial(30), trailing_zeros_in_factorial(50)"
   ]
  },
  {
   "cell_type": "code",
   "execution_count": 78,
   "metadata": {},
   "outputs": [
    {
     "name": "stdout",
     "output_type": "stream",
     "text": [
      "No of 5s extracted from 5 is 1\n",
      "No of 5s extracted from 10 is 1\n",
      "No of 5s extracted from 15 is 1\n",
      "No of 5s extracted from 20 is 1\n",
      "No of 5s extracted from 25 is 2\n",
      "No of 5s extracted from 30 is 1\n",
      "No of 5s extracted from 35 is 1\n",
      "No of 5s extracted from 40 is 1\n",
      "No of 5s extracted from 45 is 1\n",
      "No of 5s extracted from 50 is 2\n",
      "No of 5s extracted from 55 is 1\n",
      "No of 5s extracted from 60 is 1\n",
      "No of 5s extracted from 65 is 1\n",
      "No of 5s extracted from 70 is 1\n",
      "No of 5s extracted from 75 is 2\n",
      "No of 5s extracted from 80 is 1\n",
      "No of 5s extracted from 85 is 1\n",
      "No of 5s extracted from 90 is 1\n",
      "No of 5s extracted from 95 is 1\n",
      "No of 5s extracted from 100 is 2\n",
      "No of 5s extracted from 105 is 1\n",
      "No of 5s extracted from 110 is 1\n",
      "No of 5s extracted from 115 is 1\n",
      "No of 5s extracted from 120 is 1\n",
      "No of 5s extracted from 125 is 3\n",
      "No of 5s extracted from 130 is 2\n",
      "No of 5s extracted from 135 is 2\n",
      "No of 5s extracted from 140 is 2\n",
      "No of 5s extracted from 145 is 2\n",
      "No of 5s extracted from 150 is 2\n",
      "No of 5s extracted from 155 is 1\n",
      "No of 5s extracted from 160 is 1\n",
      "No of 5s extracted from 165 is 1\n",
      "No of 5s extracted from 170 is 1\n",
      "No of 5s extracted from 175 is 2\n",
      "No of 5s extracted from 180 is 1\n",
      "No of 5s extracted from 185 is 1\n",
      "No of 5s extracted from 190 is 1\n",
      "No of 5s extracted from 195 is 1\n",
      "No of 5s extracted from 200 is 2\n"
     ]
    },
    {
     "data": {
      "text/plain": [
       "53"
      ]
     },
     "execution_count": 78,
     "metadata": {},
     "output_type": "execute_result"
    }
   ],
   "source": [
    "trailing_zeros_in_factorial(200)"
   ]
  },
  {
   "cell_type": "code",
   "execution_count": null,
   "metadata": {},
   "outputs": [],
   "source": []
  }
 ],
 "metadata": {
  "kernelspec": {
   "display_name": "shaunak_llm",
   "language": "python",
   "name": "python3"
  },
  "language_info": {
   "codemirror_mode": {
    "name": "ipython",
    "version": 3
   },
   "file_extension": ".py",
   "mimetype": "text/x-python",
   "name": "python",
   "nbconvert_exporter": "python",
   "pygments_lexer": "ipython3",
   "version": "3.10.10"
  }
 },
 "nbformat": 4,
 "nbformat_minor": 2
}
