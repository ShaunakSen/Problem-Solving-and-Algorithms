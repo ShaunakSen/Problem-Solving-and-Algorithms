{
 "cells": [
  {
   "cell_type": "markdown",
   "metadata": {},
   "source": [
    "### Palindrome number\n",
    "\n",
    "> https://leetcode.com/problems/palindrome-number/\n",
    "\n",
    "---"
   ]
  },
  {
   "cell_type": "code",
   "execution_count": 1,
   "metadata": {},
   "outputs": [],
   "source": [
    "def isPalindrome(x: int) -> bool:\n",
    "    \"\"\"\n",
    "    The idea is to keep 2 pointers\n",
    "    left and right\n",
    "    at any stage if numbers_list[left] != numbers_list[right]\n",
    "    - that means not palindrome\n",
    "    \"\"\"\n",
    "    numbers_list = list(str(x))\n",
    "    left, right = 0, len(numbers_list)-1\n",
    "\n",
    "    while left < right:\n",
    "        if numbers_list[left]!=numbers_list[right]:\n",
    "            return False\n",
    "        left += 1\n",
    "        right -= 1\n",
    "    \n",
    "    return True "
   ]
  },
  {
   "cell_type": "code",
   "execution_count": 2,
   "metadata": {},
   "outputs": [
    {
     "data": {
      "text/plain": [
       "(True, True, True, False)"
      ]
     },
     "execution_count": 2,
     "metadata": {},
     "output_type": "execute_result"
    }
   ],
   "source": [
    "isPalindrome(121), isPalindrome(222), isPalindrome(1), isPalindrome(6251)"
   ]
  },
  {
   "cell_type": "markdown",
   "metadata": {},
   "source": [
    "⸻\n",
    "\n",
    "🔁 Reversing a Number in Python\n",
    "\n",
    "Goal: Given a positive integer x, reverse its digits.\n",
    "\n",
    "Approach:\n",
    "\t1.\tCount digits – First, determine how many digits x has by dividing by 10 until it becomes 0.\n",
    "\t2.\tReconstruct reverse – Start from the last digit of x, multiply it by the appropriate power of 10 (based on its reversed position), and add it to the final result.\n",
    "\t3.\tRepeat the above until all digits are processed.\n",
    "\n",
    "⸻\n",
    "\n",
    "Example:\n",
    "\n",
    "```\n",
    "Input: x = 1234\n",
    "\n",
    "Steps:\n",
    "\t•\tNumber of digits = 4\n",
    "\t•\tReverse logic:\n",
    "\t•\tTake 4 → 4 * 10^3 = 4000\n",
    "\t•\tTake 3 → 3 * 10^2 = 300\n",
    "\t•\tTake 2 → 2 * 10^1 = 20\n",
    "\t•\tTake 1 → 1 * 10^0 = 1\n",
    "\t•\tFinal reversed number = 4000 + 300 + 20 + 1 = 4321\n",
    "```\n",
    "⸻\n",
    "\n",
    "Note: This code assumes that the input number is a positive integer. It prints the reversed number rather than returning it, which is fine for quick testing or learning."
   ]
  },
  {
   "cell_type": "code",
   "execution_count": null,
   "metadata": {},
   "outputs": [],
   "source": [
    "def reverse_number(x: int) -> int:\n",
    "    \"\"\"\n",
    "    Reverses the digits of a positive integer `x`.\n",
    "\n",
    "    Approach:\n",
    "    1. Count the number of digits in the input number.\n",
    "    2. Use that count to compute the reverse by multiplying each digit\n",
    "       by its new positional power of 10.\n",
    "    3. Print the reversed number.\n",
    "\n",
    "    Note: This version assumes x is a positive integer and is meant for learning purposes.\n",
    "    \"\"\"\n",
    "\n",
    "    num_digits = 0\n",
    "    x_copy = x           # Create a copy of x to calculate the number of digits\n",
    "    rev_num = 0          # This will hold the reversed number\n",
    "\n",
    "    # Count the number of digits in x\n",
    "    while x_copy > 0:\n",
    "        num_digits += 1\n",
    "        x_copy = int(x_copy / 10)\n",
    "\n",
    "    power_to_assign = num_digits - 1  # Highest power of 10 for the first digit in reverse\n",
    "\n",
    "    # Build the reversed number digit by digit\n",
    "    while x > 0:\n",
    "        last_significant_digit = x % 10       # Get the last digit\n",
    "        x = int(x / 10)                        # Remove the last digit\n",
    "        rev_num = rev_num + last_significant_digit * 10 ** power_to_assign  # Place digit at correct power\n",
    "        power_to_assign = power_to_assign - 1  # Decrease the power for the next digit\n",
    "\n",
    "    print(rev_num)"
   ]
  },
  {
   "cell_type": "code",
   "execution_count": 4,
   "metadata": {},
   "outputs": [
    {
     "name": "stdout",
     "output_type": "stream",
     "text": [
      "321\n"
     ]
    }
   ],
   "source": [
    "reverse_number(123)"
   ]
  },
  {
   "cell_type": "code",
   "execution_count": 35,
   "metadata": {},
   "outputs": [],
   "source": [
    "def reverse_number(x: int) -> int:\n",
    "\n",
    "    \"\"\"\n",
    "    123: expected = 321\n",
    "\n",
    "    extract last no - 3 -> (0+3)*10 = 30\n",
    "    extract last no - 2 -> (30+2)*10 = 320\n",
    "     extract last no - 1 -> (320+1): dont multiply by 10 here\n",
    "    \"\"\"\n",
    "\n",
    "    if x == 0:\n",
    "        return x\n",
    "    \n",
    "    abs_x = abs(x)\n",
    "    rev_num = 0\n",
    "\n",
    "    while abs_x > 0:\n",
    "        last_significant_digit = abs_x%10\n",
    "        rev_num = rev_num + last_significant_digit\n",
    "        abs_x = int(abs_x/10)\n",
    "        if abs_x > 0:\n",
    "            rev_num = rev_num * 10\n",
    "\n",
    "    if x < 0:\n",
    "        return -rev_num\n",
    "    return rev_num"
   ]
  },
  {
   "cell_type": "code",
   "execution_count": 36,
   "metadata": {},
   "outputs": [
    {
     "data": {
      "text/plain": [
       "-3452"
      ]
     },
     "execution_count": 36,
     "metadata": {},
     "output_type": "execute_result"
    }
   ],
   "source": [
    "reverse_number(-2543)"
   ]
  },
  {
   "cell_type": "markdown",
   "metadata": {},
   "source": []
  },
  {
   "cell_type": "code",
   "execution_count": 1,
   "metadata": {},
   "outputs": [],
   "source": [
    "def factorial(n):\n",
    "    if n <= 1:\n",
    "        return 1\n",
    "    return n * factorial(n-1)"
   ]
  },
  {
   "cell_type": "code",
   "execution_count": 13,
   "metadata": {},
   "outputs": [
    {
     "data": {
      "text/plain": [
       "3628800"
      ]
     },
     "execution_count": 13,
     "metadata": {},
     "output_type": "execute_result"
    }
   ],
   "source": [
    "factorial(10)"
   ]
  },
  {
   "cell_type": "code",
   "execution_count": 6,
   "metadata": {},
   "outputs": [
    {
     "data": {
      "text/plain": [
       "3"
      ]
     },
     "execution_count": 6,
     "metadata": {},
     "output_type": "execute_result"
    }
   ],
   "source": [
    "19//5"
   ]
  },
  {
   "cell_type": "code",
   "execution_count": 15,
   "metadata": {},
   "outputs": [],
   "source": [
    "import numpy as np"
   ]
  },
  {
   "cell_type": "code",
   "execution_count": 19,
   "metadata": {},
   "outputs": [
    {
     "data": {
      "text/plain": [
       "3.0"
      ]
     },
     "execution_count": 19,
     "metadata": {},
     "output_type": "execute_result"
    }
   ],
   "source": [
    "np.log(300)//np.log(5)"
   ]
  },
  {
   "cell_type": "code",
   "execution_count": 14,
   "metadata": {},
   "outputs": [
    {
     "data": {
      "text/plain": [
       "2"
      ]
     },
     "execution_count": 14,
     "metadata": {},
     "output_type": "execute_result"
    }
   ],
   "source": [
    "10//5"
   ]
  },
  {
   "cell_type": "code",
   "execution_count": 48,
   "metadata": {},
   "outputs": [
    {
     "name": "stdout",
     "output_type": "stream",
     "text": [
      "25\n",
      "5\n",
      "1\n",
      "0\n"
     ]
    },
    {
     "data": {
      "text/plain": [
       "3"
      ]
     },
     "execution_count": 48,
     "metadata": {},
     "output_type": "execute_result"
    }
   ],
   "source": [
    "num_fives_extracted = 0\n",
    "num = 125\n",
    "while num > 0:\n",
    "    num = num//5\n",
    "    num_fives_extracted+=1\n",
    "    print (num)\n",
    "\n",
    "num_fives_extracted-1"
   ]
  },
  {
   "cell_type": "code",
   "execution_count": 75,
   "metadata": {},
   "outputs": [],
   "source": [
    "def trailing_zeros_in_factorial(n: int) -> int:\n",
    "    if n < 5:\n",
    "        return 0\n",
    "    num_trailing_zeros = 0\n",
    "    for i in range(5, n+1):\n",
    "        num_fives_extracted = 0\n",
    "        if i%5 != 0:\n",
    "            continue\n",
    "        num = i\n",
    "        while num > 0:\n",
    "            if num %5 == 0:\n",
    "                num_fives_extracted+=1\n",
    "            num = num//5\n",
    "            \n",
    "\n",
    "        print (f\"No of 5s extracted from {i} is {num_fives_extracted}\")\n",
    "        num_trailing_zeros = num_trailing_zeros + num_fives_extracted\n",
    "\n",
    "    return num_trailing_zeros\n",
    "        "
   ]
  },
  {
   "cell_type": "code",
   "execution_count": 57,
   "metadata": {},
   "outputs": [
    {
     "name": "stdout",
     "output_type": "stream",
     "text": [
      "No of 5s extracted from 5 is 1\n",
      "No of 5s extracted from 10 is 1\n",
      "No of 5s extracted from 15 is 1\n",
      "No of 5s extracted from 5 is 1\n",
      "No of 5s extracted from 10 is 1\n",
      "No of 5s extracted from 15 is 1\n",
      "No of 5s extracted from 20 is 1\n",
      "No of 5s extracted from 25 is 2\n",
      "No of 5s extracted from 5 is 1\n",
      "No of 5s extracted from 10 is 1\n",
      "No of 5s extracted from 15 is 1\n",
      "No of 5s extracted from 20 is 1\n",
      "No of 5s extracted from 25 is 2\n",
      "No of 5s extracted from 30 is 2\n",
      "No of 5s extracted from 35 is 2\n",
      "No of 5s extracted from 40 is 2\n",
      "No of 5s extracted from 45 is 2\n"
     ]
    },
    {
     "data": {
      "text/plain": [
       "(0, 0, 3, 0, 6, 14)"
      ]
     },
     "execution_count": 57,
     "metadata": {},
     "output_type": "execute_result"
    }
   ],
   "source": [
    "# trailing_zeros_in_factorial(3), trailing_zeros_in_factorial(5), trailing_zeros_in_factorial(19), trailing_zeros_in_factorial(0), trailing_zeros_in_factorial(30), trailing_zeros_in_factorial(50)"
   ]
  },
  {
   "cell_type": "code",
   "execution_count": 78,
   "metadata": {},
   "outputs": [
    {
     "name": "stdout",
     "output_type": "stream",
     "text": [
      "No of 5s extracted from 5 is 1\n",
      "No of 5s extracted from 10 is 1\n",
      "No of 5s extracted from 15 is 1\n",
      "No of 5s extracted from 20 is 1\n",
      "No of 5s extracted from 25 is 2\n",
      "No of 5s extracted from 30 is 1\n",
      "No of 5s extracted from 35 is 1\n",
      "No of 5s extracted from 40 is 1\n",
      "No of 5s extracted from 45 is 1\n",
      "No of 5s extracted from 50 is 2\n",
      "No of 5s extracted from 55 is 1\n",
      "No of 5s extracted from 60 is 1\n",
      "No of 5s extracted from 65 is 1\n",
      "No of 5s extracted from 70 is 1\n",
      "No of 5s extracted from 75 is 2\n",
      "No of 5s extracted from 80 is 1\n",
      "No of 5s extracted from 85 is 1\n",
      "No of 5s extracted from 90 is 1\n",
      "No of 5s extracted from 95 is 1\n",
      "No of 5s extracted from 100 is 2\n",
      "No of 5s extracted from 105 is 1\n",
      "No of 5s extracted from 110 is 1\n",
      "No of 5s extracted from 115 is 1\n",
      "No of 5s extracted from 120 is 1\n",
      "No of 5s extracted from 125 is 3\n",
      "No of 5s extracted from 130 is 2\n",
      "No of 5s extracted from 135 is 2\n",
      "No of 5s extracted from 140 is 2\n",
      "No of 5s extracted from 145 is 2\n",
      "No of 5s extracted from 150 is 2\n",
      "No of 5s extracted from 155 is 1\n",
      "No of 5s extracted from 160 is 1\n",
      "No of 5s extracted from 165 is 1\n",
      "No of 5s extracted from 170 is 1\n",
      "No of 5s extracted from 175 is 2\n",
      "No of 5s extracted from 180 is 1\n",
      "No of 5s extracted from 185 is 1\n",
      "No of 5s extracted from 190 is 1\n",
      "No of 5s extracted from 195 is 1\n",
      "No of 5s extracted from 200 is 2\n"
     ]
    },
    {
     "data": {
      "text/plain": [
       "53"
      ]
     },
     "execution_count": 78,
     "metadata": {},
     "output_type": "execute_result"
    }
   ],
   "source": [
    "trailing_zeros_in_factorial(200)"
   ]
  },
  {
   "cell_type": "markdown",
   "metadata": {},
   "source": [
    "### Check if number is prime or not\n",
    "\n",
    "> https://www.jointaro.com/course/crash-course-data-structures-and-algorithms-concepts/is-prime-walkthrough/\n",
    "\n",
    "Logic: Only check till sqrt(n)\n",
    "\n",
    "Any number for t to be a facor will be of for `num = a.b`\n",
    "\n",
    "max value that a can take before we start repeating the factors is `sqrt(num)`"
   ]
  },
  {
   "cell_type": "code",
   "execution_count": 1,
   "metadata": {},
   "outputs": [],
   "source": [
    "import math"
   ]
  },
  {
   "cell_type": "code",
   "execution_count": 4,
   "metadata": {},
   "outputs": [
    {
     "data": {
      "text/plain": [
       "3"
      ]
     },
     "execution_count": 4,
     "metadata": {},
     "output_type": "execute_result"
    }
   ],
   "source": [
    "int(math.sqrt(12))"
   ]
  },
  {
   "cell_type": "code",
   "execution_count": 13,
   "metadata": {},
   "outputs": [],
   "source": [
    "def check_if_prime(num: int) -> bool:\n",
    "\n",
    "    if num < 2:\n",
    "        return False\n",
    "\n",
    "    for possible_factor_ in range(2, int(math.sqrt(num))+1):\n",
    "        if num%possible_factor_ == 0:\n",
    "            return False\n",
    "        \n",
    "    return True\n"
   ]
  },
  {
   "cell_type": "code",
   "execution_count": 14,
   "metadata": {},
   "outputs": [
    {
     "data": {
      "text/plain": [
       "(True, False)"
      ]
     },
     "execution_count": 14,
     "metadata": {},
     "output_type": "execute_result"
    }
   ],
   "source": [
    "check_if_prime(7), check_if_prime(64)"
   ]
  },
  {
   "cell_type": "markdown",
   "metadata": {},
   "source": [
    "### Trailing Zeros in Factorial\n",
    "\n",
    "> https://leetcode.com/problems/factorial-trailing-zeroes/description/\n",
    "\n",
    "---"
   ]
  },
  {
   "cell_type": "markdown",
   "metadata": {},
   "source": [
    "\n",
    "📝 Quick Revision Note: Trailing Zeroes in Factorial\n",
    "\n",
    "Concept:\n",
    "Trailing zeroes in N! (N factorial) come from factors of 10, and each 10 = 2 × 5. Since factorials have more 2s than 5s, we only need to count how many times 5 appears as a factor.\n",
    "\n",
    "Approach in this code:\n",
    "\t•\tGo through each number i from 1 to N.\n",
    "\t•\tIf i is divisible by 5, count how many times 5, 25, 125, etc., divide it.\n",
    "\t•\tSum all such occurrences across all numbers.\n",
    "\n",
    "⸻\n",
    "\n",
    "Example:\n",
    "\n",
    "```\n",
    "Input: N = 10\n",
    "Factorial: 10! = 3628800\n",
    "Trailing zeroes: 2\n",
    "\t•\t5 → contributes one 5\n",
    "\t•\t10 → contributes one more 5\n",
    "Total = 2 trailing zeroes\n",
    "```\n",
    "⸻"
   ]
  },
  {
   "cell_type": "code",
   "execution_count": 5,
   "metadata": {},
   "outputs": [],
   "source": [
    "import math"
   ]
  },
  {
   "cell_type": "code",
   "execution_count": null,
   "metadata": {},
   "outputs": [],
   "source": [
    "def trailingZeroes(N: int) -> int:\n",
    "    \"\"\"\n",
    "    Counts the number of trailing zeroes in N!\n",
    "    \n",
    "    Trailing zeroes in a factorial are created by multiplying 2s and 5s,\n",
    "    and since there are more 2s than 5s in a factorial, the count of 5s determines\n",
    "    the number of trailing zeroes.\n",
    "    \n",
    "    Approach:\n",
    "    - Iterate from 1 to N.\n",
    "    - For each number divisible by 5, count how many times 5 is a factor.\n",
    "    - Accumulate the count of 5s across all numbers up to N.\n",
    "    \n",
    "    Note: This is a learning version using brute force with logs. \n",
    "    There are more efficient ways for large N.\n",
    "    \"\"\"\n",
    "\n",
    "    num_5s = 0  # Total count of 5s as prime factors in numbers from 1 to N\n",
    "\n",
    "    if N < 5:\n",
    "        return 0\n",
    "    # only check in intervals of 5\n",
    "    for i in range(5, N + 1, 5):\n",
    "        if i > N:\n",
    "            return num_5s\n",
    "        \n",
    "        # Maximum power of 5 that could divide i (log base 5 of i)\n",
    "        max_num_5_in_i = int(math.log(i) // math.log(5))\n",
    "        num_5_in_i = 0\n",
    "\n",
    "        # Count how many times i is divisible by 5, 25, 125, etc.\n",
    "        for j in range(1, max_num_5_in_i + 1):\n",
    "            if i % (5 ** j) == 0:\n",
    "                num_5_in_i += 1\n",
    "\n",
    "        num_5s += num_5_in_i  # Add to total count\n",
    "\n",
    "    return num_5s"
   ]
  },
  {
   "cell_type": "code",
   "execution_count": 37,
   "metadata": {},
   "outputs": [
    {
     "data": {
      "text/plain": [
       "62"
      ]
     },
     "execution_count": 37,
     "metadata": {},
     "output_type": "execute_result"
    }
   ],
   "source": [
    "trailingZeroes(251)"
   ]
  },
  {
   "cell_type": "code",
   "execution_count": null,
   "metadata": {},
   "outputs": [],
   "source": []
  }
 ],
 "metadata": {
  "kernelspec": {
   "display_name": "shaunak-dev",
   "language": "python",
   "name": "python3"
  },
  "language_info": {
   "codemirror_mode": {
    "name": "ipython",
    "version": 3
   },
   "file_extension": ".py",
   "mimetype": "text/x-python",
   "name": "python",
   "nbconvert_exporter": "python",
   "pygments_lexer": "ipython3",
   "version": "3.12.4"
  }
 },
 "nbformat": 4,
 "nbformat_minor": 2
}
