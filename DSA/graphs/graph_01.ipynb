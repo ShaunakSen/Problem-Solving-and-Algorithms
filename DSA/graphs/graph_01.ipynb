{
 "cells": [
  {
   "cell_type": "markdown",
   "id": "2971c510",
   "metadata": {},
   "source": [
    "## Graphs\n",
    "\n",
    "> https://www.youtube.com/playlist?list=PL_z_8CaSLPWcn5bKG8UMI0St2D5EmQszx\n",
    "\n",
    "---"
   ]
  },
  {
   "cell_type": "code",
   "execution_count": 7,
   "id": "e2d34df4",
   "metadata": {},
   "outputs": [],
   "source": [
    "from typing import List\n",
    "import sys\n",
    "\n",
    "import networkx as nx\n",
    "import matplotlib.pyplot as plt\n",
    "from collections import deque"
   ]
  },
  {
   "cell_type": "markdown",
   "id": "b6e2c5dd",
   "metadata": {},
   "source": [
    "### Basic Implementation"
   ]
  },
  {
   "cell_type": "code",
   "execution_count": 36,
   "id": "b29395f0",
   "metadata": {},
   "outputs": [],
   "source": [
    "from typing import List, Tuple, Dict, Optional\n",
    "\n",
    "class Graph:\n",
    "    \"\"\"\n",
    "    A class to represent an undirected graph using an edge list, adjacency matrix, and adjacency list.\n",
    "\n",
    "    Attributes:\n",
    "        edgelist (list): List of edges where each edge is represented as a tuple (a, b).\n",
    "        nodeslist (list): List of unique nodes in the graph.\n",
    "        adjacency_matrix (list[list]): Adjacency matrix representation of the graph.\n",
    "        adjacency_list (dict): Adjacency list representation of the graph.\n",
    "    \"\"\"\n",
    "\n",
    "    def __init__(self, edgelist: List[Tuple[int, int]]):\n",
    "        \"\"\"\n",
    "        Initializes the Graph object with an edge list.\n",
    "\n",
    "        Args:\n",
    "            edgelist (list): List of edges where each edge is represented as a tuple (a, b).\n",
    "        \"\"\"\n",
    "        self.edgelist = edgelist\n",
    "        self.nodeslist = []  # Stores unique nodes in the graph\n",
    "        self.adjacency_matrix = None  # Adjacency matrix representation\n",
    "        self.adjacency_list = {}  # Adjacency list representation\n",
    "\n",
    "    def get_unique_nodes(self) -> List[int]:\n",
    "        \"\"\"\n",
    "        Extracts and returns a list of unique nodes from the edge list.\n",
    "\n",
    "        Returns:\n",
    "            list: A list of unique nodes in the graph.\n",
    "        \"\"\"\n",
    "        nodes = set()  # Use a set to avoid duplicates\n",
    "\n",
    "        # Iterate through the edge list and add nodes to the set\n",
    "        for (a, b) in self.edgelist:\n",
    "            nodes.add(a)\n",
    "            nodes.add(b)\n",
    "\n",
    "        # Convert the set to a list and store it in the nodeslist attribute\n",
    "        self.nodeslist = list(nodes)\n",
    "        return self.nodeslist\n",
    "\n",
    "    def print_graph(self) -> None:\n",
    "        \"\"\"\n",
    "        Prints the graph by iterating through the adjacency matrix.\n",
    "        Each edge is printed as \"Node X: Neighbor: Y\".\n",
    "\n",
    "        Note:\n",
    "            This method assumes that the adjacency matrix has already been constructed.\n",
    "        \"\"\"\n",
    "        if not self.adjacency_matrix:\n",
    "            print(\"Adjacency matrix is empty. Construct it first.\")\n",
    "            return\n",
    "\n",
    "        # Iterate through the adjacency matrix and print edges\n",
    "        for row_idx, row in enumerate(self.adjacency_matrix):\n",
    "            for col_idx, col in enumerate(row):\n",
    "                if col == 1:  # If there's an edge between row_idx and col_idx\n",
    "                    print(f\"Node {row_idx}: Neighbor: {col_idx}\")\n",
    "\n",
    "    def display_adjacency_matrix(self) -> None:\n",
    "        \"\"\"\n",
    "        Displays the adjacency matrix in a readable format.\n",
    "\n",
    "        Note:\n",
    "            This method assumes that the adjacency matrix has already been constructed.\n",
    "        \"\"\"\n",
    "        if not self.adjacency_matrix:\n",
    "            print(\"Adjacency matrix is empty. Construct it first.\")\n",
    "            return\n",
    "\n",
    "        # Print each row of the adjacency matrix\n",
    "        for row in self.adjacency_matrix:\n",
    "            print(\" \".join(map(str, row)))\n",
    "\n",
    "    def construct_adjacency_matrix(self) -> List[List[int]]:\n",
    "        \"\"\"\n",
    "        Constructs the adjacency matrix representation of the graph.\n",
    "\n",
    "        Returns:\n",
    "            list[list]: The adjacency matrix of the graph.\n",
    "        \"\"\"\n",
    "        if not self.edgelist:\n",
    "            return None\n",
    "\n",
    "        # Get the number of unique nodes\n",
    "        num_nodes = len(self.get_unique_nodes())\n",
    "\n",
    "        # Initialize a square matrix with all zeros\n",
    "        matrix = [[0 for _ in range(num_nodes + 1)] for _ in range(num_nodes + 1)]\n",
    "\n",
    "        # Populate the adjacency matrix based on the edge list\n",
    "        for a, b in self.edgelist:\n",
    "            matrix[a][b] = 1  # Mark the edge from a to b\n",
    "            matrix[b][a] = 1  # Mark the edge from b to a (undirected graph)\n",
    "\n",
    "        # Store the matrix in the adjacency_matrix attribute\n",
    "        self.adjacency_matrix = matrix\n",
    "        return self.adjacency_matrix\n",
    "\n",
    "    def construct_adjacency_list(self) -> Dict[str, set]:\n",
    "        \"\"\"\n",
    "        Constructs the adjacency list representation of the graph.\n",
    "\n",
    "        Returns:\n",
    "            dict: The adjacency list of the graph where keys are node names (as strings)\n",
    "                  and values are sets of neighboring nodes.\n",
    "        \"\"\"\n",
    "        if not self.edgelist:\n",
    "            return {}\n",
    "\n",
    "        # Iterate through the edge list and populate the adjacency list\n",
    "        for a, b in self.edgelist:\n",
    "            str_a, str_b = str(a), str(b)  # Convert nodes to strings for dictionary keys\n",
    "\n",
    "            # Add b to the neighbors of a\n",
    "            if str_a in self.adjacency_list:\n",
    "                self.adjacency_list[str_a].add(str_b)\n",
    "            else:\n",
    "                self.adjacency_list[str_a] = {str_b}\n",
    "\n",
    "            # Add a to the neighbors of b\n",
    "            if str_b in self.adjacency_list:\n",
    "                self.adjacency_list[str_b].add(str_a)\n",
    "            else:\n",
    "                self.adjacency_list[str_b] = {str_a}\n",
    "\n",
    "        return self.adjacency_list"
   ]
  },
  {
   "cell_type": "code",
   "execution_count": null,
   "id": "0383412b",
   "metadata": {},
   "outputs": [],
   "source": [
    "edgelist = [\n",
    "    (1,2), (2,3), (3,4), (4,2), (1,3)\n",
    "] # list of edges\n",
    "graph = Graph(edgelist=edgelist)"
   ]
  },
  {
   "cell_type": "code",
   "execution_count": 38,
   "id": "bc9b63c2",
   "metadata": {},
   "outputs": [],
   "source": [
    "matrix = graph.construct_adjacency_matrix()"
   ]
  },
  {
   "cell_type": "code",
   "execution_count": 39,
   "id": "cc28ebe9",
   "metadata": {},
   "outputs": [
    {
     "data": {
      "text/plain": [
       "[[0, 0, 0, 0, 0],\n",
       " [0, 0, 1, 1, 0],\n",
       " [0, 1, 0, 1, 1],\n",
       " [0, 1, 1, 0, 1],\n",
       " [0, 0, 1, 1, 0]]"
      ]
     },
     "execution_count": 39,
     "metadata": {},
     "output_type": "execute_result"
    }
   ],
   "source": [
    "matrix"
   ]
  },
  {
   "cell_type": "code",
   "execution_count": 40,
   "id": "0f796f4d",
   "metadata": {},
   "outputs": [
    {
     "name": "stdout",
     "output_type": "stream",
     "text": [
      "Node 1: Neighbor: 2\n",
      "Node 1: Neighbor: 3\n",
      "Node 2: Neighbor: 1\n",
      "Node 2: Neighbor: 3\n",
      "Node 2: Neighbor: 4\n",
      "Node 3: Neighbor: 1\n",
      "Node 3: Neighbor: 2\n",
      "Node 3: Neighbor: 4\n",
      "Node 4: Neighbor: 2\n",
      "Node 4: Neighbor: 3\n"
     ]
    }
   ],
   "source": [
    "graph.print_graph()"
   ]
  },
  {
   "cell_type": "code",
   "execution_count": 41,
   "id": "cf8c274d",
   "metadata": {},
   "outputs": [],
   "source": [
    "adjacency_list = graph.construct_adjacency_list()"
   ]
  },
  {
   "cell_type": "code",
   "execution_count": 42,
   "id": "36c3ceb6",
   "metadata": {},
   "outputs": [
    {
     "data": {
      "text/plain": [
       "{'1': {'2', '3'}, '2': {'1', '3', '4'}, '3': {'1', '2', '4'}, '4': {'2', '3'}}"
      ]
     },
     "execution_count": 42,
     "metadata": {},
     "output_type": "execute_result"
    }
   ],
   "source": [
    "adjacency_list"
   ]
  },
  {
   "cell_type": "code",
   "execution_count": 45,
   "id": "eb85ca03",
   "metadata": {},
   "outputs": [
    {
     "data": {
      "text/plain": [
       "[2, 4]"
      ]
     },
     "execution_count": 45,
     "metadata": {},
     "output_type": "execute_result"
    }
   ],
   "source": [
    "x = [1,2,4]\n",
    "\n",
    "x.pop(0)\n",
    "\n",
    "x"
   ]
  },
  {
   "cell_type": "markdown",
   "id": "4a043753",
   "metadata": {},
   "source": [
    "### BFS"
   ]
  },
  {
   "cell_type": "markdown",
   "id": "517284e9",
   "metadata": {},
   "source": [
    "__Algorithm__:\n",
    "\n"
   ]
  },
  {
   "cell_type": "code",
   "execution_count": 103,
   "id": "ee443395",
   "metadata": {},
   "outputs": [],
   "source": [
    "class Queue:\n",
    "\n",
    "    def __init__(self):\n",
    "        self.queue = []\n",
    "\n",
    "    def pop(self) -> int:\n",
    "        if not self.queue:\n",
    "            return None\n",
    "        \n",
    "        return self.queue.pop(0)\n",
    "\n",
    "    def push(self, elem: int):\n",
    "        self.queue.append(elem)\n",
    "\n",
    "    def __repr__(self):\n",
    "        return str(self.queue)\n",
    "    \n",
    "    def is_empty(self):\n",
    "        return len(self.queue) == 0\n"
   ]
  },
  {
   "cell_type": "code",
   "execution_count": 104,
   "id": "f0a60962",
   "metadata": {},
   "outputs": [
    {
     "name": "stdout",
     "output_type": "stream",
     "text": [
      "[4, 1, 2, 3]\n"
     ]
    }
   ],
   "source": [
    "queue = Queue()\n",
    "\n",
    "queue.push(4)\n",
    "queue.push(1)\n",
    "queue.push(2)\n",
    "queue.push(3)\n",
    "\n",
    "print (queue)"
   ]
  },
  {
   "cell_type": "code",
   "execution_count": 105,
   "id": "a1142ec3",
   "metadata": {},
   "outputs": [
    {
     "data": {
      "text/plain": [
       "True"
      ]
     },
     "execution_count": 105,
     "metadata": {},
     "output_type": "execute_result"
    }
   ],
   "source": [
    "queue = Queue()\n",
    "\n",
    "queue.is_empty()"
   ]
  },
  {
   "cell_type": "code",
   "execution_count": 48,
   "id": "0e7727f5",
   "metadata": {},
   "outputs": [
    {
     "data": {
      "text/plain": [
       "4"
      ]
     },
     "execution_count": 48,
     "metadata": {},
     "output_type": "execute_result"
    }
   ],
   "source": [
    "queue.pop()"
   ]
  },
  {
   "cell_type": "code",
   "execution_count": 49,
   "id": "dfa4daf1",
   "metadata": {},
   "outputs": [
    {
     "data": {
      "text/plain": [
       "1"
      ]
     },
     "execution_count": 49,
     "metadata": {},
     "output_type": "execute_result"
    }
   ],
   "source": [
    "queue.pop()"
   ]
  },
  {
   "cell_type": "code",
   "execution_count": 50,
   "id": "ce7170d7",
   "metadata": {},
   "outputs": [
    {
     "name": "stdout",
     "output_type": "stream",
     "text": [
      "[2, 3]\n"
     ]
    }
   ],
   "source": [
    "print (queue)"
   ]
  },
  {
   "cell_type": "code",
   "execution_count": 129,
   "id": "9ef26479",
   "metadata": {},
   "outputs": [],
   "source": [
    "def bfs(g: Graph, src_node: int) -> list:\n",
    "    \"\"\"\n",
    "    Perform BFS traversal on a graph starting from src_node.\n",
    "    Uses a custom Queue class for managing traversal.\n",
    "    Returns a list of nodes in the order they are visited.\n",
    "    \"\"\"\n",
    "\n",
    "    # Step 1: Get adjacency list from graph\n",
    "    g_adjacency_list = g.construct_adjacency_list()\n",
    "\n",
    "    visited = set()    # Keeps track of visited nodes\n",
    "    output = []        # Stores BFS traversal result\n",
    "\n",
    "    queue = Queue()\n",
    "    queue.push(src_node)  # Initialize with the source node\n",
    "    visited.add(src_node)\n",
    "\n",
    "    # Step 2: Process nodes level by level using the queue\n",
    "    while not queue.is_empty():\n",
    "\n",
    "        node = queue.pop()\n",
    "        output.append(node)  # Visit the current node\n",
    "\n",
    "        # Step 3: Traverse neighbors of the current node\n",
    "        for neighbor_ in g_adjacency_list[str(node)]:\n",
    "\n",
    "            if int(neighbor_) not in visited:\n",
    "                visited.add(int(neighbor_))     # Mark neighbor as visited\n",
    "                queue.push(int(neighbor_))      # Add neighbor to queue\n",
    "\n",
    "    return output"
   ]
  },
  {
   "cell_type": "markdown",
   "id": "323c89f2",
   "metadata": {},
   "source": [
    "```\n",
    "Dry Run for Input src_node = 0\n",
    "\n",
    "With:\n",
    "\n",
    "edgelist = [(1, 0), (0, 5), (0, 2), (2, 3), (3, 4)]\n",
    "\n",
    "Adjacency List (undirected graph):\n",
    "\n",
    "{\n",
    "  0: [1, 5, 2],\n",
    "  1: [0],\n",
    "  5: [0],\n",
    "  2: [0, 3],\n",
    "  3: [2, 4],\n",
    "  4: [3]\n",
    "}\n",
    "\n",
    "\n",
    "\n",
    "⸻\n",
    "\n",
    "🔄 Step-by-Step BFS Execution\n",
    "\t•\tStart: queue = [0], visited = {}, output = []\n",
    "\n",
    "\t1.\tPop 0 → output = [0]\n",
    "Neighbors = [1, 5, 2] → enqueue all\n",
    "queue = [1, 5, 2], visited = {1, 5, 2}\n",
    "\t2.\tPop 1 → output = [0, 1]\n",
    "Neighbors = [0] → already visited\n",
    "queue = [5, 2]\n",
    "\t3.\tPop 5 → output = [0, 1, 5]\n",
    "Neighbors = [0] → already visited\n",
    "queue = [2]\n",
    "\t4.\tPop 2 → output = [0, 1, 5, 2]\n",
    "Neighbors = [0, 3] → 3 is unvisited → enqueue\n",
    "queue = [3], visited = {1, 2, 3, 5}\n",
    "\t5.\tPop 3 → output = [0, 1, 5, 2, 3]\n",
    "Neighbors = [2, 4] → 4 is unvisited → enqueue\n",
    "queue = [4], visited = {1, 2, 3, 4, 5}\n",
    "\t6.\tPop 4 → output = [0, 1, 5, 2, 3, 4]\n",
    "Neighbors = [3] → already visited\n",
    "queue = [] → end\n",
    "\n",
    "⸻\n",
    "\n",
    "✅ Final Output:\n",
    "\n",
    "[0, 1, 5, 2, 3, 4]\n",
    "\n",
    "```\n"
   ]
  },
  {
   "cell_type": "code",
   "execution_count": 145,
   "id": "7e568370",
   "metadata": {},
   "outputs": [],
   "source": [
    "def visualize_graph(edgelist: list):\n",
    "    G = nx.Graph()\n",
    "    G.add_edges_from(edgelist)\n",
    "\n",
    "    # Draw the graph\n",
    "    plt.figure(figsize=(4, 4))\n",
    "    pos = nx.planar_layout(G)  # positions nodes for visual clarity\n",
    "    nx.draw(G, pos, with_labels=True, node_color='skyblue', node_size=1000, font_size=14, edge_color='gray')\n",
    "\n",
    "    # Optional: Add edge labels if needed\n",
    "    # nx.draw_networkx_edge_labels(G, pos)\n",
    "\n",
    "    plt.title(\"Graph Visualization\", fontsize=11)\n",
    "    plt.show()"
   ]
  },
  {
   "cell_type": "code",
   "execution_count": 130,
   "id": "335c70e8",
   "metadata": {},
   "outputs": [
    {
     "data": {
      "text/plain": [
       "[0, 2, 1, 5, 3, 4]"
      ]
     },
     "execution_count": 130,
     "metadata": {},
     "output_type": "execute_result"
    }
   ],
   "source": [
    "edgelist = [\n",
    "    (1, 0), (0, 5), (0, 2), (2, 3), (3, 4)\n",
    "] # list of edges\n",
    "\n",
    "g = Graph(edgelist)\n",
    "\n",
    "bfs(g, src_node=0)"
   ]
  },
  {
   "cell_type": "code",
   "execution_count": 128,
   "id": "fe751cbf",
   "metadata": {},
   "outputs": [
    {
     "data": {
      "image/png": "[encoded data removed]",
      "text/plain": [
       "<Figure size 400x400 with 1 Axes>"
      ]
     },
     "metadata": {},
     "output_type": "display_data"
    }
   ],
   "source": [
    "visualize_graph(edgelist)"
   ]
  },
  {
   "cell_type": "code",
   "execution_count": 131,
   "id": "1fa56768",
   "metadata": {},
   "outputs": [
    {
     "data": {
      "image/png": "[encoded data removed]",
      "text/plain": [
       "<Figure size 400x400 with 1 Axes>"
      ]
     },
     "metadata": {},
     "output_type": "display_data"
    }
   ],
   "source": [
    "edgelist = [\n",
    "    (1,0), (1,2), (0,3), (2,3), (3,6), (3,7)\n",
    "]\n",
    "\n",
    "visualize_graph(edgelist)"
   ]
  },
  {
   "cell_type": "code",
   "execution_count": null,
   "id": "4d467fb4",
   "metadata": {},
   "outputs": [
    {
     "data": {
      "text/plain": [
       "[3, 2, 7, 0, 6, 1]"
      ]
     },
     "execution_count": 132,
     "metadata": {},
     "output_type": "execute_result"
    }
   ],
   "source": [
    "g = Graph(edgelist)\n",
    "\n",
    "bfs(g, src_node=3)"
   ]
  },
  {
   "cell_type": "markdown",
   "id": "52f19b1a",
   "metadata": {},
   "source": [
    "### Depth First Search"
   ]
  },
  {
   "cell_type": "code",
   "execution_count": 136,
   "id": "ccc2aa02",
   "metadata": {},
   "outputs": [],
   "source": [
    "edgelist = [\n",
    "    (0,1), (0,4), (1,2), (2,3), (2, 5)\n",
    "]\n",
    "\n",
    "g = Graph(edgelist)"
   ]
  },
  {
   "cell_type": "code",
   "execution_count": 147,
   "id": "9a02d474",
   "metadata": {},
   "outputs": [
    {
     "data": {
      "image/png": "[encoded data removed]",
      "text/plain": [
       "<Figure size 400x400 with 1 Axes>"
      ]
     },
     "metadata": {},
     "output_type": "display_data"
    }
   ],
   "source": [
    "visualize_graph(edgelist)"
   ]
  },
  {
   "cell_type": "code",
   "execution_count": 163,
   "id": "ff1f13f6",
   "metadata": {},
   "outputs": [],
   "source": [
    "def dfs(node: int, output: list, visited: set, adjacency_list: dict):\n",
    "    \"\"\"\n",
    "    Recursive helper function to perform Depth-First Search (DFS)\n",
    "    \n",
    "    Args:\n",
    "    - node: Current node being visited\n",
    "    - output: List to collect traversal order\n",
    "    - visited: Set to track already visited nodes\n",
    "    - adjacency_list: Graph represented as an adjacency list\n",
    "    \"\"\"\n",
    "\n",
    "    print(f\"node: {node} | visited: {visited}\")  # Debug: Show current node and visited set\n",
    "\n",
    "    output.append(node)        # Add current node to traversal output\n",
    "    visited.add(node)          # Mark current node as visited\n",
    "\n",
    "    neighbors = adjacency_list[str(node)]  # Get neighbors of the current node\n",
    "\n",
    "    # Recur for all unvisited neighbors\n",
    "    for neighbor_ in neighbors:\n",
    "        if int(neighbor_) not in visited:\n",
    "            dfs(int(neighbor_), output, visited, adjacency_list)\n",
    "\n",
    "    return\n",
    "\n",
    "\n",
    "def dfs_traversal(g: Graph, src_node: int):\n",
    "    \"\"\"\n",
    "    Wrapper function to initiate DFS traversal from a given source node\n",
    "\n",
    "    Args:\n",
    "    - g: Graph object\n",
    "    - src_node: The starting node for DFS\n",
    "\n",
    "    Returns:\n",
    "    - List representing the DFS traversal order\n",
    "    \"\"\"\n",
    "\n",
    "    adjacency_list = g.construct_adjacency_list()  # Build adjacency list from graph edges\n",
    "\n",
    "    if not adjacency_list:\n",
    "        return []  # Return [] for empty graph\n",
    "\n",
    "    visited = set()     # Track visited nodes to prevent revisiting (avoid cycles)\n",
    "    output = []         # Store traversal order\n",
    "\n",
    "    # Start DFS traversal from the source node\n",
    "    dfs(src_node, output, visited, adjacency_list)\n",
    "\n",
    "    return output"
   ]
  },
  {
   "cell_type": "code",
   "execution_count": 164,
   "id": "eaa056a3",
   "metadata": {},
   "outputs": [
    {
     "name": "stdout",
     "output_type": "stream",
     "text": [
      "node: 0 | visited: set()\n",
      "node: 4 | visited: {0}\n",
      "node: 3 | visited: {0, 4}\n",
      "node: 2 | visited: {0, 3, 4}\n",
      "node: 1 | visited: {0, 2, 3, 4}\n",
      "node: 5 | visited: {0, 1, 2, 3, 4}\n"
     ]
    },
    {
     "data": {
      "text/plain": [
       "[0, 4, 3, 2, 1, 5]"
      ]
     },
     "execution_count": 164,
     "metadata": {},
     "output_type": "execute_result"
    }
   ],
   "source": [
    "dfs_traversal(g, 0)"
   ]
  },
  {
   "cell_type": "code",
   "execution_count": 165,
   "id": "9ce67c62",
   "metadata": {},
   "outputs": [
    {
     "data": {
      "image/png": "[encoded data removed]",
      "text/plain": [
       "<Figure size 400x400 with 1 Axes>"
      ]
     },
     "metadata": {},
     "output_type": "display_data"
    }
   ],
   "source": [
    "edgelist = [\n",
    "    (0,1), (0,4), (1,2), (2,5), (2,3), (4,3)\n",
    "]\n",
    "visualize_graph(edgelist)"
   ]
  },
  {
   "cell_type": "code",
   "execution_count": 166,
   "id": "4ede85c0",
   "metadata": {},
   "outputs": [
    {
     "name": "stdout",
     "output_type": "stream",
     "text": [
      "node: 0 | visited: set()\n",
      "node: 4 | visited: {0}\n",
      "node: 3 | visited: {0, 4}\n",
      "node: 2 | visited: {0, 3, 4}\n",
      "node: 1 | visited: {0, 2, 3, 4}\n",
      "node: 5 | visited: {0, 1, 2, 3, 4}\n"
     ]
    },
    {
     "data": {
      "text/plain": [
       "[0, 4, 3, 2, 1, 5]"
      ]
     },
     "execution_count": 166,
     "metadata": {},
     "output_type": "execute_result"
    }
   ],
   "source": [
    "g = Graph(edgelist)\n",
    "\n",
    "dfs_traversal(g, src_node=0)"
   ]
  },
  {
   "cell_type": "markdown",
   "id": "4383fd5f",
   "metadata": {},
   "source": [
    "### Find if Path Exists in Graph\n",
    "\n",
    "> https://leetcode.com/problems/find-if-path-exists-in-graph/description/\n",
    "\n",
    "\n",
    "---"
   ]
  },
  {
   "cell_type": "code",
   "execution_count": 212,
   "id": "a7567e2c",
   "metadata": {},
   "outputs": [],
   "source": [
    "edges = []\n",
    "g = Graph(edgelist=edges)"
   ]
  },
  {
   "cell_type": "code",
   "execution_count": 213,
   "id": "c59e2bd2",
   "metadata": {},
   "outputs": [],
   "source": [
    "adjacency_list = g.construct_adjacency_list()"
   ]
  },
  {
   "cell_type": "code",
   "execution_count": 214,
   "id": "75512bed",
   "metadata": {},
   "outputs": [
    {
     "data": {
      "text/plain": [
       "{}"
      ]
     },
     "execution_count": 214,
     "metadata": {},
     "output_type": "execute_result"
    }
   ],
   "source": [
    "adjacency_list"
   ]
  },
  {
   "cell_type": "code",
   "execution_count": 208,
   "id": "6d152187",
   "metadata": {},
   "outputs": [
    {
     "data": {
      "image/png": "[encoded data removed]",
      "text/plain": [
       "<Figure size 400x400 with 1 Axes>"
      ]
     },
     "metadata": {},
     "output_type": "display_data"
    }
   ],
   "source": [
    "visualize_graph(edges)"
   ]
  },
  {
   "cell_type": "code",
   "execution_count": null,
   "id": "8246484f",
   "metadata": {},
   "outputs": [],
   "source": [
    "DST_FOUND = False\n",
    "\n",
    "def dfs_till_destination(curr_node: int, dst: int, visited: set, adjacency_list: dict) -> bool:\n",
    "    global DST_FOUND\n",
    "    print(f\"curr_node: {curr_node} | visited: {visited} | dst: {dst}\")  # Debug: Show current node and visited set\n",
    "    \n",
    "    if DST_FOUND:\n",
    "        return DST_FOUND\n",
    "    \n",
    "    if curr_node == dst:\n",
    "        DST_FOUND = True\n",
    "\n",
    "    visited.add(curr_node)\n",
    "\n",
    "    neighbors = adjacency_list[str(curr_node)]\n",
    "\n",
    "    for neighbor_ in neighbors:\n",
    "        if int(neighbor_) not in visited:\n",
    "            dfs_till_destination(\n",
    "                curr_node=int(neighbor_),\n",
    "                dst=dst,\n",
    "                visited=visited,\n",
    "                adjacency_list=adjacency_list\n",
    "            )\n",
    "\n",
    "    return DST_FOUND\n",
    "\n",
    "\n",
    "\n",
    "def dfs_traversal(g: Graph, src_node: int, dst_node: int):\n",
    "    \"\"\"\n",
    "    Wrapper function to initiate DFS traversal from a given source node\n",
    "\n",
    "    Args:\n",
    "    - g: Graph object\n",
    "    - src_node: The starting node for DFS\n",
    "\n",
    "    Returns:\n",
    "    - List representing the DFS traversal order\n",
    "    \"\"\"\n",
    "\n",
    "    adjacency_list = g.construct_adjacency_list()  # Build adjacency list from graph edges\n",
    "\n",
    "    if not adjacency_list:\n",
    "        return False\n",
    "    \n",
    "    if src_node == dst_node:\n",
    "        return True\n",
    "\n",
    "    visited = set()     # Track visited nodes to prevent revisiting (avoid cycles)\n",
    "\n",
    "    path_found = dfs_till_destination(src_node, dst_node, visited, adjacency_list)\n",
    "\n",
    "    return path_found"
   ]
  },
  {
   "cell_type": "code",
   "execution_count": 211,
   "id": "656d5bf8",
   "metadata": {},
   "outputs": [
    {
     "name": "stdout",
     "output_type": "stream",
     "text": [
      "curr_node: 0 | visited: set() | dst: 5\n",
      "curr_node: 2 | visited: {0} | dst: 5\n",
      "curr_node: 1 | visited: {0, 2} | dst: 5\n"
     ]
    },
    {
     "data": {
      "text/plain": [
       "False"
      ]
     },
     "execution_count": 211,
     "metadata": {},
     "output_type": "execute_result"
    }
   ],
   "source": [
    "dfs_traversal(g, 0, 5)"
   ]
  },
  {
   "cell_type": "markdown",
   "id": "4e2bff89",
   "metadata": {},
   "source": [
    "### Steps By Knight"
   ]
  },
  {
   "cell_type": "markdown",
   "id": "b550a86d",
   "metadata": {},
   "source": [
    "\n",
    "\n",
    "🧠 Intuition Behind the Approach\n",
    "\n",
    "A knight in chess moves in an “L” shape: two squares in one direction and one square perpendicular. This gives it exactly 8 possible moves from any position.\n",
    "\n",
    "To find the minimum number of moves a knight needs to go from a source to a destination on an N x N board, we model the board as a graph where each position is a node, and edges connect to valid knight moves.\n",
    "\n",
    "This is a classic shortest path problem in an unweighted graph, making Breadth-First Search (BFS) the perfect choice because:\n",
    "\t•\tBFS explores all positions level by level (i.e., by number of moves),\n",
    "\t•\tThe first time we reach the destination, it’s guaranteed to be the shortest path.\n",
    "\n",
    "⸻\n",
    "\n",
    "🔄 Example to Build Intuition\n",
    "\n",
    "Say the knight starts at position (1, 3) and needs to reach (5, 0) on a 6x6 board.\n",
    "\n",
    "BFS will explore like this:\n",
    "\t•\tStep 0: (1, 3) → source\n",
    "\t•\tStep 1: it explores all 8 valid positions the knight can jump to from (1, 3)\n",
    "\t•\tStep 2: from each of those new positions, it explores further\n",
    "\t•\t…\n",
    "\t•\tThe first time it reaches (5, 0), let’s say it took 3 levels — that’s the minimum number of moves.\n",
    "\n",
    "Path (one possible valid path):\n",
    "\n",
    "(1, 3) → (3, 4) → (4, 2) → (5, 0)\n",
    "\n",
    "So the output is 3.\n",
    "\n",
    "⸻\n",
    "\n",
    "💡 Summary\n",
    "\t•\tThink of the knight as moving on a graph.\n",
    "\t•\tUse BFS to explore shortest paths from source.\n",
    "\t•\tTrack visited positions to prevent loops.\n",
    "\t•\tReturn the level when destination is found.\n",
    "\n",
    "This approach guarantees correctness and efficiency for minimum-move problems like this."
   ]
  },
  {
   "cell_type": "code",
   "execution_count": null,
   "id": "75608cce",
   "metadata": {},
   "outputs": [],
   "source": [
    "def get_neighbors(knightPos: tuple, N: int) -> list:\n",
    "    \"\"\"\n",
    "    Given a knight's position and board size, return all valid moves from this position.\n",
    "    A knight moves in 8 possible L-shaped directions.\n",
    "    \"\"\"\n",
    "\n",
    "    i, j = knightPos\n",
    "\n",
    "    # All 8 possible moves for a knight\n",
    "    all_possible_neighbors = [\n",
    "        (i-1, j+2), (i+1, j+2), (i-2, j+1), (i-2, j-1),\n",
    "        (i+2, j+1), (i+2, j-1), (i-1, j-2), (i+1, j-2)\n",
    "    ]\n",
    "\n",
    "    # Keep only the valid moves within bounds of the board\n",
    "    valid_neighbors = [\n",
    "        (a, b) for a, b in all_possible_neighbors if 1 <= a <= N and 1 <= b <= N\n",
    "    ]\n",
    "\n",
    "    return valid_neighbors"
   ]
  },
  {
   "cell_type": "code",
   "execution_count": 254,
   "id": "4a6e9de1",
   "metadata": {},
   "outputs": [
    {
     "data": {
      "text/plain": [
       "[(2, 6), (2, 4), (6, 6), (6, 4), (3, 3), (5, 3)]"
      ]
     },
     "execution_count": 254,
     "metadata": {},
     "output_type": "execute_result"
    }
   ],
   "source": [
    "get_neighbors((4,5), 6)"
   ]
  },
  {
   "cell_type": "code",
   "execution_count": null,
   "id": "129df0d6",
   "metadata": {},
   "outputs": [],
   "source": []
  },
  {
   "cell_type": "code",
   "execution_count": null,
   "id": "aa8fcf35",
   "metadata": {},
   "outputs": [],
   "source": []
  },
  {
   "cell_type": "code",
   "execution_count": null,
   "id": "e68c7e2c",
   "metadata": {},
   "outputs": [
    {
     "name": "stdout",
     "output_type": "stream",
     "text": [
      "queue: deque([(1, 0)])\n",
      "curr_node: 1 | curr_level: 0\n",
      "all_neighbors: ['2', '3', '4']\n",
      "queue: deque([(2, 1), (3, 1), (4, 1)])\n",
      "curr_node: 2 | curr_level: 1\n",
      "all_neighbors: ['1', '5']\n",
      "queue: deque([(3, 1), (4, 1), (5, 2)])\n",
      "curr_node: 3 | curr_level: 1\n",
      "all_neighbors: ['1']\n",
      "queue: deque([(4, 1), (5, 2)])\n",
      "curr_node: 4 | curr_level: 1\n",
      "all_neighbors: ['1', '6']\n",
      "queue: deque([(5, 2), (6, 2)])\n",
      "curr_node: 5 | curr_level: 2\n"
     ]
    },
    {
     "data": {
      "text/plain": [
       "2"
      ]
     },
     "execution_count": 271,
     "metadata": {},
     "output_type": "execute_result"
    }
   ],
   "source": []
  },
  {
   "cell_type": "code",
   "execution_count": null,
   "id": "be153013",
   "metadata": {},
   "outputs": [],
   "source": [
    "def min_knight_moves(src: tuple, dst: tuple, N: int) -> int:\n",
    "    \"\"\"\n",
    "    Return the minimum number of steps a knight needs to reach from src to dst on an NxN board.\n",
    "    \n",
    "    Args:\n",
    "    - src: Starting position of the knight (1-based indexing)\n",
    "    - dst: Target position\n",
    "    - N: Size of the NxN chessboard\n",
    "    \n",
    "    Uses BFS for shortest path.\n",
    "    \"\"\"\n",
    "\n",
    "    # Initialize BFS queue and visited set\n",
    "    queue = deque()\n",
    "    visited = set()\n",
    "\n",
    "    # Push the source position along with level 0 (number of moves)\n",
    "    queue.append((src, 0))\n",
    "    visited.add(src)\n",
    "\n",
    "    while queue:\n",
    "        curr_node, curr_level = queue.popleft()\n",
    "\n",
    "        # Print current exploration state (for dry-run)\n",
    "        print(f\"Visiting: {curr_node} at level: {curr_level}\")\n",
    "\n",
    "        # If we've reached the destination, return number of steps taken\n",
    "        if curr_node == dst:\n",
    "            return curr_level\n",
    "\n",
    "        # Explore all valid neighbors (next knight moves)\n",
    "        for neighbor in get_neighbors(curr_node, N):\n",
    "            if neighbor not in visited:\n",
    "                visited.add(neighbor)\n",
    "                queue.append((neighbor, curr_level + 1))  # Increase move count\n",
    "\n",
    "    # In case no path is found (should not happen on a valid board)\n",
    "    return -1"
   ]
  },
  {
   "cell_type": "code",
   "execution_count": 274,
   "id": "281ed1c2",
   "metadata": {},
   "outputs": [
    {
     "name": "stdout",
     "output_type": "stream",
     "text": [
      "queue: deque([((3, 3), 0)])\n",
      "curr_node: (3, 3) | curr_level: 0\n",
      "all_neighbors: [(1, 2), (2, 1)]\n",
      "queue: deque([((1, 2), 1), ((2, 1), 1)])\n",
      "curr_node: (1, 2) | curr_level: 1\n"
     ]
    },
    {
     "data": {
      "text/plain": [
       "1"
      ]
     },
     "execution_count": 274,
     "metadata": {},
     "output_type": "execute_result"
    }
   ],
   "source": [
    "min_knight_moves((3,3), (1,2), 3)"
   ]
  },
  {
   "cell_type": "code",
   "execution_count": 275,
   "id": "fc2868e7",
   "metadata": {},
   "outputs": [
    {
     "name": "stdout",
     "output_type": "stream",
     "text": [
      "queue: deque([((4, 5), 0)])\n",
      "curr_node: (4, 5) | curr_level: 0\n",
      "all_neighbors: [(2, 6), (2, 4), (6, 6), (6, 4), (3, 3), (5, 3)]\n",
      "queue: deque([((2, 6), 1), ((2, 4), 1), ((6, 6), 1), ((6, 4), 1), ((3, 3), 1), ((5, 3), 1)])\n",
      "curr_node: (2, 6) | curr_level: 1\n",
      "all_neighbors: [(4, 5), (1, 4), (3, 4)]\n",
      "queue: deque([((2, 4), 1), ((6, 6), 1), ((6, 4), 1), ((3, 3), 1), ((5, 3), 1), ((1, 4), 2), ((3, 4), 2)])\n",
      "curr_node: (2, 4) | curr_level: 1\n",
      "all_neighbors: [(1, 6), (3, 6), (4, 5), (4, 3), (1, 2), (3, 2)]\n",
      "queue: deque([((6, 6), 1), ((6, 4), 1), ((3, 3), 1), ((5, 3), 1), ((1, 4), 2), ((3, 4), 2), ((1, 6), 2), ((3, 6), 2), ((4, 3), 2), ((1, 2), 2), ((3, 2), 2)])\n",
      "curr_node: (6, 6) | curr_level: 1\n",
      "all_neighbors: [(4, 5), (5, 4)]\n",
      "queue: deque([((6, 4), 1), ((3, 3), 1), ((5, 3), 1), ((1, 4), 2), ((3, 4), 2), ((1, 6), 2), ((3, 6), 2), ((4, 3), 2), ((1, 2), 2), ((3, 2), 2), ((5, 4), 2)])\n",
      "curr_node: (6, 4) | curr_level: 1\n",
      "all_neighbors: [(5, 6), (4, 5), (4, 3), (5, 2)]\n",
      "queue: deque([((3, 3), 1), ((5, 3), 1), ((1, 4), 2), ((3, 4), 2), ((1, 6), 2), ((3, 6), 2), ((4, 3), 2), ((1, 2), 2), ((3, 2), 2), ((5, 4), 2), ((5, 6), 2), ((5, 2), 2)])\n",
      "curr_node: (3, 3) | curr_level: 1\n",
      "all_neighbors: [(2, 5), (4, 5), (1, 4), (1, 2), (5, 4), (5, 2), (2, 1), (4, 1)]\n",
      "queue: deque([((5, 3), 1), ((1, 4), 2), ((3, 4), 2), ((1, 6), 2), ((3, 6), 2), ((4, 3), 2), ((1, 2), 2), ((3, 2), 2), ((5, 4), 2), ((5, 6), 2), ((5, 2), 2), ((2, 5), 2), ((2, 1), 2), ((4, 1), 2)])\n",
      "curr_node: (5, 3) | curr_level: 1\n",
      "all_neighbors: [(4, 5), (6, 5), (3, 4), (3, 2), (4, 1), (6, 1)]\n",
      "queue: deque([((1, 4), 2), ((3, 4), 2), ((1, 6), 2), ((3, 6), 2), ((4, 3), 2), ((1, 2), 2), ((3, 2), 2), ((5, 4), 2), ((5, 6), 2), ((5, 2), 2), ((2, 5), 2), ((2, 1), 2), ((4, 1), 2), ((6, 5), 2), ((6, 1), 2)])\n",
      "curr_node: (1, 4) | curr_level: 2\n",
      "all_neighbors: [(2, 6), (3, 5), (3, 3), (2, 2)]\n",
      "queue: deque([((3, 4), 2), ((1, 6), 2), ((3, 6), 2), ((4, 3), 2), ((1, 2), 2), ((3, 2), 2), ((5, 4), 2), ((5, 6), 2), ((5, 2), 2), ((2, 5), 2), ((2, 1), 2), ((4, 1), 2), ((6, 5), 2), ((6, 1), 2), ((3, 5), 3), ((2, 2), 3)])\n",
      "curr_node: (3, 4) | curr_level: 2\n",
      "all_neighbors: [(2, 6), (4, 6), (1, 5), (1, 3), (5, 5), (5, 3), (2, 2), (4, 2)]\n",
      "queue: deque([((1, 6), 2), ((3, 6), 2), ((4, 3), 2), ((1, 2), 2), ((3, 2), 2), ((5, 4), 2), ((5, 6), 2), ((5, 2), 2), ((2, 5), 2), ((2, 1), 2), ((4, 1), 2), ((6, 5), 2), ((6, 1), 2), ((3, 5), 3), ((2, 2), 3), ((4, 6), 3), ((1, 5), 3), ((1, 3), 3), ((5, 5), 3), ((4, 2), 3)])\n",
      "curr_node: (1, 6) | curr_level: 2\n",
      "all_neighbors: [(3, 5), (2, 4)]\n",
      "queue: deque([((3, 6), 2), ((4, 3), 2), ((1, 2), 2), ((3, 2), 2), ((5, 4), 2), ((5, 6), 2), ((5, 2), 2), ((2, 5), 2), ((2, 1), 2), ((4, 1), 2), ((6, 5), 2), ((6, 1), 2), ((3, 5), 3), ((2, 2), 3), ((4, 6), 3), ((1, 5), 3), ((1, 3), 3), ((5, 5), 3), ((4, 2), 3)])\n",
      "curr_node: (3, 6) | curr_level: 2\n",
      "all_neighbors: [(1, 5), (5, 5), (2, 4), (4, 4)]\n",
      "queue: deque([((4, 3), 2), ((1, 2), 2), ((3, 2), 2), ((5, 4), 2), ((5, 6), 2), ((5, 2), 2), ((2, 5), 2), ((2, 1), 2), ((4, 1), 2), ((6, 5), 2), ((6, 1), 2), ((3, 5), 3), ((2, 2), 3), ((4, 6), 3), ((1, 5), 3), ((1, 3), 3), ((5, 5), 3), ((4, 2), 3), ((4, 4), 3)])\n",
      "curr_node: (4, 3) | curr_level: 2\n",
      "all_neighbors: [(3, 5), (5, 5), (2, 4), (2, 2), (6, 4), (6, 2), (3, 1), (5, 1)]\n",
      "queue: deque([((1, 2), 2), ((3, 2), 2), ((5, 4), 2), ((5, 6), 2), ((5, 2), 2), ((2, 5), 2), ((2, 1), 2), ((4, 1), 2), ((6, 5), 2), ((6, 1), 2), ((3, 5), 3), ((2, 2), 3), ((4, 6), 3), ((1, 5), 3), ((1, 3), 3), ((5, 5), 3), ((4, 2), 3), ((4, 4), 3), ((6, 2), 3), ((3, 1), 3), ((5, 1), 3)])\n",
      "curr_node: (1, 2) | curr_level: 2\n",
      "all_neighbors: [(2, 4), (3, 3), (3, 1)]\n",
      "queue: deque([((3, 2), 2), ((5, 4), 2), ((5, 6), 2), ((5, 2), 2), ((2, 5), 2), ((2, 1), 2), ((4, 1), 2), ((6, 5), 2), ((6, 1), 2), ((3, 5), 3), ((2, 2), 3), ((4, 6), 3), ((1, 5), 3), ((1, 3), 3), ((5, 5), 3), ((4, 2), 3), ((4, 4), 3), ((6, 2), 3), ((3, 1), 3), ((5, 1), 3)])\n",
      "curr_node: (3, 2) | curr_level: 2\n",
      "all_neighbors: [(2, 4), (4, 4), (1, 3), (1, 1), (5, 3), (5, 1)]\n",
      "queue: deque([((5, 4), 2), ((5, 6), 2), ((5, 2), 2), ((2, 5), 2), ((2, 1), 2), ((4, 1), 2), ((6, 5), 2), ((6, 1), 2), ((3, 5), 3), ((2, 2), 3), ((4, 6), 3), ((1, 5), 3), ((1, 3), 3), ((5, 5), 3), ((4, 2), 3), ((4, 4), 3), ((6, 2), 3), ((3, 1), 3), ((5, 1), 3), ((1, 1), 3)])\n",
      "curr_node: (5, 4) | curr_level: 2\n",
      "all_neighbors: [(4, 6), (6, 6), (3, 5), (3, 3), (4, 2), (6, 2)]\n",
      "queue: deque([((5, 6), 2), ((5, 2), 2), ((2, 5), 2), ((2, 1), 2), ((4, 1), 2), ((6, 5), 2), ((6, 1), 2), ((3, 5), 3), ((2, 2), 3), ((4, 6), 3), ((1, 5), 3), ((1, 3), 3), ((5, 5), 3), ((4, 2), 3), ((4, 4), 3), ((6, 2), 3), ((3, 1), 3), ((5, 1), 3), ((1, 1), 3)])\n",
      "curr_node: (5, 6) | curr_level: 2\n",
      "all_neighbors: [(3, 5), (4, 4), (6, 4)]\n",
      "queue: deque([((5, 2), 2), ((2, 5), 2), ((2, 1), 2), ((4, 1), 2), ((6, 5), 2), ((6, 1), 2), ((3, 5), 3), ((2, 2), 3), ((4, 6), 3), ((1, 5), 3), ((1, 3), 3), ((5, 5), 3), ((4, 2), 3), ((4, 4), 3), ((6, 2), 3), ((3, 1), 3), ((5, 1), 3), ((1, 1), 3)])\n",
      "curr_node: (5, 2) | curr_level: 2\n",
      "all_neighbors: [(4, 4), (6, 4), (3, 3), (3, 1)]\n",
      "queue: deque([((2, 5), 2), ((2, 1), 2), ((4, 1), 2), ((6, 5), 2), ((6, 1), 2), ((3, 5), 3), ((2, 2), 3), ((4, 6), 3), ((1, 5), 3), ((1, 3), 3), ((5, 5), 3), ((4, 2), 3), ((4, 4), 3), ((6, 2), 3), ((3, 1), 3), ((5, 1), 3), ((1, 1), 3)])\n",
      "curr_node: (2, 5) | curr_level: 2\n",
      "all_neighbors: [(4, 6), (4, 4), (1, 3), (3, 3)]\n",
      "queue: deque([((2, 1), 2), ((4, 1), 2), ((6, 5), 2), ((6, 1), 2), ((3, 5), 3), ((2, 2), 3), ((4, 6), 3), ((1, 5), 3), ((1, 3), 3), ((5, 5), 3), ((4, 2), 3), ((4, 4), 3), ((6, 2), 3), ((3, 1), 3), ((5, 1), 3), ((1, 1), 3)])\n",
      "curr_node: (2, 1) | curr_level: 2\n",
      "all_neighbors: [(1, 3), (3, 3), (4, 2)]\n",
      "queue: deque([((4, 1), 2), ((6, 5), 2), ((6, 1), 2), ((3, 5), 3), ((2, 2), 3), ((4, 6), 3), ((1, 5), 3), ((1, 3), 3), ((5, 5), 3), ((4, 2), 3), ((4, 4), 3), ((6, 2), 3), ((3, 1), 3), ((5, 1), 3), ((1, 1), 3)])\n",
      "curr_node: (4, 1) | curr_level: 2\n",
      "all_neighbors: [(3, 3), (5, 3), (2, 2), (6, 2)]\n",
      "queue: deque([((6, 5), 2), ((6, 1), 2), ((3, 5), 3), ((2, 2), 3), ((4, 6), 3), ((1, 5), 3), ((1, 3), 3), ((5, 5), 3), ((4, 2), 3), ((4, 4), 3), ((6, 2), 3), ((3, 1), 3), ((5, 1), 3), ((1, 1), 3)])\n",
      "curr_node: (6, 5) | curr_level: 2\n",
      "all_neighbors: [(4, 6), (4, 4), (5, 3)]\n",
      "queue: deque([((6, 1), 2), ((3, 5), 3), ((2, 2), 3), ((4, 6), 3), ((1, 5), 3), ((1, 3), 3), ((5, 5), 3), ((4, 2), 3), ((4, 4), 3), ((6, 2), 3), ((3, 1), 3), ((5, 1), 3), ((1, 1), 3)])\n",
      "curr_node: (6, 1) | curr_level: 2\n",
      "all_neighbors: [(5, 3), (4, 2)]\n",
      "queue: deque([((3, 5), 3), ((2, 2), 3), ((4, 6), 3), ((1, 5), 3), ((1, 3), 3), ((5, 5), 3), ((4, 2), 3), ((4, 4), 3), ((6, 2), 3), ((3, 1), 3), ((5, 1), 3), ((1, 1), 3)])\n",
      "curr_node: (3, 5) | curr_level: 3\n",
      "all_neighbors: [(1, 6), (1, 4), (5, 6), (5, 4), (2, 3), (4, 3)]\n",
      "queue: deque([((2, 2), 3), ((4, 6), 3), ((1, 5), 3), ((1, 3), 3), ((5, 5), 3), ((4, 2), 3), ((4, 4), 3), ((6, 2), 3), ((3, 1), 3), ((5, 1), 3), ((1, 1), 3), ((2, 3), 4)])\n",
      "curr_node: (2, 2) | curr_level: 3\n",
      "all_neighbors: [(1, 4), (3, 4), (4, 3), (4, 1)]\n",
      "queue: deque([((4, 6), 3), ((1, 5), 3), ((1, 3), 3), ((5, 5), 3), ((4, 2), 3), ((4, 4), 3), ((6, 2), 3), ((3, 1), 3), ((5, 1), 3), ((1, 1), 3), ((2, 3), 4)])\n",
      "curr_node: (4, 6) | curr_level: 3\n",
      "all_neighbors: [(2, 5), (6, 5), (3, 4), (5, 4)]\n",
      "queue: deque([((1, 5), 3), ((1, 3), 3), ((5, 5), 3), ((4, 2), 3), ((4, 4), 3), ((6, 2), 3), ((3, 1), 3), ((5, 1), 3), ((1, 1), 3), ((2, 3), 4)])\n",
      "curr_node: (1, 5) | curr_level: 3\n",
      "all_neighbors: [(3, 6), (3, 4), (2, 3)]\n",
      "queue: deque([((1, 3), 3), ((5, 5), 3), ((4, 2), 3), ((4, 4), 3), ((6, 2), 3), ((3, 1), 3), ((5, 1), 3), ((1, 1), 3), ((2, 3), 4)])\n",
      "curr_node: (1, 3) | curr_level: 3\n",
      "all_neighbors: [(2, 5), (3, 4), (3, 2), (2, 1)]\n",
      "queue: deque([((5, 5), 3), ((4, 2), 3), ((4, 4), 3), ((6, 2), 3), ((3, 1), 3), ((5, 1), 3), ((1, 1), 3), ((2, 3), 4)])\n",
      "curr_node: (5, 5) | curr_level: 3\n",
      "all_neighbors: [(3, 6), (3, 4), (4, 3), (6, 3)]\n",
      "queue: deque([((4, 2), 3), ((4, 4), 3), ((6, 2), 3), ((3, 1), 3), ((5, 1), 3), ((1, 1), 3), ((2, 3), 4), ((6, 3), 4)])\n",
      "curr_node: (4, 2) | curr_level: 3\n",
      "all_neighbors: [(3, 4), (5, 4), (2, 3), (2, 1), (6, 3), (6, 1)]\n",
      "queue: deque([((4, 4), 3), ((6, 2), 3), ((3, 1), 3), ((5, 1), 3), ((1, 1), 3), ((2, 3), 4), ((6, 3), 4)])\n",
      "curr_node: (4, 4) | curr_level: 3\n",
      "all_neighbors: [(3, 6), (5, 6), (2, 5), (2, 3), (6, 5), (6, 3), (3, 2), (5, 2)]\n",
      "queue: deque([((6, 2), 3), ((3, 1), 3), ((5, 1), 3), ((1, 1), 3), ((2, 3), 4), ((6, 3), 4)])\n",
      "curr_node: (6, 2) | curr_level: 3\n",
      "all_neighbors: [(5, 4), (4, 3), (4, 1)]\n",
      "queue: deque([((3, 1), 3), ((5, 1), 3), ((1, 1), 3), ((2, 3), 4), ((6, 3), 4)])\n",
      "curr_node: (3, 1) | curr_level: 3\n",
      "all_neighbors: [(2, 3), (4, 3), (1, 2), (5, 2)]\n",
      "queue: deque([((5, 1), 3), ((1, 1), 3), ((2, 3), 4), ((6, 3), 4)])\n",
      "curr_node: (5, 1) | curr_level: 3\n",
      "all_neighbors: [(4, 3), (6, 3), (3, 2)]\n",
      "queue: deque([((1, 1), 3), ((2, 3), 4), ((6, 3), 4)])\n",
      "curr_node: (1, 1) | curr_level: 3\n"
     ]
    },
    {
     "data": {
      "text/plain": [
       "3"
      ]
     },
     "execution_count": 275,
     "metadata": {},
     "output_type": "execute_result"
    }
   ],
   "source": [
    "min_knight_moves((4,5), (1,1), 6)"
   ]
  },
  {
   "cell_type": "markdown",
   "id": "daf840cd",
   "metadata": {},
   "source": [
    "### BFS with Level Tracking\n",
    "\n",
    "\n",
    "⸻\n",
    "\n",
    "🧠 Intuition Behind the Approach\n",
    "\n",
    "You are trying to find the shortest path (in terms of number of edges or “hops”) between two nodes in an unweighted graph represented using an adjacency list.\n",
    "\n",
    "To solve this, you’re using Breadth-First Search (BFS) with level tracking. BFS is ideal here because it explores all nodes at distance k before exploring nodes at distance k+1, guaranteeing the shortest path is found.\n",
    "\n",
    "You’re explicitly storing the current level (distance from source) with each node in the queue using tuples of the form (node, level).\n",
    "\n",
    "⸻\n",
    "\n",
    "🔄 Example to Build Intuition\n",
    "\n",
    "Given the graph:\n",
    "\n",
    "1: [2, 3, 4]\n",
    "2: [1, 5]\n",
    "3: [1]\n",
    "4: [1, 6]\n",
    "5: [2]\n",
    "6: [4]\n",
    "\n",
    "You are finding the shortest path from node 1 to node 5.\n",
    "\n",
    "Let’s walk through the BFS steps:\n",
    "\t•\tStart at node 1, level 0 → queue = [(1, 0)]\n",
    "\t•\tFrom 1, neighbors are 2, 3, 4. Add them to the queue with level 1 → queue = [(2,1), (3,1), (4,1)]\n",
    "\t•\tPop 2, it’s not the destination. Its neighbor is 5, which hasn’t been visited → queue = [..., (5, 2)]\n",
    "\t•\tPop 5, it’s the destination! Return level 2.\n",
    "\n",
    "So, the shortest path from 1 to 5 is:\n",
    "\n",
    "1 → 2 → 5 (2 steps)\n",
    "\n",
    "\n",
    "⸻\n",
    "\n",
    "💡 Summary\n",
    "\t•\tYou are solving a shortest-path-in-unweighted-graph problem.\n",
    "\t•\tBFS explores neighbors level-by-level, so the first time you reach the destination, it’s the shortest path.\n",
    "\t•\tYou’re using a visited set to prevent revisiting nodes and infinite loops.\n",
    "\t•\tThe level variable in the queue keeps track of the number of steps taken so far.\n",
    "\n",
    "This structure is a classic template for:\n",
    "\t•\tFinding minimum moves in games or grids.\n",
    "\t•\tChecking shortest distance in graphs.\n",
    "\t•\tPerforming multi-source BFS (with slight tweaks)."
   ]
  },
  {
   "cell_type": "code",
   "execution_count": 15,
   "id": "2b9437cd",
   "metadata": {},
   "outputs": [],
   "source": [
    "def bfs_with_level(src: int, adjacency_list: dict):\n",
    "\n",
    "\n",
    "    level = 0\n",
    "    queue = deque()\n",
    "    visited = set()\n",
    "\n",
    "    queue.append(src)\n",
    "    visited.add(src)\n",
    "    output = {}\n",
    "    \n",
    "\n",
    "    while len(queue) > 0:\n",
    "\n",
    "        size = len(queue)\n",
    "        print (f\"queue: {queue} | size: {size}\")\n",
    "\n",
    "        for _ in range(size):\n",
    "            \n",
    "            node = queue.popleft()\n",
    "            output[node] = level\n",
    "            print (f\"popped node: {node} | level: {level}\")\n",
    "            neighbors = adjacency_list[str(node)]\n",
    "            print (f\"neighbors: {neighbors}\")\n",
    "\n",
    "            for neighbor_ in neighbors:\n",
    "                if int(neighbor_) not in visited:\n",
    "                    visited.add(int(neighbor_))\n",
    "                    queue.append(int(neighbor_))\n",
    "\n",
    "        level += 1\n",
    "\n",
    "    return output"
   ]
  },
  {
   "cell_type": "code",
   "execution_count": 16,
   "id": "4a58213c",
   "metadata": {},
   "outputs": [],
   "source": [
    "adjacency_list = {\n",
    "    '1': ['2', '3', '4'],\n",
    "    '2': ['1', '5'],\n",
    "    '3': ['1'],\n",
    "    '4': ['1', '6'],\n",
    "    '5': ['2'],\n",
    "    '6':['4']\n",
    "}"
   ]
  },
  {
   "cell_type": "code",
   "execution_count": 17,
   "id": "10ccbf32",
   "metadata": {},
   "outputs": [
    {
     "name": "stdout",
     "output_type": "stream",
     "text": [
      "queue: deque([1]) | size: 1\n",
      "popped node: 1 | level: 0\n",
      "neighbors: ['2', '3', '4']\n",
      "queue: deque([2, 3, 4]) | size: 3\n",
      "popped node: 2 | level: 1\n",
      "neighbors: ['1', '5']\n",
      "popped node: 3 | level: 1\n",
      "neighbors: ['1']\n",
      "popped node: 4 | level: 1\n",
      "neighbors: ['1', '6']\n",
      "queue: deque([5, 6]) | size: 2\n",
      "popped node: 5 | level: 2\n",
      "neighbors: ['2']\n",
      "popped node: 6 | level: 2\n",
      "neighbors: ['4']\n"
     ]
    },
    {
     "data": {
      "text/plain": [
       "{1: 0, 2: 1, 3: 1, 4: 1, 5: 2, 6: 2}"
      ]
     },
     "execution_count": 17,
     "metadata": {},
     "output_type": "execute_result"
    }
   ],
   "source": [
    "bfs_with_level(src=1, adjacency_list=adjacency_list)"
   ]
  },
  {
   "cell_type": "code",
   "execution_count": null,
   "id": "dde9cab9",
   "metadata": {},
   "outputs": [],
   "source": []
  }
 ],
 "metadata": {
  "kernelspec": {
   "display_name": "shaunak-dev",
   "language": "python",
   "name": "python3"
  },
  "language_info": {
   "codemirror_mode": {
    "name": "ipython",
    "version": 3
   },
   "file_extension": ".py",
   "mimetype": "text/x-python",
   "name": "python",
   "nbconvert_exporter": "python",
   "pygments_lexer": "ipython3",
   "version": "3.12.4"
  }
 },
 "nbformat": 4,
 "nbformat_minor": 5
}
