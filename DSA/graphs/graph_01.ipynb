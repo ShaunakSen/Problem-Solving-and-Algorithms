{
 "cells": [
  {
   "cell_type": "markdown",
   "id": "2971c510",
   "metadata": {},
   "source": [
    "## Graphs\n",
    "\n",
    "> https://www.youtube.com/playlist?list=PL_z_8CaSLPWcn5bKG8UMI0St2D5EmQszx\n",
    "\n",
    "---"
   ]
  },
  {
   "cell_type": "code",
   "execution_count": 7,
   "id": "e2d34df4",
   "metadata": {},
   "outputs": [],
   "source": [
    "from typing import List\n",
    "import sys\n",
    "\n",
    "import networkx as nx\n",
    "import matplotlib.pyplot as plt\n",
    "from collections import deque"
   ]
  },
  {
   "cell_type": "markdown",
   "id": "b6e2c5dd",
   "metadata": {},
   "source": [
    "### Basic Implementation"
   ]
  },
  {
   "cell_type": "code",
   "execution_count": 46,
   "id": "b29395f0",
   "metadata": {},
   "outputs": [],
   "source": [
    "from typing import List, Tuple, Dict, Optional\n",
    "\n",
    "class Graph:\n",
    "    \"\"\"\n",
    "    A class to represent an undirected graph using an edge list, adjacency matrix, and adjacency list.\n",
    "\n",
    "    Attributes:\n",
    "        edgelist (list): List of edges where each edge is represented as a tuple (a, b).\n",
    "        nodeslist (list): List of unique nodes in the graph.\n",
    "        adjacency_matrix (list[list]): Adjacency matrix representation of the graph.\n",
    "        adjacency_list (dict): Adjacency list representation of the graph.\n",
    "    \"\"\"\n",
    "\n",
    "    def __init__(self, edgelist: List[Tuple[int, int]], is_directed: bool=False):\n",
    "        \"\"\"\n",
    "        Initializes the Graph object with an edge list.\n",
    "\n",
    "        Args:\n",
    "            edgelist (list): List of edges where each edge is represented as a tuple (a, b).\n",
    "        \"\"\"\n",
    "        self.edgelist = edgelist\n",
    "        self.is_directed = is_directed\n",
    "        self.nodeslist = []  # Stores unique nodes in the graph\n",
    "        self.adjacency_matrix = None  # Adjacency matrix representation\n",
    "        self.adjacency_list = {}  # Adjacency list representation\n",
    "\n",
    "    def get_unique_nodes(self) -> List[int]:\n",
    "        \"\"\"\n",
    "        Extracts and returns a list of unique nodes from the edge list.\n",
    "\n",
    "        Returns:\n",
    "            list: A list of unique nodes in the graph.\n",
    "        \"\"\"\n",
    "        nodes = set()  # Use a set to avoid duplicates\n",
    "\n",
    "        # Iterate through the edge list and add nodes to the set\n",
    "        for (a, b) in self.edgelist:\n",
    "            nodes.add(a)\n",
    "            nodes.add(b)\n",
    "\n",
    "        # Convert the set to a list and store it in the nodeslist attribute\n",
    "        self.nodeslist = list(nodes)\n",
    "        return self.nodeslist\n",
    "\n",
    "    def print_graph(self) -> None:\n",
    "        \"\"\"\n",
    "        Prints the graph by iterating through the adjacency matrix.\n",
    "        Each edge is printed as \"Node X: Neighbor: Y\".\n",
    "\n",
    "        Note:\n",
    "            This method assumes that the adjacency matrix has already been constructed.\n",
    "        \"\"\"\n",
    "        if not self.adjacency_matrix:\n",
    "            print(\"Adjacency matrix is empty. Construct it first.\")\n",
    "            return\n",
    "\n",
    "        # Iterate through the adjacency matrix and print edges\n",
    "        for row_idx, row in enumerate(self.adjacency_matrix):\n",
    "            for col_idx, col in enumerate(row):\n",
    "                if col == 1:  # If there's an edge between row_idx and col_idx\n",
    "                    print(f\"Node {row_idx}: Neighbor: {col_idx}\")\n",
    "\n",
    "    def display_adjacency_matrix(self) -> None:\n",
    "        \"\"\"\n",
    "        Displays the adjacency matrix in a readable format.\n",
    "\n",
    "        Note:\n",
    "            This method assumes that the adjacency matrix has already been constructed.\n",
    "        \"\"\"\n",
    "        if not self.adjacency_matrix:\n",
    "            print(\"Adjacency matrix is empty. Construct it first.\")\n",
    "            return\n",
    "\n",
    "        # Print each row of the adjacency matrix\n",
    "        for row in self.adjacency_matrix:\n",
    "            print(\" \".join(map(str, row)))\n",
    "\n",
    "    def construct_adjacency_matrix(self) -> List[List[int]]:\n",
    "        \"\"\"\n",
    "        Constructs the adjacency matrix representation of the graph.\n",
    "\n",
    "        Returns:\n",
    "            list[list]: The adjacency matrix of the graph.\n",
    "        \"\"\"\n",
    "        if not self.edgelist:\n",
    "            return None\n",
    "\n",
    "        # Get the number of unique nodes\n",
    "        num_nodes = len(self.get_unique_nodes())\n",
    "\n",
    "        # Initialize a square matrix with all zeros\n",
    "        matrix = [[0 for _ in range(num_nodes + 1)] for _ in range(num_nodes + 1)]\n",
    "\n",
    "        # Populate the adjacency matrix based on the edge list\n",
    "        for a, b in self.edgelist:\n",
    "            matrix[a][b] = 1  # Mark the edge from a to b\n",
    "            matrix[b][a] = 1  # Mark the edge from b to a (undirected graph)\n",
    "\n",
    "        # Store the matrix in the adjacency_matrix attribute\n",
    "        self.adjacency_matrix = matrix\n",
    "        return self.adjacency_matrix\n",
    "\n",
    "    def construct_adjacency_list(self) -> Dict[str, set]:\n",
    "        \"\"\"\n",
    "        Constructs the adjacency list representation of the graph.\n",
    "\n",
    "        Returns:\n",
    "            dict: The adjacency list of the graph where keys are node names (as strings)\n",
    "                  and values are sets of neighboring nodes.\n",
    "        \"\"\"\n",
    "        if not self.edgelist:\n",
    "            return {}\n",
    "\n",
    "        if not self.is_directed:\n",
    "            # Iterate through the edge list and populate the adjacency list\n",
    "            for a, b in self.edgelist:\n",
    "                str_a, str_b = str(a), str(b)  # Convert nodes to strings for dictionary keys\n",
    "\n",
    "                # Add b to the neighbors of a\n",
    "                if str_a in self.adjacency_list:\n",
    "                    self.adjacency_list[str_a].add(str_b)\n",
    "                else:\n",
    "                    self.adjacency_list[str_a] = {str_b}\n",
    "\n",
    "                # Add a to the neighbors of b\n",
    "                if str_b in self.adjacency_list:\n",
    "                    self.adjacency_list[str_b].add(str_a)\n",
    "                else:\n",
    "                    self.adjacency_list[str_b] = {str_a}\n",
    "\n",
    "        else:\n",
    "\n",
    "            for src, dst in self.edgelist:\n",
    "                \n",
    "                if src in self.edgelist:\n",
    "                    self.edgelist[src].append([dst, 1])\n",
    "\n",
    "                else:\n",
    "                    self.edgelist[src] = [[dst, 1]]\n",
    "\n",
    "                if dst in self.edgelist:\n",
    "                    self.edgelist[dst].append([src, -1])\n",
    "\n",
    "                else:\n",
    "                    self.edgelist[dst] = [[dst, -1]]\n",
    "\n",
    "\n",
    "        return self.adjacency_list"
   ]
  },
  {
   "cell_type": "code",
   "execution_count": 22,
   "id": "0383412b",
   "metadata": {},
   "outputs": [],
   "source": [
    "edgelist = [\n",
    "    (1,2), (2,3), (3,4), (4,2), (1,3)\n",
    "] # list of edges\n",
    "graph = Graph(edgelist=edgelist)"
   ]
  },
  {
   "cell_type": "code",
   "execution_count": 38,
   "id": "bc9b63c2",
   "metadata": {},
   "outputs": [],
   "source": [
    "matrix = graph.construct_adjacency_matrix()"
   ]
  },
  {
   "cell_type": "code",
   "execution_count": 39,
   "id": "cc28ebe9",
   "metadata": {},
   "outputs": [
    {
     "data": {
      "text/plain": [
       "[[0, 0, 0, 0, 0],\n",
       " [0, 0, 1, 1, 0],\n",
       " [0, 1, 0, 1, 1],\n",
       " [0, 1, 1, 0, 1],\n",
       " [0, 0, 1, 1, 0]]"
      ]
     },
     "execution_count": 39,
     "metadata": {},
     "output_type": "execute_result"
    }
   ],
   "source": [
    "matrix"
   ]
  },
  {
   "cell_type": "code",
   "execution_count": 40,
   "id": "0f796f4d",
   "metadata": {},
   "outputs": [
    {
     "name": "stdout",
     "output_type": "stream",
     "text": [
      "Node 1: Neighbor: 2\n",
      "Node 1: Neighbor: 3\n",
      "Node 2: Neighbor: 1\n",
      "Node 2: Neighbor: 3\n",
      "Node 2: Neighbor: 4\n",
      "Node 3: Neighbor: 1\n",
      "Node 3: Neighbor: 2\n",
      "Node 3: Neighbor: 4\n",
      "Node 4: Neighbor: 2\n",
      "Node 4: Neighbor: 3\n"
     ]
    }
   ],
   "source": [
    "graph.print_graph()"
   ]
  },
  {
   "cell_type": "code",
   "execution_count": 41,
   "id": "cf8c274d",
   "metadata": {},
   "outputs": [],
   "source": [
    "adjacency_list = graph.construct_adjacency_list()"
   ]
  },
  {
   "cell_type": "code",
   "execution_count": 42,
   "id": "36c3ceb6",
   "metadata": {},
   "outputs": [
    {
     "data": {
      "text/plain": [
       "{'1': {'2', '3'}, '2': {'1', '3', '4'}, '3': {'1', '2', '4'}, '4': {'2', '3'}}"
      ]
     },
     "execution_count": 42,
     "metadata": {},
     "output_type": "execute_result"
    }
   ],
   "source": [
    "adjacency_list"
   ]
  },
  {
   "cell_type": "code",
   "execution_count": 45,
   "id": "eb85ca03",
   "metadata": {},
   "outputs": [
    {
     "data": {
      "text/plain": [
       "[2, 4]"
      ]
     },
     "execution_count": 45,
     "metadata": {},
     "output_type": "execute_result"
    }
   ],
   "source": [
    "x = [1,2,4]\n",
    "\n",
    "x.pop(0)\n",
    "\n",
    "x"
   ]
  },
  {
   "cell_type": "markdown",
   "id": "4a043753",
   "metadata": {},
   "source": [
    "### BFS"
   ]
  },
  {
   "cell_type": "markdown",
   "id": "517284e9",
   "metadata": {},
   "source": [
    "__Algorithm__:\n",
    "\n"
   ]
  },
  {
   "cell_type": "code",
   "execution_count": 28,
   "id": "ee443395",
   "metadata": {},
   "outputs": [],
   "source": [
    "class Queue:\n",
    "\n",
    "    def __init__(self):\n",
    "        self.queue = []\n",
    "\n",
    "    def pop(self) -> int:\n",
    "        if not self.queue:\n",
    "            return None\n",
    "        \n",
    "        return self.queue.pop(0)\n",
    "\n",
    "    def push(self, elem: int):\n",
    "        self.queue.append(elem)\n",
    "\n",
    "    def __repr__(self):\n",
    "        return str(self.queue)\n",
    "    \n",
    "    def is_empty(self):\n",
    "        return len(self.queue) == 0\n"
   ]
  },
  {
   "cell_type": "code",
   "execution_count": 104,
   "id": "f0a60962",
   "metadata": {},
   "outputs": [
    {
     "name": "stdout",
     "output_type": "stream",
     "text": [
      "[4, 1, 2, 3]\n"
     ]
    }
   ],
   "source": [
    "queue = Queue()\n",
    "\n",
    "queue.push(4)\n",
    "queue.push(1)\n",
    "queue.push(2)\n",
    "queue.push(3)\n",
    "\n",
    "print (queue)"
   ]
  },
  {
   "cell_type": "code",
   "execution_count": 105,
   "id": "a1142ec3",
   "metadata": {},
   "outputs": [
    {
     "data": {
      "text/plain": [
       "True"
      ]
     },
     "execution_count": 105,
     "metadata": {},
     "output_type": "execute_result"
    }
   ],
   "source": [
    "queue = Queue()\n",
    "\n",
    "queue.is_empty()"
   ]
  },
  {
   "cell_type": "code",
   "execution_count": 48,
   "id": "0e7727f5",
   "metadata": {},
   "outputs": [
    {
     "data": {
      "text/plain": [
       "4"
      ]
     },
     "execution_count": 48,
     "metadata": {},
     "output_type": "execute_result"
    }
   ],
   "source": [
    "queue.pop()"
   ]
  },
  {
   "cell_type": "code",
   "execution_count": 49,
   "id": "dfa4daf1",
   "metadata": {},
   "outputs": [
    {
     "data": {
      "text/plain": [
       "1"
      ]
     },
     "execution_count": 49,
     "metadata": {},
     "output_type": "execute_result"
    }
   ],
   "source": [
    "queue.pop()"
   ]
  },
  {
   "cell_type": "code",
   "execution_count": 50,
   "id": "ce7170d7",
   "metadata": {},
   "outputs": [
    {
     "name": "stdout",
     "output_type": "stream",
     "text": [
      "[2, 3]\n"
     ]
    }
   ],
   "source": [
    "print (queue)"
   ]
  },
  {
   "cell_type": "code",
   "execution_count": 25,
   "id": "9ef26479",
   "metadata": {},
   "outputs": [],
   "source": [
    "def bfs(g: Graph, src_node: int) -> list:\n",
    "    \"\"\"\n",
    "    Perform BFS traversal on a graph starting from src_node.\n",
    "    Uses a custom Queue class for managing traversal.\n",
    "    Returns a list of nodes in the order they are visited.\n",
    "    \"\"\"\n",
    "\n",
    "    # Step 1: Get adjacency list from graph\n",
    "    g_adjacency_list = g.construct_adjacency_list()\n",
    "\n",
    "    visited = set()    # Keeps track of visited nodes\n",
    "    output = []        # Stores BFS traversal result\n",
    "\n",
    "    queue = Queue()\n",
    "    queue.push(src_node)  # Initialize with the source node\n",
    "    visited.add(src_node)\n",
    "\n",
    "    # Step 2: Process nodes level by level using the queue\n",
    "    while not queue.is_empty():\n",
    "\n",
    "        node = queue.pop()\n",
    "        output.append(node)  # Visit the current node\n",
    "\n",
    "        # Step 3: Traverse neighbors of the current node\n",
    "        for neighbor_ in g_adjacency_list[str(node)]:\n",
    "\n",
    "            if int(neighbor_) not in visited:\n",
    "                visited.add(int(neighbor_))     # Mark neighbor as visited\n",
    "                queue.push(int(neighbor_))      # Add neighbor to queue\n",
    "\n",
    "    return output"
   ]
  },
  {
   "cell_type": "markdown",
   "id": "323c89f2",
   "metadata": {},
   "source": [
    "```\n",
    "Dry Run for Input src_node = 0\n",
    "\n",
    "With:\n",
    "\n",
    "edgelist = [(1, 0), (0, 5), (0, 2), (2, 3), (3, 4)]\n",
    "\n",
    "Adjacency List (undirected graph):\n",
    "\n",
    "{\n",
    "  0: [1, 5, 2],\n",
    "  1: [0],\n",
    "  5: [0],\n",
    "  2: [0, 3],\n",
    "  3: [2, 4],\n",
    "  4: [3]\n",
    "}\n",
    "\n",
    "\n",
    "\n",
    "⸻\n",
    "\n",
    "🔄 Step-by-Step BFS Execution\n",
    "\t•\tStart: queue = [0], visited = {}, output = []\n",
    "\n",
    "\t1.\tPop 0 → output = [0]\n",
    "Neighbors = [1, 5, 2] → enqueue all\n",
    "queue = [1, 5, 2], visited = {1, 5, 2}\n",
    "\t2.\tPop 1 → output = [0, 1]\n",
    "Neighbors = [0] → already visited\n",
    "queue = [5, 2]\n",
    "\t3.\tPop 5 → output = [0, 1, 5]\n",
    "Neighbors = [0] → already visited\n",
    "queue = [2]\n",
    "\t4.\tPop 2 → output = [0, 1, 5, 2]\n",
    "Neighbors = [0, 3] → 3 is unvisited → enqueue\n",
    "queue = [3], visited = {1, 2, 3, 5}\n",
    "\t5.\tPop 3 → output = [0, 1, 5, 2, 3]\n",
    "Neighbors = [2, 4] → 4 is unvisited → enqueue\n",
    "queue = [4], visited = {1, 2, 3, 4, 5}\n",
    "\t6.\tPop 4 → output = [0, 1, 5, 2, 3, 4]\n",
    "Neighbors = [3] → already visited\n",
    "queue = [] → end\n",
    "\n",
    "⸻\n",
    "\n",
    "✅ Final Output:\n",
    "\n",
    "[0, 1, 5, 2, 3, 4]\n",
    "\n",
    "```\n"
   ]
  },
  {
   "cell_type": "code",
   "execution_count": 116,
   "id": "7e568370",
   "metadata": {},
   "outputs": [],
   "source": [
    "def visualize_graph(edgelist: list, is_directed: bool = False):\n",
    "    # Choose the appropriate graph type\n",
    "    G = nx.DiGraph() if is_directed else nx.Graph()\n",
    "    G.add_edges_from(edgelist)\n",
    "\n",
    "    # Set up the plot\n",
    "    plt.figure(figsize=(4, 4))\n",
    "    pos = nx.planar_layout(G)  # You can also use spring_layout for better results in dense graphs\n",
    "\n",
    "    # Draw the graph with or without arrows\n",
    "    if is_directed:\n",
    "        nx.draw(\n",
    "            G,\n",
    "            pos,\n",
    "            with_labels=True,\n",
    "            node_color='skyblue',\n",
    "            node_size=1000,\n",
    "            font_size=14,\n",
    "            edge_color='gray',\n",
    "            arrows=is_directed,       # only True for directed graphs\n",
    "            arrowstyle='-|>',\n",
    "            arrowsize=20\n",
    "        )\n",
    "    else:\n",
    "        nx.draw(\n",
    "            G,\n",
    "            pos,\n",
    "            with_labels=True,\n",
    "            node_color='skyblue',\n",
    "            node_size=1000,\n",
    "            font_size=14,\n",
    "            edge_color='gray',\n",
    "            arrows=is_directed,       # only True for directed graphs\n",
    "        )\n",
    "\n",
    "    plt.title(\"Directed Graph\" if is_directed else \"Undirected Graph\", fontsize=11)\n",
    "    plt.show()"
   ]
  },
  {
   "cell_type": "code",
   "execution_count": 30,
   "id": "335c70e8",
   "metadata": {},
   "outputs": [
    {
     "data": {
      "text/plain": [
       "[0, 5, 2, 1, 3, 4]"
      ]
     },
     "execution_count": 30,
     "metadata": {},
     "output_type": "execute_result"
    }
   ],
   "source": [
    "edgelist = [\n",
    "    (1, 0), (0, 5), (0, 2), (2, 3), (3, 4)\n",
    "] # list of edges\n",
    "\n",
    "g = Graph(edgelist)\n",
    "\n",
    "bfs(g, src_node=0)"
   ]
  },
  {
   "cell_type": "code",
   "execution_count": 31,
   "id": "fe751cbf",
   "metadata": {},
   "outputs": [
    {
     "data": {
      "image/png": "[encoded data removed]",
      "text/plain": [
       "<Figure size 400x400 with 1 Axes>"
      ]
     },
     "metadata": {},
     "output_type": "display_data"
    }
   ],
   "source": [
    "visualize_graph(edgelist)"
   ]
  },
  {
   "cell_type": "code",
   "execution_count": 131,
   "id": "1fa56768",
   "metadata": {},
   "outputs": [
    {
     "data": {
      "image/png": "[encoded data removed]",
      "text/plain": [
       "<Figure size 400x400 with 1 Axes>"
      ]
     },
     "metadata": {},
     "output_type": "display_data"
    }
   ],
   "source": [
    "edgelist = [\n",
    "    (1,0), (1,2), (0,3), (2,3), (3,6), (3,7)\n",
    "]\n",
    "\n",
    "visualize_graph(edgelist)"
   ]
  },
  {
   "cell_type": "code",
   "execution_count": null,
   "id": "4d467fb4",
   "metadata": {},
   "outputs": [
    {
     "data": {
      "text/plain": [
       "[3, 2, 7, 0, 6, 1]"
      ]
     },
     "execution_count": 132,
     "metadata": {},
     "output_type": "execute_result"
    }
   ],
   "source": [
    "g = Graph(edgelist)\n",
    "\n",
    "bfs(g, src_node=3)"
   ]
  },
  {
   "cell_type": "markdown",
   "id": "52f19b1a",
   "metadata": {},
   "source": [
    "### Depth First Search"
   ]
  },
  {
   "cell_type": "code",
   "execution_count": 136,
   "id": "ccc2aa02",
   "metadata": {},
   "outputs": [],
   "source": [
    "edgelist = [\n",
    "    (0,1), (0,4), (1,2), (2,3), (2, 5)\n",
    "]\n",
    "\n",
    "g = Graph(edgelist)"
   ]
  },
  {
   "cell_type": "code",
   "execution_count": 147,
   "id": "9a02d474",
   "metadata": {},
   "outputs": [
    {
     "data": {
      "image/png": "[encoded data removed]",
      "text/plain": [
       "<Figure size 400x400 with 1 Axes>"
      ]
     },
     "metadata": {},
     "output_type": "display_data"
    }
   ],
   "source": [
    "visualize_graph(edgelist)"
   ]
  },
  {
   "cell_type": "code",
   "execution_count": 163,
   "id": "ff1f13f6",
   "metadata": {},
   "outputs": [],
   "source": [
    "def dfs(node: int, output: list, visited: set, adjacency_list: dict):\n",
    "    \"\"\"\n",
    "    Recursive helper function to perform Depth-First Search (DFS)\n",
    "    \n",
    "    Args:\n",
    "    - node: Current node being visited\n",
    "    - output: List to collect traversal order\n",
    "    - visited: Set to track already visited nodes\n",
    "    - adjacency_list: Graph represented as an adjacency list\n",
    "    \"\"\"\n",
    "\n",
    "    print(f\"node: {node} | visited: {visited}\")  # Debug: Show current node and visited set\n",
    "\n",
    "    output.append(node)        # Add current node to traversal output\n",
    "    visited.add(node)          # Mark current node as visited\n",
    "\n",
    "    neighbors = adjacency_list[str(node)]  # Get neighbors of the current node\n",
    "\n",
    "    # Recur for all unvisited neighbors\n",
    "    for neighbor_ in neighbors:\n",
    "        if int(neighbor_) not in visited:\n",
    "            dfs(int(neighbor_), output, visited, adjacency_list)\n",
    "\n",
    "    return\n",
    "\n",
    "\n",
    "def dfs_traversal(g: Graph, src_node: int):\n",
    "    \"\"\"\n",
    "    Wrapper function to initiate DFS traversal from a given source node\n",
    "\n",
    "    Args:\n",
    "    - g: Graph object\n",
    "    - src_node: The starting node for DFS\n",
    "\n",
    "    Returns:\n",
    "    - List representing the DFS traversal order\n",
    "    \"\"\"\n",
    "\n",
    "    adjacency_list = g.construct_adjacency_list()  # Build adjacency list from graph edges\n",
    "\n",
    "    if not adjacency_list:\n",
    "        return []  # Return [] for empty graph\n",
    "\n",
    "    visited = set()     # Track visited nodes to prevent revisiting (avoid cycles)\n",
    "    output = []         # Store traversal order\n",
    "\n",
    "    # Start DFS traversal from the source node\n",
    "    dfs(src_node, output, visited, adjacency_list)\n",
    "\n",
    "    return output"
   ]
  },
  {
   "cell_type": "code",
   "execution_count": 164,
   "id": "eaa056a3",
   "metadata": {},
   "outputs": [
    {
     "name": "stdout",
     "output_type": "stream",
     "text": [
      "node: 0 | visited: set()\n",
      "node: 4 | visited: {0}\n",
      "node: 3 | visited: {0, 4}\n",
      "node: 2 | visited: {0, 3, 4}\n",
      "node: 1 | visited: {0, 2, 3, 4}\n",
      "node: 5 | visited: {0, 1, 2, 3, 4}\n"
     ]
    },
    {
     "data": {
      "text/plain": [
       "[0, 4, 3, 2, 1, 5]"
      ]
     },
     "execution_count": 164,
     "metadata": {},
     "output_type": "execute_result"
    }
   ],
   "source": [
    "dfs_traversal(g, 0)"
   ]
  },
  {
   "cell_type": "code",
   "execution_count": 165,
   "id": "9ce67c62",
   "metadata": {},
   "outputs": [
    {
     "data": {
      "image/png": "[encoded data removed]",
      "text/plain": [
       "<Figure size 400x400 with 1 Axes>"
      ]
     },
     "metadata": {},
     "output_type": "display_data"
    }
   ],
   "source": [
    "edgelist = [\n",
    "    (0,1), (0,4), (1,2), (2,5), (2,3), (4,3)\n",
    "]\n",
    "visualize_graph(edgelist)"
   ]
  },
  {
   "cell_type": "code",
   "execution_count": 166,
   "id": "4ede85c0",
   "metadata": {},
   "outputs": [
    {
     "name": "stdout",
     "output_type": "stream",
     "text": [
      "node: 0 | visited: set()\n",
      "node: 4 | visited: {0}\n",
      "node: 3 | visited: {0, 4}\n",
      "node: 2 | visited: {0, 3, 4}\n",
      "node: 1 | visited: {0, 2, 3, 4}\n",
      "node: 5 | visited: {0, 1, 2, 3, 4}\n"
     ]
    },
    {
     "data": {
      "text/plain": [
       "[0, 4, 3, 2, 1, 5]"
      ]
     },
     "execution_count": 166,
     "metadata": {},
     "output_type": "execute_result"
    }
   ],
   "source": [
    "g = Graph(edgelist)\n",
    "\n",
    "dfs_traversal(g, src_node=0)"
   ]
  },
  {
   "cell_type": "markdown",
   "id": "4383fd5f",
   "metadata": {},
   "source": [
    "### Find if Path Exists in Graph\n",
    "\n",
    "> https://leetcode.com/problems/find-if-path-exists-in-graph/description/\n",
    "\n",
    "\n",
    "---"
   ]
  },
  {
   "cell_type": "code",
   "execution_count": 212,
   "id": "a7567e2c",
   "metadata": {},
   "outputs": [],
   "source": [
    "edges = []\n",
    "g = Graph(edgelist=edges)"
   ]
  },
  {
   "cell_type": "code",
   "execution_count": 213,
   "id": "c59e2bd2",
   "metadata": {},
   "outputs": [],
   "source": [
    "adjacency_list = g.construct_adjacency_list()"
   ]
  },
  {
   "cell_type": "code",
   "execution_count": 214,
   "id": "75512bed",
   "metadata": {},
   "outputs": [
    {
     "data": {
      "text/plain": [
       "{}"
      ]
     },
     "execution_count": 214,
     "metadata": {},
     "output_type": "execute_result"
    }
   ],
   "source": [
    "adjacency_list"
   ]
  },
  {
   "cell_type": "code",
   "execution_count": 208,
   "id": "6d152187",
   "metadata": {},
   "outputs": [
    {
     "data": {
      "image/png": "[encoded data removed]",
      "text/plain": [
       "<Figure size 400x400 with 1 Axes>"
      ]
     },
     "metadata": {},
     "output_type": "display_data"
    }
   ],
   "source": [
    "visualize_graph(edges)"
   ]
  },
  {
   "cell_type": "code",
   "execution_count": null,
   "id": "8246484f",
   "metadata": {},
   "outputs": [],
   "source": [
    "DST_FOUND = False\n",
    "\n",
    "def dfs_till_destination(curr_node: int, dst: int, visited: set, adjacency_list: dict) -> bool:\n",
    "    global DST_FOUND\n",
    "    print(f\"curr_node: {curr_node} | visited: {visited} | dst: {dst}\")  # Debug: Show current node and visited set\n",
    "    \n",
    "    if DST_FOUND:\n",
    "        return DST_FOUND\n",
    "    \n",
    "    if curr_node == dst:\n",
    "        DST_FOUND = True\n",
    "\n",
    "    visited.add(curr_node)\n",
    "\n",
    "    neighbors = adjacency_list[str(curr_node)]\n",
    "\n",
    "    for neighbor_ in neighbors:\n",
    "        if int(neighbor_) not in visited:\n",
    "            dfs_till_destination(\n",
    "                curr_node=int(neighbor_),\n",
    "                dst=dst,\n",
    "                visited=visited,\n",
    "                adjacency_list=adjacency_list\n",
    "            )\n",
    "\n",
    "    return DST_FOUND\n",
    "\n",
    "\n",
    "\n",
    "def dfs_traversal(g: Graph, src_node: int, dst_node: int):\n",
    "    \"\"\"\n",
    "    Wrapper function to initiate DFS traversal from a given source node\n",
    "\n",
    "    Args:\n",
    "    - g: Graph object\n",
    "    - src_node: The starting node for DFS\n",
    "\n",
    "    Returns:\n",
    "    - List representing the DFS traversal order\n",
    "    \"\"\"\n",
    "\n",
    "    adjacency_list = g.construct_adjacency_list()  # Build adjacency list from graph edges\n",
    "\n",
    "    if not adjacency_list:\n",
    "        return False\n",
    "    \n",
    "    if src_node == dst_node:\n",
    "        return True\n",
    "\n",
    "    visited = set()     # Track visited nodes to prevent revisiting (avoid cycles)\n",
    "\n",
    "    path_found = dfs_till_destination(src_node, dst_node, visited, adjacency_list)\n",
    "\n",
    "    return path_found"
   ]
  },
  {
   "cell_type": "code",
   "execution_count": 211,
   "id": "656d5bf8",
   "metadata": {},
   "outputs": [
    {
     "name": "stdout",
     "output_type": "stream",
     "text": [
      "curr_node: 0 | visited: set() | dst: 5\n",
      "curr_node: 2 | visited: {0} | dst: 5\n",
      "curr_node: 1 | visited: {0, 2} | dst: 5\n"
     ]
    },
    {
     "data": {
      "text/plain": [
       "False"
      ]
     },
     "execution_count": 211,
     "metadata": {},
     "output_type": "execute_result"
    }
   ],
   "source": [
    "dfs_traversal(g, 0, 5)"
   ]
  },
  {
   "cell_type": "markdown",
   "id": "4e2bff89",
   "metadata": {},
   "source": [
    "### Steps By Knight"
   ]
  },
  {
   "cell_type": "markdown",
   "id": "b550a86d",
   "metadata": {},
   "source": [
    "\n",
    "\n",
    "🧠 Intuition Behind the Approach\n",
    "\n",
    "A knight in chess moves in an “L” shape: two squares in one direction and one square perpendicular. This gives it exactly 8 possible moves from any position.\n",
    "\n",
    "To find the minimum number of moves a knight needs to go from a source to a destination on an N x N board, we model the board as a graph where each position is a node, and edges connect to valid knight moves.\n",
    "\n",
    "This is a classic shortest path problem in an unweighted graph, making Breadth-First Search (BFS) the perfect choice because:\n",
    "\t•\tBFS explores all positions level by level (i.e., by number of moves),\n",
    "\t•\tThe first time we reach the destination, it’s guaranteed to be the shortest path.\n",
    "\n",
    "⸻\n",
    "\n",
    "🔄 Example to Build Intuition\n",
    "\n",
    "Say the knight starts at position (1, 3) and needs to reach (5, 0) on a 6x6 board.\n",
    "\n",
    "BFS will explore like this:\n",
    "\t•\tStep 0: (1, 3) → source\n",
    "\t•\tStep 1: it explores all 8 valid positions the knight can jump to from (1, 3)\n",
    "\t•\tStep 2: from each of those new positions, it explores further\n",
    "\t•\t…\n",
    "\t•\tThe first time it reaches (5, 0), let’s say it took 3 levels — that’s the minimum number of moves.\n",
    "\n",
    "Path (one possible valid path):\n",
    "\n",
    "(1, 3) → (3, 4) → (4, 2) → (5, 0)\n",
    "\n",
    "So the output is 3.\n",
    "\n",
    "⸻\n",
    "\n",
    "💡 Summary\n",
    "\t•\tThink of the knight as moving on a graph.\n",
    "\t•\tUse BFS to explore shortest paths from source.\n",
    "\t•\tTrack visited positions to prevent loops.\n",
    "\t•\tReturn the level when destination is found.\n",
    "\n",
    "This approach guarantees correctness and efficiency for minimum-move problems like this."
   ]
  },
  {
   "cell_type": "code",
   "execution_count": null,
   "id": "75608cce",
   "metadata": {},
   "outputs": [],
   "source": [
    "def get_neighbors(knightPos: tuple, N: int) -> list:\n",
    "    \"\"\"\n",
    "    Given a knight's position and board size, return all valid moves from this position.\n",
    "    A knight moves in 8 possible L-shaped directions.\n",
    "    \"\"\"\n",
    "\n",
    "    i, j = knightPos\n",
    "\n",
    "    # All 8 possible moves for a knight\n",
    "    all_possible_neighbors = [\n",
    "        (i-1, j+2), (i+1, j+2), (i-2, j+1), (i-2, j-1),\n",
    "        (i+2, j+1), (i+2, j-1), (i-1, j-2), (i+1, j-2)\n",
    "    ]\n",
    "\n",
    "    # Keep only the valid moves within bounds of the board\n",
    "    valid_neighbors = [\n",
    "        (a, b) for a, b in all_possible_neighbors if 1 <= a <= N and 1 <= b <= N\n",
    "    ]\n",
    "\n",
    "    return valid_neighbors"
   ]
  },
  {
   "cell_type": "code",
   "execution_count": 254,
   "id": "4a6e9de1",
   "metadata": {},
   "outputs": [
    {
     "data": {
      "text/plain": [
       "[(2, 6), (2, 4), (6, 6), (6, 4), (3, 3), (5, 3)]"
      ]
     },
     "execution_count": 254,
     "metadata": {},
     "output_type": "execute_result"
    }
   ],
   "source": [
    "get_neighbors((4,5), 6)"
   ]
  },
  {
   "cell_type": "code",
   "execution_count": null,
   "id": "129df0d6",
   "metadata": {},
   "outputs": [],
   "source": []
  },
  {
   "cell_type": "code",
   "execution_count": null,
   "id": "aa8fcf35",
   "metadata": {},
   "outputs": [],
   "source": []
  },
  {
   "cell_type": "code",
   "execution_count": null,
   "id": "e68c7e2c",
   "metadata": {},
   "outputs": [
    {
     "name": "stdout",
     "output_type": "stream",
     "text": [
      "queue: deque([(1, 0)])\n",
      "curr_node: 1 | curr_level: 0\n",
      "all_neighbors: ['2', '3', '4']\n",
      "queue: deque([(2, 1), (3, 1), (4, 1)])\n",
      "curr_node: 2 | curr_level: 1\n",
      "all_neighbors: ['1', '5']\n",
      "queue: deque([(3, 1), (4, 1), (5, 2)])\n",
      "curr_node: 3 | curr_level: 1\n",
      "all_neighbors: ['1']\n",
      "queue: deque([(4, 1), (5, 2)])\n",
      "curr_node: 4 | curr_level: 1\n",
      "all_neighbors: ['1', '6']\n",
      "queue: deque([(5, 2), (6, 2)])\n",
      "curr_node: 5 | curr_level: 2\n"
     ]
    },
    {
     "data": {
      "text/plain": [
       "2"
      ]
     },
     "execution_count": 271,
     "metadata": {},
     "output_type": "execute_result"
    }
   ],
   "source": []
  },
  {
   "cell_type": "code",
   "execution_count": null,
   "id": "be153013",
   "metadata": {},
   "outputs": [],
   "source": [
    "def min_knight_moves(src: tuple, dst: tuple, N: int) -> int:\n",
    "    \"\"\"\n",
    "    Return the minimum number of steps a knight needs to reach from src to dst on an NxN board.\n",
    "    \n",
    "    Args:\n",
    "    - src: Starting position of the knight (1-based indexing)\n",
    "    - dst: Target position\n",
    "    - N: Size of the NxN chessboard\n",
    "    \n",
    "    Uses BFS for shortest path.\n",
    "    \"\"\"\n",
    "\n",
    "    # Initialize BFS queue and visited set\n",
    "    queue = deque()\n",
    "    visited = set()\n",
    "\n",
    "    # Push the source position along with level 0 (number of moves)\n",
    "    queue.append((src, 0))\n",
    "    visited.add(src)\n",
    "\n",
    "    while queue:\n",
    "        curr_node, curr_level = queue.popleft()\n",
    "\n",
    "        # Print current exploration state (for dry-run)\n",
    "        print(f\"Visiting: {curr_node} at level: {curr_level}\")\n",
    "\n",
    "        # If we've reached the destination, return number of steps taken\n",
    "        if curr_node == dst:\n",
    "            return curr_level\n",
    "\n",
    "        # Explore all valid neighbors (next knight moves)\n",
    "        for neighbor in get_neighbors(curr_node, N):\n",
    "            if neighbor not in visited:\n",
    "                visited.add(neighbor)\n",
    "                queue.append((neighbor, curr_level + 1))  # Increase move count\n",
    "\n",
    "    # In case no path is found (should not happen on a valid board)\n",
    "    return -1"
   ]
  },
  {
   "cell_type": "code",
   "execution_count": 274,
   "id": "281ed1c2",
   "metadata": {},
   "outputs": [
    {
     "name": "stdout",
     "output_type": "stream",
     "text": [
      "queue: deque([((3, 3), 0)])\n",
      "curr_node: (3, 3) | curr_level: 0\n",
      "all_neighbors: [(1, 2), (2, 1)]\n",
      "queue: deque([((1, 2), 1), ((2, 1), 1)])\n",
      "curr_node: (1, 2) | curr_level: 1\n"
     ]
    },
    {
     "data": {
      "text/plain": [
       "1"
      ]
     },
     "execution_count": 274,
     "metadata": {},
     "output_type": "execute_result"
    }
   ],
   "source": [
    "min_knight_moves((3,3), (1,2), 3)"
   ]
  },
  {
   "cell_type": "code",
   "execution_count": 275,
   "id": "fc2868e7",
   "metadata": {},
   "outputs": [
    {
     "name": "stdout",
     "output_type": "stream",
     "text": [
      "queue: deque([((4, 5), 0)])\n",
      "curr_node: (4, 5) | curr_level: 0\n",
      "all_neighbors: [(2, 6), (2, 4), (6, 6), (6, 4), (3, 3), (5, 3)]\n",
      "queue: deque([((2, 6), 1), ((2, 4), 1), ((6, 6), 1), ((6, 4), 1), ((3, 3), 1), ((5, 3), 1)])\n",
      "curr_node: (2, 6) | curr_level: 1\n",
      "all_neighbors: [(4, 5), (1, 4), (3, 4)]\n",
      "queue: deque([((2, 4), 1), ((6, 6), 1), ((6, 4), 1), ((3, 3), 1), ((5, 3), 1), ((1, 4), 2), ((3, 4), 2)])\n",
      "curr_node: (2, 4) | curr_level: 1\n",
      "all_neighbors: [(1, 6), (3, 6), (4, 5), (4, 3), (1, 2), (3, 2)]\n",
      "queue: deque([((6, 6), 1), ((6, 4), 1), ((3, 3), 1), ((5, 3), 1), ((1, 4), 2), ((3, 4), 2), ((1, 6), 2), ((3, 6), 2), ((4, 3), 2), ((1, 2), 2), ((3, 2), 2)])\n",
      "curr_node: (6, 6) | curr_level: 1\n",
      "all_neighbors: [(4, 5), (5, 4)]\n",
      "queue: deque([((6, 4), 1), ((3, 3), 1), ((5, 3), 1), ((1, 4), 2), ((3, 4), 2), ((1, 6), 2), ((3, 6), 2), ((4, 3), 2), ((1, 2), 2), ((3, 2), 2), ((5, 4), 2)])\n",
      "curr_node: (6, 4) | curr_level: 1\n",
      "all_neighbors: [(5, 6), (4, 5), (4, 3), (5, 2)]\n",
      "queue: deque([((3, 3), 1), ((5, 3), 1), ((1, 4), 2), ((3, 4), 2), ((1, 6), 2), ((3, 6), 2), ((4, 3), 2), ((1, 2), 2), ((3, 2), 2), ((5, 4), 2), ((5, 6), 2), ((5, 2), 2)])\n",
      "curr_node: (3, 3) | curr_level: 1\n",
      "all_neighbors: [(2, 5), (4, 5), (1, 4), (1, 2), (5, 4), (5, 2), (2, 1), (4, 1)]\n",
      "queue: deque([((5, 3), 1), ((1, 4), 2), ((3, 4), 2), ((1, 6), 2), ((3, 6), 2), ((4, 3), 2), ((1, 2), 2), ((3, 2), 2), ((5, 4), 2), ((5, 6), 2), ((5, 2), 2), ((2, 5), 2), ((2, 1), 2), ((4, 1), 2)])\n",
      "curr_node: (5, 3) | curr_level: 1\n",
      "all_neighbors: [(4, 5), (6, 5), (3, 4), (3, 2), (4, 1), (6, 1)]\n",
      "queue: deque([((1, 4), 2), ((3, 4), 2), ((1, 6), 2), ((3, 6), 2), ((4, 3), 2), ((1, 2), 2), ((3, 2), 2), ((5, 4), 2), ((5, 6), 2), ((5, 2), 2), ((2, 5), 2), ((2, 1), 2), ((4, 1), 2), ((6, 5), 2), ((6, 1), 2)])\n",
      "curr_node: (1, 4) | curr_level: 2\n",
      "all_neighbors: [(2, 6), (3, 5), (3, 3), (2, 2)]\n",
      "queue: deque([((3, 4), 2), ((1, 6), 2), ((3, 6), 2), ((4, 3), 2), ((1, 2), 2), ((3, 2), 2), ((5, 4), 2), ((5, 6), 2), ((5, 2), 2), ((2, 5), 2), ((2, 1), 2), ((4, 1), 2), ((6, 5), 2), ((6, 1), 2), ((3, 5), 3), ((2, 2), 3)])\n",
      "curr_node: (3, 4) | curr_level: 2\n",
      "all_neighbors: [(2, 6), (4, 6), (1, 5), (1, 3), (5, 5), (5, 3), (2, 2), (4, 2)]\n",
      "queue: deque([((1, 6), 2), ((3, 6), 2), ((4, 3), 2), ((1, 2), 2), ((3, 2), 2), ((5, 4), 2), ((5, 6), 2), ((5, 2), 2), ((2, 5), 2), ((2, 1), 2), ((4, 1), 2), ((6, 5), 2), ((6, 1), 2), ((3, 5), 3), ((2, 2), 3), ((4, 6), 3), ((1, 5), 3), ((1, 3), 3), ((5, 5), 3), ((4, 2), 3)])\n",
      "curr_node: (1, 6) | curr_level: 2\n",
      "all_neighbors: [(3, 5), (2, 4)]\n",
      "queue: deque([((3, 6), 2), ((4, 3), 2), ((1, 2), 2), ((3, 2), 2), ((5, 4), 2), ((5, 6), 2), ((5, 2), 2), ((2, 5), 2), ((2, 1), 2), ((4, 1), 2), ((6, 5), 2), ((6, 1), 2), ((3, 5), 3), ((2, 2), 3), ((4, 6), 3), ((1, 5), 3), ((1, 3), 3), ((5, 5), 3), ((4, 2), 3)])\n",
      "curr_node: (3, 6) | curr_level: 2\n",
      "all_neighbors: [(1, 5), (5, 5), (2, 4), (4, 4)]\n",
      "queue: deque([((4, 3), 2), ((1, 2), 2), ((3, 2), 2), ((5, 4), 2), ((5, 6), 2), ((5, 2), 2), ((2, 5), 2), ((2, 1), 2), ((4, 1), 2), ((6, 5), 2), ((6, 1), 2), ((3, 5), 3), ((2, 2), 3), ((4, 6), 3), ((1, 5), 3), ((1, 3), 3), ((5, 5), 3), ((4, 2), 3), ((4, 4), 3)])\n",
      "curr_node: (4, 3) | curr_level: 2\n",
      "all_neighbors: [(3, 5), (5, 5), (2, 4), (2, 2), (6, 4), (6, 2), (3, 1), (5, 1)]\n",
      "queue: deque([((1, 2), 2), ((3, 2), 2), ((5, 4), 2), ((5, 6), 2), ((5, 2), 2), ((2, 5), 2), ((2, 1), 2), ((4, 1), 2), ((6, 5), 2), ((6, 1), 2), ((3, 5), 3), ((2, 2), 3), ((4, 6), 3), ((1, 5), 3), ((1, 3), 3), ((5, 5), 3), ((4, 2), 3), ((4, 4), 3), ((6, 2), 3), ((3, 1), 3), ((5, 1), 3)])\n",
      "curr_node: (1, 2) | curr_level: 2\n",
      "all_neighbors: [(2, 4), (3, 3), (3, 1)]\n",
      "queue: deque([((3, 2), 2), ((5, 4), 2), ((5, 6), 2), ((5, 2), 2), ((2, 5), 2), ((2, 1), 2), ((4, 1), 2), ((6, 5), 2), ((6, 1), 2), ((3, 5), 3), ((2, 2), 3), ((4, 6), 3), ((1, 5), 3), ((1, 3), 3), ((5, 5), 3), ((4, 2), 3), ((4, 4), 3), ((6, 2), 3), ((3, 1), 3), ((5, 1), 3)])\n",
      "curr_node: (3, 2) | curr_level: 2\n",
      "all_neighbors: [(2, 4), (4, 4), (1, 3), (1, 1), (5, 3), (5, 1)]\n",
      "queue: deque([((5, 4), 2), ((5, 6), 2), ((5, 2), 2), ((2, 5), 2), ((2, 1), 2), ((4, 1), 2), ((6, 5), 2), ((6, 1), 2), ((3, 5), 3), ((2, 2), 3), ((4, 6), 3), ((1, 5), 3), ((1, 3), 3), ((5, 5), 3), ((4, 2), 3), ((4, 4), 3), ((6, 2), 3), ((3, 1), 3), ((5, 1), 3), ((1, 1), 3)])\n",
      "curr_node: (5, 4) | curr_level: 2\n",
      "all_neighbors: [(4, 6), (6, 6), (3, 5), (3, 3), (4, 2), (6, 2)]\n",
      "queue: deque([((5, 6), 2), ((5, 2), 2), ((2, 5), 2), ((2, 1), 2), ((4, 1), 2), ((6, 5), 2), ((6, 1), 2), ((3, 5), 3), ((2, 2), 3), ((4, 6), 3), ((1, 5), 3), ((1, 3), 3), ((5, 5), 3), ((4, 2), 3), ((4, 4), 3), ((6, 2), 3), ((3, 1), 3), ((5, 1), 3), ((1, 1), 3)])\n",
      "curr_node: (5, 6) | curr_level: 2\n",
      "all_neighbors: [(3, 5), (4, 4), (6, 4)]\n",
      "queue: deque([((5, 2), 2), ((2, 5), 2), ((2, 1), 2), ((4, 1), 2), ((6, 5), 2), ((6, 1), 2), ((3, 5), 3), ((2, 2), 3), ((4, 6), 3), ((1, 5), 3), ((1, 3), 3), ((5, 5), 3), ((4, 2), 3), ((4, 4), 3), ((6, 2), 3), ((3, 1), 3), ((5, 1), 3), ((1, 1), 3)])\n",
      "curr_node: (5, 2) | curr_level: 2\n",
      "all_neighbors: [(4, 4), (6, 4), (3, 3), (3, 1)]\n",
      "queue: deque([((2, 5), 2), ((2, 1), 2), ((4, 1), 2), ((6, 5), 2), ((6, 1), 2), ((3, 5), 3), ((2, 2), 3), ((4, 6), 3), ((1, 5), 3), ((1, 3), 3), ((5, 5), 3), ((4, 2), 3), ((4, 4), 3), ((6, 2), 3), ((3, 1), 3), ((5, 1), 3), ((1, 1), 3)])\n",
      "curr_node: (2, 5) | curr_level: 2\n",
      "all_neighbors: [(4, 6), (4, 4), (1, 3), (3, 3)]\n",
      "queue: deque([((2, 1), 2), ((4, 1), 2), ((6, 5), 2), ((6, 1), 2), ((3, 5), 3), ((2, 2), 3), ((4, 6), 3), ((1, 5), 3), ((1, 3), 3), ((5, 5), 3), ((4, 2), 3), ((4, 4), 3), ((6, 2), 3), ((3, 1), 3), ((5, 1), 3), ((1, 1), 3)])\n",
      "curr_node: (2, 1) | curr_level: 2\n",
      "all_neighbors: [(1, 3), (3, 3), (4, 2)]\n",
      "queue: deque([((4, 1), 2), ((6, 5), 2), ((6, 1), 2), ((3, 5), 3), ((2, 2), 3), ((4, 6), 3), ((1, 5), 3), ((1, 3), 3), ((5, 5), 3), ((4, 2), 3), ((4, 4), 3), ((6, 2), 3), ((3, 1), 3), ((5, 1), 3), ((1, 1), 3)])\n",
      "curr_node: (4, 1) | curr_level: 2\n",
      "all_neighbors: [(3, 3), (5, 3), (2, 2), (6, 2)]\n",
      "queue: deque([((6, 5), 2), ((6, 1), 2), ((3, 5), 3), ((2, 2), 3), ((4, 6), 3), ((1, 5), 3), ((1, 3), 3), ((5, 5), 3), ((4, 2), 3), ((4, 4), 3), ((6, 2), 3), ((3, 1), 3), ((5, 1), 3), ((1, 1), 3)])\n",
      "curr_node: (6, 5) | curr_level: 2\n",
      "all_neighbors: [(4, 6), (4, 4), (5, 3)]\n",
      "queue: deque([((6, 1), 2), ((3, 5), 3), ((2, 2), 3), ((4, 6), 3), ((1, 5), 3), ((1, 3), 3), ((5, 5), 3), ((4, 2), 3), ((4, 4), 3), ((6, 2), 3), ((3, 1), 3), ((5, 1), 3), ((1, 1), 3)])\n",
      "curr_node: (6, 1) | curr_level: 2\n",
      "all_neighbors: [(5, 3), (4, 2)]\n",
      "queue: deque([((3, 5), 3), ((2, 2), 3), ((4, 6), 3), ((1, 5), 3), ((1, 3), 3), ((5, 5), 3), ((4, 2), 3), ((4, 4), 3), ((6, 2), 3), ((3, 1), 3), ((5, 1), 3), ((1, 1), 3)])\n",
      "curr_node: (3, 5) | curr_level: 3\n",
      "all_neighbors: [(1, 6), (1, 4), (5, 6), (5, 4), (2, 3), (4, 3)]\n",
      "queue: deque([((2, 2), 3), ((4, 6), 3), ((1, 5), 3), ((1, 3), 3), ((5, 5), 3), ((4, 2), 3), ((4, 4), 3), ((6, 2), 3), ((3, 1), 3), ((5, 1), 3), ((1, 1), 3), ((2, 3), 4)])\n",
      "curr_node: (2, 2) | curr_level: 3\n",
      "all_neighbors: [(1, 4), (3, 4), (4, 3), (4, 1)]\n",
      "queue: deque([((4, 6), 3), ((1, 5), 3), ((1, 3), 3), ((5, 5), 3), ((4, 2), 3), ((4, 4), 3), ((6, 2), 3), ((3, 1), 3), ((5, 1), 3), ((1, 1), 3), ((2, 3), 4)])\n",
      "curr_node: (4, 6) | curr_level: 3\n",
      "all_neighbors: [(2, 5), (6, 5), (3, 4), (5, 4)]\n",
      "queue: deque([((1, 5), 3), ((1, 3), 3), ((5, 5), 3), ((4, 2), 3), ((4, 4), 3), ((6, 2), 3), ((3, 1), 3), ((5, 1), 3), ((1, 1), 3), ((2, 3), 4)])\n",
      "curr_node: (1, 5) | curr_level: 3\n",
      "all_neighbors: [(3, 6), (3, 4), (2, 3)]\n",
      "queue: deque([((1, 3), 3), ((5, 5), 3), ((4, 2), 3), ((4, 4), 3), ((6, 2), 3), ((3, 1), 3), ((5, 1), 3), ((1, 1), 3), ((2, 3), 4)])\n",
      "curr_node: (1, 3) | curr_level: 3\n",
      "all_neighbors: [(2, 5), (3, 4), (3, 2), (2, 1)]\n",
      "queue: deque([((5, 5), 3), ((4, 2), 3), ((4, 4), 3), ((6, 2), 3), ((3, 1), 3), ((5, 1), 3), ((1, 1), 3), ((2, 3), 4)])\n",
      "curr_node: (5, 5) | curr_level: 3\n",
      "all_neighbors: [(3, 6), (3, 4), (4, 3), (6, 3)]\n",
      "queue: deque([((4, 2), 3), ((4, 4), 3), ((6, 2), 3), ((3, 1), 3), ((5, 1), 3), ((1, 1), 3), ((2, 3), 4), ((6, 3), 4)])\n",
      "curr_node: (4, 2) | curr_level: 3\n",
      "all_neighbors: [(3, 4), (5, 4), (2, 3), (2, 1), (6, 3), (6, 1)]\n",
      "queue: deque([((4, 4), 3), ((6, 2), 3), ((3, 1), 3), ((5, 1), 3), ((1, 1), 3), ((2, 3), 4), ((6, 3), 4)])\n",
      "curr_node: (4, 4) | curr_level: 3\n",
      "all_neighbors: [(3, 6), (5, 6), (2, 5), (2, 3), (6, 5), (6, 3), (3, 2), (5, 2)]\n",
      "queue: deque([((6, 2), 3), ((3, 1), 3), ((5, 1), 3), ((1, 1), 3), ((2, 3), 4), ((6, 3), 4)])\n",
      "curr_node: (6, 2) | curr_level: 3\n",
      "all_neighbors: [(5, 4), (4, 3), (4, 1)]\n",
      "queue: deque([((3, 1), 3), ((5, 1), 3), ((1, 1), 3), ((2, 3), 4), ((6, 3), 4)])\n",
      "curr_node: (3, 1) | curr_level: 3\n",
      "all_neighbors: [(2, 3), (4, 3), (1, 2), (5, 2)]\n",
      "queue: deque([((5, 1), 3), ((1, 1), 3), ((2, 3), 4), ((6, 3), 4)])\n",
      "curr_node: (5, 1) | curr_level: 3\n",
      "all_neighbors: [(4, 3), (6, 3), (3, 2)]\n",
      "queue: deque([((1, 1), 3), ((2, 3), 4), ((6, 3), 4)])\n",
      "curr_node: (1, 1) | curr_level: 3\n"
     ]
    },
    {
     "data": {
      "text/plain": [
       "3"
      ]
     },
     "execution_count": 275,
     "metadata": {},
     "output_type": "execute_result"
    }
   ],
   "source": [
    "min_knight_moves((4,5), (1,1), 6)"
   ]
  },
  {
   "cell_type": "markdown",
   "id": "daf840cd",
   "metadata": {},
   "source": [
    "### BFS with Level Tracking\n",
    "\n",
    "\n",
    "⸻\n",
    "\n",
    "🧠 Intuition Behind the Approach\n",
    "\n",
    "You are trying to find the shortest path (in terms of number of edges or “hops”) between two nodes in an unweighted graph represented using an adjacency list.\n",
    "\n",
    "To solve this, you’re using Breadth-First Search (BFS) with level tracking. BFS is ideal here because it explores all nodes at distance k before exploring nodes at distance k+1, guaranteeing the shortest path is found.\n",
    "\n",
    "You’re explicitly storing the current level (distance from source) with each node in the queue using tuples of the form (node, level).\n",
    "\n",
    "⸻\n",
    "\n",
    "🔄 Example to Build Intuition\n",
    "\n",
    "Given the graph:\n",
    "\n",
    "1: [2, 3, 4]\n",
    "2: [1, 5]\n",
    "3: [1]\n",
    "4: [1, 6]\n",
    "5: [2]\n",
    "6: [4]\n",
    "\n",
    "You are finding the shortest path from node 1 to node 5.\n",
    "\n",
    "Let’s walk through the BFS steps:\n",
    "\t•\tStart at node 1, level 0 → queue = [(1, 0)]\n",
    "\t•\tFrom 1, neighbors are 2, 3, 4. Add them to the queue with level 1 → queue = [(2,1), (3,1), (4,1)]\n",
    "\t•\tPop 2, it’s not the destination. Its neighbor is 5, which hasn’t been visited → queue = [..., (5, 2)]\n",
    "\t•\tPop 5, it’s the destination! Return level 2.\n",
    "\n",
    "So, the shortest path from 1 to 5 is:\n",
    "\n",
    "1 → 2 → 5 (2 steps)\n",
    "\n",
    "\n",
    "⸻\n",
    "\n",
    "💡 Summary\n",
    "\t•\tYou are solving a shortest-path-in-unweighted-graph problem.\n",
    "\t•\tBFS explores neighbors level-by-level, so the first time you reach the destination, it’s the shortest path.\n",
    "\t•\tYou’re using a visited set to prevent revisiting nodes and infinite loops.\n",
    "\t•\tThe level variable in the queue keeps track of the number of steps taken so far.\n",
    "\n",
    "This structure is a classic template for:\n",
    "\t•\tFinding minimum moves in games or grids.\n",
    "\t•\tChecking shortest distance in graphs.\n",
    "\t•\tPerforming multi-source BFS (with slight tweaks)."
   ]
  },
  {
   "cell_type": "code",
   "execution_count": 15,
   "id": "2b9437cd",
   "metadata": {},
   "outputs": [],
   "source": [
    "def bfs_with_level(src: int, adjacency_list: dict):\n",
    "\n",
    "\n",
    "    level = 0\n",
    "    queue = deque()\n",
    "    visited = set()\n",
    "\n",
    "    queue.append(src)\n",
    "    visited.add(src)\n",
    "    output = {}\n",
    "    \n",
    "\n",
    "    while len(queue) > 0:\n",
    "\n",
    "        size = len(queue)\n",
    "        print (f\"queue: {queue} | size: {size}\")\n",
    "\n",
    "        for _ in range(size):\n",
    "            \n",
    "            node = queue.popleft()\n",
    "            output[node] = level\n",
    "            print (f\"popped node: {node} | level: {level}\")\n",
    "            neighbors = adjacency_list[str(node)]\n",
    "            print (f\"neighbors: {neighbors}\")\n",
    "\n",
    "            for neighbor_ in neighbors:\n",
    "                if int(neighbor_) not in visited:\n",
    "                    visited.add(int(neighbor_))\n",
    "                    queue.append(int(neighbor_))\n",
    "\n",
    "        level += 1\n",
    "\n",
    "    return output"
   ]
  },
  {
   "cell_type": "code",
   "execution_count": 16,
   "id": "4a58213c",
   "metadata": {},
   "outputs": [],
   "source": [
    "adjacency_list = {\n",
    "    '1': ['2', '3', '4'],\n",
    "    '2': ['1', '5'],\n",
    "    '3': ['1'],\n",
    "    '4': ['1', '6'],\n",
    "    '5': ['2'],\n",
    "    '6':['4']\n",
    "}"
   ]
  },
  {
   "cell_type": "code",
   "execution_count": 17,
   "id": "10ccbf32",
   "metadata": {},
   "outputs": [
    {
     "name": "stdout",
     "output_type": "stream",
     "text": [
      "queue: deque([1]) | size: 1\n",
      "popped node: 1 | level: 0\n",
      "neighbors: ['2', '3', '4']\n",
      "queue: deque([2, 3, 4]) | size: 3\n",
      "popped node: 2 | level: 1\n",
      "neighbors: ['1', '5']\n",
      "popped node: 3 | level: 1\n",
      "neighbors: ['1']\n",
      "popped node: 4 | level: 1\n",
      "neighbors: ['1', '6']\n",
      "queue: deque([5, 6]) | size: 2\n",
      "popped node: 5 | level: 2\n",
      "neighbors: ['2']\n",
      "popped node: 6 | level: 2\n",
      "neighbors: ['4']\n"
     ]
    },
    {
     "data": {
      "text/plain": [
       "{1: 0, 2: 1, 3: 1, 4: 1, 5: 2, 6: 2}"
      ]
     },
     "execution_count": 17,
     "metadata": {},
     "output_type": "execute_result"
    }
   ],
   "source": [
    "bfs_with_level(src=1, adjacency_list=adjacency_list)"
   ]
  },
  {
   "cell_type": "markdown",
   "id": "8479837a",
   "metadata": {},
   "source": [
    "### Reorder Routes to Make All Paths Lead to the City Zero"
   ]
  },
  {
   "cell_type": "markdown",
   "id": "b403c0a8",
   "metadata": {},
   "source": [
    "### Intuition\n",
    "\n",
    "\n",
    "perform a traversal (say BFS)\n",
    "\n",
    "Now for a node lets say i have 3 neighbors\n",
    "\n",
    "- 2 incoming\n",
    "- 1 outgoing\n",
    "\n",
    "For the outgoing neighbor, I have to reverse the edge - count += 1\n",
    "\n",
    "For the incoming ones i keep as is\n",
    "\n",
    "... repeat\n",
    "\n",
    "So along with the neighbors in adjacency list I need to keep track if that neighbor is incoming or outgoing\n"
   ]
  },
  {
   "cell_type": "code",
   "execution_count": 103,
   "id": "34ebd6cc",
   "metadata": {},
   "outputs": [],
   "source": [
    "def construct_adjacency_list(edgelist) -> Dict[str, set]:\n",
    "\n",
    "    adjacency_list = {}\n",
    "    for connection_ in edgelist:\n",
    "\n",
    "        src, dst = str(connection_[0]), str(connection_[1])\n",
    "        \n",
    "        # 1: there is a conn src ---> dst\n",
    "        if src in adjacency_list:\n",
    "            adjacency_list[src].append([dst, 1])\n",
    "\n",
    "        else:\n",
    "            adjacency_list[src] = [[dst, 1]]\n",
    "\n",
    "        # -1: there is a conn src <--- dst\n",
    "        if dst in adjacency_list:\n",
    "            adjacency_list[dst].append([src, -1])\n",
    "\n",
    "        else:\n",
    "            adjacency_list[dst] = [[src, -1]]\n",
    "\n",
    "    return adjacency_list"
   ]
  },
  {
   "cell_type": "code",
   "execution_count": 106,
   "id": "c71fa716",
   "metadata": {},
   "outputs": [
    {
     "data": {
      "image/png": "[encoded data removed]",
      "text/plain": [
       "<Figure size 400x400 with 1 Axes>"
      ]
     },
     "metadata": {},
     "output_type": "display_data"
    }
   ],
   "source": [
    "edgelist = [[0,1],[1,3],[2,3],[4,0],[4,5]]\n",
    "\n",
    "visualize_graph(edgelist, is_directed=True)"
   ]
  },
  {
   "cell_type": "code",
   "execution_count": 107,
   "id": "87040182",
   "metadata": {},
   "outputs": [],
   "source": [
    "adjacency_list = construct_adjacency_list(edgelist)"
   ]
  },
  {
   "cell_type": "code",
   "execution_count": 108,
   "id": "ca2f6703",
   "metadata": {},
   "outputs": [
    {
     "data": {
      "text/plain": [
       "{'0': [['1', 1], ['4', -1]],\n",
       " '1': [['0', -1], ['3', 1]],\n",
       " '3': [['1', -1], ['2', -1]],\n",
       " '2': [['3', 1]],\n",
       " '4': [['0', 1], ['5', 1]],\n",
       " '5': [['4', -1]]}"
      ]
     },
     "execution_count": 108,
     "metadata": {},
     "output_type": "execute_result"
    }
   ],
   "source": [
    "adjacency_list"
   ]
  },
  {
   "cell_type": "code",
   "execution_count": 109,
   "id": "688b3f0f",
   "metadata": {},
   "outputs": [],
   "source": [
    "def reorder_routes(src: int, edgelist: list) -> int:\n",
    "\n",
    "    adjacency_list = construct_adjacency_list(edgelist)\n",
    "\n",
    "    # initial steps\n",
    "    num_reorders = 0\n",
    "\n",
    "    queue = deque()\n",
    "    queue.append(src)\n",
    "    visited = set()\n",
    "    visited.add(src)\n",
    "\n",
    "    while len(queue) > 0:\n",
    "\n",
    "        print (f\"queue: {queue} | visited: {visited}\")\n",
    "\n",
    "        curr_node = queue.popleft()\n",
    "\n",
    "\n",
    "        # get all incoming and outgoing neighbors\n",
    "        neighbors = adjacency_list[str(curr_node)]\n",
    "\n",
    "        print (f\"curr_node: {curr_node} | neighbors: {neighbors} \")\n",
    "\n",
    "        for neighbor_ in neighbors:\n",
    "            \n",
    "            neighbor_node_ = int(neighbor_[0])\n",
    "            neighbor_outgoing_ = neighbor_[1]\n",
    "\n",
    "            if neighbor_node_ not in visited:\n",
    "                visited.add(neighbor_node_)\n",
    "                queue.append(neighbor_node_)\n",
    "\n",
    "                # if its an outgoing edge we need to reverse it\n",
    "                if neighbor_outgoing_ == 1:\n",
    "                    num_reorders += 1\n",
    "                    print (f\"neighbor: {neighbor_node_} needs conn reversed | num_reorders: {num_reorders}\")\n",
    "\n",
    "\n",
    "    return num_reorders"
   ]
  },
  {
   "cell_type": "code",
   "execution_count": 110,
   "id": "9bb4a335",
   "metadata": {},
   "outputs": [
    {
     "name": "stdout",
     "output_type": "stream",
     "text": [
      "queue: deque([0]) | visited: {0}\n",
      "curr_node: 0 | neighbors: [['1', 1], ['4', -1]] \n",
      "neighbor: 1 needs conn reversed | num_reorders: 1\n",
      "queue: deque([1, 4]) | visited: {0, 1, 4}\n",
      "curr_node: 1 | neighbors: [['0', -1], ['3', 1]] \n",
      "neighbor: 3 needs conn reversed | num_reorders: 2\n",
      "queue: deque([4, 3]) | visited: {0, 1, 3, 4}\n",
      "curr_node: 4 | neighbors: [['0', 1], ['5', 1]] \n",
      "neighbor: 5 needs conn reversed | num_reorders: 3\n",
      "queue: deque([3, 5]) | visited: {0, 1, 3, 4, 5}\n",
      "curr_node: 3 | neighbors: [['1', -1], ['2', -1]] \n",
      "queue: deque([5, 2]) | visited: {0, 1, 2, 3, 4, 5}\n",
      "curr_node: 5 | neighbors: [['4', -1]] \n",
      "queue: deque([2]) | visited: {0, 1, 2, 3, 4, 5}\n",
      "curr_node: 2 | neighbors: [['3', 1]] \n"
     ]
    },
    {
     "data": {
      "text/plain": [
       "3"
      ]
     },
     "execution_count": 110,
     "metadata": {},
     "output_type": "execute_result"
    }
   ],
   "source": [
    "reorder_routes(0, edgelist)"
   ]
  },
  {
   "cell_type": "code",
   "execution_count": 111,
   "id": "43280ec7",
   "metadata": {},
   "outputs": [
    {
     "data": {
      "image/png": "[encoded data removed]",
      "text/plain": [
       "<Figure size 400x400 with 1 Axes>"
      ]
     },
     "metadata": {},
     "output_type": "display_data"
    }
   ],
   "source": [
    "edgelist = [[1,0],[1,2],[3,2],[3,4]]\n",
    "\n",
    "visualize_graph(edgelist, True)"
   ]
  },
  {
   "cell_type": "code",
   "execution_count": 112,
   "id": "c9b41e3c",
   "metadata": {},
   "outputs": [],
   "source": [
    "adjacency_list = construct_adjacency_list(edgelist)"
   ]
  },
  {
   "cell_type": "code",
   "execution_count": 113,
   "id": "dca37619",
   "metadata": {},
   "outputs": [
    {
     "data": {
      "text/plain": [
       "{'1': [['0', 1], ['2', 1]],\n",
       " '0': [['1', -1]],\n",
       " '2': [['1', -1], ['3', -1]],\n",
       " '3': [['2', 1], ['4', 1]],\n",
       " '4': [['3', -1]]}"
      ]
     },
     "execution_count": 113,
     "metadata": {},
     "output_type": "execute_result"
    }
   ],
   "source": [
    "adjacency_list"
   ]
  },
  {
   "cell_type": "code",
   "execution_count": 114,
   "id": "b6bc625a",
   "metadata": {},
   "outputs": [
    {
     "name": "stdout",
     "output_type": "stream",
     "text": [
      "queue: deque([0]) | visited: {0}\n",
      "curr_node: 0 | neighbors: [['1', -1]] \n",
      "queue: deque([1]) | visited: {0, 1}\n",
      "curr_node: 1 | neighbors: [['0', 1], ['2', 1]] \n",
      "neighbor: 2 needs conn reversed | num_reorders: 1\n",
      "queue: deque([2]) | visited: {0, 1, 2}\n",
      "curr_node: 2 | neighbors: [['1', -1], ['3', -1]] \n",
      "queue: deque([3]) | visited: {0, 1, 2, 3}\n",
      "curr_node: 3 | neighbors: [['2', 1], ['4', 1]] \n",
      "neighbor: 4 needs conn reversed | num_reorders: 2\n",
      "queue: deque([4]) | visited: {0, 1, 2, 3, 4}\n",
      "curr_node: 4 | neighbors: [['3', -1]] \n"
     ]
    },
    {
     "data": {
      "text/plain": [
       "2"
      ]
     },
     "execution_count": 114,
     "metadata": {},
     "output_type": "execute_result"
    }
   ],
   "source": [
    "reorder_routes(0, edgelist)"
   ]
  },
  {
   "cell_type": "markdown",
   "id": "18a12080",
   "metadata": {},
   "source": [
    "### Undirected Graph Cycle\n",
    "\n",
    "> https://www.geeksforgeeks.org/problems/detect-cycle-in-an-undirected-graph/1\n",
    "\n",
    "---"
   ]
  },
  {
   "cell_type": "code",
   "execution_count": 165,
   "id": "8bcb8891",
   "metadata": {},
   "outputs": [
    {
     "data": {
      "image/png": "[encoded data removed]",
      "text/plain": [
       "<Figure size 400x400 with 1 Axes>"
      ]
     },
     "metadata": {},
     "output_type": "display_data"
    }
   ],
   "source": [
    "edgelist = [[0, 1], [0, 2], [1, 2], [2, 3]]\n",
    "\n",
    "visualize_graph(edgelist, False)"
   ]
  },
  {
   "cell_type": "code",
   "execution_count": 167,
   "id": "c2c1dbb1",
   "metadata": {},
   "outputs": [
    {
     "data": {
      "text/plain": [
       "{'0': ['1'], '1': ['0', '2'], '2': ['1', '3'], '3': ['2']}"
      ]
     },
     "execution_count": 167,
     "metadata": {},
     "output_type": "execute_result"
    }
   ],
   "source": [
    "def construct_adjacency_list(edgelist: list):\n",
    "\n",
    "    adjacency_list = {}\n",
    "    for src, dst in edgelist:\n",
    "        src, dst = str(src), str(dst)\n",
    "        if src not in adjacency_list:\n",
    "            adjacency_list[src] = [dst]\n",
    "        else:\n",
    "            adjacency_list[src].append(dst)\n",
    "\n",
    "        if dst not in adjacency_list:\n",
    "            adjacency_list[dst] = [src]\n",
    "        else:\n",
    "            adjacency_list[dst].append(src)\n",
    "\n",
    "    return adjacency_list\n",
    "\n",
    "adjacency_list = construct_adjacency_list(edgelist)\n",
    "\n",
    "adjacency_list"
   ]
  },
  {
   "cell_type": "code",
   "execution_count": 166,
   "id": "5961a70e",
   "metadata": {},
   "outputs": [
    {
     "data": {
      "image/png": "[encoded data removed]",
      "text/plain": [
       "<Figure size 400x400 with 1 Axes>"
      ]
     },
     "metadata": {},
     "output_type": "display_data"
    }
   ],
   "source": [
    "edgelist = [[0, 1], [1, 2], [2, 3]]\n",
    "\n",
    "visualize_graph(edgelist)"
   ]
  },
  {
   "cell_type": "code",
   "execution_count": null,
   "id": "6bf7bdac",
   "metadata": {},
   "outputs": [],
   "source": [
    "def dfs_cycle(node: int, visited: set, adjacency_list: dict, parent: int) -> bool:\n",
    "\n",
    "    visited.add(node)\n",
    "\n",
    "    all_neighbors = adjacency_list[str(node)]\n",
    "    all_neighbors = [int(neighbor_) for neighbor_ in all_neighbors]\n",
    "\n",
    "    for neighbor_ in all_neighbors:\n",
    "        # if neighbor is a visited non parent node => cycle\n",
    "        if neighbor_ != parent and neighbor_ in visited:\n",
    "            return True\n",
    "        # unvisited neighbor - call dfs on that neighbor with curr_node as parent\n",
    "        elif neighbor_ not in visited:\n",
    "            visited.add(neighbor_)\n",
    "            return dfs_cycle(neighbor_, visited, adjacency_list, node)\n",
    "    \n",
    "    # from the node all neighbors have been traversed - no cycle found\n",
    "    return False"
   ]
  },
  {
   "cell_type": "code",
   "execution_count": 175,
   "id": "68d6bdc5",
   "metadata": {},
   "outputs": [],
   "source": [
    "def cycle_detection_main(V: int, edges: list):\n",
    "\n",
    "    visited = set()\n",
    "\n",
    "    adjacency_list = construct_adjacency_list(edges)\n",
    "\n",
    "    for node_ in range(V):\n",
    "        if node_ not in visited:\n",
    "            ans = dfs_cycle(node_, visited, adjacency_list, -1) # start fresh dfs from that node\n",
    "            if ans:\n",
    "                return True\n",
    "            \n",
    "    return False\n"
   ]
  },
  {
   "cell_type": "code",
   "execution_count": 176,
   "id": "52fef2e2",
   "metadata": {},
   "outputs": [
    {
     "data": {
      "text/plain": [
       "False"
      ]
     },
     "execution_count": 176,
     "metadata": {},
     "output_type": "execute_result"
    }
   ],
   "source": [
    "cycle_detection_main(4, [[0, 1], [1, 2], [2, 3]])"
   ]
  },
  {
   "cell_type": "code",
   "execution_count": 177,
   "id": "5592fb96",
   "metadata": {},
   "outputs": [
    {
     "data": {
      "text/plain": [
       "True"
      ]
     },
     "execution_count": 177,
     "metadata": {},
     "output_type": "execute_result"
    }
   ],
   "source": [
    "cycle_detection_main(4, [[0, 1], [0, 2], [1, 2], [2, 3]])"
   ]
  },
  {
   "cell_type": "markdown",
   "id": "9ca14b0e",
   "metadata": {},
   "source": [
    "### Detect Cycle with BFS"
   ]
  },
  {
   "cell_type": "code",
   "execution_count": 178,
   "id": "65f7db27",
   "metadata": {},
   "outputs": [
    {
     "data": {
      "image/png": "[encoded data removed]",
      "text/plain": [
       "<Figure size 400x400 with 1 Axes>"
      ]
     },
     "metadata": {},
     "output_type": "display_data"
    }
   ],
   "source": [
    "edgelist = [[0, 1], [0, 2], [1, 2], [2, 3]]\n",
    "\n",
    "visualize_graph(edgelist)"
   ]
  },
  {
   "cell_type": "code",
   "execution_count": 185,
   "id": "922f6118",
   "metadata": {},
   "outputs": [],
   "source": [
    "def cycle_detection_with_bfs(edgelist: list) -> bool:\n",
    "\n",
    "    adjacency_list = construct_adjacency_list(edgelist)\n",
    "    queue = deque()\n",
    "    visited = set()\n",
    "    node_to_parent_mapping = {}\n",
    "\n",
    "    start_node = edgelist[0][0]\n",
    "    queue.appendleft(start_node)\n",
    "    visited.add(start_node)\n",
    "\n",
    "    while len(queue) > 0:\n",
    "\n",
    "        print (f\"node_to_parent_mapping: {node_to_parent_mapping}\")\n",
    "        print (f\"queue: {queue}\")\n",
    "        curr_node = queue.popleft()\n",
    "        visited.add(curr_node)\n",
    "        print (f\"visited: {visited}\")\n",
    "        print (f\"curr_node: {curr_node}\")\n",
    "\n",
    "        neighbors = adjacency_list[str(curr_node)]\n",
    "        neighbors = [int(neighbor_) for neighbor_ in neighbors]\n",
    "\n",
    "        print (f\"neighbors: {neighbors}\")\n",
    "\n",
    "        # among the neighbors is there a non parent which is already visited\n",
    "        for neighbor_ in neighbors:\n",
    "            if neighbor_ in visited and node_to_parent_mapping[str(curr_node)] != str(neighbor_):\n",
    "                print (f\"Found non parent visited neighbor: {neighbor_} for node: {curr_node}\")\n",
    "                return True\n",
    "            elif neighbor_ not in visited:\n",
    "                visited.add(neighbor_)\n",
    "                queue.append(neighbor_)\n",
    "                node_to_parent_mapping[str(neighbor_)] = str(curr_node)\n",
    "\n",
    "    return False"
   ]
  },
  {
   "cell_type": "code",
   "execution_count": 186,
   "id": "9373aa3e",
   "metadata": {},
   "outputs": [
    {
     "name": "stdout",
     "output_type": "stream",
     "text": [
      "node_to_parent_mapping: {}\n",
      "queue: deque([0])\n",
      "visited: {0}\n",
      "curr_node: 0\n",
      "neighbors: [1, 2]\n",
      "node_to_parent_mapping: {'1': '0', '2': '0'}\n",
      "queue: deque([1, 2])\n",
      "visited: {0, 1, 2}\n",
      "curr_node: 1\n",
      "neighbors: [0, 2]\n",
      "Found non parent visited neighbor: 2 for node: 1\n"
     ]
    },
    {
     "data": {
      "text/plain": [
       "True"
      ]
     },
     "execution_count": 186,
     "metadata": {},
     "output_type": "execute_result"
    }
   ],
   "source": [
    "cycle_detection_with_bfs(edgelist)"
   ]
  },
  {
   "cell_type": "code",
   "execution_count": 188,
   "id": "95ed6ec8",
   "metadata": {},
   "outputs": [
    {
     "name": "stdout",
     "output_type": "stream",
     "text": [
      "node_to_parent_mapping: {}\n",
      "queue: deque([1])\n",
      "visited: {1}\n",
      "curr_node: 1\n",
      "neighbors: [2, 3]\n",
      "node_to_parent_mapping: {'2': '1', '3': '1'}\n",
      "queue: deque([2, 3])\n",
      "visited: {1, 2, 3}\n",
      "curr_node: 2\n",
      "neighbors: [1, 4]\n",
      "node_to_parent_mapping: {'2': '1', '3': '1', '4': '2'}\n",
      "queue: deque([3, 4])\n",
      "visited: {1, 2, 3, 4}\n",
      "curr_node: 3\n",
      "neighbors: [1, 4]\n",
      "Found non parent visited neighbor: 4 for node: 3\n"
     ]
    },
    {
     "data": {
      "text/plain": [
       "True"
      ]
     },
     "execution_count": 188,
     "metadata": {},
     "output_type": "execute_result"
    }
   ],
   "source": [
    "edgelist = [[1,2], [1,3], [2,4], [3,4], ]\n",
    "\n",
    "cycle_detection_with_bfs(edgelist)"
   ]
  },
  {
   "cell_type": "markdown",
   "id": "a10c3d85",
   "metadata": {},
   "source": [
    "### Detect Cycles in 2D Grid\n",
    "\n",
    "> https://leetcode.com/problems/detect-cycles-in-2d-grid/description/\n",
    "\n",
    "---"
   ]
  },
  {
   "cell_type": "code",
   "execution_count": 218,
   "id": "d124b6df",
   "metadata": {},
   "outputs": [],
   "source": [
    "def get_neighbors_2D_grid(row: int, col: int, grid: list) -> list:\n",
    "\n",
    "    num_rows = len(grid)\n",
    "    num_cols = len(grid[0])\n",
    "\n",
    "    initial_node = grid[row][col]\n",
    "\n",
    "    possible_coordinates = [[row-1, col], [row, col-1], [row, col+1], [row+1, col]]\n",
    "\n",
    "    # print (f\"possible_coordinates: {possible_coordinates}\")\n",
    "\n",
    "    valid_coordinates = [[r, c] for r,c in possible_coordinates if r >= 0 and r < num_rows and c >=0 and c < num_cols]\n",
    "\n",
    "    # print (f\"valid_coordinates: {valid_coordinates}\")\n",
    "\n",
    "    possible_node_labels = [grid[r][c] for r,c in valid_coordinates if grid[r][c] == initial_node]\n",
    "\n",
    "    possible_node_coords = [(r, c) for r,c in valid_coordinates if grid[r][c] == initial_node]\n",
    "\n",
    "    return possible_node_labels, possible_node_coords\n",
    "\n"
   ]
  },
  {
   "cell_type": "code",
   "execution_count": 216,
   "id": "f9cb982b",
   "metadata": {},
   "outputs": [
    {
     "name": "stdout",
     "output_type": "stream",
     "text": [
      "possible_coordinates: [[-1, 0], [0, -1], [0, 1], [1, 0]]\n",
      "valid_coordinates: [[0, 1], [1, 0]]\n"
     ]
    },
    {
     "data": {
      "text/plain": [
       "(['c', 'c'], [(0, 1), (1, 0)])"
      ]
     },
     "execution_count": 216,
     "metadata": {},
     "output_type": "execute_result"
    }
   ],
   "source": [
    "grid = [[\"c\",\"c\",\"c\",\"a\"],[\"c\",\"d\",\"c\",\"c\"],[\"c\",\"c\",\"e\",\"c\"],[\"f\",\"c\",\"c\",\"c\"]]\n",
    "\n",
    "get_neighbors_2D_grid(0, 0, grid)"
   ]
  },
  {
   "cell_type": "code",
   "execution_count": 238,
   "id": "13b7438e",
   "metadata": {},
   "outputs": [],
   "source": [
    "def bfs_cycle_detection_2D_grid(start_node: tuple, visited: set, node_to_parent_mapping: dict, grid: list):\n",
    "\n",
    "    print (f\"Call bfs_cycle_detection_2D_grid with start_node: {start_node} | visited: {visited}, node_to_parent_mapping: {node_to_parent_mapping}\")\n",
    "    queue = deque()\n",
    "\n",
    "    queue.appendleft(start_node)\n",
    "    visited.add(start_node)\n",
    "\n",
    "    while len(queue) > 0:\n",
    "        \n",
    "        print   (\"--\"*10)\n",
    "        print (f\"node_to_parent_mapping: {node_to_parent_mapping}\")\n",
    "        print (f\"queue: {queue}\")\n",
    "        curr_node = queue.popleft()\n",
    "        visited.add(curr_node)\n",
    "        print (f\"visited: {visited}\")\n",
    "        print (f\"curr_node: {curr_node}\")\n",
    "\n",
    "        _, neighbors = get_neighbors_2D_grid(curr_node[0], curr_node[1], grid)\n",
    "\n",
    "        print (f\"neighbors: {neighbors}\")\n",
    "\n",
    "        # among the neighbors is there a non parent which is already visited\n",
    "        for neighbor_ in neighbors:\n",
    "            if neighbor_ in visited and node_to_parent_mapping[curr_node] != neighbor_:\n",
    "                print (f\"Found non parent visited neighbor: {neighbor_} for node: {curr_node}\")\n",
    "                return True\n",
    "            elif neighbor_ not in visited:\n",
    "                visited.add(neighbor_)\n",
    "                queue.append(neighbor_)\n",
    "                node_to_parent_mapping[neighbor_] = curr_node\n",
    "\n",
    "        print (f\"node_to_parent_mapping: {node_to_parent_mapping}\")\n",
    "        print (f\"queue: {queue}\")\n",
    "        print (f\"visited: {visited}\")\n",
    "\n",
    "    return False"
   ]
  },
  {
   "cell_type": "code",
   "execution_count": null,
   "id": "82345025",
   "metadata": {},
   "outputs": [],
   "source": [
    "def cycle_detection_in_2D_grid(grid: list) -> bool:\n",
    "\n",
    "    num_rows = len(grid)\n",
    "    num_cols = len(grid[0])\n",
    "\n",
    "    all_possible_node_coords = [(i, j) for i in range(num_rows) for j in range(num_cols)]\n",
    "\n",
    "    visited = set()\n",
    "    node_to_parent_mapping = {}\n",
    "\n",
    "    start_node = all_possible_node_coords[0]\n",
    "    \n",
    "    is_cycle_detected = bfs_cycle_detection_2D_grid(start_node, visited, node_to_parent_mapping, grid)\n",
    "\n",
    "    if is_cycle_detected:\n",
    "        return True\n",
    "\n",
    "    for node_ in all_possible_node_coords:\n",
    "        if node_ not in visited:\n",
    "            is_cycle_detected = bfs_cycle_detection_2D_grid(node_, visited, node_to_parent_mapping, grid)\n",
    "\n",
    "            if is_cycle_detected:\n",
    "                return True\n",
    "            \n",
    "    return False"
   ]
  },
  {
   "cell_type": "code",
   "execution_count": 240,
   "id": "226348fe",
   "metadata": {},
   "outputs": [
    {
     "name": "stdout",
     "output_type": "stream",
     "text": [
      "Call bfs_cycle_detection_2D_grid with start_node: (0, 0) | visited: set(), node_to_parent_mapping: {}\n",
      "--------------------\n",
      "node_to_parent_mapping: {}\n",
      "queue: deque([(0, 0)])\n",
      "visited: {(0, 0)}\n",
      "curr_node: (0, 0)\n",
      "neighbors: [(0, 1), (1, 0)]\n",
      "node_to_parent_mapping: {(0, 1): (0, 0), (1, 0): (0, 0)}\n",
      "queue: deque([(0, 1), (1, 0)])\n",
      "visited: {(0, 1), (1, 0), (0, 0)}\n",
      "--------------------\n",
      "node_to_parent_mapping: {(0, 1): (0, 0), (1, 0): (0, 0)}\n",
      "queue: deque([(0, 1), (1, 0)])\n",
      "visited: {(0, 1), (1, 0), (0, 0)}\n",
      "curr_node: (0, 1)\n",
      "neighbors: [(0, 0), (0, 2)]\n",
      "node_to_parent_mapping: {(0, 1): (0, 0), (1, 0): (0, 0), (0, 2): (0, 1)}\n",
      "queue: deque([(1, 0), (0, 2)])\n",
      "visited: {(0, 1), (1, 0), (0, 2), (0, 0)}\n",
      "--------------------\n",
      "node_to_parent_mapping: {(0, 1): (0, 0), (1, 0): (0, 0), (0, 2): (0, 1)}\n",
      "queue: deque([(1, 0), (0, 2)])\n",
      "visited: {(0, 1), (1, 0), (0, 2), (0, 0)}\n",
      "curr_node: (1, 0)\n",
      "neighbors: [(0, 0), (2, 0)]\n",
      "node_to_parent_mapping: {(0, 1): (0, 0), (1, 0): (0, 0), (0, 2): (0, 1), (2, 0): (1, 0)}\n",
      "queue: deque([(0, 2), (2, 0)])\n",
      "visited: {(0, 1), (0, 0), (2, 0), (0, 2), (1, 0)}\n",
      "--------------------\n",
      "node_to_parent_mapping: {(0, 1): (0, 0), (1, 0): (0, 0), (0, 2): (0, 1), (2, 0): (1, 0)}\n",
      "queue: deque([(0, 2), (2, 0)])\n",
      "visited: {(0, 1), (0, 0), (2, 0), (0, 2), (1, 0)}\n",
      "curr_node: (0, 2)\n",
      "neighbors: [(0, 1), (0, 3)]\n",
      "node_to_parent_mapping: {(0, 1): (0, 0), (1, 0): (0, 0), (0, 2): (0, 1), (2, 0): (1, 0), (0, 3): (0, 2)}\n",
      "queue: deque([(2, 0), (0, 3)])\n",
      "visited: {(0, 1), (0, 0), (0, 3), (2, 0), (0, 2), (1, 0)}\n",
      "--------------------\n",
      "node_to_parent_mapping: {(0, 1): (0, 0), (1, 0): (0, 0), (0, 2): (0, 1), (2, 0): (1, 0), (0, 3): (0, 2)}\n",
      "queue: deque([(2, 0), (0, 3)])\n",
      "visited: {(0, 1), (0, 0), (0, 3), (2, 0), (0, 2), (1, 0)}\n",
      "curr_node: (2, 0)\n",
      "neighbors: [(1, 0), (3, 0)]\n",
      "node_to_parent_mapping: {(0, 1): (0, 0), (1, 0): (0, 0), (0, 2): (0, 1), (2, 0): (1, 0), (0, 3): (0, 2), (3, 0): (2, 0)}\n",
      "queue: deque([(0, 3), (3, 0)])\n",
      "visited: {(0, 1), (0, 0), (0, 3), (2, 0), (3, 0), (0, 2), (1, 0)}\n",
      "--------------------\n",
      "node_to_parent_mapping: {(0, 1): (0, 0), (1, 0): (0, 0), (0, 2): (0, 1), (2, 0): (1, 0), (0, 3): (0, 2), (3, 0): (2, 0)}\n",
      "queue: deque([(0, 3), (3, 0)])\n",
      "visited: {(0, 1), (0, 0), (0, 3), (2, 0), (3, 0), (0, 2), (1, 0)}\n",
      "curr_node: (0, 3)\n",
      "neighbors: [(0, 2), (1, 3)]\n",
      "node_to_parent_mapping: {(0, 1): (0, 0), (1, 0): (0, 0), (0, 2): (0, 1), (2, 0): (1, 0), (0, 3): (0, 2), (3, 0): (2, 0), (1, 3): (0, 3)}\n",
      "queue: deque([(3, 0), (1, 3)])\n",
      "visited: {(0, 1), (0, 0), (0, 3), (2, 0), (3, 0), (0, 2), (1, 0), (1, 3)}\n",
      "--------------------\n",
      "node_to_parent_mapping: {(0, 1): (0, 0), (1, 0): (0, 0), (0, 2): (0, 1), (2, 0): (1, 0), (0, 3): (0, 2), (3, 0): (2, 0), (1, 3): (0, 3)}\n",
      "queue: deque([(3, 0), (1, 3)])\n",
      "visited: {(0, 1), (0, 0), (0, 3), (2, 0), (3, 0), (0, 2), (1, 0), (1, 3)}\n",
      "curr_node: (3, 0)\n",
      "neighbors: [(2, 0), (3, 1)]\n",
      "node_to_parent_mapping: {(0, 1): (0, 0), (1, 0): (0, 0), (0, 2): (0, 1), (2, 0): (1, 0), (0, 3): (0, 2), (3, 0): (2, 0), (1, 3): (0, 3), (3, 1): (3, 0)}\n",
      "queue: deque([(1, 3), (3, 1)])\n",
      "visited: {(0, 1), (0, 0), (3, 1), (0, 3), (2, 0), (3, 0), (0, 2), (1, 0), (1, 3)}\n",
      "--------------------\n",
      "node_to_parent_mapping: {(0, 1): (0, 0), (1, 0): (0, 0), (0, 2): (0, 1), (2, 0): (1, 0), (0, 3): (0, 2), (3, 0): (2, 0), (1, 3): (0, 3), (3, 1): (3, 0)}\n",
      "queue: deque([(1, 3), (3, 1)])\n",
      "visited: {(0, 1), (0, 0), (3, 1), (0, 3), (2, 0), (3, 0), (0, 2), (1, 0), (1, 3)}\n",
      "curr_node: (1, 3)\n",
      "neighbors: [(0, 3), (2, 3)]\n",
      "node_to_parent_mapping: {(0, 1): (0, 0), (1, 0): (0, 0), (0, 2): (0, 1), (2, 0): (1, 0), (0, 3): (0, 2), (3, 0): (2, 0), (1, 3): (0, 3), (3, 1): (3, 0), (2, 3): (1, 3)}\n",
      "queue: deque([(3, 1), (2, 3)])\n",
      "visited: {(0, 1), (0, 0), (3, 1), (0, 3), (2, 0), (3, 0), (2, 3), (0, 2), (1, 0), (1, 3)}\n",
      "--------------------\n",
      "node_to_parent_mapping: {(0, 1): (0, 0), (1, 0): (0, 0), (0, 2): (0, 1), (2, 0): (1, 0), (0, 3): (0, 2), (3, 0): (2, 0), (1, 3): (0, 3), (3, 1): (3, 0), (2, 3): (1, 3)}\n",
      "queue: deque([(3, 1), (2, 3)])\n",
      "visited: {(0, 1), (0, 0), (3, 1), (0, 3), (2, 0), (3, 0), (2, 3), (0, 2), (1, 0), (1, 3)}\n",
      "curr_node: (3, 1)\n",
      "neighbors: [(3, 0), (3, 2)]\n",
      "node_to_parent_mapping: {(0, 1): (0, 0), (1, 0): (0, 0), (0, 2): (0, 1), (2, 0): (1, 0), (0, 3): (0, 2), (3, 0): (2, 0), (1, 3): (0, 3), (3, 1): (3, 0), (2, 3): (1, 3), (3, 2): (3, 1)}\n",
      "queue: deque([(2, 3), (3, 2)])\n",
      "visited: {(0, 1), (0, 0), (3, 1), (0, 3), (2, 0), (3, 0), (2, 3), (0, 2), (1, 0), (3, 2), (1, 3)}\n",
      "--------------------\n",
      "node_to_parent_mapping: {(0, 1): (0, 0), (1, 0): (0, 0), (0, 2): (0, 1), (2, 0): (1, 0), (0, 3): (0, 2), (3, 0): (2, 0), (1, 3): (0, 3), (3, 1): (3, 0), (2, 3): (1, 3), (3, 2): (3, 1)}\n",
      "queue: deque([(2, 3), (3, 2)])\n",
      "visited: {(0, 1), (0, 0), (3, 1), (0, 3), (2, 0), (3, 0), (2, 3), (0, 2), (1, 0), (3, 2), (1, 3)}\n",
      "curr_node: (2, 3)\n",
      "neighbors: [(1, 3), (3, 3)]\n",
      "node_to_parent_mapping: {(0, 1): (0, 0), (1, 0): (0, 0), (0, 2): (0, 1), (2, 0): (1, 0), (0, 3): (0, 2), (3, 0): (2, 0), (1, 3): (0, 3), (3, 1): (3, 0), (2, 3): (1, 3), (3, 2): (3, 1), (3, 3): (2, 3)}\n",
      "queue: deque([(3, 2), (3, 3)])\n",
      "visited: {(0, 1), (0, 0), (3, 1), (0, 3), (2, 0), (3, 0), (2, 3), (0, 2), (3, 3), (1, 0), (3, 2), (1, 3)}\n",
      "--------------------\n",
      "node_to_parent_mapping: {(0, 1): (0, 0), (1, 0): (0, 0), (0, 2): (0, 1), (2, 0): (1, 0), (0, 3): (0, 2), (3, 0): (2, 0), (1, 3): (0, 3), (3, 1): (3, 0), (2, 3): (1, 3), (3, 2): (3, 1), (3, 3): (2, 3)}\n",
      "queue: deque([(3, 2), (3, 3)])\n",
      "visited: {(0, 1), (0, 0), (3, 1), (0, 3), (2, 0), (3, 0), (2, 3), (0, 2), (3, 3), (1, 0), (3, 2), (1, 3)}\n",
      "curr_node: (3, 2)\n",
      "neighbors: [(3, 1), (3, 3)]\n",
      "Found non parent visited neighbor: (3, 3) for node: (3, 2)\n"
     ]
    },
    {
     "data": {
      "text/plain": [
       "True"
      ]
     },
     "execution_count": 240,
     "metadata": {},
     "output_type": "execute_result"
    }
   ],
   "source": [
    "grid = [[\"a\",\"a\",\"a\",\"a\"],[\"a\",\"b\",\"b\",\"a\"],[\"a\",\"b\",\"b\",\"a\"],[\"a\",\"a\",\"a\",\"a\"]]\n",
    "\n",
    "cycle_detection_in_2D_grid(grid)"
   ]
  },
  {
   "cell_type": "code",
   "execution_count": 51,
   "id": "5c840566",
   "metadata": {},
   "outputs": [],
   "source": [
    "def dfs_longest_cycle(node: int, visited_order: list, visited: set, cp: list, edges: list):\n",
    "    \n",
    "\n",
    "    visited_order.append(node)\n",
    "    neighbor_ = edges[node]\n",
    "\n",
    "    if neighbor_ == -1:\n",
    "        return\n",
    "\n",
    "    print (f\"dfs_longest_cycle: node: {node} | visited_order: {visited_order} | visited: {visited} | cp: {cp}\")\n",
    "\n",
    "    if neighbor_ not in visited:\n",
    "        \n",
    "        visited.add(neighbor_)\n",
    "        cp[neighbor_] = 1\n",
    "        return dfs_longest_cycle(neighbor_, visited_order, visited, cp, edges)\n",
    "\n",
    "    elif cp[neighbor_] == 1:\n",
    "        print (f\"loop found for node: {node} | neighbor: {neighbor_}\")\n",
    "\n",
    "        try:\n",
    "            index_neighbor_appeared = visited_order.index(neighbor_)\n",
    "        except:\n",
    "            return\n",
    "\n",
    "        loop = visited_order[index_neighbor_appeared:]\n",
    "\n",
    "        print (f\"loop: {loop}\")\n",
    "\n",
    "        return loop\n",
    "    \n"
   ]
  },
  {
   "cell_type": "code",
   "execution_count": 60,
   "id": "439eb162",
   "metadata": {},
   "outputs": [
    {
     "name": "stdout",
     "output_type": "stream",
     "text": [
      "dfs_longest_cycle: node: 0 | visited_order: [0] | visited: set() | cp: [0, 0, 0, 0]\n",
      "dfs_longest_cycle: node: 2 | visited_order: [0, 2] | visited: {2} | cp: [0, 0, 1, 0]\n",
      "dfs_longest_cycle: node: 3 | visited_order: [0, 2, 3] | visited: {2, 3} | cp: [0, 0, 1, 1]\n"
     ]
    }
   ],
   "source": [
    "# edges = [3,3,4,2,3]\n",
    "# edges = [1, 2, -1]\n",
    "\n",
    "edges = [2,-1,3,1]\n",
    "\n",
    "# edges = [1, 2, 3, 0, 0, 6, 7, 5]\n",
    "all_loops = []\n",
    "\n",
    "visited = set()\n",
    "\n",
    "for node_, neighbor_ in enumerate(edges):\n",
    "    cp = [0]*len(edges)\n",
    "    visited_order = []\n",
    "    if node_ not in visited:\n",
    "        loop = dfs_longest_cycle(node_, visited_order, visited, cp, edges)\n",
    "        if loop:\n",
    "            all_loops.append(len(loop))\n",
    "\n",
    "\n"
   ]
  },
  {
   "cell_type": "code",
   "execution_count": 59,
   "id": "e180664b",
   "metadata": {},
   "outputs": [
    {
     "data": {
      "text/plain": [
       "[4, 3]"
      ]
     },
     "execution_count": 59,
     "metadata": {},
     "output_type": "execute_result"
    }
   ],
   "source": [
    "all_loops"
   ]
  },
  {
   "cell_type": "code",
   "execution_count": 27,
   "id": "ff2deefb",
   "metadata": {},
   "outputs": [
    {
     "data": {
      "text/plain": [
       "[0, 0]"
      ]
     },
     "execution_count": 27,
     "metadata": {},
     "output_type": "execute_result"
    }
   ],
   "source": [
    "max_length_cycle_per_start_node"
   ]
  },
  {
   "cell_type": "code",
   "execution_count": null,
   "id": "9879f5b2",
   "metadata": {},
   "outputs": [],
   "source": []
  }
 ],
 "metadata": {
  "kernelspec": {
   "display_name": "shaunak-dev",
   "language": "python",
   "name": "python3"
  },
  "language_info": {
   "codemirror_mode": {
    "name": "ipython",
    "version": 3
   },
   "file_extension": ".py",
   "mimetype": "text/x-python",
   "name": "python",
   "nbconvert_exporter": "python",
   "pygments_lexer": "ipython3",
   "version": "3.12.4"
  }
 },
 "nbformat": 4,
 "nbformat_minor": 5
}
