{
 "cells": [
  {
   "cell_type": "markdown",
   "id": "2971c510",
   "metadata": {},
   "source": [
    "## Graphs\n",
    "\n",
    "> https://www.youtube.com/playlist?list=PL_z_8CaSLPWcn5bKG8UMI0St2D5EmQszx\n",
    "\n",
    "---"
   ]
  },
  {
   "cell_type": "code",
   "execution_count": 14,
   "id": "e2d34df4",
   "metadata": {},
   "outputs": [],
   "source": [
    "from typing import List\n",
    "import sys"
   ]
  },
  {
   "cell_type": "code",
   "execution_count": 36,
   "id": "b29395f0",
   "metadata": {},
   "outputs": [],
   "source": [
    "from typing import List, Tuple, Dict, Optional\n",
    "\n",
    "class Graph:\n",
    "    \"\"\"\n",
    "    A class to represent an undirected graph using an edge list, adjacency matrix, and adjacency list.\n",
    "\n",
    "    Attributes:\n",
    "        edgelist (list): List of edges where each edge is represented as a tuple (a, b).\n",
    "        nodeslist (list): List of unique nodes in the graph.\n",
    "        adjacency_matrix (list[list]): Adjacency matrix representation of the graph.\n",
    "        adjacency_list (dict): Adjacency list representation of the graph.\n",
    "    \"\"\"\n",
    "\n",
    "    def __init__(self, edgelist: List[Tuple[int, int]]):\n",
    "        \"\"\"\n",
    "        Initializes the Graph object with an edge list.\n",
    "\n",
    "        Args:\n",
    "            edgelist (list): List of edges where each edge is represented as a tuple (a, b).\n",
    "        \"\"\"\n",
    "        self.edgelist = edgelist\n",
    "        self.nodeslist = []  # Stores unique nodes in the graph\n",
    "        self.adjacency_matrix = None  # Adjacency matrix representation\n",
    "        self.adjacency_list = {}  # Adjacency list representation\n",
    "\n",
    "    def get_unique_nodes(self) -> List[int]:\n",
    "        \"\"\"\n",
    "        Extracts and returns a list of unique nodes from the edge list.\n",
    "\n",
    "        Returns:\n",
    "            list: A list of unique nodes in the graph.\n",
    "        \"\"\"\n",
    "        nodes = set()  # Use a set to avoid duplicates\n",
    "\n",
    "        # Iterate through the edge list and add nodes to the set\n",
    "        for (a, b) in self.edgelist:\n",
    "            nodes.add(a)\n",
    "            nodes.add(b)\n",
    "\n",
    "        # Convert the set to a list and store it in the nodeslist attribute\n",
    "        self.nodeslist = list(nodes)\n",
    "        return self.nodeslist\n",
    "\n",
    "    def print_graph(self) -> None:\n",
    "        \"\"\"\n",
    "        Prints the graph by iterating through the adjacency matrix.\n",
    "        Each edge is printed as \"Node X: Neighbor: Y\".\n",
    "\n",
    "        Note:\n",
    "            This method assumes that the adjacency matrix has already been constructed.\n",
    "        \"\"\"\n",
    "        if not self.adjacency_matrix:\n",
    "            print(\"Adjacency matrix is empty. Construct it first.\")\n",
    "            return\n",
    "\n",
    "        # Iterate through the adjacency matrix and print edges\n",
    "        for row_idx, row in enumerate(self.adjacency_matrix):\n",
    "            for col_idx, col in enumerate(row):\n",
    "                if col == 1:  # If there's an edge between row_idx and col_idx\n",
    "                    print(f\"Node {row_idx}: Neighbor: {col_idx}\")\n",
    "\n",
    "    def display_adjacency_matrix(self) -> None:\n",
    "        \"\"\"\n",
    "        Displays the adjacency matrix in a readable format.\n",
    "\n",
    "        Note:\n",
    "            This method assumes that the adjacency matrix has already been constructed.\n",
    "        \"\"\"\n",
    "        if not self.adjacency_matrix:\n",
    "            print(\"Adjacency matrix is empty. Construct it first.\")\n",
    "            return\n",
    "\n",
    "        # Print each row of the adjacency matrix\n",
    "        for row in self.adjacency_matrix:\n",
    "            print(\" \".join(map(str, row)))\n",
    "\n",
    "    def construct_adjacency_matrix(self) -> List[List[int]]:\n",
    "        \"\"\"\n",
    "        Constructs the adjacency matrix representation of the graph.\n",
    "\n",
    "        Returns:\n",
    "            list[list]: The adjacency matrix of the graph.\n",
    "        \"\"\"\n",
    "        if not self.edgelist:\n",
    "            return None\n",
    "\n",
    "        # Get the number of unique nodes\n",
    "        num_nodes = len(self.get_unique_nodes())\n",
    "\n",
    "        # Initialize a square matrix with all zeros\n",
    "        matrix = [[0 for _ in range(num_nodes + 1)] for _ in range(num_nodes + 1)]\n",
    "\n",
    "        # Populate the adjacency matrix based on the edge list\n",
    "        for a, b in self.edgelist:\n",
    "            matrix[a][b] = 1  # Mark the edge from a to b\n",
    "            matrix[b][a] = 1  # Mark the edge from b to a (undirected graph)\n",
    "\n",
    "        # Store the matrix in the adjacency_matrix attribute\n",
    "        self.adjacency_matrix = matrix\n",
    "        return self.adjacency_matrix\n",
    "\n",
    "    def construct_adjacency_list(self) -> Dict[str, set]:\n",
    "        \"\"\"\n",
    "        Constructs the adjacency list representation of the graph.\n",
    "\n",
    "        Returns:\n",
    "            dict: The adjacency list of the graph where keys are node names (as strings)\n",
    "                  and values are sets of neighboring nodes.\n",
    "        \"\"\"\n",
    "        if not self.edgelist:\n",
    "            return {}\n",
    "\n",
    "        # Iterate through the edge list and populate the adjacency list\n",
    "        for a, b in self.edgelist:\n",
    "            str_a, str_b = str(a), str(b)  # Convert nodes to strings for dictionary keys\n",
    "\n",
    "            # Add b to the neighbors of a\n",
    "            if str_a in self.adjacency_list:\n",
    "                self.adjacency_list[str_a].add(str_b)\n",
    "            else:\n",
    "                self.adjacency_list[str_a] = {str_b}\n",
    "\n",
    "            # Add a to the neighbors of b\n",
    "            if str_b in self.adjacency_list:\n",
    "                self.adjacency_list[str_b].add(str_a)\n",
    "            else:\n",
    "                self.adjacency_list[str_b] = {str_a}\n",
    "\n",
    "        return self.adjacency_list"
   ]
  },
  {
   "cell_type": "code",
   "execution_count": 37,
   "id": "0383412b",
   "metadata": {},
   "outputs": [],
   "source": [
    "edgelist = [\n",
    "    (1,2), (2,3), (3,4), (4,2), (1,3)\n",
    "]\n",
    "graph = Graph(edgelist=edgelist)"
   ]
  },
  {
   "cell_type": "code",
   "execution_count": 38,
   "id": "bc9b63c2",
   "metadata": {},
   "outputs": [],
   "source": [
    "matrix = graph.construct_adjacency_matrix()"
   ]
  },
  {
   "cell_type": "code",
   "execution_count": 39,
   "id": "cc28ebe9",
   "metadata": {},
   "outputs": [
    {
     "data": {
      "text/plain": [
       "[[0, 0, 0, 0, 0],\n",
       " [0, 0, 1, 1, 0],\n",
       " [0, 1, 0, 1, 1],\n",
       " [0, 1, 1, 0, 1],\n",
       " [0, 0, 1, 1, 0]]"
      ]
     },
     "execution_count": 39,
     "metadata": {},
     "output_type": "execute_result"
    }
   ],
   "source": [
    "matrix"
   ]
  },
  {
   "cell_type": "code",
   "execution_count": 40,
   "id": "0f796f4d",
   "metadata": {},
   "outputs": [
    {
     "name": "stdout",
     "output_type": "stream",
     "text": [
      "Node 1: Neighbor: 2\n",
      "Node 1: Neighbor: 3\n",
      "Node 2: Neighbor: 1\n",
      "Node 2: Neighbor: 3\n",
      "Node 2: Neighbor: 4\n",
      "Node 3: Neighbor: 1\n",
      "Node 3: Neighbor: 2\n",
      "Node 3: Neighbor: 4\n",
      "Node 4: Neighbor: 2\n",
      "Node 4: Neighbor: 3\n"
     ]
    }
   ],
   "source": [
    "graph.print_graph()"
   ]
  },
  {
   "cell_type": "code",
   "execution_count": 41,
   "id": "cf8c274d",
   "metadata": {},
   "outputs": [],
   "source": [
    "adjacency_list = graph.construct_adjacency_list()"
   ]
  },
  {
   "cell_type": "code",
   "execution_count": 42,
   "id": "36c3ceb6",
   "metadata": {},
   "outputs": [
    {
     "data": {
      "text/plain": [
       "{'1': {'2', '3'}, '2': {'1', '3', '4'}, '3': {'1', '2', '4'}, '4': {'2', '3'}}"
      ]
     },
     "execution_count": 42,
     "metadata": {},
     "output_type": "execute_result"
    }
   ],
   "source": [
    "adjacency_list"
   ]
  },
  {
   "cell_type": "code",
   "execution_count": null,
   "id": "ee443395",
   "metadata": {},
   "outputs": [],
   "source": []
  },
  {
   "cell_type": "code",
   "execution_count": null,
   "id": "f0a60962",
   "metadata": {},
   "outputs": [],
   "source": []
  }
 ],
 "metadata": {
  "kernelspec": {
   "display_name": "shaunak-dev",
   "language": "python",
   "name": "python3"
  },
  "language_info": {
   "codemirror_mode": {
    "name": "ipython",
    "version": 3
   },
   "file_extension": ".py",
   "mimetype": "text/x-python",
   "name": "python",
   "nbconvert_exporter": "python",
   "pygments_lexer": "ipython3",
   "version": "3.12.4"
  }
 },
 "nbformat": 4,
 "nbformat_minor": 5
}
