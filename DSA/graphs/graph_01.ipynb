{
 "cells": [
  {
   "cell_type": "markdown",
   "id": "2971c510",
   "metadata": {},
   "source": [
    "## Graphs\n",
    "\n",
    "> https://www.youtube.com/playlist?list=PL_z_8CaSLPWcn5bKG8UMI0St2D5EmQszx\n",
    "\n",
    "---"
   ]
  },
  {
   "cell_type": "code",
   "execution_count": 122,
   "id": "e2d34df4",
   "metadata": {},
   "outputs": [],
   "source": [
    "from typing import List\n",
    "import sys\n",
    "\n",
    "import networkx as nx\n",
    "import matplotlib.pyplot as plt"
   ]
  },
  {
   "cell_type": "markdown",
   "id": "b6e2c5dd",
   "metadata": {},
   "source": [
    "### Basic Implementation"
   ]
  },
  {
   "cell_type": "code",
   "execution_count": 36,
   "id": "b29395f0",
   "metadata": {},
   "outputs": [],
   "source": [
    "from typing import List, Tuple, Dict, Optional\n",
    "\n",
    "class Graph:\n",
    "    \"\"\"\n",
    "    A class to represent an undirected graph using an edge list, adjacency matrix, and adjacency list.\n",
    "\n",
    "    Attributes:\n",
    "        edgelist (list): List of edges where each edge is represented as a tuple (a, b).\n",
    "        nodeslist (list): List of unique nodes in the graph.\n",
    "        adjacency_matrix (list[list]): Adjacency matrix representation of the graph.\n",
    "        adjacency_list (dict): Adjacency list representation of the graph.\n",
    "    \"\"\"\n",
    "\n",
    "    def __init__(self, edgelist: List[Tuple[int, int]]):\n",
    "        \"\"\"\n",
    "        Initializes the Graph object with an edge list.\n",
    "\n",
    "        Args:\n",
    "            edgelist (list): List of edges where each edge is represented as a tuple (a, b).\n",
    "        \"\"\"\n",
    "        self.edgelist = edgelist\n",
    "        self.nodeslist = []  # Stores unique nodes in the graph\n",
    "        self.adjacency_matrix = None  # Adjacency matrix representation\n",
    "        self.adjacency_list = {}  # Adjacency list representation\n",
    "\n",
    "    def get_unique_nodes(self) -> List[int]:\n",
    "        \"\"\"\n",
    "        Extracts and returns a list of unique nodes from the edge list.\n",
    "\n",
    "        Returns:\n",
    "            list: A list of unique nodes in the graph.\n",
    "        \"\"\"\n",
    "        nodes = set()  # Use a set to avoid duplicates\n",
    "\n",
    "        # Iterate through the edge list and add nodes to the set\n",
    "        for (a, b) in self.edgelist:\n",
    "            nodes.add(a)\n",
    "            nodes.add(b)\n",
    "\n",
    "        # Convert the set to a list and store it in the nodeslist attribute\n",
    "        self.nodeslist = list(nodes)\n",
    "        return self.nodeslist\n",
    "\n",
    "    def print_graph(self) -> None:\n",
    "        \"\"\"\n",
    "        Prints the graph by iterating through the adjacency matrix.\n",
    "        Each edge is printed as \"Node X: Neighbor: Y\".\n",
    "\n",
    "        Note:\n",
    "            This method assumes that the adjacency matrix has already been constructed.\n",
    "        \"\"\"\n",
    "        if not self.adjacency_matrix:\n",
    "            print(\"Adjacency matrix is empty. Construct it first.\")\n",
    "            return\n",
    "\n",
    "        # Iterate through the adjacency matrix and print edges\n",
    "        for row_idx, row in enumerate(self.adjacency_matrix):\n",
    "            for col_idx, col in enumerate(row):\n",
    "                if col == 1:  # If there's an edge between row_idx and col_idx\n",
    "                    print(f\"Node {row_idx}: Neighbor: {col_idx}\")\n",
    "\n",
    "    def display_adjacency_matrix(self) -> None:\n",
    "        \"\"\"\n",
    "        Displays the adjacency matrix in a readable format.\n",
    "\n",
    "        Note:\n",
    "            This method assumes that the adjacency matrix has already been constructed.\n",
    "        \"\"\"\n",
    "        if not self.adjacency_matrix:\n",
    "            print(\"Adjacency matrix is empty. Construct it first.\")\n",
    "            return\n",
    "\n",
    "        # Print each row of the adjacency matrix\n",
    "        for row in self.adjacency_matrix:\n",
    "            print(\" \".join(map(str, row)))\n",
    "\n",
    "    def construct_adjacency_matrix(self) -> List[List[int]]:\n",
    "        \"\"\"\n",
    "        Constructs the adjacency matrix representation of the graph.\n",
    "\n",
    "        Returns:\n",
    "            list[list]: The adjacency matrix of the graph.\n",
    "        \"\"\"\n",
    "        if not self.edgelist:\n",
    "            return None\n",
    "\n",
    "        # Get the number of unique nodes\n",
    "        num_nodes = len(self.get_unique_nodes())\n",
    "\n",
    "        # Initialize a square matrix with all zeros\n",
    "        matrix = [[0 for _ in range(num_nodes + 1)] for _ in range(num_nodes + 1)]\n",
    "\n",
    "        # Populate the adjacency matrix based on the edge list\n",
    "        for a, b in self.edgelist:\n",
    "            matrix[a][b] = 1  # Mark the edge from a to b\n",
    "            matrix[b][a] = 1  # Mark the edge from b to a (undirected graph)\n",
    "\n",
    "        # Store the matrix in the adjacency_matrix attribute\n",
    "        self.adjacency_matrix = matrix\n",
    "        return self.adjacency_matrix\n",
    "\n",
    "    def construct_adjacency_list(self) -> Dict[str, set]:\n",
    "        \"\"\"\n",
    "        Constructs the adjacency list representation of the graph.\n",
    "\n",
    "        Returns:\n",
    "            dict: The adjacency list of the graph where keys are node names (as strings)\n",
    "                  and values are sets of neighboring nodes.\n",
    "        \"\"\"\n",
    "        if not self.edgelist:\n",
    "            return {}\n",
    "\n",
    "        # Iterate through the edge list and populate the adjacency list\n",
    "        for a, b in self.edgelist:\n",
    "            str_a, str_b = str(a), str(b)  # Convert nodes to strings for dictionary keys\n",
    "\n",
    "            # Add b to the neighbors of a\n",
    "            if str_a in self.adjacency_list:\n",
    "                self.adjacency_list[str_a].add(str_b)\n",
    "            else:\n",
    "                self.adjacency_list[str_a] = {str_b}\n",
    "\n",
    "            # Add a to the neighbors of b\n",
    "            if str_b in self.adjacency_list:\n",
    "                self.adjacency_list[str_b].add(str_a)\n",
    "            else:\n",
    "                self.adjacency_list[str_b] = {str_a}\n",
    "\n",
    "        return self.adjacency_list"
   ]
  },
  {
   "cell_type": "code",
   "execution_count": null,
   "id": "0383412b",
   "metadata": {},
   "outputs": [],
   "source": [
    "edgelist = [\n",
    "    (1,2), (2,3), (3,4), (4,2), (1,3)\n",
    "] # list of edges\n",
    "graph = Graph(edgelist=edgelist)"
   ]
  },
  {
   "cell_type": "code",
   "execution_count": 38,
   "id": "bc9b63c2",
   "metadata": {},
   "outputs": [],
   "source": [
    "matrix = graph.construct_adjacency_matrix()"
   ]
  },
  {
   "cell_type": "code",
   "execution_count": 39,
   "id": "cc28ebe9",
   "metadata": {},
   "outputs": [
    {
     "data": {
      "text/plain": [
       "[[0, 0, 0, 0, 0],\n",
       " [0, 0, 1, 1, 0],\n",
       " [0, 1, 0, 1, 1],\n",
       " [0, 1, 1, 0, 1],\n",
       " [0, 0, 1, 1, 0]]"
      ]
     },
     "execution_count": 39,
     "metadata": {},
     "output_type": "execute_result"
    }
   ],
   "source": [
    "matrix"
   ]
  },
  {
   "cell_type": "code",
   "execution_count": 40,
   "id": "0f796f4d",
   "metadata": {},
   "outputs": [
    {
     "name": "stdout",
     "output_type": "stream",
     "text": [
      "Node 1: Neighbor: 2\n",
      "Node 1: Neighbor: 3\n",
      "Node 2: Neighbor: 1\n",
      "Node 2: Neighbor: 3\n",
      "Node 2: Neighbor: 4\n",
      "Node 3: Neighbor: 1\n",
      "Node 3: Neighbor: 2\n",
      "Node 3: Neighbor: 4\n",
      "Node 4: Neighbor: 2\n",
      "Node 4: Neighbor: 3\n"
     ]
    }
   ],
   "source": [
    "graph.print_graph()"
   ]
  },
  {
   "cell_type": "code",
   "execution_count": 41,
   "id": "cf8c274d",
   "metadata": {},
   "outputs": [],
   "source": [
    "adjacency_list = graph.construct_adjacency_list()"
   ]
  },
  {
   "cell_type": "code",
   "execution_count": 42,
   "id": "36c3ceb6",
   "metadata": {},
   "outputs": [
    {
     "data": {
      "text/plain": [
       "{'1': {'2', '3'}, '2': {'1', '3', '4'}, '3': {'1', '2', '4'}, '4': {'2', '3'}}"
      ]
     },
     "execution_count": 42,
     "metadata": {},
     "output_type": "execute_result"
    }
   ],
   "source": [
    "adjacency_list"
   ]
  },
  {
   "cell_type": "code",
   "execution_count": 45,
   "id": "eb85ca03",
   "metadata": {},
   "outputs": [
    {
     "data": {
      "text/plain": [
       "[2, 4]"
      ]
     },
     "execution_count": 45,
     "metadata": {},
     "output_type": "execute_result"
    }
   ],
   "source": [
    "x = [1,2,4]\n",
    "\n",
    "x.pop(0)\n",
    "\n",
    "x"
   ]
  },
  {
   "cell_type": "markdown",
   "id": "4a043753",
   "metadata": {},
   "source": [
    "### BFS"
   ]
  },
  {
   "cell_type": "markdown",
   "id": "517284e9",
   "metadata": {},
   "source": [
    "__Algorithm__:\n",
    "\n"
   ]
  },
  {
   "cell_type": "code",
   "execution_count": 103,
   "id": "ee443395",
   "metadata": {},
   "outputs": [],
   "source": [
    "class Queue:\n",
    "\n",
    "    def __init__(self):\n",
    "        self.queue = []\n",
    "\n",
    "    def pop(self) -> int:\n",
    "        if not self.queue:\n",
    "            return None\n",
    "        \n",
    "        return self.queue.pop(0)\n",
    "\n",
    "    def push(self, elem: int):\n",
    "        self.queue.append(elem)\n",
    "\n",
    "    def __repr__(self):\n",
    "        return str(self.queue)\n",
    "    \n",
    "    def is_empty(self):\n",
    "        return len(self.queue) == 0\n"
   ]
  },
  {
   "cell_type": "code",
   "execution_count": 104,
   "id": "f0a60962",
   "metadata": {},
   "outputs": [
    {
     "name": "stdout",
     "output_type": "stream",
     "text": [
      "[4, 1, 2, 3]\n"
     ]
    }
   ],
   "source": [
    "queue = Queue()\n",
    "\n",
    "queue.push(4)\n",
    "queue.push(1)\n",
    "queue.push(2)\n",
    "queue.push(3)\n",
    "\n",
    "print (queue)"
   ]
  },
  {
   "cell_type": "code",
   "execution_count": 105,
   "id": "a1142ec3",
   "metadata": {},
   "outputs": [
    {
     "data": {
      "text/plain": [
       "True"
      ]
     },
     "execution_count": 105,
     "metadata": {},
     "output_type": "execute_result"
    }
   ],
   "source": [
    "queue = Queue()\n",
    "\n",
    "queue.is_empty()"
   ]
  },
  {
   "cell_type": "code",
   "execution_count": 48,
   "id": "0e7727f5",
   "metadata": {},
   "outputs": [
    {
     "data": {
      "text/plain": [
       "4"
      ]
     },
     "execution_count": 48,
     "metadata": {},
     "output_type": "execute_result"
    }
   ],
   "source": [
    "queue.pop()"
   ]
  },
  {
   "cell_type": "code",
   "execution_count": 49,
   "id": "dfa4daf1",
   "metadata": {},
   "outputs": [
    {
     "data": {
      "text/plain": [
       "1"
      ]
     },
     "execution_count": 49,
     "metadata": {},
     "output_type": "execute_result"
    }
   ],
   "source": [
    "queue.pop()"
   ]
  },
  {
   "cell_type": "code",
   "execution_count": 50,
   "id": "ce7170d7",
   "metadata": {},
   "outputs": [
    {
     "name": "stdout",
     "output_type": "stream",
     "text": [
      "[2, 3]\n"
     ]
    }
   ],
   "source": [
    "print (queue)"
   ]
  },
  {
   "cell_type": "code",
   "execution_count": 129,
   "id": "9ef26479",
   "metadata": {},
   "outputs": [],
   "source": [
    "def bfs(g: Graph, src_node: int) -> list:\n",
    "    \"\"\"\n",
    "    Perform BFS traversal on a graph starting from src_node.\n",
    "    Uses a custom Queue class for managing traversal.\n",
    "    Returns a list of nodes in the order they are visited.\n",
    "    \"\"\"\n",
    "\n",
    "    # Step 1: Get adjacency list from graph\n",
    "    g_adjacency_list = g.construct_adjacency_list()\n",
    "\n",
    "    visited = set()    # Keeps track of visited nodes\n",
    "    output = []        # Stores BFS traversal result\n",
    "\n",
    "    queue = Queue()\n",
    "    queue.push(src_node)  # Initialize with the source node\n",
    "    visited.add(src_node)\n",
    "\n",
    "    # Step 2: Process nodes level by level using the queue\n",
    "    while not queue.is_empty():\n",
    "\n",
    "        node = queue.pop()\n",
    "        output.append(node)  # Visit the current node\n",
    "\n",
    "        # Step 3: Traverse neighbors of the current node\n",
    "        for neighbor_ in g_adjacency_list[str(node)]:\n",
    "\n",
    "            if int(neighbor_) not in visited:\n",
    "                visited.add(int(neighbor_))     # Mark neighbor as visited\n",
    "                queue.push(int(neighbor_))      # Add neighbor to queue\n",
    "\n",
    "    return output"
   ]
  },
  {
   "cell_type": "markdown",
   "id": "323c89f2",
   "metadata": {},
   "source": [
    "```\n",
    "Dry Run for Input src_node = 0\n",
    "\n",
    "With:\n",
    "\n",
    "edgelist = [(1, 0), (0, 5), (0, 2), (2, 3), (3, 4)]\n",
    "\n",
    "Adjacency List (undirected graph):\n",
    "\n",
    "{\n",
    "  0: [1, 5, 2],\n",
    "  1: [0],\n",
    "  5: [0],\n",
    "  2: [0, 3],\n",
    "  3: [2, 4],\n",
    "  4: [3]\n",
    "}\n",
    "\n",
    "\n",
    "\n",
    "⸻\n",
    "\n",
    "🔄 Step-by-Step BFS Execution\n",
    "\t•\tStart: queue = [0], visited = {}, output = []\n",
    "\n",
    "\t1.\tPop 0 → output = [0]\n",
    "Neighbors = [1, 5, 2] → enqueue all\n",
    "queue = [1, 5, 2], visited = {1, 5, 2}\n",
    "\t2.\tPop 1 → output = [0, 1]\n",
    "Neighbors = [0] → already visited\n",
    "queue = [5, 2]\n",
    "\t3.\tPop 5 → output = [0, 1, 5]\n",
    "Neighbors = [0] → already visited\n",
    "queue = [2]\n",
    "\t4.\tPop 2 → output = [0, 1, 5, 2]\n",
    "Neighbors = [0, 3] → 3 is unvisited → enqueue\n",
    "queue = [3], visited = {1, 2, 3, 5}\n",
    "\t5.\tPop 3 → output = [0, 1, 5, 2, 3]\n",
    "Neighbors = [2, 4] → 4 is unvisited → enqueue\n",
    "queue = [4], visited = {1, 2, 3, 4, 5}\n",
    "\t6.\tPop 4 → output = [0, 1, 5, 2, 3, 4]\n",
    "Neighbors = [3] → already visited\n",
    "queue = [] → end\n",
    "\n",
    "⸻\n",
    "\n",
    "✅ Final Output:\n",
    "\n",
    "[0, 1, 5, 2, 3, 4]\n",
    "\n",
    "```\n"
   ]
  },
  {
   "cell_type": "code",
   "execution_count": 126,
   "id": "7e568370",
   "metadata": {},
   "outputs": [],
   "source": [
    "def visualize_graph(edgelist: list):\n",
    "    G = nx.Graph()\n",
    "    G.add_edges_from(edgelist)\n",
    "\n",
    "    # Draw the graph\n",
    "    plt.figure(figsize=(4, 4))\n",
    "    pos = nx.spring_layout(G, seed=42)  # positions nodes for visual clarity\n",
    "    nx.draw(G, pos, with_labels=True, node_color='skyblue', node_size=1000, font_size=14, edge_color='gray')\n",
    "\n",
    "    # Optional: Add edge labels if needed\n",
    "    # nx.draw_networkx_edge_labels(G, pos)\n",
    "\n",
    "    plt.title(\"Graph Visualization\", fontsize=11)\n",
    "    plt.show()"
   ]
  },
  {
   "cell_type": "code",
   "execution_count": 130,
   "id": "335c70e8",
   "metadata": {},
   "outputs": [
    {
     "data": {
      "text/plain": [
       "[0, 2, 1, 5, 3, 4]"
      ]
     },
     "execution_count": 130,
     "metadata": {},
     "output_type": "execute_result"
    }
   ],
   "source": [
    "edgelist = [\n",
    "    (1, 0), (0, 5), (0, 2), (2, 3), (3, 4)\n",
    "] # list of edges\n",
    "\n",
    "g = Graph(edgelist)\n",
    "\n",
    "bfs(g, src_node=0)"
   ]
  },
  {
   "cell_type": "code",
   "execution_count": 128,
   "id": "fe751cbf",
   "metadata": {},
   "outputs": [
    {
     "data": {
      "image/png": "[encoded data removed]",
      "text/plain": [
       "<Figure size 400x400 with 1 Axes>"
      ]
     },
     "metadata": {},
     "output_type": "display_data"
    }
   ],
   "source": [
    "visualize_graph(edgelist)"
   ]
  },
  {
   "cell_type": "code",
   "execution_count": 131,
   "id": "1fa56768",
   "metadata": {},
   "outputs": [
    {
     "data": {
      "image/png": "[encoded data removed]",
      "text/plain": [
       "<Figure size 400x400 with 1 Axes>"
      ]
     },
     "metadata": {},
     "output_type": "display_data"
    }
   ],
   "source": [
    "edgelist = [\n",
    "    (1,0), (1,2), (0,3), (2,3), (3,6), (3,7)\n",
    "]\n",
    "\n",
    "visualize_graph(edgelist)"
   ]
  },
  {
   "cell_type": "code",
   "execution_count": null,
   "id": "4d467fb4",
   "metadata": {},
   "outputs": [
    {
     "data": {
      "text/plain": [
       "[3, 2, 7, 0, 6, 1]"
      ]
     },
     "execution_count": 132,
     "metadata": {},
     "output_type": "execute_result"
    }
   ],
   "source": [
    "g = Graph(edgelist)\n",
    "\n",
    "bfs(g, src_node=3)"
   ]
  },
  {
   "cell_type": "code",
   "execution_count": null,
   "id": "ccc2aa02",
   "metadata": {},
   "outputs": [],
   "source": []
  }
 ],
 "metadata": {
  "kernelspec": {
   "display_name": "shaunak-dev",
   "language": "python",
   "name": "python3"
  },
  "language_info": {
   "codemirror_mode": {
    "name": "ipython",
    "version": 3
   },
   "file_extension": ".py",
   "mimetype": "text/x-python",
   "name": "python",
   "nbconvert_exporter": "python",
   "pygments_lexer": "ipython3",
   "version": "3.12.4"
  }
 },
 "nbformat": 4,
 "nbformat_minor": 5
}
