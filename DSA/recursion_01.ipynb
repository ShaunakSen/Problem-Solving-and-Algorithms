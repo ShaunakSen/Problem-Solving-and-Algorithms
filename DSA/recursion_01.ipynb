{
 "cells": [
  {
   "cell_type": "markdown",
   "metadata": {},
   "source": [
    "## Recursion Basics\n",
    "\n",
    "> Notes on playlist by Aditya Verma https://www.youtube.com/playlist?list=PL_z_8CaSLPWeT1ffjiImo0sYTcnLzo-wY\n",
    "\n",
    "---\n",
    "\n",
    "- We take decision at each step, because of which the problem grows smaller and smaller\n",
    "- decision making is the primary goal here\n",
    "\n",
    "When to use recursion\n",
    "\n",
    "- A decision space is involved, i.e we have choices and decisions\n",
    "\n",
    "\n",
    "Recursive Tree\n",
    "\n",
    "Problem statement ---> Recursive Tree design (this should be the goal)"
   ]
  },
  {
   "cell_type": "markdown",
   "metadata": {},
   "source": [
    "### Prob: building subsets\n",
    "\n",
    "\"abc\" -> \"\", a, b, c, ab, ac, bc, abc\n",
    "\n",
    "__Thinking__:\n",
    "\n",
    "choices + decisions\n",
    "\n",
    "choices: I have to build subset - i can either include a or not\n",
    "\n",
    "similarly, i can either include b or not\n",
    "\n",
    "Whatever decision i make at each choice influences the subset we build\n",
    "\n",
    "Build empty string: not include a AND not include b AND not include c --> this is the decision\n",
    "\n",
    "> In recursion we will have choices and we will have to make a decision out of those choices\n",
    "\n",
    "![](https://gcdnb.pbrd.co/images/eRdiiKLIUNnw.png)\n",
    "\n",
    "__Recursive Tree__:\n",
    "\n",
    "Lets say the input string is \"ab\",we have to build subsets\n",
    "\n",
    "- we basically need a good representation of the decisions we make\n",
    "\n",
    "![](https://gcdnb.pbrd.co/images/FL3VAABL9Rzw.png)\n",
    "\n",
    "> Once you design the recursive tree, writing the code becomes v easy\n",
    "\n",
    "\n",
    "\n",
    "\n",
    "\n",
    "\n",
    "\n",
    "\n"
   ]
  },
  {
   "cell_type": "markdown",
   "metadata": {},
   "source": [
    "## Approaches for solving recursion\n",
    "\n",
    "1. Recursive Tree - I/p - O/p method as we saw earlier\n",
    "    - we can use this when we can understand which decisions to make\n",
    "2. Base Condition - Hypothesis - Induction\n",
    "    - sometimes decision is not obvious - in those cases it helps to think in terms of __making the input smaller__\n",
    "3. Choice diagram (DP)\n",
    "4. We will see later\n",
    "\n",
    "\n",
    "\n",
    "\n",
    "### Base Condition - Hypothesis - Induction\n",
    "\n",
    "\n",
    "__Design hypothesis__:\n",
    "The hypothesis here is that we have a (magical) function that does the following\n",
    "```\n",
    "solve(n) = print 1 -> n\n",
    "```\n",
    "\n",
    "__Induction__:\n",
    "\n",
    "\n",
    "__Base condition__:\n",
    "\n",
    "\n",
    "__Example: print 1 -> n using recursion__\n",
    "\n",
    "\n",
    "Hypothesis:\n",
    "\n",
    "```\n",
    "recur_print(7) -> 1,2,3,4,5,6,7\n",
    "\n",
    "recur_print(6) -> 1,2,3,4,5,6\n",
    "```\n",
    "\n",
    "Induction:\n",
    "\n",
    "```\n",
    "recur_print(n) = conact(recur_print(n-1), n)\n",
    "```\n",
    "\n",
    "Base condn (smallest valid input):\n",
    "\n",
    "`if n==1, return 1`"
   ]
  },
  {
   "cell_type": "code",
   "execution_count": 1,
   "metadata": {},
   "outputs": [
    {
     "data": {
      "text/plain": [
       "'1234567'"
      ]
     },
     "execution_count": 1,
     "metadata": {},
     "output_type": "execute_result"
    }
   ],
   "source": [
    "def recur_print(n: int) -> str:\n",
    "    \"\"\"\n",
    "    Print 1-n using recursion\n",
    "    \"\"\"\n",
    "    if n == 1:\n",
    "        return str(1)\n",
    "    \n",
    "    return recur_print(n-1) + str(n)\n",
    "\n",
    "recur_print(7)"
   ]
  },
  {
   "cell_type": "markdown",
   "metadata": {},
   "source": [
    "Why did we not solve using recursive tree?\n",
    " \n",
    "- there is not much decision making in this prob\n",
    "- this is a simpler prob, can be solved using IBH method"
   ]
  },
  {
   "cell_type": "markdown",
   "metadata": {},
   "source": [
    "#### Prob: print n -> 1\n",
    "\n",
    "\n",
    "\n",
    "Hypothesis:\n",
    "\n",
    "```\n",
    "recur_print(7) -> 7,6,5,4,3,2,1\n",
    "\n",
    "recur_print(6) -> 6,5,4,3,2,1\n",
    "```\n",
    "\n",
    "Induction:\n",
    "\n",
    "```\n",
    "recur_print(n) = concat(n, recur_print(n-1))\n",
    "```\n",
    "\n",
    "Base condn (smallest valid input):\n",
    "\n",
    "`if n==1, return 1`"
   ]
  },
  {
   "cell_type": "code",
   "execution_count": 3,
   "metadata": {},
   "outputs": [
    {
     "data": {
      "text/plain": [
       "'7654321'"
      ]
     },
     "execution_count": 3,
     "metadata": {},
     "output_type": "execute_result"
    }
   ],
   "source": [
    "def recur_print_reverse(n: int) -> str:\n",
    "    \"\"\"\n",
    "    Print n-1 using recursion\n",
    "    \"\"\"\n",
    "    if n == 1:\n",
    "        return str(1)\n",
    "    \n",
    "    return str(n) + recur_print_reverse(n-1)\n",
    "\n",
    "recur_print_reverse(7)"
   ]
  },
  {
   "cell_type": "markdown",
   "metadata": {},
   "source": [
    "#### factorial (n)\n",
    "\n",
    "\n",
    "\n",
    "Hypothesis:\n",
    "\n",
    "```\n",
    "factorial(5) -> 5.4.3.2.1\n",
    "\n",
    "factorial(4) -> 4.3.2.1\n",
    "```\n",
    "\n",
    "Induction:\n",
    "\n",
    "```\n",
    "factorial(n) = n. factorial(n-1)\n",
    "```\n",
    "\n",
    "Base condn (smallest valid input):\n",
    "\n",
    "`if n==1, return 1`"
   ]
  },
  {
   "cell_type": "code",
   "execution_count": 4,
   "metadata": {},
   "outputs": [],
   "source": [
    "def factorial(n):\n",
    "\n",
    "    if n <= 2:\n",
    "        return n\n",
    "    \n",
    "    return n * factorial(n-1)"
   ]
  },
  {
   "cell_type": "code",
   "execution_count": 5,
   "metadata": {},
   "outputs": [
    {
     "data": {
      "text/plain": [
       "120"
      ]
     },
     "execution_count": 5,
     "metadata": {},
     "output_type": "execute_result"
    }
   ],
   "source": [
    "factorial(5)"
   ]
  },
  {
   "cell_type": "markdown",
   "metadata": {},
   "source": [
    "#### Prob: Find height of a binary tree using recursion\n",
    "\n",
    "\n",
    "Hypothesis:\n",
    "\n",
    "Assume we have a function\n",
    "\n",
    "`height(node) -> returns the height of that node in the tree`\n",
    "\n",
    "`height(root) = 1`\n",
    "\n",
    "![](https://gcdnb.pbrd.co/images/Un7DHBRPKcLu.png)\n",
    "\n",
    "In the diag above the funcion when applied on the left node of the root returns 3 and when its applied on the right node of the root returns 2\n",
    "\n",
    "\n",
    "Assuming we have this function working\n",
    "\n",
    "`height(root) = 1 + max(height(root->left), height(root->right))`\n",
    "\n",
    "To make it generic\n",
    "\n",
    "`height(x) = 1 + max(height(x->left), height(x->right))` where `x` is any node\n",
    "\n",
    "\n",
    "Base condn: smallest valid input\n",
    "\n",
    "so `height(NULL) = 0`\n"
   ]
  },
  {
   "cell_type": "code",
   "execution_count": 6,
   "metadata": {},
   "outputs": [],
   "source": [
    "class Node:\n",
    "\n",
    "    def __init__(self, key) -> None:\n",
    "        self.key = key\n",
    "        self.left = None\n",
    "        self.right = None"
   ]
  },
  {
   "cell_type": "code",
   "execution_count": 7,
   "metadata": {},
   "outputs": [],
   "source": [
    "root_node = Node(5)  \n",
    "root_node.left = Node(4)\n",
    "root_node.right = Node(3)\n",
    "root_node.left.left = Node(2)\n",
    "root_node.right.left = Node(1)\n",
    "root_node.left.left.right = Node(0)"
   ]
  },
  {
   "cell_type": "markdown",
   "metadata": {},
   "source": [
    "```\n",
    "    5\n",
    "   / \\\n",
    "  4   3\n",
    " /     \\\n",
    "2       1\n",
    " \\\n",
    "  0\n",
    "```"
   ]
  },
  {
   "cell_type": "code",
   "execution_count": 8,
   "metadata": {},
   "outputs": [],
   "source": [
    "def find_height(node: Node) -> int:\n",
    "\n",
    "    if node is None:\n",
    "        return 0\n",
    "    \n",
    "    height_left_subtree = find_height(node.left)\n",
    "    height_right_subtree = find_height(node.right)\n",
    "\n",
    "    return 1 + max(height_left_subtree, height_right_subtree)"
   ]
  },
  {
   "cell_type": "code",
   "execution_count": 9,
   "metadata": {},
   "outputs": [
    {
     "data": {
      "text/plain": [
       "4"
      ]
     },
     "execution_count": 9,
     "metadata": {},
     "output_type": "execute_result"
    }
   ],
   "source": [
    "find_height(root_node)"
   ]
  },
  {
   "cell_type": "code",
   "execution_count": 10,
   "metadata": {},
   "outputs": [
    {
     "data": {
      "text/plain": [
       "1"
      ]
     },
     "execution_count": 10,
     "metadata": {},
     "output_type": "execute_result"
    }
   ],
   "source": [
    "find_height(root_node.left.left.right)"
   ]
  },
  {
   "cell_type": "code",
   "execution_count": 11,
   "metadata": {},
   "outputs": [
    {
     "data": {
      "text/plain": [
       "2"
      ]
     },
     "execution_count": 11,
     "metadata": {},
     "output_type": "execute_result"
    }
   ],
   "source": [
    "find_height(root_node.left.left)"
   ]
  },
  {
   "cell_type": "code",
   "execution_count": null,
   "metadata": {},
   "outputs": [],
   "source": []
  }
 ],
 "metadata": {
  "kernelspec": {
   "display_name": "shaunak_personal",
   "language": "python",
   "name": "python3"
  },
  "language_info": {
   "codemirror_mode": {
    "name": "ipython",
    "version": 3
   },
   "file_extension": ".py",
   "mimetype": "text/x-python",
   "name": "python",
   "nbconvert_exporter": "python",
   "pygments_lexer": "ipython3",
   "version": "3.11.2"
  }
 },
 "nbformat": 4,
 "nbformat_minor": 2
}
