{
 "cells": [
  {
   "cell_type": "markdown",
   "metadata": {},
   "source": [
    "## Recursion Basics\n",
    "\n",
    "> Notes on playlist by Aditya Verma https://www.youtube.com/playlist?list=PL_z_8CaSLPWeT1ffjiImo0sYTcnLzo-wY\n",
    "\n",
    "---\n",
    "\n",
    "- We take decision at each step, because of which the problem grows smaller and smaller\n",
    "- decision making is the primary goal here\n",
    "\n",
    "When to use recursion\n",
    "\n",
    "- A decision space is involved, i.e we have choices and decisions\n",
    "\n",
    "\n",
    "Recursive Tree\n",
    "\n",
    "Problem statement ---> Recursive Tree design (this should be the goal)"
   ]
  },
  {
   "cell_type": "markdown",
   "metadata": {},
   "source": [
    "### Prob: building subsets\n",
    "\n",
    "\"abc\" -> \"\", a, b, c, ab, ac, bc, abc\n",
    "\n",
    "__Thinking__:\n",
    "\n",
    "choices + decisions\n",
    "\n",
    "choices: I have to build subset - i can either include a or not\n",
    "\n",
    "similarly, i can either include b or not\n",
    "\n",
    "Whatever decision i make at each choice influences the subset we build\n",
    "\n",
    "Build empty string: not include a AND not include b AND not include c --> this is the decision\n",
    "\n",
    "> In recursion we will have choices and we will have to make a decision out of those choices\n",
    "\n",
    "\n",
    "__Recursive Tree__:\n",
    "\n",
    "Lets say the input string is \"ab\",we have to build subsets\n",
    "\n",
    "- we basically need a good representation of the decisions we make\n",
    "\n",
    "\n",
    "> Once you design the recursive tree, writing the code becomes v easy\n",
    "\n",
    "\n",
    "\n",
    "\n",
    "\n"
   ]
  },
  {
   "cell_type": "code",
   "execution_count": null,
   "metadata": {},
   "outputs": [],
   "source": []
  }
 ],
 "metadata": {
  "language_info": {
   "name": "python"
  }
 },
 "nbformat": 4,
 "nbformat_minor": 2
}
