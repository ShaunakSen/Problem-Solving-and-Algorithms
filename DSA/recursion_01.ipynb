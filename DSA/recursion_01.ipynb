{
 "cells": [
  {
   "cell_type": "markdown",
   "metadata": {},
   "source": [
    "## Recursion Basics\n",
    "\n",
    "> Notes on playlist by Aditya Verma https://www.youtube.com/playlist?list=PL_z_8CaSLPWeT1ffjiImo0sYTcnLzo-wY\n",
    "\n",
    "---\n",
    "\n",
    "- We take decision at each step, because of which the problem grows smaller and smaller\n",
    "- decision making is the primary goal here\n",
    "\n",
    "When to use recursion\n",
    "\n",
    "- A decision space is involved, i.e we have choices and decisions\n",
    "\n",
    "\n",
    "Recursive Tree\n",
    "\n",
    "Problem statement ---> Recursive Tree design (this should be the goal)"
   ]
  },
  {
   "cell_type": "markdown",
   "metadata": {},
   "source": [
    "### Prob: building subsets\n",
    "\n",
    "\"abc\" -> \"\", a, b, c, ab, ac, bc, abc\n",
    "\n",
    "__Thinking__:\n",
    "\n",
    "choices + decisions\n",
    "\n",
    "choices: I have to build subset - i can either include a or not\n",
    "\n",
    "similarly, i can either include b or not\n",
    "\n",
    "Whatever decision i make at each choice influences the subset we build\n",
    "\n",
    "Build empty string: not include a AND not include b AND not include c --> this is the decision\n",
    "\n",
    "> In recursion we will have choices and we will have to make a decision out of those choices\n",
    "\n",
    "![](https://gcdnb.pbrd.co/images/eRdiiKLIUNnw.png)\n",
    "\n",
    "__Recursive Tree__:\n",
    "\n",
    "Lets say the input string is \"ab\",we have to build subsets\n",
    "\n",
    "- we basically need a good representation of the decisions we make\n",
    "\n",
    "![](https://gcdnb.pbrd.co/images/FL3VAABL9Rzw.png)\n",
    "\n",
    "> Once you design the recursive tree, writing the code becomes v easy\n",
    "\n",
    "\n",
    "\n",
    "\n",
    "\n",
    "\n",
    "\n",
    "\n"
   ]
  },
  {
   "cell_type": "markdown",
   "metadata": {},
   "source": [
    "## Approaches for solving recursion\n",
    "\n",
    "1. Recursive Tree - I/p - O/p method as we saw earlier\n",
    "    - we can use this when we can understand which decisions to make\n",
    "2. Base Condition - Hypothesis - Induction\n",
    "    - sometimes decision is not obvious - in those cases it helps to think in terms of __making the input smaller__\n",
    "3. Choice diagram (DP)\n",
    "4. We will see later\n",
    "\n",
    "\n",
    "\n",
    "\n",
    "### Base Condition - Hypothesis - Induction\n",
    "\n",
    "\n",
    "__Design hypothesis__:\n",
    "The hypothesis here is that we have a (magical) function that does the following\n",
    "```\n",
    "solve(n) = print 1 -> n\n",
    "```\n",
    "\n",
    "__Induction__:\n",
    "\n",
    "\n",
    "__Base condition__:\n",
    "\n",
    "\n",
    "__Example: print 1 -> n using recursion__\n",
    "\n",
    "\n",
    "Hypothesis:\n",
    "\n",
    "```\n",
    "recur_print(7) -> 1,2,3,4,5,6,7\n",
    "\n",
    "recur_print(6) -> 1,2,3,4,5,6\n",
    "```\n",
    "\n",
    "Induction:\n",
    "\n",
    "```\n",
    "recur_print(n) = conact(recur_print(n-1), n)\n",
    "```\n",
    "\n",
    "Base condn (smallest valid input):\n",
    "\n",
    "`if n==1, return 1`"
   ]
  },
  {
   "cell_type": "code",
   "execution_count": 1,
   "metadata": {},
   "outputs": [
    {
     "data": {
      "text/plain": [
       "'1234567'"
      ]
     },
     "execution_count": 1,
     "metadata": {},
     "output_type": "execute_result"
    }
   ],
   "source": [
    "def recur_print(n: int) -> str:\n",
    "    \"\"\"\n",
    "    Print 1-n using recursion\n",
    "    \"\"\"\n",
    "    if n == 1:\n",
    "        return str(1)\n",
    "    \n",
    "    return recur_print(n-1) + str(n)\n",
    "\n",
    "recur_print(7)"
   ]
  },
  {
   "cell_type": "markdown",
   "metadata": {},
   "source": [
    "Why did we not solve using recursive tree?\n",
    " \n",
    "- there is not much decision making in this prob\n",
    "- this is a simpler prob, can be solved using IBH method"
   ]
  },
  {
   "cell_type": "code",
   "execution_count": null,
   "metadata": {},
   "outputs": [],
   "source": []
  }
 ],
 "metadata": {
  "kernelspec": {
   "display_name": "shaunak_personal",
   "language": "python",
   "name": "python3"
  },
  "language_info": {
   "codemirror_mode": {
    "name": "ipython",
    "version": 3
   },
   "file_extension": ".py",
   "mimetype": "text/x-python",
   "name": "python",
   "nbconvert_exporter": "python",
   "pygments_lexer": "ipython3",
   "version": "3.11.2"
  }
 },
 "nbformat": 4,
 "nbformat_minor": 2
}
