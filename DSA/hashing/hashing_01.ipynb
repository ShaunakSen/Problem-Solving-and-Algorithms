{
 "cells": [
  {
   "cell_type": "markdown",
   "metadata": {},
   "source": [
    "## Hash Table \n",
    "\n",
    "> https://leetcode.com/explore/learn/card/hash-table/\n",
    "\n",
    "---"
   ]
  },
  {
   "cell_type": "markdown",
   "metadata": {},
   "source": [
    "### The Principle of Hash Table\n",
    "\n",
    "The key idea of Hash Table is to use a hash function to map keys to buckets. To be more specific,\n",
    "\n",
    "\n",
    "1. When we insert a new key, the hash function will decide which bucket the key should be assigned and the key will be stored in the corresponding bucket;\n",
    "\n",
    "2. When we want to search for a key, the hash table will use the same hash function to find the corresponding bucket and search only in the specific bucket.\n",
    "\n",
    "![](https://s3-lc-upload.s3.amazonaws.com/uploads/2018/02/20/screen-shot-2018-02-19-at-183537.png)\n",
    "\n",
    "In the example, we use `y = x % 5` as our hash function. Let's go through the insertion and search strategies using this example:\n",
    "\n",
    "Insertion: we parse the keys through the hash function to map them into the corresponding bucket.\n",
    "- e.g. 1987 is assigned to bucket 2 while 24 is assigned to bucket 4.\n",
    "\n",
    "Search: we parse the keys through the same hash function and search only in the specific bucket.\n",
    "- e.g. if we search for 1987, we will use the same hash function to map 1987 to 2. So we search in bucket 2 and we successfully find out 1987 in that bucket.\n",
    "- e.g. if we search for 23, will map 23 to 3 and search in bucket 3. And We find out that 23 is not in bucket 3 which means 23 is not in the hash table."
   ]
  },
  {
   "cell_type": "markdown",
   "metadata": {},
   "source": [
    "There are two essential factors that you should pay attention to when you are going to design a hash table.\n",
    "\n",
    "### 1. Hash Function\n",
    "\n",
    "The hash function is the most important component of a hash table which is used to map the key to a specific bucket. In the example in the previous article, we use y = x % 5 as a hash function, where x is the key value and y is the index of the assigned bucket.\n",
    "\n",
    "It is an open problem to design a hash function. The idea is to try to assign the key to the bucket as uniformly as you can. Ideally, a perfect hash function will be a one-one mapping between the key and the bucket. However, in most cases, a hash function is not perfect and it is a tradeoff between the amount of buckets and the capacity of a bucket.\n",
    "\n",
    "### 2. Collision Resolution\n",
    "\n",
    "Ideally, if our hash function is a perfect one-one mapping, we will not need to handle collisions. Unfortunately, in most cases, collisions are almost inevitable. For instance, in our previous hash function (y = x % 5), both 1987 and 2 are assigned to bucket 2. That is a collision.\n",
    "\n",
    "A collision resolution algorithm should solve the following questions:\n",
    "\n",
    "- How to organize the values in the same bucket?\n",
    "\n",
    "- What if too many values are assigned to the same bucket?\n",
    "\n",
    "- How to search for a target value in a specific bucket?\n",
    "\n",
    "\n",
    "\n",
    "These questions are related to the capacity of the bucket and the number of keys which might be mapped into the same bucket according to our hash function.\n",
    "\n",
    "Let's assume that the bucket, which holds the maximum number of keys, has N keys.\n",
    "\n",
    "Typically, if N is constant and small, we can simply use an array to store keys in the same bucket. If N is variable or large, we might need to use height-balanced binary search tree instead.\n"
   ]
  },
  {
   "cell_type": "markdown",
   "metadata": {},
   "source": [
    "###   Design HashSet\n",
    "\n",
    "Implement `MyHashSet` class:\n",
    "\n",
    "\n",
    "- void add(key) Inserts the value key into the HashSet.\n",
    "\n",
    "- bool contains(key) Returns whether the value key exists in the HashSet or not.\n",
    "\n",
    "- void remove(key) Removes the value key in the HashSet. If key does not exist in the HashSet, do nothing.\n",
    "\n"
   ]
  },
  {
   "cell_type": "code",
   "execution_count": 1,
   "metadata": {},
   "outputs": [],
   "source": [
    "class MyHashSet:\n",
    "\n",
    "    def __init__(self):\n",
    "        \n",
    "        self.hash_set = set()\n",
    "        \n",
    "\n",
    "    def add(self, key: int) -> None:\n",
    "        \n",
    "        if key not in self.hash_set:\n",
    "            self.hash_set.add(key)\n",
    "        \n",
    "\n",
    "    def remove(self, key: int) -> None:\n",
    "        self.hash_set.discard(key)\n",
    "\n",
    "    def contains(self, key: int) -> bool:\n",
    "        return key in self.hash_set"
   ]
  },
  {
   "cell_type": "code",
   "execution_count": 2,
   "metadata": {},
   "outputs": [],
   "source": [
    "# obj = MyHashSet()\n",
    "# obj.add(key)\n",
    "# obj.remove(key)\n",
    "# param_3 = obj.contains(key)"
   ]
  },
  {
   "cell_type": "code",
   "execution_count": null,
   "metadata": {},
   "outputs": [],
   "source": []
  }
 ],
 "metadata": {
  "kernelspec": {
   "display_name": "shaunak_llm",
   "language": "python",
   "name": "python3"
  },
  "language_info": {
   "codemirror_mode": {
    "name": "ipython",
    "version": 3
   },
   "file_extension": ".py",
   "mimetype": "text/x-python",
   "name": "python",
   "nbconvert_exporter": "python",
   "pygments_lexer": "ipython3",
   "version": "3.10.10"
  }
 },
 "nbformat": 4,
 "nbformat_minor": 2
}
