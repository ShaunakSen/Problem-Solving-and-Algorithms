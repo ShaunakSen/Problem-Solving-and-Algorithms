{
  "nbformat": 4,
  "nbformat_minor": 0,
  "metadata": {
    "colab": {
      "name": "Educative - DSA.ipynb",
      "provenance": [],
      "collapsed_sections": [],
      "authorship_tag": "ABX9TyMLWBdBSYIvGtcINkNsnlam",
      "include_colab_link": true
    },
    "kernelspec": {
      "name": "python3",
      "display_name": "Python 3"
    }
  },
  "cells": [
    {
      "cell_type": "markdown",
      "metadata": {
        "id": "view-in-github",
        "colab_type": "text"
      },
      "source": [
        "<a href=\"https://colab.research.google.com/github/ShaunakSen/problem-solving-with-code/blob/master/Educative_DSA.ipynb\" target=\"_parent\"><img src=\"https://colab.research.google.com/assets/colab-badge.svg\" alt=\"Open In Colab\"/></a>"
      ]
    },
    {
      "cell_type": "code",
      "metadata": {
        "id": "KcTLo7Eo3apO"
      },
      "source": [
        "player_inventory = []"
      ],
      "execution_count": null,
      "outputs": []
    },
    {
      "cell_type": "code",
      "metadata": {
        "id": "JZBN_EzJ4M55"
      },
      "source": [
        "def sell(player_inventory):\r\n",
        "    print('selling:')\r\n",
        "    for stuff in player_inventory:\r\n",
        "        print(stuff)\r\n",
        "    sold = input('what do you want to sell?')\r\n",
        "    if (sold in player_inventory):\r\n",
        "        print('successfully sold!!')\r\n",
        "        player_inventory.remove(sold)\r\n",
        "    return player_inventory"
      ],
      "execution_count": null,
      "outputs": []
    },
    {
      "cell_type": "code",
      "metadata": {
        "colab": {
          "base_uri": "https://localhost:8080/"
        },
        "id": "rTLGytQf4OiW",
        "outputId": "63ca9e83-bf82-407a-a9d4-56df698b32e4"
      },
      "source": [
        "player_inventory = ['wooden_sword']\r\n",
        "player_inventory = sell(player_inventory)\r\n",
        "player_inventory"
      ],
      "execution_count": null,
      "outputs": [
        {
          "output_type": "stream",
          "text": [
            "selling:\n",
            "wooden_sword\n",
            "what do you want to sell?wooden_sword\n",
            "successfully sold!!\n"
          ],
          "name": "stdout"
        },
        {
          "output_type": "execute_result",
          "data": {
            "text/plain": [
              "[]"
            ]
          },
          "metadata": {
            "tags": []
          },
          "execution_count": 3
        }
      ]
    },
    {
      "cell_type": "markdown",
      "metadata": {
        "id": "hH7zZ1k447Xt"
      },
      "source": [
        "## Data Structures in Python\r\n",
        "\r\n",
        "> Notes on the course by Educative: https://www.educative.io/module/data-structures-in-python\r\n",
        "\r\n",
        "---\r\n",
        "\r\n",
        "### Challenge 2: Merge Two Sorted Lists\r\n",
        "\r\n",
        "Given two sorted lists, merge them into one list which should also be sorted. Implement the solution in Python and see if your code runs successfully!\r\n",
        "\r\n"
      ]
    },
    {
      "cell_type": "code",
      "metadata": {
        "colab": {
          "base_uri": "https://localhost:8080/"
        },
        "id": "Vg3u-Kwd4U56",
        "outputId": "c9d678f2-aac3-45b4-8613-4ba0d1983ee0"
      },
      "source": [
        "def merge_lists(lst1, lst2):\r\n",
        "    # Write your code here\r\n",
        "    i, j = 0, 0\r\n",
        "    merged_list = []\r\n",
        "    while i < len(lst1) and j < len(lst2):\r\n",
        "        if lst1[i] < lst2[j]:\r\n",
        "            merged_list.append(lst1[i])\r\n",
        "            i+=1\r\n",
        "        else:\r\n",
        "            merged_list.append(lst2[j])\r\n",
        "            j+=1\r\n",
        "    if i < len(lst1):\r\n",
        "        for i1 in range(i,len(lst1)):\r\n",
        "            merged_list.append(lst1[i1])\r\n",
        "\r\n",
        "    if j < len(lst2):\r\n",
        "        for j1 in range(j,len(lst2)):\r\n",
        "            merged_list.append(lst2[j1])\r\n",
        "\r\n",
        "    return merged_list\r\n",
        "\r\n",
        "\r\n",
        "merge_lists([1,3,4,5], [2,6,7,8])"
      ],
      "execution_count": null,
      "outputs": [
        {
          "output_type": "execute_result",
          "data": {
            "text/plain": [
              "[1, 2, 3, 4, 5, 6, 7, 8]"
            ]
          },
          "metadata": {
            "tags": []
          },
          "execution_count": 8
        }
      ]
    },
    {
      "cell_type": "markdown",
      "metadata": {
        "id": "LPNgODXVBnwe"
      },
      "source": [
        "The time complexity for this algorithm is O(n+m) where nn and mm are the lengths of the lists. This is because both lists are iterated over atleast once.\r\n",
        "\r\n",
        "### Solution #2: Merging in Place "
      ]
    },
    {
      "cell_type": "code",
      "metadata": {
        "id": "eTHUEqTb8nyq",
        "colab": {
          "base_uri": "https://localhost:8080/"
        },
        "outputId": "3936fe5f-4fcb-4bf4-de4d-360945c0084c"
      },
      "source": [
        "def merge_lists(lst1, lst2):\r\n",
        "    # Write your code here\r\n",
        "    i, j = 0, 0\r\n",
        "    \r\n",
        "    while i < len(lst1) and j < len(lst2):\r\n",
        "        if lst2[j] < lst1[i]:\r\n",
        "            lst1.insert(i, lst2[j])\r\n",
        "            i+=1\r\n",
        "            j+=1\r\n",
        "        else:\r\n",
        "            i+=1\r\n",
        "    if j < len(lst2):\r\n",
        "        for j1 in range(j, len(lst2)):\r\n",
        "            lst1.append(lst2[j1])\r\n",
        "\r\n",
        "    return lst1\r\n",
        "\r\n",
        "\r\n",
        "merge_lists([4, 5, 6], [-2, -1, 0, 7])"
      ],
      "execution_count": null,
      "outputs": [
        {
          "output_type": "execute_result",
          "data": {
            "text/plain": [
              "[-2, -1, 0, 4, 5, 6, 7]"
            ]
          },
          "metadata": {
            "tags": []
          },
          "execution_count": 5
        }
      ]
    },
    {
      "cell_type": "markdown",
      "metadata": {
        "id": "XuKHIjV1HHhc"
      },
      "source": [
        "Since both lists are traversed in this solution as well, the time complexity is O(m(n+m)) where n and m are the lengths of the lists. Both lists are not traversed separately so we cannot say that complexity is (m+n). The shorter of the two lengths is traversed in the while loop. Also, the insert function gets called when the if-condition is true. In the worst-case, the second list has all the elements that are smaller than the elements of the first list. In this case, the complexity will be O(mn). Note that if m > n, we have O(mn), otherwise the complexity is O(n^2)\r\n",
        "\r\n",
        "However, the extra space used in solution#1 is reduced to O(m) in solution#2. Thus, it makes this a tradeoff between space and time."
      ]
    },
    {
      "cell_type": "markdown",
      "metadata": {
        "id": "Ernpp9sHHr3a"
      },
      "source": [
        "### Challenge 4: List of Products of all Elements"
      ]
    },
    {
      "cell_type": "code",
      "metadata": {
        "colab": {
          "base_uri": "https://localhost:8080/"
        },
        "id": "yYpcLi5bECbb",
        "outputId": "942f2dad-64a7-41b3-b539-c968baa81fb2"
      },
      "source": [
        "def find_product(lst):\r\n",
        "    new_list = []\r\n",
        "    for idx1 in range(len(lst)):\r\n",
        "        prod = 1\r\n",
        "        for idx2 in range(len(lst)):\r\n",
        "            if idx1 == idx2:\r\n",
        "                continue\r\n",
        "            prod = prod * lst[idx2]\r\n",
        "        new_list.append(prod)\r\n",
        "    return new_list\r\n",
        "\r\n",
        "find_product([1,2,3,4])"
      ],
      "execution_count": null,
      "outputs": [
        {
          "output_type": "execute_result",
          "data": {
            "text/plain": [
              "[24, 12, 8, 6]"
            ]
          },
          "metadata": {
            "tags": []
          },
          "execution_count": 7
        }
      ]
    },
    {
      "cell_type": "markdown",
      "metadata": {
        "id": "lju1DKRrLcBQ"
      },
      "source": [
        "The time complexity here is O(n^2)"
      ]
    },
    {
      "cell_type": "code",
      "metadata": {
        "colab": {
          "base_uri": "https://localhost:8080/"
        },
        "id": "25Q7YrMtKTxo",
        "outputId": "da9f9222-7984-4ca9-a4e2-40a3813a8d0f"
      },
      "source": [
        "def find_product(lst):\r\n",
        "\r\n",
        "    ### get all left prods\r\n",
        "    ### 1st: 1 2nd: 1.5, 3rd: 1.5.3 and so on...\r\n",
        "    \r\n",
        "    all_products = []\r\n",
        "    left = 1\r\n",
        "    for elem in lst:\r\n",
        "        all_products.append(left)\r\n",
        "        left = left * elem\r\n",
        "\r\n",
        "    right = 1\r\n",
        "    for idx in range(len(lst)-1, -1, -1):\r\n",
        "        all_products[idx] = all_products[idx] * right\r\n",
        "        right = right * elem\r\n",
        "\r\n",
        "    print (all_products)\r\n",
        "\r\n",
        "\r\n",
        "find_product([5, 3, 1, 7, 4, 2, 9])"
      ],
      "execution_count": null,
      "outputs": [
        {
          "output_type": "stream",
          "text": [
            "6\n",
            "5\n",
            "4\n",
            "3\n",
            "2\n",
            "1\n",
            "0\n",
            "[1, 5, 15, 15, 105, 420, 840]\n"
          ],
          "name": "stdout"
        }
      ]
    },
    {
      "cell_type": "code",
      "metadata": {
        "id": "7qhdQrhlOFhK"
      },
      "source": [
        ""
      ],
      "execution_count": null,
      "outputs": []
    },
    {
      "cell_type": "markdown",
      "metadata": {
        "id": "0AJCiRFJhvEf"
      },
      "source": [
        "### Linked Lists"
      ]
    },
    {
      "cell_type": "code",
      "metadata": {
        "id": "Vn-tbM-0hwjs"
      },
      "source": [
        "class Node():\r\n",
        "\r\n",
        "    def __init__(self, value):\r\n",
        "        self.data = value\r\n",
        "        self.next = None\r\n",
        "\r\n",
        "class LinkedList():\r\n",
        "    def __init__(self, head=None):\r\n",
        "        self.head = head\r\n",
        "\r\n",
        "    def traverse(self):\r\n",
        "        current_node = self.head\r\n",
        "        while current_node:\r\n",
        "            print (current_node.data)\r\n",
        "            current_node = current_node.next\r\n",
        "\r\n"
      ],
      "execution_count": 1,
      "outputs": []
    },
    {
      "cell_type": "code",
      "metadata": {
        "colab": {
          "base_uri": "https://localhost:8080/"
        },
        "id": "otHrRx6NiOsH",
        "outputId": "f21f2659-3923-4d71-f59c-a7153ee1f939"
      },
      "source": [
        "def main():\r\n",
        "    linked_list = LinkedList()\r\n",
        "    node_1 = Node(1)\r\n",
        "    node_2 = Node(2)\r\n",
        "    node_3 = Node(3)\r\n",
        "\r\n",
        "    node_1.next = node_2\r\n",
        "    node_2.next = node_3\r\n",
        "\r\n",
        "\r\n",
        "    linked_list.head = node_1\r\n",
        "\r\n",
        "    print(linked_list.head.next.data)\r\n",
        "\r\n",
        "    linked_list.traverse()\r\n",
        "\r\n",
        "main()\r\n"
      ],
      "execution_count": 2,
      "outputs": [
        {
          "output_type": "stream",
          "text": [
            "2\n",
            "1\n",
            "2\n",
            "3\n"
          ],
          "name": "stdout"
        }
      ]
    },
    {
      "cell_type": "markdown",
      "metadata": {
        "id": "1HNA9eDS-QHz"
      },
      "source": [
        "### Linked List | Set 2 (Inserting a node)\r\n",
        "\r\n",
        "#### Insert a new node at the beginning\r\n",
        "\r\n",
        " Let us call the function that adds at the front of the list is push(). The push() must receive a pointer to the head pointer, because push must change the head pointer to point to the new node"
      ]
    },
    {
      "cell_type": "code",
      "metadata": {
        "id": "LUfLz48yi94j"
      },
      "source": [
        "class Node():\r\n",
        "    def __init__(self, value):\r\n",
        "        ### self refers to obj of Node\r\n",
        "        self.data = value\r\n",
        "        self.next = None\r\n",
        "\r\n",
        "class LinkedList():\r\n",
        "    def __init__(self, head=None):\r\n",
        "        ### self refers to obj of LinkedList\r\n",
        "        self.head = head\r\n",
        "\r\n",
        "    def traverse(self):\r\n",
        "        print ('---------')\r\n",
        "        print ('Head:', self.head.data)\r\n",
        "        current_node = self.head\r\n",
        "        while current_node:\r\n",
        "            print (current_node.data)\r\n",
        "            current_node = current_node.next\r\n",
        "        print ('---------')\r\n",
        "\r\n",
        "    def push(self, new_node):\r\n",
        "        new_node.next = self.head\r\n",
        "        self.head = new_node"
      ],
      "execution_count": 3,
      "outputs": []
    },
    {
      "cell_type": "code",
      "metadata": {
        "colab": {
          "base_uri": "https://localhost:8080/"
        },
        "id": "ivki6czVHCKf",
        "outputId": "bc027147-5d02-46de-a4ef-4b1d35aec990"
      },
      "source": [
        "def main():\r\n",
        "    linked_list = LinkedList()\r\n",
        "    node_1 = Node(1)\r\n",
        "    node_2 = Node(2)\r\n",
        "    node_3 = Node(3)\r\n",
        "\r\n",
        "    node_1.next = node_2\r\n",
        "    node_2.next = node_3\r\n",
        "\r\n",
        "\r\n",
        "    linked_list.head = node_1\r\n",
        "\r\n",
        "    linked_list.traverse()\r\n",
        "\r\n",
        "    node_0 = Node(0)\r\n",
        "    linked_list.push(node_0)\r\n",
        "\r\n",
        "    linked_list.traverse()\r\n",
        "\r\n",
        "main()"
      ],
      "execution_count": 4,
      "outputs": [
        {
          "output_type": "stream",
          "text": [
            "---------\n",
            "Head: 1\n",
            "1\n",
            "2\n",
            "3\n",
            "---------\n",
            "---------\n",
            "Head: 0\n",
            "0\n",
            "1\n",
            "2\n",
            "3\n",
            "---------\n"
          ],
          "name": "stdout"
        }
      ]
    },
    {
      "cell_type": "markdown",
      "metadata": {
        "id": "C7XYQan8auCO"
      },
      "source": [
        "Time complexity of push() is O(1) as it does constant amount of work.\r\n",
        "\r\n",
        "\r\n",
        "#### Add a node after a given node"
      ]
    },
    {
      "cell_type": "code",
      "metadata": {
        "id": "Q8CkOb6lagbm"
      },
      "source": [
        "class Node():\r\n",
        "    def __init__(self, value):\r\n",
        "        ### self refers to obj of Node\r\n",
        "        self.data = value\r\n",
        "        self.next = None\r\n",
        "\r\n",
        "class LinkedList():\r\n",
        "    def __init__(self, head=None):\r\n",
        "        ### self refers to obj of LinkedList\r\n",
        "        self.head = head\r\n",
        "\r\n",
        "    def traverse(self):\r\n",
        "        print ('---------')\r\n",
        "        print ('Head:', self.head.data)\r\n",
        "        current_node = self.head\r\n",
        "        while current_node:\r\n",
        "            print (current_node.data)\r\n",
        "            current_node = current_node.next\r\n",
        "        print ('---------')\r\n",
        "\r\n",
        "    def push(self, new_node):\r\n",
        "        new_node.next = self.head\r\n",
        "        self.head = new_node\r\n",
        "\r\n",
        "    def insert(self, prev_node, new_node):\r\n",
        "        if prev_node is None:\r\n",
        "            self.push(new_node)\r\n",
        "\r\n",
        "        else:\r\n",
        "            new_node.next = prev_node.next\r\n",
        "            prev_node.next = new_node\r\n",
        "\r\n",
        "    def append(self, new_node):\r\n",
        "        if self.head is None:\r\n",
        "            ### empty list\r\n",
        "            self.head = new_node\r\n",
        "            self.next = None\r\n",
        "        else:\r\n",
        "            current_node = self.head\r\n",
        "            while current_node.next is not None:\r\n",
        "                current_node = current_node.next\r\n",
        "            current_node.next = new_node\r\n",
        "            new_node.next = None\r\n",
        "\r\n",
        "        \r\n"
      ],
      "execution_count": 5,
      "outputs": []
    },
    {
      "cell_type": "code",
      "metadata": {
        "colab": {
          "base_uri": "https://localhost:8080/"
        },
        "id": "d51WhidrbMVs",
        "outputId": "364eb63b-9874-48be-9082-5b526861e2d2"
      },
      "source": [
        "def main():\r\n",
        "    linked_list = LinkedList()\r\n",
        "    node_1 = Node(1)\r\n",
        "    node_2 = Node(2)\r\n",
        "    node_3 = Node(3)\r\n",
        "\r\n",
        "    node_1.next = node_2\r\n",
        "    node_2.next = node_3\r\n",
        "\r\n",
        "    linked_list.append(node_1)\r\n",
        "    # linked_list.head = node_1\r\n",
        "\r\n",
        "    linked_list.traverse()\r\n",
        "\r\n",
        "    node_0 = Node(0)\r\n",
        "    linked_list.push(node_0)\r\n",
        "\r\n",
        "    linked_list.traverse()\r\n",
        "\r\n",
        "    node_2_5 = Node(2.5)\r\n",
        "    linked_list.insert(prev_node=node_3, new_node=node_2_5)\r\n",
        "\r\n",
        "    new_first = Node(-1)\r\n",
        "    linked_list.insert(prev_node=None, new_node=new_first)\r\n",
        "\r\n",
        "    linked_list.traverse()\r\n",
        "\r\n",
        "    node_10 = Node(10)\r\n",
        "    linked_list.append(node_10)\r\n",
        "    linked_list.traverse()\r\n",
        "\r\n",
        "main()\r\n"
      ],
      "execution_count": 6,
      "outputs": [
        {
          "output_type": "stream",
          "text": [
            "---------\n",
            "Head: 1\n",
            "1\n",
            "2\n",
            "3\n",
            "---------\n",
            "---------\n",
            "Head: 0\n",
            "0\n",
            "1\n",
            "2\n",
            "3\n",
            "---------\n",
            "---------\n",
            "Head: -1\n",
            "-1\n",
            "0\n",
            "1\n",
            "2\n",
            "3\n",
            "2.5\n",
            "---------\n",
            "---------\n",
            "Head: -1\n",
            "-1\n",
            "0\n",
            "1\n",
            "2\n",
            "3\n",
            "2.5\n",
            "10\n",
            "---------\n"
          ],
          "name": "stdout"
        }
      ]
    },
    {
      "cell_type": "markdown",
      "metadata": {
        "id": "SVN6tVOdNW_M"
      },
      "source": [
        "### Delete a node (iterative)\r\n",
        "\r\n"
      ]
    },
    {
      "cell_type": "code",
      "metadata": {
        "id": "9FWSecsxc5-6"
      },
      "source": [
        "class Node():\r\n",
        "    def __init__(self, value):\r\n",
        "        ### self refers to obj of Node\r\n",
        "        self.data = value\r\n",
        "        self.next = None\r\n",
        "\r\n",
        "class LinkedList():\r\n",
        "    def __init__(self, head=None):\r\n",
        "        ### self refers to obj of LinkedList\r\n",
        "        self.head = head\r\n",
        "\r\n",
        "    def traverse(self):\r\n",
        "        print ('---------')\r\n",
        "        print ('Head:', self.head.data)\r\n",
        "        current_node = self.head\r\n",
        "        while current_node:\r\n",
        "            print (current_node.data)\r\n",
        "            current_node = current_node.next\r\n",
        "        print ('---------')\r\n",
        "\r\n",
        "    def push(self, new_node):\r\n",
        "        new_node.next = self.head\r\n",
        "        self.head = new_node\r\n",
        "\r\n",
        "    def insert(self, prev_node, new_node):\r\n",
        "        if prev_node is None:\r\n",
        "            self.push(new_node)\r\n",
        "\r\n",
        "        else:\r\n",
        "            new_node.next = prev_node.next\r\n",
        "            prev_node.next = new_node\r\n",
        "\r\n",
        "    def append(self, new_node):\r\n",
        "        if self.head is None:\r\n",
        "            ### empty list\r\n",
        "            self.head = new_node\r\n",
        "            self.next = None\r\n",
        "        else:\r\n",
        "            current_node = self.head\r\n",
        "            while current_node.next is not None:\r\n",
        "                current_node = current_node.next\r\n",
        "            current_node.next = new_node\r\n",
        "            new_node.next = None\r\n",
        "\r\n",
        "        \r\n",
        "    def deleteNode(self, key):\r\n",
        "        if self.head is None:\r\n",
        "            return \"Cannot delete from an empty list\"\r\n",
        "\r\n",
        "        current_node = self.head\r\n",
        "        if current_node.data == key:\r\n",
        "            ### delete the first node\r\n",
        "            self.head = current_node.next\r\n",
        "            del current_node\r\n",
        "        else:\r\n",
        "            ### traverse till the last node or the node before the one with the key\r\n",
        "            while current_node.next and current_node.next.data != key:\r\n",
        "                current_node = current_node.next\r\n",
        "\r\n",
        "            if not current_node.next:\r\n",
        "                print (\"Could not find node with key:\", key)\r\n",
        "                return \"Could not find node with key:\", key\r\n",
        "\r\n",
        "            temp = current_node.next\r\n",
        "            current_node.next = temp.next\r\n",
        "            del temp\r\n",
        "\r\n",
        "\r\n",
        "    def deleteAtPos(self, pos):\r\n",
        "        if self.head is None:\r\n",
        "            return \"Cannot delete from an empty list\"\r\n",
        "\r\n",
        "        current_node = self.head\r\n",
        "        \r\n",
        "        if pos == 0:\r\n",
        "            ### delete the first node\r\n",
        "            self.head = current_node.next\r\n",
        "            del current_node\r\n",
        "\r\n",
        "        else:\r\n",
        "            currentPos = 0\r\n",
        "            while currentPos < pos-1 and current_node.next:\r\n",
        "                current_node = current_node.next\r\n",
        "                currentPos +=1\r\n",
        "\r\n",
        "            if not current_node.next:\r\n",
        "                print (\"Could not find node at pos:\", pos)\r\n",
        "                return \"Could not find node at pos:\", pos\r\n",
        "\r\n",
        "            temp = current_node.next\r\n",
        "            current_node.next = temp.next\r\n",
        "            del temp\r\n",
        "\r\n",
        "\r\n",
        "\r\n",
        "\r\n",
        "        "
      ],
      "execution_count": 18,
      "outputs": []
    },
    {
      "cell_type": "code",
      "metadata": {
        "colab": {
          "base_uri": "https://localhost:8080/"
        },
        "id": "DyKYocmoR3za",
        "outputId": "4b884a18-a770-4e83-faf8-b7d9b9e7b4fd"
      },
      "source": [
        "def main():\r\n",
        "    linked_list = LinkedList()\r\n",
        "    node_1 = Node(1)\r\n",
        "    node_2 = Node(2)\r\n",
        "    node_3 = Node(3)\r\n",
        "\r\n",
        "    node_1.next = node_2\r\n",
        "    node_2.next = node_3\r\n",
        "\r\n",
        "    linked_list.append(node_1)\r\n",
        "    # linked_list.head = node_1\r\n",
        "\r\n",
        "    linked_list.traverse()\r\n",
        "\r\n",
        "    node_0 = Node(0)\r\n",
        "    linked_list.push(node_0)\r\n",
        "\r\n",
        "    linked_list.traverse()\r\n",
        "\r\n",
        "    node_2_5 = Node(2.5)\r\n",
        "    linked_list.insert(prev_node=node_3, new_node=node_2_5)\r\n",
        "\r\n",
        "    new_first = Node(-1)\r\n",
        "    linked_list.insert(prev_node=None, new_node=new_first)\r\n",
        "\r\n",
        "    linked_list.traverse()\r\n",
        "\r\n",
        "    node_10 = Node(10)\r\n",
        "    linked_list.append(node_10)\r\n",
        "    linked_list.traverse()\r\n",
        "\r\n",
        "    linked_list.deleteAtPos(7)\r\n",
        "    linked_list.traverse()\r\n",
        "\r\n",
        "\r\n",
        "main()\r\n"
      ],
      "execution_count": 20,
      "outputs": [
        {
          "output_type": "stream",
          "text": [
            "---------\n",
            "Head: 1\n",
            "1\n",
            "2\n",
            "3\n",
            "---------\n",
            "---------\n",
            "Head: 0\n",
            "0\n",
            "1\n",
            "2\n",
            "3\n",
            "---------\n",
            "---------\n",
            "Head: -1\n",
            "-1\n",
            "0\n",
            "1\n",
            "2\n",
            "3\n",
            "2.5\n",
            "---------\n",
            "---------\n",
            "Head: -1\n",
            "-1\n",
            "0\n",
            "1\n",
            "2\n",
            "3\n",
            "2.5\n",
            "10\n",
            "---------\n",
            "Could not find node at pos: 7\n",
            "---------\n",
            "Head: -1\n",
            "-1\n",
            "0\n",
            "1\n",
            "2\n",
            "3\n",
            "2.5\n",
            "10\n",
            "---------\n"
          ],
          "name": "stdout"
        }
      ]
    },
    {
      "cell_type": "code",
      "metadata": {
        "id": "lOFLaXWaSATo"
      },
      "source": [
        ""
      ],
      "execution_count": null,
      "outputs": []
    }
  ]
}