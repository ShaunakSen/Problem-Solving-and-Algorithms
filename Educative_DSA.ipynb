{
  "cells": [
    {
      "cell_type": "markdown",
      "metadata": {
        "colab_type": "text",
        "id": "view-in-github"
      },
      "source": [
        "<a href=\"https://colab.research.google.com/github/ShaunakSen/problem-solving-with-code/blob/master/Educative_DSA.ipynb\" target=\"_parent\"><img src=\"https://colab.research.google.com/assets/colab-badge.svg\" alt=\"Open In Colab\"/></a>"
      ]
    },
    {
      "cell_type": "code",
      "execution_count": 1,
      "metadata": {
        "id": "KcTLo7Eo3apO"
      },
      "outputs": [],
      "source": [
        "player_inventory = []"
      ]
    },
    {
      "cell_type": "code",
      "execution_count": null,
      "metadata": {
        "id": "JZBN_EzJ4M55"
      },
      "outputs": [],
      "source": [
        "def sell(player_inventory):\n",
        "    print('selling:')\n",
        "    for stuff in player_inventory:\n",
        "        print(stuff)\n",
        "    sold = input('what do you want to sell?')\n",
        "    if (sold in player_inventory):\n",
        "        print('successfully sold!!')\n",
        "        player_inventory.remove(sold)\n",
        "    return player_inventory"
      ]
    },
    {
      "cell_type": "code",
      "execution_count": null,
      "metadata": {
        "colab": {
          "base_uri": "https://localhost:8080/"
        },
        "id": "rTLGytQf4OiW",
        "outputId": "63ca9e83-bf82-407a-a9d4-56df698b32e4"
      },
      "outputs": [
        {
          "name": "stdout",
          "output_type": "stream",
          "text": [
            "selling:\n",
            "wooden_sword\n",
            "what do you want to sell?wooden_sword\n",
            "successfully sold!!\n"
          ]
        },
        {
          "data": {
            "text/plain": [
              "[]"
            ]
          },
          "execution_count": 3,
          "metadata": {
            "tags": []
          },
          "output_type": "execute_result"
        }
      ],
      "source": [
        "player_inventory = ['wooden_sword']\n",
        "player_inventory = sell(player_inventory)\n",
        "player_inventory"
      ]
    },
    {
      "cell_type": "markdown",
      "metadata": {
        "id": "hH7zZ1k447Xt"
      },
      "source": [
        "## Data Structures in Python\n",
        "\n",
        "> Notes on the course by Educative: https://www.educative.io/module/data-structures-in-python\n",
        "\n",
        "---\n",
        "\n",
        "### Challenge 2: Merge Two Sorted Lists\n",
        "\n",
        "Given two sorted lists, merge them into one list which should also be sorted. Implement the solution in Python and see if your code runs successfully!\n",
        "\n"
      ]
    },
    {
      "cell_type": "code",
      "execution_count": null,
      "metadata": {
        "colab": {
          "base_uri": "https://localhost:8080/"
        },
        "id": "Vg3u-Kwd4U56",
        "outputId": "c9d678f2-aac3-45b4-8613-4ba0d1983ee0"
      },
      "outputs": [
        {
          "data": {
            "text/plain": [
              "[1, 2, 3, 4, 5, 6, 7, 8]"
            ]
          },
          "execution_count": 8,
          "metadata": {
            "tags": []
          },
          "output_type": "execute_result"
        }
      ],
      "source": [
        "def merge_lists(lst1, lst2):\n",
        "    # Write your code here\n",
        "    i, j = 0, 0\n",
        "    merged_list = []\n",
        "    while i < len(lst1) and j < len(lst2):\n",
        "        if lst1[i] < lst2[j]:\n",
        "            merged_list.append(lst1[i])\n",
        "            i+=1\n",
        "        else:\n",
        "            merged_list.append(lst2[j])\n",
        "            j+=1\n",
        "    if i < len(lst1):\n",
        "        for i1 in range(i,len(lst1)):\n",
        "            merged_list.append(lst1[i1])\n",
        "\n",
        "    if j < len(lst2):\n",
        "        for j1 in range(j,len(lst2)):\n",
        "            merged_list.append(lst2[j1])\n",
        "\n",
        "    return merged_list\n",
        "\n",
        "\n",
        "merge_lists([1,3,4,5], [2,6,7,8])"
      ]
    },
    {
      "cell_type": "markdown",
      "metadata": {
        "id": "LPNgODXVBnwe"
      },
      "source": [
        "The time complexity for this algorithm is O(n+m) where nn and mm are the lengths of the lists. This is because both lists are iterated over atleast once.\n",
        "\n",
        "### Solution #2: Merging in Place "
      ]
    },
    {
      "cell_type": "code",
      "execution_count": null,
      "metadata": {
        "colab": {
          "base_uri": "https://localhost:8080/"
        },
        "id": "eTHUEqTb8nyq",
        "outputId": "3936fe5f-4fcb-4bf4-de4d-360945c0084c"
      },
      "outputs": [
        {
          "data": {
            "text/plain": [
              "[-2, -1, 0, 4, 5, 6, 7]"
            ]
          },
          "execution_count": 5,
          "metadata": {
            "tags": []
          },
          "output_type": "execute_result"
        }
      ],
      "source": [
        "def merge_lists(lst1, lst2):\n",
        "    # Write your code here\n",
        "    i, j = 0, 0\n",
        "    \n",
        "    while i < len(lst1) and j < len(lst2):\n",
        "        if lst2[j] < lst1[i]:\n",
        "            lst1.insert(i, lst2[j])\n",
        "            i+=1\n",
        "            j+=1\n",
        "        else:\n",
        "            i+=1\n",
        "    if j < len(lst2):\n",
        "        for j1 in range(j, len(lst2)):\n",
        "            lst1.append(lst2[j1])\n",
        "\n",
        "    return lst1\n",
        "\n",
        "\n",
        "merge_lists([4, 5, 6], [-2, -1, 0, 7])"
      ]
    },
    {
      "cell_type": "markdown",
      "metadata": {
        "id": "XuKHIjV1HHhc"
      },
      "source": [
        "Since both lists are traversed in this solution as well, the time complexity is O(m(n+m)) where n and m are the lengths of the lists. Both lists are not traversed separately so we cannot say that complexity is (m+n). The shorter of the two lengths is traversed in the while loop. Also, the insert function gets called when the if-condition is true. In the worst-case, the second list has all the elements that are smaller than the elements of the first list. In this case, the complexity will be O(mn). Note that if m > n, we have O(mn), otherwise the complexity is O(n^2)\n",
        "\n",
        "However, the extra space used in solution#1 is reduced to O(m) in solution#2. Thus, it makes this a tradeoff between space and time."
      ]
    },
    {
      "cell_type": "markdown",
      "metadata": {
        "id": "Ernpp9sHHr3a"
      },
      "source": [
        "### Challenge 4: List of Products of all Elements"
      ]
    },
    {
      "cell_type": "code",
      "execution_count": null,
      "metadata": {
        "colab": {
          "base_uri": "https://localhost:8080/"
        },
        "id": "yYpcLi5bECbb",
        "outputId": "942f2dad-64a7-41b3-b539-c968baa81fb2"
      },
      "outputs": [
        {
          "data": {
            "text/plain": [
              "[24, 12, 8, 6]"
            ]
          },
          "execution_count": 7,
          "metadata": {
            "tags": []
          },
          "output_type": "execute_result"
        }
      ],
      "source": [
        "def find_product(lst):\n",
        "    new_list = []\n",
        "    for idx1 in range(len(lst)):\n",
        "        prod = 1\n",
        "        for idx2 in range(len(lst)):\n",
        "            if idx1 == idx2:\n",
        "                continue\n",
        "            prod = prod * lst[idx2]\n",
        "        new_list.append(prod)\n",
        "    return new_list\n",
        "\n",
        "find_product([1,2,3,4])"
      ]
    },
    {
      "cell_type": "markdown",
      "metadata": {
        "id": "lju1DKRrLcBQ"
      },
      "source": [
        "The time complexity here is O(n^2)"
      ]
    },
    {
      "cell_type": "code",
      "execution_count": null,
      "metadata": {
        "colab": {
          "base_uri": "https://localhost:8080/"
        },
        "id": "25Q7YrMtKTxo",
        "outputId": "da9f9222-7984-4ca9-a4e2-40a3813a8d0f"
      },
      "outputs": [
        {
          "name": "stdout",
          "output_type": "stream",
          "text": [
            "6\n",
            "5\n",
            "4\n",
            "3\n",
            "2\n",
            "1\n",
            "0\n",
            "[1, 5, 15, 15, 105, 420, 840]\n"
          ]
        }
      ],
      "source": [
        "def find_product(lst):\n",
        "\n",
        "    ### get all left prods\n",
        "    ### 1st: 1 2nd: 1.5, 3rd: 1.5.3 and so on...\n",
        "    \n",
        "    all_products = []\n",
        "    left = 1\n",
        "    for elem in lst:\n",
        "        all_products.append(left)\n",
        "        left = left * elem\n",
        "\n",
        "    right = 1\n",
        "    for idx in range(len(lst)-1, -1, -1):\n",
        "        all_products[idx] = all_products[idx] * right\n",
        "        right = right * elem\n",
        "\n",
        "    print (all_products)\n",
        "\n",
        "\n",
        "find_product([5, 3, 1, 7, 4, 2, 9])"
      ]
    },
    {
      "cell_type": "code",
      "execution_count": null,
      "metadata": {
        "id": "7qhdQrhlOFhK"
      },
      "outputs": [],
      "source": []
    },
    {
      "cell_type": "markdown",
      "metadata": {
        "id": "0AJCiRFJhvEf"
      },
      "source": [
        "### Linked Lists"
      ]
    },
    {
      "cell_type": "code",
      "execution_count": 1,
      "metadata": {
        "id": "Vn-tbM-0hwjs"
      },
      "outputs": [],
      "source": [
        "class Node():\n",
        "\n",
        "    def __init__(self, value):\n",
        "        self.data = value\n",
        "        self.next = None\n",
        "\n",
        "class LinkedList():\n",
        "    def __init__(self, head=None):\n",
        "        self.head = head\n",
        "\n",
        "    def traverse(self):\n",
        "        current_node = self.head\n",
        "        while current_node:\n",
        "            print (current_node.data)\n",
        "            current_node = current_node.next\n",
        "\n"
      ]
    },
    {
      "cell_type": "code",
      "execution_count": 2,
      "metadata": {
        "colab": {
          "base_uri": "https://localhost:8080/"
        },
        "id": "otHrRx6NiOsH",
        "outputId": "f21f2659-3923-4d71-f59c-a7153ee1f939"
      },
      "outputs": [
        {
          "name": "stdout",
          "output_type": "stream",
          "text": [
            "2\n",
            "1\n",
            "2\n",
            "3\n"
          ]
        }
      ],
      "source": [
        "def main():\n",
        "    linked_list = LinkedList()\n",
        "    node_1 = Node(1)\n",
        "    node_2 = Node(2)\n",
        "    node_3 = Node(3)\n",
        "\n",
        "    node_1.next = node_2\n",
        "    node_2.next = node_3\n",
        "\n",
        "\n",
        "    linked_list.head = node_1\n",
        "\n",
        "    print(linked_list.head.next.data)\n",
        "\n",
        "    linked_list.traverse()\n",
        "\n",
        "main()\n"
      ]
    },
    {
      "cell_type": "markdown",
      "metadata": {
        "id": "1HNA9eDS-QHz"
      },
      "source": [
        "### Linked List | Set 2 (Inserting a node)\n",
        "\n",
        "#### Insert a new node at the beginning\n",
        "\n",
        " Let us call the function that adds at the front of the list is push(). The push() must receive a pointer to the head pointer, because push must change the head pointer to point to the new node"
      ]
    },
    {
      "cell_type": "code",
      "execution_count": 3,
      "metadata": {
        "id": "LUfLz48yi94j"
      },
      "outputs": [],
      "source": [
        "class Node():\n",
        "    def __init__(self, value):\n",
        "        ### self refers to obj of Node\n",
        "        self.data = value\n",
        "        self.next = None\n",
        "\n",
        "class LinkedList():\n",
        "    def __init__(self, head=None):\n",
        "        ### self refers to obj of LinkedList\n",
        "        self.head = head\n",
        "\n",
        "    def traverse(self):\n",
        "        print ('---------')\n",
        "        print ('Head:', self.head.data)\n",
        "        current_node = self.head\n",
        "        while current_node:\n",
        "            print (current_node.data)\n",
        "            current_node = current_node.next\n",
        "        print ('---------')\n",
        "\n",
        "    def push(self, new_node):\n",
        "        new_node.next = self.head\n",
        "        self.head = new_node"
      ]
    },
    {
      "cell_type": "code",
      "execution_count": 4,
      "metadata": {
        "colab": {
          "base_uri": "https://localhost:8080/"
        },
        "id": "ivki6czVHCKf",
        "outputId": "bc027147-5d02-46de-a4ef-4b1d35aec990"
      },
      "outputs": [
        {
          "name": "stdout",
          "output_type": "stream",
          "text": [
            "---------\n",
            "Head: 1\n",
            "1\n",
            "2\n",
            "3\n",
            "---------\n",
            "---------\n",
            "Head: 0\n",
            "0\n",
            "1\n",
            "2\n",
            "3\n",
            "---------\n"
          ]
        }
      ],
      "source": [
        "def main():\n",
        "    linked_list = LinkedList()\n",
        "    node_1 = Node(1)\n",
        "    node_2 = Node(2)\n",
        "    node_3 = Node(3)\n",
        "\n",
        "    node_1.next = node_2\n",
        "    node_2.next = node_3\n",
        "\n",
        "\n",
        "    linked_list.head = node_1\n",
        "\n",
        "    linked_list.traverse()\n",
        "\n",
        "    node_0 = Node(0)\n",
        "    linked_list.push(node_0)\n",
        "\n",
        "    linked_list.traverse()\n",
        "\n",
        "main()"
      ]
    },
    {
      "cell_type": "markdown",
      "metadata": {
        "id": "C7XYQan8auCO"
      },
      "source": [
        "Time complexity of push() is O(1) as it does constant amount of work.\n",
        "\n",
        "\n",
        "#### Add a node after a given node"
      ]
    },
    {
      "cell_type": "code",
      "execution_count": 5,
      "metadata": {
        "id": "Q8CkOb6lagbm"
      },
      "outputs": [],
      "source": [
        "class Node():\n",
        "    def __init__(self, value):\n",
        "        ### self refers to obj of Node\n",
        "        self.data = value\n",
        "        self.next = None\n",
        "\n",
        "class LinkedList():\n",
        "    def __init__(self, head=None):\n",
        "        ### self refers to obj of LinkedList\n",
        "        self.head = head\n",
        "\n",
        "    def traverse(self):\n",
        "        print ('---------')\n",
        "        print ('Head:', self.head.data)\n",
        "        current_node = self.head\n",
        "        while current_node:\n",
        "            print (current_node.data)\n",
        "            current_node = current_node.next\n",
        "        print ('---------')\n",
        "\n",
        "    def push(self, new_node):\n",
        "        new_node.next = self.head\n",
        "        self.head = new_node\n",
        "\n",
        "    def insert(self, prev_node, new_node):\n",
        "        if prev_node is None:\n",
        "            self.push(new_node)\n",
        "\n",
        "        else:\n",
        "            new_node.next = prev_node.next\n",
        "            prev_node.next = new_node\n",
        "\n",
        "    def append(self, new_node):\n",
        "        if self.head is None:\n",
        "            ### empty list\n",
        "            self.head = new_node\n",
        "            self.next = None\n",
        "        else:\n",
        "            current_node = self.head\n",
        "            while current_node.next is not None:\n",
        "                current_node = current_node.next\n",
        "            current_node.next = new_node\n",
        "            new_node.next = None\n",
        "\n",
        "        \n"
      ]
    },
    {
      "cell_type": "code",
      "execution_count": 6,
      "metadata": {
        "colab": {
          "base_uri": "https://localhost:8080/"
        },
        "id": "d51WhidrbMVs",
        "outputId": "364eb63b-9874-48be-9082-5b526861e2d2"
      },
      "outputs": [
        {
          "name": "stdout",
          "output_type": "stream",
          "text": [
            "---------\n",
            "Head: 1\n",
            "1\n",
            "2\n",
            "3\n",
            "---------\n",
            "---------\n",
            "Head: 0\n",
            "0\n",
            "1\n",
            "2\n",
            "3\n",
            "---------\n",
            "---------\n",
            "Head: -1\n",
            "-1\n",
            "0\n",
            "1\n",
            "2\n",
            "3\n",
            "2.5\n",
            "---------\n",
            "---------\n",
            "Head: -1\n",
            "-1\n",
            "0\n",
            "1\n",
            "2\n",
            "3\n",
            "2.5\n",
            "10\n",
            "---------\n"
          ]
        }
      ],
      "source": [
        "def main():\n",
        "    linked_list = LinkedList()\n",
        "    node_1 = Node(1)\n",
        "    node_2 = Node(2)\n",
        "    node_3 = Node(3)\n",
        "\n",
        "    node_1.next = node_2\n",
        "    node_2.next = node_3\n",
        "\n",
        "    linked_list.append(node_1)\n",
        "    # linked_list.head = node_1\n",
        "\n",
        "    linked_list.traverse()\n",
        "\n",
        "    node_0 = Node(0)\n",
        "    linked_list.push(node_0)\n",
        "\n",
        "    linked_list.traverse()\n",
        "\n",
        "    node_2_5 = Node(2.5)\n",
        "    linked_list.insert(prev_node=node_3, new_node=node_2_5)\n",
        "\n",
        "    new_first = Node(-1)\n",
        "    linked_list.insert(prev_node=None, new_node=new_first)\n",
        "\n",
        "    linked_list.traverse()\n",
        "\n",
        "    node_10 = Node(10)\n",
        "    linked_list.append(node_10)\n",
        "    linked_list.traverse()\n",
        "\n",
        "main()\n"
      ]
    },
    {
      "cell_type": "markdown",
      "metadata": {
        "id": "SVN6tVOdNW_M"
      },
      "source": [
        "### Delete a node (iterative)\n",
        "\n"
      ]
    },
    {
      "cell_type": "code",
      "execution_count": 18,
      "metadata": {
        "id": "9FWSecsxc5-6"
      },
      "outputs": [],
      "source": [
        "class Node():\n",
        "    def __init__(self, value):\n",
        "        ### self refers to obj of Node\n",
        "        self.data = value\n",
        "        self.next = None\n",
        "\n",
        "class LinkedList():\n",
        "    def __init__(self, head=None):\n",
        "        ### self refers to obj of LinkedList\n",
        "        self.head = head\n",
        "\n",
        "    def traverse(self):\n",
        "        print ('---------')\n",
        "        print ('Head:', self.head.data)\n",
        "        current_node = self.head\n",
        "        while current_node:\n",
        "            print (current_node.data)\n",
        "            current_node = current_node.next\n",
        "        print ('---------')\n",
        "\n",
        "    def push(self, new_node):\n",
        "        new_node.next = self.head\n",
        "        self.head = new_node\n",
        "\n",
        "    def insert(self, prev_node, new_node):\n",
        "        if prev_node is None:\n",
        "            self.push(new_node)\n",
        "\n",
        "        else:\n",
        "            new_node.next = prev_node.next\n",
        "            prev_node.next = new_node\n",
        "\n",
        "    def append(self, new_node):\n",
        "        if self.head is None:\n",
        "            ### empty list\n",
        "            self.head = new_node\n",
        "            self.next = None\n",
        "        else:\n",
        "            current_node = self.head\n",
        "            while current_node.next is not None:\n",
        "                current_node = current_node.next\n",
        "            current_node.next = new_node\n",
        "            new_node.next = None\n",
        "\n",
        "        \n",
        "    def deleteNode(self, key):\n",
        "        if self.head is None:\n",
        "            return \"Cannot delete from an empty list\"\n",
        "\n",
        "        current_node = self.head\n",
        "        if current_node.data == key:\n",
        "            ### delete the first node\n",
        "            self.head = current_node.next\n",
        "            del current_node\n",
        "        else:\n",
        "            ### traverse till the last node or the node before the one with the key\n",
        "            while current_node.next and current_node.next.data != key:\n",
        "                current_node = current_node.next\n",
        "\n",
        "            if not current_node.next:\n",
        "                print (\"Could not find node with key:\", key)\n",
        "                return \"Could not find node with key:\", key\n",
        "\n",
        "            temp = current_node.next\n",
        "            current_node.next = temp.next\n",
        "            del temp\n",
        "\n",
        "\n",
        "    def deleteAtPos(self, pos):\n",
        "        if self.head is None:\n",
        "            return \"Cannot delete from an empty list\"\n",
        "\n",
        "        current_node = self.head\n",
        "        \n",
        "        if pos == 0:\n",
        "            ### delete the first node\n",
        "            self.head = current_node.next\n",
        "            del current_node\n",
        "\n",
        "        else:\n",
        "            currentPos = 0\n",
        "            while currentPos < pos-1 and current_node.next:\n",
        "                current_node = current_node.next\n",
        "                currentPos +=1\n",
        "\n",
        "            if not current_node.next:\n",
        "                print (\"Could not find node at pos:\", pos)\n",
        "                return \"Could not find node at pos:\", pos\n",
        "\n",
        "            temp = current_node.next\n",
        "            current_node.next = temp.next\n",
        "            del temp\n",
        "\n",
        "\n",
        "\n",
        "\n",
        "        "
      ]
    },
    {
      "cell_type": "code",
      "execution_count": 20,
      "metadata": {
        "colab": {
          "base_uri": "https://localhost:8080/"
        },
        "id": "DyKYocmoR3za",
        "outputId": "4b884a18-a770-4e83-faf8-b7d9b9e7b4fd"
      },
      "outputs": [
        {
          "name": "stdout",
          "output_type": "stream",
          "text": [
            "---------\n",
            "Head: 1\n",
            "1\n",
            "2\n",
            "3\n",
            "---------\n",
            "---------\n",
            "Head: 0\n",
            "0\n",
            "1\n",
            "2\n",
            "3\n",
            "---------\n",
            "---------\n",
            "Head: -1\n",
            "-1\n",
            "0\n",
            "1\n",
            "2\n",
            "3\n",
            "2.5\n",
            "---------\n",
            "---------\n",
            "Head: -1\n",
            "-1\n",
            "0\n",
            "1\n",
            "2\n",
            "3\n",
            "2.5\n",
            "10\n",
            "---------\n",
            "Could not find node at pos: 7\n",
            "---------\n",
            "Head: -1\n",
            "-1\n",
            "0\n",
            "1\n",
            "2\n",
            "3\n",
            "2.5\n",
            "10\n",
            "---------\n"
          ]
        }
      ],
      "source": [
        "def main():\n",
        "    linked_list = LinkedList()\n",
        "    node_1 = Node(1)\n",
        "    node_2 = Node(2)\n",
        "    node_3 = Node(3)\n",
        "\n",
        "    node_1.next = node_2\n",
        "    node_2.next = node_3\n",
        "\n",
        "    linked_list.append(node_1)\n",
        "    # linked_list.head = node_1\n",
        "\n",
        "    linked_list.traverse()\n",
        "\n",
        "    node_0 = Node(0)\n",
        "    linked_list.push(node_0)\n",
        "\n",
        "    linked_list.traverse()\n",
        "\n",
        "    node_2_5 = Node(2.5)\n",
        "    linked_list.insert(prev_node=node_3, new_node=node_2_5)\n",
        "\n",
        "    new_first = Node(-1)\n",
        "    linked_list.insert(prev_node=None, new_node=new_first)\n",
        "\n",
        "    linked_list.traverse()\n",
        "\n",
        "    node_10 = Node(10)\n",
        "    linked_list.append(node_10)\n",
        "    linked_list.traverse()\n",
        "\n",
        "    linked_list.deleteAtPos(7)\n",
        "    linked_list.traverse()\n",
        "\n",
        "\n",
        "main()\n"
      ]
    },
    {
      "cell_type": "code",
      "execution_count": null,
      "metadata": {
        "id": "lOFLaXWaSATo"
      },
      "outputs": [],
      "source": []
    }
  ],
  "metadata": {
    "colab": {
      "authorship_tag": "ABX9TyMLWBdBSYIvGtcINkNsnlam",
      "collapsed_sections": [],
      "include_colab_link": true,
      "name": "Educative - DSA.ipynb",
      "provenance": []
    },
    "kernelspec": {
      "display_name": "shaunak-personal",
      "language": "python",
      "name": "python3"
    },
    "language_info": {
      "codemirror_mode": {
        "name": "ipython",
        "version": 3
      },
      "file_extension": ".py",
      "mimetype": "text/x-python",
      "name": "python",
      "nbconvert_exporter": "python",
      "pygments_lexer": "ipython3",
      "version": "3.9.15 (main, Nov 24 2022, 08:28:41) \n[Clang 14.0.6 ]"
    },
    "vscode": {
      "interpreter": {
        "hash": "9c5d7d6ff00ec71cbd76b2f509e6d711a2ce2552a653ddb9267addcf36cd13ab"
      }
    }
  },
  "nbformat": 4,
  "nbformat_minor": 0
}
