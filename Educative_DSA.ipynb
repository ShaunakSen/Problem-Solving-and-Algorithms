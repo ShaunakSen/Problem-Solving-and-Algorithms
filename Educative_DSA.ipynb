{
  "nbformat": 4,
  "nbformat_minor": 0,
  "metadata": {
    "colab": {
      "name": "Educative - DSA.ipynb",
      "provenance": [],
      "collapsed_sections": [],
      "authorship_tag": "ABX9TyOGcWjbgOnN0qJ2poXngMDV",
      "include_colab_link": true
    },
    "kernelspec": {
      "name": "python3",
      "display_name": "Python 3"
    }
  },
  "cells": [
    {
      "cell_type": "markdown",
      "metadata": {
        "id": "view-in-github",
        "colab_type": "text"
      },
      "source": [
        "<a href=\"https://colab.research.google.com/github/ShaunakSen/problem-solving-with-code/blob/master/Educative_DSA.ipynb\" target=\"_parent\"><img src=\"https://colab.research.google.com/assets/colab-badge.svg\" alt=\"Open In Colab\"/></a>"
      ]
    },
    {
      "cell_type": "code",
      "metadata": {
        "id": "KcTLo7Eo3apO"
      },
      "source": [
        "player_inventory = []"
      ],
      "execution_count": 1,
      "outputs": []
    },
    {
      "cell_type": "code",
      "metadata": {
        "id": "JZBN_EzJ4M55"
      },
      "source": [
        "def sell(player_inventory):\r\n",
        "    print('selling:')\r\n",
        "    for stuff in player_inventory:\r\n",
        "        print(stuff)\r\n",
        "    sold = input('what do you want to sell?')\r\n",
        "    if (sold in player_inventory):\r\n",
        "        print('successfully sold!!')\r\n",
        "        player_inventory.remove(sold)\r\n",
        "    return player_inventory"
      ],
      "execution_count": 2,
      "outputs": []
    },
    {
      "cell_type": "code",
      "metadata": {
        "colab": {
          "base_uri": "https://localhost:8080/"
        },
        "id": "rTLGytQf4OiW",
        "outputId": "63ca9e83-bf82-407a-a9d4-56df698b32e4"
      },
      "source": [
        "player_inventory = ['wooden_sword']\r\n",
        "player_inventory = sell(player_inventory)\r\n",
        "player_inventory"
      ],
      "execution_count": 3,
      "outputs": [
        {
          "output_type": "stream",
          "text": [
            "selling:\n",
            "wooden_sword\n",
            "what do you want to sell?wooden_sword\n",
            "successfully sold!!\n"
          ],
          "name": "stdout"
        },
        {
          "output_type": "execute_result",
          "data": {
            "text/plain": [
              "[]"
            ]
          },
          "metadata": {
            "tags": []
          },
          "execution_count": 3
        }
      ]
    },
    {
      "cell_type": "markdown",
      "metadata": {
        "id": "hH7zZ1k447Xt"
      },
      "source": [
        "## Data Structures in Python\r\n",
        "\r\n",
        "> Notes on the course by Educative: https://www.educative.io/module/data-structures-in-python\r\n",
        "\r\n",
        "---\r\n",
        "\r\n",
        "### Challenge 2: Merge Two Sorted Lists\r\n",
        "\r\n",
        "Given two sorted lists, merge them into one list which should also be sorted. Implement the solution in Python and see if your code runs successfully!\r\n",
        "\r\n"
      ]
    },
    {
      "cell_type": "code",
      "metadata": {
        "colab": {
          "base_uri": "https://localhost:8080/"
        },
        "id": "Vg3u-Kwd4U56",
        "outputId": "c9d678f2-aac3-45b4-8613-4ba0d1983ee0"
      },
      "source": [
        "def merge_lists(lst1, lst2):\r\n",
        "    # Write your code here\r\n",
        "    i, j = 0, 0\r\n",
        "    merged_list = []\r\n",
        "    while i < len(lst1) and j < len(lst2):\r\n",
        "        if lst1[i] < lst2[j]:\r\n",
        "            merged_list.append(lst1[i])\r\n",
        "            i+=1\r\n",
        "        else:\r\n",
        "            merged_list.append(lst2[j])\r\n",
        "            j+=1\r\n",
        "    if i < len(lst1):\r\n",
        "        for i1 in range(i,len(lst1)):\r\n",
        "            merged_list.append(lst1[i1])\r\n",
        "\r\n",
        "    if j < len(lst2):\r\n",
        "        for j1 in range(j,len(lst2)):\r\n",
        "            merged_list.append(lst2[j1])\r\n",
        "\r\n",
        "    return merged_list\r\n",
        "\r\n",
        "\r\n",
        "merge_lists([1,3,4,5], [2,6,7,8])"
      ],
      "execution_count": 8,
      "outputs": [
        {
          "output_type": "execute_result",
          "data": {
            "text/plain": [
              "[1, 2, 3, 4, 5, 6, 7, 8]"
            ]
          },
          "metadata": {
            "tags": []
          },
          "execution_count": 8
        }
      ]
    },
    {
      "cell_type": "code",
      "metadata": {
        "id": "eTHUEqTb8nyq"
      },
      "source": [
        ""
      ],
      "execution_count": null,
      "outputs": []
    }
  ]
}