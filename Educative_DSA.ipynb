{
  "nbformat": 4,
  "nbformat_minor": 0,
  "metadata": {
    "colab": {
      "name": "Educative - DSA.ipynb",
      "provenance": [],
      "collapsed_sections": [],
      "authorship_tag": "ABX9TyMQO1YlJ0y5+QRgJyf544jL",
      "include_colab_link": true
    },
    "kernelspec": {
      "name": "python3",
      "display_name": "Python 3"
    }
  },
  "cells": [
    {
      "cell_type": "markdown",
      "metadata": {
        "id": "view-in-github",
        "colab_type": "text"
      },
      "source": [
        "<a href=\"https://colab.research.google.com/github/ShaunakSen/problem-solving-with-code/blob/master/Educative_DSA.ipynb\" target=\"_parent\"><img src=\"https://colab.research.google.com/assets/colab-badge.svg\" alt=\"Open In Colab\"/></a>"
      ]
    },
    {
      "cell_type": "code",
      "metadata": {
        "id": "KcTLo7Eo3apO"
      },
      "source": [
        "player_inventory = []"
      ],
      "execution_count": null,
      "outputs": []
    },
    {
      "cell_type": "code",
      "metadata": {
        "id": "JZBN_EzJ4M55"
      },
      "source": [
        "def sell(player_inventory):\r\n",
        "    print('selling:')\r\n",
        "    for stuff in player_inventory:\r\n",
        "        print(stuff)\r\n",
        "    sold = input('what do you want to sell?')\r\n",
        "    if (sold in player_inventory):\r\n",
        "        print('successfully sold!!')\r\n",
        "        player_inventory.remove(sold)\r\n",
        "    return player_inventory"
      ],
      "execution_count": null,
      "outputs": []
    },
    {
      "cell_type": "code",
      "metadata": {
        "colab": {
          "base_uri": "https://localhost:8080/"
        },
        "id": "rTLGytQf4OiW",
        "outputId": "63ca9e83-bf82-407a-a9d4-56df698b32e4"
      },
      "source": [
        "player_inventory = ['wooden_sword']\r\n",
        "player_inventory = sell(player_inventory)\r\n",
        "player_inventory"
      ],
      "execution_count": null,
      "outputs": [
        {
          "output_type": "stream",
          "text": [
            "selling:\n",
            "wooden_sword\n",
            "what do you want to sell?wooden_sword\n",
            "successfully sold!!\n"
          ],
          "name": "stdout"
        },
        {
          "output_type": "execute_result",
          "data": {
            "text/plain": [
              "[]"
            ]
          },
          "metadata": {
            "tags": []
          },
          "execution_count": 3
        }
      ]
    },
    {
      "cell_type": "markdown",
      "metadata": {
        "id": "hH7zZ1k447Xt"
      },
      "source": [
        "## Data Structures in Python\r\n",
        "\r\n",
        "> Notes on the course by Educative: https://www.educative.io/module/data-structures-in-python\r\n",
        "\r\n",
        "---\r\n",
        "\r\n",
        "### Challenge 2: Merge Two Sorted Lists\r\n",
        "\r\n",
        "Given two sorted lists, merge them into one list which should also be sorted. Implement the solution in Python and see if your code runs successfully!\r\n",
        "\r\n"
      ]
    },
    {
      "cell_type": "code",
      "metadata": {
        "colab": {
          "base_uri": "https://localhost:8080/"
        },
        "id": "Vg3u-Kwd4U56",
        "outputId": "c9d678f2-aac3-45b4-8613-4ba0d1983ee0"
      },
      "source": [
        "def merge_lists(lst1, lst2):\r\n",
        "    # Write your code here\r\n",
        "    i, j = 0, 0\r\n",
        "    merged_list = []\r\n",
        "    while i < len(lst1) and j < len(lst2):\r\n",
        "        if lst1[i] < lst2[j]:\r\n",
        "            merged_list.append(lst1[i])\r\n",
        "            i+=1\r\n",
        "        else:\r\n",
        "            merged_list.append(lst2[j])\r\n",
        "            j+=1\r\n",
        "    if i < len(lst1):\r\n",
        "        for i1 in range(i,len(lst1)):\r\n",
        "            merged_list.append(lst1[i1])\r\n",
        "\r\n",
        "    if j < len(lst2):\r\n",
        "        for j1 in range(j,len(lst2)):\r\n",
        "            merged_list.append(lst2[j1])\r\n",
        "\r\n",
        "    return merged_list\r\n",
        "\r\n",
        "\r\n",
        "merge_lists([1,3,4,5], [2,6,7,8])"
      ],
      "execution_count": null,
      "outputs": [
        {
          "output_type": "execute_result",
          "data": {
            "text/plain": [
              "[1, 2, 3, 4, 5, 6, 7, 8]"
            ]
          },
          "metadata": {
            "tags": []
          },
          "execution_count": 8
        }
      ]
    },
    {
      "cell_type": "markdown",
      "metadata": {
        "id": "LPNgODXVBnwe"
      },
      "source": [
        "The time complexity for this algorithm is O(n+m) where nn and mm are the lengths of the lists. This is because both lists are iterated over atleast once.\r\n",
        "\r\n",
        "### Solution #2: Merging in Place "
      ]
    },
    {
      "cell_type": "code",
      "metadata": {
        "id": "eTHUEqTb8nyq",
        "colab": {
          "base_uri": "https://localhost:8080/"
        },
        "outputId": "3936fe5f-4fcb-4bf4-de4d-360945c0084c"
      },
      "source": [
        "def merge_lists(lst1, lst2):\r\n",
        "    # Write your code here\r\n",
        "    i, j = 0, 0\r\n",
        "    \r\n",
        "    while i < len(lst1) and j < len(lst2):\r\n",
        "        if lst2[j] < lst1[i]:\r\n",
        "            lst1.insert(i, lst2[j])\r\n",
        "            i+=1\r\n",
        "            j+=1\r\n",
        "        else:\r\n",
        "            i+=1\r\n",
        "    if j < len(lst2):\r\n",
        "        for j1 in range(j, len(lst2)):\r\n",
        "            lst1.append(lst2[j1])\r\n",
        "\r\n",
        "    return lst1\r\n",
        "\r\n",
        "\r\n",
        "merge_lists([4, 5, 6], [-2, -1, 0, 7])"
      ],
      "execution_count": 5,
      "outputs": [
        {
          "output_type": "execute_result",
          "data": {
            "text/plain": [
              "[-2, -1, 0, 4, 5, 6, 7]"
            ]
          },
          "metadata": {
            "tags": []
          },
          "execution_count": 5
        }
      ]
    },
    {
      "cell_type": "markdown",
      "metadata": {
        "id": "XuKHIjV1HHhc"
      },
      "source": [
        "Since both lists are traversed in this solution as well, the time complexity is O(m(n+m)) where n and m are the lengths of the lists. Both lists are not traversed separately so we cannot say that complexity is (m+n). The shorter of the two lengths is traversed in the while loop. Also, the insert function gets called when the if-condition is true. In the worst-case, the second list has all the elements that are smaller than the elements of the first list. In this case, the complexity will be O(mn). Note that if m > n, we have O(mn), otherwise the complexity is O(n^2)\r\n",
        "\r\n",
        "However, the extra space used in solution#1 is reduced to O(m) in solution#2. Thus, it makes this a tradeoff between space and time."
      ]
    },
    {
      "cell_type": "markdown",
      "metadata": {
        "id": "Ernpp9sHHr3a"
      },
      "source": [
        "### Challenge 4: List of Products of all Elements"
      ]
    },
    {
      "cell_type": "code",
      "metadata": {
        "colab": {
          "base_uri": "https://localhost:8080/"
        },
        "id": "yYpcLi5bECbb",
        "outputId": "942f2dad-64a7-41b3-b539-c968baa81fb2"
      },
      "source": [
        "def find_product(lst):\r\n",
        "    new_list = []\r\n",
        "    for idx1 in range(len(lst)):\r\n",
        "        prod = 1\r\n",
        "        for idx2 in range(len(lst)):\r\n",
        "            if idx1 == idx2:\r\n",
        "                continue\r\n",
        "            prod = prod * lst[idx2]\r\n",
        "        new_list.append(prod)\r\n",
        "    return new_list\r\n",
        "\r\n",
        "find_product([1,2,3,4])"
      ],
      "execution_count": 7,
      "outputs": [
        {
          "output_type": "execute_result",
          "data": {
            "text/plain": [
              "[24, 12, 8, 6]"
            ]
          },
          "metadata": {
            "tags": []
          },
          "execution_count": 7
        }
      ]
    },
    {
      "cell_type": "markdown",
      "metadata": {
        "id": "lju1DKRrLcBQ"
      },
      "source": [
        "The time complexity here is O(n^2)"
      ]
    },
    {
      "cell_type": "code",
      "metadata": {
        "colab": {
          "base_uri": "https://localhost:8080/"
        },
        "id": "25Q7YrMtKTxo",
        "outputId": "81faa24e-4d21-402f-ba03-57191258c605"
      },
      "source": [
        "def find_product(lst):\r\n",
        "    # get product start from left\r\n",
        "    left = 1\r\n",
        "    product = []\r\n",
        "    for ele in lst:\r\n",
        "        product.append(left)\r\n",
        "        left = left * ele\r\n",
        "\r\n",
        "    print (product)\r\n",
        "    # get product starting from right\r\n",
        "    right = 1\r\n",
        "    for i in range(len(lst)-1, -1, -1):\r\n",
        "        product[i] = product[i] * right\r\n",
        "        right = right * lst[i]\r\n",
        "\r\n",
        "    return product\r\n",
        "\r\n",
        "\r\n",
        "print(find_product([1,2,3,4]))\r\n"
      ],
      "execution_count": 10,
      "outputs": [
        {
          "output_type": "stream",
          "text": [
            "[1, 1, 2, 6]\n",
            "[24, 12, 8, 6]\n"
          ],
          "name": "stdout"
        }
      ]
    },
    {
      "cell_type": "code",
      "metadata": {
        "id": "7qhdQrhlOFhK"
      },
      "source": [
        ""
      ],
      "execution_count": null,
      "outputs": []
    }
  ]
}