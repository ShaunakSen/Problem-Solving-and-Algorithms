{
 "cells": [
  {
   "cell_type": "markdown",
   "metadata": {
    "colab_type": "text",
    "id": "view-in-github"
   },
   "source": [
    "<a href=\"https://colab.research.google.com/github/ShaunakSen/problem-solving-with-code/blob/master/Problem_Solving_Python.ipynb\" target=\"_parent\"><img src=\"https://colab.research.google.com/assets/colab-badge.svg\" alt=\"Open In Colab\"/></a>"
   ]
  },
  {
   "cell_type": "code",
   "execution_count": 1,
   "metadata": {},
   "outputs": [
    {
     "data": {
      "text/html": [
       "<style>.container { width:100% !important; }</style>"
      ],
      "text/plain": [
       "<IPython.core.display.HTML object>"
      ]
     },
     "metadata": {},
     "output_type": "display_data"
    }
   ],
   "source": [
    "from IPython.core.display import display, HTML\n",
    "display(HTML(\"<style>.container { width:100% !important; }</style>\"))"
   ]
  },
  {
   "cell_type": "markdown",
   "metadata": {
    "colab_type": "text",
    "id": "Wyv7MNB9vx7w"
   },
   "source": [
    "## FB Hackathon test questions solutions"
   ]
  },
  {
   "cell_type": "code",
   "execution_count": null,
   "metadata": {
    "colab": {},
    "colab_type": "code",
    "id": "7EreFQNTvx7z",
    "outputId": "fc74e691-5c0d-4fab-b448-943660da9d7d"
   },
   "outputs": [
    {
     "name": "stdout",
     "output_type": "stream",
     "text": [
      "['4321', '3211'] ['5432', '4302']\n"
     ]
    },
    {
     "data": {
      "text/plain": [
       "8"
      ]
     },
     "execution_count": 14,
     "metadata": {
      "tags": []
     },
     "output_type": "execute_result"
    }
   ],
   "source": [
    "def minimumMoves(a, m):\n",
    "    a = [str(x) for x in a]\n",
    "    m = [str(x) for x in m]\n",
    "    print (a , m)\n",
    "    return sum([\n",
    "        abs(int(f) - int(s)) \n",
    "        for x, y in zip(a, m) \n",
    "        for f, s in zip(x, y)\n",
    "    ])\n",
    "\n",
    "a = [4321, 3211]\n",
    "m = [5432, 4302]\n",
    "\n",
    "minimumMoves(a, m)"
   ]
  },
  {
   "cell_type": "code",
   "execution_count": null,
   "metadata": {
    "colab": {},
    "colab_type": "code",
    "id": "fLtfu7YRvx76",
    "outputId": "18d8b8b9-4afb-4446-aa31-ec014b94ed9a"
   },
   "outputs": [
    {
     "name": "stdout",
     "output_type": "stream",
     "text": [
      "8\n"
     ]
    }
   ],
   "source": [
    "a = [str(x) for x in a]\n",
    "m = [str(x) for x in m]\n",
    "\n",
    "total = 0\n",
    "\n",
    "for x in range(len(a)):\n",
    "    for y in range(len(a[x])):\n",
    "        total += abs(int(a[x][y]) - int(m[x][y]))\n",
    "        \n",
    "print (total)\n",
    "    "
   ]
  },
  {
   "cell_type": "code",
   "execution_count": null,
   "metadata": {
    "colab": {},
    "colab_type": "code",
    "id": "BSpsC0Hdvx7_"
   },
   "outputs": [],
   "source": [
    "a = [4321, 3211]\n",
    "m = [5432, 4302]"
   ]
  },
  {
   "cell_type": "code",
   "execution_count": null,
   "metadata": {
    "colab": {},
    "colab_type": "code",
    "id": "VGvumctpvx8E",
    "outputId": "804635dd-25c9-4505-8274-86503d032b96"
   },
   "outputs": [
    {
     "data": {
      "text/plain": [
       "2202"
      ]
     },
     "execution_count": 12,
     "metadata": {
      "tags": []
     },
     "output_type": "execute_result"
    }
   ],
   "source": [
    "minimumMoves()"
   ]
  },
  {
   "cell_type": "code",
   "execution_count": null,
   "metadata": {
    "colab": {},
    "colab_type": "code",
    "id": "b7XYYE6zvx8N",
    "outputId": "e249e19e-2342-41a7-db24-2ea394342c35"
   },
   "outputs": [
    {
     "name": "stdout",
     "output_type": "stream",
     "text": [
      "4321 5432\n",
      "3211 4302\n"
     ]
    }
   ],
   "source": [
    "for i, j in zip(a, m):\n",
    "    print (i, j)"
   ]
  },
  {
   "cell_type": "code",
   "execution_count": null,
   "metadata": {
    "colab": {},
    "colab_type": "code",
    "id": "3ta8VZSevx8Q",
    "outputId": "9ea3263f-6c72-4b57-a9b4-24f18e8e78ed"
   },
   "outputs": [
    {
     "name": "stdout",
     "output_type": "stream",
     "text": [
      "[4, 4, 4, 4]\n"
     ]
    }
   ],
   "source": [
    "\n",
    "piles = sorted([4, 4, 4 , 4], reverse=True)\n",
    "\n",
    "# find 1st and 2nd max\n",
    "\n",
    "\n",
    "\n",
    "moves = 0\n",
    "\n",
    "def move_stuff(piles):\n",
    "    \n",
    "    global moves\n",
    "    \n",
    "    print (piles)\n",
    "\n",
    "    first_max = piles[0]\n",
    "\n",
    "    sec_max_found = False\n",
    "\n",
    "    for x in range(1, len(piles)):\n",
    "        if (piles[x] < first_max):\n",
    "            sec_max = piles[x]\n",
    "            sec_max_found = True\n",
    "            break\n",
    "    \n",
    "    if not sec_max_found:\n",
    "        return \n",
    "\n",
    "    if sec_max_found:\n",
    "        first_max = sec_max\n",
    "        moves +=x \n",
    "\n",
    "    for a in range(x):\n",
    "        piles[a] = sec_max\n",
    "\n",
    "    move_stuff(piles)\n",
    "    return moves\n",
    "\n",
    "move_stuff(piles)\n",
    "\n",
    "\n"
   ]
  },
  {
   "cell_type": "code",
   "execution_count": null,
   "metadata": {
    "colab": {},
    "colab_type": "code",
    "id": "TlvPFhPJvx8W",
    "outputId": "07d74b03-335c-4d60-f985-57865fe5de36",
    "scrolled": true
   },
   "outputs": [
    {
     "name": "stdout",
     "output_type": "stream",
     "text": [
      "[7, 15, 22, 37, 49, 60]\n",
      "8 15 7\n",
      "16 22 6\n",
      "23 37 14\n"
     ]
    },
    {
     "data": {
      "text/plain": [
       "14"
      ]
     },
     "execution_count": 8,
     "metadata": {
      "tags": []
     },
     "output_type": "execute_result"
    }
   ],
   "source": [
    "def find_longest_clean_seq(badNumbers, left, right):\n",
    "    badNumbers = sorted(badNumbers)\n",
    "    print (badNumbers)\n",
    "    longest_seq = badNumbers[0] - left\n",
    "    a = badNumbers[0] + 1\n",
    "    \n",
    "    x = badNumbers[0] + 1\n",
    "    while x <= right:\n",
    "        if x in badNumbers:\n",
    "            seq = x - a\n",
    "            if seq > longest_seq:\n",
    "                longest_seq = seq\n",
    "            print (a, x, seq)\n",
    "            a = x + 1\n",
    "            \n",
    "        x+=1\n",
    "        \n",
    "    last_seq = right - a + 1\n",
    "    if last_seq > longest_seq:\n",
    "        return last_seq\n",
    "    else:\n",
    "        return longest_seq\n",
    "    \n",
    "    \n",
    "\n",
    "badNumbers = [37, 7, 22, 15, 49, 60]\n",
    "\n",
    "left = 3\n",
    "right = 48\n",
    "\n",
    "find_longest_clean_seq(badNumbers, left, right)"
   ]
  },
  {
   "cell_type": "markdown",
   "metadata": {
    "colab_type": "text",
    "id": "cpndghj5vx8Z"
   },
   "source": [
    "## Counting Valleys\n",
    "\n"
   ]
  },
  {
   "cell_type": "code",
   "execution_count": null,
   "metadata": {
    "colab": {},
    "colab_type": "code",
    "id": "ss0xy9Qgvx8b",
    "outputId": "2a8946db-fa39-403c-de83-93d58f21da71"
   },
   "outputs": [
    {
     "name": "stdout",
     "output_type": "stream",
     "text": [
      "2\n"
     ]
    }
   ],
   "source": [
    "level = 0\n",
    "\n",
    "count_valley = 0\n",
    "\n",
    "under = False\n",
    "\n",
    "for step in steps:\n",
    "    if step == 'U':\n",
    "        current_level += 1\n",
    "    if step == 'D':\n",
    "        current_level -= 1\n",
    "    if current_level < 0:\n",
    "        under = True\n",
    "    if current_level >= 0 and under:\n",
    "        count_valley +=1\n",
    "        under = False\n",
    "\n",
    "print(count_valley)"
   ]
  },
  {
   "cell_type": "markdown",
   "metadata": {
    "colab_type": "text",
    "id": "g-NFMvXKvx8f"
   },
   "source": [
    "## Jumping on the Clouds\n",
    "\n"
   ]
  },
  {
   "cell_type": "code",
   "execution_count": null,
   "metadata": {
    "colab": {},
    "colab_type": "code",
    "id": "Oe6UdQFJvx8g",
    "outputId": "585bc2ff-1c94-4577-b8d4-afb6c360ccc4"
   },
   "outputs": [
    {
     "name": "stdout",
     "output_type": "stream",
     "text": [
      "3\n"
     ]
    }
   ],
   "source": [
    "c = [0, 0, 1, 0, 0, 1, 0]\n",
    "c= [0, 0, 0, 1, 0, 0]\n",
    "\n",
    "\n",
    "current = 0\n",
    "\n",
    "moves = 0\n",
    "\n",
    "while current < len(c)-1:\n",
    "    \n",
    "    if current == len(c) - 2:\n",
    "        moves += 1\n",
    "        current +=1\n",
    "    \n",
    "    elif c[current+2] == 1:\n",
    "        current += 1\n",
    "        moves += 1\n",
    "    else:\n",
    "        current += 2\n",
    "        moves += 1\n",
    "        \n",
    "print (moves)"
   ]
  },
  {
   "cell_type": "markdown",
   "metadata": {
    "colab_type": "text",
    "id": "Hp-UlIE8vx8l"
   },
   "source": [
    "## Repeated String\n",
    "\n"
   ]
  },
  {
   "cell_type": "code",
   "execution_count": null,
   "metadata": {
    "colab": {},
    "colab_type": "code",
    "id": "6EIZAEdHvx8m",
    "outputId": "7376f872-22b5-4ad9-96df-b23b79cc90fb"
   },
   "outputs": [
    {
     "data": {
      "text/plain": [
       "1000000000000"
      ]
     },
     "execution_count": 6,
     "metadata": {
      "tags": []
     },
     "output_type": "execute_result"
    }
   ],
   "source": [
    "def repeatStr():\n",
    "\n",
    "    substr = 'a'\n",
    "    n = 1000000000000\n",
    "\n",
    "\n",
    "    num_repeat = int(n/len(substr))\n",
    "    # print (num_repeat)\n",
    "    extra = n%len(substr)\n",
    "    # print(extra)\n",
    "\n",
    "    count_a_1 = 0\n",
    "    count_a = 0\n",
    "\n",
    "    for char in substr:\n",
    "        if char == 'a':\n",
    "            count_a_1+=1\n",
    "            \n",
    "    # a occurs 'count_a_1' times in original seq\n",
    "    \n",
    "    # so it should occur count_a1*num_repeat in repeated seq\n",
    "\n",
    "    count_a = count_a_1 * num_repeat\n",
    "    \n",
    "    # accounting for extras\n",
    "    \n",
    "    if extra == 0:\n",
    "        return count_a\n",
    "\n",
    "    else:\n",
    "        extra_str = substr[:extra]\n",
    "        for char in extra_str:\n",
    "            if char == 'a':\n",
    "                count_a += 1\n",
    "    return count_a\n",
    "\n",
    "\n",
    "repeatStr()"
   ]
  },
  {
   "cell_type": "markdown",
   "metadata": {
    "colab_type": "text",
    "id": "ZXeTQF-6vx8q"
   },
   "source": [
    "## Equalize the Array\n",
    "\n"
   ]
  },
  {
   "cell_type": "code",
   "execution_count": null,
   "metadata": {
    "colab": {},
    "colab_type": "code",
    "id": "1xbqrbCbvx8r",
    "outputId": "d5155a13-3f5c-41fd-be9b-3c5e0823cb2a"
   },
   "outputs": [
    {
     "name": "stdout",
     "output_type": "stream",
     "text": [
      "3\n"
     ]
    }
   ],
   "source": [
    "arr = [1,1,2,2,5]\n",
    "\n",
    "max_num = 1\n",
    "\n",
    "for item in arr:\n",
    "    if arr.count(item) > max_num:\n",
    "        max_num = arr.count(item)\n",
    "        \n",
    "print (len(arr) - max_num)"
   ]
  },
  {
   "cell_type": "markdown",
   "metadata": {
    "colab_type": "text",
    "id": "7lxay_e9vx8x"
   },
   "source": [
    "## Queen's Attack II\n",
    "\n"
   ]
  },
  {
   "cell_type": "code",
   "execution_count": null,
   "metadata": {
    "colab": {},
    "colab_type": "code",
    "id": "49_JoUo7vx8z",
    "outputId": "54ee788d-e69a-4c6b-fab8-09da53adc2d8"
   },
   "outputs": [
    {
     "name": "stdout",
     "output_type": "stream",
     "text": [
      "[1, 1] [2, 2] [1, 1] [1, 1]\n",
      "True\n",
      "6\n"
     ]
    }
   ],
   "source": [
    "def count_moves(n, r_q, c_q, obstacles):\n",
    "   \n",
    "    moves = 0\n",
    "    # up moves : till r_q to n\n",
    "    closest_up_obs = n+1\n",
    "    closest_down_obs = 0\n",
    "    for r_o, c_o in obstacles:\n",
    "        if c_o == c_q:\n",
    "            if r_o > r_q and r_o < closest_up_obs:\n",
    "                closest_up_obs = r_o\n",
    "            if r_o < r_q and r_o > closest_down_obs:\n",
    "                closest_down_obs = r_o\n",
    "    # print (closest_up_obs, closest_down_obs)\n",
    "    \n",
    "    # up moves\n",
    "    moves += closest_up_obs - r_q - 1\n",
    "    \n",
    "    # down moves\n",
    "    moves += r_q - closest_down_obs - 1\n",
    "    \n",
    "    \n",
    "    # left moves: till c_q to 1\n",
    "    closest_left_obs = 0\n",
    "    closest_right_obs = n+1\n",
    "    \n",
    "    for r_o, c_o in obstacles:\n",
    "        if r_o == r_q:\n",
    "            if c_o > c_q and c_o < closest_right_obs:\n",
    "                closest_right_obs = c_o\n",
    "            if c_o < c_q and c_o > closest_left_obs:\n",
    "                closest_left_obs = c_o\n",
    "    # print (closest_up_obs, closest_down_obs)\n",
    "    \n",
    "    # right moves\n",
    "    moves += closest_right_obs - c_q - 1\n",
    "    \n",
    "    # left moves\n",
    "    moves += c_q - closest_left_obs - 1\n",
    "    \n",
    "    \n",
    "    \n",
    "    \n",
    "    # move diag up left\n",
    "    \n",
    "    up_moves = n - r_q\n",
    "    left_moves = c_q -1\n",
    "    \n",
    "    if up_moves < left_moves:\n",
    "        closest_diag_l_u_obs = [r_q + up_moves, c_q - up_moves]\n",
    "    elif up_moves > left_moves:\n",
    "        closest_diag_l_u_obs = [r_q + left_moves, c_q - left_moves]\n",
    "    else:\n",
    "        closest_diag_l_u_obs = [n, 1]\n",
    "    \n",
    "    # print (\"closest_diag_l_u_obs\", closest_diag_l_u_obs)\n",
    "    \n",
    "    obs_presernt_l_u = False\n",
    "        \n",
    "    for r_o, c_o in obstacles:\n",
    "        diff_up = r_o - r_q\n",
    "        diff_left = c_o - c_q\n",
    "\n",
    "        if diff_up > 0 and diff_left < 0 and diff_up == abs(diff_left):\n",
    "            # up-left obstacle\n",
    "            if r_o <= closest_diag_l_u_obs[0] and c_o >= closest_diag_l_u_obs[1]:\n",
    "                closest_diag_l_u_obs[0] = r_o\n",
    "                closest_diag_l_u_obs[1] = c_o\n",
    "                obs_presernt_l_u = True\n",
    "                \n",
    "    \n",
    "    \n",
    "    # move diag up right\n",
    "    \n",
    "    up_moves = n - r_q\n",
    "    right_moves = n - c_q\n",
    "    \n",
    "    \n",
    "    if up_moves < right_moves:\n",
    "        closest_diag_r_u_obs = [n, c_q + up_moves]\n",
    "    elif up_moves > right_moves:\n",
    "        closest_diag_r_u_obs = [r_q + right_moves, n]\n",
    "    else:\n",
    "        closest_diag_r_u_obs = [n, n]\n",
    "    \n",
    "    \n",
    "    obs_presernt_r_u = False\n",
    "    \n",
    "    for r_o, c_o in obstacles:\n",
    "        diff_up = r_o - r_q\n",
    "        diff_right = c_o - c_q\n",
    "\n",
    "        if diff_up > 0 and diff_right > 0 and diff_up == diff_right:\n",
    "            # up-right obstacle\n",
    "            if r_o <= closest_diag_r_u_obs[0] and c_o <= closest_diag_r_u_obs[1]:\n",
    "                closest_diag_r_u_obs[0] = r_o\n",
    "                closest_diag_r_u_obs[1] = c_o\n",
    "                obs_presernt_r_u = True # to dectect if obs is present at edge or not\n",
    "                \n",
    "                \n",
    "    # move diag down left\n",
    "    \n",
    "    down_moves = r_q - 1\n",
    "    left_moves = c_q -1\n",
    "    \n",
    "    if down_moves < left_moves:\n",
    "        closest_diag_l_d_obs = [r_q - down_moves, c_q - down_moves]  # Proper one\n",
    "    elif down_moves > left_moves:\n",
    "        closest_diag_l_d_obs = [r_q - left_moves, c_q - left_moves]\n",
    "    else:\n",
    "        closest_diag_l_d_obs = [1, 1]\n",
    "    \n",
    "    obs_presernt_l_d = False\n",
    "    \n",
    "    for r_o, c_o in obstacles:\n",
    "        diff_down = r_o - r_q\n",
    "        diff_left = c_o - c_q\n",
    "        if diff_down < 0 and diff_left < 0 and diff_down == diff_left:\n",
    "            \n",
    "            # down-left obstacle\n",
    "            if r_o >= closest_diag_l_d_obs[0] and c_o >= closest_diag_l_d_obs[1]:\n",
    "                closest_diag_l_d_obs[0] = r_o\n",
    "                closest_diag_l_d_obs[1] = c_o\n",
    "                obs_presernt_l_d = True # to dectect if obs is present at edge or not\n",
    "                \n",
    "    # move diag down right\n",
    "    \n",
    "    down_moves = r_q - 1\n",
    "    right_moves = n - c_q\n",
    "    \n",
    "    if down_moves < right_moves:\n",
    "        closest_diag_r_d_obs = [r_q - down_moves, c_q + down_moves]  # Proper one\n",
    "    elif down_moves > right_moves:\n",
    "        closest_diag_r_d_obs = [r_q - right_moves, c_q + right_moves]\n",
    "    else:\n",
    "        closest_diag_r_d_obs = [1, n]\n",
    "        \n",
    "    obs_presernt_r_d = False\n",
    "    \n",
    "    for r_o, c_o in obstacles:\n",
    "        diff_down = r_o - r_q\n",
    "        diff_right = c_o - c_q\n",
    "\n",
    "        if diff_down < 0 and diff_right > 0 and diff_right == abs(diff_down):\n",
    "            # down-right obstacle\n",
    "            if r_o >= closest_diag_r_d_obs[0] and c_o <= closest_diag_r_d_obs[1]:\n",
    "                closest_diag_r_d_obs[0] = r_o\n",
    "                closest_diag_r_d_obs[1] = c_o\n",
    "                obs_presernt_r_d = True\n",
    "    \n",
    "    \n",
    "    # now we have the nearest diag obstacles\n",
    "    \n",
    "    \n",
    "    # right down moves\n",
    "    moves += abs(closest_diag_r_d_obs[0] - r_q)\n",
    "    if obs_presernt_r_d:\n",
    "        moves -= 1\n",
    "        \n",
    "    # right up moves\n",
    "    moves += abs(closest_diag_r_u_obs[0] - r_q)\n",
    "    if obs_presernt_r_u:\n",
    "        moves -= 1\n",
    "        \n",
    "    # left down moves\n",
    "    moves += abs(closest_diag_l_d_obs[0] - r_q)\n",
    "    if obs_presernt_l_d:\n",
    "        moves -= 1\n",
    "        \n",
    "    # left up moves\n",
    "    moves += abs(closest_diag_l_u_obs[0] - r_q)\n",
    "    if obs_presernt_l_u:\n",
    "        moves -= 1\n",
    "        \n",
    "    print (closest_diag_l_u_obs, closest_diag_r_u_obs, closest_diag_l_d_obs, closest_diag_r_d_obs)\n",
    "    print (obs_presernt_r_u)    \n",
    "    print (moves)\n",
    "        \n",
    "                \n",
    "count_moves(4, 1, 1, [(2,2)])            \n",
    "# test for move up-down    \n",
    "# count_moves(5, 3, 3, [(5,3), (4,3), (2,3), (1,3)])    \n",
    "\n",
    "def queensAttack(n, k, r_q, c_q, obstacles):\n",
    "    dimension = n\n",
    "    obstacles = k\n",
    "    \n",
    "    count_moves(dimension, r_q, c_q)"
   ]
  },
  {
   "cell_type": "markdown",
   "metadata": {
    "colab_type": "text",
    "id": "GA9B5LM9vx85"
   },
   "source": [
    "## New Year Chaos\n"
   ]
  },
  {
   "cell_type": "code",
   "execution_count": null,
   "metadata": {
    "colab": {},
    "colab_type": "code",
    "id": "h0WDJySCvx86",
    "outputId": "42eff188-2e7d-4ee4-8623-e74529124ce9"
   },
   "outputs": [
    {
     "name": "stdout",
     "output_type": "stream",
     "text": [
      "[1, 2, 5, 3, 7, 8, 6, 4]\n",
      "[1, 2, 3, 4, 5, 6, 7, 8]\n",
      "6\n"
     ]
    }
   ],
   "source": [
    "arr = [1, 2, 5, 3, 7, 8, 6, 4]\n",
    "\n",
    "print (arr)\n",
    "\n",
    "arr_non_bribed = list(range(len(arr)+1))\n",
    "\n",
    "arr_non_bribed = arr_non_bribed[1:]\n",
    "\n",
    "print(arr_non_bribed)\n",
    "\n",
    "bribes = 0\n",
    "\n",
    "for x in range(len(arr)):\n",
    "    if arr[x] > arr_non_bribed[x]:\n",
    "        if arr[x] - arr_non_bribed[x] > 2:\n",
    "            print (\"Too chaotic\")\n",
    "            break\n",
    "        bribes += arr[x] - arr_non_bribed[x]\n",
    "        \n",
    "print (bribes)"
   ]
  },
  {
   "cell_type": "markdown",
   "metadata": {
    "colab_type": "text",
    "id": "uKxZecmGvx8-"
   },
   "source": [
    "## Maximize It!\n",
    "\n"
   ]
  },
  {
   "cell_type": "code",
   "execution_count": null,
   "metadata": {
    "colab": {},
    "colab_type": "code",
    "id": "V114O67zvx9A",
    "outputId": "19b5556b-2a48-477e-d813-b50c0673559a"
   },
   "outputs": [
    {
     "name": "stdout",
     "output_type": "stream",
     "text": [
      "3 4\n",
      "1 3 4\n",
      "2 3 4\n",
      "2 2 4\n"
     ]
    },
    {
     "data": {
      "text/plain": [
       "[[3, 4], [3, 4], [2, 4]]"
      ]
     },
     "execution_count": 26,
     "metadata": {
      "tags": []
     },
     "output_type": "execute_result"
    }
   ],
   "source": [
    "K, M = input().split()\n",
    "\n",
    "M = int(M)\n",
    "\n",
    "lists = []\n",
    "for _ in range(int(K)):\n",
    "    # Get input and split into list\n",
    "    l = input().split()\n",
    "\n",
    "    # Turn list  of strings into list of integers\n",
    "    l = list(map(int, l))\n",
    "\n",
    "    # Remove index [0] using a slice\n",
    "    l = l[1:]\n",
    "\n",
    "    # Build list of lists\n",
    "    lists.append(l)    \n",
    "lists"
   ]
  },
  {
   "cell_type": "code",
   "execution_count": null,
   "metadata": {
    "colab": {},
    "colab_type": "code",
    "id": "bq02xE_1vx9E",
    "outputId": "56d05f3b-7307-40a4-e034-2cb532a3b2e3",
    "scrolled": true
   },
   "outputs": [
    {
     "name": "stdout",
     "output_type": "stream",
     "text": [
      "3 1000\n",
      "3 1 2 4\n",
      "2 20 12\n",
      "2 3 2\n",
      "425\n"
     ]
    }
   ],
   "source": [
    "from itertools import product\n",
    "\n",
    "def maximize_output(single_list, modulo):\n",
    "    max_elem = max(single_list)\n",
    "    if max_elem**2 < modulo:\n",
    "        return max_elem**2\n",
    "    \n",
    "    max_mod = single_list[0]**2%modulo\n",
    "    max_elem = single_list[0]\n",
    "    \n",
    "    for elem in single_list:\n",
    "        if elem**2%modulo > max_mod:\n",
    "            max_mod = elem**2%modulo\n",
    "            max_elem = elem\n",
    "    return max_elem**2\n",
    "\n",
    "x_sq_values = []\n",
    "\n",
    "K, M = input().split()\n",
    "\n",
    "M = int(M)\n",
    "\n",
    "lists = []\n",
    "\n",
    "final_results = []\n",
    "for _ in range(int(K)):\n",
    "    # Get input and split into list\n",
    "    l = input().split()\n",
    "\n",
    "    # Turn list  of strings into list of integers\n",
    "    l = list(map(int, l))\n",
    "\n",
    "    # Remove index [0] using a slice\n",
    "    l = l[1:]\n",
    "\n",
    "    # Build list of lists\n",
    "    lists.append(l)    \n",
    "\n",
    "\n",
    "\n",
    "for single_list in lists:\n",
    "    x_sq_values.append(maximize_output(single_list, M))\n",
    "\n",
    "if sum(x_sq_values) < M:\n",
    "    final_results = x_sq_values\n",
    "    print (sum(final_results)%M)\n",
    "\n",
    "else:\n",
    "    permutations = list(product(*lists))\n",
    "    modulo_results = []\n",
    "\n",
    "    for comb in permutations:\n",
    "        modulo_results.append(sum([i**2 for i in comb])%M)\n",
    "\n",
    "    print (max(modulo_results))\n",
    "\n"
   ]
  },
  {
   "cell_type": "markdown",
   "metadata": {
    "colab_type": "text",
    "id": "7wzbBqhivx9J"
   },
   "source": [
    "## Find a string\n",
    "\n"
   ]
  },
  {
   "cell_type": "code",
   "execution_count": null,
   "metadata": {
    "colab": {},
    "colab_type": "code",
    "id": "rCWgnj_Kvx9K",
    "outputId": "49ccf000-3851-4dca-a6e1-f3de4df068ed"
   },
   "outputs": [
    {
     "data": {
      "text/plain": [
       "2"
      ]
     },
     "execution_count": 53,
     "metadata": {
      "tags": []
     },
     "output_type": "execute_result"
    }
   ],
   "source": [
    "\n",
    "string = \"ABCDCDC\"\n",
    "sub_string = \"CDC\"\n",
    "\n",
    "len_str = len(string)\n",
    "\n",
    "len_sub_str = len(sub_string)\n",
    "\n",
    "count = 0\n",
    "\n",
    "for x in range(len_str-len_sub_str+1):\n",
    "    if string[x:x+len_sub_str] == sub_string:\n",
    "        count += 1\n",
    "        \n",
    "count"
   ]
  },
  {
   "cell_type": "markdown",
   "metadata": {
    "colab_type": "text",
    "id": "lLGVRoJYvx9Q"
   },
   "source": [
    "## Find Angle MBC\n",
    "\n"
   ]
  },
  {
   "cell_type": "code",
   "execution_count": null,
   "metadata": {
    "colab": {},
    "colab_type": "code",
    "id": "YeQ0Y-A0vx9S",
    "outputId": "466d06ba-e44f-40ec-d410-f1c53ce4c1f8"
   },
   "outputs": [
    {
     "name": "stdout",
     "output_type": "stream",
     "text": [
      "45°\n"
     ]
    }
   ],
   "source": [
    "import math\n",
    "\n",
    "AB = 10\n",
    "\n",
    "BC = 10\n",
    "\n",
    "print (str(round(math.degrees(math.atan(AB/BC))))+'°')"
   ]
  },
  {
   "cell_type": "markdown",
   "metadata": {
    "colab_type": "text",
    "id": "R14puW4nvx9X"
   },
   "source": [
    "## Compare the Triplets\n",
    "\n"
   ]
  },
  {
   "cell_type": "code",
   "execution_count": null,
   "metadata": {
    "colab": {},
    "colab_type": "code",
    "id": "MIjadgCKvx9c",
    "outputId": "164533c4-b682-4fad-b639-f5e8e6dc8ee6"
   },
   "outputs": [
    {
     "data": {
      "text/plain": [
       "[1, 1]"
      ]
     },
     "execution_count": 2,
     "metadata": {
      "tags": []
     },
     "output_type": "execute_result"
    }
   ],
   "source": [
    "A = [5, 6, 7]\n",
    "B = [3, 6, 10]\n",
    "\n",
    "output = [0, 0]\n",
    "\n",
    "for x in range(len(A)):\n",
    "    if A[x] < B[x]:\n",
    "        output[1] += 1\n",
    "    elif A[x] > B[x]:\n",
    "        output[0] += 1\n",
    "        \n",
    "output"
   ]
  },
  {
   "cell_type": "markdown",
   "metadata": {
    "colab_type": "text",
    "id": "L-fkm3eOvx9o"
   },
   "source": [
    "## A Very Big Sum\n",
    "\n"
   ]
  },
  {
   "cell_type": "code",
   "execution_count": null,
   "metadata": {
    "colab": {},
    "colab_type": "code",
    "id": "_qdAJQvYvx9q",
    "outputId": "40deb6e2-bf87-4993-b028-05492fb56b1f",
    "scrolled": true
   },
   "outputs": [
    {
     "name": "stdout",
     "output_type": "stream",
     "text": [
      "10000004000000015\n"
     ]
    },
    {
     "data": {
      "text/plain": [
       "int"
      ]
     },
     "execution_count": 10,
     "metadata": {
      "tags": []
     },
     "output_type": "execute_result"
    }
   ],
   "source": [
    "numbers = [10000000000000001, 1000000002, 1000000003, 1000000004, 1000000005]\n",
    "\n",
    "print (sum(numbers))\n",
    "\n",
    "type(sum(numbers))"
   ]
  },
  {
   "cell_type": "markdown",
   "metadata": {
    "colab_type": "text",
    "id": "ji1RAu4Vvx9w"
   },
   "source": [
    "## Diagonal Difference\n",
    "\n"
   ]
  },
  {
   "cell_type": "code",
   "execution_count": null,
   "metadata": {
    "colab": {},
    "colab_type": "code",
    "id": "_Y9NC-B_vx9x",
    "outputId": "a9d8c147-4b15-4edd-8e35-466cbb7a25f1"
   },
   "outputs": [
    {
     "name": "stdout",
     "output_type": "stream",
     "text": [
      "[11, 5, -12, -2] [5, 6, 8, 10]\n",
      "27\n"
     ]
    }
   ],
   "source": [
    "dim = 4\n",
    "\n",
    "matrix = [[11, 2, 4, 5], [4, 5, 6, 1], [10, 8, -12, -2], [10, 8, -12, -2]]\n",
    "\n",
    "# 00 11 22 \n",
    "# 02 11 20\n",
    "\n",
    "first_diag_elems = []\n",
    "\n",
    "sec_diag_elems = []\n",
    "\n",
    "\n",
    "for x in range(dim):\n",
    "    first_diag_elems.append(matrix[x][x])\n",
    "    \n",
    "for x in range(dim):\n",
    "    sec_diag_elems.append(matrix[x][dim-1-x])\n",
    "    \n",
    "print (first_diag_elems, sec_diag_elems)\n",
    "\n",
    "print (abs(sum(first_diag_elems)-sum(sec_diag_elems)))\n"
   ]
  },
  {
   "cell_type": "markdown",
   "metadata": {
    "colab_type": "text",
    "id": "aaFvgT0avx93"
   },
   "source": [
    "## Time Conversion\n",
    "\n"
   ]
  },
  {
   "cell_type": "code",
   "execution_count": null,
   "metadata": {
    "colab": {},
    "colab_type": "code",
    "id": "Zwwtsv4mvx96",
    "outputId": "0db7ac45-1984-48b4-afba-e70425db81aa"
   },
   "outputs": [
    {
     "name": "stdout",
     "output_type": "stream",
     "text": [
      "12 05 45 AM\n",
      "00:05:45\n"
     ]
    }
   ],
   "source": [
    "time_12 = \"12:05:45AM\"\n",
    "\n",
    "seconds = time_12.split(':')[2][:-2]\n",
    "pre_post = time_12.split(':')[2][-2:]\n",
    "\n",
    "\n",
    "hours, minutes = time_12.split(':')[0], time_12.split(':')[1]\n",
    "\n",
    "print (hours, minutes, seconds, pre_post)\n",
    "\n",
    "\n",
    "\n",
    "time_24 = \"\"\n",
    "\n",
    "hours_24 = hours\n",
    "\n",
    "if pre_post == \"PM\" and hours != \"12\":\n",
    "    hours_24 = str(int(hours) + 12)\n",
    "\n",
    "# deal with midnight\n",
    "if hours == \"12\" and pre_post == \"AM\":\n",
    "    hours_24 = \"00\"\n",
    "    \n",
    "\n",
    "print (\":\".join([hours_24, minutes, seconds]))"
   ]
  },
  {
   "cell_type": "markdown",
   "metadata": {
    "colab_type": "text",
    "id": "i9ZKjoaovx9_"
   },
   "source": [
    "## Mini-Max Sum\n",
    "\n"
   ]
  },
  {
   "cell_type": "code",
   "execution_count": null,
   "metadata": {
    "colab": {},
    "colab_type": "code",
    "id": "SqXszuktvx-B",
    "outputId": "25ecb62a-fff0-484f-fe5d-505026c92483"
   },
   "outputs": [
    {
     "name": "stdout",
     "output_type": "stream",
     "text": [
      "10 14\n"
     ]
    }
   ],
   "source": [
    "arr = [1, 2, 3, 4, 5]\n",
    "\n",
    "arr = sorted(arr)\n",
    "\n",
    "max_sum = sum(arr[1:])\n",
    "\n",
    "min_sum = sum(arr[0:4])\n",
    "\n",
    "print (min_sum, max_sum)"
   ]
  },
  {
   "cell_type": "markdown",
   "metadata": {
    "colab_type": "text",
    "id": "4w0Sk5_yvx-F"
   },
   "source": [
    "## Plus Minus\n",
    "\n"
   ]
  },
  {
   "cell_type": "code",
   "execution_count": null,
   "metadata": {
    "colab": {},
    "colab_type": "code",
    "id": "DFw7SAFPvx-H",
    "outputId": "a9943881-3d4b-4a90-d046-64ee9b1d9576"
   },
   "outputs": [
    {
     "name": "stdout",
     "output_type": "stream",
     "text": [
      "0.5 0.333333 0.166667\n"
     ]
    }
   ],
   "source": [
    "import math\n",
    "arr = [-4, 3, -9, 0, 4, 1]\n",
    "\n",
    "num_neg = 0\n",
    "num_pos = 0\n",
    "num_zero = 0\n",
    "\n",
    "for x in range(len(arr)):\n",
    "    if arr[x]>0:\n",
    "        num_pos += 1\n",
    "    elif arr[x]<0:\n",
    "        num_neg += 1\n",
    "    else:\n",
    "        num_zero += 1\n",
    "        \n",
    "        \n",
    "print (round(num_pos/len(arr), 6), round(num_neg/len(arr), 6), round(num_zero/len(arr),6))"
   ]
  },
  {
   "cell_type": "markdown",
   "metadata": {
    "colab_type": "text",
    "id": "A2pVLF15vx-L"
   },
   "source": [
    "## Between Two Sets\n",
    "\n"
   ]
  },
  {
   "cell_type": "code",
   "execution_count": null,
   "metadata": {
    "colab": {},
    "colab_type": "code",
    "id": "OYlKbkP3vx-N",
    "outputId": "7f821557-a7d4-439a-b392-2811eae00098"
   },
   "outputs": [
    {
     "name": "stdout",
     "output_type": "stream",
     "text": [
      "checking: 9\n",
      "18\n",
      "checking: 18\n",
      "selected: 18\n",
      "27\n",
      "checking: 27\n",
      "36\n",
      "checking: 36\n",
      "selected: 36\n",
      "45\n",
      "num of bw: 2\n"
     ]
    }
   ],
   "source": [
    "a = [3,9,6]\n",
    "\n",
    "b = [36, 72]\n",
    "\n",
    "between = 0\n",
    "\n",
    "max_a = max(a)\n",
    "\n",
    "min_b = min(b)\n",
    "\n",
    "max_b = max(b)\n",
    "\n",
    "multiplier = 1\n",
    "\n",
    "elem = max_a\n",
    "\n",
    "\n",
    "while max_a*multiplier <= min_b:\n",
    "    \n",
    "    \n",
    "    elem = max_a * multiplier\n",
    "    \n",
    "    print (\"checking:\", elem)\n",
    "        \n",
    "    # init flag\n",
    "    flag = True\n",
    "    \n",
    "    # check elem with all a\n",
    "    for x in range(len(a)):\n",
    "        if elem%a[x]!=0:\n",
    "            flag = False\n",
    "            \n",
    "            break\n",
    "           \n",
    "    # check elem with all b\n",
    "    for x in range(len(b)):\n",
    "        if b[x]%elem!=0:\n",
    "            flag = False\n",
    "            \n",
    "            break\n",
    "            \n",
    "    \n",
    "    if flag:\n",
    "        between += 1\n",
    "        \n",
    "        print (\"selected:\",elem)\n",
    "    multiplier += 1\n",
    "    print(max_a*multiplier)\n",
    "    \n",
    "print (\"num of bw:\", between)"
   ]
  },
  {
   "cell_type": "markdown",
   "metadata": {
    "colab_type": "text",
    "id": "7hq7TJp7vx-V"
   },
   "source": [
    "## Save the Prisoner!\n",
    "\n"
   ]
  },
  {
   "cell_type": "code",
   "execution_count": null,
   "metadata": {
    "colab": {},
    "colab_type": "code",
    "id": "oMg9QaTEvx-X",
    "outputId": "58a7c1fd-41ab-4909-f468-7a4ca1775cbc"
   },
   "outputs": [
    {
     "name": "stdout",
     "output_type": "stream",
     "text": [
      "0\n",
      "3\n"
     ]
    }
   ],
   "source": [
    "n, m, s = 3,6,1\n",
    "\n",
    "simple = m%n\n",
    "\n",
    "print (simple)\n",
    "\n",
    "offset = s-1\n",
    "\n",
    "simple = simple + offset\n",
    "\n",
    "\n",
    "if simple > n:\n",
    "    simple = simple %n\n",
    "    \n",
    "if simple == 0:\n",
    "    simple = n\n",
    "\n",
    "print (simple)"
   ]
  },
  {
   "cell_type": "markdown",
   "metadata": {
    "colab_type": "text",
    "id": "iejFOu2Tvx-e"
   },
   "source": [
    "## Kangaroo"
   ]
  },
  {
   "cell_type": "code",
   "execution_count": null,
   "metadata": {
    "colab": {},
    "colab_type": "code",
    "id": "q7yucUxgvx-f",
    "outputId": "e9f73a35-0d2b-4579-8278-ba5043ae0330"
   },
   "outputs": [
    {
     "name": "stdout",
     "output_type": "stream",
     "text": [
      "YES\n"
     ]
    }
   ],
   "source": [
    "x1, v1, x2, v2 = 0, 3, 4, 2\n",
    "\n",
    "# check if possible to catch up\n",
    "\n",
    "x1_min, x2_min = False, False\n",
    "\n",
    "if x1 < x2:\n",
    "    # first is behind second\n",
    "    if v1 <= v2:\n",
    "        # v1 needs to be more than v2 to catch up\n",
    "        print (\"NO\")\n",
    "    else:\n",
    "        x1_min = True\n",
    "if x2 < x1:\n",
    "    # sec is behind first\n",
    "    if v2 <= v1:\n",
    "        # v2 needs to be more than v1 to catch up\n",
    "        print (\"NO\")\n",
    "    else:\n",
    "        x2_min = True\n",
    "        \n",
    "if x1 == x2:\n",
    "    print (\"YES\")\n",
    "    \n",
    "jump = True\n",
    "\n",
    "while jump:\n",
    "    x1 = x1 + v1\n",
    "    x2 = x2 + v2\n",
    "    \n",
    "    if x1==x2:\n",
    "        print (\"YES\")\n",
    "        break\n",
    "    \n",
    "    # check if crossover\n",
    "    \n",
    "    if x1_min and x1 > x2:\n",
    "        # if 1 was behind 2 and 1 crossed 2, since 1 has higher speed, they will never meet\n",
    "        print (\"NO\")\n",
    "        break\n",
    "        \n",
    "    if x2_min and x2 > x1:\n",
    "        print (\"NO\")\n",
    "        break\n",
    "    \n",
    "    "
   ]
  },
  {
   "cell_type": "markdown",
   "metadata": {
    "colab_type": "text",
    "id": "EI3bcwN9vx-k"
   },
   "source": [
    "## Bigger is Greater\n",
    "\n"
   ]
  },
  {
   "cell_type": "code",
   "execution_count": null,
   "metadata": {
    "colab": {},
    "colab_type": "code",
    "id": "mXxu_NClvx-l",
    "outputId": "ce70cc4b-1431-443d-eeb0-fca3eaf1bf66"
   },
   "outputs": [
    {
     "name": "stdout",
     "output_type": "stream",
     "text": [
      "[(4, 3, 2, 1), (4, 3, 1, 2), (4, 2, 3, 1), (4, 2, 1, 3), (4, 1, 3, 2), (4, 1, 2, 3), (3, 4, 2, 1), (3, 4, 1, 2), (3, 2, 4, 1), (3, 2, 1, 4), (3, 1, 4, 2), (3, 1, 2, 4), (2, 4, 3, 1), (2, 4, 1, 3), (2, 3, 4, 1), (2, 3, 1, 4), (2, 1, 4, 3), (2, 1, 3, 4), (1, 4, 3, 2), (1, 4, 2, 3), (1, 3, 4, 2), (1, 3, 2, 4), (1, 2, 4, 3), (1, 2, 3, 4)]\n"
     ]
    }
   ],
   "source": [
    "from itertools import permutations\n",
    "\n",
    "a = [4,3,2,1]\n",
    "\n",
    "p = permutations(a)\n",
    "\n",
    "# Next Permutation is the immediate lexicographically larger permutation of a sequence\n",
    "\n",
    "print (list(permutations(a)))"
   ]
  },
  {
   "cell_type": "code",
   "execution_count": null,
   "metadata": {
    "colab": {},
    "colab_type": "code",
    "id": "uGgRGSf8vx-q",
    "outputId": "a4ae3c38-f35a-4396-9438-47cedb27b2c6"
   },
   "outputs": [
    {
     "data": {
      "text/plain": [
       "True"
      ]
     },
     "execution_count": 23,
     "metadata": {
      "tags": []
     },
     "output_type": "execute_result"
    }
   ],
   "source": [
    "\"bb\">\"ba\""
   ]
  },
  {
   "cell_type": "code",
   "execution_count": null,
   "metadata": {
    "colab": {},
    "colab_type": "code",
    "id": "dh1wDXnfvx-x",
    "outputId": "651b883c-8906-4fce-aecd-aecd0382d440"
   },
   "outputs": [
    {
     "name": "stdout",
     "output_type": "stream",
     "text": [
      "[('k', 'h', 'd', 'c'), ('k', 'h', 'c', 'd'), ('k', 'd', 'h', 'c'), ('k', 'd', 'c', 'h'), ('k', 'c', 'h', 'd'), ('k', 'c', 'd', 'h'), ('h', 'k', 'd', 'c'), ('h', 'k', 'c', 'd'), ('h', 'd', 'k', 'c'), ('h', 'd', 'c', 'k'), ('h', 'c', 'k', 'd'), ('h', 'c', 'd', 'k'), ('d', 'k', 'h', 'c'), ('d', 'k', 'c', 'h'), ('d', 'h', 'k', 'c'), ('d', 'h', 'c', 'k'), ('d', 'c', 'k', 'h'), ('d', 'c', 'h', 'k'), ('c', 'k', 'h', 'd'), ('c', 'k', 'd', 'h'), ('c', 'h', 'k', 'd'), ('c', 'h', 'd', 'k'), ('c', 'd', 'k', 'h'), ('c', 'd', 'h', 'k')]\n",
      "cdhk\n"
     ]
    }
   ],
   "source": [
    "my_str = \"dkhc\"\n",
    "\n",
    "set_of_strs = list(permutations(my_str))\n",
    "\n",
    "print (sorted(set_of_strs))\n",
    "\n",
    "for elem in sorted(set_of_strs):\n",
    "    if elem > tuple(my_str):\n",
    "        print (\"\".join(elem))\n",
    "        break"
   ]
  },
  {
   "cell_type": "markdown",
   "metadata": {
    "colab_type": "text",
    "id": "W3NGw3Rdvx-1"
   },
   "source": [
    "## Migratory Birds\n",
    "\n"
   ]
  },
  {
   "cell_type": "code",
   "execution_count": null,
   "metadata": {
    "colab": {},
    "colab_type": "code",
    "id": "vdITuVOrvx-3",
    "outputId": "d6ddd530-7128-4816-8d97-65691028fd8e"
   },
   "outputs": [
    {
     "name": "stdout",
     "output_type": "stream",
     "text": [
      "[1, 2, 2, 3, 3, 3]\n",
      "3\n"
     ]
    }
   ],
   "source": [
    "arr = [1, 2, 3, 2, 3, 3]\n",
    "\n",
    "arr = sorted(arr)\n",
    "\n",
    "print (arr)\n",
    "\n",
    "most_freq = arr[0]\n",
    "curr_count = 1\n",
    "max_count = 1\n",
    "\n",
    "for x in range(len(arr)-1):\n",
    "    if arr[x] == arr[x+1]:\n",
    "        curr_count += 1\n",
    "        if curr_count > max_count:\n",
    "            most_freq = arr[x]\n",
    "            max_count = curr_count\n",
    "    else:\n",
    "        curr_count = 1\n",
    "        \n",
    "print (most_freq)"
   ]
  },
  {
   "cell_type": "markdown",
   "metadata": {
    "colab_type": "text",
    "id": "7_rQGf8ivx-8"
   },
   "source": [
    "## Chocolate Feast"
   ]
  },
  {
   "cell_type": "code",
   "execution_count": null,
   "metadata": {
    "colab": {},
    "colab_type": "code",
    "id": "jstAYcPJvx-9",
    "outputId": "64193830-c6ac-498e-9f64-8606e41d5797"
   },
   "outputs": [
    {
     "name": "stdout",
     "output_type": "stream",
     "text": [
      "Start 2 0\n",
      "End 1 2\n",
      "3\n"
     ]
    }
   ],
   "source": [
    "n, c, m = 9, 4, 2\n",
    "\n",
    "num_chocolates = int(n/c)\n",
    "\n",
    "eaten_total = 0\n",
    "\n",
    "while num_chocolates >= m:\n",
    "    eaten = 0\n",
    "    print (\"Start\", num_chocolates, eaten)\n",
    "    eaten_total += m\n",
    "    eaten = m\n",
    "    num_chocolates = num_chocolates - eaten + 1\n",
    "    print (\"End\", num_chocolates, eaten)\n",
    "    \n",
    "    \n",
    "eaten_total = eaten_total + num_chocolates\n",
    "\n",
    "print (int(eaten_total))"
   ]
  },
  {
   "cell_type": "markdown",
   "metadata": {
    "colab_type": "text",
    "id": "jBNuWQ8cvx_B"
   },
   "source": [
    "## Absolute Permutation\n",
    "\n"
   ]
  },
  {
   "cell_type": "code",
   "execution_count": null,
   "metadata": {
    "colab": {},
    "colab_type": "code",
    "id": "zEStKh1Cvx_D",
    "outputId": "482e804e-6770-48a5-c7a0-a2b1ddb02ebd"
   },
   "outputs": [
    {
     "data": {
      "text/plain": [
       "1"
      ]
     },
     "execution_count": 49,
     "metadata": {
      "tags": []
     },
     "output_type": "execute_result"
    }
   ],
   "source": [
    "hash_table = {\n",
    "    1: 1,\n",
    "    2: 1\n",
    "}\n",
    "\n",
    "hash_table.get(1)"
   ]
  },
  {
   "cell_type": "code",
   "execution_count": null,
   "metadata": {
    "colab": {},
    "colab_type": "code",
    "id": "LtpIls2jvx_H",
    "outputId": "7c9e4a58-aa6b-4d84-d50d-d651118b5f2a"
   },
   "outputs": [
    {
     "name": "stdout",
     "output_type": "stream",
     "text": [
      "[1, 2, 3, 4, 5, 6, 7, 8, 9, 10]\n",
      "-2 4\n",
      "-1 5\n",
      "0 6\n",
      "1 7\n",
      "2 8\n",
      "3 9\n",
      "4 10\n",
      "5 11\n",
      "6 12\n",
      "7 13\n",
      "-1\n",
      "[4, 5, 6, 1, 2, 3, 10, 7]\n"
     ]
    }
   ],
   "source": [
    "n,k = 10, 3\n",
    "\n",
    "\n",
    "arr = list(range(1, n+1))\n",
    "\n",
    "print (arr)\n",
    "\n",
    "seq = []\n",
    "\n",
    "min_elem = min(arr)\n",
    "\n",
    "max_elem = max(arr)\n",
    "\n",
    "hash_table = {}\n",
    "\n",
    "\n",
    "\n",
    "for x in range(len(arr)):\n",
    "    num1 = arr[x] - k\n",
    "    num2 = arr[x] + k\n",
    "    \n",
    "    print (num1, num2)\n",
    "    \n",
    "    if (num1 < min_elem or num1 > max_elem) and (num2 < min_elem or num2 > max_elem):\n",
    "        # both poss out of range\n",
    "        print (\"-1\")\n",
    "        break\n",
    "        \n",
    "    if num1 >= min_elem and num1 <= max_elem and hash_table.get(num1)!=1:\n",
    "        num_reqd = num1\n",
    "        seq.append(num1)\n",
    "        hash_table[num1] = 1\n",
    "        \n",
    "    elif num2 >= min_elem and num2 <= max_elem and hash_table.get(num2)!=1:\n",
    "        num_reqd = num2\n",
    "        seq.append(num2)\n",
    "        hash_table[num2] = 1\n",
    "        \n",
    "    \n",
    "if len(seq) != len(arr):\n",
    "    print (\"-1\")\n",
    "        \n",
    "print (seq)"
   ]
  },
  {
   "cell_type": "markdown",
   "metadata": {
    "colab_type": "text",
    "id": "njLJhiMLvx_O"
   },
   "source": [
    "## Minimum Cost of ropes - time lim exceeded"
   ]
  },
  {
   "cell_type": "code",
   "execution_count": null,
   "metadata": {
    "colab": {},
    "colab_type": "code",
    "id": "Y7n7_uUcvx_Q"
   },
   "outputs": [],
   "source": [
    "def selectMin(arr):\n",
    "    curr_min = arr[0]\n",
    "    idx = 0\n",
    "    \n",
    "    for x in range(1, len(arr)):\n",
    "        if arr[x] < curr_min:\n",
    "            idx = x\n",
    "            curr_min = arr[x]\n",
    "    return idx, curr_min\n",
    "\n",
    "# selectMin(arr)  \n",
    "\n",
    "def cut_rope(arr):\n",
    "    \n",
    "\n",
    "    total_sum = 0\n",
    "\n",
    "    count = 0\n",
    "\n",
    "    # print (selectMin(arr))\n",
    "    \n",
    "    if len(arr) <= 2:\n",
    "        return sum(arr)\n",
    "\n",
    "\n",
    "    while len(arr) >= 2:\n",
    "        # print (arr)\n",
    "        first_idx, first_elem = selectMin(arr)\n",
    "        arr.pop(first_idx)\n",
    "        second_idx, second_elem = selectMin(arr)\n",
    "        arr.pop(second_idx)\n",
    "\n",
    "        # print (first_elem, second_elem)\n",
    "\n",
    "        curr_sum = first_elem + second_elem\n",
    "        arr.append(curr_sum)\n",
    "        total_sum += curr_sum\n",
    "\n",
    "\n",
    "    # print (arr)\n",
    "\n",
    "    return total_sum\n",
    "\n",
    "\n",
    "T = int(input())\n",
    "for x in range(T):\n",
    "    \n",
    "    N = int(input())\n",
    "    ar = list(map(int, input().rstrip().split()))\n",
    "    # print (ar)\n",
    "    print (cut_rope(ar))"
   ]
  },
  {
   "cell_type": "markdown",
   "metadata": {
    "colab_type": "text",
    "id": "eoPw5uzivx_U"
   },
   "source": [
    "## Day of the Programmer\n",
    "\n"
   ]
  },
  {
   "cell_type": "code",
   "execution_count": null,
   "metadata": {
    "colab": {},
    "colab_type": "code",
    "id": "4LJU6wx1vx_V",
    "outputId": "aeea9f2b-a1e1-49a4-8870-5c0cb84729aa"
   },
   "outputs": [
    {
     "name": "stdout",
     "output_type": "stream",
     "text": [
      "13.09.2017\n"
     ]
    }
   ],
   "source": [
    "def check_leap_year(year):\n",
    "    \n",
    "    # if julian\n",
    "    \n",
    "    if year <= 1917:\n",
    "        if year%4 == 0:\n",
    "            return True\n",
    "    \n",
    "    # if gregorgian\n",
    "    \n",
    "    if year >=1919:\n",
    "        if (year%400==0) or (year%4==0 and year%100!=0):\n",
    "            return True\n",
    "        \n",
    "year = 2017\n",
    "\n",
    "result = \"\"\n",
    "\n",
    "if year != 1918:\n",
    "    if check_leap_year(year):\n",
    "        result = \"12.09.\" + str(year)\n",
    "    else:\n",
    "        result = \"13.09.\" + str(year)\n",
    "        \n",
    "else:\n",
    "    \n",
    "    result = \"26.09.1918\"\n",
    "    \n",
    "print (result)"
   ]
  },
  {
   "cell_type": "markdown",
   "metadata": {
    "colab_type": "text",
    "id": "5W7jupiwvx_b"
   },
   "source": [
    "## Drawing Book\n"
   ]
  },
  {
   "cell_type": "code",
   "execution_count": null,
   "metadata": {
    "colab": {},
    "colab_type": "code",
    "id": "YbgSPKbtvx_d",
    "outputId": "16015843-ba9e-42a5-e11e-bd8cd01f4074"
   },
   "outputs": [
    {
     "data": {
      "text/plain": [
       "3"
      ]
     },
     "execution_count": 2,
     "metadata": {
      "tags": []
     },
     "output_type": "execute_result"
    }
   ],
   "source": [
    "int(7/2)"
   ]
  },
  {
   "cell_type": "code",
   "execution_count": null,
   "metadata": {
    "colab": {},
    "colab_type": "code",
    "id": "7Q3OUHAjvx_i",
    "outputId": "bb459e03-56ee-4ea8-f871-da9930989eb9"
   },
   "outputs": [
    {
     "name": "stdout",
     "output_type": "stream",
     "text": [
      "Front: 0, Back: 1\n"
     ]
    }
   ],
   "source": [
    "n = 2\n",
    "p = 1\n",
    "\n",
    "turns_from_front = 0\n",
    "\n",
    "turns_from_back = 0\n",
    "\n",
    "turns_from_front = int(p/2)\n",
    "\n",
    "if n%2 == 0:\n",
    "    n = n+1\n",
    "    \n",
    "turns_from_back = int((n-p)/2)\n",
    "\n",
    "print (\"Front: {}, Back: {}\".format(turns_from_front, turns_from_back))\n",
    "\n",
    "result = min(turns_from_front, turns_from_back)"
   ]
  },
  {
   "cell_type": "markdown",
   "metadata": {
    "colab_type": "text",
    "id": "TS05DiVAvx_r"
   },
   "source": [
    "## Electronics Shop"
   ]
  },
  {
   "cell_type": "code",
   "execution_count": null,
   "metadata": {
    "colab": {},
    "colab_type": "code",
    "id": "Vtb3T_PTvx_t",
    "outputId": "7b6478f2-a4af-47fb-fe9b-a7c426869acc"
   },
   "outputs": [
    {
     "name": "stdout",
     "output_type": "stream",
     "text": [
      "K: 4\n",
      "Cant take keyboard: 4\n",
      "-1\n"
     ]
    }
   ],
   "source": [
    "keyboard_prices = [4]\n",
    "\n",
    "usb_prices = [5]\n",
    "\n",
    "budget = 5\n",
    "\n",
    "max_allocation = 0\n",
    "\n",
    "alloted_budget = 0\n",
    "\n",
    "\n",
    "keyboard_prices = sorted(keyboard_prices, reverse=True)\n",
    "usb_prices = sorted(usb_prices, reverse=True)\n",
    "\n",
    "# first look for max priced keyboard\n",
    "for k_price in keyboard_prices:\n",
    "    print (\"K:\", k_price)\n",
    "    if k_price < budget:\n",
    "        # allocate\n",
    "        alloted_budget = k_price\n",
    "        remaining_budget = budget - alloted_budget\n",
    "        \n",
    "        # now look at the cheapest usb\n",
    "        # if not affordable, the keyboard also is not possible\n",
    "        \n",
    "        if remaining_budget < usb_prices[len(usb_prices)-1]:\n",
    "            # check next keyboard\n",
    "            print (\"Cant take keyboard:\", k_price)\n",
    "            continue\n",
    "        else:\n",
    "            # first usb is affordable\n",
    "            # check each usb and pick the max\n",
    "            for u_price in usb_prices:\n",
    "                print (\"U:\", u_price)\n",
    "                if u_price <= remaining_budget:\n",
    "                    alloted_budget += u_price\n",
    "                    remaining_budget -= u_price\n",
    "                    if alloted_budget > max_allocation:\n",
    "                        max_allocation = alloted_budget\n",
    "                        print (\"Done\", max_allocation)\n",
    "                    break\n",
    "                else:\n",
    "                    continue\n",
    "\n",
    "if max_allocation == 0:\n",
    "    print (\"-1\")\n",
    "        \n",
    "        \n",
    "        "
   ]
  },
  {
   "cell_type": "markdown",
   "metadata": {
    "colab_type": "text",
    "id": "8xU_w-XWvx_0"
   },
   "source": [
    "## Cats and a Mouse\n",
    "\n"
   ]
  },
  {
   "cell_type": "code",
   "execution_count": null,
   "metadata": {
    "colab": {},
    "colab_type": "code",
    "id": "vlAxwxLTvx_2"
   },
   "outputs": [],
   "source": [
    "x,y,z = 1,2,3\n",
    "\n",
    "if abs(x-z) < abs(y-z):\n",
    "    print (\"Cat A\")\n",
    "elif abs(x-z) > abs(y-z):\n",
    "    print (\"Cat B\")\n",
    "else:\n",
    "    print (\"Mouse C\")"
   ]
  },
  {
   "cell_type": "code",
   "execution_count": null,
   "metadata": {
    "colab": {},
    "colab_type": "code",
    "id": "O7GkATKQvx_6",
    "outputId": "97937709-2abc-41f1-cad5-32036185daf9",
    "scrolled": true
   },
   "outputs": [
    {
     "name": "stdout",
     "output_type": "stream",
     "text": [
      "Ab Cd\n"
     ]
    }
   ],
   "source": [
    "print ('ab cd'.title())"
   ]
  },
  {
   "cell_type": "code",
   "execution_count": null,
   "metadata": {
    "colab": {},
    "colab_type": "code",
    "id": "cVwiBMifvyAF"
   },
   "outputs": [],
   "source": [
    "import math"
   ]
  },
  {
   "cell_type": "code",
   "execution_count": null,
   "metadata": {
    "colab": {},
    "colab_type": "code",
    "id": "otFdPOgEvyAL"
   },
   "outputs": [],
   "source": [
    "math.log()"
   ]
  },
  {
   "cell_type": "code",
   "execution_count": null,
   "metadata": {
    "colab": {},
    "colab_type": "code",
    "id": "7nVAr1YBvyAQ",
    "outputId": "19026768-d3f7-476b-8e68-a5d5b8e79539"
   },
   "outputs": [
    {
     "name": "stdout",
     "output_type": "stream",
     "text": [
      "2\n",
      "2\n",
      "2\n"
     ]
    }
   ],
   "source": [
    "a = [1,2,3]\n",
    "for a[0] in a:\n",
    "    print (a[1])"
   ]
  },
  {
   "cell_type": "code",
   "execution_count": null,
   "metadata": {
    "colab": {},
    "colab_type": "code",
    "id": "dA68ar49vyAa",
    "outputId": "0a8bf9c8-a39f-48a6-9cec-4c6bb5e35f78"
   },
   "outputs": [
    {
     "name": "stdout",
     "output_type": "stream",
     "text": [
      "0\n",
      "1\n",
      "2\n"
     ]
    }
   ],
   "source": [
    "y = (i for i in range(3))\n",
    "for i in y:\n",
    "    print (i)"
   ]
  },
  {
   "cell_type": "code",
   "execution_count": null,
   "metadata": {
    "colab": {},
    "colab_type": "code",
    "id": "iXOkU0uTvyAl",
    "outputId": "dfc9efe2-a765-4c30-d177-86ac9e85471a"
   },
   "outputs": [
    {
     "name": "stdout",
     "output_type": "stream",
     "text": [
      "251\n"
     ]
    }
   ],
   "source": [
    "class C(object):\n",
    "    def __init__(self, data):\n",
    "        self.x=data\n",
    "        x=25\n",
    "c = C(251)\n",
    "\n",
    "print (c.x)"
   ]
  },
  {
   "cell_type": "code",
   "execution_count": null,
   "metadata": {
    "colab": {},
    "colab_type": "code",
    "id": "4TMUv4FQvyAq",
    "outputId": "d0e4213c-df86-4f8a-e84f-2bc379ce89fd",
    "scrolled": true
   },
   "outputs": [
    {
     "ename": "TypeError",
     "evalue": "__init__() should return None, not 'str'",
     "output_type": "error",
     "traceback": [
      "\u001b[0;31m---------------------------------------------------------------------------\u001b[0m",
      "\u001b[0;31mTypeError\u001b[0m                                 Traceback (most recent call last)",
      "\u001b[0;32m<ipython-input-7-e4c78455b481>\u001b[0m in \u001b[0;36m<module>\u001b[0;34m\u001b[0m\n\u001b[1;32m      3\u001b[0m             \u001b[0;32mreturn\u001b[0m \u001b[0;34m'hey'\u001b[0m\u001b[0;34m\u001b[0m\u001b[0;34m\u001b[0m\u001b[0m\n\u001b[1;32m      4\u001b[0m \u001b[0;34m\u001b[0m\u001b[0m\n\u001b[0;32m----> 5\u001b[0;31m \u001b[0ma\u001b[0m \u001b[0;34m=\u001b[0m \u001b[0mFoo\u001b[0m\u001b[0;34m(\u001b[0m\u001b[0;34m)\u001b[0m\u001b[0;34m\u001b[0m\u001b[0;34m\u001b[0m\u001b[0m\n\u001b[0m\u001b[1;32m      6\u001b[0m \u001b[0mprint\u001b[0m\u001b[0;34m(\u001b[0m\u001b[0ma\u001b[0m\u001b[0;34m)\u001b[0m\u001b[0;34m\u001b[0m\u001b[0;34m\u001b[0m\u001b[0m\n",
      "\u001b[0;31mTypeError\u001b[0m: __init__() should return None, not 'str'"
     ]
    }
   ],
   "source": [
    "class Foo:\n",
    "        def __init__(self):\n",
    "            return 'hey'\n",
    "        \n",
    "a = Foo()\n",
    "print(a)"
   ]
  },
  {
   "cell_type": "code",
   "execution_count": null,
   "metadata": {
    "colab": {},
    "colab_type": "code",
    "id": "Lk5BUFOPvyAx",
    "outputId": "5cf59a8b-8180-470c-9bd2-f8b406b56319"
   },
   "outputs": [
    {
     "ename": "SyntaxError",
     "evalue": "unexpected EOF while parsing (<ipython-input-13-35eee03d5ffb>, line 5)",
     "output_type": "error",
     "traceback": [
      "\u001b[0;36m  File \u001b[0;32m\"<ipython-input-13-35eee03d5ffb>\"\u001b[0;36m, line \u001b[0;32m5\u001b[0m\n\u001b[0;31m    print (a)\u001b[0m\n\u001b[0m             ^\u001b[0m\n\u001b[0;31mSyntaxError\u001b[0m\u001b[0;31m:\u001b[0m unexpected EOF while parsing\n"
     ]
    }
   ],
   "source": [
    "try: \n",
    "    print (1/0)\n",
    "except ZeroDivisionError:\n",
    "    try:\n",
    "        print (a)"
   ]
  },
  {
   "cell_type": "code",
   "execution_count": null,
   "metadata": {
    "colab": {},
    "colab_type": "code",
    "id": "kyk1YX9GvyA3",
    "outputId": "096850b5-e283-4221-a623-135fe86d029a",
    "scrolled": true
   },
   "outputs": [
    {
     "data": {
      "text/plain": [
       "'2452-'"
      ]
     },
     "execution_count": 19,
     "metadata": {
      "tags": []
     },
     "output_type": "execute_result"
    }
   ],
   "source": [
    "'24 52- '.replace(\" \", \"\")"
   ]
  },
  {
   "cell_type": "code",
   "execution_count": null,
   "metadata": {
    "colab": {},
    "colab_type": "code",
    "id": "vszchQDWvyA9",
    "outputId": "2a94ea2f-2caf-4023-9841-7ef2252d5112"
   },
   "outputs": [
    {
     "name": "stdout",
     "output_type": "stream",
     "text": [
      "['9123', '4567', '8912', '3546']\n"
     ]
    }
   ],
   "source": [
    "number = '9123-4567-8912-3546'\n",
    "\n",
    "no_groups = number.split('-')\n",
    "\n",
    "print (no_groups)"
   ]
  },
  {
   "cell_type": "code",
   "execution_count": null,
   "metadata": {
    "colab": {},
    "colab_type": "code",
    "id": "J2O1GW9XvyBE"
   },
   "outputs": [],
   "source": [
    "for group in no_groups:\n",
    "    if len(group) != 4:\n",
    "        print (\"invalid\")\n",
    "        \n",
    "whole_number = ''.join(no_groups)\n",
    "        \n",
    "try:\n",
    "    whole_number_as_int = int(whole_number)\n",
    "except:\n",
    "    print (\"invalid\")"
   ]
  },
  {
   "cell_type": "code",
   "execution_count": null,
   "metadata": {
    "colab": {},
    "colab_type": "code",
    "id": "QtAsO4ZXvyBN"
   },
   "outputs": [],
   "source": [
    "whole_number_as_int\n",
    "\n",
    "whole_number = str(whole_number_as_int)"
   ]
  },
  {
   "cell_type": "code",
   "execution_count": null,
   "metadata": {
    "colab": {},
    "colab_type": "code",
    "id": "IJBNNRU4vyBT",
    "outputId": "725c28cf-1303-43d4-d95d-3907a6b4510a"
   },
   "outputs": [
    {
     "data": {
      "text/plain": [
       "True"
      ]
     },
     "execution_count": 38,
     "metadata": {
      "tags": []
     },
     "output_type": "execute_result"
    }
   ],
   "source": [
    "whole_number[0]!='4' and whole_number[0]!='5'and whole_number[0]!='6'"
   ]
  },
  {
   "cell_type": "code",
   "execution_count": null,
   "metadata": {
    "colab": {},
    "colab_type": "code",
    "id": "kjaFRn89vyBa",
    "outputId": "b4380177-971c-49f9-946f-4f0631696da1"
   },
   "outputs": [
    {
     "data": {
      "text/plain": [
       "['1',\n",
       " '1',\n",
       " '2',\n",
       " '2',\n",
       " '3',\n",
       " '3',\n",
       " '4',\n",
       " '4',\n",
       " '5',\n",
       " '5',\n",
       " '6',\n",
       " '6',\n",
       " '7',\n",
       " '8',\n",
       " '9',\n",
       " '9']"
      ]
     },
     "execution_count": 40,
     "metadata": {
      "tags": []
     },
     "output_type": "execute_result"
    }
   ],
   "source": [
    "sorted(whole_number)"
   ]
  },
  {
   "cell_type": "code",
   "execution_count": null,
   "metadata": {
    "colab": {},
    "colab_type": "code",
    "id": "ECSPMTbwvyBm",
    "outputId": "9a20070d-b9e9-431b-d4a0-b0841c46c2c6"
   },
   "outputs": [
    {
     "name": "stdout",
     "output_type": "stream",
     "text": [
      "4 0\n",
      "1 1\n",
      "2 2\n",
      "3 3\n",
      "invalid cons 3 4\n",
      "3 4\n",
      "3 5\n",
      "3 6\n",
      "5 7\n",
      "6 8\n",
      "7 9\n",
      "8 10\n",
      "9 11\n",
      "1 12\n",
      "2 13\n",
      "3 14\n",
      "4 15\n",
      "5 16\n"
     ]
    }
   ],
   "source": [
    "whole_number = '412333356789123456'\n",
    "\n",
    "counter=1\n",
    "for i in range(len(whole_number)-1):\n",
    "    print (whole_number[i], i)\n",
    "    while whole_number[i] == whole_number[i+1]:\n",
    "        counter+=1\n",
    "        if counter >=4:\n",
    "            print (\"invalid cons\", whole_number[i], counter)\n",
    "        i+=1\n",
    "    \n",
    "    counter = 1"
   ]
  },
  {
   "cell_type": "markdown",
   "metadata": {
    "colab_type": "text",
    "id": "FIE86AnVvyBq"
   },
   "source": [
    "### File Owners\n"
   ]
  },
  {
   "cell_type": "code",
   "execution_count": null,
   "metadata": {
    "colab": {},
    "colab_type": "code",
    "id": "ChHCUAHZvyBr",
    "outputId": "9a1f13be-5cfc-435a-8bd3-3d806268ce43"
   },
   "outputs": [
    {
     "name": "stdout",
     "output_type": "stream",
     "text": [
      "['Input.txt', 'Code.py', 'Output.txt']\n",
      "['Randy', 'Stan', 'Randy']\n"
     ]
    }
   ],
   "source": [
    "files = {\n",
    "    'Input.txt': 'Randy',\n",
    "    'Code.py': 'Stan',\n",
    "    'Output.txt': 'Randy'\n",
    "}  \n",
    "\n",
    "filenames = list(files.keys())\n",
    "\n",
    "print (filenames)\n",
    "\n",
    "owners = list(files.values())\n",
    "\n",
    "print (owners)"
   ]
  },
  {
   "cell_type": "code",
   "execution_count": null,
   "metadata": {
    "colab": {},
    "colab_type": "code",
    "id": "_KKitRUEvyBw",
    "outputId": "f02571ee-221e-4ce8-a87c-b79f34351ac9"
   },
   "outputs": [
    {
     "name": "stdout",
     "output_type": "stream",
     "text": [
      "{'Randy': 'Output.txt', 'Stan': 'Code.py'}\n"
     ]
    }
   ],
   "source": [
    "print (dict(zip(owners, filenames)))"
   ]
  },
  {
   "cell_type": "markdown",
   "metadata": {
    "colab_type": "text",
    "id": "1jd437W7vyB2"
   },
   "source": [
    "### Path"
   ]
  },
  {
   "cell_type": "code",
   "execution_count": null,
   "metadata": {
    "colab": {},
    "colab_type": "code",
    "id": "B-2PmvSnvyB3",
    "outputId": "e6907852-00a9-4393-d1a6-f004f4bf511c"
   },
   "outputs": [
    {
     "name": "stdout",
     "output_type": "stream",
     "text": [
      "d\n",
      "['a', 'b', 'c']\n"
     ]
    }
   ],
   "source": [
    "test = ['a', 'b', 'c', 'd']\n",
    "\n",
    "print (test.pop())\n",
    "\n",
    "print (test)"
   ]
  },
  {
   "cell_type": "code",
   "execution_count": null,
   "metadata": {
    "colab": {},
    "colab_type": "code",
    "id": "g97hwzjvvyB6",
    "outputId": "3bb50db7-91a0-4983-d53f-8c3b9682d2f7"
   },
   "outputs": [
    {
     "name": "stdout",
     "output_type": "stream",
     "text": [
      "['', 'a', 'b', 'c', 'd'] ['.', '..', '']\n",
      "/a/b/c/\n"
     ]
    }
   ],
   "source": [
    "class Path:\n",
    "    def __init__(self, path):\n",
    "        self.current_path = path\n",
    "\n",
    "    def cd(self, new_path):\n",
    "        current_path_list = self.current_path.split('/')\n",
    "        new_path_list = new_path.split('/')\n",
    "        \n",
    "        print (current_path_list, new_path_list)\n",
    "        \n",
    "        for command in new_path_list:\n",
    "            if command == '.':\n",
    "                continue\n",
    "            elif command == '..':\n",
    "                current_path_list.pop()\n",
    "            else:\n",
    "                current_path_list.append(command)\n",
    "                \n",
    "        print ('/'.join(current_path_list))\n",
    "                \n",
    "\n",
    "path = Path('/a/b/c/d')\n",
    "path.cd('./../')\n"
   ]
  },
  {
   "cell_type": "markdown",
   "metadata": {
    "colab_type": "text",
    "id": "ff3J1KuTvyCD"
   },
   "source": [
    "### Song"
   ]
  },
  {
   "cell_type": "code",
   "execution_count": null,
   "metadata": {
    "colab": {},
    "colab_type": "code",
    "id": "rr4Mu2wzvyCG",
    "outputId": "266b0e05-a9db-475b-e28f-76b9edf5d0fb"
   },
   "outputs": [
    {
     "name": "stdout",
     "output_type": "stream",
     "text": [
      "Hello\n",
      "Eye of the tiger\n",
      "3\n",
      "True\n"
     ]
    }
   ],
   "source": [
    "class Song:\n",
    "    def __init__(self, name):\n",
    "        self.name = name\n",
    "        self.next = None\n",
    "\n",
    "    def next_song(self, song):\n",
    "        self.next = song \n",
    "        \n",
    "    def __str__(self):\n",
    "        return self.name\n",
    "    \n",
    "    def is_repeating_playlist(self):\n",
    "        \"\"\"\n",
    "        :returns: (bool) True if the playlist is repeating, False if not.\n",
    "        \"\"\"\n",
    "        seen_songs = []\n",
    "        while self.next is not None:\n",
    "            print (self)\n",
    "            seen_songs.append(self.name)\n",
    "            self = self.next\n",
    "            if self.next is None:\n",
    "                return False\n",
    "            if self.next.name in seen_songs:\n",
    "                return True\n",
    "            \n",
    "            \n",
    "        return False\n",
    "            \n",
    "first = Song(\"Hello\")\n",
    "second = Song(\"Eye of the tiger\")\n",
    "third = Song(\"3\")\n",
    "fourth = Song(\"4\")\n",
    "\n",
    "first.next_song(second);\n",
    "second.next_song(third);\n",
    "third.next_song(fourth)\n",
    "fourth.next_song(first)\n",
    "    \n",
    "print(first.is_repeating_playlist())\n"
   ]
  },
  {
   "cell_type": "markdown",
   "metadata": {
    "colab_type": "text",
    "id": "iy5asowlwr0U"
   },
   "source": [
    "## Picking Numbers\n",
    "\n"
   ]
  },
  {
   "cell_type": "code",
   "execution_count": 2,
   "metadata": {
    "colab": {
     "base_uri": "https://localhost:8080/",
     "height": 34
    },
    "colab_type": "code",
    "id": "_b-wPRQhxlFl",
    "outputId": "f82ce524-4041-4c52-cd8d-d9b709adf216"
   },
   "outputs": [
    {
     "data": {
      "text/plain": [
       "1"
      ]
     },
     "execution_count": 2,
     "metadata": {
      "tags": []
     },
     "output_type": "execute_result"
    }
   ],
   "source": [
    "abs(-1)"
   ]
  },
  {
   "cell_type": "code",
   "execution_count": 15,
   "metadata": {
    "colab": {
     "base_uri": "https://localhost:8080/",
     "height": 228
    },
    "colab_type": "code",
    "id": "zmjsX2pPwvmP",
    "outputId": "5f250d99-36b9-4ba3-df7b-4d25f17b9670"
   },
   "outputs": [
    {
     "name": "stdout",
     "output_type": "stream",
     "text": [
      "[1, 3, 3, 4, 5, 6]\n",
      "Outer idx: 0\n",
      "Outer idx: 1\n",
      "Inner idx: 2\n",
      "Inner idx: 3\n",
      "Outer idx: 2\n",
      "Inner idx: 3\n",
      "Outer idx: 3\n",
      "Inner idx: 4\n",
      "Outer idx: 4\n",
      "Inner idx: 5\n",
      "3\n"
     ]
    }
   ],
   "source": [
    "arr = [4, 6, 5, 3, 3, 1]\n",
    "\n",
    "arr_sorted = sorted(arr)\n",
    "\n",
    "print (arr_sorted)\n",
    "\n",
    "current_max = 1\n",
    "\n",
    "for idx in range(len(arr_sorted)-1):\n",
    "  idx_count = 1\n",
    "  temp_idx = idx+1\n",
    "  print ('Outer idx:', idx)\n",
    "  while abs(arr_sorted[temp_idx] - arr_sorted[idx]) <= 1:\n",
    "    print ('Inner idx:', temp_idx)\n",
    "    idx_count += 1\n",
    "    temp_idx += 1\n",
    "    if temp_idx >= len(arr_sorted):\n",
    "      break\n",
    "    \n",
    "  if idx_count > current_max:\n",
    "    current_max = idx_count\n",
    "\n",
    "\n",
    "print (current_max)"
   ]
  },
  {
   "cell_type": "code",
   "execution_count": 22,
   "metadata": {
    "colab": {
     "base_uri": "https://localhost:8080/",
     "height": 34
    },
    "colab_type": "code",
    "id": "OsCkLwSb4dj6",
    "outputId": "2cd0f6f7-e4f5-4f06-8253-bfbe904d74a5"
   },
   "outputs": [
    {
     "name": "stdout",
     "output_type": "stream",
     "text": [
      "[1, 2, 3, 4, 5, 7, 9]\n"
     ]
    }
   ],
   "source": [
    "items = [1, 2, 9, 1, 2, 3, 1, 4, 1, 5, 7]\n",
    "\n",
    "my_set = set()\n",
    "\n",
    "for x in items:\n",
    "  my_set.add(x)\n",
    "\n",
    "\n",
    "my_set_as_list = list(my_set)\n",
    "\n",
    "print (sorted(my_set_as_list))"
   ]
  },
  {
   "cell_type": "code",
   "execution_count": 23,
   "metadata": {
    "colab": {
     "base_uri": "https://localhost:8080/",
     "height": 34
    },
    "colab_type": "code",
    "id": "kgxiH7Te5ItL",
    "outputId": "7a14e9ab-82b2-442d-a7dd-8e25cbd5ffff"
   },
   "outputs": [
    {
     "name": "stdout",
     "output_type": "stream",
     "text": [
      "1 1\n"
     ]
    }
   ],
   "source": [
    "a,b = 2437, 875\n",
    "\n",
    "x=a\n",
    "y=b\n",
    "\n",
    "while x!=y:\n",
    "\n",
    "  if x > y:\n",
    "    x=x-y\n",
    "  if x<y:\n",
    "    y=y-x\n",
    "\n",
    "print (x,y)"
   ]
  },
  {
   "cell_type": "code",
   "execution_count": 36,
   "metadata": {
    "colab": {
     "base_uri": "https://localhost:8080/",
     "height": 34
    },
    "colab_type": "code",
    "id": "fzu0NBlDDIzY",
    "outputId": "59b72c53-778c-49e9-9c30-f7ba4c500f83"
   },
   "outputs": [
    {
     "data": {
      "text/plain": [
       "['1', '4', '3', '5', '2', '7', '8', '15', '38']"
      ]
     },
     "execution_count": 36,
     "metadata": {
      "tags": []
     },
     "output_type": "execute_result"
    }
   ],
   "source": [
    "strArr = [\"1:[5]\", \"4:[5]\", \"3:[5]\", \"5:[1,4,3,2]\", \"2:[5,15,7]\", \"7:[2,8]\", \"8:[7,38]\", \"15:[2]\", \"38:[8]\"]#\n",
    "\n",
    "cities_map = {}\n",
    "\n",
    "for city in strArr:\n",
    "  main_city = city.split(':')[0]\n",
    "\n",
    "  neighbors = city.split(':')[1].replace('[','').replace(']','').split(',')\n",
    "\n",
    "  cities_map[main_city] = neighbors\n",
    "\n",
    "\n",
    "all_cities = list(cities_map.keys())\n",
    "\n",
    "all_cities"
   ]
  },
  {
   "cell_type": "code",
   "execution_count": 65,
   "metadata": {
    "colab": {
     "base_uri": "https://localhost:8080/",
     "height": 34
    },
    "colab_type": "code",
    "id": "POSikiHrJEtw",
    "outputId": "cc897a85-f06c-4ccf-eb23-4b8519edce9c"
   },
   "outputs": [
    {
     "data": {
      "text/plain": [
       "False"
      ]
     },
     "execution_count": 65,
     "metadata": {
      "tags": []
     },
     "output_type": "execute_result"
    }
   ],
   "source": [
    "strArr = [4,3,4]\n",
    "\n",
    "class Node:\n",
    "\n",
    "  def __init__(self, key):\n",
    "    self.key = key\n",
    "    self.left = None\n",
    "    self.right = None\n",
    "\n",
    "root = Node(strArr[0])\n",
    "\n",
    "curr_queue = [root]\n",
    "\n",
    "x = 1\n",
    "\n",
    "while len(curr_queue) > 0 and x < len(strArr):\n",
    "  node = curr_queue.pop(0)\n",
    "  #print (node.key)\n",
    "  # assign L and R\n",
    "  node.left = Node(strArr[x])\n",
    "  node.right = Node(strArr[x+1])\n",
    "\n",
    "  curr_queue.append(node.left)\n",
    "  curr_queue.append(node.right)\n",
    "\n",
    "  x+=2\n",
    "\n",
    "for node in curr_queue:\n",
    "  #print (node.key)\n",
    "  node.left = None\n",
    "  node.right = None\n",
    "\n",
    "\n",
    "def isMirror(rootL, rootR):\n",
    "\n",
    "  if rootL is None and rootR is None:\n",
    "    return True\n",
    "\n",
    "  if rootL is not None and rootR is not None:\n",
    "    # check keys\n",
    "    if rootL.key == rootR.key:\n",
    "      # left subtree of left tree == right subtree of right tree and right subtree of left tree == left sub tree of right tree\n",
    "      if isMirror(rootL.left, rootR.right) and isMirror(rootL.right, rootR.left):\n",
    "        return True\n",
    "  return False\n",
    "\n",
    "\n",
    "\n",
    "isMirror(root, root)"
   ]
  },
  {
   "cell_type": "code",
   "execution_count": 64,
   "metadata": {
    "colab": {
     "base_uri": "https://localhost:8080/",
     "height": 87
    },
    "colab_type": "code",
    "id": "x1iq5fvUTqYm",
    "outputId": "4a6ff900-1c3b-474e-df60-59eebda84cbb"
   },
   "outputs": [
    {
     "name": "stdout",
     "output_type": "stream",
     "text": [
      "4 3 4\n",
      "4\n",
      " \n",
      "None\n"
     ]
    }
   ],
   "source": [
    "def isMirror(rootL, rootR):\n",
    "  \n",
    "  print (rootL.key)\n",
    "\n",
    "  if rootL is None and rootR is None:\n",
    "    return True\n",
    "\n",
    "  if rootL is not None and rootR is not None:\n",
    "    # check keys\n",
    "    if rootL.key == rootR.key:\n",
    "      # left subtree of left tree == right subtree of right tree and right subtree of left tree == left sub tree of right tree\n",
    "      if isMirror(rootL.left, rootR.right) and isMirror(rootL.right, rootR.left):\n",
    "        return True\n",
    "  return False\n",
    "  \n",
    "class Node:\n",
    "\n",
    "  def __init__(self, key):\n",
    "    self.key = key\n",
    "    self.left = None\n",
    "    self.right = None\n",
    "\n",
    "def SymmetricTree(strArr):\n",
    "\n",
    "  root = Node(strArr[0])\n",
    "  \n",
    "  curr_queue = [root]\n",
    "  \n",
    "  x = 1\n",
    "  \n",
    "  while len(curr_queue) > 0 and x < len(strArr):\n",
    "    node = curr_queue.pop(0)\n",
    "    #print (node.key)\n",
    "    # assign L and R\n",
    "    node.left = Node(strArr[x])\n",
    "    node.right = Node(strArr[x+1])\n",
    "  \n",
    "    curr_queue.append(node.left)\n",
    "    curr_queue.append(node.right)\n",
    "  \n",
    "    x+=2\n",
    "  \n",
    "  for node in curr_queue:\n",
    "    #print (node.key)\n",
    "    node.left = None\n",
    "    node.right = None\n",
    "    \n",
    "  isMirror(root, root)\n",
    "\n",
    "\n",
    "  # keep this function call here \n",
    "print(SymmetricTree(input()))"
   ]
  },
  {
   "cell_type": "markdown",
   "metadata": {},
   "source": [
    "## Birthday Chocolate\n",
    "\n",
    "[link](https://www.hackerrank.com/challenges/the-birthday-bar/problem)"
   ]
  },
  {
   "cell_type": "code",
   "execution_count": 10,
   "metadata": {},
   "outputs": [
    {
     "data": {
      "text/plain": [
       "3"
      ]
     },
     "execution_count": 10,
     "metadata": {},
     "output_type": "execute_result"
    }
   ],
   "source": [
    "sum([1,2])"
   ]
  },
  {
   "cell_type": "code",
   "execution_count": 15,
   "metadata": {
    "run_control": {
     "marked": true
    }
   },
   "outputs": [
    {
     "name": "stdout",
     "output_type": "stream",
     "text": [
      "0 2\n",
      "[1, 2, 3]\n",
      "1 3\n",
      "[2, 3, 3]\n",
      "2 4\n",
      "[3, 3, 2]\n",
      "3 5\n",
      "[3, 2, 1]\n",
      "4 6\n",
      "[2, 1, 6]\n",
      "2\n"
     ]
    }
   ],
   "source": [
    "arr = [1,2,3,3,2,1,6]\n",
    "\n",
    "d,m = 6,3\n",
    "\n",
    "l=0\n",
    "r=l+m-1\n",
    "\n",
    "count=0\n",
    "while r < len(arr):\n",
    "    print (l, r)\n",
    "    print (arr[l:r+1])\n",
    "    try_bday = sum(arr[l:r+1])\n",
    "    if try_bday == d:\n",
    "        count+=1\n",
    "    l+=1\n",
    "    r+=1\n",
    "    \n",
    "print (count)\n"
   ]
  },
  {
   "cell_type": "markdown",
   "metadata": {},
   "source": [
    "### Viral Advertising\n",
    "\n",
    "[link](https://www.hackerrank.com/challenges/strange-advertising/problem?utm_campaign=challenge-recommendation&utm_medium=email&utm_source=24-hour-campaign)"
   ]
  },
  {
   "cell_type": "code",
   "execution_count": 2,
   "metadata": {},
   "outputs": [
    {
     "data": {
      "text/plain": [
       "24"
      ]
     },
     "execution_count": 2,
     "metadata": {},
     "output_type": "execute_result"
    }
   ],
   "source": [
    "day = 1\n",
    "\n",
    "max_day = 5\n",
    "\n",
    "shared = 5\n",
    "\n",
    "liked_total = 0\n",
    "\n",
    "for day_ in range(day, max_day+1):\n",
    "    liked_ = int(shared/2)\n",
    "    liked_total += liked_\n",
    "    shared = liked_*3\n",
    "    \n",
    "liked_total"
   ]
  },
  {
   "cell_type": "markdown",
   "metadata": {},
   "source": [
    "### Stackoverflow question\n",
    "\n",
    "[link](https://stackoverflow.com/questions/60303587/panads-add-columns-based-on-grouping-of-other-columns)"
   ]
  },
  {
   "cell_type": "code",
   "execution_count": 1,
   "metadata": {},
   "outputs": [
    {
     "name": "stdout",
     "output_type": "stream",
     "text": [
      "1016 25.5\n",
      "1048 26.7\n",
      "1064 29.3\n"
     ]
    },
    {
     "data": {
      "text/html": [
       "<div>\n",
       "<style scoped>\n",
       "    .dataframe tbody tr th:only-of-type {\n",
       "        vertical-align: middle;\n",
       "    }\n",
       "\n",
       "    .dataframe tbody tr th {\n",
       "        vertical-align: top;\n",
       "    }\n",
       "\n",
       "    .dataframe thead th {\n",
       "        text-align: right;\n",
       "    }\n",
       "</style>\n",
       "<table border=\"1\" class=\"dataframe\">\n",
       "  <thead>\n",
       "    <tr style=\"text-align: right;\">\n",
       "      <th></th>\n",
       "      <th>avg</th>\n",
       "      <th>groupId</th>\n",
       "      <th>min_avg</th>\n",
       "      <th>max_avg</th>\n",
       "      <th>group_avg</th>\n",
       "    </tr>\n",
       "  </thead>\n",
       "  <tbody>\n",
       "    <tr>\n",
       "      <th>0</th>\n",
       "      <td>25.5</td>\n",
       "      <td>1016</td>\n",
       "      <td>25.5</td>\n",
       "      <td>27.7</td>\n",
       "      <td>26.6</td>\n",
       "    </tr>\n",
       "    <tr>\n",
       "      <th>1</th>\n",
       "      <td>26.7</td>\n",
       "      <td>1048</td>\n",
       "      <td>26.7</td>\n",
       "      <td>53.5</td>\n",
       "      <td>40.1</td>\n",
       "    </tr>\n",
       "    <tr>\n",
       "      <th>2</th>\n",
       "      <td>25.8</td>\n",
       "      <td>1016</td>\n",
       "      <td>25.5</td>\n",
       "      <td>27.7</td>\n",
       "      <td>26.6</td>\n",
       "    </tr>\n",
       "    <tr>\n",
       "      <th>3</th>\n",
       "      <td>53.5</td>\n",
       "      <td>1048</td>\n",
       "      <td>26.7</td>\n",
       "      <td>53.5</td>\n",
       "      <td>40.1</td>\n",
       "    </tr>\n",
       "    <tr>\n",
       "      <th>4</th>\n",
       "      <td>29.3</td>\n",
       "      <td>1064</td>\n",
       "      <td>29.3</td>\n",
       "      <td>29.3</td>\n",
       "      <td>29.3</td>\n",
       "    </tr>\n",
       "    <tr>\n",
       "      <th>5</th>\n",
       "      <td>27.7</td>\n",
       "      <td>1016</td>\n",
       "      <td>25.5</td>\n",
       "      <td>27.7</td>\n",
       "      <td>26.6</td>\n",
       "    </tr>\n",
       "  </tbody>\n",
       "</table>\n",
       "</div>"
      ],
      "text/plain": [
       "    avg  groupId min_avg max_avg group_avg\n",
       "0  25.5     1016    25.5    27.7      26.6\n",
       "1  26.7     1048    26.7    53.5      40.1\n",
       "2  25.8     1016    25.5    27.7      26.6\n",
       "3  53.5     1048    26.7    53.5      40.1\n",
       "4  29.3     1064    29.3    29.3      29.3\n",
       "5  27.7     1016    25.5    27.7      26.6"
      ]
     },
     "execution_count": 1,
     "metadata": {},
     "output_type": "execute_result"
    }
   ],
   "source": [
    "### not a very clean solution\n",
    "\n",
    "\n",
    "    \n",
    "import pandas as pd\n",
    "import numpy as np\n",
    "\n",
    "data = pd.DataFrame({'avg': [25.5,26.7,25.8,53.5,29.3,27.7], 'groupId': [1016,1048,1016,1048,1064,1016]})\n",
    "data\n",
    "\n",
    "data['min_avg'] = None\n",
    "data['max_avg'] = None\n",
    "data['group_avg'] = None\n",
    "\n",
    "groups = data.groupby(by='groupId')\n",
    "for group in groups:\n",
    "    id = group[0]\n",
    "    min_avg_value = group[1]['avg'].min()\n",
    "    max_avg_value = group[1]['avg'].max()\n",
    "    group_average_value = np.mean([min_avg_value, max_avg_value])\n",
    "\n",
    "    print (id, min_avg_value)\n",
    "    data.loc[data['groupId']==id, 'min_avg'] = min_avg_value\n",
    "    data.loc[data['groupId']==id, 'max_avg'] = max_avg_value\n",
    "    data.loc[data['groupId']==id, 'group_avg'] = group_average_value\n",
    "\n",
    "data\n"
   ]
  },
  {
   "cell_type": "code",
   "execution_count": null,
   "metadata": {},
   "outputs": [],
   "source": []
  }
 ],
 "metadata": {
  "colab": {
   "collapsed_sections": [],
   "include_colab_link": true,
   "name": "Problem Solving - Python.ipynb",
   "provenance": []
  },
  "kernelspec": {
   "display_name": "Python 3",
   "language": "python",
   "name": "python3"
  },
  "language_info": {
   "codemirror_mode": {
    "name": "ipython",
    "version": 3
   },
   "file_extension": ".py",
   "mimetype": "text/x-python",
   "name": "python",
   "nbconvert_exporter": "python",
   "pygments_lexer": "ipython3",
   "version": "3.7.4"
  },
  "toc": {
   "base_numbering": 1,
   "nav_menu": {},
   "number_sections": true,
   "sideBar": true,
   "skip_h1_title": false,
   "title_cell": "Table of Contents",
   "title_sidebar": "Contents",
   "toc_cell": false,
   "toc_position": {},
   "toc_section_display": true,
   "toc_window_display": false
  }
 },
 "nbformat": 4,
 "nbformat_minor": 4
}
