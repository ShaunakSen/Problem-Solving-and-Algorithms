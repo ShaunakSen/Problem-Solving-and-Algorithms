{
  "nbformat": 4,
  "nbformat_minor": 0,
  "metadata": {
    "colab": {
      "name": "1: Mastering Big O.ipynb",
      "provenance": [],
      "authorship_tag": "ABX9TyOGDwG7Ua3vUKClj5dSc82d",
      "include_colab_link": true
    },
    "kernelspec": {
      "name": "python3",
      "display_name": "Python 3"
    }
  },
  "cells": [
    {
      "cell_type": "markdown",
      "metadata": {
        "id": "view-in-github",
        "colab_type": "text"
      },
      "source": [
        "<a href=\"https://colab.research.google.com/github/ShaunakSen/problem-solving-with-code/blob/master/1_Mastering_Big_O.ipynb\" target=\"_parent\"><img src=\"https://colab.research.google.com/assets/colab-badge.svg\" alt=\"Open In Colab\"/></a>"
      ]
    },
    {
      "cell_type": "markdown",
      "metadata": {
        "id": "xNba6X41VLB_"
      },
      "source": [
        "## Understanding Time Complexity\r\n",
        "\r\n",
        "> Notes on the book: [Cracking the Coding Interview by Gayle Laakmann McDowell](https://www.amazon.in/Cracking-Coding-Interview-Programing-Questions/dp/0984782850)\r\n",
        "\r\n",
        "---\r\n",
        "\r\n",
        "\r\n",
        "### Big 0, Big Theta, and Big Omega\r\n",
        "\r\n",
        "__O (big 0):__\r\n",
        "\r\n",
        "In academia, big O describes an upper bound on the time. An algorithm that prints all the values in an array could be described as O(N), but it could also be described as O(N^2), O(N^3), or 0(2^N) (or many other big O times). The algorithm is at least as fast as each of these; therefore they are upper\r\n",
        "bounds on the runtime. Its like <= in math\r\n",
        "\r\n",
        "__ohm (big omega):__\r\n",
        "\r\n",
        "In academia, ohm is the equivalent concept but for lower bound. Printing the values in an array is ohm(N) as well as ohm(log N) and ohm(1). After all, you know that it won't be faster than those runtimes. This is like >= in math.\r\n",
        "\r\n",
        "__theta (big theta):__\r\n",
        "\r\n",
        "\r\n",
        "In academia, theta means both O and omega. That is, an algorithm is theta(N) if it is both O(N) and ohm(N). theta gives a tight bound on runtime. It is like == in math\r\n",
        "\r\n",
        "In industry when we say an algo is O(N) we actually mean its theta(N) as its the most accurate statement to make. It is the tightest measure of complexity\r\n",
        "\r\n"
      ]
    },
    {
      "cell_type": "code",
      "metadata": {
        "id": "Cm9jWrWzVG9l"
      },
      "source": [
        ""
      ],
      "execution_count": null,
      "outputs": []
    }
  ]
}