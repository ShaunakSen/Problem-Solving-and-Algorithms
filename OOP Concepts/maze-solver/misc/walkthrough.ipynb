{
 "cells": [
  {
   "attachments": {},
   "cell_type": "markdown",
   "metadata": {},
   "source": [
    "## Modeling a Maze With Python and Object-Oriented Programming\n",
    "\n",
    "\n",
    "> Notes on tutorial by Real Python: https://www.youtube.com/watch?v=eZdsQbTFpAQ\n",
    "\n",
    "---"
   ]
  },
  {
   "attachments": {},
   "cell_type": "markdown",
   "metadata": {},
   "source": [
    "### Setup\n",
    "\n",
    "The maze can be thought of as a graph\n",
    "\n",
    "![](https://imgur.com/QL4fG2c.png)\n",
    "\n",
    "We can represent the maze as an __undirected graph__\n",
    "\n",
    "- nodes: where 2 or more paths intersect\n",
    "- edges: connections bw those intersections\n",
    "\n",
    "we can have nodes representing enemies and rewards as well. By associating wts with edges that pass through them we can influence the __cost__ of taking that path\n",
    "\n",
    "![](https://imgur.com/m4NgE4y.png)\n",
    "\n",
    "__Project structure__:\n",
    "\n",
    "![](https://imgur.com/lqfqyHB.png)\n",
    "\n",
    "![](https://imgur.com/aOfpVil.png)\n",
    "\n",
    "\n",
    "__Setup pyproject.toml__:\n",
    "\n",
    "After setting up toml file we can install maze-solver as a package from pip\n",
    "\n",
    "```\n",
    "\n",
    "(shaunak_tf) ➜  maze-solver git:(master) ✗ python -m pip install --editable .\n",
    "Obtaining file:///Users/shaunaksen/Documents/personal-projects/Problem-Solving-and-Algorithms/OOP%20Concepts/maze-solver\n",
    "  Installing build dependencies ... done\n",
    "  Checking if build backend supports build_editable ... done\n",
    "  Getting requirements to build editable ... done\n",
    "  Preparing editable metadata (pyproject.toml) ... done\n",
    "Building wheels for collected packages: maze-solver\n",
    "  Building editable for maze-solver (pyproject.toml) ... done\n",
    "  Created wheel for maze-solver: filename=maze_solver-1.0.0-0.editable-py3-none-any.whl size=1263 sha256=beec0014b868f8cb9327d9af583dccb4935fd91c983e334efa53690a2885bcda\n",
    "  Stored in directory: /private/var/folders/kg/pr216w2x1xz100n3_7ypg_s80000gq/T/pip-ephem-wheel-cache-u4f4jawi/wheels/7a/44/f6/09cc5172ab8a4e5d1fc834d08bdfece1471c2a093153d87799\n",
    "Successfully built maze-solver\n",
    "Installing collected packages: maze-solver\n",
    "Successfully installed maze-solver-1.0.0\n",
    "\n",
    "```\n",
    "\n",
    "During development of a source layout project its useful to include the `editable .` \n",
    "\n",
    "This ensures that anytime we make changes to code, the changes are reflected to the virtual env without re-installing the package\n",
    "\n"
   ]
  },
  {
   "cell_type": "code",
   "execution_count": null,
   "metadata": {},
   "outputs": [],
   "source": []
  }
 ],
 "metadata": {
  "kernelspec": {
   "display_name": "shaunak_tf",
   "language": "python",
   "name": "python3"
  },
  "language_info": {
   "name": "python",
   "version": "3.10.11"
  },
  "orig_nbformat": 4
 },
 "nbformat": 4,
 "nbformat_minor": 2
}
