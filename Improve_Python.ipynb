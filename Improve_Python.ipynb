{
  "nbformat": 4,
  "nbformat_minor": 0,
  "metadata": {
    "colab": {
      "name": "Improve Python.ipynb",
      "provenance": [],
      "collapsed_sections": [],
      "authorship_tag": "ABX9TyOd4AekEyVSzwJVsUnrKTm/",
      "include_colab_link": true
    },
    "kernelspec": {
      "name": "python3",
      "display_name": "Python 3"
    },
    "language_info": {
      "name": "python"
    }
  },
  "cells": [
    {
      "cell_type": "markdown",
      "metadata": {
        "id": "view-in-github",
        "colab_type": "text"
      },
      "source": [
        "<a href=\"https://colab.research.google.com/github/ShaunakSen/problem-solving-with-code/blob/master/Improve_Python.ipynb\" target=\"_parent\"><img src=\"https://colab.research.google.com/assets/colab-badge.svg\" alt=\"Open In Colab\"/></a>"
      ]
    },
    {
      "cell_type": "markdown",
      "metadata": {
        "id": "AWjOd9Xt6J5f"
      },
      "source": [
        "## Advanced concepts to improve Python\n",
        "\n",
        "> Credits: https://www.youtube.com/playlist?list=PLP8GkvaIxJP0VAXF3USi9U4JnpxUvQXHx\n",
        "\n",
        "### Emulating switch/case Statements in Python with Dictionaries\n",
        "\n",
        "if/else statements can get really long and complex to read\n",
        "\n",
        "Python has first class functions, what that basically means is that they are like any other objects"
      ]
    },
    {
      "cell_type": "code",
      "metadata": {
        "colab": {
          "base_uri": "https://localhost:8080/"
        },
        "id": "3HH3S3536EcI",
        "outputId": "00a92832-7084-4d8f-ed58-696690404f4f"
      },
      "source": [
        "def myfunc(a,b):\n",
        "    return a+b\n",
        "funcs = [myfunc]\n",
        "funcs[0](2,3)"
      ],
      "execution_count": 1,
      "outputs": [
        {
          "output_type": "execute_result",
          "data": {
            "text/plain": [
              "5"
            ]
          },
          "metadata": {
            "tags": []
          },
          "execution_count": 1
        }
      ]
    },
    {
      "cell_type": "markdown",
      "metadata": {
        "id": "xVKoa2oR7I4J"
      },
      "source": [
        "This feature will allow us to emulate a switch/case statement\n",
        "\n",
        "We can construct a dict with keys as the conditions and values as the handler functions\n",
        "\n",
        "```python\n",
        "func_dict = {\n",
        "    'cond_a': handle_a,\n",
        "    'cond_b' : handle_b,\n",
        "}\n",
        "\n",
        "func_dict[cond]()\n",
        "```\n",
        "But  there is no default condition here\n",
        "\n",
        "One soln is to use `.get(condition)`, if key is not found it will return `None` instead of a `KeyError`\n",
        "\n",
        "Note if you have many conditions this is much more efficient than an if/else statement as in the latter we have to try out all conditions in sequence, here its just a lookup"
      ]
    },
    {
      "cell_type": "code",
      "metadata": {
        "id": "5prRji6s6pMZ"
      },
      "source": [
        "### standard code\n",
        "def dispatch_if(operator, x, y):\n",
        "    if operator == 'add':\n",
        "        return x+y\n",
        "    if operator == 'sub':\n",
        "        return x-y\n",
        "    if operator == 'mul':\n",
        "        return x*y\n",
        "    if operator == 'div':\n",
        "        return x/y\n",
        "    return None"
      ],
      "execution_count": 2,
      "outputs": []
    },
    {
      "cell_type": "markdown",
      "metadata": {
        "id": "lxvx3XUeH6Cc"
      },
      "source": [
        "### Lambda functions\n",
        "\n",
        "A lambda function is a small anonymous function.\n",
        "\n",
        "A lambda function can take any number of arguments, but can only have one expression.\n",
        "\n",
        "`lambda arguments : expression`"
      ]
    },
    {
      "cell_type": "code",
      "metadata": {
        "colab": {
          "base_uri": "https://localhost:8080/"
        },
        "id": "nL6bnXpt-Nf3",
        "outputId": "679b8246-2269-4e5d-832f-a9647b2d0907"
      },
      "source": [
        "x = lambda a : a+10\n",
        "print (x(5))"
      ],
      "execution_count": 3,
      "outputs": [
        {
          "output_type": "stream",
          "text": [
            "15\n"
          ],
          "name": "stdout"
        }
      ]
    },
    {
      "cell_type": "code",
      "metadata": {
        "colab": {
          "base_uri": "https://localhost:8080/"
        },
        "id": "SwNm1jhzID-r",
        "outputId": "2a08315a-219c-4406-f068-3a93faad1b3c"
      },
      "source": [
        "x = lambda a, b : a * b\n",
        "print(x(5, 6))"
      ],
      "execution_count": 4,
      "outputs": [
        {
          "output_type": "stream",
          "text": [
            "30\n"
          ],
          "name": "stdout"
        }
      ]
    },
    {
      "cell_type": "markdown",
      "metadata": {
        "id": "yGw6PMvRINgo"
      },
      "source": [
        "The power of lambda is better shown when you use them as an anonymous function inside another function.\n",
        "\n",
        "Say you have a function definition that takes one argument, and that argument will be multiplied with an unknown number:\n",
        "\n"
      ]
    },
    {
      "cell_type": "markdown",
      "metadata": {
        "id": "DAf72cbAIYe_"
      },
      "source": [
        "Use that function definition to make a function that always doubles the number you send in\n",
        "\n",
        "Or, use the same function definition to make a function that always triples the number you send in\n",
        "Or, use the same function definition to make both functions, in the same program\n",
        "\n",
        "\n"
      ]
    },
    {
      "cell_type": "code",
      "metadata": {
        "colab": {
          "base_uri": "https://localhost:8080/"
        },
        "id": "NMHdGgauIXwY",
        "outputId": "d24fc0ac-bac3-49c6-8d2d-c50da4c03e95"
      },
      "source": [
        "def myfunc(n):\n",
        "  return lambda a : a * n\n",
        "\n",
        "mydoubler = myfunc(2)\n",
        "mytripler = myfunc(3)\n",
        "\n",
        "print(mydoubler(11))\n",
        "print(mytripler(11))"
      ],
      "execution_count": 6,
      "outputs": [
        {
          "output_type": "stream",
          "text": [
            "22\n",
            "33\n"
          ],
          "name": "stdout"
        }
      ]
    },
    {
      "cell_type": "markdown",
      "metadata": {
        "id": "gq6GJ2S5JGqn"
      },
      "source": [
        "### Back to the switch statement problem"
      ]
    },
    {
      "cell_type": "code",
      "metadata": {
        "id": "5JIVWkONJBaE"
      },
      "source": [
        "### standard code\n",
        "def dispatch_if(operator, x, y):\n",
        "    if operator == 'add':\n",
        "        return x+y\n",
        "    if operator == 'sub':\n",
        "        return x-y\n",
        "    if operator == 'mul':\n",
        "        return x*y\n",
        "    if operator == 'div':\n",
        "        return x/y\n",
        "    return None"
      ],
      "execution_count": 7,
      "outputs": []
    },
    {
      "cell_type": "code",
      "metadata": {
        "colab": {
          "base_uri": "https://localhost:8080/"
        },
        "id": "6zGy7SkfJLmf",
        "outputId": "e0b178cf-47a8-4d86-bd67-eabab13a4d74"
      },
      "source": [
        "def dispatch_dict(operator, x, y):\n",
        "    return {\n",
        "        'add': lambda: x+y,\n",
        "        'sub': lambda: x-y,\n",
        "        'mul': lambda: x*y,\n",
        "        'div': lambda: x/y\n",
        "    }.get(operator, None)\n",
        "\n",
        "dispatch_dict('add',4,5)()"
      ],
      "execution_count": 11,
      "outputs": [
        {
          "output_type": "execute_result",
          "data": {
            "text/plain": [
              "9"
            ]
          },
          "metadata": {
            "tags": []
          },
          "execution_count": 11
        }
      ]
    },
    {
      "cell_type": "markdown",
      "metadata": {
        "id": "CzWQoWaBJ9Xl"
      },
      "source": [
        "`dict.get(key[, value])`\n",
        "\n",
        "- value (optional) - Value to be returned if the key is not found. The default value is None.\n",
        "\n",
        "\n",
        "The thing to understand here is that `dispatch_dict` is actually returning a lamda function, so `dispatch_dict('add',4,5)` actually returns the function, we have to () call it to get the value"
      ]
    },
    {
      "cell_type": "markdown",
      "metadata": {
        "id": "mrsmZoGsKPGl"
      },
      "source": [
        "dispatch_dict('abc',4,5)() fails as it returns `None` and we do `None()` and NoneType is not callable"
      ]
    },
    {
      "cell_type": "code",
      "metadata": {
        "colab": {
          "base_uri": "https://localhost:8080/"
        },
        "id": "f4eQveE9JyJw",
        "outputId": "c4828d9d-70a9-4e1d-c420-4172a768941c"
      },
      "source": [
        "def dispatch_dict(operator, x, y):\n",
        "    ### we return the function and call it as well\n",
        "    return {\n",
        "        'add': lambda: x+y,\n",
        "        'sub': lambda: x-y,\n",
        "        'mul': lambda: x*y,\n",
        "        'div': lambda: x/y\n",
        "    }.get(operator, lambda: None)()\n",
        "\n",
        "dispatch_dict('add',4,5)"
      ],
      "execution_count": 12,
      "outputs": [
        {
          "output_type": "execute_result",
          "data": {
            "text/plain": [
              "9"
            ]
          },
          "metadata": {
            "tags": []
          },
          "execution_count": 12
        }
      ]
    },
    {
      "cell_type": "code",
      "metadata": {
        "id": "jxvCnXTcKhsz"
      },
      "source": [
        "dispatch_dict('abc',4,5)"
      ],
      "execution_count": 14,
      "outputs": []
    },
    {
      "cell_type": "code",
      "metadata": {
        "id": "9iqHpXoQKjDG"
      },
      "source": [
        ""
      ],
      "execution_count": null,
      "outputs": []
    }
  ]
}