{
 "cells": [
  {
   "cell_type": "markdown",
   "source": "<a href=\"https://colab.research.google.com/github/ShaunakSen/problem-solving-with-code/blob/master/Improve_Python.ipynb\" target=\"_parent\"><img src=\"https://colab.research.google.com/assets/colab-badge.svg\" alt=\"Open In Colab\"/></a>",
   "metadata": {
    "id": "view-in-github",
    "colab_type": "text",
    "cell_id": "60041462-0e1a-4ec9-bbe6-a950040167de",
    "deepnote_cell_type": "markdown",
    "deepnote_cell_height": 90
   }
  },
  {
   "cell_type": "markdown",
   "source": "## Advanced concepts to improve Python\n\n> Credits: https://www.youtube.com/playlist?list=PLP8GkvaIxJP0VAXF3USi9U4JnpxUvQXHx\n\n### Emulating switch/case Statements in Python with Dictionaries\n\nif/else statements can get really long and complex to read\n\nPython has first class functions, what that basically means is that they are like any other objects",
   "metadata": {
    "id": "AWjOd9Xt6J5f",
    "cell_id": "00001-fa0d8513-f973-4fb5-9f0c-0e5f7568c764",
    "deepnote_cell_type": "markdown",
    "deepnote_cell_height": 229.1999969482422
   }
  },
  {
   "cell_type": "code",
   "metadata": {
    "colab": {
     "base_uri": "https://localhost:8080/"
    },
    "id": "3HH3S3536EcI",
    "outputId": "00a92832-7084-4d8f-ed58-696690404f4f",
    "cell_id": "00002-50cbd843-849c-4bb3-bc67-0fe342b3d653",
    "deepnote_cell_type": "code",
    "deepnote_cell_height": 167,
    "deepnote_output_heights": [
     21
    ]
   },
   "source": "def myfunc(a,b):\n    return a+b\nfuncs = [myfunc]\nfuncs[0](2,3)",
   "outputs": [
    {
     "output_type": "execute_result",
     "data": {
      "text/plain": "5"
     },
     "metadata": {
      "tags": []
     },
     "execution_count": 1
    }
   ],
   "execution_count": null
  },
  {
   "cell_type": "markdown",
   "source": "This feature will allow us to emulate a switch/case statement\n\nWe can construct a dict with keys as the conditions and values as the handler functions\n\n```python\nfunc_dict = {\n    'cond_a': handle_a,\n    'cond_b' : handle_b,\n}\n\nfunc_dict[cond]()\n```\nBut  there is no default condition here\n\nOne soln is to use `.get(condition)`, if key is not found it will return `None` instead of a `KeyError`\n\nNote if you have many conditions this is much more efficient than an if/else statement as in the latter we have to try out all conditions in sequence, here its just a lookup",
   "metadata": {
    "id": "xVKoa2oR7I4J",
    "cell_id": "00003-1c68e86c-98be-4ecf-a933-f3f2c493b6e1",
    "deepnote_cell_type": "markdown",
    "deepnote_cell_height": 374.79998779296875
   }
  },
  {
   "cell_type": "code",
   "metadata": {
    "id": "5prRji6s6pMZ",
    "cell_id": "00004-a864145f-05d7-4585-9dda-ab133cd7c37f",
    "deepnote_cell_type": "code",
    "deepnote_cell_height": 241
   },
   "source": "### standard code\ndef dispatch_if(operator, x, y):\n    if operator == 'add':\n        return x+y\n    if operator == 'sub':\n        return x-y\n    if operator == 'mul':\n        return x*y\n    if operator == 'div':\n        return x/y\n    return None",
   "outputs": [],
   "execution_count": null
  },
  {
   "cell_type": "markdown",
   "source": "### Lambda functions\n\nA lambda function is a small anonymous function.\n\nA lambda function can take any number of arguments, but can only have one expression.\n\n`lambda arguments : expression`",
   "metadata": {
    "id": "lxvx3XUeH6Cc",
    "cell_id": "00005-f9bbd1f0-e363-4e8a-89bb-0801e79fda82",
    "deepnote_cell_type": "markdown",
    "deepnote_cell_height": 173.1999969482422
   }
  },
  {
   "cell_type": "code",
   "metadata": {
    "colab": {
     "base_uri": "https://localhost:8080/"
    },
    "id": "nL6bnXpt-Nf3",
    "outputId": "679b8246-2269-4e5d-832f-a9647b2d0907",
    "cell_id": "00006-3bf37327-d776-43eb-bc53-b169e465cd83",
    "deepnote_cell_type": "code",
    "deepnote_cell_height": 124.69999694824219
   },
   "source": "x = lambda a : a+10\nprint (x(5))",
   "outputs": [
    {
     "output_type": "stream",
     "text": "15\n",
     "name": "stdout"
    }
   ],
   "execution_count": null
  },
  {
   "cell_type": "code",
   "metadata": {
    "colab": {
     "base_uri": "https://localhost:8080/"
    },
    "id": "SwNm1jhzID-r",
    "outputId": "2a08315a-219c-4406-f068-3a93faad1b3c",
    "cell_id": "00007-b1c743e4-dcc1-4ecf-834c-4548beb4e854",
    "deepnote_cell_type": "code",
    "deepnote_cell_height": 124.69999694824219
   },
   "source": "x = lambda a, b : a * b\nprint(x(5, 6))",
   "outputs": [
    {
     "output_type": "stream",
     "text": "30\n",
     "name": "stdout"
    }
   ],
   "execution_count": null
  },
  {
   "cell_type": "markdown",
   "source": "The power of lambda is better shown when you use them as an anonymous function inside another function.\n\nSay you have a function definition that takes one argument, and that argument will be multiplied with an unknown number:\n\n",
   "metadata": {
    "id": "yGw6PMvRINgo",
    "cell_id": "00008-127d5ffc-5086-46b2-9118-84b038bece67",
    "deepnote_cell_type": "markdown",
    "deepnote_cell_height": 88.80000305175781
   }
  },
  {
   "cell_type": "markdown",
   "source": "Use that function definition to make a function that always doubles the number you send in\n\nOr, use the same function definition to make a function that always triples the number you send in\nOr, use the same function definition to make both functions, in the same program\n\n\n",
   "metadata": {
    "id": "DAf72cbAIYe_",
    "cell_id": "00009-50e6d9f2-a31a-4549-b5af-0d7ee8e10ba4",
    "deepnote_cell_type": "markdown",
    "deepnote_cell_height": 111.19999694824219
   }
  },
  {
   "cell_type": "code",
   "metadata": {
    "colab": {
     "base_uri": "https://localhost:8080/"
    },
    "id": "NMHdGgauIXwY",
    "outputId": "d24fc0ac-bac3-49c6-8d2d-c50da4c03e95",
    "cell_id": "00010-ec353674-a15f-4870-b397-200c30ea0893",
    "deepnote_cell_type": "code",
    "deepnote_cell_height": 252.39999389648438
   },
   "source": "def myfunc(n):\n  return lambda a : a * n\n\nmydoubler = myfunc(2)\nmytripler = myfunc(3)\n\nprint(mydoubler(11))\nprint(mytripler(11))",
   "outputs": [
    {
     "output_type": "stream",
     "text": "22\n33\n",
     "name": "stdout"
    }
   ],
   "execution_count": null
  },
  {
   "cell_type": "markdown",
   "source": "### Back to the switch statement problem",
   "metadata": {
    "id": "gq6GJ2S5JGqn",
    "cell_id": "00011-7b7d365e-0d83-4691-94b7-df22c3b7c5be",
    "deepnote_cell_type": "markdown",
    "deepnote_cell_height": 62
   }
  },
  {
   "cell_type": "code",
   "metadata": {
    "id": "5JIVWkONJBaE",
    "cell_id": "00012-9778622d-7ef6-4b0c-944c-f7cd624bb857",
    "deepnote_cell_type": "code",
    "deepnote_cell_height": 241
   },
   "source": "### standard code\ndef dispatch_if(operator, x, y):\n    if operator == 'add':\n        return x+y\n    if operator == 'sub':\n        return x-y\n    if operator == 'mul':\n        return x*y\n    if operator == 'div':\n        return x/y\n    return None",
   "outputs": [],
   "execution_count": null
  },
  {
   "cell_type": "code",
   "metadata": {
    "colab": {
     "base_uri": "https://localhost:8080/"
    },
    "id": "6zGy7SkfJLmf",
    "outputId": "e0b178cf-47a8-4d86-bd67-eabab13a4d74",
    "cell_id": "00013-3db7ca4d-090a-4b63-ac58-08aa7b38a960",
    "deepnote_cell_type": "code",
    "deepnote_cell_height": 257,
    "deepnote_output_heights": [
     21
    ]
   },
   "source": "def dispatch_dict(operator, x, y):\n    return {\n        'add': lambda: x+y,\n        'sub': lambda: x-y,\n        'mul': lambda: x*y,\n        'div': lambda: x/y\n    }.get(operator, None)\n\ndispatch_dict('add',4,5)()",
   "outputs": [
    {
     "output_type": "execute_result",
     "data": {
      "text/plain": "9"
     },
     "metadata": {
      "tags": []
     },
     "execution_count": 11
    }
   ],
   "execution_count": null
  },
  {
   "cell_type": "markdown",
   "source": "`dict.get(key[, value])`\n\n- value (optional) - Value to be returned if the key is not found. The default value is None.\n\n\nThe thing to understand here is that `dispatch_dict` is actually returning a lamda function, so `dispatch_dict('add',4,5)` actually returns the function, we have to () call it to get the value",
   "metadata": {
    "id": "CzWQoWaBJ9Xl",
    "cell_id": "00014-7998cceb-ae90-4c06-a5b3-866a22b76ff2",
    "deepnote_cell_type": "markdown",
    "deepnote_cell_height": 147.60000610351562
   }
  },
  {
   "cell_type": "markdown",
   "source": "dispatch_dict('abc',4,5)() fails as it returns `None` and we do `None()` and NoneType is not callable",
   "metadata": {
    "id": "mrsmZoGsKPGl",
    "cell_id": "00015-57c1ac8a-6bf3-4626-a01a-eb2428d0aaa7",
    "deepnote_cell_type": "markdown",
    "deepnote_cell_height": 52.399993896484375
   }
  },
  {
   "cell_type": "code",
   "metadata": {
    "colab": {
     "base_uri": "https://localhost:8080/"
    },
    "id": "f4eQveE9JyJw",
    "outputId": "c4828d9d-70a9-4e1d-c420-4172a768941c",
    "cell_id": "00016-ff64ad32-857b-4fe4-ab5a-2b70f41e43b2",
    "deepnote_cell_type": "code",
    "deepnote_cell_height": 275,
    "deepnote_output_heights": [
     21
    ]
   },
   "source": "def dispatch_dict(operator, x, y):\n    ### we return the function and call it as well\n    return {\n        'add': lambda: x+y,\n        'sub': lambda: x-y,\n        'mul': lambda: x*y,\n        'div': lambda: x/y\n    }.get(operator, lambda: None)()\n\ndispatch_dict('add',4,5)",
   "outputs": [
    {
     "output_type": "execute_result",
     "data": {
      "text/plain": "9"
     },
     "metadata": {
      "tags": []
     },
     "execution_count": 12
    }
   ],
   "execution_count": null
  },
  {
   "cell_type": "code",
   "metadata": {
    "id": "jxvCnXTcKhsz",
    "cell_id": "00017-f93d7980-a56a-448a-8ad9-e76adc7a4df9",
    "deepnote_cell_type": "code",
    "deepnote_cell_height": 61
   },
   "source": "dispatch_dict('abc',4,5)",
   "outputs": [],
   "execution_count": null
  },
  {
   "cell_type": "markdown",
   "source": "## Using `defaultdict` in python\n\n> https://realpython.com/python-defaultdict/\n\n---\n\n### Handling Missing Keys in Dictionaries\n\n\nA common issue that you can face when working with Python dictionaries is how to handle missing keys. If your code is heavily based on dictionaries, or if you’re creating dictionaries on the fly all the time, then you’ll soon notice that dealing with frequent KeyError exceptions can be quite annoying and can add extra complexity to your code. With Python dictionaries, you have at least four available ways to handle missing keys:\n\n1. Use .setdefault()\n2. Use .get()\n3. Use the key in dict idiom\n4. Use a try and except block\n\n\n`setdefault(key[, default])`\n\n> If key is in the dictionary, return its value. If not, insert key with a value of default and return default. default defaults to None.\n\n",
   "metadata": {
    "cell_id": "44b66ee9fa464164ba0d86c276e628ce",
    "tags": [],
    "deepnote_cell_type": "markdown",
    "deepnote_cell_height": 460.8999938964844
   }
  },
  {
   "cell_type": "code",
   "source": "a_dict = {}\na_dict['missing_key']",
   "metadata": {
    "cell_id": "fb45140c065a444b9ff7577931a4100c",
    "tags": [],
    "deepnote_to_be_reexecuted": false,
    "source_hash": "155cccdf",
    "execution_start": 1660498462325,
    "execution_millis": 452,
    "deepnote_cell_type": "code",
    "deepnote_cell_height": 157.1999969482422
   },
   "outputs": [
    {
     "output_type": "error",
     "ename": "KeyError",
     "evalue": "'missing_key'",
     "traceback": [
      "\u001b[0;31m---------------------------------------------------------------------------\u001b[0m",
      "\u001b[0;31mKeyError\u001b[0m                                  Traceback (most recent call last)",
      "\u001b[0;32m/tmp/ipykernel_74/2733440260.py\u001b[0m in \u001b[0;36m<module>\u001b[0;34m\u001b[0m\n\u001b[1;32m      1\u001b[0m \u001b[0ma_dict\u001b[0m \u001b[0;34m=\u001b[0m \u001b[0;34m{\u001b[0m\u001b[0;34m}\u001b[0m\u001b[0;34m\u001b[0m\u001b[0;34m\u001b[0m\u001b[0m\n\u001b[0;32m----> 2\u001b[0;31m \u001b[0ma_dict\u001b[0m\u001b[0;34m[\u001b[0m\u001b[0;34m'missing_key'\u001b[0m\u001b[0;34m]\u001b[0m\u001b[0;34m\u001b[0m\u001b[0;34m\u001b[0m\u001b[0m\n\u001b[0m",
      "\u001b[0;31mKeyError\u001b[0m: 'missing_key'"
     ]
    }
   ],
   "execution_count": 2
  },
  {
   "cell_type": "code",
   "source": "a_dict.setdefault('missing_key', 'hello mini')",
   "metadata": {
    "cell_id": "2f64a7d20d1f43c79bbf003bfdd5a979",
    "tags": [],
    "deepnote_to_be_reexecuted": false,
    "source_hash": "2c7cf053",
    "execution_start": 1660498470791,
    "execution_millis": 642,
    "deepnote_cell_type": "code",
    "deepnote_cell_height": 113,
    "deepnote_output_heights": [
     21
    ]
   },
   "outputs": [
    {
     "output_type": "execute_result",
     "execution_count": 3,
     "data": {
      "text/plain": "'hello mini'"
     },
     "metadata": {}
    }
   ],
   "execution_count": 3
  },
  {
   "cell_type": "code",
   "source": "a_dict['missing_key']",
   "metadata": {
    "cell_id": "bb09ab9b380847068c95ff51a04a371f",
    "tags": [],
    "deepnote_to_be_reexecuted": false,
    "source_hash": "55fed055",
    "execution_start": 1660498473023,
    "execution_millis": 18,
    "deepnote_cell_type": "code",
    "deepnote_cell_height": 113,
    "deepnote_output_heights": [
     21
    ]
   },
   "outputs": [
    {
     "output_type": "execute_result",
     "execution_count": 4,
     "data": {
      "text/plain": "'hello mini'"
     },
     "metadata": {}
    }
   ],
   "execution_count": 4
  },
  {
   "cell_type": "code",
   "source": "a_dict.setdefault('missing_key_2', 'hello mini again')",
   "metadata": {
    "cell_id": "750db17e1aa24baf8ba2627039f98e38",
    "tags": [],
    "deepnote_to_be_reexecuted": false,
    "source_hash": "18d9192c",
    "execution_start": 1660498473675,
    "execution_millis": 818,
    "deepnote_cell_type": "code",
    "deepnote_cell_height": 113,
    "deepnote_output_heights": [
     21
    ]
   },
   "outputs": [
    {
     "output_type": "execute_result",
     "execution_count": 5,
     "data": {
      "text/plain": "'hello mini again'"
     },
     "metadata": {}
    }
   ],
   "execution_count": 5
  },
  {
   "cell_type": "code",
   "source": "a_dict['missing_key_2']",
   "metadata": {
    "cell_id": "07d273a8a8184f129f4766050647010e",
    "tags": [],
    "deepnote_to_be_reexecuted": false,
    "source_hash": "e638854d",
    "execution_start": 1660498474482,
    "execution_millis": 29,
    "deepnote_cell_type": "code",
    "deepnote_cell_height": 113,
    "deepnote_output_heights": [
     21
    ]
   },
   "outputs": [
    {
     "output_type": "execute_result",
     "execution_count": 6,
     "data": {
      "text/plain": "'hello mini again'"
     },
     "metadata": {}
    }
   ],
   "execution_count": 6
  },
  {
   "cell_type": "code",
   "source": "a_dict.setdefault('missing_key', 'hello shona')\na_dict['missing_key'] ### no change",
   "metadata": {
    "cell_id": "1083e410c6ea42ba82b849814c2f2cf9",
    "tags": [],
    "deepnote_to_be_reexecuted": false,
    "source_hash": "d022568a",
    "execution_start": 1660498475425,
    "execution_millis": 1,
    "deepnote_cell_type": "code",
    "deepnote_cell_height": 131,
    "deepnote_output_heights": [
     21
    ]
   },
   "outputs": [
    {
     "output_type": "execute_result",
     "execution_count": 7,
     "data": {
      "text/plain": "'hello mini'"
     },
     "metadata": {}
    }
   ],
   "execution_count": 7
  },
  {
   "cell_type": "markdown",
   "source": "In the above code, you use .setdefault() to generate a default value for missing_key. Notice that your dictionary, a_dict, now has a new key called missing_key whose value is 'default value'. This key didn’t exist before you called .setdefault(). Finally, if you call .setdefault() on an existing key, then the call won’t have any effect on the dictionary. Your key will hold the original value instead of the new default value.\n\n",
   "metadata": {
    "cell_id": "bdeab4134cbe4d03a4882bcf2406fa5c",
    "tags": [],
    "deepnote_cell_type": "markdown",
    "deepnote_cell_height": 119.60000610351562
   }
  },
  {
   "cell_type": "code",
   "source": "a_dict = {}\na_dict.get('missing_key', 'not found')",
   "metadata": {
    "cell_id": "e27da1b2702744bc919ca6f933d0ed62",
    "tags": [],
    "deepnote_to_be_reexecuted": false,
    "source_hash": "81b5c134",
    "execution_start": 1660498497679,
    "execution_millis": 4,
    "deepnote_cell_type": "code",
    "deepnote_cell_height": 131,
    "deepnote_output_heights": [
     21
    ]
   },
   "outputs": [
    {
     "output_type": "execute_result",
     "execution_count": 8,
     "data": {
      "text/plain": "'not found'"
     },
     "metadata": {}
    }
   ],
   "execution_count": 8
  },
  {
   "cell_type": "code",
   "source": "a_dict",
   "metadata": {
    "cell_id": "a8a899e810d64660a6f26e5c169bad35",
    "tags": [],
    "deepnote_to_be_reexecuted": false,
    "source_hash": "6f00558d",
    "execution_start": 1660498497818,
    "execution_millis": 6,
    "deepnote_cell_type": "code",
    "deepnote_cell_height": 113,
    "deepnote_output_heights": [
     21
    ]
   },
   "outputs": [
    {
     "output_type": "execute_result",
     "execution_count": 9,
     "data": {
      "text/plain": "{}"
     },
     "metadata": {}
    }
   ],
   "execution_count": 9
  },
  {
   "cell_type": "markdown",
   "source": "Here, you use .get() to generate a default value for missing_key, but this time, your dictionary stays empty. This is because .get() returns the default value, but this value isn’t added to the underlying dictionary. For example, if you have a dictionary called D, then you can assume that .get() works something like this:\n\n`D.get(key, default) -> D[key] if key in D, else default`\n\nWith this pseudo-code, you can understand how .get() works internally. __If the key exists, then .get() returns the value mapped to that key. Otherwise, the default value is returned. Your code never creates or assigns a value to key. In this example, default defaults to None.__\n\nYou can also use conditional statements to handle missing keys in dictionaries. Take a look at the following example, which uses the key in dict idiom:\n\n```python\n>>> a_dict = {}\n>>> if 'key' in a_dict:\n...     # Do something with 'key'...\n...     a_dict['key']\n... else:\n...     a_dict['key'] = 'default value'\n...\n>>> a_dict\n{'key': 'default value'}\n```\n\nIn this code, you use an if statement along with the in operator to check if key is present in a_dict. If so, then you can perform any action with key or with its value. Otherwise, you create the new key, key, and assign it a 'default value'. Note that the above code works similar to .setdefault() but takes four lines of code, while .setdefault() would only take one line (in addition to being more readable).\n\nYou can also walk around the KeyError by using a try and except block to handle the exception. Consider the following piece of code:\n\n```python\n>>> a_dict = {}\n>>> try:\n...     # Do something with 'key'...\n...     a_dict['key']\n... except KeyError:\n...     a_dict['key'] = 'default value'\n...\n>>> a_dict\n{'key': 'default value'}\n```\n\n",
   "metadata": {
    "cell_id": "ce607790147640b193594fa2c97d455a",
    "tags": [],
    "deepnote_cell_type": "markdown",
    "deepnote_cell_height": 893.2000122070312
   }
  },
  {
   "cell_type": "markdown",
   "source": "### Understanding the Python defaultdict Type\n\nThe Python standard library provides collections, which is a module that implements specialized container types. One of those is the Python defaultdict type, which is an alternative to dict that’s specifically designed to help you out with missing keys. defaultdict is a Python type that inherits from dict:\n\n",
   "metadata": {
    "cell_id": "3cd9aa9936604509af77cf802523a127",
    "tags": [],
    "deepnote_cell_type": "markdown",
    "deepnote_cell_height": 145.1999969482422
   }
  },
  {
   "cell_type": "code",
   "source": "from collections import defaultdict",
   "metadata": {
    "cell_id": "290ec8570bee44afba6ad24f1adabe3a",
    "tags": [],
    "deepnote_to_be_reexecuted": false,
    "source_hash": "c9c34eef",
    "execution_start": 1660498511952,
    "execution_millis": 3,
    "deepnote_cell_type": "code",
    "deepnote_cell_height": 76
   },
   "outputs": [],
   "execution_count": 10
  },
  {
   "cell_type": "code",
   "source": "print (issubclass(defaultdict, dict))",
   "metadata": {
    "cell_id": "29199e4609544c6f8c9f6f382ea38613",
    "tags": [],
    "deepnote_to_be_reexecuted": false,
    "source_hash": "cab50f25",
    "execution_start": 1660498545591,
    "execution_millis": 4,
    "deepnote_cell_type": "code",
    "deepnote_cell_height": 106.69999694824219
   },
   "outputs": [
    {
     "name": "stdout",
     "text": "True\n",
     "output_type": "stream"
    }
   ],
   "execution_count": 11
  },
  {
   "cell_type": "markdown",
   "source": "The above code shows that the Python defaultdict type is a subclass of dict. This means that defaultdict inherits most of the behavior of dict. So, you can say that defaultdict is much like an ordinary dictionary.\n\nThe main difference between defaultdict and dict is that when you try to access or modify a key that’s not present in the dictionary, a default value is automatically given to that key. In order to provide this functionality, the Python defaultdict type does two things:\n\n1. It overrides `.__missing__()`.\n2. It adds .default_factory, a writable instance variable that needs to be provided at the time of instantiation.\n\n\nThe instance variable .default_factory will hold the first argument passed into `defaultdict.__init__()`. This argument can take a valid Python callable or None. If a callable is provided, then it’ll automatically be called by defaultdict whenever you try to access or modify the value associated with a missing key.\n\nTake a look at how you can create and properly initialize a defaultdict:\n\n\n\n",
   "metadata": {
    "cell_id": "304b8af1503341619be568454a4b33f0",
    "tags": [],
    "deepnote_cell_type": "markdown",
    "deepnote_cell_height": 335.3999938964844
   }
  },
  {
   "cell_type": "code",
   "source": "def_dict = defaultdict(list)  # Pass list to .default_factory",
   "metadata": {
    "cell_id": "da3a6189d8e7434b8116f58dd1e12923",
    "tags": [],
    "deepnote_to_be_reexecuted": false,
    "source_hash": "2727e6c8",
    "execution_start": 1660498884350,
    "execution_millis": 0,
    "deepnote_cell_type": "code",
    "deepnote_cell_height": 76
   },
   "outputs": [],
   "execution_count": 19
  },
  {
   "cell_type": "code",
   "source": "def_dict['one'] = 1 # Add a key-value pair",
   "metadata": {
    "cell_id": "ae62a3f3b0254d36ba685714ad9458d0",
    "tags": [],
    "deepnote_to_be_reexecuted": false,
    "source_hash": "74b21d1d",
    "execution_start": 1660498884475,
    "execution_millis": 1,
    "deepnote_cell_type": "code",
    "deepnote_cell_height": 76
   },
   "outputs": [],
   "execution_count": 20
  },
  {
   "cell_type": "code",
   "source": "def_dict['missing'] # Access a missing key returns an empty list",
   "metadata": {
    "cell_id": "66117cdb017c41a5a71d092382fdb98f",
    "tags": [],
    "deepnote_to_be_reexecuted": false,
    "source_hash": "694280f7",
    "execution_start": 1660498885305,
    "execution_millis": 1,
    "deepnote_cell_type": "code",
    "deepnote_cell_height": 113,
    "deepnote_output_heights": [
     21
    ]
   },
   "outputs": [
    {
     "output_type": "execute_result",
     "execution_count": 21,
     "data": {
      "text/plain": "[]"
     },
     "metadata": {}
    }
   ],
   "execution_count": 21
  },
  {
   "cell_type": "markdown",
   "source": "This also creates an entry for `{'missing': []}` in the `def_dict`",
   "metadata": {
    "cell_id": "3cfa34a02397427b9668329b837fb571",
    "tags": [],
    "deepnote_cell_type": "markdown",
    "deepnote_cell_height": 52.399993896484375
   }
  },
  {
   "cell_type": "code",
   "source": "def_dict",
   "metadata": {
    "cell_id": "d5ad7c8163124b3c8df4cae71422ce1d",
    "tags": [],
    "deepnote_to_be_reexecuted": false,
    "source_hash": "3df18de6",
    "execution_start": 1660498888499,
    "execution_millis": 2,
    "deepnote_cell_type": "code",
    "deepnote_cell_height": 113,
    "deepnote_output_heights": [
     21
    ]
   },
   "outputs": [
    {
     "output_type": "execute_result",
     "execution_count": 22,
     "data": {
      "text/plain": "defaultdict(list, {'one': 1, 'missing': []})"
     },
     "metadata": {}
    }
   ],
   "execution_count": 22
  },
  {
   "cell_type": "code",
   "source": "def_dict['another_missing'].append(4)  # Modify a missing key",
   "metadata": {
    "cell_id": "52e6379524924a24ab1666f25cf1545c",
    "tags": [],
    "deepnote_to_be_reexecuted": false,
    "source_hash": "58a315ae",
    "execution_start": 1660498897594,
    "execution_millis": 0,
    "deepnote_cell_type": "code",
    "deepnote_cell_height": 76
   },
   "outputs": [],
   "execution_count": 23
  },
  {
   "cell_type": "code",
   "source": "def_dict",
   "metadata": {
    "cell_id": "a73524470a5d49cf872ce1eec94d2eef",
    "tags": [],
    "deepnote_to_be_reexecuted": false,
    "source_hash": "3df18de6",
    "execution_start": 1660498901088,
    "execution_millis": 10,
    "deepnote_cell_type": "code",
    "deepnote_cell_height": 113,
    "deepnote_output_heights": [
     21
    ]
   },
   "outputs": [
    {
     "output_type": "execute_result",
     "execution_count": 24,
     "data": {
      "text/plain": "defaultdict(list, {'one': 1, 'missing': [], 'another_missing': [4]})"
     },
     "metadata": {}
    }
   ],
   "execution_count": 24
  },
  {
   "cell_type": "markdown",
   "source": "Here, you pass list to .default_factory when you create the dictionary. Then, you use def_dict just like a regular dictionary. Note that when you try to access or modify the value mapped to a non-existent key, the dictionary assigns it the default value that results from calling list().\n\n### Using the Python defaultdict Type\n\n__Grouping Items__\n\nA typical use of the Python defaultdict type is to set .default_factory to list and then build a dictionary that maps keys to lists of values. With this defaultdict, if you try to get access to any missing key, then the dictionary runs the following steps:\n\n1. Call list() to create a new empty list\n2. Insert the empty list into the dictionary using the missing key as key\n3. Return a reference to that list\n\nThis allows you to write code like this:\n\n",
   "metadata": {
    "cell_id": "af844bb33b0347a8bb8dab0384407642",
    "tags": [],
    "deepnote_cell_type": "markdown",
    "deepnote_cell_height": 364
   }
  },
  {
   "cell_type": "code",
   "source": "dd = defaultdict(list)\ndd['key'].append(1)",
   "metadata": {
    "cell_id": "13b24bae15d7468c9466456d73a0c9ae",
    "tags": [],
    "deepnote_to_be_reexecuted": false,
    "source_hash": "a2349128",
    "execution_start": 1660499185766,
    "execution_millis": 2,
    "deepnote_cell_type": "code",
    "deepnote_cell_height": 94
   },
   "outputs": [],
   "execution_count": 25
  },
  {
   "cell_type": "code",
   "source": "dd",
   "metadata": {
    "cell_id": "8a2375ffd9d2411eab784f3cb9b0405f",
    "tags": [],
    "deepnote_to_be_reexecuted": false,
    "source_hash": "e8cb3873",
    "execution_start": 1660499188070,
    "execution_millis": 8,
    "deepnote_cell_type": "code",
    "deepnote_cell_height": 113,
    "deepnote_output_heights": [
     21
    ]
   },
   "outputs": [
    {
     "output_type": "execute_result",
     "execution_count": 26,
     "data": {
      "text/plain": "defaultdict(list, {'key': [1]})"
     },
     "metadata": {}
    }
   ],
   "execution_count": 26
  },
  {
   "cell_type": "code",
   "source": "dd['key'].append(2)",
   "metadata": {
    "cell_id": "d9bbaba016dc44df89ecf82b40283dc6",
    "tags": [],
    "deepnote_to_be_reexecuted": false,
    "source_hash": "70917fa6",
    "execution_start": 1660499204644,
    "execution_millis": 3,
    "deepnote_cell_type": "code",
    "deepnote_cell_height": 76,
    "deepnote_output_heights": [
     21
    ]
   },
   "outputs": [],
   "execution_count": 28
  },
  {
   "cell_type": "code",
   "source": "dd",
   "metadata": {
    "cell_id": "0c3daef486ba4101bf8b68b75352e48b",
    "tags": [],
    "deepnote_to_be_reexecuted": false,
    "source_hash": "e8cb3873",
    "execution_start": 1660499206789,
    "execution_millis": 4,
    "deepnote_cell_type": "code",
    "deepnote_cell_height": 113,
    "deepnote_output_heights": [
     21
    ]
   },
   "outputs": [
    {
     "output_type": "execute_result",
     "execution_count": 29,
     "data": {
      "text/plain": "defaultdict(list, {'key': [1, 2]})"
     },
     "metadata": {}
    }
   ],
   "execution_count": 29
  },
  {
   "cell_type": "code",
   "source": "dd['key'].append(3)\ndd",
   "metadata": {
    "cell_id": "e486e4d6ed8b4415b4c3b6bcddd56772",
    "tags": [],
    "deepnote_to_be_reexecuted": false,
    "source_hash": "cc5e4f78",
    "execution_start": 1660499217647,
    "execution_millis": 8,
    "deepnote_cell_type": "code",
    "deepnote_cell_height": 131,
    "deepnote_output_heights": [
     21
    ]
   },
   "outputs": [
    {
     "output_type": "execute_result",
     "execution_count": 30,
     "data": {
      "text/plain": "defaultdict(list, {'key': [1, 2, 3]})"
     },
     "metadata": {}
    }
   ],
   "execution_count": 30
  },
  {
   "cell_type": "markdown",
   "source": "Here, you create a Python defaultdict called dd and pass list to .default_factory. Notice that even when key isn’t defined, you can append values to it without getting a KeyError. That’s because dd automatically calls .default_factory to generate a default value for the missing key.\n\nYou can use defaultdict along with list to group the items in a sequence or a collection. Suppose that you’ve retrieved the following data from your company’s database:\n\n![Imgur](https://i.imgur.com/LmGgVWn.png)\n\nWith this data, you create an initial list of tuple objects like the following:\n\n",
   "metadata": {
    "cell_id": "f443b10c480a49b69d9b4fc1b42db458",
    "tags": [],
    "deepnote_cell_type": "markdown",
    "deepnote_cell_height": 649.7999877929688
   }
  },
  {
   "cell_type": "code",
   "source": "dep = [('Sales', 'John Doe'),\n       ('Sales', 'Martin Smith'),\n       ('Accounting', 'Jane Doe'),\n       ('Marketing', 'Elizabeth Smith'),\n       ('Marketing', 'Adam Doe')]",
   "metadata": {
    "cell_id": "e567a9af666e4504a9fa554790bfa48b",
    "tags": [],
    "deepnote_to_be_reexecuted": false,
    "source_hash": "cbb14508",
    "execution_start": 1660499402853,
    "execution_millis": 1,
    "deepnote_cell_type": "code",
    "deepnote_cell_height": 148
   },
   "outputs": [],
   "execution_count": 31
  },
  {
   "cell_type": "code",
   "source": "dep_dd = defaultdict(list)\n\nfor dep_, name_ in dep:\n    dep_dd[dep_].append(name_)\n\ndep_dd",
   "metadata": {
    "cell_id": "6f65942662c74638a7f2723abc0e3abc",
    "tags": [],
    "deepnote_to_be_reexecuted": false,
    "source_hash": "9c409b78",
    "execution_start": 1660499448152,
    "execution_millis": 5,
    "deepnote_cell_type": "code",
    "deepnote_cell_height": 261,
    "deepnote_output_heights": [
     79
    ]
   },
   "outputs": [
    {
     "output_type": "execute_result",
     "execution_count": 32,
     "data": {
      "text/plain": "defaultdict(list,\n            {'Sales': ['John Doe', 'Martin Smith'],\n             'Accounting': ['Jane Doe'],\n             'Marketing': ['Elizabeth Smith', 'Adam Doe']})"
     },
     "metadata": {}
    }
   ],
   "execution_count": 32
  },
  {
   "cell_type": "markdown",
   "source": "> This code is straightforward, and you’ll find similar code quite often in your work as a Python coder. However, the defaultdict version is arguably more readable, and for large datasets, it can also be a lot faster and more efficient. __So, if speed is a concern for you, then you should consider using a defaultdict instead of a standard dict.__\n\n",
   "metadata": {
    "cell_id": "6f2e994f9abf4e0cadecb1dda55a1585",
    "tags": [],
    "deepnote_cell_type": "markdown",
    "deepnote_cell_height": 111.19999694824219
   }
  },
  {
   "cell_type": "markdown",
   "source": "__Grouping Unique Items__:\n\nContinue working with the data of departments and employees from the previous section. After some processing, you realize that a few employees have been duplicated in the database by mistake. You need to clean up the data and remove the duplicated employees from your dep_dd dictionary. To do this, you can use a set as the .default_factory and rewrite your code as follows:\n\n",
   "metadata": {
    "cell_id": "432c9b396d874a98828dbfbae0d73679",
    "tags": [],
    "deepnote_cell_type": "markdown",
    "deepnote_cell_height": 133.60000610351562
   }
  },
  {
   "cell_type": "code",
   "source": "dep = [('Sales', 'John Doe'),\n       ('Sales', 'Martin Smith'),\n       ('Accounting', 'Jane Doe'),\n       ('Marketing', 'Elizabeth Smith'),\n       ('Marketing', 'Elizabeth Smith'),\n       ('Marketing', 'Adam Doe'),\n       ('Marketing', 'Adam Doe'),\n       ('Marketing', 'Adam Doe')]",
   "metadata": {
    "cell_id": "b1a57872ddbb4c67a4988d794d348e7e",
    "tags": [],
    "deepnote_to_be_reexecuted": false,
    "source_hash": "1d0fa8d5",
    "execution_start": 1660499659273,
    "execution_millis": 1,
    "deepnote_cell_type": "code",
    "deepnote_cell_height": 202
   },
   "outputs": [],
   "execution_count": 33
  },
  {
   "cell_type": "code",
   "source": "dep_dd = defaultdict(set)\n\nfor dep_, name_ in dep:\n    dep_dd[dep_].add(name_)\n\ndep_dd",
   "metadata": {
    "cell_id": "45552ee2dfb546be8ff806330951dc9c",
    "tags": [],
    "deepnote_to_be_reexecuted": false,
    "source_hash": "3dda7d98",
    "execution_start": 1660499691550,
    "execution_millis": 22,
    "deepnote_cell_type": "code",
    "deepnote_cell_height": 261,
    "deepnote_output_heights": [
     79
    ]
   },
   "outputs": [
    {
     "output_type": "execute_result",
     "execution_count": 35,
     "data": {
      "text/plain": "defaultdict(set,\n            {'Sales': {'John Doe', 'Martin Smith'},\n             'Accounting': {'Jane Doe'},\n             'Marketing': {'Adam Doe', 'Elizabeth Smith'}})"
     },
     "metadata": {}
    }
   ],
   "execution_count": 35
  },
  {
   "cell_type": "markdown",
   "source": "__Counting Items__\n\nIf you set .default_factory to int, then your defaultdict will be useful for counting the items in a sequence or collection. When you call int() with no arguments, the function returns 0, which is the typical value you’d use to initialize a counter.\n\nTo continue with the example of the company database, suppose you want to build a dictionary that counts the number of employees per department. In this case, you can code something like this:\n\n\n",
   "metadata": {
    "cell_id": "c76771ecec5543c5b5ac196c23824f5b",
    "tags": [],
    "deepnote_cell_type": "markdown",
    "deepnote_cell_height": 170
   }
  },
  {
   "cell_type": "code",
   "source": "dep = [('Sales', 'John Doe'),\n       ('Sales', 'Martin Smith'),\n       ('Accounting', 'Jane Doe'),\n       ('Marketing', 'Elizabeth Smith'),\n       ('Marketing', 'Adam Doe')]",
   "metadata": {
    "cell_id": "889b498564e04e66bb08e60ecec52807",
    "tags": [],
    "deepnote_to_be_reexecuted": false,
    "source_hash": "cbb14508",
    "execution_start": 1660499773547,
    "execution_millis": 0,
    "deepnote_cell_type": "code",
    "deepnote_cell_height": 148
   },
   "outputs": [],
   "execution_count": 36
  },
  {
   "cell_type": "code",
   "source": "dd = defaultdict(int)\n\ndd",
   "metadata": {
    "cell_id": "bf9e42013a8a46e9928461b2f9542a0c",
    "tags": [],
    "deepnote_to_be_reexecuted": false,
    "source_hash": "c844cc8f",
    "execution_start": 1660499796285,
    "execution_millis": 2,
    "deepnote_cell_type": "code",
    "deepnote_cell_height": 149,
    "deepnote_output_heights": [
     21
    ]
   },
   "outputs": [
    {
     "output_type": "execute_result",
     "execution_count": 39,
     "data": {
      "text/plain": "defaultdict(int, {})"
     },
     "metadata": {}
    }
   ],
   "execution_count": 39
  },
  {
   "cell_type": "code",
   "source": "for dep_, name_ in dep:\n    dd[dep_]+=1",
   "metadata": {
    "cell_id": "4851a17729394394ba0c4a4df881a760",
    "tags": [],
    "deepnote_to_be_reexecuted": false,
    "source_hash": "2107049c",
    "execution_start": 1660499843355,
    "execution_millis": 4,
    "deepnote_cell_type": "code",
    "deepnote_cell_height": 94,
    "deepnote_output_heights": [
     21
    ]
   },
   "outputs": [],
   "execution_count": 41
  },
  {
   "cell_type": "code",
   "source": "dd",
   "metadata": {
    "cell_id": "858e279fbd32475092853e801e85d8a7",
    "tags": [],
    "deepnote_to_be_reexecuted": false,
    "source_hash": "e8cb3873",
    "execution_start": 1660499845688,
    "execution_millis": 13,
    "deepnote_cell_type": "code",
    "deepnote_cell_height": 113,
    "deepnote_output_heights": [
     21
    ]
   },
   "outputs": [
    {
     "output_type": "execute_result",
     "execution_count": 42,
     "data": {
      "text/plain": "defaultdict(int, {'Sales': 2, 'Accounting': 1, 'Marketing': 2})"
     },
     "metadata": {}
    }
   ],
   "execution_count": 42
  },
  {
   "cell_type": "markdown",
   "source": "Here, you set .default_factory to int. When you call int() with no argument, the returned value is 0. You can use this default value to start counting the employees that work in each department. For this code to work correctly, you need a clean dataset. There must be no repeated data. Otherwise, you’ll need to filter out the repeated employees.\n\nAnother example of counting items is the mississippi example, where you count the number of times each letter in a word is repeated. Take a look at the following code:\n\n",
   "metadata": {
    "cell_id": "79b87e5cbd0f4c4eb89bcada2e55ae6f",
    "tags": [],
    "deepnote_cell_type": "markdown",
    "deepnote_cell_height": 156
   }
  },
  {
   "cell_type": "code",
   "source": "s = 'mississippi'\n\ndd = defaultdict(int)\n\nfor s_ in s:\n    dd[s_] += 1\n\ndd",
   "metadata": {
    "cell_id": "2b7137ec45174524a0bb71419230f3d9",
    "tags": [],
    "deepnote_to_be_reexecuted": false,
    "source_hash": "892b34ba",
    "execution_start": 1660500882753,
    "execution_millis": 13,
    "deepnote_cell_type": "code",
    "deepnote_cell_height": 239,
    "deepnote_output_heights": [
     21
    ]
   },
   "outputs": [
    {
     "output_type": "execute_result",
     "execution_count": 43,
     "data": {
      "text/plain": "defaultdict(int, {'m': 1, 'i': 4, 's': 4, 'p': 2})"
     },
     "metadata": {}
    }
   ],
   "execution_count": 43
  },
  {
   "cell_type": "markdown",
   "source": "As counting is a relatively common task in programming, the Python dictionary-like class collections.Counter is specially designed for counting items in a sequence. With Counter, you can write the mississippi example as follows:\n\n",
   "metadata": {
    "cell_id": "91822efa8174494ca5fe0cdbeb81bcdd",
    "tags": [],
    "deepnote_cell_type": "markdown",
    "deepnote_cell_height": 74.80000305175781
   }
  },
  {
   "cell_type": "code",
   "source": "from collections import Counter\ncounter = Counter(s)\n\ncounter",
   "metadata": {
    "cell_id": "6c1fd7aa852b41428d165f195c9a9e70",
    "tags": [],
    "deepnote_to_be_reexecuted": false,
    "source_hash": "86c64be1",
    "execution_start": 1660500924989,
    "execution_millis": 446,
    "deepnote_cell_type": "code",
    "deepnote_cell_height": 167,
    "deepnote_output_heights": [
     21
    ]
   },
   "outputs": [
    {
     "output_type": "execute_result",
     "execution_count": 45,
     "data": {
      "text/plain": "Counter({'m': 1, 'i': 4, 's': 4, 'p': 2})"
     },
     "metadata": {}
    }
   ],
   "execution_count": 45
  },
  {
   "cell_type": "markdown",
   "source": "In this case, Counter does all the work for you! You only need to pass in a sequence, and the dictionary will count its items, storing them as keys and the counts as values. Note that this example works because Python strings are also a sequence type.\n\n__Accumulating Values__\n\nSometimes you’ll need to calculate the total sum of the values in a sequence or collection. Let’s say you have the following Excel sheet with data about the sales of your Python website:\n\n",
   "metadata": {
    "cell_id": "1329ff5291f94bb0b81ead2289c594ae",
    "tags": [],
    "deepnote_cell_type": "markdown",
    "deepnote_cell_height": 170
   }
  },
  {
   "cell_type": "code",
   "source": "incomes = [('Books', 1250.00),\n           ('Books', 1300.00),\n           ('Books', 1420.00),\n           ('Tutorials', 560.00),\n           ('Tutorials', 630.00),\n           ('Tutorials', 750.00),\n           ('Courses', 2500.00),\n           ('Courses', 2430.00),\n           ('Courses', 2750.00),]",
   "metadata": {
    "cell_id": "7962d6340ed7429a843574e99939b798",
    "tags": [],
    "deepnote_to_be_reexecuted": false,
    "source_hash": "702f16cd",
    "execution_start": 1660500976437,
    "execution_millis": 1,
    "deepnote_cell_type": "code",
    "deepnote_cell_height": 220
   },
   "outputs": [],
   "execution_count": 46
  },
  {
   "cell_type": "markdown",
   "source": "With this data, you want to calculate the total income per product. To do that, you can use a Python defaultdict with float as .default_factory and then code something like this:\n\n",
   "metadata": {
    "cell_id": "b747b2d10fb743c6b8faa3e5712c9353",
    "tags": [],
    "deepnote_cell_type": "markdown",
    "deepnote_cell_height": 74.80000305175781
   }
  },
  {
   "cell_type": "code",
   "source": "dd = defaultdict(float)\ndd['test']",
   "metadata": {
    "cell_id": "8b44bf62dc184dff841f955b329e3368",
    "tags": [],
    "deepnote_to_be_reexecuted": false,
    "source_hash": "e828ab2b",
    "execution_start": 1660501025973,
    "execution_millis": 7,
    "deepnote_cell_type": "code",
    "deepnote_cell_height": 131
   },
   "outputs": [
    {
     "output_type": "execute_result",
     "execution_count": 47,
     "data": {
      "text/plain": "0.0"
     },
     "metadata": {}
    }
   ],
   "execution_count": 47
  },
  {
   "cell_type": "code",
   "source": "dd = defaultdict(float)\nfor product, income in incomes:\n    dd[product] += income\n\ndd",
   "metadata": {
    "cell_id": "ea62f9c7d7cd4089ba7e52c4767116e4",
    "tags": [],
    "deepnote_to_be_reexecuted": false,
    "source_hash": "6c123367",
    "execution_start": 1660501046017,
    "execution_millis": 2,
    "deepnote_cell_type": "code",
    "deepnote_cell_height": 97
   },
   "outputs": [
    {
     "output_type": "execute_result",
     "execution_count": 48,
     "data": {
      "text/plain": "defaultdict(float, {'Books': 3970.0, 'Tutorials': 1940.0, 'Courses': 7680.0})"
     },
     "metadata": {}
    }
   ],
   "execution_count": 48
  },
  {
   "cell_type": "code",
   "source": "",
   "metadata": {
    "cell_id": "22e866734ffe4a6c8eb5f61c1b426ef3",
    "tags": [],
    "deepnote_cell_type": "code"
   },
   "outputs": [],
   "execution_count": null
  },
  {
   "cell_type": "markdown",
   "source": "<a style='text-decoration:none;line-height:16px;display:flex;color:#5B5B62;padding:10px;justify-content:end;' href='https://deepnote.com?utm_source=created-in-deepnote-cell&projectId=c9f7b205-46e2-4f7d-8027-1722d788f5d8' target=\"_blank\">\n<img alt='Created in deepnote.com' style='display:inline;max-height:16px;margin:0px;margin-right:7.5px;' src='data:image/svg+xml;base64,PD94bWwgdmVyc2lvbj0iMS4wIiBlbmNvZGluZz0iVVRGLTgiPz4KPHN2ZyB3aWR0aD0iODBweCIgaGVpZ2h0PSI4MHB4IiB2aWV3Qm94PSIwIDAgODAgODAiIHZlcnNpb249IjEuMSIgeG1sbnM9Imh0dHA6Ly93d3cudzMub3JnLzIwMDAvc3ZnIiB4bWxuczp4bGluaz0iaHR0cDovL3d3dy53My5vcmcvMTk5OS94bGluayI+CiAgICA8IS0tIEdlbmVyYXRvcjogU2tldGNoIDU0LjEgKDc2NDkwKSAtIGh0dHBzOi8vc2tldGNoYXBwLmNvbSAtLT4KICAgIDx0aXRsZT5Hcm91cCAzPC90aXRsZT4KICAgIDxkZXNjPkNyZWF0ZWQgd2l0aCBTa2V0Y2guPC9kZXNjPgogICAgPGcgaWQ9IkxhbmRpbmciIHN0cm9rZT0ibm9uZSIgc3Ryb2tlLXdpZHRoPSIxIiBmaWxsPSJub25lIiBmaWxsLXJ1bGU9ImV2ZW5vZGQiPgogICAgICAgIDxnIGlkPSJBcnRib2FyZCIgdHJhbnNmb3JtPSJ0cmFuc2xhdGUoLTEyMzUuMDAwMDAwLCAtNzkuMDAwMDAwKSI+CiAgICAgICAgICAgIDxnIGlkPSJHcm91cC0zIiB0cmFuc2Zvcm09InRyYW5zbGF0ZSgxMjM1LjAwMDAwMCwgNzkuMDAwMDAwKSI+CiAgICAgICAgICAgICAgICA8cG9seWdvbiBpZD0iUGF0aC0yMCIgZmlsbD0iIzAyNjVCNCIgcG9pbnRzPSIyLjM3NjIzNzYyIDgwIDM4LjA0NzY2NjcgODAgNTcuODIxNzgyMiA3My44MDU3NTkyIDU3LjgyMTc4MjIgMzIuNzU5MjczOSAzOS4xNDAyMjc4IDMxLjY4MzE2ODMiPjwvcG9seWdvbj4KICAgICAgICAgICAgICAgIDxwYXRoIGQ9Ik0zNS4wMDc3MTgsODAgQzQyLjkwNjIwMDcsNzYuNDU0OTM1OCA0Ny41NjQ5MTY3LDcxLjU0MjI2NzEgNDguOTgzODY2LDY1LjI2MTk5MzkgQzUxLjExMjI4OTksNTUuODQxNTg0MiA0MS42NzcxNzk1LDQ5LjIxMjIyODQgMjUuNjIzOTg0Niw0OS4yMTIyMjg0IEMyNS40ODQ5Mjg5LDQ5LjEyNjg0NDggMjkuODI2MTI5Niw0My4yODM4MjQ4IDM4LjY0NzU4NjksMzEuNjgzMTY4MyBMNzIuODcxMjg3MSwzMi41NTQ0MjUgTDY1LjI4MDk3Myw2Ny42NzYzNDIxIEw1MS4xMTIyODk5LDc3LjM3NjE0NCBMMzUuMDA3NzE4LDgwIFoiIGlkPSJQYXRoLTIyIiBmaWxsPSIjMDAyODY4Ij48L3BhdGg+CiAgICAgICAgICAgICAgICA8cGF0aCBkPSJNMCwzNy43MzA0NDA1IEwyNy4xMTQ1MzcsMC4yNTcxMTE0MzYgQzYyLjM3MTUxMjMsLTEuOTkwNzE3MDEgODAsMTAuNTAwMzkyNyA4MCwzNy43MzA0NDA1IEM4MCw2NC45NjA0ODgyIDY0Ljc3NjUwMzgsNzkuMDUwMzQxNCAzNC4zMjk1MTEzLDgwIEM0Ny4wNTUzNDg5LDc3LjU2NzA4MDggNTMuNDE4MjY3Nyw3MC4zMTM2MTAzIDUzLjQxODI2NzcsNTguMjM5NTg4NSBDNTMuNDE4MjY3Nyw0MC4xMjg1NTU3IDM2LjMwMzk1NDQsMzcuNzMwNDQwNSAyNS4yMjc0MTcsMzcuNzMwNDQwNSBDMTcuODQzMDU4NiwzNy43MzA0NDA1IDkuNDMzOTE5NjYsMzcuNzMwNDQwNSAwLDM3LjczMDQ0MDUgWiIgaWQ9IlBhdGgtMTkiIGZpbGw9IiMzNzkzRUYiPjwvcGF0aD4KICAgICAgICAgICAgPC9nPgogICAgICAgIDwvZz4KICAgIDwvZz4KPC9zdmc+' > </img>\nCreated in <span style='font-weight:600;margin-left:4px;'>Deepnote</span></a>",
   "metadata": {
    "tags": [],
    "created_in_deepnote_cell": true,
    "deepnote_cell_type": "markdown"
   }
  }
 ],
 "nbformat": 4,
 "nbformat_minor": 0,
 "metadata": {
  "colab": {
   "name": "Improve Python.ipynb",
   "provenance": [],
   "collapsed_sections": [],
   "authorship_tag": "ABX9TyOd4AekEyVSzwJVsUnrKTm/",
   "include_colab_link": true
  },
  "kernelspec": {
   "name": "python3",
   "display_name": "Python 3"
  },
  "language_info": {
   "name": "python"
  },
  "deepnote_notebook_id": "3647816f-2b8a-41ed-b593-801b3a050015",
  "deepnote": {},
  "deepnote_execution_queue": []
 }
}