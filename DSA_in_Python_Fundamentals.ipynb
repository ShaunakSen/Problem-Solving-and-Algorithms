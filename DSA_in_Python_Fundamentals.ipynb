{
  "nbformat": 4,
  "nbformat_minor": 0,
  "metadata": {
    "colab": {
      "name": "DSA in Python Fundamentals.ipynb",
      "provenance": [],
      "collapsed_sections": [],
      "toc_visible": true,
      "authorship_tag": "ABX9TyMQ8tCtJT56KvTj1vC1wMrA",
      "include_colab_link": true
    },
    "kernelspec": {
      "name": "python3",
      "display_name": "Python 3"
    },
    "language_info": {
      "name": "python"
    }
  },
  "cells": [
    {
      "cell_type": "markdown",
      "metadata": {
        "id": "view-in-github",
        "colab_type": "text"
      },
      "source": [
        "<a href=\"https://colab.research.google.com/github/ShaunakSen/problem-solving-with-code/blob/master/DSA_in_Python_Fundamentals.ipynb\" target=\"_parent\"><img src=\"https://colab.research.google.com/assets/colab-badge.svg\" alt=\"Open In Colab\"/></a>"
      ]
    },
    {
      "cell_type": "markdown",
      "metadata": {
        "id": "qQeRmKWN15U4"
      },
      "source": [
        "# Data Structures and Algorithms - Improving concepts\n",
        "\n",
        "> Notes, codes, solutions from multiple resources to improve fundamentals on DSA\n",
        "\n",
        "- Data Structures and Algorithms by Michael T Goodrich: https://www.amazon.in/Structures-Algorithms-Python-Michael-Goodrich/dp/1118290275\n",
        "\n",
        "- https://realpython.com/introduction-to-python-generators/\n",
        "\n",
        "---"
      ]
    },
    {
      "cell_type": "markdown",
      "metadata": {
        "id": "_bm9El1F28Hf"
      },
      "source": [
        "## Some advanced python concepts\n",
        "\n",
        "### Iterators and Generators\n",
        "\n",
        "an instance of a list is an iterable, but not itself an iterator.\n",
        "With data = [1, 2, 4, 8], it is not legal to call next(data). However, an iterator object can be produced with syntax, i = iter(data), and then each subsequent call to next(i) will return an element of that list. The for-loop syntax in Python simply automates this process, creating an iterator for the give iterable, and then repeatedly calling for the next element until catching the StopIteration exception\n",
        "\n",
        "More generally, it is possible to create multiple iterators based upon the same\n",
        "iterable object, with each iterator maintaining its own state of progress. However,\n",
        "iterators typically maintain their state with indirect reference back to the original\n",
        "collection of elements. For example, calling iter(data) on a list instance produces\n",
        "an instance of the list iterator class. That iterator does not store its own copy of the\n",
        "list of elements. Instead, it maintains a current index into the original list, represent\u0002ing the next element to be reported. Therefore, if the contents of the original list\n",
        "are modified after the iterator is constructed, but before the iteration is complete,\n",
        "the iterator will be reporting the updated contents of the list.\n",
        "Python also supports functions and classes that produce an implicit iterable se\u0002ries of values, that is, without constructing a data structure to store all of its values\n",
        "at once. For example, the call range(1000000) does not return a list of numbers; it\n",
        "returns a range object that is iterable. This object generates the million values one\n",
        "at a time, and only as needed. Such a lazy evaluation technique has great advan\u0002tage. In the case of range, it allows a loop of the form, for j in range(1000000):,\n",
        "to execute without setting aside memory for storing one million values. Also, if\n",
        "such a loop were to be interrupted in some fashion, no time will have been spent\n",
        "computing unused values of the range\n"
      ]
    },
    {
      "cell_type": "markdown",
      "metadata": {
        "id": "gPYYbi7d4_v9"
      },
      "source": [
        "A generator is implemented with a syntax that\n",
        "is very similar to a function, but instead of returning values, a yield statement is\n",
        "executed to indicate each element of the series. As an example, consider the goal\n",
        "of determining all factors of a positive integer. For example, the number 100 has\n",
        "factors 1, 2, 4, 5, 10, 20, 25, 50, 100. A traditional function might produce and\n",
        "return a list containing all factors, implemented as:"
      ]
    },
    {
      "cell_type": "code",
      "metadata": {
        "id": "BYuK1iyu13ML"
      },
      "source": [
        "def factors(n):\n",
        "    results = []\n",
        "    for k in range(1, n+1):\n",
        "        if n%k == 0:\n",
        "            results.append(k)\n",
        "\n",
        "    return results"
      ],
      "execution_count": null,
      "outputs": []
    },
    {
      "cell_type": "code",
      "metadata": {
        "id": "79dzutng5L44"
      },
      "source": [
        "def factors(n):\n",
        "    results = []\n",
        "    for k in range(1, n+1):\n",
        "        if n%k == 0:\n",
        "            yield k"
      ],
      "execution_count": null,
      "outputs": []
    },
    {
      "cell_type": "code",
      "metadata": {
        "colab": {
          "base_uri": "https://localhost:8080/"
        },
        "id": "_QTaZpQ15P_V",
        "outputId": "b60294ae-462e-4470-f33c-dd9a71e12fc3"
      },
      "source": [
        "next(factors(200))"
      ],
      "execution_count": null,
      "outputs": [
        {
          "output_type": "execute_result",
          "data": {
            "text/plain": [
              "1"
            ]
          },
          "metadata": {
            "tags": []
          },
          "execution_count": 5
        }
      ]
    },
    {
      "cell_type": "markdown",
      "metadata": {
        "id": "FqZdOllc5cZ4"
      },
      "source": [
        "Notice use of the keyword yield rather than return to indicate a result. This indi\u0002cates to Python that we are defining a generator, rather than a traditional function\n",
        "\n",
        "If a programmer writes a loop such as for factor in factors(100):, an instance of our generator is created. For each iteration of the loop, Python executes our procedure  If a programmer writes a loop such as for factor in factors(100):, an instance of our generator is created. For each iteration of the loop, Python executes our procedure"
      ]
    },
    {
      "cell_type": "code",
      "metadata": {
        "id": "5MvlmE1v5TUh"
      },
      "source": [
        "def factors(n):\n",
        "    k=1\n",
        "    while k*k < n: ## while k < sqrt(n)\n",
        "        if n%k == 0:\n",
        "            yield k ## k is a factor\n",
        "            yield n//k ## so is n/k\n",
        "        k+=1\n",
        "    if k*k == n: ##  special case if n is perfect square\n",
        "        yield k"
      ],
      "execution_count": null,
      "outputs": []
    },
    {
      "cell_type": "markdown",
      "metadata": {
        "id": "R23u6BDW61rG"
      },
      "source": [
        "We should note that this generator differs from our first version in that the factors are not generated in strictly increasing order. For example, factors(100) generates the series 1,100,2,50,4,25,5,20,10"
      ]
    },
    {
      "cell_type": "markdown",
      "metadata": {
        "id": "5GLpRHow7uNp"
      },
      "source": [
        "### How to Use Generators and yield in Python\n",
        "\n",
        "> By Kyle Stratis: https://realpython.com/introduction-to-python-generators/\n",
        "\n",
        "\n",
        "Generator functions are a special kind of function that return a lazy iterator. These are objects that you can loop over like a list. However, unlike lists, lazy iterators do not store their contents in memory.\n",
        "\n",
        "\n",
        "#### Example 1: Reading Large Files\n",
        "\n",
        "\n",
        "what if you want to count the number of rows in a CSV file? The code block below shows one way of counting those rows:\n",
        "\n",
        "```python\n",
        "\n",
        "csv_gen = csv_reader(\"some_csv.txt\")\n",
        "row_count = 0\n",
        "\n",
        "for row in csv_gen:\n",
        "    row_count += 1\n",
        "\n",
        "print(f\"Row count is {row_count}\")\n",
        "```\n",
        "\n",
        "Looking at this example, you might expect csv_gen to be a list. To populate this list, csv_reader() opens a file and loads its contents into csv_gen. Then, the program iterates over the list and increments row_count for each row.\n",
        "\n",
        "This is a reasonable explanation, but would this design still work if the file is very large? What if the file is larger than the memory you have available? To answer this question, let’s assume that csv_reader() just opens the file and reads it into an array:\n",
        "\n",
        "```python\n",
        "def csv_reader(file_name):\n",
        "    file = open(file_name)\n",
        "    result = file.read().split(\"\\n\")\n",
        "    return result\n",
        "```\n",
        "\n",
        "This function opens a given file and uses file.read() along with .split() to add each line as a separate element to a list. If you were to use this version of csv_reader() in the row counting code block you saw further up, then you’d get the following output:\n",
        "\n",
        "```\n",
        "Traceback (most recent call last):\n",
        "  File \"ex1_naive.py\", line 22, in <module>\n",
        "    main()\n",
        "  File \"ex1_naive.py\", line 13, in main\n",
        "    csv_gen = csv_reader(\"file.txt\")\n",
        "  File \"ex1_naive.py\", line 6, in csv_reader\n",
        "    result = file.read().split(\"\\n\")\n",
        "MemoryError\n",
        "```\n",
        "\n",
        "In this case, open() returns a generator object that you can lazily iterate through line by line. However, file.read().split() loads everything into memory at once, causing the MemoryError.\n",
        "\n",
        "Before that happens, you’ll probably notice your computer slow to a crawl. You might even need to kill the program with a KeyboardInterrupt. So, how can you handle these huge data files? Take a look at a new definition of csv_reader():\n",
        "\n",
        "```python\n",
        "def csv_reader(file_name):\n",
        "    for row in open(file_name, \"r\"):\n",
        "        yield row\n",
        "```\n",
        "In this version, you open the file, iterate through it, and yield a row. This code should produce the following output, with no memory errors:\n",
        "\n",
        "```\n",
        "Row count is 64186394\n",
        "```\n",
        "\n",
        "What’s happening here? Well, you’ve essentially turned csv_reader() into a generator function. This version opens a file, loops through each line, and \n",
        "yields each row, instead of returning it.\n",
        "\n",
        "You can also define a generator expression (also called a generator comprehension), which has a very similar syntax to list comprehensions. In this way, you can use the generator without calling a function:\n",
        "\n",
        "NOTE: here we use `()` isntead of `[]` like in list comprehension\n",
        "\n",
        "```python \n",
        "csv_gen = (row for row in open(file_name))\n",
        "```\n"
      ]
    },
    {
      "cell_type": "markdown",
      "metadata": {
        "id": "jj0ECwjs6hfS"
      },
      "source": [
        "#### Example 2: Generating an Infinite Sequence\n",
        "\n",
        "Let’s switch gears and look at infinite sequence generation. In Python, to get a finite sequence, you call range() and evaluate it in a list context:\n",
        "\n",
        "```python\n",
        ">>> a = range(5)\n",
        ">>> list(a)\n",
        "[0, 1, 2, 3, 4]\n",
        "```\n",
        "\n",
        "Generating an infinite sequence, however, will require the use of a generator, since your computer memory is finite:\n",
        "\n"
      ]
    },
    {
      "cell_type": "code",
      "metadata": {
        "id": "HMq2iMkD6w-H"
      },
      "source": [
        "def infinite_sequence():\n",
        "    num = 0\n",
        "    while True:\n",
        "        yield num\n",
        "        num += 1  ### this statement is executed after yield, unlike return"
      ],
      "execution_count": null,
      "outputs": []
    },
    {
      "cell_type": "markdown",
      "metadata": {
        "id": "sahJea5tEUby"
      },
      "source": [
        "This code block is short and sweet. First, you initialize the variable num and start an infinite loop. Then, you immediately yield num so that you can capture the initial state. This mimics the action of range().\n",
        "\n",
        "After yield, you increment num by 1. If you try this with a for loop, then you’ll see that it really does seem infinite:"
      ]
    },
    {
      "cell_type": "code",
      "metadata": {
        "id": "NdN2jCtD7Dhw"
      },
      "source": [
        "for i in infinite_sequence():\n",
        "    print (i, end=' ')"
      ],
      "execution_count": null,
      "outputs": []
    },
    {
      "cell_type": "markdown",
      "metadata": {
        "id": "Vkx_LliaEnh_"
      },
      "source": [
        "The program will continue to execute until you stop it manually.\n",
        "\n",
        "Instead of using a for loop, you can also call next() on the generator object directly. This is especially useful for testing a generator in the console:"
      ]
    },
    {
      "cell_type": "code",
      "metadata": {
        "colab": {
          "base_uri": "https://localhost:8080/"
        },
        "id": "pd-GW_fPEcED",
        "outputId": "6a785849-cbbc-411b-c9ac-5e34b36d46a3"
      },
      "source": [
        "gen = infinite_sequence()\n",
        "\n",
        "next(gen)"
      ],
      "execution_count": null,
      "outputs": [
        {
          "output_type": "execute_result",
          "data": {
            "text/plain": [
              "0"
            ]
          },
          "metadata": {
            "tags": []
          },
          "execution_count": 3
        }
      ]
    },
    {
      "cell_type": "code",
      "metadata": {
        "colab": {
          "base_uri": "https://localhost:8080/"
        },
        "id": "OtL34T_6Ep1b",
        "outputId": "7923b146-157a-4eca-ebbc-3bd5200e128d"
      },
      "source": [
        "next(gen)"
      ],
      "execution_count": null,
      "outputs": [
        {
          "output_type": "execute_result",
          "data": {
            "text/plain": [
              "2"
            ]
          },
          "metadata": {
            "tags": []
          },
          "execution_count": 5
        }
      ]
    },
    {
      "cell_type": "markdown",
      "metadata": {
        "id": "GC-_oP_REuiE"
      },
      "source": [
        "Here, you have a generator called gen, which you manually iterate over by repeatedly calling next(). This works as a great sanity check to make sure your generators are producing the output you expect.\n",
        "\n",
        "#### Example 3: Detecting Palindromes\n",
        "\n",
        "You can use infinite sequences in many ways, but one practical use for them is in building palindrome detectors. A palindrome detector will locate all sequences of letters or numbers that are palindromes. These are words or numbers that are read the same forward and backward, like 121. First, define your numeric palindrome detector:\n",
        "\n"
      ]
    },
    {
      "cell_type": "markdown",
      "metadata": {
        "id": "wqmrGuytMYV2"
      },
      "source": [
        "num = 121\n",
        "temp = 121\n",
        "\n",
        "rev_num = 12\n",
        "temp = 1"
      ]
    },
    {
      "cell_type": "code",
      "metadata": {
        "id": "nsQxg4AYErDk"
      },
      "source": [
        "def is_palindrome(num):\n",
        "    # Skip single-digit inputs\n",
        "    if num//10 == 0:\n",
        "        return False\n",
        "\n",
        "    temp = num\n",
        "    reversed_num = 0\n",
        "\n",
        "    ### calculate the reverse of num\n",
        "    while temp!=0:\n",
        "        reversed_num = (reversed_num * 10) + (temp % 10)\n",
        "        temp = temp // 10\n",
        "\n",
        "    if num == reversed_num:\n",
        "        return num\n",
        "    else:\n",
        "        return False"
      ],
      "execution_count": null,
      "outputs": []
    },
    {
      "cell_type": "code",
      "metadata": {
        "id": "dWkEMUyPM5e0"
      },
      "source": [
        "for i in infinite_sequence():\n",
        "    pal = is_palindrome(i)\n",
        "    if pal:\n",
        "        print (pal)"
      ],
      "execution_count": null,
      "outputs": []
    },
    {
      "cell_type": "markdown",
      "metadata": {
        "id": "rWPQo1nQNQrA"
      },
      "source": [
        "In this case, the only numbers that are printed to the console are those that are the same forward or backward.\n",
        "\n",
        "Now that you’ve seen a simple use case for an infinite sequence generator, let’s dive deeper into how generators work.\n",
        "\n",
        "#### Understanding Generators\n",
        "\n",
        "So far, you’ve learned about the two primary ways of creating generators: by using generator functions (calling a function with yield like we do in normal python) and generator expressions (using `()` like in list comprehensions). You might even have an intuitive understanding of how generators work. Let’s take a moment to make that knowledge a little more explicit.\n",
        "\n",
        "\n",
        "Generator functions look and act just like regular functions, but with one defining characteristic. Generator functions use the Python yield keyword instead of return. Recall the generator function you wrote earlier:\n",
        "\n",
        "```python\n",
        "def infinite_sequence():\n",
        "    num = 0\n",
        "    while True:\n",
        "        yield num\n",
        "        num += 1\n",
        "```\n",
        "\n",
        "This looks like a typical function definition, except for the Python yield statement and the code that follows it. yield indicates where a value is sent back to the caller, but unlike return, you don’t exit the function afterward.\n",
        "\n",
        "Instead, the state of the function is remembered. That way, when next() is called on a generator object (either explicitly or implicitly within a for loop), the previously yielded variable num is incremented, and then yielded again. Since generator functions look like other functions and act very similarly to them, you can assume that generator expressions are very similar to other comprehensions available in Python.\n",
        "\n",
        "#### Building Generators With Generator Expressions\n",
        "\n",
        "Like list comprehensions, generator expressions allow you to quickly create a generator object in just a few lines of code. They’re also useful in the same cases where list comprehensions are used, with an added benefit: you can create them without building and holding the entire object in memory before iteration. In other words, you’ll have no memory penalty when you use generator expressions. Take this example of squaring some numbers:\n",
        "\n"
      ]
    },
    {
      "cell_type": "code",
      "metadata": {
        "colab": {
          "base_uri": "https://localhost:8080/"
        },
        "id": "Fcdb8r1MNGMa",
        "outputId": "cd3f6b9d-34e9-4032-90c2-5a304c29ea51"
      },
      "source": [
        "nums_squared_lc = [num**2 for num in range(5)]\n",
        "nums_squared_lc"
      ],
      "execution_count": null,
      "outputs": [
        {
          "output_type": "execute_result",
          "data": {
            "text/plain": [
              "[0, 1, 4, 9, 16]"
            ]
          },
          "metadata": {
            "tags": []
          },
          "execution_count": 8
        }
      ]
    },
    {
      "cell_type": "code",
      "metadata": {
        "colab": {
          "base_uri": "https://localhost:8080/"
        },
        "id": "TsBdinEyUg7u",
        "outputId": "10858691-d776-41dc-a24d-a691df1a8693"
      },
      "source": [
        "nums_squared_gc = (num**2 for num in range(5))\n",
        "nums_squared_gc"
      ],
      "execution_count": null,
      "outputs": [
        {
          "output_type": "execute_result",
          "data": {
            "text/plain": [
              "<generator object <genexpr> at 0x7f1b12c79050>"
            ]
          },
          "metadata": {
            "tags": []
          },
          "execution_count": 10
        }
      ]
    },
    {
      "cell_type": "markdown",
      "metadata": {
        "id": "JvLWS4OLUolj"
      },
      "source": [
        "The first object used brackets to build a list, while the second created a generator expression by using parentheses. The output confirms that you’ve created a generator object and that it is distinct from a list.\n",
        "\n"
      ]
    },
    {
      "cell_type": "markdown",
      "metadata": {
        "id": "RXrM3-TvUqhh"
      },
      "source": [
        "#### Profiling Generator Performance\n",
        "\n",
        "You learned earlier that generators are a great way to optimize memory. While an infinite sequence generator is an extreme example of this optimization, let’s amp up the number squaring examples you just saw and inspect the size of the resulting objects. You can do this with a call to `sys.getsizeof()`:\n",
        "\n"
      ]
    },
    {
      "cell_type": "code",
      "metadata": {
        "colab": {
          "base_uri": "https://localhost:8080/"
        },
        "id": "g9czHbX4UkXe",
        "outputId": "fa628e91-56c2-46b4-df0a-a14189dab3fb"
      },
      "source": [
        "import sys\n",
        "nums_squared_lc = [i * 2 for i in range(10000)]\n",
        "sys.getsizeof(nums_squared_lc)"
      ],
      "execution_count": null,
      "outputs": [
        {
          "output_type": "execute_result",
          "data": {
            "text/plain": [
              "87632"
            ]
          },
          "metadata": {
            "tags": []
          },
          "execution_count": 12
        }
      ]
    },
    {
      "cell_type": "code",
      "metadata": {
        "colab": {
          "base_uri": "https://localhost:8080/"
        },
        "id": "Ubz5FpVxUyzl",
        "outputId": "02051a27-c513-484a-9335-f88787325397"
      },
      "source": [
        "nums_squared_gc = (i ** 2 for i in range(10000))\n",
        "print(sys.getsizeof(nums_squared_gc))"
      ],
      "execution_count": null,
      "outputs": [
        {
          "output_type": "stream",
          "text": [
            "128\n"
          ],
          "name": "stdout"
        }
      ]
    },
    {
      "cell_type": "markdown",
      "metadata": {
        "id": "EA-NqvARU_5r"
      },
      "source": [
        "In this case, the list you get from the list comprehension is 87,624 bytes, while the generator object is only 120. This means that the list is over 700 times larger than the generator object!\n",
        "\n",
        "__There is one thing to keep in mind, though. If the list is smaller than the running machine’s available memory, then list comprehensions can be faster to evaluate than the equivalent generator expression__. To explore this, let’s sum across the results from the two comprehensions above. You can generate a readout with cProfile.run():"
      ]
    },
    {
      "cell_type": "code",
      "metadata": {
        "id": "tuat6VogVFC7"
      },
      "source": [
        "import cProfile"
      ],
      "execution_count": null,
      "outputs": []
    },
    {
      "cell_type": "code",
      "metadata": {
        "colab": {
          "base_uri": "https://localhost:8080/"
        },
        "id": "MJCrv2UIU6DF",
        "outputId": "1f6dea96-c607-49f0-8dbf-a25db696cbd1"
      },
      "source": [
        "cProfile.run('sum([i * 2 for i in range(10000)])')"
      ],
      "execution_count": null,
      "outputs": [
        {
          "output_type": "stream",
          "text": [
            "         5 function calls in 0.001 seconds\n",
            "\n",
            "   Ordered by: standard name\n",
            "\n",
            "   ncalls  tottime  percall  cumtime  percall filename:lineno(function)\n",
            "        1    0.001    0.001    0.001    0.001 <string>:1(<listcomp>)\n",
            "        1    0.000    0.000    0.001    0.001 <string>:1(<module>)\n",
            "        1    0.000    0.000    0.001    0.001 {built-in method builtins.exec}\n",
            "        1    0.000    0.000    0.000    0.000 {built-in method builtins.sum}\n",
            "        1    0.000    0.000    0.000    0.000 {method 'disable' of '_lsprof.Profiler' objects}\n",
            "\n",
            "\n"
          ],
          "name": "stdout"
        }
      ]
    },
    {
      "cell_type": "code",
      "metadata": {
        "colab": {
          "base_uri": "https://localhost:8080/"
        },
        "id": "dogKTWBSVHse",
        "outputId": "06157fd0-a871-41d7-936e-bb8be751dac0"
      },
      "source": [
        "cProfile.run('sum((i * 2 for i in range(10000)))')"
      ],
      "execution_count": null,
      "outputs": [
        {
          "output_type": "stream",
          "text": [
            "         10005 function calls in 0.004 seconds\n",
            "\n",
            "   Ordered by: standard name\n",
            "\n",
            "   ncalls  tottime  percall  cumtime  percall filename:lineno(function)\n",
            "    10001    0.002    0.000    0.002    0.000 <string>:1(<genexpr>)\n",
            "        1    0.000    0.000    0.003    0.003 <string>:1(<module>)\n",
            "        1    0.000    0.000    0.004    0.004 {built-in method builtins.exec}\n",
            "        1    0.001    0.001    0.003    0.003 {built-in method builtins.sum}\n",
            "        1    0.000    0.000    0.000    0.000 {method 'disable' of '_lsprof.Profiler' objects}\n",
            "\n",
            "\n"
          ],
          "name": "stdout"
        }
      ]
    },
    {
      "cell_type": "markdown",
      "metadata": {
        "id": "0VdAOiO7VQMV"
      },
      "source": [
        "Here, you can see that summing across all values in the list comprehension took about a third of the time as summing across the generator. \n",
        "\n",
        "> If speed is an issue and memory isn’t, then a list comprehension is likely a better tool for the job.\n",
        "\n",
        "Remember, list comprehensions return full lists, while generator expressions return generators. \n",
        "\n",
        "__Generators work the same whether they’re built from a function or an expression. Using an expression just allows you to define simple generators in a single line, with an assumed yield at the end of each inner iteration.__\n",
        "\n",
        "The Python yield statement is certainly the linchpin on which all of the functionality of generators rests, so let’s dive into how yield works in Python.\n",
        "\n",
        "\n",
        "\n"
      ]
    },
    {
      "cell_type": "markdown",
      "metadata": {
        "id": "w_5LxMzuWJss"
      },
      "source": [
        "#### Understanding the Python Yield Statement\n",
        "\n",
        "\n",
        "On the whole, yield is a fairly simple statement. Its primary job is to control the flow of a generator function in a way that’s similar to return statements. As briefly mentioned above, though, the Python yield statement has a few tricks up its sleeve.\n",
        "\n",
        "When you call a generator function or use a generator expression, you return a special iterator called a generator. You can assign this generator to a variable in order to use it. When you call special methods on the generator, such as next(), the code within the function is executed up to yield.\n",
        "\n",
        "When the Python yield statement is hit, the program suspends function execution and returns the yielded value to the caller. (In contrast, return stops function execution completely.) When a function is suspended, the state of that function is saved. This includes any variable bindings local to the generator, the instruction pointer, the internal stack, and any exception handling.\n",
        "\n",
        "This allows you to resume function execution whenever you call one of the generator’s methods. In this way, all function evaluation picks back up right after yield. You can see this in action by using multiple Python yield statements:\n"
      ]
    },
    {
      "cell_type": "code",
      "metadata": {
        "id": "7cZ66E0-VMLx"
      },
      "source": [
        "def multi_yield():\n",
        "    init_value = 0\n",
        "    print (f'Init value set: {init_value}')\n",
        "    yield_str = \"This will print the first string\"\n",
        "    yield yield_str\n",
        "    init_value+=1\n",
        "    print (f'Init value: {init_value}')\n",
        "    yield_str = \"This will print the second string\"\n",
        "    yield yield_str\n",
        "    init_value+=1\n",
        "    print (f'Init value: {init_value}')\n",
        "\n",
        "multi_obj  = multi_yield()"
      ],
      "execution_count": 7,
      "outputs": []
    },
    {
      "cell_type": "code",
      "metadata": {
        "colab": {
          "base_uri": "https://localhost:8080/",
          "height": 52
        },
        "id": "YvkXKhnsfGMf",
        "outputId": "b0173e61-5f94-4c0b-d5cf-4cffeb9b95f1"
      },
      "source": [
        "next(multi_obj)"
      ],
      "execution_count": 8,
      "outputs": [
        {
          "output_type": "stream",
          "text": [
            "Init value set: 0\n"
          ],
          "name": "stdout"
        },
        {
          "output_type": "execute_result",
          "data": {
            "application/vnd.google.colaboratory.intrinsic+json": {
              "type": "string"
            },
            "text/plain": [
              "'This will print the first string'"
            ]
          },
          "metadata": {
            "tags": []
          },
          "execution_count": 8
        }
      ]
    },
    {
      "cell_type": "code",
      "metadata": {
        "colab": {
          "base_uri": "https://localhost:8080/",
          "height": 52
        },
        "id": "bx3A0pHZfMmv",
        "outputId": "096d3581-cc8e-427d-8d2b-325b62a00f23"
      },
      "source": [
        "next(multi_obj)"
      ],
      "execution_count": 9,
      "outputs": [
        {
          "output_type": "stream",
          "text": [
            "Init value: 1\n"
          ],
          "name": "stdout"
        },
        {
          "output_type": "execute_result",
          "data": {
            "application/vnd.google.colaboratory.intrinsic+json": {
              "type": "string"
            },
            "text/plain": [
              "'This will print the second string'"
            ]
          },
          "metadata": {
            "tags": []
          },
          "execution_count": 9
        }
      ]
    },
    {
      "cell_type": "code",
      "metadata": {
        "colab": {
          "base_uri": "https://localhost:8080/",
          "height": 181
        },
        "id": "J6WiafI-f4lK",
        "outputId": "5a897a77-692c-49ad-9d01-64a799f228bd"
      },
      "source": [
        "next(multi_obj)"
      ],
      "execution_count": 10,
      "outputs": [
        {
          "output_type": "stream",
          "text": [
            "Init value: 2\n"
          ],
          "name": "stdout"
        },
        {
          "output_type": "error",
          "ename": "StopIteration",
          "evalue": "ignored",
          "traceback": [
            "\u001b[0;31m---------------------------------------------------------------------------\u001b[0m",
            "\u001b[0;31mStopIteration\u001b[0m                             Traceback (most recent call last)",
            "\u001b[0;32m<ipython-input-10-2bbfbb9850a6>\u001b[0m in \u001b[0;36m<module>\u001b[0;34m()\u001b[0m\n\u001b[0;32m----> 1\u001b[0;31m \u001b[0mnext\u001b[0m\u001b[0;34m(\u001b[0m\u001b[0mmulti_obj\u001b[0m\u001b[0;34m)\u001b[0m\u001b[0;34m\u001b[0m\u001b[0;34m\u001b[0m\u001b[0m\n\u001b[0m",
            "\u001b[0;31mStopIteration\u001b[0m: "
          ]
        }
      ]
    },
    {
      "cell_type": "markdown",
      "metadata": {
        "id": "MDuIXZh9f91W"
      },
      "source": [
        "Notice that on the 3rd next statement init_value inc to 2 but we get a `StopIteration` error as there is no yield statement\n",
        "\n",
        "\n",
        "yield can be used in many ways to control your generator’s execution flow. The use of multiple Python yield statements can be leveraged as far as your creativity allows.\n",
        "\n"
      ]
    },
    {
      "cell_type": "markdown",
      "metadata": {
        "id": "5W8pmCCfibTl"
      },
      "source": [
        "### Comprehensions\n",
        "\n",
        "Python supports similar comprehension syntaxes that respectively produce a\n",
        "set, generator, or dictionary. We compare those syntaxes using our example for\n",
        "producing the squares of numbers\n",
        "\n",
        "```\n",
        "[ k k for k in range(1, n+1) ] list comprehension\n",
        "{ k k for k in range(1, n+1) } set comprehension\n",
        "( k k for k in range(1, n+1) ) generator comprehension\n",
        "{ k : k k for k in range(1, n+1) } dictionary comprehension\n",
        "```\n",
        "\n",
        "The generator syntax is particularly attractive when results do not need to be stored in memory. For example, to compute the sum of the first n squares, the generator syntax, `total = sum(k k for k in range(1, n+1))`, is preferred to the use of an explicitly instantiated list comprehension as the parameter."
      ]
    },
    {
      "cell_type": "markdown",
      "metadata": {
        "id": "peiMxT4TsTuT"
      },
      "source": [
        "### Pseudo-Random Number Generation\n",
        "\n",
        "\n",
        "Python’s random module provides the ability to generate pseudo-random numbers,\n",
        "that is, numbers that are statistically random (but not necessarily truly random).\n",
        "A pseudo-random number generator uses a deterministic formula to generate the\n",
        "next number in a sequence based upon one or more past numbers that it has generated. Indeed, a simple yet popular pseudo-random number generator chooses its\n",
        "next number based solely on the most recently chosen number and some additional\n",
        "parameters using the following formula.\n",
        "`next = (a*current + b) % n;`\n",
        "\n",
        "where a, b, and n are appropriately chosen integers. Python uses a more advanced\n",
        "technique known as a Mersenne twister. It turns out that the sequences generated\n",
        "by these techniques can be proven to be statistically uniform, which is usually\n",
        "good enough for most applications requiring random numbers, such as games. For\n",
        "applications, such as computer security settings, where one needs unpredictable\n",
        "random sequences, this kind of formula should not be used. Instead, one should\n",
        "ideally sample from a source that is actually random, such as radio static coming from outer space.\n",
        "\n",
        "Since the next number in a pseudo-random generator is determined by the previous number(s), such a generator always needs a place to start, which is called its seed. The sequence of numbers generated for a given seed will always be the same.\n",
        "One common trick to get a different sequence each time a program is run is to use a seed that will be different for each run. For example, we could use some timed input from a user or the current system time in milliseconds"
      ]
    },
    {
      "cell_type": "markdown",
      "metadata": {
        "id": "bIcp3JlkwKWO"
      },
      "source": [
        "## Object Oriented Programming\n",
        "\n",
        "- Each object is an instance of a class. \n",
        "\n",
        "- The class definition typically specifies instance variables,\n",
        "also known as data members, that the object contains, as well as the methods, also known as member functions, that the object can execute.\n",
        "\n",
        "- self identifies the instance upon which a method is invoked. For\n",
        "example, assume that a user of our class has a variable, `my_card`, that identifies an instance of the CreditCard class. When the user calls `my_card.get balance()`, identifier self, within the definition of the `get_balance` method, refers to the card known as `my_card` by the caller"
      ]
    },
    {
      "cell_type": "code",
      "metadata": {
        "id": "fAk3kfr9f7LL"
      },
      "source": [
        "class CreditCard:\n",
        "\n",
        "    def __init__(self, customer, bank, acnt, limit):\n",
        "\n",
        "        self._customer = customer\n",
        "        self._bank = bank\n",
        "        self._account = acnt\n",
        "        self._limit = limit\n",
        "        self._balance = 0 ### credit card balance left to be paid\n",
        "\n",
        "    def get_customer(self):\n",
        "        return self._customer\n",
        "\n",
        "    def get_bank(self):\n",
        "        return self._bank\n",
        "\n",
        "    def get_account(self):\n",
        "        return self._account\n",
        "\n",
        "    def get_balance(self):\n",
        "        return self._balance\n",
        "\n",
        "    def charge(self, price):\n",
        "        \"\"\"\n",
        "        Charge given price to the card, assuming sufficient credit limit.\n",
        "        Return True if charge was processed; False if charge was denied\n",
        "        \"\"\"\n",
        "\n",
        "        if price + self._balance > self._limit:\n",
        "            return False\n",
        "        else:\n",
        "            self._balance += price\n",
        "            return True\n",
        "\n",
        "    def make_payment(self, amount):\n",
        "        \"\"\"Process customer payment that reduces balance.\"\"\"\n",
        "        self._balance -= amount\n"
      ],
      "execution_count": 12,
      "outputs": []
    },
    {
      "cell_type": "markdown",
      "metadata": {
        "id": "X1vOtrJu_qmR"
      },
      "source": [
        "__Encapsulation__\n",
        "\n",
        "By the conventions described in Section 2.2.3, a single leading underscore in the name of a data member, such as _balance, implies that it is intended as nonpublic. Users of a class should not directly access such members.\n",
        "\n",
        "As a general rule, we will treat all data members as nonpublic. This allows\n",
        "us to better enforce a consistent state for all instances. We can provide accessors, such as get_balance, to provide a user of our class read-only access to a trait. If we wish to allow the user to change the state, we can provide appropriate update\n",
        "methods. In the context of data structures, encapsulating the internal representation allows us greater flexibility to redesign the way a class works, perhaps to improve the efficiency of the structure."
      ]
    },
    {
      "cell_type": "code",
      "metadata": {
        "id": "mcegOgJR_oZx"
      },
      "source": [
        "wallet = [] ### collection of cards\n",
        "\n",
        "wallet.append(CreditCard('mini', 'miniBank', '123', 100000))\n",
        "wallet.append(CreditCard('shona', 'miniBank', '121', 1000))\n",
        "wallet.append(CreditCard('paddy', 'oink', '122', 10000))\n",
        "wallet.append(CreditCard('kudi', 'csk', '222', 1000))\n"
      ],
      "execution_count": 13,
      "outputs": []
    },
    {
      "cell_type": "code",
      "metadata": {
        "colab": {
          "base_uri": "https://localhost:8080/"
        },
        "id": "iQ8YSO6fFEhg",
        "outputId": "9ebdf143-6a74-4890-a17d-041f0962cb6d"
      },
      "source": [
        "wallet[0].charge(200)\n",
        "wallet[0].get_balance()"
      ],
      "execution_count": 14,
      "outputs": [
        {
          "output_type": "execute_result",
          "data": {
            "text/plain": [
              "200"
            ]
          },
          "metadata": {
            "tags": []
          },
          "execution_count": 14
        }
      ]
    },
    {
      "cell_type": "code",
      "metadata": {
        "colab": {
          "base_uri": "https://localhost:8080/"
        },
        "id": "_Xpp0t2ZMbl3",
        "outputId": "1d0fc5fc-164b-4ca2-a99e-5184e2e1a972"
      },
      "source": [
        "wallet[1].charge(2000)"
      ],
      "execution_count": 15,
      "outputs": [
        {
          "output_type": "execute_result",
          "data": {
            "text/plain": [
              "False"
            ]
          },
          "metadata": {
            "tags": []
          },
          "execution_count": 15
        }
      ]
    },
    {
      "cell_type": "code",
      "metadata": {
        "colab": {
          "base_uri": "https://localhost:8080/"
        },
        "id": "C7TVxk4rMjAp",
        "outputId": "8b09d31e-bf7d-4ab8-98c8-6a82784a426e"
      },
      "source": [
        "wallet[1].get_balance()"
      ],
      "execution_count": 16,
      "outputs": [
        {
          "output_type": "execute_result",
          "data": {
            "text/plain": [
              "0"
            ]
          },
          "metadata": {
            "tags": []
          },
          "execution_count": 16
        }
      ]
    },
    {
      "cell_type": "code",
      "metadata": {
        "colab": {
          "base_uri": "https://localhost:8080/"
        },
        "id": "gy3j_8RVMk6G",
        "outputId": "d99bf977-ec24-4091-d627-763ddb68b076"
      },
      "source": [
        "wallet[1].charge(500)\n",
        "wallet[1].get_balance()"
      ],
      "execution_count": 17,
      "outputs": [
        {
          "output_type": "execute_result",
          "data": {
            "text/plain": [
              "500"
            ]
          },
          "metadata": {
            "tags": []
          },
          "execution_count": 17
        }
      ]
    },
    {
      "cell_type": "code",
      "metadata": {
        "colab": {
          "base_uri": "https://localhost:8080/"
        },
        "id": "yJx1rMthMoMf",
        "outputId": "09b0f2df-9bde-4597-92e2-36349f84d1d2"
      },
      "source": [
        "wallet[1].make_payment(300)\n",
        "wallet[1].get_balance()"
      ],
      "execution_count": 18,
      "outputs": [
        {
          "output_type": "execute_result",
          "data": {
            "text/plain": [
              "200"
            ]
          },
          "metadata": {
            "tags": []
          },
          "execution_count": 18
        }
      ]
    },
    {
      "cell_type": "markdown",
      "metadata": {
        "id": "W4v6cKPWVGex"
      },
      "source": [
        "#### Example: Multidimensional Vector Class\n",
        "\n"
      ]
    },
    {
      "cell_type": "code",
      "metadata": {
        "id": "TjjV9iAuMs55"
      },
      "source": [
        "class Vector:\n",
        "    def __init__(self, d):\n",
        "        ### Create d-dimensional vector of zeros\n",
        "        self._coords = [0]*d\n",
        "\n",
        "    def __len__(self):\n",
        "        return len(self._coords)\n",
        "\n",
        "    def __getitem__(self, j):\n",
        "        return self._coords[j]\n",
        "\n",
        "    def __setitem__(self, j, val):\n",
        "        self._coords[j] = val\n",
        "\n",
        "    def __add__(self, other):\n",
        "        ### Return sum of two vectors\n",
        "        if len(self) != len(other): ### relies on len method\n",
        "            raise ValueError('dimension mismatch')\n",
        "        result = Vector(len(self))\n",
        "        for j in range(len(self)):\n",
        "            result[j] = self[j] + other[j] ### relies on __getitem__\n",
        "\n",
        "        return result\n",
        "\n",
        "    def __eq__(self, other):\n",
        "        return self._coords == other.coords\n",
        "\n",
        "    def __ne__(self, other):\n",
        "        return not self == other ### rely on existing eq definition\n",
        "\n",
        "    def __str__(self):\n",
        "        return f'< {self._coords[:]} >'\n",
        "\n",
        "    "
      ],
      "execution_count": 23,
      "outputs": []
    },
    {
      "cell_type": "code",
      "metadata": {
        "id": "IOVLBYSMj0YU"
      },
      "source": [
        "v = Vector(5)\n",
        "v[1] = 23\n",
        "v[-1] = 45"
      ],
      "execution_count": 24,
      "outputs": []
    },
    {
      "cell_type": "code",
      "metadata": {
        "colab": {
          "base_uri": "https://localhost:8080/"
        },
        "id": "lW8u6U0Qj6mt",
        "outputId": "f45ccf02-4859-4269-d4f2-a08d0077c6ad"
      },
      "source": [
        "print(v)"
      ],
      "execution_count": 25,
      "outputs": [
        {
          "output_type": "stream",
          "text": [
            "< [0, 23, 0, 0, 45] >\n"
          ],
          "name": "stdout"
        }
      ]
    },
    {
      "cell_type": "code",
      "metadata": {
        "colab": {
          "base_uri": "https://localhost:8080/"
        },
        "id": "GH4eTjQ_j7M_",
        "outputId": "01ad3b48-352c-4511-cefb-a2fab3324855"
      },
      "source": [
        "print(v[4])"
      ],
      "execution_count": 26,
      "outputs": [
        {
          "output_type": "stream",
          "text": [
            "45\n"
          ],
          "name": "stdout"
        }
      ]
    },
    {
      "cell_type": "code",
      "metadata": {
        "id": "txJ6y7J6kJeE"
      },
      "source": [
        "u = v+v"
      ],
      "execution_count": 27,
      "outputs": []
    },
    {
      "cell_type": "code",
      "metadata": {
        "colab": {
          "base_uri": "https://localhost:8080/"
        },
        "id": "iW1Bx2nfkMIQ",
        "outputId": "564afb05-b2f8-47f3-b82a-b3d161e6fdba"
      },
      "source": [
        "print (u)"
      ],
      "execution_count": 28,
      "outputs": [
        {
          "output_type": "stream",
          "text": [
            "< [0, 46, 0, 0, 90] >\n"
          ],
          "name": "stdout"
        }
      ]
    },
    {
      "cell_type": "code",
      "metadata": {
        "colab": {
          "base_uri": "https://localhost:8080/"
        },
        "id": "DGOfV1-FkOEU",
        "outputId": "185ca560-1e49-4b9d-def2-968ba02c8f3c"
      },
      "source": [
        "print (len(u))"
      ],
      "execution_count": 29,
      "outputs": [
        {
          "output_type": "stream",
          "text": [
            "5\n"
          ],
          "name": "stdout"
        }
      ]
    },
    {
      "cell_type": "code",
      "metadata": {
        "id": "f2-lbElTkR6e"
      },
      "source": [
        ""
      ],
      "execution_count": null,
      "outputs": []
    }
  ]
}