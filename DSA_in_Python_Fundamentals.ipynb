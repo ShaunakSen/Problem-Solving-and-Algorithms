{
  "nbformat": 4,
  "nbformat_minor": 0,
  "metadata": {
    "colab": {
      "name": "DSA in Python Fundamentals.ipynb",
      "provenance": [],
      "collapsed_sections": [],
      "authorship_tag": "ABX9TyPbUiSx+qx0I1NVRFQ1KJs3",
      "include_colab_link": true
    },
    "kernelspec": {
      "name": "python3",
      "display_name": "Python 3"
    },
    "language_info": {
      "name": "python"
    }
  },
  "cells": [
    {
      "cell_type": "markdown",
      "metadata": {
        "id": "view-in-github",
        "colab_type": "text"
      },
      "source": [
        "<a href=\"https://colab.research.google.com/github/ShaunakSen/problem-solving-with-code/blob/master/DSA_in_Python_Fundamentals.ipynb\" target=\"_parent\"><img src=\"https://colab.research.google.com/assets/colab-badge.svg\" alt=\"Open In Colab\"/></a>"
      ]
    },
    {
      "cell_type": "markdown",
      "metadata": {
        "id": "qQeRmKWN15U4"
      },
      "source": [
        "# Data Structures and Algorithms - Improving concepts\n",
        "\n",
        "> Notes, codes, solutions from multiple resources to improve fundamentals on DSA\n",
        "\n",
        "- Data Structures and Algorithms by Michael T Goodrich: https://www.amazon.in/Structures-Algorithms-Python-Michael-Goodrich/dp/1118290275\n",
        "\n",
        "- https://realpython.com/introduction-to-python-generators/\n",
        "\n",
        "---"
      ]
    },
    {
      "cell_type": "markdown",
      "metadata": {
        "id": "_bm9El1F28Hf"
      },
      "source": [
        "## Some advanced python concepts\n",
        "\n",
        "### Iterators and Generators\n",
        "\n",
        "an instance of a list is an iterable, but not itself an iterator.\n",
        "With data = [1, 2, 4, 8], it is not legal to call next(data). However, an iterator object can be produced with syntax, i = iter(data), and then each subsequent call to next(i) will return an element of that list. The for-loop syntax in Python simply automates this process, creating an iterator for the give iterable, and then repeatedly calling for the next element until catching the StopIteration exception\n",
        "\n",
        "More generally, it is possible to create multiple iterators based upon the same\n",
        "iterable object, with each iterator maintaining its own state of progress. However,\n",
        "iterators typically maintain their state with indirect reference back to the original\n",
        "collection of elements. For example, calling iter(data) on a list instance produces\n",
        "an instance of the list iterator class. That iterator does not store its own copy of the\n",
        "list of elements. Instead, it maintains a current index into the original list, represent\u0002ing the next element to be reported. Therefore, if the contents of the original list\n",
        "are modified after the iterator is constructed, but before the iteration is complete,\n",
        "the iterator will be reporting the updated contents of the list.\n",
        "Python also supports functions and classes that produce an implicit iterable se\u0002ries of values, that is, without constructing a data structure to store all of its values\n",
        "at once. For example, the call range(1000000) does not return a list of numbers; it\n",
        "returns a range object that is iterable. This object generates the million values one\n",
        "at a time, and only as needed. Such a lazy evaluation technique has great advan\u0002tage. In the case of range, it allows a loop of the form, for j in range(1000000):,\n",
        "to execute without setting aside memory for storing one million values. Also, if\n",
        "such a loop were to be interrupted in some fashion, no time will have been spent\n",
        "computing unused values of the range\n"
      ]
    },
    {
      "cell_type": "markdown",
      "metadata": {
        "id": "gPYYbi7d4_v9"
      },
      "source": [
        "A generator is implemented with a syntax that\n",
        "is very similar to a function, but instead of returning values, a yield statement is\n",
        "executed to indicate each element of the series. As an example, consider the goal\n",
        "of determining all factors of a positive integer. For example, the number 100 has\n",
        "factors 1, 2, 4, 5, 10, 20, 25, 50, 100. A traditional function might produce and\n",
        "return a list containing all factors, implemented as:"
      ]
    },
    {
      "cell_type": "code",
      "metadata": {
        "id": "BYuK1iyu13ML"
      },
      "source": [
        "def factors(n):\n",
        "    results = []\n",
        "    for k in range(1, n+1):\n",
        "        if n%k == 0:\n",
        "            results.append(k)\n",
        "\n",
        "    return results"
      ],
      "execution_count": null,
      "outputs": []
    },
    {
      "cell_type": "code",
      "metadata": {
        "id": "79dzutng5L44"
      },
      "source": [
        "def factors(n):\n",
        "    results = []\n",
        "    for k in range(1, n+1):\n",
        "        if n%k == 0:\n",
        "            yield k"
      ],
      "execution_count": null,
      "outputs": []
    },
    {
      "cell_type": "code",
      "metadata": {
        "colab": {
          "base_uri": "https://localhost:8080/"
        },
        "id": "_QTaZpQ15P_V",
        "outputId": "b60294ae-462e-4470-f33c-dd9a71e12fc3"
      },
      "source": [
        "next(factors(200))"
      ],
      "execution_count": null,
      "outputs": [
        {
          "output_type": "execute_result",
          "data": {
            "text/plain": [
              "1"
            ]
          },
          "metadata": {
            "tags": []
          },
          "execution_count": 5
        }
      ]
    },
    {
      "cell_type": "markdown",
      "metadata": {
        "id": "FqZdOllc5cZ4"
      },
      "source": [
        "Notice use of the keyword yield rather than return to indicate a result. This indi\u0002cates to Python that we are defining a generator, rather than a traditional function\n",
        "\n",
        "If a programmer writes a loop such as for factor in factors(100):, an instance of our generator is created. For each iteration of the loop, Python executes our procedure  If a programmer writes a loop such as for factor in factors(100):, an instance of our generator is created. For each iteration of the loop, Python executes our procedure"
      ]
    },
    {
      "cell_type": "code",
      "metadata": {
        "id": "5MvlmE1v5TUh"
      },
      "source": [
        "def factors(n):\n",
        "    k=1\n",
        "    while k*k < n: ## while k < sqrt(n)\n",
        "        if n%k == 0:\n",
        "            yield k ## k is a factor\n",
        "            yield n//k ## so is n/k\n",
        "        k+=1\n",
        "    if k*k == n: ##  special case if n is perfect square\n",
        "        yield k"
      ],
      "execution_count": null,
      "outputs": []
    },
    {
      "cell_type": "markdown",
      "metadata": {
        "id": "R23u6BDW61rG"
      },
      "source": [
        "We should note that this generator differs from our first version in that the factors are not generated in strictly increasing order. For example, factors(100) generates the series 1,100,2,50,4,25,5,20,10"
      ]
    },
    {
      "cell_type": "markdown",
      "metadata": {
        "id": "5GLpRHow7uNp"
      },
      "source": [
        "### How to Use Generators and yield in Python\n",
        "\n",
        "> By Kyle Stratis: https://realpython.com/introduction-to-python-generators/\n",
        "\n",
        "\n",
        "Generator functions are a special kind of function that return a lazy iterator. These are objects that you can loop over like a list. However, unlike lists, lazy iterators do not store their contents in memory.\n",
        "\n",
        "\n",
        "#### Example 1: Reading Large Files\n",
        "\n",
        "\n",
        "what if you want to count the number of rows in a CSV file? The code block below shows one way of counting those rows:\n",
        "\n",
        "```python\n",
        "\n",
        "csv_gen = csv_reader(\"some_csv.txt\")\n",
        "row_count = 0\n",
        "\n",
        "for row in csv_gen:\n",
        "    row_count += 1\n",
        "\n",
        "print(f\"Row count is {row_count}\")\n",
        "```\n",
        "\n",
        "Looking at this example, you might expect csv_gen to be a list. To populate this list, csv_reader() opens a file and loads its contents into csv_gen. Then, the program iterates over the list and increments row_count for each row.\n",
        "\n",
        "This is a reasonable explanation, but would this design still work if the file is very large? What if the file is larger than the memory you have available? To answer this question, let’s assume that csv_reader() just opens the file and reads it into an array:\n",
        "\n",
        "```python\n",
        "def csv_reader(file_name):\n",
        "    file = open(file_name)\n",
        "    result = file.read().split(\"\\n\")\n",
        "    return result\n",
        "```\n",
        "\n",
        "This function opens a given file and uses file.read() along with .split() to add each line as a separate element to a list. If you were to use this version of csv_reader() in the row counting code block you saw further up, then you’d get the following output:\n",
        "\n",
        "```\n",
        "Traceback (most recent call last):\n",
        "  File \"ex1_naive.py\", line 22, in <module>\n",
        "    main()\n",
        "  File \"ex1_naive.py\", line 13, in main\n",
        "    csv_gen = csv_reader(\"file.txt\")\n",
        "  File \"ex1_naive.py\", line 6, in csv_reader\n",
        "    result = file.read().split(\"\\n\")\n",
        "MemoryError\n",
        "```\n",
        "\n",
        "In this case, open() returns a generator object that you can lazily iterate through line by line. However, file.read().split() loads everything into memory at once, causing the MemoryError.\n",
        "\n",
        "Before that happens, you’ll probably notice your computer slow to a crawl. You might even need to kill the program with a KeyboardInterrupt. So, how can you handle these huge data files? Take a look at a new definition of csv_reader():\n",
        "\n",
        "```python\n",
        "def csv_reader(file_name):\n",
        "    for row in open(file_name, \"r\"):\n",
        "        yield row\n",
        "```\n",
        "In this version, you open the file, iterate through it, and yield a row. This code should produce the following output, with no memory errors:\n",
        "\n",
        "```\n",
        "Row count is 64186394\n",
        "```\n",
        "\n",
        "What’s happening here? Well, you’ve essentially turned csv_reader() into a generator function. This version opens a file, loops through each line, and \n",
        "yields each row, instead of returning it.\n",
        "\n",
        "You can also define a generator expression (also called a generator comprehension), which has a very similar syntax to list comprehensions. In this way, you can use the generator without calling a function:\n",
        "\n",
        "NOTE: here we use `()` isntead of `[]` like in list comprehension\n",
        "\n",
        "```python \n",
        "csv_gen = (row for row in open(file_name))\n",
        "```\n"
      ]
    },
    {
      "cell_type": "markdown",
      "metadata": {
        "id": "jj0ECwjs6hfS"
      },
      "source": [
        "#### Example 2: Generating an Infinite Sequence\n",
        "\n",
        "Let’s switch gears and look at infinite sequence generation. In Python, to get a finite sequence, you call range() and evaluate it in a list context:\n",
        "\n",
        "```python\n",
        ">>> a = range(5)\n",
        ">>> list(a)\n",
        "[0, 1, 2, 3, 4]\n",
        "```\n",
        "\n",
        "Generating an infinite sequence, however, will require the use of a generator, since your computer memory is finite:\n",
        "\n"
      ]
    },
    {
      "cell_type": "code",
      "metadata": {
        "id": "HMq2iMkD6w-H"
      },
      "source": [
        "def infinite_sequence():\n",
        "    num = 0\n",
        "    while True:\n",
        "        yield num\n",
        "        num += 1  ### this statement is executed after yield, unlike return"
      ],
      "execution_count": 1,
      "outputs": []
    },
    {
      "cell_type": "markdown",
      "metadata": {
        "id": "sahJea5tEUby"
      },
      "source": [
        "This code block is short and sweet. First, you initialize the variable num and start an infinite loop. Then, you immediately yield num so that you can capture the initial state. This mimics the action of range().\n",
        "\n",
        "After yield, you increment num by 1. If you try this with a for loop, then you’ll see that it really does seem infinite:"
      ]
    },
    {
      "cell_type": "code",
      "metadata": {
        "id": "NdN2jCtD7Dhw"
      },
      "source": [
        "for i in infinite_sequence():\n",
        "    print (i, end=' ')"
      ],
      "execution_count": null,
      "outputs": []
    },
    {
      "cell_type": "markdown",
      "metadata": {
        "id": "Vkx_LliaEnh_"
      },
      "source": [
        "The program will continue to execute until you stop it manually.\n",
        "\n",
        "Instead of using a for loop, you can also call next() on the generator object directly. This is especially useful for testing a generator in the console:"
      ]
    },
    {
      "cell_type": "code",
      "metadata": {
        "colab": {
          "base_uri": "https://localhost:8080/"
        },
        "id": "pd-GW_fPEcED",
        "outputId": "6a785849-cbbc-411b-c9ac-5e34b36d46a3"
      },
      "source": [
        "gen = infinite_sequence()\n",
        "\n",
        "next(gen)"
      ],
      "execution_count": 3,
      "outputs": [
        {
          "output_type": "execute_result",
          "data": {
            "text/plain": [
              "0"
            ]
          },
          "metadata": {
            "tags": []
          },
          "execution_count": 3
        }
      ]
    },
    {
      "cell_type": "code",
      "metadata": {
        "colab": {
          "base_uri": "https://localhost:8080/"
        },
        "id": "OtL34T_6Ep1b",
        "outputId": "7923b146-157a-4eca-ebbc-3bd5200e128d"
      },
      "source": [
        "next(gen)"
      ],
      "execution_count": 5,
      "outputs": [
        {
          "output_type": "execute_result",
          "data": {
            "text/plain": [
              "2"
            ]
          },
          "metadata": {
            "tags": []
          },
          "execution_count": 5
        }
      ]
    },
    {
      "cell_type": "markdown",
      "metadata": {
        "id": "GC-_oP_REuiE"
      },
      "source": [
        "Here, you have a generator called gen, which you manually iterate over by repeatedly calling next(). This works as a great sanity check to make sure your generators are producing the output you expect.\n",
        "\n",
        "#### Example 3: Detecting Palindromes\n",
        "\n",
        "You can use infinite sequences in many ways, but one practical use for them is in building palindrome detectors. A palindrome detector will locate all sequences of letters or numbers that are palindromes. These are words or numbers that are read the same forward and backward, like 121. First, define your numeric palindrome detector:\n",
        "\n"
      ]
    },
    {
      "cell_type": "markdown",
      "metadata": {
        "id": "wqmrGuytMYV2"
      },
      "source": [
        "num = 121\n",
        "temp = 121\n",
        "\n",
        "rev_num = 12\n",
        "temp = 1"
      ]
    },
    {
      "cell_type": "code",
      "metadata": {
        "id": "nsQxg4AYErDk"
      },
      "source": [
        "def is_palindrome(num):\n",
        "    # Skip single-digit inputs\n",
        "    if num//10 == 0:\n",
        "        return False\n",
        "\n",
        "    temp = num\n",
        "    reversed_num = 0\n",
        "\n",
        "    ### calculate the reverse of num\n",
        "    while temp!=0:\n",
        "        reversed_num = (reversed_num * 10) + (temp % 10)\n",
        "        temp = temp // 10\n",
        "\n",
        "    if num == reversed_num:\n",
        "        return num\n",
        "    else:\n",
        "        return False"
      ],
      "execution_count": 6,
      "outputs": []
    },
    {
      "cell_type": "code",
      "metadata": {
        "id": "dWkEMUyPM5e0"
      },
      "source": [
        "for i in infinite_sequence():\n",
        "    pal = is_palindrome(i)\n",
        "    if pal:\n",
        "        print (pal)"
      ],
      "execution_count": null,
      "outputs": []
    },
    {
      "cell_type": "markdown",
      "metadata": {
        "id": "rWPQo1nQNQrA"
      },
      "source": [
        "In this case, the only numbers that are printed to the console are those that are the same forward or backward.\n",
        "\n",
        "Now that you’ve seen a simple use case for an infinite sequence generator, let’s dive deeper into how generators work.\n",
        "\n",
        "### Understanding Generators\n",
        "\n",
        "So far, you’ve learned about the two primary ways of creating generators: by using generator functions (calling a function with yield like we do in normal python) and generator expressions (using `()` like in list comprehensions). You might even have an intuitive understanding of how generators work. Let’s take a moment to make that knowledge a little more explicit.\n",
        "\n",
        "\n",
        "Generator functions look and act just like regular functions, but with one defining characteristic. Generator functions use the Python yield keyword instead of return. Recall the generator function you wrote earlier:\n",
        "\n",
        "```python\n",
        "def infinite_sequence():\n",
        "    num = 0\n",
        "    while True:\n",
        "        yield num\n",
        "        num += 1\n",
        "```\n",
        "\n",
        "This looks like a typical function definition, except for the Python yield statement and the code that follows it. yield indicates where a value is sent back to the caller, but unlike return, you don’t exit the function afterward.\n",
        "\n",
        "Instead, the state of the function is remembered. That way, when next() is called on a generator object (either explicitly or implicitly within a for loop), the previously yielded variable num is incremented, and then yielded again. Since generator functions look like other functions and act very similarly to them, you can assume that generator expressions are very similar to other comprehensions available in Python.\n",
        "\n",
        "#### Building Generators With Generator Expressions\n",
        "\n",
        "Like list comprehensions, generator expressions allow you to quickly create a generator object in just a few lines of code. They’re also useful in the same cases where list comprehensions are used, with an added benefit: you can create them without building and holding the entire object in memory before iteration. In other words, you’ll have no memory penalty when you use generator expressions. Take this example of squaring some numbers:\n",
        "\n"
      ]
    },
    {
      "cell_type": "code",
      "metadata": {
        "colab": {
          "base_uri": "https://localhost:8080/"
        },
        "id": "Fcdb8r1MNGMa",
        "outputId": "cd3f6b9d-34e9-4032-90c2-5a304c29ea51"
      },
      "source": [
        "nums_squared_lc = [num**2 for num in range(5)]\n",
        "nums_squared_lc"
      ],
      "execution_count": 8,
      "outputs": [
        {
          "output_type": "execute_result",
          "data": {
            "text/plain": [
              "[0, 1, 4, 9, 16]"
            ]
          },
          "metadata": {
            "tags": []
          },
          "execution_count": 8
        }
      ]
    },
    {
      "cell_type": "code",
      "metadata": {
        "colab": {
          "base_uri": "https://localhost:8080/"
        },
        "id": "TsBdinEyUg7u",
        "outputId": "10858691-d776-41dc-a24d-a691df1a8693"
      },
      "source": [
        "nums_squared_gc = (num**2 for num in range(5))\n",
        "nums_squared_gc"
      ],
      "execution_count": 10,
      "outputs": [
        {
          "output_type": "execute_result",
          "data": {
            "text/plain": [
              "<generator object <genexpr> at 0x7f1b12c79050>"
            ]
          },
          "metadata": {
            "tags": []
          },
          "execution_count": 10
        }
      ]
    },
    {
      "cell_type": "markdown",
      "metadata": {
        "id": "JvLWS4OLUolj"
      },
      "source": [
        "The first object used brackets to build a list, while the second created a generator expression by using parentheses. The output confirms that you’ve created a generator object and that it is distinct from a list.\n",
        "\n"
      ]
    },
    {
      "cell_type": "markdown",
      "metadata": {
        "id": "RXrM3-TvUqhh"
      },
      "source": [
        "### Profiling Generator Performance\n",
        "\n",
        "You learned earlier that generators are a great way to optimize memory. While an infinite sequence generator is an extreme example of this optimization, let’s amp up the number squaring examples you just saw and inspect the size of the resulting objects. You can do this with a call to `sys.getsizeof()`:\n",
        "\n"
      ]
    },
    {
      "cell_type": "code",
      "metadata": {
        "colab": {
          "base_uri": "https://localhost:8080/"
        },
        "id": "g9czHbX4UkXe",
        "outputId": "fa628e91-56c2-46b4-df0a-a14189dab3fb"
      },
      "source": [
        "import sys\n",
        "nums_squared_lc = [i * 2 for i in range(10000)]\n",
        "sys.getsizeof(nums_squared_lc)"
      ],
      "execution_count": 12,
      "outputs": [
        {
          "output_type": "execute_result",
          "data": {
            "text/plain": [
              "87632"
            ]
          },
          "metadata": {
            "tags": []
          },
          "execution_count": 12
        }
      ]
    },
    {
      "cell_type": "code",
      "metadata": {
        "colab": {
          "base_uri": "https://localhost:8080/"
        },
        "id": "Ubz5FpVxUyzl",
        "outputId": "02051a27-c513-484a-9335-f88787325397"
      },
      "source": [
        "nums_squared_gc = (i ** 2 for i in range(10000))\n",
        "print(sys.getsizeof(nums_squared_gc))"
      ],
      "execution_count": 14,
      "outputs": [
        {
          "output_type": "stream",
          "text": [
            "128\n"
          ],
          "name": "stdout"
        }
      ]
    },
    {
      "cell_type": "markdown",
      "metadata": {
        "id": "EA-NqvARU_5r"
      },
      "source": [
        "In this case, the list you get from the list comprehension is 87,624 bytes, while the generator object is only 120. This means that the list is over 700 times larger than the generator object!\n",
        "\n",
        "__There is one thing to keep in mind, though. If the list is smaller than the running machine’s available memory, then list comprehensions can be faster to evaluate than the equivalent generator expression__. To explore this, let’s sum across the results from the two comprehensions above. You can generate a readout with cProfile.run():"
      ]
    },
    {
      "cell_type": "code",
      "metadata": {
        "id": "tuat6VogVFC7"
      },
      "source": [
        "import cProfile"
      ],
      "execution_count": 15,
      "outputs": []
    },
    {
      "cell_type": "code",
      "metadata": {
        "colab": {
          "base_uri": "https://localhost:8080/"
        },
        "id": "MJCrv2UIU6DF",
        "outputId": "1f6dea96-c607-49f0-8dbf-a25db696cbd1"
      },
      "source": [
        "cProfile.run('sum([i * 2 for i in range(10000)])')"
      ],
      "execution_count": 16,
      "outputs": [
        {
          "output_type": "stream",
          "text": [
            "         5 function calls in 0.001 seconds\n",
            "\n",
            "   Ordered by: standard name\n",
            "\n",
            "   ncalls  tottime  percall  cumtime  percall filename:lineno(function)\n",
            "        1    0.001    0.001    0.001    0.001 <string>:1(<listcomp>)\n",
            "        1    0.000    0.000    0.001    0.001 <string>:1(<module>)\n",
            "        1    0.000    0.000    0.001    0.001 {built-in method builtins.exec}\n",
            "        1    0.000    0.000    0.000    0.000 {built-in method builtins.sum}\n",
            "        1    0.000    0.000    0.000    0.000 {method 'disable' of '_lsprof.Profiler' objects}\n",
            "\n",
            "\n"
          ],
          "name": "stdout"
        }
      ]
    },
    {
      "cell_type": "code",
      "metadata": {
        "colab": {
          "base_uri": "https://localhost:8080/"
        },
        "id": "dogKTWBSVHse",
        "outputId": "06157fd0-a871-41d7-936e-bb8be751dac0"
      },
      "source": [
        "cProfile.run('sum((i * 2 for i in range(10000)))')"
      ],
      "execution_count": 17,
      "outputs": [
        {
          "output_type": "stream",
          "text": [
            "         10005 function calls in 0.004 seconds\n",
            "\n",
            "   Ordered by: standard name\n",
            "\n",
            "   ncalls  tottime  percall  cumtime  percall filename:lineno(function)\n",
            "    10001    0.002    0.000    0.002    0.000 <string>:1(<genexpr>)\n",
            "        1    0.000    0.000    0.003    0.003 <string>:1(<module>)\n",
            "        1    0.000    0.000    0.004    0.004 {built-in method builtins.exec}\n",
            "        1    0.001    0.001    0.003    0.003 {built-in method builtins.sum}\n",
            "        1    0.000    0.000    0.000    0.000 {method 'disable' of '_lsprof.Profiler' objects}\n",
            "\n",
            "\n"
          ],
          "name": "stdout"
        }
      ]
    },
    {
      "cell_type": "markdown",
      "metadata": {
        "id": "0VdAOiO7VQMV"
      },
      "source": [
        "Here, you can see that summing across all values in the list comprehension took about a third of the time as summing across the generator. \n",
        "\n",
        "> If speed is an issue and memory isn’t, then a list comprehension is likely a better tool for the job.\n",
        "\n",
        "Remember, list comprehensions return full lists, while generator expressions return generators. \n",
        "\n",
        "__Generators work the same whether they’re built from a function or an expression. Using an expression just allows you to define simple generators in a single line, with an assumed yield at the end of each inner iteration.__\n",
        "\n",
        "The Python yield statement is certainly the linchpin on which all of the functionality of generators rests, so let’s dive into how yield works in Python.\n",
        "\n",
        "\n",
        "\n"
      ]
    },
    {
      "cell_type": "code",
      "metadata": {
        "id": "7cZ66E0-VMLx"
      },
      "source": [
        ""
      ],
      "execution_count": null,
      "outputs": []
    }
  ]
}