{
  "nbformat": 4,
  "nbformat_minor": 0,
  "metadata": {
    "colab": {
      "name": "DSA in Python Fundamentals.ipynb",
      "provenance": [],
      "collapsed_sections": [],
      "authorship_tag": "ABX9TyNGHe6Gs5vwv/FyTUCLOHWh",
      "include_colab_link": true
    },
    "kernelspec": {
      "name": "python3",
      "display_name": "Python 3"
    },
    "language_info": {
      "name": "python"
    }
  },
  "cells": [
    {
      "cell_type": "markdown",
      "metadata": {
        "id": "view-in-github",
        "colab_type": "text"
      },
      "source": [
        "<a href=\"https://colab.research.google.com/github/ShaunakSen/problem-solving-with-code/blob/master/DSA_in_Python_Fundamentals.ipynb\" target=\"_parent\"><img src=\"https://colab.research.google.com/assets/colab-badge.svg\" alt=\"Open In Colab\"/></a>"
      ]
    },
    {
      "cell_type": "markdown",
      "metadata": {
        "id": "qQeRmKWN15U4"
      },
      "source": [
        "# Data Structures and Algorithms - Improving concepts\n",
        "\n",
        "> Notes, codes, solutions from multiple resources to improve fundamentals on DSA\n",
        "\n",
        "- Data Structures and Algorithms by Michael T Goodrich: https://www.amazon.in/Structures-Algorithms-Python-Michael-Goodrich/dp/1118290275\n",
        "\n",
        "---"
      ]
    },
    {
      "cell_type": "markdown",
      "metadata": {
        "id": "_bm9El1F28Hf"
      },
      "source": [
        "## Some advanced python concepts\n",
        "\n",
        "### Iterators and Generators\n",
        "\n",
        "an instance of a list is an iterable, but not itself an iterator.\n",
        "With data = [1, 2, 4, 8], it is not legal to call next(data). However, an iterator object can be produced with syntax, i = iter(data), and then each subsequent call to next(i) will return an element of that list. The for-loop syntax in Python simply automates this process, creating an iterator for the give iterable, and then repeatedly calling for the next element until catching the StopIteration exception\n",
        "\n",
        "More generally, it is possible to create multiple iterators based upon the same\n",
        "iterable object, with each iterator maintaining its own state of progress. However,\n",
        "iterators typically maintain their state with indirect reference back to the original\n",
        "collection of elements. For example, calling iter(data) on a list instance produces\n",
        "an instance of the list iterator class. That iterator does not store its own copy of the\n",
        "list of elements. Instead, it maintains a current index into the original list, represent\u0002ing the next element to be reported. Therefore, if the contents of the original list\n",
        "are modified after the iterator is constructed, but before the iteration is complete,\n",
        "the iterator will be reporting the updated contents of the list.\n",
        "Python also supports functions and classes that produce an implicit iterable se\u0002ries of values, that is, without constructing a data structure to store all of its values\n",
        "at once. For example, the call range(1000000) does not return a list of numbers; it\n",
        "returns a range object that is iterable. This object generates the million values one\n",
        "at a time, and only as needed. Such a lazy evaluation technique has great advan\u0002tage. In the case of range, it allows a loop of the form, for j in range(1000000):,\n",
        "to execute without setting aside memory for storing one million values. Also, if\n",
        "such a loop were to be interrupted in some fashion, no time will have been spent\n",
        "computing unused values of the range\n"
      ]
    },
    {
      "cell_type": "markdown",
      "metadata": {
        "id": "gPYYbi7d4_v9"
      },
      "source": [
        "A generator is implemented with a syntax that\n",
        "is very similar to a function, but instead of returning values, a yield statement is\n",
        "executed to indicate each element of the series. As an example, consider the goal\n",
        "of determining all factors of a positive integer. For example, the number 100 has\n",
        "factors 1, 2, 4, 5, 10, 20, 25, 50, 100. A traditional function might produce and\n",
        "return a list containing all factors, implemented as:"
      ]
    },
    {
      "cell_type": "code",
      "metadata": {
        "id": "BYuK1iyu13ML"
      },
      "source": [
        "def factors(n):\n",
        "    results = []\n",
        "    for k in range(1, n+1):\n",
        "        if n%k == 0:\n",
        "            results.append(k)\n",
        "\n",
        "    return results"
      ],
      "execution_count": 1,
      "outputs": []
    },
    {
      "cell_type": "code",
      "metadata": {
        "id": "79dzutng5L44"
      },
      "source": [
        "def factors(n):\n",
        "    results = []\n",
        "    for k in range(1, n+1):\n",
        "        if n%k == 0:\n",
        "            yield k"
      ],
      "execution_count": 2,
      "outputs": []
    },
    {
      "cell_type": "code",
      "metadata": {
        "colab": {
          "base_uri": "https://localhost:8080/"
        },
        "id": "_QTaZpQ15P_V",
        "outputId": "b60294ae-462e-4470-f33c-dd9a71e12fc3"
      },
      "source": [
        "next(factors(200))"
      ],
      "execution_count": 5,
      "outputs": [
        {
          "output_type": "execute_result",
          "data": {
            "text/plain": [
              "1"
            ]
          },
          "metadata": {
            "tags": []
          },
          "execution_count": 5
        }
      ]
    },
    {
      "cell_type": "markdown",
      "metadata": {
        "id": "FqZdOllc5cZ4"
      },
      "source": [
        "Notice use of the keyword yield rather than return to indicate a result. This indi\u0002cates to Python that we are defining a generator, rather than a traditional function\n",
        "\n",
        "If a programmer writes a loop such as for factor in factors(100):, an instance of our generator is created. For each iteration of the loop, Python executes our procedure  If a programmer writes a loop such as for factor in factors(100):, an instance of our generator is created. For each iteration of the loop, Python executes our procedure"
      ]
    },
    {
      "cell_type": "code",
      "metadata": {
        "id": "5MvlmE1v5TUh"
      },
      "source": [
        "def factors(n):\n",
        "    k=1\n",
        "    while k*k < n: ## while k < sqrt(n)\n",
        "        if n%k == 0:\n",
        "            yield k ## k is a factor\n",
        "            yield n//k ## so is n/k\n",
        "        k+=1\n",
        "    if k*k == n: ##  special case if n is perfect square\n",
        "        yield k"
      ],
      "execution_count": 6,
      "outputs": []
    },
    {
      "cell_type": "markdown",
      "metadata": {
        "id": "R23u6BDW61rG"
      },
      "source": [
        "We should note that this generator differs from our first version in that the factors are not generated in strictly increasing order. For example, factors(100) generates the series 1,100,2,50,4,25,5,20,10"
      ]
    },
    {
      "cell_type": "markdown",
      "metadata": {
        "id": "5GLpRHow7uNp"
      },
      "source": [
        "More on generators: https://realpython.com/introduction-to-python-generators/"
      ]
    },
    {
      "cell_type": "code",
      "metadata": {
        "id": "HMq2iMkD6w-H"
      },
      "source": [
        ""
      ],
      "execution_count": null,
      "outputs": []
    },
    {
      "cell_type": "code",
      "metadata": {
        "id": "NdN2jCtD7Dhw"
      },
      "source": [
        ""
      ],
      "execution_count": null,
      "outputs": []
    }
  ]
}