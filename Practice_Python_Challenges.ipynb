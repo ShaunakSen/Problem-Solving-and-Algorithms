{
  "nbformat": 4,
  "nbformat_minor": 0,
  "metadata": {
    "colab": {
      "name": "Practice Python Challenges.ipynb",
      "provenance": [],
      "collapsed_sections": [],
      "authorship_tag": "ABX9TyOen0Zp1XpEDG9Sp3D6AmHs",
      "include_colab_link": true
    },
    "kernelspec": {
      "name": "python3",
      "display_name": "Python 3"
    }
  },
  "cells": [
    {
      "cell_type": "markdown",
      "metadata": {
        "id": "view-in-github",
        "colab_type": "text"
      },
      "source": [
        "<a href=\"https://colab.research.google.com/github/ShaunakSen/problem-solving-with-code/blob/master/Practice_Python_Challenges.ipynb\" target=\"_parent\"><img src=\"https://colab.research.google.com/assets/colab-badge.svg\" alt=\"Open In Colab\"/></a>"
      ]
    },
    {
      "cell_type": "markdown",
      "metadata": {
        "id": "Mrap9vDT-LsO",
        "colab_type": "text"
      },
      "source": [
        "## Codewars Problems\n",
        "\n",
        "---\n",
        "\n",
        "### Isograms\n",
        "\n",
        "\n",
        "[link](https://www.codewars.com/kata/54ba84be607a92aa900000f1/train/python)\n",
        "\n",
        "An isogram is a word that has no repeating letters, consecutive or non-consecutive. Implement a function that determines whether a string that contains only letters is an isogram. Assume the empty string is an isogram. Ignore letter case.\n",
        "\n",
        "Test Cases:\n",
        "\n",
        "``` python\n",
        "Test.assert_equals(is_isogram(\"Dermatoglyphics\"), True )\n",
        "Test.assert_equals(is_isogram(\"isogram\"), True )\n",
        "Test.assert_equals(is_isogram(\"aba\"), False, \"same chars may not be adjacent\" )\n",
        "Test.assert_equals(is_isogram(\"moOse\"), False, \"same chars may not be same case\" )\n",
        "Test.assert_equals(is_isogram(\"isIsogram\"), False )\n",
        "Test.assert_equals(is_isogram(\"\"), True, \"an empty string is a valid isogram\" )\n",
        "```\n"
      ]
    },
    {
      "cell_type": "code",
      "metadata": {
        "id": "TOsm_Mv896sV",
        "colab_type": "code",
        "outputId": "5bf29e84-b4f2-43e0-f677-c84b48a2bcd5",
        "colab": {
          "base_uri": "https://localhost:8080/",
          "height": 34
        }
      },
      "source": [
        "def is_isogram(string):\n",
        "\n",
        "    string_as_list = [letter.lower() for letter in string]\n",
        "    return len(set(string_as_list)) == len(string_as_list)\n",
        "\n",
        "test_str = 'Dermadtoglyphics'\n",
        "\n",
        "is_isogram(test_str)"
      ],
      "execution_count": 0,
      "outputs": [
        {
          "output_type": "execute_result",
          "data": {
            "text/plain": [
              "True"
            ]
          },
          "metadata": {
            "tags": []
          },
          "execution_count": 19
        }
      ]
    },
    {
      "cell_type": "markdown",
      "metadata": {
        "id": "z5OOHzVIIJlz",
        "colab_type": "text"
      },
      "source": [
        "### Mumbling\n",
        "\n",
        "[link](https://www.codewars.com/kata/5667e8f4e3f572a8f2000039/train/python)\n",
        "\n",
        "```\n",
        "accum(\"abcd\") -> \"A-Bb-Ccc-Dddd\"\n",
        "accum(\"RqaEzty\") -> \"R-Qq-Aaa-Eeee-Zzzzz-Tttttt-Yyyyyyy\"\n",
        "accum(\"cwAt\") -> \"C-Ww-Aaa-Tttt\"\n",
        "```"
      ]
    },
    {
      "cell_type": "code",
      "metadata": {
        "id": "HNw0MG4GB_uW",
        "colab_type": "code",
        "outputId": "9b73c7d9-7e34-4a1f-8f1b-1ccd2d4ac37a",
        "colab": {
          "base_uri": "https://localhost:8080/",
          "height": 34
        }
      },
      "source": [
        "test_str = 'abcd'\n",
        "\n",
        "'-'.join([test_str[idx].upper() + test_str[idx].lower()*idx for idx in range(len(test_str))])"
      ],
      "execution_count": 0,
      "outputs": [
        {
          "output_type": "execute_result",
          "data": {
            "text/plain": [
              "'A-Bb-Ccc-Dddd'"
            ]
          },
          "metadata": {
            "tags": []
          },
          "execution_count": 27
        }
      ]
    },
    {
      "cell_type": "markdown",
      "metadata": {
        "id": "iHwD0z_4tOV_",
        "colab_type": "text"
      },
      "source": [
        "### Jaden Casing Strings\n",
        "\n",
        "Jaden Smith, the son of Will Smith, is the star of films such as The Karate Kid (2010) and After Earth (2013). Jaden is also known for some of his philosophy that he delivers via Twitter. When writing on Twitter, he is known for almost always capitalizing every word. For simplicity, you'll have to capitalize each word, check out how contractions are expected to be in the example below.\n",
        "\n",
        "Your task is to convert strings to how they would be written by Jaden Smith. The strings are actual quotes from Jaden Smith, but they are not capitalized in the same way he originally typed them.\n",
        "\n",
        "```\n",
        "Not Jaden-Cased: \"How can mirrors be real if our eyes aren't real\"\n",
        "Jaden-Cased:     \"How Can Mirrors Be Real If Our Eyes Aren't Real\"\n",
        "```"
      ]
    },
    {
      "cell_type": "code",
      "metadata": {
        "id": "uTDi8iT9tcrm",
        "colab_type": "code",
        "colab": {
          "base_uri": "https://localhost:8080/",
          "height": 34
        },
        "outputId": "5b537cf8-4bc4-4042-e6ca-58029bbe630c"
      },
      "source": [
        "'hey there'.capitalize()"
      ],
      "execution_count": 1,
      "outputs": [
        {
          "output_type": "execute_result",
          "data": {
            "text/plain": [
              "'Hey there'"
            ]
          },
          "metadata": {
            "tags": []
          },
          "execution_count": 1
        }
      ]
    },
    {
      "cell_type": "code",
      "metadata": {
        "id": "i7MscT75tgNe",
        "colab_type": "code",
        "colab": {
          "base_uri": "https://localhost:8080/",
          "height": 34
        },
        "outputId": "0b947bb2-0bd3-41a8-add8-acf432b6e0e1"
      },
      "source": [
        "test_str = \"How can mirrors be real if our eyes aren't real\"\n",
        "\n",
        "' '.join([word.capitalize() for word in test_str.split()])"
      ],
      "execution_count": 3,
      "outputs": [
        {
          "output_type": "execute_result",
          "data": {
            "text/plain": [
              "\"How Can Mirrors Be Real If Our Eyes Aren't Real\""
            ]
          },
          "metadata": {
            "tags": []
          },
          "execution_count": 3
        }
      ]
    },
    {
      "cell_type": "markdown",
      "metadata": {
        "id": "VGWPucdcuDtA",
        "colab_type": "text"
      },
      "source": [
        "### Binary Addition\n",
        "\n",
        "\n",
        "Implement a function that adds two numbers together and returns their sum in binary. The conversion can be done before, or after the addition.\n",
        "\n",
        "The binary number returned should be a string.\n",
        "\n",
        "```\n",
        "Test.assert_equals(add_binary(1,1),\"10\")\n",
        "Test.assert_equals(add_binary(0,1),\"1\")\n",
        "Test.assert_equals(add_binary(1,0),\"1\")\n",
        "Test.assert_equals(add_binary(2,2),\"100\")\n",
        "Test.assert_equals(add_binary(51,12),\"111111\")\n",
        "```"
      ]
    },
    {
      "cell_type": "code",
      "metadata": {
        "id": "szZfwapCt0du",
        "colab_type": "code",
        "colab": {
          "base_uri": "https://localhost:8080/",
          "height": 34
        },
        "outputId": "d0072563-f1a0-4d4d-fbc9-784947c5e5e7"
      },
      "source": [
        "def convert_to_binary(num):\n",
        "    binary = []\n",
        "    while num != 0:\n",
        "        rem = num%2\n",
        "        num = int(num/2)\n",
        "        binary.append(rem)\n",
        "\n",
        "    return binary\n",
        "\n",
        "list(reversed(convert_to_binary(339)))\n",
        "\n"
      ],
      "execution_count": 10,
      "outputs": [
        {
          "output_type": "execute_result",
          "data": {
            "text/plain": [
              "[1, 0, 1, 0, 1, 0, 0, 1, 1]"
            ]
          },
          "metadata": {
            "tags": []
          },
          "execution_count": 10
        }
      ]
    },
    {
      "cell_type": "code",
      "metadata": {
        "id": "eRBD0uKy9DVQ",
        "colab_type": "code",
        "colab": {
          "base_uri": "https://localhost:8080/",
          "height": 34
        },
        "outputId": "e02d9f2b-7869-4f3c-dae8-d99404495cf0"
      },
      "source": [
        "bin(339)[2:]"
      ],
      "execution_count": 12,
      "outputs": [
        {
          "output_type": "execute_result",
          "data": {
            "text/plain": [
              "'101010011'"
            ]
          },
          "metadata": {
            "tags": []
          },
          "execution_count": 12
        }
      ]
    },
    {
      "cell_type": "code",
      "metadata": {
        "id": "GlNeNsFo9LLS",
        "colab_type": "code",
        "colab": {}
      },
      "source": [
        ""
      ],
      "execution_count": 0,
      "outputs": []
    }
  ]
}