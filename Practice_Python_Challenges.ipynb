{
  "nbformat": 4,
  "nbformat_minor": 0,
  "metadata": {
    "colab": {
      "name": "Practice Python Challenges.ipynb",
      "provenance": [],
      "collapsed_sections": [],
      "authorship_tag": "ABX9TyMoMYF15Z6NRYx3CUNtFkRp",
      "include_colab_link": true
    },
    "kernelspec": {
      "name": "python3",
      "display_name": "Python 3"
    }
  },
  "cells": [
    {
      "cell_type": "markdown",
      "metadata": {
        "id": "view-in-github",
        "colab_type": "text"
      },
      "source": [
        "<a href=\"https://colab.research.google.com/github/ShaunakSen/problem-solving-with-code/blob/master/Practice_Python_Challenges.ipynb\" target=\"_parent\"><img src=\"https://colab.research.google.com/assets/colab-badge.svg\" alt=\"Open In Colab\"/></a>"
      ]
    },
    {
      "cell_type": "markdown",
      "metadata": {
        "id": "Mrap9vDT-LsO",
        "colab_type": "text"
      },
      "source": [
        "## Codewars Problems\n",
        "\n",
        "---\n",
        "\n",
        "### Isograms\n",
        "\n",
        "\n",
        "[link](https://www.codewars.com/kata/54ba84be607a92aa900000f1/train/python)\n",
        "\n",
        "An isogram is a word that has no repeating letters, consecutive or non-consecutive. Implement a function that determines whether a string that contains only letters is an isogram. Assume the empty string is an isogram. Ignore letter case.\n",
        "\n",
        "Test Cases:\n",
        "\n",
        "``` python\n",
        "Test.assert_equals(is_isogram(\"Dermatoglyphics\"), True )\n",
        "Test.assert_equals(is_isogram(\"isogram\"), True )\n",
        "Test.assert_equals(is_isogram(\"aba\"), False, \"same chars may not be adjacent\" )\n",
        "Test.assert_equals(is_isogram(\"moOse\"), False, \"same chars may not be same case\" )\n",
        "Test.assert_equals(is_isogram(\"isIsogram\"), False )\n",
        "Test.assert_equals(is_isogram(\"\"), True, \"an empty string is a valid isogram\" )\n",
        "```\n"
      ]
    },
    {
      "cell_type": "code",
      "metadata": {
        "id": "TOsm_Mv896sV",
        "colab_type": "code",
        "colab": {
          "base_uri": "https://localhost:8080/",
          "height": 34
        },
        "outputId": "5bf29e84-b4f2-43e0-f677-c84b48a2bcd5"
      },
      "source": [
        "def is_isogram(string):\n",
        "\n",
        "    string_as_list = [letter.lower() for letter in string]\n",
        "    return len(set(string_as_list)) == len(string_as_list)\n",
        "\n",
        "test_str = 'Dermadtoglyphics'\n",
        "\n",
        "is_isogram(test_str)"
      ],
      "execution_count": 19,
      "outputs": [
        {
          "output_type": "execute_result",
          "data": {
            "text/plain": [
              "True"
            ]
          },
          "metadata": {
            "tags": []
          },
          "execution_count": 19
        }
      ]
    },
    {
      "cell_type": "markdown",
      "metadata": {
        "id": "z5OOHzVIIJlz",
        "colab_type": "text"
      },
      "source": [
        "### Mumbling\n",
        "\n",
        "[link](https://www.codewars.com/kata/5667e8f4e3f572a8f2000039/train/python)\n",
        "\n",
        "```\n",
        "accum(\"abcd\") -> \"A-Bb-Ccc-Dddd\"\n",
        "accum(\"RqaEzty\") -> \"R-Qq-Aaa-Eeee-Zzzzz-Tttttt-Yyyyyyy\"\n",
        "accum(\"cwAt\") -> \"C-Ww-Aaa-Tttt\"\n",
        "```"
      ]
    },
    {
      "cell_type": "code",
      "metadata": {
        "id": "HNw0MG4GB_uW",
        "colab_type": "code",
        "colab": {
          "base_uri": "https://localhost:8080/",
          "height": 34
        },
        "outputId": "9b73c7d9-7e34-4a1f-8f1b-1ccd2d4ac37a"
      },
      "source": [
        "test_str = 'abcd'\n",
        "\n",
        "'-'.join([test_str[idx].upper() + test_str[idx].lower()*idx for idx in range(len(test_str))])"
      ],
      "execution_count": 27,
      "outputs": [
        {
          "output_type": "execute_result",
          "data": {
            "text/plain": [
              "'A-Bb-Ccc-Dddd'"
            ]
          },
          "metadata": {
            "tags": []
          },
          "execution_count": 27
        }
      ]
    }
  ]
}