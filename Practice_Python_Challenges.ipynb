{
 "cells": [
  {
   "cell_type": "markdown",
   "source": "<a href=\"https://colab.research.google.com/github/ShaunakSen/problem-solving-with-code/blob/master/Practice_Python_Challenges.ipynb\" target=\"_parent\"><img src=\"https://colab.research.google.com/assets/colab-badge.svg\" alt=\"Open In Colab\"/></a>",
   "metadata": {
    "id": "view-in-github",
    "colab_type": "text",
    "cell_id": "00000-3e463ae7-8ac8-4692-8085-6f5ee08c4496",
    "deepnote_cell_type": "markdown"
   }
  },
  {
   "cell_type": "markdown",
   "source": "## Codewars Problems\n\n---\n\n### Isograms\n\n\n[link](https://www.codewars.com/kata/54ba84be607a92aa900000f1/train/python)\n\nAn isogram is a word that has no repeating letters, consecutive or non-consecutive. Implement a function that determines whether a string that contains only letters is an isogram. Assume the empty string is an isogram. Ignore letter case.\n\nTest Cases:\n\n``` python\nTest.assert_equals(is_isogram(\"Dermatoglyphics\"), True )\nTest.assert_equals(is_isogram(\"isogram\"), True )\nTest.assert_equals(is_isogram(\"aba\"), False, \"same chars may not be adjacent\" )\nTest.assert_equals(is_isogram(\"moOse\"), False, \"same chars may not be same case\" )\nTest.assert_equals(is_isogram(\"isIsogram\"), False )\nTest.assert_equals(is_isogram(\"\"), True, \"an empty string is a valid isogram\" )\n```\n",
   "metadata": {
    "id": "Mrap9vDT-LsO",
    "colab_type": "text",
    "cell_id": "00001-c64f7ee3-29ac-45c1-b86d-a27dbe2708ee",
    "deepnote_cell_type": "markdown"
   }
  },
  {
   "cell_type": "code",
   "metadata": {
    "id": "TOsm_Mv896sV",
    "colab_type": "code",
    "outputId": "5bf29e84-b4f2-43e0-f677-c84b48a2bcd5",
    "colab": {
     "base_uri": "https://localhost:8080/",
     "height": 34
    },
    "cell_id": "00002-14be8daf-11c4-4043-a155-b51538485805",
    "deepnote_output_heights": [
     21.1875
    ],
    "deepnote_cell_type": "code"
   },
   "source": "def is_isogram(string):\n\n    string_as_list = [letter.lower() for letter in string]\n    return len(set(string_as_list)) == len(string_as_list)\n\ntest_str = 'Dermadtoglyphics'\n\nis_isogram(test_str)",
   "execution_count": 0,
   "outputs": [
    {
     "output_type": "execute_result",
     "data": {
      "text/plain": "True"
     },
     "metadata": {
      "tags": []
     },
     "execution_count": 19
    }
   ]
  },
  {
   "cell_type": "markdown",
   "source": "### Mumbling\n\n[link](https://www.codewars.com/kata/5667e8f4e3f572a8f2000039/train/python)\n\n```\naccum(\"abcd\") -> \"A-Bb-Ccc-Dddd\"\naccum(\"RqaEzty\") -> \"R-Qq-Aaa-Eeee-Zzzzz-Tttttt-Yyyyyyy\"\naccum(\"cwAt\") -> \"C-Ww-Aaa-Tttt\"\n```",
   "metadata": {
    "id": "z5OOHzVIIJlz",
    "colab_type": "text",
    "cell_id": "00003-d29a02b0-1c62-4c35-93a6-b9973304cf5f",
    "deepnote_cell_type": "markdown"
   }
  },
  {
   "cell_type": "code",
   "metadata": {
    "id": "HNw0MG4GB_uW",
    "colab_type": "code",
    "outputId": "9b73c7d9-7e34-4a1f-8f1b-1ccd2d4ac37a",
    "colab": {
     "base_uri": "https://localhost:8080/",
     "height": 34
    },
    "cell_id": "00004-0b5459c1-af5c-4527-b561-32aa1f565972",
    "deepnote_output_heights": [
     21.1875
    ],
    "deepnote_cell_type": "code"
   },
   "source": "test_str = 'abcd'\n\n'-'.join([test_str[idx].upper() + test_str[idx].lower()*idx for idx in range(len(test_str))])",
   "execution_count": 0,
   "outputs": [
    {
     "output_type": "execute_result",
     "data": {
      "text/plain": "'A-Bb-Ccc-Dddd'"
     },
     "metadata": {
      "tags": []
     },
     "execution_count": 27
    }
   ]
  },
  {
   "cell_type": "markdown",
   "source": "### Jaden Casing Strings\n\nJaden Smith, the son of Will Smith, is the star of films such as The Karate Kid (2010) and After Earth (2013). Jaden is also known for some of his philosophy that he delivers via Twitter. When writing on Twitter, he is known for almost always capitalizing every word. For simplicity, you'll have to capitalize each word, check out how contractions are expected to be in the example below.\n\nYour task is to convert strings to how they would be written by Jaden Smith. The strings are actual quotes from Jaden Smith, but they are not capitalized in the same way he originally typed them.\n\n```\nNot Jaden-Cased: \"How can mirrors be real if our eyes aren't real\"\nJaden-Cased:     \"How Can Mirrors Be Real If Our Eyes Aren't Real\"\n```",
   "metadata": {
    "id": "iHwD0z_4tOV_",
    "colab_type": "text",
    "cell_id": "00005-74fbacea-40fd-402d-8284-16e7ad90103e",
    "deepnote_cell_type": "markdown"
   }
  },
  {
   "cell_type": "code",
   "metadata": {
    "id": "uTDi8iT9tcrm",
    "colab_type": "code",
    "outputId": "5b537cf8-4bc4-4042-e6ca-58029bbe630c",
    "colab": {
     "base_uri": "https://localhost:8080/",
     "height": 34
    },
    "cell_id": "00006-2a3eff49-f65b-4205-aef5-7b8a25f06622",
    "deepnote_output_heights": [
     21.1875
    ],
    "deepnote_cell_type": "code"
   },
   "source": "'hey there'.capitalize()",
   "execution_count": 0,
   "outputs": [
    {
     "output_type": "execute_result",
     "data": {
      "text/plain": "'Hey there'"
     },
     "metadata": {
      "tags": []
     },
     "execution_count": 1
    }
   ]
  },
  {
   "cell_type": "code",
   "metadata": {
    "id": "i7MscT75tgNe",
    "colab_type": "code",
    "outputId": "0b947bb2-0bd3-41a8-add8-acf432b6e0e1",
    "colab": {
     "base_uri": "https://localhost:8080/",
     "height": 34
    },
    "cell_id": "00007-9ff5cbd7-92d2-4745-88f6-b2da013b5391",
    "deepnote_output_heights": [
     21.1875
    ],
    "deepnote_cell_type": "code"
   },
   "source": "test_str = \"How can mirrors be real if our eyes aren't real\"\n\n' '.join([word.capitalize() for word in test_str.split()])",
   "execution_count": 0,
   "outputs": [
    {
     "output_type": "execute_result",
     "data": {
      "text/plain": "\"How Can Mirrors Be Real If Our Eyes Aren't Real\""
     },
     "metadata": {
      "tags": []
     },
     "execution_count": 3
    }
   ]
  },
  {
   "cell_type": "markdown",
   "source": "### Binary Addition\n\n\nImplement a function that adds two numbers together and returns their sum in binary. The conversion can be done before, or after the addition.\n\nThe binary number returned should be a string.\n\n```\nTest.assert_equals(add_binary(1,1),\"10\")\nTest.assert_equals(add_binary(0,1),\"1\")\nTest.assert_equals(add_binary(1,0),\"1\")\nTest.assert_equals(add_binary(2,2),\"100\")\nTest.assert_equals(add_binary(51,12),\"111111\")\n```",
   "metadata": {
    "id": "VGWPucdcuDtA",
    "colab_type": "text",
    "cell_id": "00008-17489c32-5b14-46b6-b694-6066331d0637",
    "deepnote_cell_type": "markdown"
   }
  },
  {
   "cell_type": "code",
   "metadata": {
    "id": "szZfwapCt0du",
    "colab_type": "code",
    "outputId": "d0072563-f1a0-4d4d-fbc9-784947c5e5e7",
    "colab": {
     "base_uri": "https://localhost:8080/",
     "height": 34
    },
    "cell_id": "00009-47a58e17-1bd5-4739-be6c-04b723cbe48b",
    "deepnote_output_heights": [
     21.1875
    ],
    "deepnote_cell_type": "code"
   },
   "source": "def convert_to_binary(num):\n    binary = []\n    while num != 0:\n        rem = num%2\n        num = int(num/2)\n        binary.append(rem)\n\n    return binary\n\nlist(reversed(convert_to_binary(339)))\n\n",
   "execution_count": 0,
   "outputs": [
    {
     "output_type": "execute_result",
     "data": {
      "text/plain": "[1, 0, 1, 0, 1, 0, 0, 1, 1]"
     },
     "metadata": {
      "tags": []
     },
     "execution_count": 10
    }
   ]
  },
  {
   "cell_type": "code",
   "metadata": {
    "id": "eRBD0uKy9DVQ",
    "colab_type": "code",
    "outputId": "e02d9f2b-7869-4f3c-dae8-d99404495cf0",
    "colab": {
     "base_uri": "https://localhost:8080/",
     "height": 34
    },
    "cell_id": "00010-f4719d13-9c8f-48e8-b53e-5c92ea29abcb",
    "deepnote_output_heights": [
     21.1875
    ],
    "deepnote_cell_type": "code"
   },
   "source": "bin(339)[2:]",
   "execution_count": 0,
   "outputs": [
    {
     "output_type": "execute_result",
     "data": {
      "text/plain": "'101010011'"
     },
     "metadata": {
      "tags": []
     },
     "execution_count": 12
    }
   ]
  },
  {
   "cell_type": "markdown",
   "source": "### Dubset \n\n[link](https://www.codewars.com/kata/551dc350bf4e526099000ae5/train/python)\n\nPolycarpus works as a DJ in the best Berland nightclub, and he often uses dubstep music in his performance. Recently, he has decided to take a couple of old songs and make dubstep remixes from them.\n\nLet's assume that a song consists of some number of words (that don't contain WUB). To make the dubstep remix of this song, Polycarpus inserts a certain number of words \"WUB\" before the first word of the song (the number may be zero), after the last word (the number may be zero), and between words (at least one between any pair of neighbouring words), and then the boy glues together all the words, including \"WUB\", in one string and plays the song at the club.\n\nFor example, a song with words \"I AM X\" can transform into a dubstep remix as \"WUBWUBIWUBAMWUBWUBX\" and cannot transform into \"WUBWUBIAMWUBX\".\n\nRecently, Jonny has heard Polycarpus's new dubstep track, but since he isn't into modern music, he decided to find out what was the initial song that Polycarpus remixed. Help Jonny restore the original song.\n\n```\n\nsong_decoder(\"WUBWEWUBAREWUBWUBTHEWUBCHAMPIONSWUBMYWUBFRIENDWUB\")\n  # =>  WE ARE THE CHAMPIONS MY FRIEND\n\nTest.assert_equals(song_decoder(\"AWUBBWUBC\"), \"A B C\",\"WUB should be replaced by 1 space\")\nTest.assert_equals(song_decoder(\"AWUBWUBWUBBWUBWUBWUBC\"), \"A B C\",\"multiples WUB should be replaced by only 1 space\")\nTest.assert_equals(song_decoder(\"WUBAWUBBWUBCWUB\"), \"A B C\",\"heading or trailing spaces should be removed\")\n\n```",
   "metadata": {
    "id": "7V1v6Xj3fVzu",
    "colab_type": "text",
    "cell_id": "00011-749cbd39-77f3-4ae4-be31-07f95173dacd",
    "deepnote_cell_type": "markdown"
   }
  },
  {
   "cell_type": "code",
   "metadata": {
    "id": "GlNeNsFo9LLS",
    "colab_type": "code",
    "outputId": "edcfcccf-7b96-40eb-883e-549f08ce6f3b",
    "colab": {
     "base_uri": "https://localhost:8080/",
     "height": 34
    },
    "cell_id": "00012-0978a184-aaf0-4f98-a5ab-999ce31f026f",
    "deepnote_output_heights": [
     21.1875
    ],
    "deepnote_cell_type": "code"
   },
   "source": "test_str = \"WUBWEWUBAREWUBWUBTHEWUBCHAMPIONSWUBMYWUBFRIENDWUB\"\n\nwords = [word for word in test_str.split('WUB') if word.strip()!='']\n\n' '.join(words)",
   "execution_count": 0,
   "outputs": [
    {
     "output_type": "execute_result",
     "data": {
      "text/plain": "'WE ARE THE CHAMPIONS MY FRIEND'"
     },
     "metadata": {
      "tags": []
     },
     "execution_count": 4
    }
   ]
  },
  {
   "cell_type": "markdown",
   "source": "### Duplicate Encoder\n\n[link](https://www.codewars.com/kata/54b42f9314d9229fd6000d9c/train/python)\n\nThe goal of this exercise is to convert a string to a new string where each character in the new string is \"(\" if that character appears only once in the original string, or \")\" if that character appears more than once in the original string. Ignore capitalization when determining if a character is a duplicate.\n\n\n```\n\"din\"      =>  \"(((\"\n\"recede\"   =>  \"()()()\"\n\"Success\"  =>  \")())())\"\n\"(( @\"     =>  \"))((\" \n\n```",
   "metadata": {
    "id": "LFW33kVdbdFS",
    "colab_type": "text",
    "cell_id": "00013-a532631b-2b38-4786-af46-7d8e6d607db6",
    "deepnote_cell_type": "markdown"
   }
  },
  {
   "cell_type": "code",
   "metadata": {
    "id": "T_6u7047ceuU",
    "colab_type": "code",
    "outputId": "e332b2d9-1e32-49b8-be1a-70edf5c187be",
    "colab": {
     "base_uri": "https://localhost:8080/",
     "height": 33
    },
    "cell_id": "00014-33257d44-244e-47fc-88a2-0b77497c8652",
    "deepnote_output_heights": [
     21.1875
    ],
    "deepnote_cell_type": "code"
   },
   "source": "'Success'.count('S')",
   "execution_count": 0,
   "outputs": [
    {
     "output_type": "execute_result",
     "data": {
      "text/plain": "1"
     },
     "metadata": {
      "tags": []
     },
     "execution_count": 9
    }
   ]
  },
  {
   "cell_type": "code",
   "metadata": {
    "id": "cfdquf9rf56X",
    "colab_type": "code",
    "outputId": "e7ea2085-39d3-4fe6-84d8-913dd140586f",
    "colab": {
     "base_uri": "https://localhost:8080/",
     "height": 50
    },
    "cell_id": "00015-ffa4e6cc-4be6-46a7-a00b-449c7d3077a0",
    "deepnote_output_heights": [
     null,
     21.1875
    ],
    "deepnote_cell_type": "code"
   },
   "source": "test_str = 'Success'\ntest_str = test_str.lower()\nhash_ = []\n\nfor letter in test_str:\n    hash_.append(test_str.count(letter)>1)\n\nprint (hash_)\n\nnew_str = ''.join([')' if elem else '(' for elem in hash_])\n\nnew_str",
   "execution_count": 0,
   "outputs": [
    {
     "output_type": "stream",
     "text": "[True, False, True, True, False, True, True]\n",
     "name": "stdout"
    },
    {
     "output_type": "execute_result",
     "data": {
      "text/plain": "')())())'"
     },
     "metadata": {
      "tags": []
     },
     "execution_count": 11
    }
   ]
  },
  {
   "cell_type": "markdown",
   "source": "### Counting Duplicates\n\n[link](https://www.codewars.com/kata/54bf1c2cd5b56cc47f0007a1/train/python)\n\nWrite a function that will return the count of distinct case-insensitive alphabetic characters and numeric digits that occur more than once in the input string. The input string can be assumed to contain only alphabets (both uppercase and lowercase) and numeric digits.\n\n\n```\nExample\n\"abcde\" -> 0 # no characters repeats more than once\n\"aabbcde\" -> 2 # 'a' and 'b'\n\"aabBcde\" -> 2 # 'a' occurs twice and 'b' twice (`b` and `B`)\n\"indivisibility\" -> 1 # 'i' occurs six times\n\"Indivisibilities\" -> 2 # 'i' occurs seven times and 's' occurs twice\n\"aA11\" -> 2 # 'a' and '1'\n\"ABBA\" -> 2 # 'A' and 'B' each occur twice\n```\n",
   "metadata": {
    "id": "q1b1Jtw5gTLB",
    "colab_type": "text",
    "cell_id": "00016-00a24680-366e-4662-94d7-1e01ac8d9ecb",
    "deepnote_cell_type": "markdown"
   }
  },
  {
   "cell_type": "code",
   "metadata": {
    "id": "mR80NPSGdT1m",
    "colab_type": "code",
    "outputId": "8c7d316f-fc12-4b5a-ece3-7ea0f7eb6765",
    "colab": {
     "base_uri": "https://localhost:8080/",
     "height": 33
    },
    "cell_id": "00017-843bb90d-cc0d-4c11-9ca0-e34c3829e678",
    "deepnote_cell_type": "code"
   },
   "source": "test_str = 'Indivisibilitie'\ntest_str = test_str.lower()\n\ncount=0\nduplicates_seen = []\nfor letter in test_str:\n    if test_str.count(letter) > 1 and letter not in duplicates_seen:\n        count+=1\n        duplicates_seen.append(letter)\n\nprint (count)",
   "execution_count": 4,
   "outputs": [
    {
     "output_type": "stream",
     "text": "1\n",
     "name": "stdout"
    }
   ]
  },
  {
   "cell_type": "markdown",
   "source": "#### Better soln : use sets\n\n",
   "metadata": {
    "id": "_7h2P_VOpdPc",
    "colab_type": "text",
    "cell_id": "00018-1493cc5e-ac02-4cb6-8fd9-94f26825b34a",
    "deepnote_cell_type": "markdown"
   }
  },
  {
   "cell_type": "code",
   "metadata": {
    "colab_type": "code",
    "outputId": "4b5fd09f-8bd6-4a94-d1cd-29bc92a69e5c",
    "id": "umYHlrDEFa6I",
    "colab": {
     "base_uri": "https://localhost:8080/",
     "height": 33
    },
    "cell_id": "00019-5a586c89-a474-4ed9-b95b-450f69a8ea8b",
    "deepnote_cell_type": "code"
   },
   "source": "count = 0\nfor letter in set(test_str):\n    if test_str.count(letter) > 1:\n        count +=1\nprint (count)",
   "execution_count": 0,
   "outputs": [
    {
     "output_type": "stream",
     "text": "1\n",
     "name": "stdout"
    }
   ]
  },
  {
   "cell_type": "markdown",
   "source": "Converting the above code to list comprehension",
   "metadata": {
    "id": "Y8Ft_fuuFca1",
    "colab_type": "text",
    "cell_id": "00020-3180895b-49ab-4c13-9c42-1af9ccab57ea",
    "deepnote_cell_type": "markdown"
   }
  },
  {
   "cell_type": "code",
   "metadata": {
    "id": "uokmtU-ypnwM",
    "colab_type": "code",
    "colab": {
     "base_uri": "https://localhost:8080/",
     "height": 33
    },
    "outputId": "b6bf7ff6-f326-4123-f7b5-c6f40daec46d",
    "cell_id": "00021-660ec26e-a069-4a9f-bf85-a433a8dc4fa8",
    "deepnote_cell_type": "code"
   },
   "source": "test_str = test_str.lower()\n\nprint (sum([1 if test_str.count(letter) > 1 else 0 for letter in set(test_str)]))",
   "execution_count": 32,
   "outputs": [
    {
     "output_type": "stream",
     "text": "1\n",
     "name": "stdout"
    }
   ]
  },
  {
   "cell_type": "markdown",
   "source": "### Hackerrank problem\n\n> https://www.hackerrank.com/challenges/ctci-ransom-note/problem?isFullScreen=true&h_l=interview&playlist_slugs%5B%5D=arcesium",
   "metadata": {
    "tags": [],
    "cell_id": "00022-bae8ac6f-ba4a-45dd-b9b4-8f870b30af34",
    "deepnote_cell_type": "markdown"
   }
  },
  {
   "cell_type": "code",
   "source": "\ndef checkMagazine(magazine, note):\n    # Write your code here\n    magazine_map = {}\n    ### create a magazine hashmap\n    for word_ in magazine:\n        if magazine_map.get(word_) is not None:\n            magazine_map[word_] = magazine_map[word_] + 1\n        else:\n            magazine_map[word_] = 1     \n    for word_ in note:\n        if word_ not in magazine_map:\n            return 'No'\n        if magazine_map[word_] == 0:\n            return 'No'\n        if magazine_map[word_] >= 1:\n            magazine_map[word_] = magazine_map[word_] - 1\n            \n    return 'Yes'\n\n",
   "metadata": {
    "tags": [],
    "cell_id": "00023-df73b9d2-3ef7-4602-bbd1-c3d4088275a9",
    "deepnote_cell_type": "code"
   },
   "outputs": [],
   "execution_count": null
  },
  {
   "cell_type": "markdown",
   "source": "<a style='text-decoration:none;line-height:16px;display:flex;color:#5B5B62;padding:10px;justify-content:end;' href='https://deepnote.com?utm_source=created-in-deepnote-cell&projectId=c9f7b205-46e2-4f7d-8027-1722d788f5d8' target=\"_blank\">\n<img alt='Created in deepnote.com' style='display:inline;max-height:16px;margin:0px;margin-right:7.5px;' src='data:image/svg+xml;base64,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' > </img>\nCreated in <span style='font-weight:600;margin-left:4px;'>Deepnote</span></a>",
   "metadata": {
    "tags": [],
    "created_in_deepnote_cell": true,
    "deepnote_cell_type": "markdown"
   }
  }
 ],
 "nbformat": 4,
 "nbformat_minor": 0,
 "metadata": {
  "colab": {
   "name": "Practice Python Challenges.ipynb",
   "provenance": [],
   "collapsed_sections": [],
   "authorship_tag": "ABX9TyNh8jnmPklS8XIHcLjVQ5tt",
   "include_colab_link": true
  },
  "kernelspec": {
   "name": "python3",
   "display_name": "Python 3"
  },
  "deepnote_notebook_id": "ac9bbe99-04ca-4500-a327-934692c24c0a",
  "deepnote": {},
  "deepnote_execution_queue": []
 }
}