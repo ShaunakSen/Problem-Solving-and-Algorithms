{
 "cells": [
  {
   "cell_type": "markdown",
   "metadata": {},
   "source": [
    "### 5. How much have refunds cost us?\n",
    "\n",
    "> https://sql.datainterview.com/\n",
    "\n",
    "---\n",
    "\n",
    "Well no business likes giving money back via refunds...but the customer is always right... right? You are on the finace DS team at Uber and looking to quantify in dollars how much refunds have cost the business. Calculate the total refund amount Uber has paid back. Round answer to 2 decimals if needed. total_refunded = (surcharge * base fare) * trip miles.\n",
    "\n",
    "\n",
    "\n",
    "Source Tables:\n",
    "\n",
    "Visualize the table definitions prior to formalizing your solution. Click the icon to see into the table's data.\n",
    "```\n",
    "uber_refunds\t\n",
    "trip_id\tbigint\n",
    "refund_reason\tvarchar\n",
    "\n",
    "```\n",
    "```\n",
    "uber_fct_trips\t\n",
    "ride_id\tbigint\n",
    "rider_id\tbigint\n",
    "driver_id\tbigint\n",
    "pickup_loc\tvarchar\n",
    "dropoff_loc\tvarchar\n",
    "city\tvarchar\n",
    "ride_type\tvarchar\n",
    "vehicle_type\tvarchar\n",
    "destination_type\tvarchar\n",
    "num_of_passengers\tbigint\n",
    "surcharge\tdouble\n",
    "base_fare\tdouble\n",
    "trip_miles\tdouble\n",
    "trip_request_at\ttimestamp\n",
    "service_match_time\tvarchar\n",
    "```\n"
   ]
  },
  {
   "cell_type": "markdown",
   "metadata": {},
   "source": [
    "Solution:\n",
    "\n",
    "```sql\n",
    "WITH cte AS\n",
    "(\n",
    "  SELECT uber_refunds.trip_id, \n",
    "    surcharge * base_fare * trip_miles AS refund_cost\n",
    "  FROM uber_refunds\n",
    "  INNER JOIN uber_fct_trips\n",
    "  ON uber_refunds.trip_id = uber_fct_trips.ride_id\n",
    "),\n",
    "cte2 \n",
    "AS\n",
    "(\n",
    "    SELECT trip_id, FIRST(refund_cost) AS refund_cost -- in case there are duplicates\n",
    "    FROM cte\n",
    "    GROUP BY trip_id\n",
    ")\n",
    "\n",
    "-- round and return\n",
    "SELECT ROUND(SUM(refund_cost), 2) AS total_refunded FROM cte2\n",
    "```"
   ]
  },
  {
   "cell_type": "code",
   "execution_count": null,
   "metadata": {},
   "outputs": [],
   "source": []
  }
 ],
 "metadata": {
  "language_info": {
   "name": "python"
  }
 },
 "nbformat": 4,
 "nbformat_minor": 2
}
