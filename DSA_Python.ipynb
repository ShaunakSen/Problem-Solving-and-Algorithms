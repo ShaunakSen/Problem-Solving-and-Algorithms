{
  "nbformat": 4,
  "nbformat_minor": 0,
  "metadata": {
    "colab": {
      "name": "DSA-Python.ipynb",
      "provenance": [],
      "collapsed_sections": [],
      "authorship_tag": "ABX9TyOxuCO/rTUJBTTOY6lyHCdz",
      "include_colab_link": true
    },
    "kernelspec": {
      "name": "python3",
      "display_name": "Python 3"
    }
  },
  "cells": [
    {
      "cell_type": "markdown",
      "metadata": {
        "id": "view-in-github",
        "colab_type": "text"
      },
      "source": [
        "<a href=\"https://colab.research.google.com/github/ShaunakSen/problem-solving-with-code/blob/master/DSA_Python.ipynb\" target=\"_parent\"><img src=\"https://colab.research.google.com/assets/colab-badge.svg\" alt=\"Open In Colab\"/></a>"
      ]
    },
    {
      "cell_type": "markdown",
      "metadata": {
        "id": "PR0PvfQmRbYl"
      },
      "source": [
        "## Data Structures and Algorithms in Python\n",
        "\n",
        "> Based on the tutorial by [LucidProgramming](https://www.youtube.com/playlist?list=PL5tcWHG-UPH112e7AN7C-fwDVPVrt0wpV)"
      ]
    },
    {
      "cell_type": "markdown",
      "metadata": {
        "id": "6_zAw3fmRtXo"
      },
      "source": [
        "### Stack"
      ]
    },
    {
      "cell_type": "code",
      "metadata": {
        "id": "fzeIjTYzQvRv",
        "outputId": "679c0781-c60d-4975-922f-ebf714b4690a",
        "colab": {
          "base_uri": "https://localhost:8080/",
          "height": 119
        }
      },
      "source": [
        "class Stack():\n",
        "    def __init__(self):\n",
        "        ## init an empty list\n",
        "        self.items = []\n",
        "\n",
        "    def push(self, item):\n",
        "        ## push item into slef.items\n",
        "        self.items.append(item)\n",
        "    \n",
        "    def pop(self):\n",
        "        ## pop out the top item\n",
        "        return self.items.pop()\n",
        "\n",
        "    def is_empty(self):\n",
        "        ## check if stack is empty\n",
        "        return self.items == []\n",
        "    \n",
        "    def peek(self):\n",
        "        ## view top elem without popping\n",
        "        if not self.is_empty():\n",
        "            return self.items[-1]\n",
        "        return None\n",
        "\n",
        "    def get_stack(self):\n",
        "        ## return the items\n",
        "        return self.items\n",
        "\n",
        "s = Stack()\n",
        "print (s.is_empty())\n",
        "print (s.peek())\n",
        "s.push(\"A\")\n",
        "s.push(\"B\")\n",
        "s.push(\"C\")\n",
        "print (s.pop())\n",
        "print (s.is_empty())\n",
        "print (s.get_stack())\n",
        "print (s.peek())"
      ],
      "execution_count": 6,
      "outputs": [
        {
          "output_type": "stream",
          "text": [
            "True\n",
            "None\n",
            "C\n",
            "False\n",
            "['A', 'B']\n",
            "B\n"
          ],
          "name": "stdout"
        }
      ]
    },
    {
      "cell_type": "code",
      "metadata": {
        "id": "fEMZROkDSm4F"
      },
      "source": [
        ""
      ],
      "execution_count": null,
      "outputs": []
    }
  ]
}