{
  "nbformat": 4,
  "nbformat_minor": 0,
  "metadata": {
    "colab": {
      "name": "DSA-Python.ipynb",
      "provenance": [],
      "collapsed_sections": [],
      "authorship_tag": "ABX9TyNaHn/GGzx4Oi3QC4GwKvBI",
      "include_colab_link": true
    },
    "kernelspec": {
      "name": "python3",
      "display_name": "Python 3"
    }
  },
  "cells": [
    {
      "cell_type": "markdown",
      "metadata": {
        "id": "view-in-github",
        "colab_type": "text"
      },
      "source": [
        "<a href=\"https://colab.research.google.com/github/ShaunakSen/problem-solving-with-code/blob/master/DSA_Python.ipynb\" target=\"_parent\"><img src=\"https://colab.research.google.com/assets/colab-badge.svg\" alt=\"Open In Colab\"/></a>"
      ]
    },
    {
      "cell_type": "markdown",
      "metadata": {
        "id": "PR0PvfQmRbYl"
      },
      "source": [
        "## Data Structures and Algorithms in Python\n",
        "\n",
        "> Based on the tutorial by [LucidProgramming](https://www.youtube.com/playlist?list=PL5tcWHG-UPH112e7AN7C-fwDVPVrt0wpV)"
      ]
    },
    {
      "cell_type": "markdown",
      "metadata": {
        "id": "6_zAw3fmRtXo"
      },
      "source": [
        "### Stack"
      ]
    },
    {
      "cell_type": "code",
      "metadata": {
        "id": "fzeIjTYzQvRv",
        "outputId": "f7127aa3-a496-4161-c224-950f4f0b7601",
        "colab": {
          "base_uri": "https://localhost:8080/",
          "height": 119
        }
      },
      "source": [
        "class Stack():\n",
        "    def __init__(self):\n",
        "        ## init an empty list\n",
        "        self.items = []\n",
        "\n",
        "    def push(self, item):\n",
        "        ## push item into slef.items\n",
        "        self.items.append(item)\n",
        "    \n",
        "    def pop(self):\n",
        "        ## pop out the top item\n",
        "        return self.items.pop()\n",
        "\n",
        "    def is_empty(self):\n",
        "        ## check if stack is empty\n",
        "        return self.items == []\n",
        "    \n",
        "    def peek(self):\n",
        "        ## view top elem without popping\n",
        "        if not self.is_empty():\n",
        "            return self.items[-1]\n",
        "        return None\n",
        "\n",
        "    def get_stack(self):\n",
        "        ## return the items\n",
        "        return self.items\n",
        "\n",
        "s = Stack()\n",
        "print (s.is_empty())\n",
        "print (s.peek())\n",
        "s.push(\"A\")\n",
        "s.push(\"B\")\n",
        "s.push(\"C\")\n",
        "print (s.pop())\n",
        "print (s.is_empty())\n",
        "print (s.get_stack())\n",
        "print (s.peek())"
      ],
      "execution_count": null,
      "outputs": [
        {
          "output_type": "stream",
          "text": [
            "True\n",
            "None\n",
            "C\n",
            "False\n",
            "['A', 'B']\n",
            "B\n"
          ],
          "name": "stdout"
        }
      ]
    },
    {
      "cell_type": "markdown",
      "metadata": {
        "id": "ZP2Dep8Q2Yyt"
      },
      "source": [
        "### Parenthesis Balance Detection\n",
        "\n",
        "```\n",
        "\n",
        "Use a stack to check whether or not a string\n",
        "has balanced usage of parenthesis.\n",
        "Example:\n",
        "    (), ()(), (({[]}))  <- Balanced.\n",
        "    ((), {{{)}], [][]]] <- Not Balanced.\n",
        "Balanced Example: {[]}\n",
        "Non-Balanced Example: (()\n",
        "Non-Balanced Example: ))\n",
        "\n",
        "```\n",
        "\n",
        "The logic here is to iterate over the symbols. If it is an opening parenthesis push into stack. If it is a closing one, we pop the top elem from the stack and check if the elem is a match.. We continue to do this and at the end, the stack should be empty. Also if at a stage stack is empty and we dont have any elem to match with, its also unbalanced (case: `}}`)\n",
        "\n",
        "For eg: `{[]}`\n",
        "\n",
        "```\n",
        "Pusk { -> Push [ -> ]: pop out the top elem: [ and match with ] -> }: pop out the top elem: { and match with } \n",
        "```"
      ]
    },
    {
      "cell_type": "code",
      "metadata": {
        "id": "fEMZROkDSm4F",
        "outputId": "8d53f8cc-39ab-4296-f244-dd7e0b9f3b4b",
        "colab": {
          "base_uri": "https://localhost:8080/",
          "height": 51
        }
      },
      "source": [
        "class Stack():\n",
        "    def __init__(self):\n",
        "        ## init an empty list\n",
        "        self.items = []\n",
        "\n",
        "    def push(self, item):\n",
        "        ## push item into slef.items\n",
        "        self.items.append(item)\n",
        "    \n",
        "    def pop(self):\n",
        "        ## pop out the top item\n",
        "        return self.items.pop()\n",
        "\n",
        "    def is_empty(self):\n",
        "        ## check if stack is empty\n",
        "        return self.items == []\n",
        "    \n",
        "    def peek(self):\n",
        "        ## view top elem without popping\n",
        "        if not self.is_empty():\n",
        "            return self.items[-1]\n",
        "        return None\n",
        "\n",
        "    def get_stack(self):\n",
        "        ## return the items\n",
        "        return self.items\n",
        "\n",
        "def is_match(p1, p2):\n",
        "    if p1 == \"(\" and p2 == \")\":\n",
        "        return True\n",
        "    elif p1 == \"{\" and p2 == \"}\":\n",
        "        return True\n",
        "    elif p1 == \"[\" and p2 == \"]\":\n",
        "        return True\n",
        "    else:\n",
        "        return False\n",
        "\n",
        "\n",
        "def is_paren_balanced(paren_string):\n",
        "\n",
        "    s = Stack() # init a stack\n",
        "    is_balanced = True\n",
        "    index = 0\n",
        "\n",
        "    while index < len(paren_string) and is_balanced:\n",
        "        # get the symbol\n",
        "        paren = paren_string[index]\n",
        "        # if opening paren, push into stack\n",
        "        if paren in \"[({\":\n",
        "            s.push(paren)\n",
        "        else:\n",
        "            # if stack is empty it cant be matched, return False\n",
        "            if s.is_empty():\n",
        "                is_balanced = False\n",
        "            else:\n",
        "                # pop top elem\n",
        "                top = s.pop()\n",
        "                ## check for match\n",
        "                if not is_match(top, paren):\n",
        "                    is_balanced = False\n",
        "        # move to next symbol\n",
        "        index += 1\n",
        "    # if stack is empty and is_balanced is set to true\n",
        "    if s.is_empty() and is_balanced:\n",
        "        return True\n",
        "    else:\n",
        "        return False\n",
        "\n",
        "print (is_paren_balanced(\"{(((([]))))}\"))   \n",
        "\n",
        "print (is_paren_balanced(\"))\"))   "
      ],
      "execution_count": 16,
      "outputs": [
        {
          "output_type": "stream",
          "text": [
            "True\n",
            "False\n"
          ],
          "name": "stdout"
        }
      ]
    },
    {
      "cell_type": "code",
      "metadata": {
        "id": "fd9PZ3_9JKcC"
      },
      "source": [
        ""
      ],
      "execution_count": null,
      "outputs": []
    }
  ]
}