{
 "cells": [
  {
   "cell_type": "markdown",
   "source": "## Recursion in Programming - Full Course\n\n> By The Simple Engineer: https://www.youtube.com/watch?v=IJDJ0kBx2LM\n\n---\n\n### Example 1 : Counting number of people in front of us in a queue\n\n![](https://i.imgur.com/swqXvLW.png)\n\n![](https://i.imgur.com/Bs51Ns7.png)",
   "metadata": {
    "tags": [],
    "cell_id": "00001-d932e89d-c91c-4134-a527-604612a9b613",
    "deepnote_cell_type": "markdown",
    "deepnote_cell_height": 928.125
   }
  },
  {
   "cell_type": "markdown",
   "source": "",
   "metadata": {
    "tags": [],
    "cell_id": "00001-c460f395-bc4e-4957-91b4-207310166180",
    "deepnote_cell_type": "markdown",
    "deepnote_cell_height": 45.953125
   }
  },
  {
   "cell_type": "code",
   "metadata": {
    "tags": [],
    "cell_id": "00004-fa872b11-c452-4b5d-9d13-c5d4dd2c1b76",
    "deepnote_to_be_reexecuted": false,
    "source_hash": "a3647fc7",
    "execution_start": 1626719502437,
    "execution_millis": 9,
    "deepnote_cell_type": "code",
    "deepnote_cell_height": 346.328125
   },
   "source": "class Person():\n    def __init__(self, name, next_person):\n        self.name = name\n        self.next = next_person\n\nper1 = Person('a', None)\nper2 = Person('b', per1)\nper3 = Person('c', per2)\nper4 = Person('d', per3)\nper5 = Person('e', per4)\n\nprint (per3.name, per3.next)\nprint (per1.name, per1.next)",
   "execution_count": null,
   "outputs": [
    {
     "name": "stdout",
     "text": "c <__main__.Person object at 0x7fe3d91c4b10>\na None\n",
     "output_type": "stream"
    }
   ]
  },
  {
   "cell_type": "code",
   "metadata": {
    "tags": [],
    "cell_id": "00005-87b65049-6b67-4582-a371-bcd0be90276b",
    "deepnote_to_be_reexecuted": false,
    "source_hash": "e84add99",
    "execution_start": 1626719587663,
    "execution_millis": 0,
    "deepnote_cell_type": "code",
    "deepnote_cell_height": 134.953125
   },
   "source": "def getMyPosition(person):\n    if person.next is None:\n        return 1\n    return 1 + getMyPosition(person.next)",
   "execution_count": null,
   "outputs": []
  },
  {
   "cell_type": "code",
   "metadata": {
    "tags": [],
    "cell_id": "00004-b15550cb-b80f-47a2-8acf-6a7c8f1108ad",
    "deepnote_to_be_reexecuted": false,
    "source_hash": "a0062f3c",
    "execution_start": 1626719602680,
    "execution_millis": 5,
    "deepnote_cell_type": "code",
    "deepnote_cell_height": 118.125,
    "deepnote_output_heights": [
     21.1875
    ]
   },
   "source": "getMyPosition(per3)",
   "execution_count": null,
   "outputs": [
    {
     "output_type": "execute_result",
     "execution_count": 15,
     "data": {
      "text/plain": "3"
     },
     "metadata": {}
    }
   ]
  },
  {
   "cell_type": "markdown",
   "source": "In recursion, we setup the base case, which is kind of like the laziest case\n\nThen we call the same function, not with the same param, but with a param that progresses us in the direction of the soln\n\nTake a large prob and break it down into sub problems st each invocation of the function gets us closer to the soln\n\n![](https://i.imgur.com/0euP8M7.png)",
   "metadata": {
    "tags": [],
    "cell_id": "00005-8c012dc7-235e-4b82-9703-8822c047559f",
    "deepnote_cell_type": "markdown",
    "deepnote_cell_height": 510.8125
   }
  },
  {
   "cell_type": "markdown",
   "source": "### Call Stack\n\nImagine you have the following 3 functions\nTo compute A u need op of B and to compute B you need op of C\n\nThese ops get added to the call stack until we reach a condn where nothing needs to be added further (a stopping condn or a base case). Here the stopping condn is when we call C() and that returns \"friends\"\n\n![](https://i.imgur.com/TOwyWfn.png)\n\nAs each element in the stack gets evaluated, we pop it off and finally we get \"hello my friends\"\n\nIf the call stack gets full and we exhaust the allocated buffer of memory that our program has and we get a __stack overflow error__\n\n![](https://i.imgur.com/fXKmPXJ.png)\n",
   "metadata": {
    "tags": [],
    "cell_id": "00006-ddefeae7-cbab-429e-a8af-949e4d561874",
    "deepnote_cell_type": "markdown",
    "deepnote_cell_height": 1176.71875
   }
  },
  {
   "cell_type": "markdown",
   "source": "### String Reversal\n\n__Base Case__: \n1. One letter\n2. Empty string (laziest)\n\n\n__Smallest amount of work I can do in each iteration__ : For this case, its basically the smallest \"unit\" that I can reverse; **basically I have to find a way to trim away at the parameter st I can reach the base case**\n\n",
   "metadata": {
    "tags": [],
    "cell_id": "00007-de7d5469-f1a3-4bf2-a6b1-07932b3c0931",
    "deepnote_cell_type": "markdown",
    "deepnote_cell_height": 220.9375
   }
  },
  {
   "cell_type": "code",
   "metadata": {
    "tags": [],
    "cell_id": "00009-b531e5c2-85a5-44d9-988e-1b43fbe824eb",
    "deepnote_to_be_reexecuted": false,
    "source_hash": "56c8d1b6",
    "execution_start": 1630165361646,
    "execution_millis": 21,
    "deepnote_cell_type": "code",
    "deepnote_cell_height": 298.125,
    "deepnote_output_heights": [
     21.1875
    ]
   },
   "source": "def reverse_string(input_str):\n    \"\"\"\n    Base case : a string of length 1 reversed is the string itself\n    Smallest unit of work: Else we take the last character + the reverse of the rest of the string\n    \"\"\"\n    if len(input_str) == 1:\n        return input_str\n    \n    return input_str[-1] + reverse_string(input_str[:-1])\n\nreverse_string('shaunak')",
   "execution_count": null,
   "outputs": [
    {
     "output_type": "execute_result",
     "execution_count": 6,
     "data": {
      "text/plain": "'kanuahs'"
     },
     "metadata": {}
    }
   ]
  },
  {
   "cell_type": "markdown",
   "source": "### Palindrome checker",
   "metadata": {
    "tags": [],
    "cell_id": "00010-122ec367-3034-40d6-8e49-d708c36ae6b6",
    "deepnote_cell_type": "markdown",
    "deepnote_cell_height": 61.953125
   }
  },
  {
   "cell_type": "code",
   "metadata": {
    "tags": [],
    "cell_id": "00007-bbe2f9f6-009c-47ec-86a8-2d6beadbc4ee",
    "deepnote_to_be_reexecuted": false,
    "source_hash": "15ab3d8f",
    "execution_start": 1630166688223,
    "execution_millis": 4,
    "deepnote_cell_type": "code",
    "deepnote_cell_height": 226.125,
    "deepnote_output_heights": [
     21.1875
    ]
   },
   "source": "def check_palindrome(text):\n    if len(text) <= 1:\n        return True\n    \n    return text[0] == text[-1] and check_palindrome(text[1:-1]) \n\ncheck_palindrome('racecar')",
   "execution_count": null,
   "outputs": [
    {
     "output_type": "execute_result",
     "execution_count": 7,
     "data": {
      "text/plain": "True"
     },
     "metadata": {}
    }
   ]
  },
  {
   "cell_type": "markdown",
   "source": "### Decimal to binary\n\n![](https://i.imgur.com/LmnxgGM.png)",
   "metadata": {
    "tags": [],
    "cell_id": "00011-064978cf-296e-44b2-85fb-06970e8e6ec7",
    "deepnote_cell_type": "markdown",
    "deepnote_cell_height": 531.515625
   }
  },
  {
   "cell_type": "code",
   "metadata": {
    "tags": [],
    "cell_id": "00010-4a53a460-082e-4ca5-bf4f-3825c48838bd",
    "deepnote_to_be_reexecuted": false,
    "source_hash": "6a23719d",
    "execution_start": 1630168583005,
    "execution_millis": 6,
    "deepnote_cell_type": "code",
    "deepnote_cell_height": 489.125
   },
   "source": "def decimal_to_binary(decimal, all_remainders=[]):\n\n    # print (all_remainders)\n    # print (decimal)\n\n    #### initially set the list\n    if len(all_remainders) == 0:\n        all_remainders = []\n    \n    #### base case: add the remainder to the end of the list and return the reversed list\n    if decimal // 2 == 0:\n        all_remainders.append(decimal%2)\n        final_list = all_remainders\n        return list(reversed(final_list))\n\n    #### add the remainder and div no by 2. Then recursively call\n    all_remainders.append(decimal%2)\n    decimal = decimal // 2\n    # print (decimal, all_remainders)\n    return decimal_to_binary(decimal, all_remainders)\n\nprint(decimal_to_binary(233))",
   "execution_count": null,
   "outputs": [
    {
     "name": "stdout",
     "text": "[1, 1, 1, 0, 1, 0, 0, 1]\n",
     "output_type": "stream"
    }
   ]
  },
  {
   "cell_type": "markdown",
   "source": "### Sum of natural numbers",
   "metadata": {
    "tags": [],
    "cell_id": "00013-9db36232-1ec0-41c2-b6a3-d8513e81727d",
    "deepnote_cell_type": "markdown",
    "deepnote_cell_height": 61.953125
   }
  },
  {
   "cell_type": "code",
   "metadata": {
    "tags": [],
    "cell_id": "00010-a0d5be91-5e12-4f4d-b573-80fc62f2c99c",
    "deepnote_to_be_reexecuted": false,
    "source_hash": "c84f602e",
    "execution_start": 1630169198768,
    "execution_millis": 9,
    "deepnote_cell_type": "code",
    "deepnote_cell_height": 226.125,
    "deepnote_output_heights": [
     21.1875
    ]
   },
   "source": "def sum_of_natural_numbers(N):\n    if N == 1:\n        return N\n    \n    return N + sum_of_natural_numbers(N-1)\n\nsum_of_natural_numbers(5)",
   "execution_count": null,
   "outputs": [
    {
     "output_type": "execute_result",
     "execution_count": 29,
     "data": {
      "text/plain": "15"
     },
     "metadata": {}
    }
   ]
  },
  {
   "cell_type": "markdown",
   "source": "## Divide and Conquer\n\n![](https://i.imgur.com/kna6FKV.png)\n\n",
   "metadata": {
    "tags": [],
    "cell_id": "00015-634def18-fe92-47b4-98a1-d3cf2d2e737a",
    "deepnote_cell_type": "markdown",
    "deepnote_cell_height": 578.515625
   }
  },
  {
   "cell_type": "markdown",
   "source": "### Binary Search\n\n",
   "metadata": {
    "tags": [],
    "cell_id": "00016-47b00315-2835-4a57-b5e5-ed1025841a40",
    "deepnote_cell_type": "markdown",
    "deepnote_cell_height": 61.953125
   }
  },
  {
   "cell_type": "code",
   "metadata": {
    "tags": [],
    "cell_id": "00015-e1bf1c02-c40d-49ec-8678-c8279156546e",
    "deepnote_to_be_reexecuted": false,
    "source_hash": "aafc712e",
    "execution_start": 1630174831630,
    "execution_millis": 13,
    "deepnote_cell_type": "code",
    "deepnote_cell_height": 601.328125,
    "deepnote_output_heights": [
     null,
     21.1875
    ]
   },
   "source": "def binary_search(A, left, right, x):\n\n    print ('current sapace:', A[left:right+1])\n    if left > right:\n        return -1\n\n    \n    mid = (left + right)//2\n    print (mid, A[mid])\n    if A[mid] == x:\n        return mid\n\n    if x < A[mid]: #### need to look at the left\n        return binary_search(A, left, mid-1, x)\n\n    #### need to look at the right\n    return binary_search(A, mid+1, right, x)\n\nA = [-1,0,1,2,3,4,7,9,10,20]\nbinary_search(A, 0, len(A)-1, 10)",
   "execution_count": null,
   "outputs": [
    {
     "name": "stdout",
     "text": "[-1, 0, 1, 2, 3, 4, 7, 9, 10, 20]\n4 3\n[4, 7, 9, 10, 20]\n7 9\n[10, 20]\n8 10\n",
     "output_type": "stream"
    },
    {
     "output_type": "execute_result",
     "execution_count": 4,
     "data": {
      "text/plain": "8"
     },
     "metadata": {}
    }
   ]
  },
  {
   "cell_type": "markdown",
   "source": "### Fibonacci\n\n$$F_n = F_{n-1} + F_{n-2}$$\n\n$$F_0 = 0, F_1 = 1$$\n\n",
   "metadata": {
    "tags": [],
    "cell_id": "00018-1458bf3b-491f-4d48-a9a3-9d1cc47d886b",
    "deepnote_cell_type": "markdown",
    "deepnote_cell_height": 136.734375
   }
  },
  {
   "cell_type": "code",
   "metadata": {
    "tags": [],
    "cell_id": "00018-3eaa555c-b11b-4012-b72a-49f893eba3ae",
    "deepnote_to_be_reexecuted": false,
    "source_hash": "95377446",
    "execution_start": 1631279945265,
    "execution_millis": 5,
    "deepnote_cell_type": "code",
    "deepnote_cell_height": 208.125,
    "deepnote_output_heights": [
     21.1875
    ]
   },
   "source": "def fibonacci(n):\n    if n <= 1:\n        return n\n    return fibonacci(n-1) + fibonacci(n-2)\n\nfibonacci(10)",
   "execution_count": null,
   "outputs": [
    {
     "output_type": "execute_result",
     "execution_count": 1,
     "data": {
      "text/plain": "55"
     },
     "metadata": {}
    }
   ]
  },
  {
   "cell_type": "markdown",
   "source": "Now this is a type of __div and conquer__ as we are breaking the prob into `fibo(n-1)` and `fibo(n-2)` and `fibo(n-2)` __cannot happen before `fibo(n-1)` completes__\n\nSay we want to find `f(5)`\n\nWe only stick to the LHS of the eqn which gives us f(4) which gives us f(3) -> f(2) -> f(1) as shown below\n\n![](https://i.imgur.com/1w8zmHy.png)\n\nf(1) returns 1, so now we can compute the RHS of f(2) which is f(0) which returns 0 so we compute f(2) as 1 + 0 = 1\n\n![](https://i.imgur.com/ZiYjKex.png)\n\nNow we have computed f(2), so we compute the RHS of f(3) which needs f(1), which is a base case so we return it\n\n![](https://i.imgur.com/OEyTYQS.png)\n\nNow having computed f(3) we can compute the RHS of f(4) which needs f(2). For f(2) we compute f(1) and since its a base case we return and compute f(0) and since its a base case we return\n\n![](https://i.imgur.com/kCEKhnW.png)\n\nNow we have computed f(4) we can now eval the RHS of f(5) which is f(3)\n\nf(3) needs f(2) to complete so we do that as before\nf(3) then needs f(1)\n\n__Notice so many repeated calculations__\n\n![](https://i.imgur.com/rLNwAe4.png)\n\nWe can easily store results of f(2) and f(3) to speedup the process",
   "metadata": {
    "tags": [],
    "cell_id": "00020-589e8976-0f4e-4250-8a36-12adc5c0eaf8",
    "deepnote_cell_type": "markdown",
    "deepnote_cell_height": 3995.421875
   }
  },
  {
   "cell_type": "markdown",
   "source": "### Merge Sort",
   "metadata": {
    "tags": [],
    "cell_id": "00021-e15f106e-ee59-4f05-8bef-e6f05f43e864",
    "deepnote_cell_type": "markdown",
    "deepnote_cell_height": 61.953125
   }
  },
  {
   "cell_type": "code",
   "metadata": {
    "tags": [],
    "cell_id": "00020-3b66bd8a-e1b7-4b47-9a20-5b65345fb4e6",
    "deepnote_to_be_reexecuted": false,
    "source_hash": "e1b0d412",
    "execution_start": 1631290214917,
    "execution_millis": 90,
    "deepnote_cell_type": "code",
    "deepnote_cell_height": 676.125,
    "deepnote_output_heights": [
     21.1875
    ]
   },
   "source": "def merge_two_sorted_arrays(a, b):\n\n    ### final sorted array\n    sorted_array = []\n\n    ### keep two pointers, one for a, one for b\n\n    a_idx, b_idx = 0, 0\n\n    while a_idx < len(a) and b_idx < len(b):\n        # print (a_idx, b_idx)\n        if a[a_idx] <= b[b_idx]:\n            sorted_array.append(a[a_idx])\n            a_idx += 1\n        else:\n            sorted_array.append(b[b_idx])\n            b_idx += 1\n\n        # print (sorted_array)\n\n    ### remaining elems in a\n    if a_idx < len(a):\n        for i in range(a_idx, len(a)):\n            sorted_array.append(a[i])\n    ### remaining elems in b\n    if b_idx < len(b):\n        for i in range(b_idx, len(b)):\n            sorted_array.append(b[i])\n\n    return sorted_array\n\nmerge_two_sorted_arrays([0,1,2,3,4], [-1,7,9,10,20])",
   "execution_count": null,
   "outputs": [
    {
     "output_type": "execute_result",
     "execution_count": 1,
     "data": {
      "text/plain": "[-1, 0, 1, 2, 3, 4, 7, 9, 10, 20]"
     },
     "metadata": {}
    }
   ]
  },
  {
   "cell_type": "code",
   "metadata": {
    "tags": [],
    "cell_id": "00022-260cd9c1-4efc-4c33-b831-21c43bcd7467",
    "deepnote_to_be_reexecuted": false,
    "source_hash": "b6782cc4",
    "execution_start": 1631290515342,
    "execution_millis": 46,
    "deepnote_cell_type": "code",
    "deepnote_cell_height": 424.125,
    "deepnote_output_heights": [
     21.1875
    ]
   },
   "source": "def merge_sort(arr):\n\n    ### base cases\n    if len(arr) == 2:\n        return merge_two_sorted_arrays([arr[0]], [arr[1]])    \n    if len(arr) == 1:\n        return arr\n\n    ### divide arr into 2 parts\n    ### sort each part\n    ### merge them\n    mid_idx = len(arr)//2\n    left_arr, right_arr = arr[:mid_idx], arr[mid_idx:]\n    return merge_two_sorted_arrays(merge_sort(left_arr), merge_sort(right_arr))\n\n\n\nmerge_sort([10, 3,4,2,1,-10, 11])",
   "execution_count": null,
   "outputs": [
    {
     "output_type": "execute_result",
     "execution_count": 5,
     "data": {
      "text/plain": "[-10, 1, 2, 3, 4, 10, 11]"
     },
     "metadata": {}
    }
   ]
  },
  {
   "cell_type": "markdown",
   "source": "### Linked List Reversal",
   "metadata": {
    "tags": [],
    "cell_id": "00024-d28e3037-a2be-455f-b547-af83e26cec66",
    "deepnote_cell_type": "markdown",
    "deepnote_cell_height": 61.953125
   }
  },
  {
   "cell_type": "code",
   "metadata": {
    "tags": [],
    "cell_id": "00023-7bf0f45b-df88-401e-b037-8d531d1d6ee7",
    "deepnote_to_be_reexecuted": false,
    "source_hash": "5d301b36",
    "execution_start": 1631307528186,
    "execution_millis": 3,
    "deepnote_cell_type": "code",
    "deepnote_cell_height": 422.96875
   },
   "source": "class Node:\n\n    def __init__(self, data):\n        self.data = data\n        self.next = None\n\n    def printNode(self):\n        print (self.data)\n\nclass LinkedList:\n\n    def __init__(self):\n        self.head = None\n\n    def printList(self):\n        temp = self.head\n        while(temp):\n            print (temp.data, end='->')\n            temp = temp.next\n        print ('NULL')",
   "execution_count": null,
   "outputs": []
  },
  {
   "cell_type": "code",
   "metadata": {
    "tags": [],
    "cell_id": "00026-923af403-54ee-46de-ab1a-287b07a22d97",
    "deepnote_to_be_reexecuted": false,
    "source_hash": "1d2d613e",
    "execution_start": 1631307529581,
    "execution_millis": 2,
    "deepnote_cell_type": "code",
    "deepnote_cell_height": 291.125
   },
   "source": "# Start with the empty list\nllist = LinkedList()\n\nllist.head = Node(1)\nsecond = Node(2)\nthird = Node(3)\n\nllist.head.next = second; # Link first node with second\nsecond.next = third; # Link second node with the third node\n\nllist.printList()",
   "execution_count": null,
   "outputs": [
    {
     "name": "stdout",
     "text": "1->2->3->NULL\n",
     "output_type": "stream"
    }
   ]
  },
  {
   "cell_type": "code",
   "metadata": {
    "tags": [],
    "cell_id": "00027-72940eec-c789-4930-a14a-34d8d8cd1112",
    "deepnote_to_be_reexecuted": false,
    "source_hash": "9c2d7481",
    "execution_start": 1631307531878,
    "execution_millis": 8,
    "deepnote_cell_type": "code",
    "deepnote_cell_height": 111.125
   },
   "source": "llist.head.printNode()",
   "execution_count": null,
   "outputs": [
    {
     "name": "stdout",
     "text": "1\n",
     "output_type": "stream"
    }
   ]
  },
  {
   "cell_type": "code",
   "metadata": {
    "tags": [],
    "cell_id": "00027-196fde40-4102-4e60-bf2c-5db8c8887b16",
    "deepnote_to_be_reexecuted": false,
    "source_hash": "9003e4e8",
    "execution_start": 1631307638563,
    "execution_millis": 4,
    "deepnote_cell_type": "code",
    "deepnote_cell_height": 274.328125
   },
   "source": "def reverseList(head_node):\n    \n    if head_node is None or head_node.next is None:\n        return head_node\n\n    reverseList(head_node.next)\n    head_node.printNode()\n\nreverseList(llist.head)",
   "execution_count": null,
   "outputs": [
    {
     "name": "stdout",
     "text": "2\n1\n",
     "output_type": "stream"
    }
   ]
  },
  {
   "cell_type": "markdown",
   "source": "### Coin change problem - Recursive\n\n> https://leetcode.com/problems/coin-change/\n\n---\n\n__base case__\n\nWhen the remaining amount is in one of the available coins, increment total count and return it\n\nIf at any stage the remaining amt <= 0 return a big no (num coins reqd to get this change)\n\nFor a given amount and list of coins\n\nWe need to check what is the num of moves for each coin - and then pick out the minm from these\n\n\n",
   "metadata": {
    "cell_id": "9629f5eb229f437e94b085b70696a8df",
    "tags": [],
    "deepnote_cell_type": "markdown",
    "deepnote_cell_height": 283.296875
   }
  },
  {
   "cell_type": "code",
   "source": "def coin_change(coins, amount, total):\n    print (amount, total)\n    if amount <= 0:\n        return 1000\n    if amount in coins:\n        return total + 1\n    all_cases = []\n    for change in coins:\n        # print ('Starting recursion tree with:', change)\n        all_cases.append(coin_change(coins, amount-change, total+1))\n\n    return min(all_cases)\n",
   "metadata": {
    "cell_id": "354a4c75623d4707ac025ce705de04a8",
    "tags": [],
    "deepnote_cell_type": "code",
    "deepnote_cell_height": 281.953125
   },
   "outputs": [],
   "execution_count": null
  },
  {
   "cell_type": "code",
   "source": "coin_change([4, 3], 9, 0)",
   "metadata": {
    "cell_id": "4df48a52d4814f2cba16ffb3f2bea725",
    "tags": [],
    "owner_user_id": "a7a3883e-865f-47ed-8be0-6b6e2a6517cb",
    "deepnote_cell_type": "code"
   },
   "outputs": [],
   "execution_count": null
  },
  {
   "cell_type": "markdown",
   "source": "",
   "metadata": {
    "tags": [],
    "cell_id": "00030-af418017-6476-4bbd-b22c-d8f60bb684a1",
    "deepnote_cell_type": "markdown",
    "deepnote_cell_height": 45.953125
   }
  },
  {
   "cell_type": "markdown",
   "source": "",
   "metadata": {
    "tags": [],
    "cell_id": "00031-ef07048a-ed9e-4e19-96c7-f84faae2d618",
    "deepnote_cell_type": "markdown",
    "deepnote_cell_height": 45.953125
   }
  },
  {
   "cell_type": "markdown",
   "source": "## Recursion - Geeksforgeeks course\n\n> Notes on the course: https://practice.geeksforgeeks.org/courses/dsa-self-paced\n\n---\n\nLets first understand function flow in a normal piece of code\n\n![](https://i.imgur.com/BdBkhG6.png)\n\n![](https://i.imgur.com/0tz5ZlR.png)\n\n> Any program that can be programmed in iterative soln has a corresponding recursive soln and vice versa\n\nThey both have same power\n\nOften recursive code has added overhead like maintaining function stack and other added memory, but we use recursion in certain scenarios as it is the easier one to code. For example iterative solns of merge sort or DFS will be very complex\n\n### Practice prob 1\n\nGuess the o/p:\n\n![](https://i.imgur.com/iGz0EwK.png)\n\n__Closely observe the execution flow in this diagram, it helps to draw this diag__\n\n### Practice prob 2\n\n![](https://i.imgur.com/tp2tmji.png)\n\n\n### Practice prob 3\n\n![](https://i.imgur.com/iQyNXJ6.png)\n\n### Prcatice prob 4\n\n![](https://i.imgur.com/VoKVyfk.png)\n\n- this code prints binary equivalent of a decimal number\n\nWhen we convert a decimal to binary, we keep track of remainder and keep on dividing the number by 2 - so this process is inherently recursive\n\n\n\n\n\n",
   "metadata": {
    "tags": [],
    "cell_id": "00032-4e20fc1f-362b-4a41-8779-8718d688aaf4",
    "deepnote_cell_type": "markdown",
    "deepnote_cell_height": 4605.4375
   }
  },
  {
   "cell_type": "markdown",
   "source": "### Print N to 1 using Recursion\n\nThe way to think about this recursively is that imagine u have a soln to print the nos from N-1 -> 1\n\nSiimply print (N) and call this function",
   "metadata": {
    "tags": [],
    "cell_id": "00033-a6851457-beef-4cd5-be88-a2f5a3cacc89",
    "deepnote_cell_type": "markdown",
    "deepnote_cell_height": 136.734375
   }
  },
  {
   "cell_type": "code",
   "metadata": {
    "tags": [],
    "cell_id": "00034-257eaa18-d8d9-429f-b121-3205a676ade5",
    "deepnote_to_be_reexecuted": false,
    "source_hash": "dc6c1905",
    "execution_start": 1632082793902,
    "execution_millis": 0,
    "deepnote_cell_type": "code",
    "deepnote_cell_height": 391.96875
   },
   "source": "def print_N_to_1(N):\n    if N <= 0: ### base case\n        return\n    print (N) ### print N\n    print_N_to_1(N-1) ### print N-1 -> 1\n\nprint_N_to_1(10)",
   "execution_count": null,
   "outputs": [
    {
     "name": "stdout",
     "text": "10\n9\n8\n7\n6\n5\n4\n3\n2\n1\n",
     "output_type": "stream"
    }
   ]
  },
  {
   "cell_type": "markdown",
   "source": "Note that we have N function calls and each function call simply does constant work, so this is O(N) in time complexity\n\nAlso at a particular time we have N function calls in stack, so its O(N) ins pace complexity",
   "metadata": {
    "tags": [],
    "cell_id": "00033-c0cd9e16-fbe6-4511-9d3a-6b8196c32a29",
    "deepnote_cell_type": "markdown",
    "deepnote_cell_height": 88.75
   }
  },
  {
   "cell_type": "markdown",
   "source": "### Print 1 to N using Recursion\n\nWe can do it in the first method shown using a var i startiong from 1, printing it and incrementing it until N\n\nAnother way is:\n\nAgain suppose we have a function that prints nos from 1 -> N-1 recursively, we just need to call this function to first print nos from 1-> N-1 and then we need to print N",
   "metadata": {
    "tags": [],
    "cell_id": "00036-49cd515c-fc99-49eb-928a-8c6be713d384",
    "deepnote_cell_type": "markdown",
    "deepnote_cell_height": 195.53125
   }
  },
  {
   "cell_type": "code",
   "metadata": {
    "tags": [],
    "cell_id": "00037-1f00ddf1-8fa8-4698-97e3-830298cc3e24",
    "deepnote_to_be_reexecuted": false,
    "source_hash": "10148ad0",
    "execution_start": 1632084877818,
    "execution_millis": 5,
    "deepnote_cell_type": "code",
    "deepnote_cell_height": 427.96875
   },
   "source": "def print_1_to_N(N, i = 1):\n    if i > N:\n        return\n    \n    print (i)\n\n    print_1_to_N(N, i+1)\n\nprint_1_to_N(10)",
   "execution_count": null,
   "outputs": [
    {
     "name": "stdout",
     "text": "1\n2\n3\n4\n5\n6\n7\n8\n9\n10\n",
     "output_type": "stream"
    }
   ]
  },
  {
   "cell_type": "code",
   "metadata": {
    "tags": [],
    "cell_id": "00038-45602976-5dde-4de2-9ae7-e8f98b43c8df",
    "deepnote_to_be_reexecuted": false,
    "source_hash": "1cf58e5d",
    "execution_start": 1632082398269,
    "execution_millis": 1,
    "deepnote_cell_type": "code",
    "deepnote_cell_height": 427.96875
   },
   "source": "def print_1_to_N(N):\n\n    if N == 0: ### base case\n        return\n    \n    print_1_to_N(N-1) ### first print 1 -> (N-1)\n    print (N) ### now print N\n\nprint_1_to_N(10)",
   "execution_count": null,
   "outputs": [
    {
     "name": "stdout",
     "text": "1\n2\n3\n4\n5\n6\n7\n8\n9\n10\n",
     "output_type": "stream"
    }
   ]
  },
  {
   "cell_type": "markdown",
   "source": "Time complexity: at most N+1 function calls each doing constant work, O(N)\nSpace: N+1 calls as when print_1_to_N(0) is called there are 0 -> N function calls in stack, O(N)\n\n",
   "metadata": {
    "tags": [],
    "cell_id": "00040-9eef2680-e390-4f1e-b20c-45da9a55daac",
    "deepnote_cell_type": "markdown",
    "deepnote_cell_height": 74.765625
   }
  },
  {
   "cell_type": "markdown",
   "source": "### Tail recursion\n\n![](https://i.imgur.com/HBt89V9.png)\n\nThese are the same 2 probs we had seen before\n\n![](https://i.imgur.com/YP42yqt.png)\n\nIn the first function, each call prints n and calls the function with n-1, but when fun(n-1) finishes and returns to fun(n) there is nothing left to do\n\n__The last step of the function is the recursive call__\n\n> A recursive function is tail recursive when the parent function has nothing more to do when the child fuunction finishes\n\n![](https://i.imgur.com/RUol02H.png)\n\nThis function is not tail recursive for same reason\n\nIf a function is tail recursive, modern compilers can optimize it and simply remove recursion like:\n\n![](https://i.imgur.com/txdybWr.png)\n\nThis way we save up on the auxilllary space for the function call stack O(N)\n\nThis is called __Tail Call Elimination__\n\nIf we have 2 recursive solns for the same prob , always prefer the Tail Recursive soln\n\nNow the question is can we convert the 2nd function which is not tail recursive to a tail recursive one?\n\n- we already did that!\n\n```\ndef print_1_to_N(N, i = 1):\n    if i > N:\n        return\n    \n    print (i)\n\n    print_1_to_N(N, i+1)\n```\n\n\nHere the last call is the recursive one so the compliler can optimize as\n\n```\ndef print_1_to_N(N, i = 1):\n    start:\n    if i > N:\n        return\n    \n    print (i)\n\n    i = i + 1\n    goto start\n```\n\nBut note we cant convert every non TR function to TR one, for e.g. Quick sort is TR but Merge sort is not. In merge sort merging can happen only after we recursive sort the 2 half arrays. So Quick sort is faster than merge sort\n\nSimilarly in tree traversal, in postorder we recursively traverse left subtree and right subtree and then process the root, so its not TR. But pre and inorder traversal are TR, as the alst thing we do is the recursive call for the right child\n\nSo if we have a prob that can be solved using any traversal (like compute sum of all nodes), we should not choose post order \n\n![](https://i.imgur.com/b2tmJWq.png)\n\n- This function is not TR\n\nAs after computing fcat(n-1) we need to multiply result by n, recursive call is not the last thing that happens\n\n",
   "metadata": {
    "tags": [],
    "cell_id": "00040-8a9c568d-7606-47fb-83ed-285090dbf6e7",
    "deepnote_cell_type": "markdown",
    "deepnote_cell_height": 3426.78125
   }
  },
  {
   "cell_type": "markdown",
   "source": "<a style='text-decoration:none;line-height:16px;display:flex;color:#5B5B62;padding:10px;justify-content:end;' href='https://deepnote.com?utm_source=created-in-deepnote-cell&projectId=c9f7b205-46e2-4f7d-8027-1722d788f5d8' target=\"_blank\">\n<img alt='Created in deepnote.com' style='display:inline;max-height:16px;margin:0px;margin-right:7.5px;' src='data:image/svg+xml;base64,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' > </img>\nCreated in <span style='font-weight:600;margin-left:4px;'>Deepnote</span></a>",
   "metadata": {
    "tags": [],
    "created_in_deepnote_cell": true,
    "deepnote_cell_type": "markdown"
   }
  }
 ],
 "nbformat": 4,
 "nbformat_minor": 2,
 "metadata": {
  "orig_nbformat": 2,
  "deepnote": {
   "is_reactive": false
  },
  "deepnote_notebook_id": "fd00af96-1f2b-4ed7-8048-ccb2481277ea",
  "deepnote_execution_queue": []
 }
}