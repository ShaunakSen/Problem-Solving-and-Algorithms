{
 "cells": [
  {
   "cell_type": "markdown",
   "source": "## Recursion in Programming - Full Course\n\n> By The Simple Engineer: https://www.youtube.com/watch?v=IJDJ0kBx2LM\n\n---\n\n### Example 1 : Counting number of people in front of us in a queue\n\n![](https://i.imgur.com/swqXvLW.png)\n\n![](https://i.imgur.com/Bs51Ns7.png)",
   "metadata": {
    "tags": [],
    "cell_id": "00001-d932e89d-c91c-4134-a527-604612a9b613",
    "deepnote_cell_type": "markdown"
   }
  },
  {
   "cell_type": "markdown",
   "source": "",
   "metadata": {
    "tags": [],
    "cell_id": "00001-c460f395-bc4e-4957-91b4-207310166180",
    "deepnote_cell_type": "markdown"
   }
  },
  {
   "cell_type": "code",
   "metadata": {
    "tags": [],
    "cell_id": "00004-fa872b11-c452-4b5d-9d13-c5d4dd2c1b76",
    "deepnote_to_be_reexecuted": false,
    "source_hash": "a3647fc7",
    "execution_start": 1626719502437,
    "execution_millis": 9,
    "deepnote_cell_type": "code"
   },
   "source": "class Person():\n    def __init__(self, name, next_person):\n        self.name = name\n        self.next = next_person\n\nper1 = Person('a', None)\nper2 = Person('b', per1)\nper3 = Person('c', per2)\nper4 = Person('d', per3)\nper5 = Person('e', per4)\n\nprint (per3.name, per3.next)\nprint (per1.name, per1.next)",
   "execution_count": null,
   "outputs": [
    {
     "name": "stdout",
     "text": "c <__main__.Person object at 0x7fe3d91c4b10>\na None\n",
     "output_type": "stream"
    }
   ]
  },
  {
   "cell_type": "code",
   "metadata": {
    "tags": [],
    "cell_id": "00005-87b65049-6b67-4582-a371-bcd0be90276b",
    "deepnote_to_be_reexecuted": false,
    "source_hash": "e84add99",
    "execution_start": 1626719587663,
    "execution_millis": 0,
    "deepnote_cell_type": "code"
   },
   "source": "def getMyPosition(person):\n    if person.next is None:\n        return 1\n    return 1 + getMyPosition(person.next)",
   "execution_count": null,
   "outputs": []
  },
  {
   "cell_type": "code",
   "metadata": {
    "tags": [],
    "cell_id": "00004-b15550cb-b80f-47a2-8acf-6a7c8f1108ad",
    "deepnote_to_be_reexecuted": false,
    "source_hash": "a0062f3c",
    "execution_start": 1626719602680,
    "execution_millis": 5,
    "deepnote_cell_type": "code"
   },
   "source": "getMyPosition(per3)",
   "execution_count": null,
   "outputs": [
    {
     "output_type": "execute_result",
     "execution_count": 15,
     "data": {
      "text/plain": "3"
     },
     "metadata": {}
    }
   ]
  },
  {
   "cell_type": "markdown",
   "source": "In recursion, we setup the base case, which is kind of like the laziest case\n\nThen we call the same function, not with the same param, but with a param that progresses us in the direction of the soln\n\nTake a large prob and break it down into sub problems st each invocation of the function gets us closer to the soln\n\n![](https://i.imgur.com/0euP8M7.png)",
   "metadata": {
    "tags": [],
    "cell_id": "00005-8c012dc7-235e-4b82-9703-8822c047559f",
    "deepnote_cell_type": "markdown"
   }
  },
  {
   "cell_type": "markdown",
   "source": "### Call Stack\n\nImagine you have the following 3 functions\nTo compute A u need op of B and to compute B you need op of C\n\nThese ops get added to the call stack until we reach a condn where nothing needs to be added further (a stopping condn or a base case). Here the stopping condn is when we call C() and that returns \"friends\"\n\n![](https://i.imgur.com/TOwyWfn.png)\n\nAs each element in the stack gets evaluated, we pop it off and finally we get \"hello my friends\"\n\nIf the call stack gets full and we exhaust the allocated buffer of memory that our program has and we get a __stack overflow error__\n\n![](https://i.imgur.com/fXKmPXJ.png)\n",
   "metadata": {
    "tags": [],
    "cell_id": "00006-ddefeae7-cbab-429e-a8af-949e4d561874",
    "deepnote_cell_type": "markdown"
   }
  },
  {
   "cell_type": "markdown",
   "source": "### String Reversal\n\n__Base Case__: \n1. One letter\n2. Empty string (laziest)\n\n\n__Smallest amount of work I can do in each iteration__ : For this case, its basically the smallest \"unit\" that I can reverse; **basically I have to find a way to trim away at the parameter st I can reach the base case**\n\n",
   "metadata": {
    "tags": [],
    "cell_id": "00007-de7d5469-f1a3-4bf2-a6b1-07932b3c0931",
    "deepnote_cell_type": "markdown"
   }
  },
  {
   "cell_type": "code",
   "source": "def reverse_string(input_str):\n    \"\"\"\n    Base case : a string of length 1 reversed is the string itself\n    Smallest unit of work: Else we take the last character + the reverse of the rest of the string\n    \"\"\"\n    if len(input_str) == 1:\n        return input_str\n    \n    return input_str[-1] + reverse_string(input_str[:-1])\n\nreverse_string('shaunak')",
   "metadata": {
    "tags": [],
    "cell_id": "00009-b531e5c2-85a5-44d9-988e-1b43fbe824eb",
    "deepnote_to_be_reexecuted": false,
    "source_hash": "56c8d1b6",
    "execution_start": 1630165361646,
    "execution_millis": 21,
    "deepnote_cell_type": "code"
   },
   "outputs": [
    {
     "output_type": "execute_result",
     "execution_count": 6,
     "data": {
      "text/plain": "'kanuahs'"
     },
     "metadata": {}
    }
   ],
   "execution_count": 6
  },
  {
   "cell_type": "code",
   "metadata": {
    "tags": [],
    "cell_id": "00007-bbe2f9f6-009c-47ec-86a8-2d6beadbc4ee",
    "deepnote_to_be_reexecuted": false,
    "source_hash": "145bb625",
    "execution_start": 1626814668925,
    "execution_millis": 6,
    "deepnote_cell_type": "code"
   },
   "source": "def check_palindrome(text):\n    if len(text) <= 1:\n        return True\n    \n    return text[0] == text[-1] and check_palindrome(text[1:-1]) \n\ncheck_palindrome('kayaka')",
   "execution_count": null,
   "outputs": [
    {
     "output_type": "execute_result",
     "execution_count": 6,
     "data": {
      "text/plain": "False"
     },
     "metadata": {}
    }
   ]
  },
  {
   "cell_type": "code",
   "metadata": {
    "tags": [],
    "cell_id": "00010-a0d5be91-5e12-4f4d-b573-80fc62f2c99c",
    "deepnote_cell_type": "code"
   },
   "source": "",
   "execution_count": null,
   "outputs": []
  },
  {
   "cell_type": "markdown",
   "source": "<a style='text-decoration:none;line-height:16px;display:flex;color:#5B5B62;padding:10px;justify-content:end;' href='https://deepnote.com?utm_source=created-in-deepnote-cell&projectId=c9f7b205-46e2-4f7d-8027-1722d788f5d8' target=\"_blank\">\n<img alt='Created in deepnote.com' style='display:inline;max-height:16px;margin:0px;margin-right:7.5px;' src='data:image/svg+xml;base64,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' > </img>\nCreated in <span style='font-weight:600;margin-left:4px;'>Deepnote</span></a>",
   "metadata": {
    "tags": [],
    "created_in_deepnote_cell": true,
    "deepnote_cell_type": "markdown"
   }
  }
 ],
 "nbformat": 4,
 "nbformat_minor": 2,
 "metadata": {
  "orig_nbformat": 2,
  "deepnote": {
   "is_reactive": false
  },
  "deepnote_notebook_id": "fd00af96-1f2b-4ed7-8048-ccb2481277ea",
  "deepnote_execution_queue": []
 }
}