{
 "cells": [
  {
   "cell_type": "markdown",
   "source": "## Intro to Hashmaps\n\n> https://www.interviewcake.com/concept/java/hash-map\n\n---\n\n\n![](https://i.imgur.com/eKovW0n.png)\n\n### Mechanism\n\n\nArrays are pretty similar to hash maps already. Arrays let you quickly look up the value for a given \"key\" . . . except the keys are called \"indices,\" and we don't get to pick them—they're always sequential integers (0, 1, 2, 3, etc).\n\nThink of a hash map as a \"hack\" on top of an array to let us use flexible keys instead of being stuck with sequential integer \"indices.\"\n\nAll we need is a function to convert a key into an array index (an integer). That function is called a hashing function.\n\n![](https://www.interviewcake.com/images/svgs/cs_for_hackers__hash_tables_lies_key_labeled.svg?bust=209)\n\nTo look up the value for a given key, we just run the key through our hashing function to get the index to go to in our underlying array to grab the value.\n\nHow does that hashing method work? There are a few different approaches, and they can get pretty complicated. But here's a simple proof of concept:\n\nGrab the number value for each character and add those up.\n\n![](https://www.interviewcake.com/images/svgs/cs_for_hackers__hash_tables_lies_chars.svg?bust=209)\n\n\nThe result is 429. But what if we only have 30 slots in our array? We'll use a common trick for forcing a number into a specific range: the modulus operator (%). Modding our sum by 30 ensures we get a whole number that's less than 30 (and at least 0):\n\n`429 % 30 = 9`\n\n### Hash collisions\n\nWhat if two keys hash to the same index in our array? In our example above, look at \"lies\" and \"foes\":\n\n![](https://www.interviewcake.com/images/svgs/cs_for_hackers__hash_tables_lies_and_foes_addition.svg?bust=209)\n\nThey both sum up to 429! So of course they'll have the same answer when we mod by 30: `429 % 30 = 9`\n\nThis is called a __hash collision__. There are a few different strategies for dealing with them.\n\nHere's a common one: instead of storing the actual values in our array, let's have each array slot hold a pointer to a linked list holding the values for all the keys that hash to that index:\n\n![](https://www.interviewcake.com/images/svgs/cs_for_hackers__hash_tables_hash_collision_key_val.svg?bust=209)\n\n\nNotice that we included the keys as well as the values in each linked list node. Otherwise we wouldn't know which key was for which value!\n\n![](https://i.imgur.com/8Aj0h02.png)\n\n![](https://i.imgur.com/a6EYEPQ.png)\n\n\n## Has Tables - detailed working\n\n> https://www.youtube.com/watch?v=h2d9b_nEzoA\n\n---\n\nArrays are great for lookup (random access available) - O(1) - but we have to fix the size beforehand as arrays have to store the data contiguously in memory. So arrays cannot easily grow\n\nLinked Lists on the other hand can grow but they do not have random access. To access an element, we have to traverse the entire list until that element is reached = O(N)\n\nHash tables are the soln - Insertion, deletion and lookup can be done in constant time\n\nHash table - array + hash function - the hash function tells in which index position to store each value\n\nKey -> hash func -> hash_value (maps key to index in hash table)\n\nThis hash function is used to find where in the array to store the value corr to the key. Also its used to determine where in the array to search for the value corr to the key\n\nHash function should be consistent and op the same value for same keys\n\nLets consider that we have a hash function that stores strings based on first letter\napple goes to idx 0, banana to idx 1 ...\n\nWhere can \"ant\" go - collision\n\n![](https://i.imgur.com/1MTUTmJ.png)\n\n### Dealing with collisions\n\n1. Linear Probing\n\nIf collision occurs, the key is assigned the __next available slot__ in the table\n\nFor example, now \"ant\" will be stored at idx 3 and if we see \"ape\" it will be assigned to idx 4\n\n![](https://i.imgur.com/nt79Uo5.png)\n\nLet us consider a simple hash function as “key mod 7” and a sequence of keys as 50, 700, 76, 85, 92, 73, 101. \n\n![](https://media.geeksforgeeks.org/wp-content/cdn-uploads/gq/2015/08/openAddressing1.png)\n\n\nHere we can see if collision occurs, we kind of end up with a \"cluster\" of words starting with \"a\"\n\nWorst case insertion, deletion and lookup here are O(N) as the next available position could be at the end of the array\n\n2. Separate Chaining\n\n![](https://i.imgur.com/5v5C0pY.png)\n\nHere the hash table is an array of pointers to linked lists\n\nWhen a collision occurs, a key can be inserted in __constant__ time in the linked list\n\nSearch : in worst case search the entire linked list - O(N/K) where k is the size of hash table \n\nAll this depends on actually how good our hash funtion is\n\n- a good hash function should use all available info in the key\nfor example if 2 keys are \"cat\" and \"caterpillar\" we want them to hash to diff locations; if the function uses only first 3 letters, that wont be possible\n\n- uniformly distribute the o/p across table - this helps keeping size of linked lists small\n\n- Maps similar keys to v diff hash values - collisions much less likely\n\n- Hash functions should be fast\n\n\nGood Kevin.. Done running the SHAP analysis, I am just isolating all the skus you sent me and starting to reproduce the analysis where we isolate the featues\n\nI should have the diff fetaures by tonight and start testing them out ",
   "metadata": {
    "tags": [],
    "cell_id": "00000-4ca702a2-4f42-43bf-80a3-97bf7ae31311",
    "deepnote_cell_type": "markdown"
   }
  },
  {
   "cell_type": "code",
   "metadata": {
    "tags": [],
    "cell_id": "00000-ac17a886-e4af-406e-b5df-cea4f9f8ef69",
    "deepnote_to_be_reexecuted": false,
    "source_hash": "dbf40ce2",
    "execution_start": 1639549476020,
    "execution_millis": 10,
    "deepnote_cell_type": "code"
   },
   "source": "def binary_search(target, arr, left, right):\n    print (left, right)\n    if left > right:\n        return None\n    mid = (left + right)//2\n\n    if target == arr[mid]:\n        return mid\n\n    if target > arr[mid]:\n        left = mid+1\n        return binary_search(target, arr, left, right)\n\n    else:\n        right = mid - 1\n        return binary_search(target, arr, left, right)\n\nprint (binary_search(3, [0,3,4,5,6,7,8,9], 0, 7))",
   "execution_count": null,
   "outputs": [
    {
     "name": "stdout",
     "text": "0 7\n0 2\n1\n",
     "output_type": "stream",
     "data": {}
    }
   ]
  },
  {
   "cell_type": "code",
   "metadata": {
    "tags": [],
    "cell_id": "00002-67223dc9-b376-433b-83bf-3775f9e461bf",
    "deepnote_to_be_reexecuted": false,
    "source_hash": "f8a62891",
    "execution_start": 1639551445581,
    "execution_millis": 7,
    "deepnote_cell_type": "code"
   },
   "source": "def binary_search_iterative(target, arr):\n    \n    left, right = 0, len(arr)-1\n\n\n    while left <= right and len(arr) > 0:\n\n        mid = (left+right)//2\n\n        print (left, right, mid)\n\n        if arr[mid] == target:\n            return mid\n\n        if target > arr[mid]:\n            left = mid + 1\n\n        elif target < arr[mid]:\n            right = mid - 1\n\n    return None\n\nprint (binary_search_iterative(3, [0,3,4,5,6,7,8,9]))",
   "execution_count": null,
   "outputs": [
    {
     "name": "stdout",
     "text": "0 7 3\n0 2 1\n1\n",
     "output_type": "stream",
     "data": {}
    }
   ]
  },
  {
   "cell_type": "markdown",
   "source": "# Array Problems\n\n> https://www.interviewcake.com/concept/array\n\n## Apple Stock prices\n\n> https://www.interviewcake.com/question/python/stock-price\n\nWrite an efficient function that takes stock_prices and returns the best profit I could have made from one purchase and one sale of one share of Apple stock yesterday.\n\n\n```python\nstock_prices = [10, 7, 5, 8, 11, 9]\n\nget_max_profit(stock_prices)\n# Returns 6 (buying for $5 and selling for $11)\n```",
   "metadata": {
    "tags": [],
    "cell_id": "00003-bc1b0c5c-d0b9-415a-aaac-0aa1c6003471",
    "deepnote_cell_type": "markdown"
   }
  },
  {
   "cell_type": "code",
   "metadata": {
    "tags": [],
    "cell_id": "00003-dc5d10ab-b3e2-40b3-967b-dedf43e7bc39",
    "deepnote_to_be_reexecuted": false,
    "source_hash": "c2602aa8",
    "execution_start": 1639584229570,
    "execution_millis": 2,
    "deepnote_cell_type": "code"
   },
   "source": "import numpy as np",
   "execution_count": null,
   "outputs": []
  },
  {
   "cell_type": "code",
   "metadata": {
    "tags": [],
    "cell_id": "00005-6b424ffc-8334-44d1-a54d-b951b4b9aaeb",
    "deepnote_to_be_reexecuted": false,
    "source_hash": "2d6bb48a",
    "execution_start": 1639584438948,
    "execution_millis": 7,
    "deepnote_cell_type": "code"
   },
   "source": "stock_prices = [10, 7, 5, 8, 11, 9]\n\n\ncurrent_min, current_profit, current_sp = 10000, 0, None\n\nfor idx in range(len(stock_prices)):\n    if stock_prices[idx] < current_min:\n        current_min = stock_prices[idx]\n\n    profit_ = stock_prices[idx] - current_min\n    if profit_ > current_profit:\n        current_profit = profit_\n        current_sp = stock_prices[idx]\n\nprint (current_min, current_sp, current_profit)",
   "execution_count": null,
   "outputs": [
    {
     "name": "stdout",
     "text": "5 11 6\n",
     "output_type": "stream",
     "data": {}
    }
   ]
  },
  {
   "cell_type": "code",
   "metadata": {
    "tags": [],
    "cell_id": "00006-568fa7e3-9be2-41fa-9d86-b296a9c73532",
    "deepnote_to_be_reexecuted": false,
    "source_hash": "7e07c6ce",
    "execution_start": 1639587044406,
    "execution_millis": 115,
    "deepnote_output_heights": [
     21.1875
    ],
    "deepnote_cell_type": "code"
   },
   "source": "### leetcode: https://leetcode.com/problems/best-time-to-buy-and-sell-stock/\n\n\n\ndef maxProfit(prices):\n    \n    current_cp, current_profit, current_sp = 100000, 0, None\n\n    for idx in range(len(prices)):\n        if prices[idx] < current_cp:\n            current_cp = prices[idx]\n\n        profit_ = prices[idx] - current_cp\n        if profit_ > current_profit:\n            current_profit = profit_\n\n    return current_profit\n\nmaxProfit([10, 7, 5, 8, 11, 9])",
   "execution_count": null,
   "outputs": [
    {
     "output_type": "execute_result",
     "execution_count": 5,
     "data": {
      "text/plain": "0"
     },
     "metadata": {}
    }
   ]
  },
  {
   "cell_type": "markdown",
   "source": "## Maximum Subarray\n\n> https://leetcode.com/problems/maximum-subarray/\n\n> https://www.youtube.com/watch?v=5WZl3MMT0Eg\n---\n",
   "metadata": {
    "tags": [],
    "cell_id": "00007-9ad1a789-b7d1-4296-b411-eb91b46eaa97",
    "deepnote_cell_type": "markdown"
   }
  },
  {
   "cell_type": "code",
   "metadata": {
    "tags": [],
    "cell_id": "00007-2c6549aa-eec5-4855-a5a6-660d1a83be59",
    "deepnote_to_be_reexecuted": false,
    "source_hash": "e3d2c8fd",
    "execution_start": 1639600179979,
    "execution_millis": 2,
    "deepnote_cell_type": "code"
   },
   "source": "nums = [-2,1,-3,4,-1,2,1,-5,4]\n\nbest_sum = -10000\n\nfor i in range(len(nums)):\n    for j in range(i, len(nums)):\n        sum_ = sum(nums[i:j+1])\n\n        if sum_ > best_sum:\n            best_sum = sum_\n            \nprint (best_sum)",
   "execution_count": null,
   "outputs": [
    {
     "name": "stdout",
     "text": "6\n",
     "output_type": "stream",
     "data": {}
    }
   ]
  },
  {
   "cell_type": "code",
   "metadata": {
    "tags": [],
    "cell_id": "00009-23fbd37d-a8fc-4c3b-b87f-9572e0e89e6f",
    "deepnote_to_be_reexecuted": false,
    "source_hash": "28aea6ec",
    "execution_start": 1639682598235,
    "execution_millis": 2,
    "deepnote_output_heights": [
     21.1875
    ],
    "deepnote_cell_type": "code"
   },
   "source": "nums = [-2,1,-3,4,-1,2,1,-5,4]\n\ndef maxSubArray(nums):\n    curr_sum = nums[0]\n    max_so_far = curr_sum\n\n    i, j = 0, 0 ### keep 2 pointers\n\n    while j < len(nums)-1 and i <= j:\n        j += 1\n\n        if nums[j] > 0 and curr_sum < 0: ### if next no is +ve and prefix is -ve discard prefix \n            i = j\n            curr_sum = nums[j]\n            \n\n        else:\n            curr_sum = curr_sum + nums[j] ### keep adding to curr_sum\n\n        if curr_sum > max_so_far: ### at each step keep checking for max obtained so far\n            max_so_far = curr_sum\n        \n    if i < len(nums)-1: ### check for any missed out values\n        for x in range(i, len(nums)):\n            if nums[x] > max_so_far:\n                max_so_far = nums[x]\n\n    return max_so_far\n\nmaxSubArray(nums)",
   "execution_count": null,
   "outputs": [
    {
     "output_type": "execute_result",
     "execution_count": 7,
     "data": {
      "text/plain": "6"
     },
     "metadata": {}
    }
   ]
  },
  {
   "cell_type": "markdown",
   "source": "## Missing Number\n\n> https://leetcode.com/problems/missing-number/\n\n---",
   "metadata": {
    "tags": [],
    "cell_id": "00010-cb7d904e-c415-4d61-8b2f-61721600cd71",
    "deepnote_cell_type": "markdown"
   }
  },
  {
   "cell_type": "code",
   "metadata": {
    "tags": [],
    "cell_id": "00009-2eee6caf-d5ac-4356-97df-bab8dac3413a",
    "deepnote_to_be_reexecuted": false,
    "source_hash": "5469fd77",
    "execution_start": 1639724730980,
    "execution_millis": 3,
    "deepnote_cell_type": "code"
   },
   "source": "def missingNumber(nums):\n    nums.sort()\n    if nums[0]!=0:\n        return 0\n    for i in range(len(nums)-1):\n        if nums[i+1] - nums[i] > 1:\n            return nums[i] + 1\n    return nums[-1] + 1",
   "execution_count": null,
   "outputs": [
    {
     "name": "stdout",
     "text": "8\n7\n",
     "output_type": "stream",
     "data": {}
    }
   ]
  },
  {
   "cell_type": "markdown",
   "source": "## Find All Numbers Disappeared in an Array\n\n> https://leetcode.com/problems/find-all-numbers-disappeared-in-an-array/\n---",
   "metadata": {
    "tags": [],
    "cell_id": "00012-5df83e41-beae-4ab3-a375-c06dd170092a",
    "deepnote_cell_type": "markdown"
   }
  },
  {
   "cell_type": "code",
   "metadata": {
    "tags": [],
    "cell_id": "00012-daf7a08f-fca4-43e6-920a-8d0607dc6d4c",
    "deepnote_to_be_reexecuted": false,
    "source_hash": "99b175c0",
    "execution_start": 1639773391835,
    "execution_millis": 15,
    "deepnote_output_heights": [
     21.1875
    ],
    "deepnote_cell_type": "code"
   },
   "source": "nums = [4,3,2,7,8,2,3,1]\n\n### create a hashmap\n\nhashmap = {key: True for key in nums}\n\nall_missing = []\n\nfor num_ in range(1, len(nums) + 1):\n    if hashmap.get(num_) is None:\n        all_missing.append(num_)\n\n\nprint (all_missing)",
   "execution_count": null,
   "outputs": [
    {
     "name": "stdout",
     "text": "[5, 6]\n",
     "output_type": "stream",
     "data": {}
    }
   ]
  },
  {
   "cell_type": "markdown",
   "source": "## Two Sum\n\n> https://leetcode.com/problems/two-sum/\n\n---\nGiven an array of integers nums and an integer target, return indices of the two numbers such that they add up to target.\n\nYou may assume that each input would have exactly one solution, and you may not use the same element twice.\n\nYou can return the answer in any order.",
   "metadata": {
    "tags": [],
    "cell_id": "00014-5a4a159e-05f2-4056-8d39-cceaec4b9876",
    "deepnote_cell_type": "markdown"
   }
  },
  {
   "cell_type": "code",
   "metadata": {
    "tags": [],
    "cell_id": "00015-e7172be3-8f56-4002-bc14-799fb86b851f",
    "deepnote_to_be_reexecuted": false,
    "source_hash": "55b0f293",
    "execution_start": 1640544876971,
    "execution_millis": 6,
    "deepnote_cell_type": "code"
   },
   "source": "nums = [2,7,11,15]\ntarget = 9\n\ndef two_sum_naive(nums, target):\n\n    ### for each num, check remaining nos to find reqd values\n\n    for i in range(len(nums)):\n        reqd = target - nums[i]\n        for j in range(1, len(nums)):\n            if nums[j] == reqd:\n                return [i, j]\n\n    return None\n\nprint(two_sum_naive(nums, target))",
   "execution_count": null,
   "outputs": [
    {
     "name": "stdout",
     "text": "[0, 1]\n",
     "output_type": "stream",
     "data": {}
    }
   ]
  },
  {
   "cell_type": "code",
   "metadata": {
    "tags": [],
    "cell_id": "00016-60bf20a5-502b-4ab6-8812-7b5d38bd0d45",
    "deepnote_to_be_reexecuted": false,
    "source_hash": "3364e173",
    "execution_start": 1640546335316,
    "execution_millis": 5,
    "deepnote_cell_type": "code"
   },
   "source": "def two_sum_two_pointer(nums, target):\n    ### sort nums\n    nums_sorted = sorted(nums)\n\n    ### keep 2 pointers, one at min elem, one at max\n    i, j = 0, len(nums)-1\n\n    curr_sum = nums_sorted[i] + nums_sorted[j]\n\n    while i < j:\n        if curr_sum == target:\n            first_idx = nums.index(nums_sorted[i])\n            sec_idx = nums.index(nums_sorted[j], first_idx+1)\n            return [first_idx, sec_idx]\n        if target > curr_sum:\n            i+=1\n        elif target < curr_sum:\n            j-=1\n        curr_sum = nums_sorted[i] + nums_sorted[j]\n\n    return None\nnums = [-1,-2,-3,-4,-5]\ntarget = -8\nprint(two_sum_two_pointer(nums, target))",
   "execution_count": null,
   "outputs": [
    {
     "name": "stdout",
     "text": "[2, 4]\n",
     "output_type": "stream",
     "data": {}
    }
   ]
  },
  {
   "cell_type": "code",
   "metadata": {
    "tags": [],
    "cell_id": "00017-1a0dfadc-d109-4347-8f4b-aea14f85b26e",
    "deepnote_to_be_reexecuted": false,
    "source_hash": "a6c39344",
    "execution_start": 1640548472732,
    "execution_millis": 8,
    "deepnote_output_heights": [
     21.1875
    ],
    "deepnote_cell_type": "code"
   },
   "source": "{3: 0, -4: 1}.get(3)",
   "execution_count": null,
   "outputs": [
    {
     "output_type": "execute_result",
     "execution_count": 8,
     "data": {
      "text/plain": "0"
     },
     "metadata": {}
    }
   ]
  },
  {
   "cell_type": "code",
   "metadata": {
    "tags": [],
    "cell_id": "00017-6cbe29c1-9687-49f0-af59-2aea11ab7ace",
    "deepnote_to_be_reexecuted": false,
    "source_hash": "455c5e57",
    "execution_start": 1640548648792,
    "execution_millis": 7,
    "deepnote_cell_type": "code"
   },
   "source": "def two_pointer_hashmap(nums, target):\n\n    hashmap = {}\n\n    for idx, num_ in enumerate(nums):\n        \n        reqd = target - num_\n        if hashmap.get(num_) is not None:\n            return [hashmap[num_], idx]\n        else:\n            hashmap[reqd] = idx\n\nnums = [-3,4,3,90]\ntarget = 0\n\nprint (two_pointer_hashmap(nums, target))\n",
   "execution_count": null,
   "outputs": [
    {
     "name": "stdout",
     "text": "[0, 2]\n",
     "output_type": "stream",
     "data": {}
    }
   ]
  },
  {
   "cell_type": "markdown",
   "source": "## Find Pivot Index\n\n> https://leetcode.com/problems/find-pivot-index/\n\n---\n\n",
   "metadata": {
    "tags": [],
    "cell_id": "00019-15635b90-4788-4e69-abb4-e8580f7a2e14",
    "deepnote_cell_type": "markdown"
   }
  },
  {
   "cell_type": "code",
   "source": "def find_pivot_index(nums): \n\n    curr_pointer = 0  ### start from 1st position\n    left_sum, right_sum = 0, sum(nums) - nums[0] ### keep track of left and right sum\n\n    while curr_pointer < len(nums):\n        # print (curr_pointer, left_sum, right_sum)\n        if left_sum == right_sum:\n            return curr_pointer\n        else:\n\n            ### check if we are at end of list\n            if curr_pointer == len(nums)-1:\n                return -1\n            ### inc left sum, dec right sum and advance curr_pointer\n            left_sum += nums[curr_pointer]\n            right_sum -= nums[curr_pointer+1]\n            curr_pointer += 1\n\n    return -1\n\nnums = [2,5]\n\nprint (find_pivot_index(nums))",
   "metadata": {
    "tags": [],
    "cell_id": "00020-196e6462-45d2-4625-824f-0bc38419b983",
    "deepnote_to_be_reexecuted": false,
    "source_hash": "7935082c",
    "execution_start": 1641117736943,
    "execution_millis": 12,
    "deepnote_cell_type": "code"
   },
   "outputs": [
    {
     "name": "stdout",
     "text": "-1\n",
     "output_type": "stream",
     "data": {}
    }
   ],
   "execution_count": null
  },
  {
   "cell_type": "code",
   "source": "",
   "metadata": {
    "tags": [],
    "cell_id": "00021-93a2f972-e697-4ac6-b9ec-3b51b93c1ddd",
    "deepnote_cell_type": "code"
   },
   "outputs": [],
   "execution_count": null
  },
  {
   "cell_type": "code",
   "source": "4^4^3^3^2",
   "metadata": {
    "tags": [],
    "cell_id": "00021-ec263ffe-5d02-4845-b936-2afe11b82e15",
    "deepnote_to_be_reexecuted": false,
    "source_hash": "48dccfb7",
    "execution_start": 1641118004368,
    "execution_millis": 2,
    "deepnote_output_heights": [
     21.1875
    ],
    "deepnote_cell_type": "code"
   },
   "outputs": [
    {
     "output_type": "execute_result",
     "execution_count": 14,
     "data": {
      "text/plain": "2"
     },
     "metadata": {}
    }
   ],
   "execution_count": null
  },
  {
   "cell_type": "markdown",
   "source": "### Hackerrank input example\n\n> https://www.hackerrank.com/challenges/30-dictionaries-and-maps/problem\n\n---\n\n#### Soln:\n\n```python\n\n# Enter your code here. Read input from STDIN. Print output to STDOUT\n\nn = int(input())\n\nphonebook = {}\n\nfor i in range(n):\n    name_, no_ = input().split(' ')\n    name_, no_ = str(name_), int(no_)\n    if phonebook.get(name_) is None:\n        phonebook[name_] = no_\n\nwhile True:\n    try:\n        query_ = input()\n    except:\n        break\n    if query_ is None or len(query_.strip()) == 0:\n        break\n    else:\n        no_ = phonebook.get(query_)\n        if no_ is None:\n            res_ = \"Not found\"\n        else:    \n            res_ = f'{query_}={no_}'\n        print (res_)\n\n```",
   "metadata": {
    "tags": [],
    "cell_id": "00014-1c266d65-3b0d-4100-a415-ca43ff78058c",
    "deepnote_cell_type": "markdown"
   }
  },
  {
   "cell_type": "markdown",
   "source": "## Bitwise operations\n\n> https://www.geeksforgeeks.org/python-bitwise-operators/\n\n---\n\n![](https://i.imgur.com/EsIdzkt.png)\n\n![](https://i.imgur.com/GgLQk87.png)\n\n![](https://i.imgur.com/JJv5blq.png)\n\n![](https://i.imgur.com/XwTnhdX.png)\n\nFor bitwise XOR if we have 0 ^ x = x\nAlso x^x = 0\n\n### Shift Operators\n\nThese operators are used to shift the bits of a number left or right thereby multiplying or dividing the number by two respectively. They can be used when we have to multiply or divide a number by two. \n\n__Bitwise right shift__: Shifts the bits of the number to the right and fills 0 on voids left( fills 1 in the case of a negative number) as a result. Similar effect as of dividing the number with some power of two.\nExample: \n\n```\na = 10 = 0000 1010\na >> 1 = 0000 0101 = 5\n\na = -10 = 2s complement(0000 1010) -> 1111 0101 + 1 -> 1111 0110\na >> 1 = 1111 1011 (leftmost digit padded with 1 as no is -ve)\n\nNote: -5 = 2s complement(0000 0101) -> 1111 1010 + 1 -> 1111 1011\n```\n\n__Bitwise left shift__: Shifts the bits of the number to the left and fills 0 on voids right as a result. Similar effect as of multiplying the number with some power of two.\n\n```\nExample 1:\na = 5 = 0000 0101 (Binary)\na << 1 = 0000 1010 = 10\na << 2 = 0001 0100 = 20 \n\nExample 2:\nb = -10 = 1111 0110 (Binary)\nb << 1 = 1110 1100 = -20\nb << 2 = 1101 1000 = -40 \n```\n\n\n",
   "metadata": {
    "tags": [],
    "cell_id": "00014-8aa9018d-4939-4423-a25c-08b585334ec7",
    "deepnote_cell_type": "markdown"
   }
  },
  {
   "cell_type": "code",
   "source": "5 >> 1, 10 >> 1, 5 << 1, 2^4, 2^2, 0^5",
   "metadata": {
    "tags": [],
    "cell_id": "00025-9bd2a4aa-ecdb-441b-ba46-7c4bd1cfe352",
    "deepnote_to_be_reexecuted": false,
    "source_hash": "5ab8031a",
    "execution_start": 1641133332947,
    "execution_millis": 295,
    "deepnote_output_heights": [
     21.1875
    ],
    "deepnote_cell_type": "code"
   },
   "outputs": [
    {
     "output_type": "execute_result",
     "execution_count": 12,
     "data": {
      "text/plain": "(2, 5, 10, 6, 0, 5)"
     },
     "metadata": {}
    }
   ],
   "execution_count": 12
  },
  {
   "cell_type": "markdown",
   "source": "## Single Number\n\n> https://leetcode.com/problems/single-number/",
   "metadata": {
    "tags": [],
    "cell_id": "00025-3a68ab23-5707-4cc8-b2a6-27611b7bb0f8",
    "deepnote_cell_type": "markdown"
   }
  },
  {
   "cell_type": "markdown",
   "source": "Imagine we have the seq `[4^4^8^6^6]`\n\nWe can see this as `(4^4)^8^(6^6) = 0^8^0 = 8^0 = 8`",
   "metadata": {
    "tags": [],
    "cell_id": "00027-1de374d5-1f80-4d46-bf7d-1117bf8a5819",
    "deepnote_cell_type": "markdown"
   }
  },
  {
   "cell_type": "code",
   "metadata": {
    "tags": [],
    "cell_id": "00014-c82dc349-9294-4a2a-9d24-e148ccd49aa5",
    "deepnote_to_be_reexecuted": false,
    "source_hash": "11a3671e",
    "execution_start": 1641133805576,
    "execution_millis": 15,
    "deepnote_cell_type": "code"
   },
   "source": "def singleNumber(nums):\n    res = nums[0]\n    for idx in range(1, len(nums)):\n        res = res^nums[idx]\n        print (res,nums[idx])\n\n    return res\n        \nnums = [4,1,2,1,2]\n\nprint (singleNumber(nums))",
   "execution_count": 20,
   "outputs": [
    {
     "name": "stdout",
     "text": "5 1\n7 2\n6 1\n4 2\n4\n",
     "output_type": "stream",
     "data": {}
    }
   ]
  },
  {
   "cell_type": "code",
   "metadata": {
    "tags": [],
    "cell_id": "00013-904cd783-5727-4953-8aa3-2d9a7902a4d5",
    "deepnote_to_be_reexecuted": false,
    "source_hash": "c63cd9fa",
    "execution_start": 1641132149279,
    "execution_millis": 145,
    "deepnote_output_heights": [
     21.1875
    ],
    "deepnote_cell_type": "code"
   },
   "source": "4^4^8^6^6",
   "execution_count": 5,
   "outputs": [
    {
     "output_type": "execute_result",
     "execution_count": 5,
     "data": {
      "text/plain": "8"
     },
     "metadata": {}
    }
   ]
  },
  {
   "cell_type": "code",
   "source": "8^6^6",
   "metadata": {
    "tags": [],
    "cell_id": "00027-7b0b63db-b5f0-436b-a019-6a0b66178021",
    "deepnote_to_be_reexecuted": false,
    "source_hash": "9b136d78",
    "execution_start": 1641132168658,
    "execution_millis": 16,
    "deepnote_output_heights": [
     21.1875
    ],
    "deepnote_cell_type": "code"
   },
   "outputs": [
    {
     "output_type": "execute_result",
     "execution_count": 7,
     "data": {
      "text/plain": "8"
     },
     "metadata": {}
    }
   ],
   "execution_count": 7
  },
  {
   "cell_type": "markdown",
   "source": "<a style='text-decoration:none;line-height:16px;display:flex;color:#5B5B62;padding:10px;justify-content:end;' href='https://deepnote.com?utm_source=created-in-deepnote-cell&projectId=c9f7b205-46e2-4f7d-8027-1722d788f5d8' target=\"_blank\">\n<img alt='Created in deepnote.com' style='display:inline;max-height:16px;margin:0px;margin-right:7.5px;' src='data:image/svg+xml;base64,PD94bWwgdmVyc2lvbj0iMS4wIiBlbmNvZGluZz0iVVRGLTgiPz4KPHN2ZyB3aWR0aD0iODBweCIgaGVpZ2h0PSI4MHB4IiB2aWV3Qm94PSIwIDAgODAgODAiIHZlcnNpb249IjEuMSIgeG1sbnM9Imh0dHA6Ly93d3cudzMub3JnLzIwMDAvc3ZnIiB4bWxuczp4bGluaz0iaHR0cDovL3d3dy53My5vcmcvMTk5OS94bGluayI+CiAgICA8IS0tIEdlbmVyYXRvcjogU2tldGNoIDU0LjEgKDc2NDkwKSAtIGh0dHBzOi8vc2tldGNoYXBwLmNvbSAtLT4KICAgIDx0aXRsZT5Hcm91cCAzPC90aXRsZT4KICAgIDxkZXNjPkNyZWF0ZWQgd2l0aCBTa2V0Y2guPC9kZXNjPgogICAgPGcgaWQ9IkxhbmRpbmciIHN0cm9rZT0ibm9uZSIgc3Ryb2tlLXdpZHRoPSIxIiBmaWxsPSJub25lIiBmaWxsLXJ1bGU9ImV2ZW5vZGQiPgogICAgICAgIDxnIGlkPSJBcnRib2FyZCIgdHJhbnNmb3JtPSJ0cmFuc2xhdGUoLTEyMzUuMDAwMDAwLCAtNzkuMDAwMDAwKSI+CiAgICAgICAgICAgIDxnIGlkPSJHcm91cC0zIiB0cmFuc2Zvcm09InRyYW5zbGF0ZSgxMjM1LjAwMDAwMCwgNzkuMDAwMDAwKSI+CiAgICAgICAgICAgICAgICA8cG9seWdvbiBpZD0iUGF0aC0yMCIgZmlsbD0iIzAyNjVCNCIgcG9pbnRzPSIyLjM3NjIzNzYyIDgwIDM4LjA0NzY2NjcgODAgNTcuODIxNzgyMiA3My44MDU3NTkyIDU3LjgyMTc4MjIgMzIuNzU5MjczOSAzOS4xNDAyMjc4IDMxLjY4MzE2ODMiPjwvcG9seWdvbj4KICAgICAgICAgICAgICAgIDxwYXRoIGQ9Ik0zNS4wMDc3MTgsODAgQzQyLjkwNjIwMDcsNzYuNDU0OTM1OCA0Ny41NjQ5MTY3LDcxLjU0MjI2NzEgNDguOTgzODY2LDY1LjI2MTk5MzkgQzUxLjExMjI4OTksNTUuODQxNTg0MiA0MS42NzcxNzk1LDQ5LjIxMjIyODQgMjUuNjIzOTg0Niw0OS4yMTIyMjg0IEMyNS40ODQ5Mjg5LDQ5LjEyNjg0NDggMjkuODI2MTI5Niw0My4yODM4MjQ4IDM4LjY0NzU4NjksMzEuNjgzMTY4MyBMNzIuODcxMjg3MSwzMi41NTQ0MjUgTDY1LjI4MDk3Myw2Ny42NzYzNDIxIEw1MS4xMTIyODk5LDc3LjM3NjE0NCBMMzUuMDA3NzE4LDgwIFoiIGlkPSJQYXRoLTIyIiBmaWxsPSIjMDAyODY4Ij48L3BhdGg+CiAgICAgICAgICAgICAgICA8cGF0aCBkPSJNMCwzNy43MzA0NDA1IEwyNy4xMTQ1MzcsMC4yNTcxMTE0MzYgQzYyLjM3MTUxMjMsLTEuOTkwNzE3MDEgODAsMTAuNTAwMzkyNyA4MCwzNy43MzA0NDA1IEM4MCw2NC45NjA0ODgyIDY0Ljc3NjUwMzgsNzkuMDUwMzQxNCAzNC4zMjk1MTEzLDgwIEM0Ny4wNTUzNDg5LDc3LjU2NzA4MDggNTMuNDE4MjY3Nyw3MC4zMTM2MTAzIDUzLjQxODI2NzcsNTguMjM5NTg4NSBDNTMuNDE4MjY3Nyw0MC4xMjg1NTU3IDM2LjMwMzk1NDQsMzcuNzMwNDQwNSAyNS4yMjc0MTcsMzcuNzMwNDQwNSBDMTcuODQzMDU4NiwzNy43MzA0NDA1IDkuNDMzOTE5NjYsMzcuNzMwNDQwNSAwLDM3LjczMDQ0MDUgWiIgaWQ9IlBhdGgtMTkiIGZpbGw9IiMzNzkzRUYiPjwvcGF0aD4KICAgICAgICAgICAgPC9nPgogICAgICAgIDwvZz4KICAgIDwvZz4KPC9zdmc+' > </img>\nCreated in <span style='font-weight:600;margin-left:4px;'>Deepnote</span></a>",
   "metadata": {
    "tags": [],
    "created_in_deepnote_cell": true,
    "deepnote_cell_type": "markdown"
   }
  }
 ],
 "nbformat": 4,
 "nbformat_minor": 2,
 "metadata": {
  "orig_nbformat": 2,
  "deepnote": {
   "is_reactive": false
  },
  "deepnote_notebook_id": "1a04ddd9-ee1a-4bdd-aed3-706e43984210",
  "deepnote_execution_queue": []
 }
}