{
 "cells": [
  {
   "cell_type": "markdown",
   "source": "# Intro to Hashmaps\n\n> https://www.interviewcake.com/concept/java/hash-map\n\n---\n\n\n![](https://i.imgur.com/eKovW0n.png)\n\n## Mechanism\n\n\nArrays are pretty similar to hash maps already. Arrays let you quickly look up the value for a given \"key\" . . . except the keys are called \"indices,\" and we don't get to pick them—they're always sequential integers (0, 1, 2, 3, etc).\n\nThink of a hash map as a \"hack\" on top of an array to let us use flexible keys instead of being stuck with sequential integer \"indices.\"\n\nAll we need is a function to convert a key into an array index (an integer). That function is called a hashing function.\n\n![](https://www.interviewcake.com/images/svgs/cs_for_hackers__hash_tables_lies_key_labeled.svg?bust=209)\n\nTo look up the value for a given key, we just run the key through our hashing function to get the index to go to in our underlying array to grab the value.\n\nHow does that hashing method work? There are a few different approaches, and they can get pretty complicated. But here's a simple proof of concept:\n\nGrab the number value for each character and add those up.\n\n![](https://www.interviewcake.com/images/svgs/cs_for_hackers__hash_tables_lies_chars.svg?bust=209)\n\n\nThe result is 429. But what if we only have 30 slots in our array? We'll use a common trick for forcing a number into a specific range: the modulus operator (%). Modding our sum by 30 ensures we get a whole number that's less than 30 (and at least 0):\n\n`429 % 30 = 9`\n\n### Hash collisions\n\nWhat if two keys hash to the same index in our array? In our example above, look at \"lies\" and \"foes\":\n\n![](https://www.interviewcake.com/images/svgs/cs_for_hackers__hash_tables_lies_and_foes_addition.svg?bust=209)\n\nThey both sum up to 429! So of course they'll have the same answer when we mod by 30: `429 % 30 = 9`\n\nThis is called a __hash collision__. There are a few different strategies for dealing with them.\n\nHere's a common one: instead of storing the actual values in our array, let's have each array slot hold a pointer to a linked list holding the values for all the keys that hash to that index:\n\n![](https://www.interviewcake.com/images/svgs/cs_for_hackers__hash_tables_hash_collision_key_val.svg?bust=209)\n\n\nNotice that we included the keys as well as the values in each linked list node. Otherwise we wouldn't know which key was for which value!\n\n![](https://i.imgur.com/8Aj0h02.png)\n\n![](https://i.imgur.com/a6EYEPQ.png)\n",
   "metadata": {
    "tags": [],
    "cell_id": "00000-4ca702a2-4f42-43bf-80a3-97bf7ae31311",
    "deepnote_cell_type": "markdown"
   }
  },
  {
   "cell_type": "code",
   "metadata": {
    "tags": [],
    "cell_id": "00000-ac17a886-e4af-406e-b5df-cea4f9f8ef69",
    "deepnote_to_be_reexecuted": false,
    "source_hash": "dbf40ce2",
    "execution_start": 1639549476020,
    "execution_millis": 10,
    "deepnote_cell_type": "code"
   },
   "source": "def binary_search(target, arr, left, right):\n    print (left, right)\n    if left > right:\n        return None\n    mid = (left + right)//2\n\n    if target == arr[mid]:\n        return mid\n\n    if target > arr[mid]:\n        left = mid+1\n        return binary_search(target, arr, left, right)\n\n    else:\n        right = mid - 1\n        return binary_search(target, arr, left, right)\n\nprint (binary_search(3, [0,3,4,5,6,7,8,9], 0, 7))",
   "execution_count": 7,
   "outputs": [
    {
     "name": "stdout",
     "text": "0 7\n0 2\n1\n",
     "output_type": "stream",
     "data": {}
    }
   ]
  },
  {
   "cell_type": "code",
   "metadata": {
    "tags": [],
    "cell_id": "00002-67223dc9-b376-433b-83bf-3775f9e461bf",
    "deepnote_to_be_reexecuted": false,
    "source_hash": "f8a62891",
    "execution_start": 1639551445581,
    "execution_millis": 7,
    "deepnote_cell_type": "code"
   },
   "source": "def binary_search_iterative(target, arr):\n    \n    left, right = 0, len(arr)-1\n\n\n    while left <= right and len(arr) > 0:\n\n        mid = (left+right)//2\n\n        print (left, right, mid)\n\n        if arr[mid] == target:\n            return mid\n\n        if target > arr[mid]:\n            left = mid + 1\n\n        elif target < arr[mid]:\n            right = mid - 1\n\n    return None\n\nprint (binary_search_iterative(3, [0,3,4,5,6,7,8,9]))",
   "execution_count": 17,
   "outputs": [
    {
     "name": "stdout",
     "text": "0 7 3\n0 2 1\n1\n",
     "output_type": "stream",
     "data": {}
    }
   ]
  },
  {
   "cell_type": "code",
   "source": "",
   "metadata": {
    "tags": [],
    "cell_id": "00003-dc5d10ab-b3e2-40b3-967b-dedf43e7bc39",
    "deepnote_cell_type": "code"
   },
   "outputs": [],
   "execution_count": null
  },
  {
   "cell_type": "markdown",
   "source": "<a style='text-decoration:none;line-height:16px;display:flex;color:#5B5B62;padding:10px;justify-content:end;' href='https://deepnote.com?utm_source=created-in-deepnote-cell&projectId=c9f7b205-46e2-4f7d-8027-1722d788f5d8' target=\"_blank\">\n<img alt='Created in deepnote.com' style='display:inline;max-height:16px;margin:0px;margin-right:7.5px;' src='data:image/svg+xml;base64,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' > </img>\nCreated in <span style='font-weight:600;margin-left:4px;'>Deepnote</span></a>",
   "metadata": {
    "tags": [],
    "created_in_deepnote_cell": true,
    "deepnote_cell_type": "markdown"
   }
  }
 ],
 "nbformat": 4,
 "nbformat_minor": 2,
 "metadata": {
  "orig_nbformat": 2,
  "deepnote": {
   "is_reactive": false
  },
  "deepnote_notebook_id": "1a04ddd9-ee1a-4bdd-aed3-706e43984210",
  "deepnote_execution_queue": []
 }
}