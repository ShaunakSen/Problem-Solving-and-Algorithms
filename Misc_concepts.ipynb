{
 "cells": [
  {
   "cell_type": "markdown",
   "source": "# Intro to Hashmaps\n\n> https://www.interviewcake.com/concept/java/hash-map\n\n---\n\n\n![](https://i.imgur.com/eKovW0n.png)\n\n## Mechanism\n\n\nArrays are pretty similar to hash maps already. Arrays let you quickly look up the value for a given \"key\" . . . except the keys are called \"indices,\" and we don't get to pick them—they're always sequential integers (0, 1, 2, 3, etc).\n\nThink of a hash map as a \"hack\" on top of an array to let us use flexible keys instead of being stuck with sequential integer \"indices.\"\n\nAll we need is a function to convert a key into an array index (an integer). That function is called a hashing function.\n\n![](https://www.interviewcake.com/images/svgs/cs_for_hackers__hash_tables_lies_key_labeled.svg?bust=209)\n\nTo look up the value for a given key, we just run the key through our hashing function to get the index to go to in our underlying array to grab the value.\n\nHow does that hashing method work? There are a few different approaches, and they can get pretty complicated. But here's a simple proof of concept:\n\nGrab the number value for each character and add those up.\n\n![](https://www.interviewcake.com/images/svgs/cs_for_hackers__hash_tables_lies_chars.svg?bust=209)\n\n\nThe result is 429. But what if we only have 30 slots in our array? We'll use a common trick for forcing a number into a specific range: the modulus operator (%). Modding our sum by 30 ensures we get a whole number that's less than 30 (and at least 0):\n\n`429 % 30 = 9`\n\n### Hash collisions\n\nWhat if two keys hash to the same index in our array? In our example above, look at \"lies\" and \"foes\":\n\n![](https://www.interviewcake.com/images/svgs/cs_for_hackers__hash_tables_lies_and_foes_addition.svg?bust=209)\n\nThey both sum up to 429! So of course they'll have the same answer when we mod by 30: `429 % 30 = 9`\n\nThis is called a __hash collision__. There are a few different strategies for dealing with them.\n\nHere's a common one: instead of storing the actual values in our array, let's have each array slot hold a pointer to a linked list holding the values for all the keys that hash to that index:\n\n![](https://www.interviewcake.com/images/svgs/cs_for_hackers__hash_tables_hash_collision_key_val.svg?bust=209)\n\n\nNotice that we included the keys as well as the values in each linked list node. Otherwise we wouldn't know which key was for which value!\n\n![](https://i.imgur.com/8Aj0h02.png)\n\n![](https://i.imgur.com/a6EYEPQ.png)\n",
   "metadata": {
    "tags": [],
    "cell_id": "00000-4ca702a2-4f42-43bf-80a3-97bf7ae31311",
    "deepnote_cell_type": "markdown"
   }
  },
  {
   "cell_type": "code",
   "metadata": {
    "tags": [],
    "cell_id": "00000-ac17a886-e4af-406e-b5df-cea4f9f8ef69",
    "deepnote_to_be_reexecuted": false,
    "source_hash": "dbf40ce2",
    "execution_start": 1639549476020,
    "execution_millis": 10,
    "deepnote_cell_type": "code"
   },
   "source": "def binary_search(target, arr, left, right):\n    print (left, right)\n    if left > right:\n        return None\n    mid = (left + right)//2\n\n    if target == arr[mid]:\n        return mid\n\n    if target > arr[mid]:\n        left = mid+1\n        return binary_search(target, arr, left, right)\n\n    else:\n        right = mid - 1\n        return binary_search(target, arr, left, right)\n\nprint (binary_search(3, [0,3,4,5,6,7,8,9], 0, 7))",
   "execution_count": null,
   "outputs": [
    {
     "name": "stdout",
     "text": "0 7\n0 2\n1\n",
     "output_type": "stream",
     "data": {}
    }
   ]
  },
  {
   "cell_type": "code",
   "metadata": {
    "tags": [],
    "cell_id": "00002-67223dc9-b376-433b-83bf-3775f9e461bf",
    "deepnote_to_be_reexecuted": false,
    "source_hash": "f8a62891",
    "execution_start": 1639551445581,
    "execution_millis": 7,
    "deepnote_cell_type": "code"
   },
   "source": "def binary_search_iterative(target, arr):\n    \n    left, right = 0, len(arr)-1\n\n\n    while left <= right and len(arr) > 0:\n\n        mid = (left+right)//2\n\n        print (left, right, mid)\n\n        if arr[mid] == target:\n            return mid\n\n        if target > arr[mid]:\n            left = mid + 1\n\n        elif target < arr[mid]:\n            right = mid - 1\n\n    return None\n\nprint (binary_search_iterative(3, [0,3,4,5,6,7,8,9]))",
   "execution_count": null,
   "outputs": [
    {
     "name": "stdout",
     "text": "0 7 3\n0 2 1\n1\n",
     "output_type": "stream",
     "data": {}
    }
   ]
  },
  {
   "cell_type": "markdown",
   "source": "## Array Problems\n\n> https://www.interviewcake.com/concept/array\n\n### Apple Stock prices\n\n> https://www.interviewcake.com/question/python/stock-price\n\nWrite an efficient function that takes stock_prices and returns the best profit I could have made from one purchase and one sale of one share of Apple stock yesterday.\n\n\n```python\nstock_prices = [10, 7, 5, 8, 11, 9]\n\nget_max_profit(stock_prices)\n# Returns 6 (buying for $5 and selling for $11)\n```",
   "metadata": {
    "tags": [],
    "cell_id": "00003-bc1b0c5c-d0b9-415a-aaac-0aa1c6003471",
    "deepnote_cell_type": "markdown"
   }
  },
  {
   "cell_type": "code",
   "metadata": {
    "tags": [],
    "cell_id": "00003-dc5d10ab-b3e2-40b3-967b-dedf43e7bc39",
    "deepnote_to_be_reexecuted": false,
    "source_hash": "c2602aa8",
    "execution_start": 1639584229570,
    "execution_millis": 2,
    "deepnote_cell_type": "code"
   },
   "source": "import numpy as np",
   "execution_count": null,
   "outputs": []
  },
  {
   "cell_type": "code",
   "metadata": {
    "tags": [],
    "cell_id": "00005-6b424ffc-8334-44d1-a54d-b951b4b9aaeb",
    "deepnote_to_be_reexecuted": false,
    "source_hash": "2d6bb48a",
    "execution_start": 1639584438948,
    "execution_millis": 7,
    "deepnote_cell_type": "code"
   },
   "source": "stock_prices = [10, 7, 5, 8, 11, 9]\n\n\ncurrent_min, current_profit, current_sp = 10000, 0, None\n\nfor idx in range(len(stock_prices)):\n    if stock_prices[idx] < current_min:\n        current_min = stock_prices[idx]\n\n    profit_ = stock_prices[idx] - current_min\n    if profit_ > current_profit:\n        current_profit = profit_\n        current_sp = stock_prices[idx]\n\nprint (current_min, current_sp, current_profit)",
   "execution_count": null,
   "outputs": [
    {
     "name": "stdout",
     "text": "5 11 6\n",
     "output_type": "stream",
     "data": {}
    }
   ]
  },
  {
   "cell_type": "code",
   "metadata": {
    "tags": [],
    "cell_id": "00006-568fa7e3-9be2-41fa-9d86-b296a9c73532",
    "deepnote_to_be_reexecuted": false,
    "source_hash": "7e07c6ce",
    "execution_start": 1639587044406,
    "execution_millis": 115,
    "deepnote_output_heights": [
     21.1875
    ],
    "deepnote_cell_type": "code"
   },
   "source": "### leetcode: https://leetcode.com/problems/best-time-to-buy-and-sell-stock/\n\n\n\ndef maxProfit(prices):\n    \n    current_cp, current_profit, current_sp = 100000, 0, None\n\n    for idx in range(len(prices)):\n        if prices[idx] < current_cp:\n            current_cp = prices[idx]\n\n        profit_ = prices[idx] - current_cp\n        if profit_ > current_profit:\n            current_profit = profit_\n\n    return current_profit\n\nmaxProfit([10, 7, 5, 8, 11, 9])",
   "execution_count": null,
   "outputs": [
    {
     "output_type": "execute_result",
     "execution_count": 5,
     "data": {
      "text/plain": "0"
     },
     "metadata": {}
    }
   ]
  },
  {
   "cell_type": "markdown",
   "source": "## Maximum Subarray\n\n> https://leetcode.com/problems/maximum-subarray/\n\n> https://www.youtube.com/watch?v=5WZl3MMT0Eg\n---\n",
   "metadata": {
    "tags": [],
    "cell_id": "00007-9ad1a789-b7d1-4296-b411-eb91b46eaa97",
    "deepnote_cell_type": "markdown"
   }
  },
  {
   "cell_type": "code",
   "metadata": {
    "tags": [],
    "cell_id": "00007-2c6549aa-eec5-4855-a5a6-660d1a83be59",
    "deepnote_to_be_reexecuted": false,
    "source_hash": "e3d2c8fd",
    "execution_start": 1639600179979,
    "execution_millis": 2,
    "deepnote_cell_type": "code"
   },
   "source": "nums = [-2,1,-3,4,-1,2,1,-5,4]\n\nbest_sum = -10000\n\nfor i in range(len(nums)):\n    for j in range(i, len(nums)):\n        sum_ = sum(nums[i:j+1])\n\n        if sum_ > best_sum:\n            best_sum = sum_\n            \nprint (best_sum)",
   "execution_count": null,
   "outputs": [
    {
     "name": "stdout",
     "text": "6\n",
     "output_type": "stream",
     "data": {}
    }
   ]
  },
  {
   "cell_type": "code",
   "metadata": {
    "tags": [],
    "cell_id": "00009-23fbd37d-a8fc-4c3b-b87f-9572e0e89e6f",
    "deepnote_to_be_reexecuted": false,
    "source_hash": "28aea6ec",
    "execution_start": 1639682598235,
    "execution_millis": 2,
    "deepnote_output_heights": [
     21.1875
    ],
    "deepnote_cell_type": "code"
   },
   "source": "nums = [-2,1,-3,4,-1,2,1,-5,4]\n\ndef maxSubArray(nums):\n    curr_sum = nums[0]\n    max_so_far = curr_sum\n\n    i, j = 0, 0 ### keep 2 pointers\n\n    while j < len(nums)-1 and i <= j:\n        j += 1\n\n        if nums[j] > 0 and curr_sum < 0: ### if next no is +ve and prefix is -ve discard prefix \n            i = j\n            curr_sum = nums[j]\n            \n\n        else:\n            curr_sum = curr_sum + nums[j] ### keep adding to curr_sum\n\n        if curr_sum > max_so_far: ### at each step keep checking for max obtained so far\n            max_so_far = curr_sum\n        \n    if i < len(nums)-1: ### check for any missed out values\n        for x in range(i, len(nums)):\n            if nums[x] > max_so_far:\n                max_so_far = nums[x]\n\n    return max_so_far\n\nmaxSubArray(nums)",
   "execution_count": 7,
   "outputs": [
    {
     "output_type": "execute_result",
     "execution_count": 7,
     "data": {
      "text/plain": "6"
     },
     "metadata": {}
    }
   ]
  },
  {
   "cell_type": "code",
   "metadata": {
    "tags": [],
    "cell_id": "00009-2eee6caf-d5ac-4356-97df-bab8dac3413a",
    "deepnote_cell_type": "code"
   },
   "source": "",
   "execution_count": null,
   "outputs": []
  },
  {
   "cell_type": "markdown",
   "source": "<a style='text-decoration:none;line-height:16px;display:flex;color:#5B5B62;padding:10px;justify-content:end;' href='https://deepnote.com?utm_source=created-in-deepnote-cell&projectId=c9f7b205-46e2-4f7d-8027-1722d788f5d8' target=\"_blank\">\n<img alt='Created in deepnote.com' style='display:inline;max-height:16px;margin:0px;margin-right:7.5px;' src='data:image/svg+xml;base64,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' > </img>\nCreated in <span style='font-weight:600;margin-left:4px;'>Deepnote</span></a>",
   "metadata": {
    "tags": [],
    "created_in_deepnote_cell": true,
    "deepnote_cell_type": "markdown"
   }
  }
 ],
 "nbformat": 4,
 "nbformat_minor": 2,
 "metadata": {
  "orig_nbformat": 2,
  "deepnote": {
   "is_reactive": false
  },
  "deepnote_notebook_id": "1a04ddd9-ee1a-4bdd-aed3-706e43984210",
  "deepnote_execution_queue": []
 }
}