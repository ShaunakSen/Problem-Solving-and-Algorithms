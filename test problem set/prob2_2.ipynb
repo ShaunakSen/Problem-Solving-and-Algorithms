{
 "cells": [
  {
   "cell_type": "code",
   "execution_count": 3,
   "metadata": {},
   "outputs": [
    {
     "name": "stdout",
     "output_type": "stream",
     "text": [
      "Enter the passwordasd\n",
      "The entered password does not matches the given rules\n"
     ]
    }
   ],
   "source": [
    "import re\n",
    "\n",
    "def password_check_1(test_string):\n",
    "    if(1<=len(test_string)<=20):\n",
    "        matched=re.match(\"^[À-Ö][À-Ö0-9.-]+[À-Ö0-9]$\",test_string)\n",
    "        if(bool(matched)==True):\n",
    "            print(\"The entered password matches the given rule\")\n",
    "        else:\n",
    "            print(\"The entered password does not matches the given rules\")\n",
    "    else:\n",
    "        print(\"String length out of limit\")\n",
    "    \n",
    "test_string=input(\"Enter the password\")\n",
    "password_check_1(test_string)"
   ]
  }
 ],
 "metadata": {
  "kernelspec": {
   "display_name": "Python 3",
   "language": "python",
   "name": "python3"
  },
  "language_info": {
   "codemirror_mode": {
    "name": "ipython",
    "version": 3
   },
   "file_extension": ".py",
   "mimetype": "text/x-python",
   "name": "python",
   "nbconvert_exporter": "python",
   "pygments_lexer": "ipython3",
   "version": "3.7.4"
  }
 },
 "nbformat": 4,
 "nbformat_minor": 4
}
