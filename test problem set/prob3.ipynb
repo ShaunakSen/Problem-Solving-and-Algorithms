{
 "cells": [
  {
   "cell_type": "code",
   "execution_count": 25,
   "metadata": {},
   "outputs": [
    {
     "name": "stdout",
     "output_type": "stream",
     "text": [
      "{'66.249.73.135': 482, '46.105.14.53': 364, '130.237.218.86': 357, '75.97.9.59': 273, '50.16.19.13': 113, '209.85.238.199': 102, '68.180.224.225': 99, '100.43.83.137': 84, '208.115.111.72': 83, '198.46.149.143': 82}\n"
     ]
    }
   ],
   "source": [
    "import re\n",
    "from collections import Counter\n",
    "\n",
    "def apache_log_reader(logfile):\n",
    "    myregex = r'\\d{1,3}\\.\\d{1,3}\\.\\d{1,3}\\.\\d{1,3}'\n",
    "    with open(logfile) as f:\n",
    "        log = f.read()\n",
    "        my_iplist = re.findall(myregex,log)\n",
    "        ipcount = Counter(my_iplist)\n",
    "        list2=ipcount.most_common(10)\n",
    "        print(Convert(list2))\n",
    "\n",
    "def Convert(list2):\n",
    "    res_dict={list2[i][0]:list2[i][1] for i in range(0,10)}\n",
    "    return res_dict\n",
    "        \n",
    "\n",
    "if __name__ == \"__main__\":\n",
    "    apache_log_reader(\"access.log\")"
   ]
  },
  {
   "cell_type": "code",
   "execution_count": 26,
   "metadata": {
    "scrolled": false
   },
   "outputs": [
    {
     "ename": "NameError",
     "evalue": "name 'ipcount' is not defined",
     "output_type": "error",
     "traceback": [
      "\u001b[1;31m---------------------------------------------------------------------------\u001b[0m",
      "\u001b[1;31mNameError\u001b[0m                                 Traceback (most recent call last)",
      "\u001b[1;32m<ipython-input-26-da72bbd77112>\u001b[0m in \u001b[0;36m<module>\u001b[1;34m()\u001b[0m\n\u001b[1;32m----> 1\u001b[1;33m \u001b[0mipcount\u001b[0m\u001b[1;33m\u001b[0m\u001b[0m\n\u001b[0m",
      "\u001b[1;31mNameError\u001b[0m: name 'ipcount' is not defined"
     ]
    }
   ],
   "source": [
    "ipcount"
   ]
  }
 ],
 "metadata": {
  "kernelspec": {
   "display_name": "Python 3",
   "language": "python",
   "name": "python3"
  },
  "language_info": {
   "codemirror_mode": {
    "name": "ipython",
    "version": 3
   },
   "file_extension": ".py",
   "mimetype": "text/x-python",
   "name": "python",
   "nbconvert_exporter": "python",
   "pygments_lexer": "ipython3",
   "version": "3.7.0"
  }
 },
 "nbformat": 4,
 "nbformat_minor": 2
}
