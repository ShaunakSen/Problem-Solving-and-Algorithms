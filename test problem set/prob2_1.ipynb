{
 "cells": [
  {
   "cell_type": "markdown",
   "metadata": {},
   "source": [
    "![](./diag1.jpeg)"
   ]
  },
  {
   "cell_type": "code",
   "execution_count": 12,
   "metadata": {},
   "outputs": [
    {
     "name": "stdin",
     "output_type": "stream",
     "text": [
      "Enter the password ÀÀÀÀÀ121---\n"
     ]
    },
    {
     "name": "stdout",
     "output_type": "stream",
     "text": [
      "ÀÀÀÀ121--\n",
      "the password must end only with a latin letter or number\n"
     ]
    }
   ],
   "source": [
    "import re\n",
    "\n",
    "def password_check(test_string):\n",
    "    if(1<=len(test_string)<=20):\n",
    "        str_len=len(test_string)\n",
    "        print (test_string[1:str_len-1])\n",
    "        match_1=re.match(\"[À-Ö]\",test_string[0])\n",
    "        if(bool(match_1)==True):\n",
    "            match_2=re.fullmatch(\"[À-Ö0-9.-]*\", test_string[1:str_len-1])\n",
    "            if(bool(match_2)==True):\n",
    "                match_3=re.match(\"[À-Ö0-9]\",test_string[str_len-1])\n",
    "                if(bool(match_3)==True):\n",
    "                    return (\"Password Successful\")\n",
    "                else:\n",
    "                    print(\"the password must end only with a latin letter or number\")\n",
    "            else:\n",
    "                print(\"the password can consist of Latin letters, numbers, dot and minuses\")\n",
    "        else:\n",
    "            print(\"the password must begin with a latin letter\")\n",
    "    else:\n",
    "        print(\"String length out of limit\")\n",
    "        \n",
    "test_string=input(\"Enter the password\")\n",
    "password_check(test_string)"
   ]
  }
 ],
 "metadata": {
  "kernelspec": {
   "display_name": "Python 3",
   "language": "python",
   "name": "python3"
  },
  "language_info": {
   "codemirror_mode": {
    "name": "ipython",
    "version": 3
   },
   "file_extension": ".py",
   "mimetype": "text/x-python",
   "name": "python",
   "nbconvert_exporter": "python",
   "pygments_lexer": "ipython3",
   "version": "3.7.4"
  }
 },
 "nbformat": 4,
 "nbformat_minor": 4
}
