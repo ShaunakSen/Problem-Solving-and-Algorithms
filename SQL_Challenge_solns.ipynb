{
  "nbformat": 4,
  "nbformat_minor": 0,
  "metadata": {
    "colab": {
      "name": "SQL_Challenge_solns.ipynb",
      "provenance": [],
      "collapsed_sections": [],
      "authorship_tag": "ABX9TyMeRImnjKrBEaj5q1A4l4tk",
      "include_colab_link": true
    },
    "kernelspec": {
      "name": "python3",
      "display_name": "Python 3"
    },
    "language_info": {
      "name": "python"
    }
  },
  "cells": [
    {
      "cell_type": "markdown",
      "metadata": {
        "id": "view-in-github",
        "colab_type": "text"
      },
      "source": [
        "<a href=\"https://colab.research.google.com/github/ShaunakSen/problem-solving-with-code/blob/master/SQL_Challenge_solns.ipynb\" target=\"_parent\"><img src=\"https://colab.research.google.com/assets/colab-badge.svg\" alt=\"Open In Colab\"/></a>"
      ]
    },
    {
      "cell_type": "code",
      "source": [
        "/*\n",
        "Enter your query here.\n",
        "Please append a semicolon \";\" at the end of the query\n",
        "*/\n",
        "\n",
        "# STEP 1: RANK OVER NAME, PHONE, AGE, duplicate records get same rank\n",
        "WITH CTE AS (\n",
        "\n",
        "SELECT NAME, PHONE, AGE,\n",
        "\n",
        "RANK() OVER(ORDER BY NAME, PHONE, AGE) as rank_id\n",
        "FROM EMPLOYEE\n",
        "),\n",
        "\n",
        "# STEP 2: extract records having the same rank multiple times - these are the duplicate ones\n",
        "\n",
        "CTE2 AS (\n",
        "SELECT NAME, PHONE, AGE\n",
        "\n",
        "FROM CTE\n",
        "\n",
        "GROUP BY NAME, PHONE, AGE\n",
        "\n",
        "HAVING COUNT(rank_id) > 1\n",
        "\n",
        ")\n",
        "\n",
        "# STEP 3: extract the duplicate names\n",
        "\n",
        "SELECT DISTINCT NAME FROM CTE2;"
      ],
      "metadata": {
        "id": "MxQGa4HWOsEt"
      },
      "execution_count": null,
      "outputs": []
    },
    {
      "cell_type": "code",
      "source": [
        "/*\n",
        "Enter your query below.\n",
        "Please append a semicolon \";\" at the end of the query\n",
        "*/\n",
        "\n",
        "# STEP 1: create a calculated col for year and join with users. also filter for \"2019\", \"2020\", \"2021\"\n",
        "WITH CTE AS (\n",
        "SELECT user_name, CONCAT(\"20\", LEFT(transaction_id,2)) AS transaction_year\n",
        "FROM TRANSACTIONS t\n",
        "\n",
        "INNER JOIN USERS u\n",
        "\n",
        "ON t.user_id = u.user_id\n",
        "WHERE CONCAT(\"20\", LEFT(transaction_id,2)) IN (\"2019\", \"2020\", \"2021\")\n",
        "),\n",
        "\n",
        "# STEP 2: use case when to create a calculate col representing each year\n",
        "\n",
        "CTE2 AS\n",
        "\n",
        "(\n",
        "    SELECT user_name,\n",
        "    CASE WHEN transaction_year = \"2019\" THEN 1\n",
        "    ELSE 0 END AS is_2019,\n",
        "    CASE WHEN transaction_year = \"2020\" THEN 1\n",
        "    ELSE 0 END AS is_2020,\n",
        "    CASE WHEN transaction_year = \"2021\" THEN 1\n",
        "    ELSE 0 END AS is_2021,\n",
        "    \n",
        "    transaction_year\n",
        "    FROM CTE\n",
        "    \n",
        ")\n",
        "\n",
        "# STEP 3: sum up each year column to get no of transactions for each user for each year\n",
        "\n",
        "SELECT user_name,\n",
        "SUM(is_2019), SUM(is_2020), SUM(is_2021)\n",
        "FROM CTE2\n",
        "GROUP BY user_name\n",
        "\n"
      ],
      "metadata": {
        "id": "A6IMI7D8QRar"
      },
      "execution_count": null,
      "outputs": []
    },
    {
      "cell_type": "code",
      "source": [
        "/*\n",
        "Enter your query below.\n",
        "Please append a semicolon \";\" at the end of the query\n",
        "*/\n",
        "\n",
        "# STEP1 : create cols for prev1, prev2 , next1 and next2: these will be used to check if the consecutive periods are high attendance or not\n",
        "\n",
        "\n",
        "WITH CTE AS (\n",
        "SELECT id, event_date,\n",
        "no_of_visitors,\n",
        "LAG(no_of_visitors, 1) OVER() AS prev_1,\n",
        "LAG(no_of_visitors, 2) OVER() AS prev_2,\n",
        "LEAD(no_of_visitors, 1) OVER() AS next_1,\n",
        "LEAD(no_of_visitors, 2) OVER() AS next_2\n",
        "FROM  visitors\n",
        "\n",
        "),\n",
        "\n",
        "# STEP 2: The no of visitors in that date and the immediate consecutive(prev or next) should be > 100 - the case when statement calculates that column\n",
        "\n",
        "CTE2 AS (\n",
        "\n",
        "SELECT\n",
        "id, event_date,\n",
        "no_of_visitors,\n",
        "CASE WHEN (no_of_visitors > 100 and (prev_1 > 100 and prev_2 > 100)) or (no_of_visitors > 100 and (prev_1 > 100 and next_1 > 100)) or (no_of_visitors > 100 and (next_1 > 100 and next_2 > 100)) THEN 1\n",
        "ELSE 0 END AS is_high_attendance\n",
        "FROM CTE\n",
        "\n",
        ")\n",
        "\n",
        "# STEP3 : extract the rows with high attendance\n",
        "\n",
        "SELECT \n",
        "id, event_date,\n",
        "no_of_visitors\n",
        "FROM CTE2\n",
        "WHERE is_high_attendance = 1"
      ],
      "metadata": {
        "id": "CwOrDPhrQZUn"
      },
      "execution_count": null,
      "outputs": []
    }
  ]
}