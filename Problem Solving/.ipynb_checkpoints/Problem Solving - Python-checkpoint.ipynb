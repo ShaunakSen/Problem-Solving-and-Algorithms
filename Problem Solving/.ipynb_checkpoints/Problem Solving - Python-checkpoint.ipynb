{
 "cells": [
  {
   "cell_type": "markdown",
   "metadata": {},
   "source": [
    "## FB Hackathon test questions solutions"
   ]
  },
  {
   "cell_type": "code",
   "execution_count": 14,
   "metadata": {},
   "outputs": [
    {
     "name": "stdout",
     "output_type": "stream",
     "text": [
      "['4321', '3211'] ['5432', '4302']\n"
     ]
    },
    {
     "data": {
      "text/plain": [
       "8"
      ]
     },
     "execution_count": 14,
     "metadata": {},
     "output_type": "execute_result"
    }
   ],
   "source": [
    "def minimumMoves(a, m):\n",
    "    a = [str(x) for x in a]\n",
    "    m = [str(x) for x in m]\n",
    "    print (a , m)\n",
    "    return sum([\n",
    "        abs(int(f) - int(s)) \n",
    "        for x, y in zip(a, m) \n",
    "        for f, s in zip(x, y)\n",
    "    ])\n",
    "\n",
    "a = [4321, 3211]\n",
    "m = [5432, 4302]\n",
    "\n",
    "minimumMoves(a, m)"
   ]
  },
  {
   "cell_type": "code",
   "execution_count": 21,
   "metadata": {},
   "outputs": [
    {
     "name": "stdout",
     "output_type": "stream",
     "text": [
      "8\n"
     ]
    }
   ],
   "source": [
    "a = [str(x) for x in a]\n",
    "m = [str(x) for x in m]\n",
    "\n",
    "total = 0\n",
    "\n",
    "for x in range(len(a)):\n",
    "    for y in range(len(a[x])):\n",
    "        total += abs(int(a[x][y]) - int(m[x][y]))\n",
    "        \n",
    "print (total)\n",
    "    "
   ]
  },
  {
   "cell_type": "code",
   "execution_count": 5,
   "metadata": {},
   "outputs": [],
   "source": [
    "a = [4321, 3211]\n",
    "m = [5432, 4302]"
   ]
  },
  {
   "cell_type": "code",
   "execution_count": 12,
   "metadata": {},
   "outputs": [
    {
     "data": {
      "text/plain": [
       "2202"
      ]
     },
     "execution_count": 12,
     "metadata": {},
     "output_type": "execute_result"
    }
   ],
   "source": [
    "minimumMoves()"
   ]
  },
  {
   "cell_type": "code",
   "execution_count": 8,
   "metadata": {
    "scrolled": false
   },
   "outputs": [
    {
     "name": "stdout",
     "output_type": "stream",
     "text": [
      "4321 5432\n",
      "3211 4302\n"
     ]
    }
   ],
   "source": [
    "for i, j in zip(a, m):\n",
    "    print (i, j)"
   ]
  },
  {
   "cell_type": "code",
   "execution_count": 48,
   "metadata": {},
   "outputs": [
    {
     "name": "stdout",
     "output_type": "stream",
     "text": [
      "[4, 4, 4, 4]\n"
     ]
    }
   ],
   "source": [
    "\n",
    "piles = sorted([4, 4, 4 , 4], reverse=True)\n",
    "\n",
    "# find 1st and 2nd max\n",
    "\n",
    "\n",
    "\n",
    "moves = 0\n",
    "\n",
    "def move_stuff(piles):\n",
    "    \n",
    "    global moves\n",
    "    \n",
    "    print (piles)\n",
    "\n",
    "    first_max = piles[0]\n",
    "\n",
    "    sec_max_found = False\n",
    "\n",
    "    for x in range(1, len(piles)):\n",
    "        if (piles[x] < first_max):\n",
    "            sec_max = piles[x]\n",
    "            sec_max_found = True\n",
    "            break\n",
    "    \n",
    "    if not sec_max_found:\n",
    "        return \n",
    "\n",
    "    if sec_max_found:\n",
    "        first_max = sec_max\n",
    "        moves +=x \n",
    "\n",
    "    for a in range(x):\n",
    "        piles[a] = sec_max\n",
    "\n",
    "    move_stuff(piles)\n",
    "    return moves\n",
    "\n",
    "move_stuff(piles)\n",
    "\n",
    "\n"
   ]
  },
  {
   "cell_type": "code",
   "execution_count": 8,
   "metadata": {
    "scrolled": true
   },
   "outputs": [
    {
     "name": "stdout",
     "output_type": "stream",
     "text": [
      "[7, 15, 22, 37, 49, 60]\n",
      "8 15 7\n",
      "16 22 6\n",
      "23 37 14\n"
     ]
    },
    {
     "data": {
      "text/plain": [
       "14"
      ]
     },
     "execution_count": 8,
     "metadata": {},
     "output_type": "execute_result"
    }
   ],
   "source": [
    "def find_longest_clean_seq(badNumbers, left, right):\n",
    "    badNumbers = sorted(badNumbers)\n",
    "    print (badNumbers)\n",
    "    longest_seq = badNumbers[0] - left\n",
    "    a = badNumbers[0] + 1\n",
    "    \n",
    "    x = badNumbers[0] + 1\n",
    "    while x <= right:\n",
    "        if x in badNumbers:\n",
    "            seq = x - a\n",
    "            if seq > longest_seq:\n",
    "                longest_seq = seq\n",
    "            print (a, x, seq)\n",
    "            a = x + 1\n",
    "            \n",
    "        x+=1\n",
    "        \n",
    "    last_seq = right - a + 1\n",
    "    if last_seq > longest_seq:\n",
    "        return last_seq\n",
    "    else:\n",
    "        return longest_seq\n",
    "    \n",
    "    \n",
    "\n",
    "badNumbers = [37, 7, 22, 15, 49, 60]\n",
    "\n",
    "left = 3\n",
    "right = 48\n",
    "\n",
    "find_longest_clean_seq(badNumbers, left, right)"
   ]
  },
  {
   "cell_type": "markdown",
   "metadata": {},
   "source": [
    "## Counting Valleys\n",
    "\n"
   ]
  },
  {
   "cell_type": "code",
   "execution_count": 20,
   "metadata": {},
   "outputs": [
    {
     "name": "stdout",
     "output_type": "stream",
     "text": [
      "2\n"
     ]
    }
   ],
   "source": [
    "level = 0\n",
    "\n",
    "count_valley = 0\n",
    "\n",
    "under = False\n",
    "\n",
    "for step in steps:\n",
    "    if step == 'U':\n",
    "        current_level += 1\n",
    "    if step == 'D':\n",
    "        current_level -= 1\n",
    "    if current_level < 0:\n",
    "        under = True\n",
    "    if current_level >= 0 and under:\n",
    "        count_valley +=1\n",
    "        under = False\n",
    "\n",
    "print(count_valley)"
   ]
  },
  {
   "cell_type": "markdown",
   "metadata": {},
   "source": [
    "## Jumping on the Clouds\n",
    "\n"
   ]
  },
  {
   "cell_type": "code",
   "execution_count": 27,
   "metadata": {},
   "outputs": [
    {
     "name": "stdout",
     "output_type": "stream",
     "text": [
      "3\n"
     ]
    }
   ],
   "source": [
    "c = [0, 0, 1, 0, 0, 1, 0]\n",
    "c= [0, 0, 0, 1, 0, 0]\n",
    "\n",
    "\n",
    "current = 0\n",
    "\n",
    "moves = 0\n",
    "\n",
    "while current < len(c)-1:\n",
    "    \n",
    "    if current == len(c) - 2:\n",
    "        moves += 1\n",
    "        current +=1\n",
    "    \n",
    "    elif c[current+2] == 1:\n",
    "        current += 1\n",
    "        moves += 1\n",
    "    else:\n",
    "        current += 2\n",
    "        moves += 1\n",
    "        \n",
    "print (moves)"
   ]
  },
  {
   "cell_type": "markdown",
   "metadata": {},
   "source": [
    "## Repeated String\n",
    "\n"
   ]
  },
  {
   "cell_type": "code",
   "execution_count": 6,
   "metadata": {},
   "outputs": [
    {
     "data": {
      "text/plain": [
       "1000000000000"
      ]
     },
     "execution_count": 6,
     "metadata": {},
     "output_type": "execute_result"
    }
   ],
   "source": [
    "def repeatStr():\n",
    "\n",
    "    substr = 'a'\n",
    "    n = 1000000000000\n",
    "\n",
    "\n",
    "    num_repeat = int(n/len(substr))\n",
    "    # print (num_repeat)\n",
    "    extra = n%len(substr)\n",
    "    # print(extra)\n",
    "\n",
    "    count_a_1 = 0\n",
    "    count_a = 0\n",
    "\n",
    "    for char in substr:\n",
    "        if char == 'a':\n",
    "            count_a_1+=1\n",
    "            \n",
    "    # a occurs 'count_a_1' times in original seq\n",
    "    \n",
    "    # so it should occur count_a1*num_repeat in repeated seq\n",
    "\n",
    "    count_a = count_a_1 * num_repeat\n",
    "    \n",
    "    # accounting for extras\n",
    "    \n",
    "    if extra == 0:\n",
    "        return count_a\n",
    "\n",
    "    else:\n",
    "        extra_str = substr[:extra]\n",
    "        for char in extra_str:\n",
    "            if char == 'a':\n",
    "                count_a += 1\n",
    "    return count_a\n",
    "\n",
    "\n",
    "repeatStr()"
   ]
  },
  {
   "cell_type": "markdown",
   "metadata": {},
   "source": [
    "## Equalize the Array\n",
    "\n"
   ]
  },
  {
   "cell_type": "code",
   "execution_count": 16,
   "metadata": {},
   "outputs": [
    {
     "name": "stdout",
     "output_type": "stream",
     "text": [
      "3\n"
     ]
    }
   ],
   "source": [
    "arr = [1,1,2,2,5]\n",
    "\n",
    "max_num = 1\n",
    "\n",
    "for item in arr:\n",
    "    if arr.count(item) > max_num:\n",
    "        max_num = arr.count(item)\n",
    "        \n",
    "print (len(arr) - max_num)"
   ]
  },
  {
   "cell_type": "markdown",
   "metadata": {},
   "source": [
    "## Queen's Attack II\n",
    "\n"
   ]
  },
  {
   "cell_type": "code",
   "execution_count": 143,
   "metadata": {},
   "outputs": [
    {
     "name": "stdout",
     "output_type": "stream",
     "text": [
      "[1, 1] [2, 2] [1, 1] [1, 1]\n",
      "True\n",
      "6\n"
     ]
    }
   ],
   "source": [
    "def count_moves(n, r_q, c_q, obstacles):\n",
    "   \n",
    "    moves = 0\n",
    "    # up moves : till r_q to n\n",
    "    closest_up_obs = n+1\n",
    "    closest_down_obs = 0\n",
    "    for r_o, c_o in obstacles:\n",
    "        if c_o == c_q:\n",
    "            if r_o > r_q and r_o < closest_up_obs:\n",
    "                closest_up_obs = r_o\n",
    "            if r_o < r_q and r_o > closest_down_obs:\n",
    "                closest_down_obs = r_o\n",
    "    # print (closest_up_obs, closest_down_obs)\n",
    "    \n",
    "    # up moves\n",
    "    moves += closest_up_obs - r_q - 1\n",
    "    \n",
    "    # down moves\n",
    "    moves += r_q - closest_down_obs - 1\n",
    "    \n",
    "    \n",
    "    # left moves: till c_q to 1\n",
    "    closest_left_obs = 0\n",
    "    closest_right_obs = n+1\n",
    "    \n",
    "    for r_o, c_o in obstacles:\n",
    "        if r_o == r_q:\n",
    "            if c_o > c_q and c_o < closest_right_obs:\n",
    "                closest_right_obs = c_o\n",
    "            if c_o < c_q and c_o > closest_left_obs:\n",
    "                closest_left_obs = c_o\n",
    "    # print (closest_up_obs, closest_down_obs)\n",
    "    \n",
    "    # right moves\n",
    "    moves += closest_right_obs - c_q - 1\n",
    "    \n",
    "    # left moves\n",
    "    moves += c_q - closest_left_obs - 1\n",
    "    \n",
    "    \n",
    "    \n",
    "    \n",
    "    # move diag up left\n",
    "    \n",
    "    up_moves = n - r_q\n",
    "    left_moves = c_q -1\n",
    "    \n",
    "    if up_moves < left_moves:\n",
    "        closest_diag_l_u_obs = [r_q + up_moves, c_q - up_moves]\n",
    "    elif up_moves > left_moves:\n",
    "        closest_diag_l_u_obs = [r_q + left_moves, c_q - left_moves]\n",
    "    else:\n",
    "        closest_diag_l_u_obs = [n, 1]\n",
    "    \n",
    "    # print (\"closest_diag_l_u_obs\", closest_diag_l_u_obs)\n",
    "    \n",
    "    obs_presernt_l_u = False\n",
    "        \n",
    "    for r_o, c_o in obstacles:\n",
    "        diff_up = r_o - r_q\n",
    "        diff_left = c_o - c_q\n",
    "\n",
    "        if diff_up > 0 and diff_left < 0 and diff_up == abs(diff_left):\n",
    "            # up-left obstacle\n",
    "            if r_o <= closest_diag_l_u_obs[0] and c_o >= closest_diag_l_u_obs[1]:\n",
    "                closest_diag_l_u_obs[0] = r_o\n",
    "                closest_diag_l_u_obs[1] = c_o\n",
    "                obs_presernt_l_u = True\n",
    "                \n",
    "    \n",
    "    \n",
    "    # move diag up right\n",
    "    \n",
    "    up_moves = n - r_q\n",
    "    right_moves = n - c_q\n",
    "    \n",
    "    \n",
    "    if up_moves < right_moves:\n",
    "        closest_diag_r_u_obs = [n, c_q + up_moves]\n",
    "    elif up_moves > right_moves:\n",
    "        closest_diag_r_u_obs = [r_q + right_moves, n]\n",
    "    else:\n",
    "        closest_diag_r_u_obs = [n, n]\n",
    "    \n",
    "    \n",
    "    obs_presernt_r_u = False\n",
    "    \n",
    "    for r_o, c_o in obstacles:\n",
    "        diff_up = r_o - r_q\n",
    "        diff_right = c_o - c_q\n",
    "\n",
    "        if diff_up > 0 and diff_right > 0 and diff_up == diff_right:\n",
    "            # up-right obstacle\n",
    "            if r_o <= closest_diag_r_u_obs[0] and c_o <= closest_diag_r_u_obs[1]:\n",
    "                closest_diag_r_u_obs[0] = r_o\n",
    "                closest_diag_r_u_obs[1] = c_o\n",
    "                obs_presernt_r_u = True # to dectect if obs is present at edge or not\n",
    "                \n",
    "                \n",
    "    # move diag down left\n",
    "    \n",
    "    down_moves = r_q - 1\n",
    "    left_moves = c_q -1\n",
    "    \n",
    "    if down_moves < left_moves:\n",
    "        closest_diag_l_d_obs = [r_q - down_moves, c_q - down_moves]  # Proper one\n",
    "    elif down_moves > left_moves:\n",
    "        closest_diag_l_d_obs = [r_q - left_moves, c_q - left_moves]\n",
    "    else:\n",
    "        closest_diag_l_d_obs = [1, 1]\n",
    "    \n",
    "    obs_presernt_l_d = False\n",
    "    \n",
    "    for r_o, c_o in obstacles:\n",
    "        diff_down = r_o - r_q\n",
    "        diff_left = c_o - c_q\n",
    "        if diff_down < 0 and diff_left < 0 and diff_down == diff_left:\n",
    "            \n",
    "            # down-left obstacle\n",
    "            if r_o >= closest_diag_l_d_obs[0] and c_o >= closest_diag_l_d_obs[1]:\n",
    "                closest_diag_l_d_obs[0] = r_o\n",
    "                closest_diag_l_d_obs[1] = c_o\n",
    "                obs_presernt_l_d = True # to dectect if obs is present at edge or not\n",
    "                \n",
    "    # move diag down right\n",
    "    \n",
    "    down_moves = r_q - 1\n",
    "    right_moves = n - c_q\n",
    "    \n",
    "    if down_moves < right_moves:\n",
    "        closest_diag_r_d_obs = [r_q - down_moves, c_q + down_moves]  # Proper one\n",
    "    elif down_moves > right_moves:\n",
    "        closest_diag_r_d_obs = [r_q - right_moves, c_q + right_moves]\n",
    "    else:\n",
    "        closest_diag_r_d_obs = [1, n]\n",
    "        \n",
    "    obs_presernt_r_d = False\n",
    "    \n",
    "    for r_o, c_o in obstacles:\n",
    "        diff_down = r_o - r_q\n",
    "        diff_right = c_o - c_q\n",
    "\n",
    "        if diff_down < 0 and diff_right > 0 and diff_right == abs(diff_down):\n",
    "            # down-right obstacle\n",
    "            if r_o >= closest_diag_r_d_obs[0] and c_o <= closest_diag_r_d_obs[1]:\n",
    "                closest_diag_r_d_obs[0] = r_o\n",
    "                closest_diag_r_d_obs[1] = c_o\n",
    "                obs_presernt_r_d = True\n",
    "    \n",
    "    \n",
    "    # now we have the nearest diag obstacles\n",
    "    \n",
    "    \n",
    "    # right down moves\n",
    "    moves += abs(closest_diag_r_d_obs[0] - r_q)\n",
    "    if obs_presernt_r_d:\n",
    "        moves -= 1\n",
    "        \n",
    "    # right up moves\n",
    "    moves += abs(closest_diag_r_u_obs[0] - r_q)\n",
    "    if obs_presernt_r_u:\n",
    "        moves -= 1\n",
    "        \n",
    "    # left down moves\n",
    "    moves += abs(closest_diag_l_d_obs[0] - r_q)\n",
    "    if obs_presernt_l_d:\n",
    "        moves -= 1\n",
    "        \n",
    "    # left up moves\n",
    "    moves += abs(closest_diag_l_u_obs[0] - r_q)\n",
    "    if obs_presernt_l_u:\n",
    "        moves -= 1\n",
    "        \n",
    "    print (closest_diag_l_u_obs, closest_diag_r_u_obs, closest_diag_l_d_obs, closest_diag_r_d_obs)\n",
    "    print (obs_presernt_r_u)    \n",
    "    print (moves)\n",
    "        \n",
    "                \n",
    "count_moves(4, 1, 1, [(2,2)])            \n",
    "# test for move up-down    \n",
    "# count_moves(5, 3, 3, [(5,3), (4,3), (2,3), (1,3)])    \n",
    "\n",
    "def queensAttack(n, k, r_q, c_q, obstacles):\n",
    "    dimension = n\n",
    "    obstacles = k\n",
    "    \n",
    "    count_moves(dimension, r_q, c_q)"
   ]
  },
  {
   "cell_type": "markdown",
   "metadata": {},
   "source": [
    "## New Year Chaos\n"
   ]
  },
  {
   "cell_type": "code",
   "execution_count": 21,
   "metadata": {},
   "outputs": [
    {
     "name": "stdout",
     "output_type": "stream",
     "text": [
      "[1, 2, 5, 3, 7, 8, 6, 4]\n",
      "[1, 2, 3, 4, 5, 6, 7, 8]\n",
      "6\n"
     ]
    }
   ],
   "source": [
    "arr = [1, 2, 5, 3, 7, 8, 6, 4]\n",
    "\n",
    "print (arr)\n",
    "\n",
    "arr_non_bribed = list(range(len(arr)+1))\n",
    "\n",
    "arr_non_bribed = arr_non_bribed[1:]\n",
    "\n",
    "print(arr_non_bribed)\n",
    "\n",
    "bribes = 0\n",
    "\n",
    "for x in range(len(arr)):\n",
    "    if arr[x] > arr_non_bribed[x]:\n",
    "        if arr[x] - arr_non_bribed[x] > 2:\n",
    "            print (\"Too chaotic\")\n",
    "            break\n",
    "        bribes += arr[x] - arr_non_bribed[x]\n",
    "        \n",
    "print (bribes)"
   ]
  },
  {
   "cell_type": "markdown",
   "metadata": {},
   "source": [
    "## Maximize It!\n",
    "\n"
   ]
  },
  {
   "cell_type": "code",
   "execution_count": 26,
   "metadata": {},
   "outputs": [
    {
     "name": "stdout",
     "output_type": "stream",
     "text": [
      "3 4\n",
      "1 3 4\n",
      "2 3 4\n",
      "2 2 4\n"
     ]
    },
    {
     "data": {
      "text/plain": [
       "[[3, 4], [3, 4], [2, 4]]"
      ]
     },
     "execution_count": 26,
     "metadata": {},
     "output_type": "execute_result"
    }
   ],
   "source": [
    "K, M = input().split()\n",
    "\n",
    "M = int(M)\n",
    "\n",
    "lists = []\n",
    "for _ in range(int(K)):\n",
    "    # Get input and split into list\n",
    "    l = input().split()\n",
    "\n",
    "    # Turn list  of strings into list of integers\n",
    "    l = list(map(int, l))\n",
    "\n",
    "    # Remove index [0] using a slice\n",
    "    l = l[1:]\n",
    "\n",
    "    # Build list of lists\n",
    "    lists.append(l)    \n",
    "lists"
   ]
  },
  {
   "cell_type": "code",
   "execution_count": 35,
   "metadata": {
    "scrolled": true
   },
   "outputs": [
    {
     "name": "stdout",
     "output_type": "stream",
     "text": [
      "3 1000\n",
      "3 1 2 4\n",
      "2 20 12\n",
      "2 3 2\n",
      "425\n"
     ]
    }
   ],
   "source": [
    "from itertools import product\n",
    "\n",
    "def maximize_output(single_list, modulo):\n",
    "    max_elem = max(single_list)\n",
    "    if max_elem**2 < modulo:\n",
    "        return max_elem**2\n",
    "    \n",
    "    max_mod = single_list[0]**2%modulo\n",
    "    max_elem = single_list[0]\n",
    "    \n",
    "    for elem in single_list:\n",
    "        if elem**2%modulo > max_mod:\n",
    "            max_mod = elem**2%modulo\n",
    "            max_elem = elem\n",
    "    return max_elem**2\n",
    "\n",
    "x_sq_values = []\n",
    "\n",
    "K, M = input().split()\n",
    "\n",
    "M = int(M)\n",
    "\n",
    "lists = []\n",
    "\n",
    "final_results = []\n",
    "for _ in range(int(K)):\n",
    "    # Get input and split into list\n",
    "    l = input().split()\n",
    "\n",
    "    # Turn list  of strings into list of integers\n",
    "    l = list(map(int, l))\n",
    "\n",
    "    # Remove index [0] using a slice\n",
    "    l = l[1:]\n",
    "\n",
    "    # Build list of lists\n",
    "    lists.append(l)    \n",
    "\n",
    "\n",
    "\n",
    "for single_list in lists:\n",
    "    x_sq_values.append(maximize_output(single_list, M))\n",
    "\n",
    "if sum(x_sq_values) < M:\n",
    "    final_results = x_sq_values\n",
    "    print (sum(final_results)%M)\n",
    "\n",
    "else:\n",
    "    permutations = list(product(*lists))\n",
    "    modulo_results = []\n",
    "\n",
    "    for comb in permutations:\n",
    "        modulo_results.append(sum([i**2 for i in comb])%M)\n",
    "\n",
    "    print (max(modulo_results))\n",
    "\n"
   ]
  },
  {
   "cell_type": "markdown",
   "metadata": {},
   "source": [
    "## Find a string\n",
    "\n"
   ]
  },
  {
   "cell_type": "code",
   "execution_count": 53,
   "metadata": {},
   "outputs": [
    {
     "data": {
      "text/plain": [
       "2"
      ]
     },
     "execution_count": 53,
     "metadata": {},
     "output_type": "execute_result"
    }
   ],
   "source": [
    "\n",
    "string = \"ABCDCDC\"\n",
    "sub_string = \"CDC\"\n",
    "\n",
    "len_str = len(string)\n",
    "\n",
    "len_sub_str = len(sub_string)\n",
    "\n",
    "count = 0\n",
    "\n",
    "for x in range(len_str-len_sub_str+1):\n",
    "    if string[x:x+len_sub_str] == sub_string:\n",
    "        count += 1\n",
    "        \n",
    "count"
   ]
  },
  {
   "cell_type": "markdown",
   "metadata": {},
   "source": [
    "## Find Angle MBC\n",
    "\n"
   ]
  },
  {
   "cell_type": "code",
   "execution_count": 62,
   "metadata": {},
   "outputs": [
    {
     "name": "stdout",
     "output_type": "stream",
     "text": [
      "45°\n"
     ]
    }
   ],
   "source": [
    "import math\n",
    "\n",
    "AB = 10\n",
    "\n",
    "BC = 10\n",
    "\n",
    "print (str(round(math.degrees(math.atan(AB/BC))))+'°')"
   ]
  },
  {
   "cell_type": "markdown",
   "metadata": {},
   "source": [
    "## Compare the Triplets\n",
    "\n"
   ]
  },
  {
   "cell_type": "code",
   "execution_count": 2,
   "metadata": {},
   "outputs": [
    {
     "data": {
      "text/plain": [
       "[1, 1]"
      ]
     },
     "execution_count": 2,
     "metadata": {},
     "output_type": "execute_result"
    }
   ],
   "source": [
    "A = [5, 6, 7]\n",
    "B = [3, 6, 10]\n",
    "\n",
    "output = [0, 0]\n",
    "\n",
    "for x in range(len(A)):\n",
    "    if A[x] < B[x]:\n",
    "        output[1] += 1\n",
    "    elif A[x] > B[x]:\n",
    "        output[0] += 1\n",
    "        \n",
    "output"
   ]
  },
  {
   "cell_type": "markdown",
   "metadata": {},
   "source": [
    "## A Very Big Sum\n",
    "\n"
   ]
  },
  {
   "cell_type": "code",
   "execution_count": 10,
   "metadata": {
    "scrolled": true
   },
   "outputs": [
    {
     "name": "stdout",
     "output_type": "stream",
     "text": [
      "10000004000000015\n"
     ]
    },
    {
     "data": {
      "text/plain": [
       "int"
      ]
     },
     "execution_count": 10,
     "metadata": {},
     "output_type": "execute_result"
    }
   ],
   "source": [
    "numbers = [10000000000000001, 1000000002, 1000000003, 1000000004, 1000000005]\n",
    "\n",
    "print (sum(numbers))\n",
    "\n",
    "type(sum(numbers))"
   ]
  },
  {
   "cell_type": "markdown",
   "metadata": {},
   "source": [
    "## Diagonal Difference\n",
    "\n"
   ]
  },
  {
   "cell_type": "code",
   "execution_count": 16,
   "metadata": {},
   "outputs": [
    {
     "name": "stdout",
     "output_type": "stream",
     "text": [
      "[11, 5, -12, -2] [5, 6, 8, 10]\n",
      "27\n"
     ]
    }
   ],
   "source": [
    "dim = 4\n",
    "\n",
    "matrix = [[11, 2, 4, 5], [4, 5, 6, 1], [10, 8, -12, -2], [10, 8, -12, -2]]\n",
    "\n",
    "# 00 11 22 \n",
    "# 02 11 20\n",
    "\n",
    "first_diag_elems = []\n",
    "\n",
    "sec_diag_elems = []\n",
    "\n",
    "\n",
    "for x in range(dim):\n",
    "    first_diag_elems.append(matrix[x][x])\n",
    "    \n",
    "for x in range(dim):\n",
    "    sec_diag_elems.append(matrix[x][dim-1-x])\n",
    "    \n",
    "print (first_diag_elems, sec_diag_elems)\n",
    "\n",
    "print (abs(sum(first_diag_elems)-sum(sec_diag_elems)))\n"
   ]
  },
  {
   "cell_type": "markdown",
   "metadata": {},
   "source": [
    "## Time Conversion\n",
    "\n"
   ]
  },
  {
   "cell_type": "code",
   "execution_count": 45,
   "metadata": {},
   "outputs": [
    {
     "name": "stdout",
     "output_type": "stream",
     "text": [
      "12 05 45 AM\n",
      "00:05:45\n"
     ]
    }
   ],
   "source": [
    "time_12 = \"12:05:45AM\"\n",
    "\n",
    "seconds = time_12.split(':')[2][:-2]\n",
    "pre_post = time_12.split(':')[2][-2:]\n",
    "\n",
    "\n",
    "hours, minutes = time_12.split(':')[0], time_12.split(':')[1]\n",
    "\n",
    "print (hours, minutes, seconds, pre_post)\n",
    "\n",
    "\n",
    "\n",
    "time_24 = \"\"\n",
    "\n",
    "hours_24 = hours\n",
    "\n",
    "if pre_post == \"PM\" and hours != \"12\":\n",
    "    hours_24 = str(int(hours) + 12)\n",
    "\n",
    "# deal with midnight\n",
    "if hours == \"12\" and pre_post == \"AM\":\n",
    "    hours_24 = \"00\"\n",
    "    \n",
    "\n",
    "print (\":\".join([hours_24, minutes, seconds]))"
   ]
  },
  {
   "cell_type": "markdown",
   "metadata": {},
   "source": [
    "## Mini-Max Sum\n",
    "\n"
   ]
  },
  {
   "cell_type": "code",
   "execution_count": 47,
   "metadata": {},
   "outputs": [
    {
     "name": "stdout",
     "output_type": "stream",
     "text": [
      "10 14\n"
     ]
    }
   ],
   "source": [
    "arr = [1, 2, 3, 4, 5]\n",
    "\n",
    "arr = sorted(arr)\n",
    "\n",
    "max_sum = sum(arr[1:])\n",
    "\n",
    "min_sum = sum(arr[0:4])\n",
    "\n",
    "print (min_sum, max_sum)"
   ]
  },
  {
   "cell_type": "markdown",
   "metadata": {},
   "source": [
    "## Plus Minus\n",
    "\n"
   ]
  },
  {
   "cell_type": "code",
   "execution_count": 7,
   "metadata": {},
   "outputs": [
    {
     "name": "stdout",
     "output_type": "stream",
     "text": [
      "0.5 0.333333 0.166667\n"
     ]
    }
   ],
   "source": [
    "import math\n",
    "arr = [-4, 3, -9, 0, 4, 1]\n",
    "\n",
    "num_neg = 0\n",
    "num_pos = 0\n",
    "num_zero = 0\n",
    "\n",
    "for x in range(len(arr)):\n",
    "    if arr[x]>0:\n",
    "        num_pos += 1\n",
    "    elif arr[x]<0:\n",
    "        num_neg += 1\n",
    "    else:\n",
    "        num_zero += 1\n",
    "        \n",
    "        \n",
    "print (round(num_pos/len(arr), 6), round(num_neg/len(arr), 6), round(num_zero/len(arr),6))"
   ]
  },
  {
   "cell_type": "markdown",
   "metadata": {},
   "source": [
    "## Between Two Sets\n",
    "\n"
   ]
  },
  {
   "cell_type": "code",
   "execution_count": 40,
   "metadata": {},
   "outputs": [
    {
     "name": "stdout",
     "output_type": "stream",
     "text": [
      "checking: 9\n",
      "18\n",
      "checking: 18\n",
      "selected: 18\n",
      "27\n",
      "checking: 27\n",
      "36\n",
      "checking: 36\n",
      "selected: 36\n",
      "45\n",
      "num of bw: 2\n"
     ]
    }
   ],
   "source": [
    "a = [3,9,6]\n",
    "\n",
    "b = [36, 72]\n",
    "\n",
    "between = 0\n",
    "\n",
    "max_a = max(a)\n",
    "\n",
    "min_b = min(b)\n",
    "\n",
    "max_b = max(b)\n",
    "\n",
    "multiplier = 1\n",
    "\n",
    "elem = max_a\n",
    "\n",
    "\n",
    "while max_a*multiplier <= min_b:\n",
    "    \n",
    "    \n",
    "    elem = max_a * multiplier\n",
    "    \n",
    "    print (\"checking:\", elem)\n",
    "        \n",
    "    # init flag\n",
    "    flag = True\n",
    "    \n",
    "    # check elem with all a\n",
    "    for x in range(len(a)):\n",
    "        if elem%a[x]!=0:\n",
    "            flag = False\n",
    "            \n",
    "            break\n",
    "           \n",
    "    # check elem with all b\n",
    "    for x in range(len(b)):\n",
    "        if b[x]%elem!=0:\n",
    "            flag = False\n",
    "            \n",
    "            break\n",
    "            \n",
    "    \n",
    "    if flag:\n",
    "        between += 1\n",
    "        \n",
    "        print (\"selected:\",elem)\n",
    "    multiplier += 1\n",
    "    print(max_a*multiplier)\n",
    "    \n",
    "print (\"num of bw:\", between)"
   ]
  },
  {
   "cell_type": "markdown",
   "metadata": {},
   "source": [
    "## Save the Prisoner!\n",
    "\n"
   ]
  },
  {
   "cell_type": "code",
   "execution_count": 61,
   "metadata": {},
   "outputs": [
    {
     "name": "stdout",
     "output_type": "stream",
     "text": [
      "0\n",
      "3\n"
     ]
    }
   ],
   "source": [
    "n, m, s = 3,6,1\n",
    "\n",
    "simple = m%n\n",
    "\n",
    "print (simple)\n",
    "\n",
    "offset = s-1\n",
    "\n",
    "simple = simple + offset\n",
    "\n",
    "\n",
    "if simple > n:\n",
    "    simple = simple %n\n",
    "    \n",
    "if simple == 0:\n",
    "    simple = n\n",
    "\n",
    "print (simple)"
   ]
  },
  {
   "cell_type": "markdown",
   "metadata": {},
   "source": [
    "## Kangaroo"
   ]
  },
  {
   "cell_type": "code",
   "execution_count": 4,
   "metadata": {},
   "outputs": [
    {
     "name": "stdout",
     "output_type": "stream",
     "text": [
      "YES\n"
     ]
    }
   ],
   "source": [
    "x1, v1, x2, v2 = 0, 3, 4, 2\n",
    "\n",
    "# check if possible to catch up\n",
    "\n",
    "x1_min, x2_min = False, False\n",
    "\n",
    "if x1 < x2:\n",
    "    # first is behind second\n",
    "    if v1 <= v2:\n",
    "        # v1 needs to be more than v2 to catch up\n",
    "        print (\"NO\")\n",
    "    else:\n",
    "        x1_min = True\n",
    "if x2 < x1:\n",
    "    # sec is behind first\n",
    "    if v2 <= v1:\n",
    "        # v2 needs to be more than v1 to catch up\n",
    "        print (\"NO\")\n",
    "    else:\n",
    "        x2_min = True\n",
    "        \n",
    "if x1 == x2:\n",
    "    print (\"YES\")\n",
    "    \n",
    "jump = True\n",
    "\n",
    "while jump:\n",
    "    x1 = x1 + v1\n",
    "    x2 = x2 + v2\n",
    "    \n",
    "    if x1==x2:\n",
    "        print (\"YES\")\n",
    "        break\n",
    "    \n",
    "    # check if crossover\n",
    "    \n",
    "    if x1_min and x1 > x2:\n",
    "        # if 1 was behind 2 and 1 crossed 2, since 1 has higher speed, they will never meet\n",
    "        print (\"NO\")\n",
    "        break\n",
    "        \n",
    "    if x2_min and x2 > x1:\n",
    "        print (\"NO\")\n",
    "        break\n",
    "    \n",
    "    "
   ]
  },
  {
   "cell_type": "markdown",
   "metadata": {},
   "source": [
    "## Bigger is Greater\n",
    "\n"
   ]
  },
  {
   "cell_type": "code",
   "execution_count": 21,
   "metadata": {},
   "outputs": [
    {
     "name": "stdout",
     "output_type": "stream",
     "text": [
      "[(4, 3, 2, 1), (4, 3, 1, 2), (4, 2, 3, 1), (4, 2, 1, 3), (4, 1, 3, 2), (4, 1, 2, 3), (3, 4, 2, 1), (3, 4, 1, 2), (3, 2, 4, 1), (3, 2, 1, 4), (3, 1, 4, 2), (3, 1, 2, 4), (2, 4, 3, 1), (2, 4, 1, 3), (2, 3, 4, 1), (2, 3, 1, 4), (2, 1, 4, 3), (2, 1, 3, 4), (1, 4, 3, 2), (1, 4, 2, 3), (1, 3, 4, 2), (1, 3, 2, 4), (1, 2, 4, 3), (1, 2, 3, 4)]\n"
     ]
    }
   ],
   "source": [
    "from itertools import permutations\n",
    "\n",
    "a = [4,3,2,1]\n",
    "\n",
    "p = permutations(a)\n",
    "\n",
    "# Next Permutation is the immediate lexicographically larger permutation of a sequence\n",
    "\n",
    "print (list(permutations(a)))"
   ]
  },
  {
   "cell_type": "code",
   "execution_count": 23,
   "metadata": {},
   "outputs": [
    {
     "data": {
      "text/plain": [
       "True"
      ]
     },
     "execution_count": 23,
     "metadata": {},
     "output_type": "execute_result"
    }
   ],
   "source": [
    "\"bb\">\"ba\""
   ]
  },
  {
   "cell_type": "code",
   "execution_count": 39,
   "metadata": {},
   "outputs": [
    {
     "name": "stdout",
     "output_type": "stream",
     "text": [
      "[('k', 'h', 'd', 'c'), ('k', 'h', 'c', 'd'), ('k', 'd', 'h', 'c'), ('k', 'd', 'c', 'h'), ('k', 'c', 'h', 'd'), ('k', 'c', 'd', 'h'), ('h', 'k', 'd', 'c'), ('h', 'k', 'c', 'd'), ('h', 'd', 'k', 'c'), ('h', 'd', 'c', 'k'), ('h', 'c', 'k', 'd'), ('h', 'c', 'd', 'k'), ('d', 'k', 'h', 'c'), ('d', 'k', 'c', 'h'), ('d', 'h', 'k', 'c'), ('d', 'h', 'c', 'k'), ('d', 'c', 'k', 'h'), ('d', 'c', 'h', 'k'), ('c', 'k', 'h', 'd'), ('c', 'k', 'd', 'h'), ('c', 'h', 'k', 'd'), ('c', 'h', 'd', 'k'), ('c', 'd', 'k', 'h'), ('c', 'd', 'h', 'k')]\n",
      "cdhk\n"
     ]
    }
   ],
   "source": [
    "my_str = \"dkhc\"\n",
    "\n",
    "set_of_strs = list(permutations(my_str))\n",
    "\n",
    "print (sorted(set_of_strs))\n",
    "\n",
    "for elem in sorted(set_of_strs):\n",
    "    if elem > tuple(my_str):\n",
    "        print (\"\".join(elem))\n",
    "        break"
   ]
  },
  {
   "cell_type": "markdown",
   "metadata": {},
   "source": [
    "## Migratory Birds\n",
    "\n"
   ]
  },
  {
   "cell_type": "code",
   "execution_count": 6,
   "metadata": {},
   "outputs": [
    {
     "name": "stdout",
     "output_type": "stream",
     "text": [
      "[1, 2, 2, 3, 3, 3]\n",
      "3\n"
     ]
    }
   ],
   "source": [
    "arr = [1, 2, 3, 2, 3, 3]\n",
    "\n",
    "arr = sorted(arr)\n",
    "\n",
    "print (arr)\n",
    "\n",
    "most_freq = arr[0]\n",
    "curr_count = 1\n",
    "max_count = 1\n",
    "\n",
    "for x in range(len(arr)-1):\n",
    "    if arr[x] == arr[x+1]:\n",
    "        curr_count += 1\n",
    "        if curr_count > max_count:\n",
    "            most_freq = arr[x]\n",
    "            max_count = curr_count\n",
    "    else:\n",
    "        curr_count = 1\n",
    "        \n",
    "print (most_freq)"
   ]
  },
  {
   "cell_type": "markdown",
   "metadata": {},
   "source": [
    "## Chocolate Feast"
   ]
  },
  {
   "cell_type": "code",
   "execution_count": 19,
   "metadata": {},
   "outputs": [
    {
     "name": "stdout",
     "output_type": "stream",
     "text": [
      "Start 2 0\n",
      "End 1 2\n",
      "3\n"
     ]
    }
   ],
   "source": [
    "n, c, m = 9, 4, 2\n",
    "\n",
    "num_chocolates = int(n/c)\n",
    "\n",
    "eaten_total = 0\n",
    "\n",
    "while num_chocolates >= m:\n",
    "    eaten = 0\n",
    "    print (\"Start\", num_chocolates, eaten)\n",
    "    eaten_total += m\n",
    "    eaten = m\n",
    "    num_chocolates = num_chocolates - eaten + 1\n",
    "    print (\"End\", num_chocolates, eaten)\n",
    "    \n",
    "    \n",
    "eaten_total = eaten_total + num_chocolates\n",
    "\n",
    "print (int(eaten_total))"
   ]
  },
  {
   "cell_type": "markdown",
   "metadata": {},
   "source": [
    "## Absolute Permutation\n",
    "\n"
   ]
  },
  {
   "cell_type": "code",
   "execution_count": 49,
   "metadata": {},
   "outputs": [
    {
     "data": {
      "text/plain": [
       "1"
      ]
     },
     "execution_count": 49,
     "metadata": {},
     "output_type": "execute_result"
    }
   ],
   "source": [
    "hash_table = {\n",
    "    1: 1,\n",
    "    2: 1\n",
    "}\n",
    "\n",
    "hash_table.get(1)"
   ]
  },
  {
   "cell_type": "code",
   "execution_count": 51,
   "metadata": {
    "scrolled": false
   },
   "outputs": [
    {
     "name": "stdout",
     "output_type": "stream",
     "text": [
      "[1, 2, 3, 4, 5, 6, 7, 8, 9, 10]\n",
      "-2 4\n",
      "-1 5\n",
      "0 6\n",
      "1 7\n",
      "2 8\n",
      "3 9\n",
      "4 10\n",
      "5 11\n",
      "6 12\n",
      "7 13\n",
      "-1\n",
      "[4, 5, 6, 1, 2, 3, 10, 7]\n"
     ]
    }
   ],
   "source": [
    "n,k = 10, 3\n",
    "\n",
    "\n",
    "arr = list(range(1, n+1))\n",
    "\n",
    "print (arr)\n",
    "\n",
    "seq = []\n",
    "\n",
    "min_elem = min(arr)\n",
    "\n",
    "max_elem = max(arr)\n",
    "\n",
    "hash_table = {}\n",
    "\n",
    "\n",
    "\n",
    "for x in range(len(arr)):\n",
    "    num1 = arr[x] - k\n",
    "    num2 = arr[x] + k\n",
    "    \n",
    "    print (num1, num2)\n",
    "    \n",
    "    if (num1 < min_elem or num1 > max_elem) and (num2 < min_elem or num2 > max_elem):\n",
    "        # both poss out of range\n",
    "        print (\"-1\")\n",
    "        break\n",
    "        \n",
    "    if num1 >= min_elem and num1 <= max_elem and hash_table.get(num1)!=1:\n",
    "        num_reqd = num1\n",
    "        seq.append(num1)\n",
    "        hash_table[num1] = 1\n",
    "        \n",
    "    elif num2 >= min_elem and num2 <= max_elem and hash_table.get(num2)!=1:\n",
    "        num_reqd = num2\n",
    "        seq.append(num2)\n",
    "        hash_table[num2] = 1\n",
    "        \n",
    "    \n",
    "if len(seq) != len(arr):\n",
    "    print (\"-1\")\n",
    "        \n",
    "print (seq)"
   ]
  },
  {
   "cell_type": "markdown",
   "metadata": {},
   "source": [
    "## Minimum Cost of ropes - time lim exceeded"
   ]
  },
  {
   "cell_type": "code",
   "execution_count": null,
   "metadata": {},
   "outputs": [],
   "source": [
    "def selectMin(arr):\n",
    "    curr_min = arr[0]\n",
    "    idx = 0\n",
    "    \n",
    "    for x in range(1, len(arr)):\n",
    "        if arr[x] < curr_min:\n",
    "            idx = x\n",
    "            curr_min = arr[x]\n",
    "    return idx, curr_min\n",
    "\n",
    "# selectMin(arr)  \n",
    "\n",
    "def cut_rope(arr):\n",
    "    \n",
    "\n",
    "    total_sum = 0\n",
    "\n",
    "    count = 0\n",
    "\n",
    "    # print (selectMin(arr))\n",
    "    \n",
    "    if len(arr) <= 2:\n",
    "        return sum(arr)\n",
    "\n",
    "\n",
    "    while len(arr) >= 2:\n",
    "        # print (arr)\n",
    "        first_idx, first_elem = selectMin(arr)\n",
    "        arr.pop(first_idx)\n",
    "        second_idx, second_elem = selectMin(arr)\n",
    "        arr.pop(second_idx)\n",
    "\n",
    "        # print (first_elem, second_elem)\n",
    "\n",
    "        curr_sum = first_elem + second_elem\n",
    "        arr.append(curr_sum)\n",
    "        total_sum += curr_sum\n",
    "\n",
    "\n",
    "    # print (arr)\n",
    "\n",
    "    return total_sum\n",
    "\n",
    "\n",
    "T = int(input())\n",
    "for x in range(T):\n",
    "    \n",
    "    N = int(input())\n",
    "    ar = list(map(int, input().rstrip().split()))\n",
    "    # print (ar)\n",
    "    print (cut_rope(ar))"
   ]
  }
 ],
 "metadata": {
  "kernelspec": {
   "display_name": "Python 3",
   "language": "python",
   "name": "python3"
  },
  "language_info": {
   "codemirror_mode": {
    "name": "ipython",
    "version": 3
   },
   "file_extension": ".py",
   "mimetype": "text/x-python",
   "name": "python",
   "nbconvert_exporter": "python",
   "pygments_lexer": "ipython3",
   "version": "3.6.8"
  }
 },
 "nbformat": 4,
 "nbformat_minor": 2
}
