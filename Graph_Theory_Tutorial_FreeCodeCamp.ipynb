{
  "nbformat": 4,
  "nbformat_minor": 0,
  "metadata": {
    "colab": {
      "name": "Graph Theory Tutorial - FreeCodeCamp.ipynb",
      "provenance": [],
      "collapsed_sections": [],
      "authorship_tag": "ABX9TyMQgjZn2InKbPtUUlX93RpD",
      "include_colab_link": true
    },
    "kernelspec": {
      "name": "python3",
      "display_name": "Python 3"
    }
  },
  "cells": [
    {
      "cell_type": "markdown",
      "metadata": {
        "id": "view-in-github",
        "colab_type": "text"
      },
      "source": [
        "<a href=\"https://colab.research.google.com/github/ShaunakSen/problem-solving-with-code/blob/master/Graph_Theory_Tutorial_FreeCodeCamp.ipynb\" target=\"_parent\"><img src=\"https://colab.research.google.com/assets/colab-badge.svg\" alt=\"Open In Colab\"/></a>"
      ]
    },
    {
      "cell_type": "markdown",
      "metadata": {
        "id": "hfAODb8909ds",
        "colab_type": "text"
      },
      "source": [
        "## Algorithms Course - Graph Theory Tutorial\n",
        "\n",
        "> Based on the video by FreeCodeCamp: https://www.youtube.com/watch?v=09_LlHjoEiY\n",
        "\n",
        "---\n",
        "\n",
        "### Introduction\n",
        "\n",
        "#### Examples\n",
        "\n",
        "![](https://i.imgur.com/3z7W4a0.png)\n",
        "\n",
        "A simple problem is:\n",
        "\n",
        "I want to select a type of cloth from each category\n",
        "How many outfits can I make?\n",
        "\n",
        "Nodes: Article of clothing\n",
        "Edge: relationships\n",
        "\n",
        "![](https://i.imgur.com/7ugq7EY.png)\n",
        "\n",
        "Another example is a social nw of friends.\n",
        "\n",
        "We can answer interesting questions like:\n",
        "\n",
        "1. How many friends does X have?\n",
        "2. How many degrees of separation are there bw X and Y\n",
        "\n",
        "### Types of graphs\n",
        "\n",
        "#### Undirected graph\n",
        "\n",
        "![](https://i.imgur.com/sJw0dOJ.png)\n",
        "\n",
        "#### Directed graphs\n",
        "\n",
        "![](https://i.imgur.com/gZSLc36.png)\n",
        "\n",
        "#### Weighted graphs\n",
        "\n",
        "Note: it can be directed as well as undirected\n",
        "\n",
        "![](https://i.imgur.com/w4ttO4K.png)\n",
        "\n",
        "#### Special graphs\n",
        "\n",
        "**Trees**\n",
        "\n",
        "![](https://i.imgur.com/0Ji59f0.png)\n",
        "\n",
        "**Rooted Trees**\n",
        "\n",
        "![](https://i.imgur.com/GIfNZRr.png)\n",
        "\n",
        "**Direcetd Acyclic Graphs**\n",
        "\n",
        "These graphs can represent structures with dependencies such as university class prerequisites\n",
        "\n",
        "![](https://i.imgur.com/ole5eC6.png)\n",
        "\n",
        "There are several algos for this, for example how to find the shortes path and find a topological ordering of nodes, which is an ordering of nodes st no task is completed before its dependencies.\n",
        "\n",
        "**Bipartite Graphs**\n",
        "\n",
        "![](https://i.imgur.com/lfLrJJB.png)\n",
        "\n",
        "Example prob: what is the max matching we can create in a bipartite graph?\n",
        "\n",
        "- say white nodes are jobs and red are people, how many people can be matched to jobs?\n",
        "\n",
        "**Complete graphs**\n",
        "\n",
        "![](https://i.imgur.com/3X0h1Nu.png)\n",
        "\n",
        "These are the worst case graphs we can encounter as it has the max edges for a given number of nodes.\n",
        "\n",
        "So if we want to test our algo for performance, we can use this\n",
        "\n"
      ]
    },
    {
      "cell_type": "code",
      "metadata": {
        "id": "zP1ts_bNziKG",
        "colab_type": "code",
        "colab": {}
      },
      "source": [
        ""
      ],
      "execution_count": null,
      "outputs": []
    }
  ]
}